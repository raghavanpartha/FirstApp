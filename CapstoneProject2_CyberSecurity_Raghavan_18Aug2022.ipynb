{
 "cells": [
  {
   "cell_type": "markdown",
   "metadata": {},
   "source": [
    "Sri"
   ]
  },
  {
   "cell_type": "markdown",
   "metadata": {},
   "source": [
    "Project goal: Classify website as a phlishing or not; \n",
    "Author - Srinvasa Raghavan Partha sarathy"
   ]
  },
  {
   "cell_type": "markdown",
   "metadata": {},
   "source": [
    "# Project Task: Week 1\n",
    "\n",
    "- Exploratory Data Analysis:\n",
    "- Each sample has 32 features ranging from -1,0,1. Explore the data using histogram, heatmaps. \n",
    "- Determine the number of samples present in the data, unique elements in all the features. \n",
    "- Check if there is any null value in any features. \n",
    "- Correlation of features and feature selection:\n",
    "- Next, we have to find if there are any correlated features present in the data. Remove the feature which might be correlated with some threshold."
   ]
  },
  {
   "cell_type": "markdown",
   "metadata": {},
   "source": [
    "Import packages"
   ]
  },
  {
   "cell_type": "code",
   "execution_count": 1,
   "metadata": {},
   "outputs": [],
   "source": [
    "import numpy as np\n",
    "import pandas as pd\n",
    "from sklearn import metrics\n",
    "import matplotlib.pyplot as plt\n",
    "import seaborn as sns\n",
    "import datetime\n",
    "import calendar\n",
    "import warnings\n",
    "from sklearn import metrics"
   ]
  },
  {
   "cell_type": "markdown",
   "metadata": {},
   "source": [
    "Input data set file as a data frame"
   ]
  },
  {
   "cell_type": "code",
   "execution_count": 2,
   "metadata": {},
   "outputs": [
    {
     "name": "stdout",
     "output_type": "stream",
     "text": [
      "(11055, 32)\n"
     ]
    }
   ],
   "source": [
    "# Read csv files into df data frame. \n",
    "df = pd.read_csv('dataset.csv')\n",
    "print(df.shape)"
   ]
  },
  {
   "cell_type": "markdown",
   "metadata": {},
   "source": [
    "Perform EDA"
   ]
  },
  {
   "cell_type": "code",
   "execution_count": 3,
   "metadata": {},
   "outputs": [
    {
     "name": "stdout",
     "output_type": "stream",
     "text": [
      "   index  having_IPhaving_IP_Address  URLURL_Length  Shortining_Service  \\\n",
      "0      1                          -1              1                   1   \n",
      "1      2                           1              1                   1   \n",
      "2      3                           1              0                   1   \n",
      "3      4                           1              0                   1   \n",
      "4      5                           1              0                  -1   \n",
      "\n",
      "   having_At_Symbol  double_slash_redirecting  Prefix_Suffix  \\\n",
      "0                 1                        -1             -1   \n",
      "1                 1                         1             -1   \n",
      "2                 1                         1             -1   \n",
      "3                 1                         1             -1   \n",
      "4                 1                         1             -1   \n",
      "\n",
      "   having_Sub_Domain  SSLfinal_State  Domain_registeration_length  ...  \\\n",
      "0                 -1              -1                           -1  ...   \n",
      "1                  0               1                           -1  ...   \n",
      "2                 -1              -1                           -1  ...   \n",
      "3                 -1              -1                            1  ...   \n",
      "4                  1               1                           -1  ...   \n",
      "\n",
      "   popUpWidnow  Iframe  age_of_domain  DNSRecord  web_traffic  Page_Rank  \\\n",
      "0            1       1             -1         -1           -1         -1   \n",
      "1            1       1             -1         -1            0         -1   \n",
      "2            1       1              1         -1            1         -1   \n",
      "3            1       1             -1         -1            1         -1   \n",
      "4           -1       1             -1         -1            0         -1   \n",
      "\n",
      "   Google_Index  Links_pointing_to_page  Statistical_report  Result  \n",
      "0             1                       1                  -1      -1  \n",
      "1             1                       1                   1      -1  \n",
      "2             1                       0                  -1      -1  \n",
      "3             1                      -1                   1      -1  \n",
      "4             1                       1                   1       1  \n",
      "\n",
      "[5 rows x 32 columns]\n",
      "       index  having_IPhaving_IP_Address  URLURL_Length  Shortining_Service  \\\n",
      "11050  11051                           1             -1                   1   \n",
      "11051  11052                          -1              1                   1   \n",
      "11052  11053                           1             -1                   1   \n",
      "11053  11054                          -1             -1                   1   \n",
      "11054  11055                          -1             -1                   1   \n",
      "\n",
      "       having_At_Symbol  double_slash_redirecting  Prefix_Suffix  \\\n",
      "11050                -1                         1              1   \n",
      "11051                -1                        -1             -1   \n",
      "11052                 1                         1             -1   \n",
      "11053                 1                         1             -1   \n",
      "11054                 1                         1             -1   \n",
      "\n",
      "       having_Sub_Domain  SSLfinal_State  Domain_registeration_length  ...  \\\n",
      "11050                  1               1                           -1  ...   \n",
      "11051                  1              -1                           -1  ...   \n",
      "11052                  1              -1                           -1  ...   \n",
      "11053                 -1              -1                            1  ...   \n",
      "11054                 -1              -1                            1  ...   \n",
      "\n",
      "       popUpWidnow  Iframe  age_of_domain  DNSRecord  web_traffic  Page_Rank  \\\n",
      "11050           -1      -1              1          1           -1         -1   \n",
      "11051           -1       1              1          1            1          1   \n",
      "11052            1       1              1          1            1         -1   \n",
      "11053           -1       1              1          1            1         -1   \n",
      "11054            1       1             -1          1           -1         -1   \n",
      "\n",
      "       Google_Index  Links_pointing_to_page  Statistical_report  Result  \n",
      "11050             1                       1                   1       1  \n",
      "11051             1                      -1                   1      -1  \n",
      "11052             1                       0                   1      -1  \n",
      "11053             1                       1                   1      -1  \n",
      "11054            -1                       1                  -1      -1  \n",
      "\n",
      "[5 rows x 32 columns]\n",
      "Index(['index', 'having_IPhaving_IP_Address', 'URLURL_Length',\n",
      "       'Shortining_Service', 'having_At_Symbol', 'double_slash_redirecting',\n",
      "       'Prefix_Suffix', 'having_Sub_Domain', 'SSLfinal_State',\n",
      "       'Domain_registeration_length', 'Favicon', 'port', 'HTTPS_token',\n",
      "       'Request_URL', 'URL_of_Anchor', 'Links_in_tags', 'SFH',\n",
      "       'Submitting_to_email', 'Abnormal_URL', 'Redirect', 'on_mouseover',\n",
      "       'RightClick', 'popUpWidnow', 'Iframe', 'age_of_domain', 'DNSRecord',\n",
      "       'web_traffic', 'Page_Rank', 'Google_Index', 'Links_pointing_to_page',\n",
      "       'Statistical_report', 'Result'],\n",
      "      dtype='object')\n",
      "              index  having_IPhaving_IP_Address  URLURL_Length  \\\n",
      "count  11055.000000                11055.000000   11055.000000   \n",
      "mean    5528.000000                    0.313795      -0.633198   \n",
      "std     3191.447947                    0.949534       0.766095   \n",
      "min        1.000000                   -1.000000      -1.000000   \n",
      "25%     2764.500000                   -1.000000      -1.000000   \n",
      "50%     5528.000000                    1.000000      -1.000000   \n",
      "75%     8291.500000                    1.000000      -1.000000   \n",
      "max    11055.000000                    1.000000       1.000000   \n",
      "\n",
      "       Shortining_Service  having_At_Symbol  double_slash_redirecting  \\\n",
      "count        11055.000000      11055.000000              11055.000000   \n",
      "mean             0.738761          0.700588                  0.741474   \n",
      "std              0.673998          0.713598                  0.671011   \n",
      "min             -1.000000         -1.000000                 -1.000000   \n",
      "25%              1.000000          1.000000                  1.000000   \n",
      "50%              1.000000          1.000000                  1.000000   \n",
      "75%              1.000000          1.000000                  1.000000   \n",
      "max              1.000000          1.000000                  1.000000   \n",
      "\n",
      "       Prefix_Suffix  having_Sub_Domain  SSLfinal_State  \\\n",
      "count   11055.000000       11055.000000    11055.000000   \n",
      "mean       -0.734962           0.063953        0.250927   \n",
      "std         0.678139           0.817518        0.911892   \n",
      "min        -1.000000          -1.000000       -1.000000   \n",
      "25%        -1.000000          -1.000000       -1.000000   \n",
      "50%        -1.000000           0.000000        1.000000   \n",
      "75%        -1.000000           1.000000        1.000000   \n",
      "max         1.000000           1.000000        1.000000   \n",
      "\n",
      "       Domain_registeration_length  ...   popUpWidnow        Iframe  \\\n",
      "count                 11055.000000  ...  11055.000000  11055.000000   \n",
      "mean                     -0.336771  ...      0.613388      0.816915   \n",
      "std                       0.941629  ...      0.789818      0.576784   \n",
      "min                      -1.000000  ...     -1.000000     -1.000000   \n",
      "25%                      -1.000000  ...      1.000000      1.000000   \n",
      "50%                      -1.000000  ...      1.000000      1.000000   \n",
      "75%                       1.000000  ...      1.000000      1.000000   \n",
      "max                       1.000000  ...      1.000000      1.000000   \n",
      "\n",
      "       age_of_domain     DNSRecord   web_traffic     Page_Rank  Google_Index  \\\n",
      "count   11055.000000  11055.000000  11055.000000  11055.000000  11055.000000   \n",
      "mean        0.061239      0.377114      0.287291     -0.483673      0.721574   \n",
      "std         0.998168      0.926209      0.827733      0.875289      0.692369   \n",
      "min        -1.000000     -1.000000     -1.000000     -1.000000     -1.000000   \n",
      "25%        -1.000000     -1.000000      0.000000     -1.000000      1.000000   \n",
      "50%         1.000000      1.000000      1.000000     -1.000000      1.000000   \n",
      "75%         1.000000      1.000000      1.000000      1.000000      1.000000   \n",
      "max         1.000000      1.000000      1.000000      1.000000      1.000000   \n",
      "\n",
      "       Links_pointing_to_page  Statistical_report        Result  \n",
      "count            11055.000000        11055.000000  11055.000000  \n",
      "mean                 0.344007            0.719584      0.113885  \n",
      "std                  0.569944            0.694437      0.993539  \n",
      "min                 -1.000000           -1.000000     -1.000000  \n",
      "25%                  0.000000            1.000000     -1.000000  \n",
      "50%                  0.000000            1.000000      1.000000  \n",
      "75%                  1.000000            1.000000      1.000000  \n",
      "max                  1.000000            1.000000      1.000000  \n",
      "\n",
      "[8 rows x 32 columns]\n"
     ]
    }
   ],
   "source": [
    "print(df.head())\n",
    "print(df.tail())\n",
    "print(df.columns)\n",
    "print(df.describe())"
   ]
  },
  {
   "cell_type": "code",
   "execution_count": 4,
   "metadata": {},
   "outputs": [
    {
     "name": "stdout",
     "output_type": "stream",
     "text": [
      "<class 'pandas.core.frame.DataFrame'>\n",
      "RangeIndex: 11055 entries, 0 to 11054\n",
      "Data columns (total 32 columns):\n",
      " #   Column                       Non-Null Count  Dtype\n",
      "---  ------                       --------------  -----\n",
      " 0   index                        11055 non-null  int64\n",
      " 1   having_IPhaving_IP_Address   11055 non-null  int64\n",
      " 2   URLURL_Length                11055 non-null  int64\n",
      " 3   Shortining_Service           11055 non-null  int64\n",
      " 4   having_At_Symbol             11055 non-null  int64\n",
      " 5   double_slash_redirecting     11055 non-null  int64\n",
      " 6   Prefix_Suffix                11055 non-null  int64\n",
      " 7   having_Sub_Domain            11055 non-null  int64\n",
      " 8   SSLfinal_State               11055 non-null  int64\n",
      " 9   Domain_registeration_length  11055 non-null  int64\n",
      " 10  Favicon                      11055 non-null  int64\n",
      " 11  port                         11055 non-null  int64\n",
      " 12  HTTPS_token                  11055 non-null  int64\n",
      " 13  Request_URL                  11055 non-null  int64\n",
      " 14  URL_of_Anchor                11055 non-null  int64\n",
      " 15  Links_in_tags                11055 non-null  int64\n",
      " 16  SFH                          11055 non-null  int64\n",
      " 17  Submitting_to_email          11055 non-null  int64\n",
      " 18  Abnormal_URL                 11055 non-null  int64\n",
      " 19  Redirect                     11055 non-null  int64\n",
      " 20  on_mouseover                 11055 non-null  int64\n",
      " 21  RightClick                   11055 non-null  int64\n",
      " 22  popUpWidnow                  11055 non-null  int64\n",
      " 23  Iframe                       11055 non-null  int64\n",
      " 24  age_of_domain                11055 non-null  int64\n",
      " 25  DNSRecord                    11055 non-null  int64\n",
      " 26  web_traffic                  11055 non-null  int64\n",
      " 27  Page_Rank                    11055 non-null  int64\n",
      " 28  Google_Index                 11055 non-null  int64\n",
      " 29  Links_pointing_to_page       11055 non-null  int64\n",
      " 30  Statistical_report           11055 non-null  int64\n",
      " 31  Result                       11055 non-null  int64\n",
      "dtypes: int64(32)\n",
      "memory usage: 2.7 MB\n",
      "None\n"
     ]
    }
   ],
   "source": [
    "print(df.info())"
   ]
  },
  {
   "cell_type": "markdown",
   "metadata": {},
   "source": [
    "Task: Check if any column is having null values"
   ]
  },
  {
   "cell_type": "code",
   "execution_count": 5,
   "metadata": {},
   "outputs": [
    {
     "data": {
      "text/plain": [
       "index                          0\n",
       "having_IPhaving_IP_Address     0\n",
       "URLURL_Length                  0\n",
       "Shortining_Service             0\n",
       "having_At_Symbol               0\n",
       "double_slash_redirecting       0\n",
       "Prefix_Suffix                  0\n",
       "having_Sub_Domain              0\n",
       "SSLfinal_State                 0\n",
       "Domain_registeration_length    0\n",
       "Favicon                        0\n",
       "port                           0\n",
       "HTTPS_token                    0\n",
       "Request_URL                    0\n",
       "URL_of_Anchor                  0\n",
       "Links_in_tags                  0\n",
       "SFH                            0\n",
       "Submitting_to_email            0\n",
       "Abnormal_URL                   0\n",
       "Redirect                       0\n",
       "on_mouseover                   0\n",
       "RightClick                     0\n",
       "popUpWidnow                    0\n",
       "Iframe                         0\n",
       "age_of_domain                  0\n",
       "DNSRecord                      0\n",
       "web_traffic                    0\n",
       "Page_Rank                      0\n",
       "Google_Index                   0\n",
       "Links_pointing_to_page         0\n",
       "Statistical_report             0\n",
       "Result                         0\n",
       "dtype: int64"
      ]
     },
     "execution_count": 5,
     "metadata": {},
     "output_type": "execute_result"
    }
   ],
   "source": [
    "df.isna().sum()"
   ]
  },
  {
   "cell_type": "markdown",
   "metadata": {},
   "source": [
    "Inference: All columns have legit values that can be used."
   ]
  },
  {
   "cell_type": "markdown",
   "metadata": {},
   "source": [
    "Task: If for any column(s), the variance is equal to zero, then you need to remove those variable(s)."
   ]
  },
  {
   "cell_type": "code",
   "execution_count": 6,
   "metadata": {},
   "outputs": [
    {
     "name": "stdout",
     "output_type": "stream",
     "text": [
      "Train data null- False\n"
     ]
    }
   ],
   "source": [
    "print('Train data null-',df.isnull().sum().any())"
   ]
  },
  {
   "cell_type": "code",
   "execution_count": 7,
   "metadata": {},
   "outputs": [
    {
     "data": {
      "text/plain": [
       "index                          3191.447947\n",
       "having_IPhaving_IP_Address        0.949534\n",
       "URLURL_Length                     0.766095\n",
       "Shortining_Service                0.673998\n",
       "having_At_Symbol                  0.713598\n",
       "double_slash_redirecting          0.671011\n",
       "Prefix_Suffix                     0.678139\n",
       "having_Sub_Domain                 0.817518\n",
       "SSLfinal_State                    0.911892\n",
       "Domain_registeration_length       0.941629\n",
       "Favicon                           0.777777\n",
       "port                              0.685324\n",
       "HTTPS_token                       0.737779\n",
       "Request_URL                       0.982444\n",
       "URL_of_Anchor                     0.715138\n",
       "Links_in_tags                     0.763973\n",
       "SFH                               0.759143\n",
       "Submitting_to_email               0.772021\n",
       "Abnormal_URL                      0.708949\n",
       "Redirect                          0.319872\n",
       "on_mouseover                      0.647490\n",
       "RightClick                        0.405991\n",
       "popUpWidnow                       0.789818\n",
       "Iframe                            0.576784\n",
       "age_of_domain                     0.998168\n",
       "DNSRecord                         0.926209\n",
       "web_traffic                       0.827733\n",
       "Page_Rank                         0.875289\n",
       "Google_Index                      0.692369\n",
       "Links_pointing_to_page            0.569944\n",
       "Statistical_report                0.694437\n",
       "Result                            0.993539\n",
       "dtype: float64"
      ]
     },
     "execution_count": 7,
     "metadata": {},
     "output_type": "execute_result"
    }
   ],
   "source": [
    "# Use this to check if there are some columns with 'zero' variance or std deviation \n",
    "df.std()"
   ]
  },
  {
   "cell_type": "markdown",
   "metadata": {},
   "source": [
    "Note: No column has zero variance; That means, all columns have legit data"
   ]
  },
  {
   "cell_type": "code",
   "execution_count": 8,
   "metadata": {},
   "outputs": [],
   "source": [
    "# Drop the index column since acts as a primary key and has no significance in EDA and model building\n",
    "df = df.drop(columns=['index'])"
   ]
  },
  {
   "cell_type": "code",
   "execution_count": 9,
   "metadata": {},
   "outputs": [
    {
     "name": "stdout",
     "output_type": "stream",
     "text": [
      "Index([], dtype='object')\n"
     ]
    },
    {
     "data": {
      "text/plain": [
       "(11055, 31)"
      ]
     },
     "execution_count": 9,
     "metadata": {},
     "output_type": "execute_result"
    }
   ],
   "source": [
    "### Method number 1 to eliminate columns with zero variance or standard deviation\n",
    "cols = df.select_dtypes([np.number]).columns\n",
    "std = df[cols].std()\n",
    "cols_to_drop = std[std==0].index\n",
    "print(cols_to_drop)\n",
    "df.shape"
   ]
  },
  {
   "cell_type": "code",
   "execution_count": 10,
   "metadata": {},
   "outputs": [
    {
     "data": {
      "text/plain": [
       "(11055, 31)"
      ]
     },
     "execution_count": 10,
     "metadata": {},
     "output_type": "execute_result"
    }
   ],
   "source": [
    "### Method number 2 to eliminate columns with zero variance or standard deviation\n",
    "df = df.drop(df.std()[(df.std() == 0)].index, axis=1)\n",
    "df.shape"
   ]
  },
  {
   "cell_type": "markdown",
   "metadata": {},
   "source": [
    "Inference: There are 0 columns / features that have no variations (Variance = Std deviation = 0); Hence no column is potential to be dropped from modeling, except 'index'"
   ]
  },
  {
   "cell_type": "markdown",
   "metadata": {},
   "source": [
    "Task: Check for null and unique values for test and train sets."
   ]
  },
  {
   "cell_type": "code",
   "execution_count": 11,
   "metadata": {},
   "outputs": [
    {
     "name": "stdout",
     "output_type": "stream",
     "text": [
      "having_IPhaving_IP_Address int64\n",
      "[-1  1]\n",
      "0\n",
      "---------------------\n",
      "URLURL_Length int64\n",
      "[ 1  0 -1]\n",
      "0\n",
      "---------------------\n",
      "Shortining_Service int64\n",
      "[ 1 -1]\n",
      "0\n",
      "---------------------\n",
      "having_At_Symbol int64\n",
      "[ 1 -1]\n",
      "0\n",
      "---------------------\n",
      "double_slash_redirecting int64\n",
      "[-1  1]\n",
      "0\n",
      "---------------------\n",
      "Prefix_Suffix int64\n",
      "[-1  1]\n",
      "0\n",
      "---------------------\n",
      "having_Sub_Domain int64\n",
      "[-1  0  1]\n",
      "0\n",
      "---------------------\n",
      "SSLfinal_State int64\n",
      "[-1  1  0]\n",
      "0\n",
      "---------------------\n",
      "Domain_registeration_length int64\n",
      "[-1  1]\n",
      "0\n",
      "---------------------\n",
      "Favicon int64\n",
      "[ 1 -1]\n",
      "0\n",
      "---------------------\n",
      "port int64\n",
      "[ 1 -1]\n",
      "0\n",
      "---------------------\n",
      "HTTPS_token int64\n",
      "[-1  1]\n",
      "0\n",
      "---------------------\n",
      "Request_URL int64\n",
      "[ 1 -1]\n",
      "0\n",
      "---------------------\n",
      "URL_of_Anchor int64\n",
      "[-1  0  1]\n",
      "0\n",
      "---------------------\n",
      "Links_in_tags int64\n",
      "[ 1 -1  0]\n",
      "0\n",
      "---------------------\n",
      "SFH int64\n",
      "[-1  1  0]\n",
      "0\n",
      "---------------------\n",
      "Submitting_to_email int64\n",
      "[-1  1]\n",
      "0\n",
      "---------------------\n",
      "Abnormal_URL int64\n",
      "[-1  1]\n",
      "0\n",
      "---------------------\n",
      "Redirect int64\n",
      "[0 1]\n",
      "0\n",
      "---------------------\n",
      "on_mouseover int64\n",
      "[ 1 -1]\n",
      "0\n",
      "---------------------\n",
      "RightClick int64\n",
      "[ 1 -1]\n",
      "0\n",
      "---------------------\n",
      "popUpWidnow int64\n",
      "[ 1 -1]\n",
      "0\n",
      "---------------------\n",
      "Iframe int64\n",
      "[ 1 -1]\n",
      "0\n",
      "---------------------\n",
      "age_of_domain int64\n",
      "[-1  1]\n",
      "0\n",
      "---------------------\n",
      "DNSRecord int64\n",
      "[-1  1]\n",
      "0\n",
      "---------------------\n",
      "web_traffic int64\n",
      "[-1  0  1]\n",
      "0\n",
      "---------------------\n",
      "Page_Rank int64\n",
      "[-1  1]\n",
      "0\n",
      "---------------------\n",
      "Google_Index int64\n",
      "[ 1 -1]\n",
      "0\n",
      "---------------------\n",
      "Links_pointing_to_page int64\n",
      "[ 1  0 -1]\n",
      "0\n",
      "---------------------\n",
      "Statistical_report int64\n",
      "[-1  1]\n",
      "0\n",
      "---------------------\n",
      "Result int64\n",
      "[-1  1]\n",
      "0\n",
      "---------------------\n"
     ]
    }
   ],
   "source": [
    "for col in df.columns: \n",
    "\n",
    "  print(col,df[col].dtypes) \n",
    "\n",
    "  print(df[col].unique()) \n",
    "\n",
    "  #print(df[col].value_counts()) \n",
    "\n",
    "  print(sum(df[col].isna())) \n",
    "\n",
    "  print('---------------------') "
   ]
  },
  {
   "cell_type": "markdown",
   "metadata": {},
   "source": [
    "Inference: There is no columns / features that has null. "
   ]
  },
  {
   "cell_type": "markdown",
   "metadata": {},
   "source": [
    "Task: Check if the data set has any Bias to particular class based on result"
   ]
  },
  {
   "cell_type": "code",
   "execution_count": 12,
   "metadata": {},
   "outputs": [
    {
     "name": "stdout",
     "output_type": "stream",
     "text": [
      " 1    6157\n",
      "-1    4898\n",
      "Name: Result, dtype: int64\n"
     ]
    },
    {
     "name": "stderr",
     "output_type": "stream",
     "text": [
      "/Users/sr_parthasarathy/opt/anaconda3/envs/py39_env/lib/python3.9/site-packages/seaborn/_decorators.py:36: FutureWarning: Pass the following variable as a keyword arg: x. From version 0.12, the only valid positional argument will be `data`, and passing other arguments without an explicit keyword will result in an error or misinterpretation.\n",
      "  warnings.warn(\n"
     ]
    },
    {
     "data": {
      "text/plain": [
       "<AxesSubplot:xlabel='Result', ylabel='count'>"
      ]
     },
     "execution_count": 12,
     "metadata": {},
     "output_type": "execute_result"
    },
    {
     "data": {
      "image/png": "[encoded data removed]",
      "text/plain": [
       "<Figure size 432x288 with 1 Axes>"
      ]
     },
     "metadata": {
      "needs_background": "light"
     },
     "output_type": "display_data"
    }
   ],
   "source": [
    "print(df['Result'].value_counts())\n",
    "sns.countplot(df['Result'])"
   ]
  },
  {
   "cell_type": "markdown",
   "metadata": {},
   "source": [
    "Inference: The data is balanced; There is not a significant difference between the count of the target variable values; There is no need to regularize / augment data"
   ]
  },
  {
   "cell_type": "markdown",
   "metadata": {},
   "source": [
    "To even out the distribution while splitting the data into training & testing sets, we need to shuffle it. This even evades the case of overfitting while model training."
   ]
  },
  {
   "cell_type": "code",
   "execution_count": 13,
   "metadata": {},
   "outputs": [
    {
     "data": {
      "text/html": [
       "<div>\n",
       "<style scoped>\n",
       "    .dataframe tbody tr th:only-of-type {\n",
       "        vertical-align: middle;\n",
       "    }\n",
       "\n",
       "    .dataframe tbody tr th {\n",
       "        vertical-align: top;\n",
       "    }\n",
       "\n",
       "    .dataframe thead th {\n",
       "        text-align: right;\n",
       "    }\n",
       "</style>\n",
       "<table border=\"1\" class=\"dataframe\">\n",
       "  <thead>\n",
       "    <tr style=\"text-align: right;\">\n",
       "      <th></th>\n",
       "      <th>having_IPhaving_IP_Address</th>\n",
       "      <th>URLURL_Length</th>\n",
       "      <th>Shortining_Service</th>\n",
       "      <th>having_At_Symbol</th>\n",
       "      <th>double_slash_redirecting</th>\n",
       "      <th>Prefix_Suffix</th>\n",
       "      <th>having_Sub_Domain</th>\n",
       "      <th>SSLfinal_State</th>\n",
       "      <th>Domain_registeration_length</th>\n",
       "      <th>Favicon</th>\n",
       "      <th>...</th>\n",
       "      <th>popUpWidnow</th>\n",
       "      <th>Iframe</th>\n",
       "      <th>age_of_domain</th>\n",
       "      <th>DNSRecord</th>\n",
       "      <th>web_traffic</th>\n",
       "      <th>Page_Rank</th>\n",
       "      <th>Google_Index</th>\n",
       "      <th>Links_pointing_to_page</th>\n",
       "      <th>Statistical_report</th>\n",
       "      <th>Result</th>\n",
       "    </tr>\n",
       "  </thead>\n",
       "  <tbody>\n",
       "    <tr>\n",
       "      <th>0</th>\n",
       "      <td>1</td>\n",
       "      <td>-1</td>\n",
       "      <td>1</td>\n",
       "      <td>1</td>\n",
       "      <td>1</td>\n",
       "      <td>-1</td>\n",
       "      <td>1</td>\n",
       "      <td>1</td>\n",
       "      <td>-1</td>\n",
       "      <td>-1</td>\n",
       "      <td>...</td>\n",
       "      <td>-1</td>\n",
       "      <td>1</td>\n",
       "      <td>1</td>\n",
       "      <td>1</td>\n",
       "      <td>1</td>\n",
       "      <td>-1</td>\n",
       "      <td>1</td>\n",
       "      <td>0</td>\n",
       "      <td>1</td>\n",
       "      <td>1</td>\n",
       "    </tr>\n",
       "    <tr>\n",
       "      <th>1</th>\n",
       "      <td>1</td>\n",
       "      <td>-1</td>\n",
       "      <td>1</td>\n",
       "      <td>1</td>\n",
       "      <td>1</td>\n",
       "      <td>-1</td>\n",
       "      <td>-1</td>\n",
       "      <td>-1</td>\n",
       "      <td>1</td>\n",
       "      <td>1</td>\n",
       "      <td>...</td>\n",
       "      <td>1</td>\n",
       "      <td>1</td>\n",
       "      <td>-1</td>\n",
       "      <td>-1</td>\n",
       "      <td>-1</td>\n",
       "      <td>-1</td>\n",
       "      <td>1</td>\n",
       "      <td>1</td>\n",
       "      <td>1</td>\n",
       "      <td>-1</td>\n",
       "    </tr>\n",
       "    <tr>\n",
       "      <th>2</th>\n",
       "      <td>1</td>\n",
       "      <td>-1</td>\n",
       "      <td>1</td>\n",
       "      <td>1</td>\n",
       "      <td>1</td>\n",
       "      <td>-1</td>\n",
       "      <td>1</td>\n",
       "      <td>1</td>\n",
       "      <td>-1</td>\n",
       "      <td>1</td>\n",
       "      <td>...</td>\n",
       "      <td>1</td>\n",
       "      <td>1</td>\n",
       "      <td>1</td>\n",
       "      <td>1</td>\n",
       "      <td>1</td>\n",
       "      <td>-1</td>\n",
       "      <td>-1</td>\n",
       "      <td>0</td>\n",
       "      <td>1</td>\n",
       "      <td>1</td>\n",
       "    </tr>\n",
       "    <tr>\n",
       "      <th>3</th>\n",
       "      <td>1</td>\n",
       "      <td>1</td>\n",
       "      <td>1</td>\n",
       "      <td>1</td>\n",
       "      <td>1</td>\n",
       "      <td>-1</td>\n",
       "      <td>0</td>\n",
       "      <td>1</td>\n",
       "      <td>-1</td>\n",
       "      <td>1</td>\n",
       "      <td>...</td>\n",
       "      <td>1</td>\n",
       "      <td>1</td>\n",
       "      <td>-1</td>\n",
       "      <td>1</td>\n",
       "      <td>1</td>\n",
       "      <td>-1</td>\n",
       "      <td>1</td>\n",
       "      <td>0</td>\n",
       "      <td>1</td>\n",
       "      <td>1</td>\n",
       "    </tr>\n",
       "    <tr>\n",
       "      <th>4</th>\n",
       "      <td>1</td>\n",
       "      <td>-1</td>\n",
       "      <td>1</td>\n",
       "      <td>1</td>\n",
       "      <td>1</td>\n",
       "      <td>-1</td>\n",
       "      <td>-1</td>\n",
       "      <td>1</td>\n",
       "      <td>-1</td>\n",
       "      <td>1</td>\n",
       "      <td>...</td>\n",
       "      <td>1</td>\n",
       "      <td>1</td>\n",
       "      <td>1</td>\n",
       "      <td>-1</td>\n",
       "      <td>1</td>\n",
       "      <td>-1</td>\n",
       "      <td>1</td>\n",
       "      <td>1</td>\n",
       "      <td>1</td>\n",
       "      <td>1</td>\n",
       "    </tr>\n",
       "  </tbody>\n",
       "</table>\n",
       "<p>5 rows × 31 columns</p>\n",
       "</div>"
      ],
      "text/plain": [
       "   having_IPhaving_IP_Address  URLURL_Length  Shortining_Service  \\\n",
       "0                           1             -1                   1   \n",
       "1                           1             -1                   1   \n",
       "2                           1             -1                   1   \n",
       "3                           1              1                   1   \n",
       "4                           1             -1                   1   \n",
       "\n",
       "   having_At_Symbol  double_slash_redirecting  Prefix_Suffix  \\\n",
       "0                 1                         1             -1   \n",
       "1                 1                         1             -1   \n",
       "2                 1                         1             -1   \n",
       "3                 1                         1             -1   \n",
       "4                 1                         1             -1   \n",
       "\n",
       "   having_Sub_Domain  SSLfinal_State  Domain_registeration_length  Favicon  \\\n",
       "0                  1               1                           -1       -1   \n",
       "1                 -1              -1                            1        1   \n",
       "2                  1               1                           -1        1   \n",
       "3                  0               1                           -1        1   \n",
       "4                 -1               1                           -1        1   \n",
       "\n",
       "   ...  popUpWidnow  Iframe  age_of_domain  DNSRecord  web_traffic  Page_Rank  \\\n",
       "0  ...           -1       1              1          1            1         -1   \n",
       "1  ...            1       1             -1         -1           -1         -1   \n",
       "2  ...            1       1              1          1            1         -1   \n",
       "3  ...            1       1             -1          1            1         -1   \n",
       "4  ...            1       1              1         -1            1         -1   \n",
       "\n",
       "   Google_Index  Links_pointing_to_page  Statistical_report  Result  \n",
       "0             1                       0                   1       1  \n",
       "1             1                       1                   1      -1  \n",
       "2            -1                       0                   1       1  \n",
       "3             1                       0                   1       1  \n",
       "4             1                       1                   1       1  \n",
       "\n",
       "[5 rows x 31 columns]"
      ]
     },
     "execution_count": 13,
     "metadata": {},
     "output_type": "execute_result"
    }
   ],
   "source": [
    "# shuffling the rows in the dataset so that when splitting the train and test set are equally distributed\n",
    "df = df.sample(frac=1).reset_index(drop=True)\n",
    "df.head()"
   ]
  },
  {
   "cell_type": "code",
   "execution_count": 14,
   "metadata": {},
   "outputs": [
    {
     "name": "stdout",
     "output_type": "stream",
     "text": [
      " 1    6157\n",
      "-1    4898\n",
      "Name: Result, dtype: int64\n"
     ]
    },
    {
     "name": "stderr",
     "output_type": "stream",
     "text": [
      "/Users/sr_parthasarathy/opt/anaconda3/envs/py39_env/lib/python3.9/site-packages/seaborn/_decorators.py:36: FutureWarning: Pass the following variable as a keyword arg: x. From version 0.12, the only valid positional argument will be `data`, and passing other arguments without an explicit keyword will result in an error or misinterpretation.\n",
      "  warnings.warn(\n"
     ]
    },
    {
     "data": {
      "text/plain": [
       "<AxesSubplot:xlabel='Result', ylabel='count'>"
      ]
     },
     "execution_count": 14,
     "metadata": {},
     "output_type": "execute_result"
    },
    {
     "data": {
      "image/png": "[encoded data removed]",
      "text/plain": [
       "<Figure size 432x288 with 1 Axes>"
      ]
     },
     "metadata": {
      "needs_background": "light"
     },
     "output_type": "display_data"
    }
   ],
   "source": [
    "print(df['Result'].value_counts())\n",
    "sns.countplot(df['Result'])"
   ]
  },
  {
   "cell_type": "markdown",
   "metadata": {},
   "source": [
    "Inference: There is no major bias on data set"
   ]
  },
  {
   "cell_type": "markdown",
   "metadata": {},
   "source": [
    "Task: To indentify and eliminate features that have very low correlation to Result and High correlation with other features"
   ]
  },
  {
   "cell_type": "code",
   "execution_count": 15,
   "metadata": {},
   "outputs": [
    {
     "name": "stdout",
     "output_type": "stream",
     "text": [
      "                             having_IPhaving_IP_Address  URLURL_Length  \\\n",
      "having_IPhaving_IP_Address                     1.000000      -0.052411   \n",
      "URLURL_Length                                 -0.052411       1.000000   \n",
      "Shortining_Service                             0.403461      -0.097881   \n",
      "having_At_Symbol                               0.158699      -0.075108   \n",
      "double_slash_redirecting                       0.397389      -0.081247   \n",
      "Prefix_Suffix                                 -0.005257       0.055247   \n",
      "having_Sub_Domain                             -0.080745       0.003997   \n",
      "SSLfinal_State                                 0.071414       0.048754   \n",
      "Domain_registeration_length                   -0.022739      -0.221892   \n",
      "Favicon                                        0.087025      -0.042497   \n",
      "port                                           0.060979       0.000323   \n",
      "HTTPS_token                                    0.363534      -0.089383   \n",
      "Request_URL                                    0.029773       0.246348   \n",
      "URL_of_Anchor                                  0.099847      -0.023396   \n",
      "Links_in_tags                                  0.006212       0.052869   \n",
      "SFH                                           -0.010962       0.414196   \n",
      "Submitting_to_email                            0.077989      -0.014457   \n",
      "Abnormal_URL                                   0.336549      -0.106761   \n",
      "Redirect                                      -0.321181       0.046832   \n",
      "on_mouseover                                   0.084059      -0.045103   \n",
      "RightClick                                     0.042881      -0.013613   \n",
      "popUpWidnow                                    0.096882      -0.049381   \n",
      "Iframe                                         0.054694      -0.013838   \n",
      "age_of_domain                                 -0.010446       0.179426   \n",
      "DNSRecord                                     -0.050733      -0.040823   \n",
      "web_traffic                                    0.002922       0.008993   \n",
      "Page_Rank                                     -0.091774       0.183518   \n",
      "Google_Index                                   0.029153       0.002902   \n",
      "Links_pointing_to_page                        -0.339065      -0.022987   \n",
      "Statistical_report                            -0.019103      -0.067153   \n",
      "Result                                         0.094160       0.057430   \n",
      "\n",
      "                             Shortining_Service  having_At_Symbol  \\\n",
      "having_IPhaving_IP_Address             0.403461          0.158699   \n",
      "URLURL_Length                         -0.097881         -0.075108   \n",
      "Shortining_Service                     1.000000          0.104447   \n",
      "having_At_Symbol                       0.104447          1.000000   \n",
      "double_slash_redirecting               0.842796          0.086960   \n",
      "Prefix_Suffix                         -0.080471         -0.011726   \n",
      "having_Sub_Domain                     -0.041916         -0.058976   \n",
      "SSLfinal_State                        -0.061426          0.031220   \n",
      "Domain_registeration_length            0.060923          0.015522   \n",
      "Favicon                                0.006101          0.304899   \n",
      "port                                   0.002201          0.364891   \n",
      "HTTPS_token                            0.757838          0.104561   \n",
      "Request_URL                           -0.037235          0.027909   \n",
      "URL_of_Anchor                          0.000561          0.057914   \n",
      "Links_in_tags                         -0.133379         -0.070861   \n",
      "SFH                                   -0.022723         -0.008672   \n",
      "Submitting_to_email                    0.049328          0.370123   \n",
      "Abnormal_URL                           0.739290          0.203945   \n",
      "Redirect                              -0.534530         -0.028160   \n",
      "on_mouseover                           0.062383          0.279697   \n",
      "RightClick                             0.038118          0.219503   \n",
      "popUpWidnow                            0.036616          0.290893   \n",
      "Iframe                                 0.016581          0.284410   \n",
      "age_of_domain                         -0.052596         -0.005499   \n",
      "DNSRecord                              0.436064         -0.047872   \n",
      "web_traffic                           -0.047074          0.032918   \n",
      "Page_Rank                              0.014591         -0.064735   \n",
      "Google_Index                           0.155844          0.037061   \n",
      "Links_pointing_to_page                -0.198410         -0.006080   \n",
      "Statistical_report                     0.085461         -0.080357   \n",
      "Result                                -0.067966          0.052948   \n",
      "\n",
      "                             double_slash_redirecting  Prefix_Suffix  \\\n",
      "having_IPhaving_IP_Address                   0.397389      -0.005257   \n",
      "URLURL_Length                               -0.081247       0.055247   \n",
      "Shortining_Service                           0.842796      -0.080471   \n",
      "having_At_Symbol                             0.086960      -0.011726   \n",
      "double_slash_redirecting                     1.000000      -0.085590   \n",
      "Prefix_Suffix                               -0.085590       1.000000   \n",
      "having_Sub_Domain                           -0.043079       0.087891   \n",
      "SSLfinal_State                              -0.036200       0.261391   \n",
      "Domain_registeration_length                  0.047464      -0.096799   \n",
      "Favicon                                      0.035100      -0.007504   \n",
      "port                                         0.025060      -0.022546   \n",
      "HTTPS_token                                  0.760799      -0.070153   \n",
      "Request_URL                                 -0.026368       0.098675   \n",
      "URL_of_Anchor                               -0.005036       0.348871   \n",
      "Links_in_tags                               -0.125583       0.100254   \n",
      "SFH                                         -0.041672       0.001326   \n",
      "Submitting_to_email                          0.031898      -0.045000   \n",
      "Abnormal_URL                                 0.723724      -0.077620   \n",
      "Redirect                                    -0.591478       0.016271   \n",
      "on_mouseover                                 0.086635       0.012578   \n",
      "RightClick                                   0.025863      -0.024868   \n",
      "popUpWidnow                                  0.054463      -0.014733   \n",
      "Iframe                                       0.010459      -0.036904   \n",
      "age_of_domain                               -0.050107       0.074116   \n",
      "DNSRecord                                    0.431409      -0.016556   \n",
      "web_traffic                                 -0.062369       0.110598   \n",
      "Page_Rank                                   -0.003132      -0.006834   \n",
      "Google_Index                                 0.178415       0.067781   \n",
      "Links_pointing_to_page                      -0.194165       0.067423   \n",
      "Statistical_report                           0.070390      -0.002763   \n",
      "Result                                      -0.038608       0.348606   \n",
      "\n",
      "                             having_Sub_Domain  SSLfinal_State  \\\n",
      "having_IPhaving_IP_Address           -0.080745        0.071414   \n",
      "URLURL_Length                         0.003997        0.048754   \n",
      "Shortining_Service                   -0.041916       -0.061426   \n",
      "having_At_Symbol                     -0.058976        0.031220   \n",
      "double_slash_redirecting             -0.043079       -0.036200   \n",
      "Prefix_Suffix                         0.087891        0.261391   \n",
      "having_Sub_Domain                     1.000000        0.267649   \n",
      "SSLfinal_State                        0.267649        1.000000   \n",
      "Domain_registeration_length          -0.082839       -0.193622   \n",
      "Favicon                              -0.016704       -0.014757   \n",
      "port                                  0.004863        0.027473   \n",
      "HTTPS_token                          -0.037239       -0.029941   \n",
      "Request_URL                           0.104857        0.193054   \n",
      "URL_of_Anchor                         0.229491        0.535786   \n",
      "Links_in_tags                         0.093646        0.176825   \n",
      "SFH                                   0.096089        0.171402   \n",
      "Submitting_to_email                   0.008830        0.008062   \n",
      "Abnormal_URL                         -0.034908       -0.046245   \n",
      "Redirect                              0.031206       -0.021070   \n",
      "on_mouseover                         -0.018082        0.023586   \n",
      "RightClick                            0.018230        0.015854   \n",
      "popUpWidnow                          -0.025312       -0.013005   \n",
      "Iframe                                0.010637       -0.002773   \n",
      "age_of_domain                         0.119254        0.162809   \n",
      "DNSRecord                             0.125493        0.050972   \n",
      "web_traffic                          -0.005764        0.258768   \n",
      "Page_Rank                             0.120730        0.074545   \n",
      "Google_Index                          0.057673        0.096051   \n",
      "Links_pointing_to_page               -0.010526       -0.011710   \n",
      "Statistical_report                    0.081627        0.063411   \n",
      "Result                                0.298323        0.714741   \n",
      "\n",
      "                             Domain_registeration_length   Favicon  ...  \\\n",
      "having_IPhaving_IP_Address                     -0.022739  0.087025  ...   \n",
      "URLURL_Length                                  -0.221892 -0.042497  ...   \n",
      "Shortining_Service                              0.060923  0.006101  ...   \n",
      "having_At_Symbol                                0.015522  0.304899  ...   \n",
      "double_slash_redirecting                        0.047464  0.035100  ...   \n",
      "Prefix_Suffix                                  -0.096799 -0.007504  ...   \n",
      "having_Sub_Domain                              -0.082839 -0.016704  ...   \n",
      "SSLfinal_State                                 -0.193622 -0.014757  ...   \n",
      "Domain_registeration_length                     1.000000  0.054253  ...   \n",
      "Favicon                                         0.054253  1.000000  ...   \n",
      "port                                            0.022478  0.803834  ...   \n",
      "HTTPS_token                                     0.059161  0.049483  ...   \n",
      "Request_URL                                    -0.609970 -0.004620  ...   \n",
      "URL_of_Anchor                                  -0.160257  0.037698  ...   \n",
      "Links_in_tags                                  -0.101084 -0.100341  ...   \n",
      "SFH                                            -0.136422 -0.012279  ...   \n",
      "Submitting_to_email                             0.039260  0.668317  ...   \n",
      "Abnormal_URL                                    0.058109  0.071848  ...   \n",
      "Redirect                                       -0.016300 -0.015621  ...   \n",
      "on_mouseover                                    0.023784  0.706179  ...   \n",
      "RightClick                                      0.023520  0.414382  ...   \n",
      "popUpWidnow                                     0.051410  0.939633  ...   \n",
      "Iframe                                          0.004393  0.627607  ...   \n",
      "age_of_domain                                  -0.062851 -0.002628  ...   \n",
      "DNSRecord                                      -0.010477  0.088211  ...   \n",
      "web_traffic                                    -0.134454 -0.050922  ...   \n",
      "Page_Rank                                      -0.059898  0.011699  ...   \n",
      "Google_Index                                   -0.039766 -0.016668  ...   \n",
      "Links_pointing_to_page                          0.122672 -0.127243  ...   \n",
      "Statistical_report                             -0.002212  0.300917  ...   \n",
      "Result                                         -0.225789 -0.000280  ...   \n",
      "\n",
      "                             popUpWidnow    Iframe  age_of_domain  DNSRecord  \\\n",
      "having_IPhaving_IP_Address      0.096882  0.054694      -0.010446  -0.050733   \n",
      "URLURL_Length                  -0.049381 -0.013838       0.179426  -0.040823   \n",
      "Shortining_Service              0.036616  0.016581      -0.052596   0.436064   \n",
      "having_At_Symbol                0.290893  0.284410      -0.005499  -0.047872   \n",
      "double_slash_redirecting        0.054463  0.010459      -0.050107   0.431409   \n",
      "Prefix_Suffix                  -0.014733 -0.036904       0.074116  -0.016556   \n",
      "having_Sub_Domain              -0.025312  0.010637       0.119254   0.125493   \n",
      "SSLfinal_State                 -0.013005 -0.002773       0.162809   0.050972   \n",
      "Domain_registeration_length     0.051410  0.004393      -0.062851  -0.010477   \n",
      "Favicon                         0.939633  0.627607      -0.002628   0.088211   \n",
      "port                            0.748517  0.687044       0.008459   0.054849   \n",
      "HTTPS_token                     0.066957  0.017509      -0.049632   0.395387   \n",
      "Request_URL                    -0.004622  0.016934       0.090455   0.015933   \n",
      "URL_of_Anchor                   0.041150  0.013403       0.075508   0.093288   \n",
      "Links_in_tags                  -0.112282 -0.070030       0.078057  -0.038545   \n",
      "SFH                            -0.004863  0.007067      -0.015840   0.034440   \n",
      "Submitting_to_email             0.629462  0.577490       0.007357   0.064145   \n",
      "Abnormal_URL                    0.091188  0.017590      -0.032533   0.366833   \n",
      "Redirect                       -0.026327 -0.012668      -0.022476  -0.211096   \n",
      "on_mouseover                    0.733629  0.659478       0.013306   0.087161   \n",
      "RightClick                      0.415268  0.655863       0.006764   0.038255   \n",
      "popUpWidnow                     1.000000  0.629406      -0.000948   0.098658   \n",
      "Iframe                          0.629406  1.000000       0.018848   0.047293   \n",
      "age_of_domain                  -0.000948  0.018848       1.000000  -0.034082   \n",
      "DNSRecord                       0.098658  0.047293      -0.034082   1.000000   \n",
      "web_traffic                    -0.043190 -0.022080       0.089949   0.048650   \n",
      "Page_Rank                       0.017114  0.022407      -0.147194   0.137860   \n",
      "Google_Index                   -0.010256 -0.003519      -0.028471   0.137509   \n",
      "Links_pointing_to_page         -0.121325 -0.140824       0.040407  -0.318266   \n",
      "Statistical_report              0.285261  0.268418       0.009115   0.136860   \n",
      "Result                          0.000086 -0.003394       0.121496   0.075718   \n",
      "\n",
      "                             web_traffic  Page_Rank  Google_Index  \\\n",
      "having_IPhaving_IP_Address      0.002922  -0.091774      0.029153   \n",
      "URLURL_Length                   0.008993   0.183518      0.002902   \n",
      "Shortining_Service             -0.047074   0.014591      0.155844   \n",
      "having_At_Symbol                0.032918  -0.064735      0.037061   \n",
      "double_slash_redirecting       -0.062369  -0.003132      0.178415   \n",
      "Prefix_Suffix                   0.110598  -0.006834      0.067781   \n",
      "having_Sub_Domain              -0.005764   0.120730      0.057673   \n",
      "SSLfinal_State                  0.258768   0.074545      0.096051   \n",
      "Domain_registeration_length    -0.134454  -0.059898     -0.039766   \n",
      "Favicon                        -0.050922   0.011699     -0.016668   \n",
      "port                           -0.028543   0.017954     -0.005413   \n",
      "HTTPS_token                    -0.039708   0.021104      0.115450   \n",
      "Request_URL                     0.161166   0.055734      0.046409   \n",
      "URL_of_Anchor                   0.326293   0.099261      0.038816   \n",
      "Links_in_tags                   0.064548  -0.006450      0.045557   \n",
      "SFH                             0.052706   0.001979      0.027588   \n",
      "Submitting_to_email            -0.015685   0.026208     -0.008378   \n",
      "Abnormal_URL                   -0.052416   0.007318      0.124751   \n",
      "Redirect                        0.004631   0.052867      0.057230   \n",
      "on_mouseover                   -0.036531   0.015634     -0.006510   \n",
      "RightClick                     -0.013594   0.025341     -0.008066   \n",
      "popUpWidnow                    -0.043190   0.017114     -0.010256   \n",
      "Iframe                         -0.022080   0.022407     -0.003519   \n",
      "age_of_domain                   0.089949  -0.147194     -0.028471   \n",
      "DNSRecord                       0.048650   0.137860      0.137509   \n",
      "web_traffic                     1.000000   0.030984     -0.012584   \n",
      "Page_Rank                       0.030984   1.000000      0.032431   \n",
      "Google_Index                   -0.012584   0.032431      1.000000   \n",
      "Links_pointing_to_page         -0.019860  -0.028216     -0.038777   \n",
      "Statistical_report              0.009223   0.031049     -0.005103   \n",
      "Result                          0.346103   0.104645      0.128950   \n",
      "\n",
      "                             Links_pointing_to_page  Statistical_report  \\\n",
      "having_IPhaving_IP_Address                -0.339065           -0.019103   \n",
      "URLURL_Length                             -0.022987           -0.067153   \n",
      "Shortining_Service                        -0.198410            0.085461   \n",
      "having_At_Symbol                          -0.006080           -0.080357   \n",
      "double_slash_redirecting                  -0.194165            0.070390   \n",
      "Prefix_Suffix                              0.067423           -0.002763   \n",
      "having_Sub_Domain                         -0.010526            0.081627   \n",
      "SSLfinal_State                            -0.011710            0.063411   \n",
      "Domain_registeration_length                0.122672           -0.002212   \n",
      "Favicon                                   -0.127243            0.300917   \n",
      "port                                      -0.139104            0.343987   \n",
      "HTTPS_token                               -0.128724            0.096187   \n",
      "Request_URL                               -0.067109            0.035412   \n",
      "URL_of_Anchor                              0.018651            0.077377   \n",
      "Links_in_tags                              0.013561           -0.087343   \n",
      "SFH                                       -0.009068           -0.005289   \n",
      "Submitting_to_email                       -0.039956            0.352074   \n",
      "Abnormal_URL                              -0.161027            0.186399   \n",
      "Redirect                                   0.161278           -0.059194   \n",
      "on_mouseover                              -0.038551            0.277347   \n",
      "RightClick                                -0.119831            0.204409   \n",
      "popUpWidnow                               -0.121325            0.285261   \n",
      "Iframe                                    -0.140824            0.268418   \n",
      "age_of_domain                              0.040407            0.009115   \n",
      "DNSRecord                                 -0.318266            0.136860   \n",
      "web_traffic                               -0.019860            0.009223   \n",
      "Page_Rank                                 -0.028216            0.031049   \n",
      "Google_Index                              -0.038777           -0.005103   \n",
      "Links_pointing_to_page                     1.000000           -0.016817   \n",
      "Statistical_report                        -0.016817            1.000000   \n",
      "Result                                     0.032574            0.079857   \n",
      "\n",
      "                               Result  \n",
      "having_IPhaving_IP_Address   0.094160  \n",
      "URLURL_Length                0.057430  \n",
      "Shortining_Service          -0.067966  \n",
      "having_At_Symbol             0.052948  \n",
      "double_slash_redirecting    -0.038608  \n",
      "Prefix_Suffix                0.348606  \n",
      "having_Sub_Domain            0.298323  \n",
      "SSLfinal_State               0.714741  \n",
      "Domain_registeration_length -0.225789  \n",
      "Favicon                     -0.000280  \n",
      "port                         0.036419  \n",
      "HTTPS_token                 -0.039854  \n",
      "Request_URL                  0.253372  \n",
      "URL_of_Anchor                0.692935  \n",
      "Links_in_tags                0.248229  \n",
      "SFH                          0.221419  \n",
      "Submitting_to_email          0.018249  \n",
      "Abnormal_URL                -0.060488  \n",
      "Redirect                    -0.020113  \n",
      "on_mouseover                 0.041838  \n",
      "RightClick                   0.012653  \n",
      "popUpWidnow                  0.000086  \n",
      "Iframe                      -0.003394  \n",
      "age_of_domain                0.121496  \n",
      "DNSRecord                    0.075718  \n",
      "web_traffic                  0.346103  \n",
      "Page_Rank                    0.104645  \n",
      "Google_Index                 0.128950  \n",
      "Links_pointing_to_page       0.032574  \n",
      "Statistical_report           0.079857  \n",
      "Result                       1.000000  \n",
      "\n",
      "[31 rows x 31 columns]\n"
     ]
    },
    {
     "data": {
      "text/plain": [
       "<Figure size 720x720 with 0 Axes>"
      ]
     },
     "execution_count": 15,
     "metadata": {},
     "output_type": "execute_result"
    },
    {
     "data": {
      "text/plain": [
       "<Figure size 720x720 with 0 Axes>"
      ]
     },
     "metadata": {},
     "output_type": "display_data"
    }
   ],
   "source": [
    "# Generate correlation matrix\n",
    "print(df.corr())\n",
    "import seaborn as sns\n",
    "plt.figure(figsize =(10,10))"
   ]
  },
  {
   "cell_type": "code",
   "execution_count": 16,
   "metadata": {},
   "outputs": [
    {
     "data": {
      "text/plain": [
       "<AxesSubplot:>"
      ]
     },
     "execution_count": 16,
     "metadata": {},
     "output_type": "execute_result"
    },
    {
     "data": {
      "image/png": "[encoded data removed]",
      "text/plain": [
       "<Figure size 432x288 with 2 Axes>"
      ]
     },
     "metadata": {
      "needs_background": "light"
     },
     "output_type": "display_data"
    }
   ],
   "source": [
    "# Generate heatmap\n",
    "sns.heatmap(df.corr(), linewidths=1.5)     "
   ]
  },
  {
   "cell_type": "code",
   "execution_count": 17,
   "metadata": {},
   "outputs": [
    {
     "data": {
      "image/png": "[encoded data removed]",
      "text/plain": [
       "<Figure size 720x720 with 2 Axes>"
      ]
     },
     "metadata": {
      "needs_background": "light"
     },
     "output_type": "display_data"
    }
   ],
   "source": [
    "corr_matrix = df.corr()\n",
    "plt.figure(figsize= (10, 10))\n",
    "sns.heatmap(corr_matrix[np.abs(corr_matrix)>0.7], cmap=plt.cm.Reds, annot=True)\n",
    "plt.show()"
   ]
  },
  {
   "cell_type": "code",
   "execution_count": 18,
   "metadata": {
    "scrolled": true
   },
   "outputs": [
    {
     "name": "stdout",
     "output_type": "stream",
     "text": [
      "Domain_registeration_length   -0.225789\n",
      "Shortining_Service            -0.067966\n",
      "Abnormal_URL                  -0.060488\n",
      "HTTPS_token                   -0.039854\n",
      "double_slash_redirecting      -0.038608\n",
      "Redirect                      -0.020113\n",
      "Iframe                        -0.003394\n",
      "Favicon                       -0.000280\n",
      "popUpWidnow                    0.000086\n",
      "RightClick                     0.012653\n",
      "Submitting_to_email            0.018249\n",
      "Links_pointing_to_page         0.032574\n",
      "port                           0.036419\n",
      "on_mouseover                   0.041838\n",
      "having_At_Symbol               0.052948\n",
      "URLURL_Length                  0.057430\n",
      "DNSRecord                      0.075718\n",
      "Statistical_report             0.079857\n",
      "having_IPhaving_IP_Address     0.094160\n",
      "Page_Rank                      0.104645\n",
      "age_of_domain                  0.121496\n",
      "Google_Index                   0.128950\n",
      "SFH                            0.221419\n",
      "Links_in_tags                  0.248229\n",
      "Request_URL                    0.253372\n",
      "having_Sub_Domain              0.298323\n",
      "web_traffic                    0.346103\n",
      "Prefix_Suffix                  0.348606\n",
      "URL_of_Anchor                  0.692935\n",
      "SSLfinal_State                 0.714741\n",
      "Result                         1.000000\n",
      "Name: Result, dtype: float64\n"
     ]
    }
   ],
   "source": [
    "print(df.corr()['Result'].sort_values())      \n",
    "# Print correlation with target variable"
   ]
  },
  {
   "cell_type": "code",
   "execution_count": 19,
   "metadata": {
    "scrolled": true
   },
   "outputs": [
    {
     "name": "stdout",
     "output_type": "stream",
     "text": [
      "Original columns count: 31\n",
      "Post drop columns: 21\n"
     ]
    }
   ],
   "source": [
    "# Remove features having correlation coefficient between +/- 0.04 with Result\n",
    "# Remove features having correlation coefficient > 0.75 with other features & having least corr with Result\n",
    "print(\"Original columns count:\",len(df.columns))\n",
    "df.drop(['Favicon','Iframe','Redirect','popUpWidnow','RightClick','Links_pointing_to_page','Submitting_to_email','double_slash_redirecting','HTTPS_token','port'],axis=1,inplace=True)\n",
    "print(\"Post drop columns:\",len(df.columns))"
   ]
  },
  {
   "cell_type": "markdown",
   "metadata": {},
   "source": [
    "# Project Task: Week 2\n",
    "\n",
    "- Building Classification Model\n",
    "- Finally, build a robust classification system that classifies whether the URL sample is a phishing site or not.\n",
    "- Build classification models using a binary classifier to detect malicious or phishing URLs.\n",
    "- Illustrate the diagnostic ability of this binary classifier by plotting the ROC curve.\n",
    "- Validate the accuracy of data by the K-Fold cross-validation technique.\n",
    "- The final output consists of the model, which will give maximum accuracy on the validation dataset with selected attributes."
   ]
  },
  {
   "cell_type": "code",
   "execution_count": 20,
   "metadata": {},
   "outputs": [
    {
     "data": {
      "text/plain": [
       "((11055, 20), (11055,))"
      ]
     },
     "execution_count": 20,
     "metadata": {},
     "output_type": "execute_result"
    }
   ],
   "source": [
    "# Prepare data for models\n",
    "df['Result'] = np.where(df['Result']==-1, 0, df['Result'])\n",
    "target = df['Result'].values\n",
    "predictors = df.drop(['Result'], axis = 1)\n",
    "predictors.shape, target.shape\n"
   ]
  },
  {
   "cell_type": "code",
   "execution_count": 21,
   "metadata": {},
   "outputs": [
    {
     "data": {
      "text/plain": [
       "((8291, 20), (2764, 20), (8291,), (2764,))"
      ]
     },
     "execution_count": 21,
     "metadata": {},
     "output_type": "execute_result"
    }
   ],
   "source": [
    "# Splitting the dataset into train and test sets: 75-25 split\n",
    "from sklearn.model_selection import train_test_split\n",
    "\n",
    "X_train, X_test, Y_train, Y_test = train_test_split(predictors, target, \n",
    "                                                    test_size = 0.25, random_state = 12)\n",
    "X_train.shape, X_test.shape, Y_train.shape, Y_test.shape"
   ]
  },
  {
   "cell_type": "markdown",
   "metadata": {},
   "source": [
    "Machine Learning models and training\n",
    "\n",
    "This data set comes under classification problem + Supervised; Result is the desired output and classified as phishing (1) or legitimate (-1). \n",
    "The supervised machine learning models (classification) considered to train the dataset in this notebook are:\n",
    "Logistic Regression\n",
    "Naive Bayes\n",
    "Support Vector Machines (SVM)\n",
    "N-Nearest Neighbours\n",
    "Decision Tree\n",
    "Random Forest\n",
    "XGBoost"
   ]
  },
  {
   "cell_type": "code",
   "execution_count": 22,
   "metadata": {},
   "outputs": [],
   "source": [
    "#importing packages for metrics\n",
    "from sklearn import metrics\n",
    "from sklearn.metrics import accuracy_score"
   ]
  },
  {
   "cell_type": "markdown",
   "metadata": {},
   "source": [
    "Modelling using Popular Binary model: Logistic Regression"
   ]
  },
  {
   "cell_type": "code",
   "execution_count": 23,
   "metadata": {},
   "outputs": [
    {
     "data": {
      "text/plain": [
       "(2764,)"
      ]
     },
     "execution_count": 23,
     "metadata": {},
     "output_type": "execute_result"
    }
   ],
   "source": [
    "from sklearn.linear_model import LogisticRegression\n",
    "lr = LogisticRegression()\n",
    "lr = lr.fit(X_train,Y_train)\n",
    "Y_pred_lr = lr.predict(X_test)\n",
    "Y_pred_lr.shape"
   ]
  },
  {
   "cell_type": "code",
   "execution_count": 24,
   "metadata": {},
   "outputs": [
    {
     "name": "stdout",
     "output_type": "stream",
     "text": [
      "Accuracy:  0.9225759768451519\n",
      "Confusion Matrix: [[1093  141]\n",
      " [  73 1457]]\n",
      "Classification Report:               precision    recall  f1-score   support\n",
      "\n",
      "           0       0.94      0.89      0.91      1234\n",
      "           1       0.91      0.95      0.93      1530\n",
      "\n",
      "    accuracy                           0.92      2764\n",
      "   macro avg       0.92      0.92      0.92      2764\n",
      "weighted avg       0.92      0.92      0.92      2764\n",
      "\n"
     ]
    }
   ],
   "source": [
    "# generate evaluation metrics\n",
    "print(\"Accuracy: \", metrics.accuracy_score(Y_test, Y_pred_lr))\n",
    "print(\"Confusion Matrix:\", metrics.confusion_matrix(Y_test,Y_pred_lr))\n",
    "#Classification Report\n",
    "print(\"Classification Report:\", metrics.classification_report(Y_test,Y_pred_lr))"
   ]
  },
  {
   "cell_type": "code",
   "execution_count": 25,
   "metadata": {},
   "outputs": [
    {
     "data": {
      "text/plain": [
       "array([0.00324942, 0.99987911, 0.98308761, ..., 0.98639674, 0.9014615 ,\n",
       "       0.88491786])"
      ]
     },
     "execution_count": 25,
     "metadata": {},
     "output_type": "execute_result"
    }
   ],
   "source": [
    "Y_pred_prob = lr.predict_proba(X_test) # Predicted Probabilities for the test class\n",
    " # 1st Column indicates probabilites for Class 0 and 2nd column for Class 1\n",
    "#Extracting probabilities for the positive class\n",
    "Y_pred_prob = Y_pred_prob[:,1]\n",
    "Y_pred_prob"
   ]
  },
  {
   "cell_type": "code",
   "execution_count": 26,
   "metadata": {},
   "outputs": [
    {
     "name": "stdout",
     "output_type": "stream",
     "text": [
      "Area under the ROC curve : 0.976239658478194\n"
     ]
    }
   ],
   "source": [
    "# extract false positive, true positive rate\n",
    "fpr, tpr, thresholds = metrics.roc_curve(Y_test,Y_pred_prob)\n",
    "roc_auc = metrics.auc(fpr, tpr)\n",
    "print(f\"Area under the ROC curve : {roc_auc}\",)"
   ]
  },
  {
   "cell_type": "code",
   "execution_count": 27,
   "metadata": {},
   "outputs": [
    {
     "data": {
      "image/png": "[encoded data removed]",
      "text/plain": [
       "<Figure size 900x600 with 2 Axes>"
      ]
     },
     "metadata": {
      "needs_background": "light"
     },
     "output_type": "display_data"
    }
   ],
   "source": [
    "plt.figure(dpi=150)\n",
    "plt.plot(fpr, tpr, label=f\"ROC curve (area = {roc_auc:0.2f})\")\n",
    "plt.xlabel('False Positive Rate')\n",
    "plt.ylabel('True Positive Rate',color='g')\n",
    "plt.title('Receiver operating characteristic')\n",
    "plt.legend(loc=\"lower right\")\n",
    "ax2 = plt.gca().twinx()\n",
    "ax2.plot(fpr, thresholds, markeredgecolor='r',linestyle='dashed', color='r')\n",
    "ax2.set_ylabel('Threshold',color='r')\n",
    "plt.show()"
   ]
  },
  {
   "cell_type": "code",
   "execution_count": 28,
   "metadata": {},
   "outputs": [
    {
     "name": "stdout",
     "output_type": "stream",
     "text": [
      "          fpr  tpr(Sensitivity/Recall)  1-fpr (TNR/Specificity)  threshold\n",
      "529  0.093193                 0.935948                 0.906807   0.599403\n",
      "530  0.094814                 0.935948                 0.905186   0.597738\n",
      "531  0.094814                 0.938562                 0.905186   0.592577\n",
      "532  0.095624                 0.938562                 0.904376   0.592421\n",
      "533  0.095624                 0.939869                 0.904376   0.588930\n",
      "534  0.095624                 0.940523                 0.904376   0.588496\n",
      "535  0.096434                 0.940523                 0.903566   0.586669\n",
      "536  0.096434                 0.941830                 0.903566   0.584359\n",
      "537  0.098865                 0.941830                 0.901135   0.578160\n",
      "538  0.100486                 0.941830                 0.899514   0.573149\n",
      "539  0.100486                 0.942484                 0.899514   0.571186\n",
      "540  0.102917                 0.942484                 0.897083   0.564011\n",
      "541  0.102917                 0.944444                 0.897083   0.558602\n",
      "542  0.104538                 0.944444                 0.895462   0.546173\n",
      "543  0.104538                 0.945752                 0.895462   0.544947\n",
      "544  0.104538                 0.946405                 0.895462   0.543643\n",
      "545  0.106159                 0.946405                 0.893841   0.541169\n",
      "546  0.106159                 0.947059                 0.893841   0.539168\n",
      "547  0.106969                 0.947059                 0.893031   0.537359\n",
      "548  0.106969                 0.947712                 0.893031   0.534028\n",
      "549  0.107780                 0.947712                 0.892220   0.533001\n",
      "550  0.107780                 0.949020                 0.892220   0.530128\n",
      "551  0.108590                 0.949020                 0.891410   0.525887\n",
      "552  0.110211                 0.949020                 0.889789   0.524427\n",
      "553  0.111021                 0.949020                 0.888979   0.523706\n",
      "554  0.111021                 0.950327                 0.888979   0.521965\n",
      "555  0.111021                 0.951634                 0.888979   0.520624\n",
      "556  0.111021                 0.952288                 0.888979   0.519882\n",
      "557  0.111831                 0.952288                 0.888169   0.511014\n",
      "558  0.113452                 0.952288                 0.886548   0.509638\n",
      "559  0.114263                 0.952288                 0.885737   0.500916\n",
      "560  0.115883                 0.952288                 0.884117   0.498813\n",
      "561  0.116694                 0.952288                 0.883306   0.498593\n",
      "562  0.116694                 0.953595                 0.883306   0.493318\n",
      "563  0.116694                 0.954248                 0.883306   0.486961\n",
      "564  0.118314                 0.954248                 0.881686   0.484034\n",
      "565  0.118314                 0.954902                 0.881686   0.476126\n",
      "566  0.119935                 0.954902                 0.880065   0.472237\n",
      "567  0.119935                 0.956209                 0.880065   0.470919\n",
      "568  0.122366                 0.956209                 0.877634   0.453822\n",
      "569  0.122366                 0.957516                 0.877634   0.444892\n",
      "570  0.133712                 0.957516                 0.866288   0.423333\n",
      "571  0.133712                 0.958824                 0.866288   0.418743\n",
      "572  0.134522                 0.958824                 0.865478   0.416862\n",
      "573  0.134522                 0.960784                 0.865478   0.412831\n",
      "574  0.136143                 0.960784                 0.863857   0.412018\n",
      "575  0.138574                 0.960784                 0.861426   0.405875\n",
      "576  0.140194                 0.960784                 0.859806   0.405547\n"
     ]
    }
   ],
   "source": [
    "roc = pd.DataFrame({'fpr':fpr,'tpr(Sensitivity/Recall)':tpr,'1-fpr (TNR/Specificity)' : (1-fpr), \\\n",
    "                       'threshold':thresholds})\n",
    "#By looking at the above graph,trying to find a sweet spot between high tpr and low \n",
    "# fpr, by varying\n",
    "# threshold between 0.4 and 0.5\n",
    "print(roc.loc[((roc['threshold']>0.4) & (roc['threshold'] < 0.6)),:])"
   ]
  },
  {
   "cell_type": "markdown",
   "metadata": {},
   "source": [
    "By default, model predicts Class 1 (rounds predicted probability to 1) whenever probability > 0.5 and Class -1 (rounds predicted probability to 0) whenever prob < 0.5, thereby implying a set threshold of 0.5. Recall was ~94% that verifies above statement.\n",
    "So, What threshold should we choose?\n",
    "it depends on what matters to us. False Positives i.e. wrongly predicting Phishing for a legit site will not matter as much as False Negative i.e. predicting legit for a Phishing site. So, we would aim to reduce False Negatives (Increase Recall/True Positive Rate) even if it costs us high False Positives ( and thus reduces Precision). A threshold of 0.60, gives us TPR(Recall of 96.6%) at a FPR of 13%. Since there not a big difference on TPR, we could just let threshold be at 0.5."
   ]
  },
  {
   "cell_type": "code",
   "execution_count": 29,
   "metadata": {},
   "outputs": [
    {
     "name": "stdout",
     "output_type": "stream",
     "text": [
      "The accuracy score achieved using Logistic Regression is: 92.26 %\n"
     ]
    }
   ],
   "source": [
    "score_lr = round(accuracy_score(Y_pred_lr,Y_test)*100,2)\n",
    "print(\"The accuracy score achieved using Logistic Regression is: \"+str(score_lr)+\" %\")"
   ]
  },
  {
   "cell_type": "code",
   "execution_count": 30,
   "metadata": {},
   "outputs": [
    {
     "name": "stdout",
     "output_type": "stream",
     "text": [
      "The accuracy score achieved using Logistic Regression + K-fold is: 92.38 %\n"
     ]
    }
   ],
   "source": [
    "from sklearn.model_selection import KFold, cross_val_score\n",
    "from sklearn.model_selection import train_test_split\n",
    "score_lr_kfold = round((cross_val_score(lr,predictors,target,cv=10).mean())*100,2)\n",
    "print (\"The accuracy score achieved using Logistic Regression + K-fold is: \"+str(score_lr_kfold)+\" %\")"
   ]
  },
  {
   "cell_type": "markdown",
   "metadata": {},
   "source": [
    "Modelling using Popular Binary model: Naive Bayes"
   ]
  },
  {
   "cell_type": "code",
   "execution_count": 31,
   "metadata": {},
   "outputs": [
    {
     "name": "stdout",
     "output_type": "stream",
     "text": [
      "Shape of Y_pred_nb: (2764,)\n",
      "The accuracy score achieved using Gaussian Naive Bayes is: 60.53 %\n"
     ]
    }
   ],
   "source": [
    "from sklearn.naive_bayes import GaussianNB\n",
    "nb = GaussianNB()\n",
    "nb = nb.fit(X_train,Y_train)\n",
    "Y_pred_nb = nb.predict(X_test)\n",
    "print(\"Shape of Y_pred_nb:\", Y_pred_nb.shape)\n",
    "score_nb = round(accuracy_score(Y_pred_nb,Y_test)*100,2)\n",
    "print(\"The accuracy score achieved using Gaussian Naive Bayes is: \"+str(score_nb)+\" %\")"
   ]
  },
  {
   "cell_type": "code",
   "execution_count": 32,
   "metadata": {},
   "outputs": [
    {
     "name": "stdout",
     "output_type": "stream",
     "text": [
      "The accuracy score achieved using Gaussian Naive Bayes + K-fold is: 60.06 %\n"
     ]
    }
   ],
   "source": [
    "from sklearn.model_selection import KFold, cross_val_score\n",
    "from sklearn.model_selection import train_test_split\n",
    "score_nb_kfold = round((cross_val_score(nb,predictors,target,cv=10).mean())*100,2)\n",
    "print (\"The accuracy score achieved using Gaussian Naive Bayes + K-fold is: \"+str(score_nb_kfold)+\" %\")"
   ]
  },
  {
   "cell_type": "markdown",
   "metadata": {},
   "source": [
    "Modelling using Popular Binary model: SVM"
   ]
  },
  {
   "cell_type": "code",
   "execution_count": 33,
   "metadata": {},
   "outputs": [
    {
     "name": "stdout",
     "output_type": "stream",
     "text": [
      "Shape of Y_pred_svm: (2764,)\n",
      "The accuracy score achieved using Linear SVM is: 91.64 %\n"
     ]
    }
   ],
   "source": [
    "from sklearn import svm\n",
    "sv = svm.SVC(kernel='linear')\n",
    "sv = sv.fit(X_train, Y_train)\n",
    "Y_pred_svm = sv.predict(X_test)\n",
    "print(\"Shape of Y_pred_svm:\", Y_pred_svm.shape)\n",
    "score_svm = round(accuracy_score(Y_pred_svm,Y_test)*100,2)\n",
    "print(\"The accuracy score achieved using Linear SVM is: \"+str(score_svm)+\" %\")"
   ]
  },
  {
   "cell_type": "code",
   "execution_count": 34,
   "metadata": {},
   "outputs": [
    {
     "name": "stdout",
     "output_type": "stream",
     "text": [
      "The accuracy score achieved using Linear SVM + K-fold is: 92.1 %\n"
     ]
    }
   ],
   "source": [
    "from sklearn.model_selection import KFold, cross_val_score\n",
    "from sklearn.model_selection import train_test_split\n",
    "score_svm_kfold = round((cross_val_score(sv,predictors,target,cv=10).mean())*100,2)\n",
    "print (\"The accuracy score achieved using Linear SVM + K-fold is: \"+str(score_svm_kfold)+\" %\")"
   ]
  },
  {
   "cell_type": "markdown",
   "metadata": {},
   "source": [
    "Modelling using Popular Binary model: K Neighbors KNN"
   ]
  },
  {
   "cell_type": "code",
   "execution_count": 35,
   "metadata": {},
   "outputs": [
    {
     "name": "stdout",
     "output_type": "stream",
     "text": [
      "Shape of Y_pred_knn: (2764,)\n",
      "The accuracy score achieved using KNN is: 93.89 %\n"
     ]
    }
   ],
   "source": [
    "from sklearn.neighbors import KNeighborsClassifier\n",
    "knn = KNeighborsClassifier(n_neighbors=7)\n",
    "knn = knn.fit(X_train,Y_train)\n",
    "Y_pred_knn=knn.predict(X_test)\n",
    "print(\"Shape of Y_pred_knn:\", Y_pred_knn.shape)\n",
    "score_knn = round(accuracy_score(Y_pred_knn,Y_test)*100,2)\n",
    "print(\"The accuracy score achieved using KNN is: \"+str(score_knn)+\" %\")"
   ]
  },
  {
   "cell_type": "code",
   "execution_count": 36,
   "metadata": {},
   "outputs": [
    {
     "name": "stdout",
     "output_type": "stream",
     "text": [
      "The accuracy score achieved using KNN + K-fold is: 93.62 %\n"
     ]
    }
   ],
   "source": [
    "from sklearn.model_selection import KFold, cross_val_score\n",
    "from sklearn.model_selection import train_test_split\n",
    "score_knn_kfold = round((cross_val_score(knn,predictors,target,cv=10).mean())*100,2)\n",
    "print (\"The accuracy score achieved using KNN + K-fold is: \"+str(score_knn_kfold)+\" %\")"
   ]
  },
  {
   "cell_type": "markdown",
   "metadata": {},
   "source": [
    "Modelling using Popular Binary model: Decision tree"
   ]
  },
  {
   "cell_type": "code",
   "execution_count": 37,
   "metadata": {},
   "outputs": [
    {
     "name": "stdout",
     "output_type": "stream",
     "text": [
      "Shape of Y_pred_decision_tree: (2764,)\n",
      "The accuracy score achieved using Decision Tree is: 95.8 %\n"
     ]
    }
   ],
   "source": [
    "from sklearn.tree import DecisionTreeClassifier\n",
    "max_accuracy = 0\n",
    "for x in range(100):\n",
    "    dt = DecisionTreeClassifier(random_state=x)\n",
    "    dt = dt.fit(X_train,Y_train)\n",
    "    Y_pred_dt = dt.predict(X_test)\n",
    "    current_accuracy = round(accuracy_score(Y_pred_dt,Y_test)*100,2)\n",
    "    if(current_accuracy>max_accuracy):\n",
    "        max_accuracy = current_accuracy\n",
    "        best_x = x\n",
    "\n",
    "dt = DecisionTreeClassifier(random_state=best_x)\n",
    "dt = dt.fit(X_train,Y_train)\n",
    "Y_pred_dt = dt.predict(X_test)\n",
    "print(\"Shape of Y_pred_decision_tree:\", Y_pred_dt.shape)\n",
    "score_dt = round(accuracy_score(Y_pred_dt,Y_test)*100,2)\n",
    "print(\"The accuracy score achieved using Decision Tree is: \"+str(score_dt)+\" %\")"
   ]
  },
  {
   "cell_type": "code",
   "execution_count": 38,
   "metadata": {},
   "outputs": [
    {
     "name": "stdout",
     "output_type": "stream",
     "text": [
      "The accuracy score achieved using Decision Tree + K-fold is: 95.83 %\n"
     ]
    }
   ],
   "source": [
    "from sklearn import tree\n",
    "from sklearn.model_selection import KFold, cross_val_score\n",
    "from sklearn.model_selection import train_test_split\n",
    "Tree = tree.DecisionTreeClassifier()\n",
    "Tree = Tree.fit(predictors,target)\n",
    "\n",
    "score_dt_kfold = round((cross_val_score(Tree,predictors,target,cv=10).mean())*100,2)\n",
    "print (\"The accuracy score achieved using Decision Tree + K-fold is: \"+str(score_dt_kfold)+\" %\")"
   ]
  },
  {
   "cell_type": "markdown",
   "metadata": {},
   "source": [
    "Modelling using Popular Binary model: Random Forest"
   ]
  },
  {
   "cell_type": "code",
   "execution_count": 39,
   "metadata": {},
   "outputs": [
    {
     "name": "stdout",
     "output_type": "stream",
     "text": [
      "Shape of Y_pred_RandomForest: (2764,)\n",
      "The accuracy score achieved using Random Forest is: 96.67 %\n"
     ]
    }
   ],
   "source": [
    "from sklearn.ensemble import RandomForestClassifier\n",
    "max_accuracy = 0\n",
    "for x in range(100):\n",
    "    rf = RandomForestClassifier(random_state=x)\n",
    "    rf = rf.fit(X_train,Y_train)\n",
    "    Y_pred_rf = rf.predict(X_test)\n",
    "    current_accuracy = round(accuracy_score(Y_pred_rf,Y_test)*100,2)\n",
    "    if(current_accuracy>max_accuracy):\n",
    "        max_accuracy = current_accuracy\n",
    "        best_x = x\n",
    "        \n",
    "rf = RandomForestClassifier(random_state=best_x)\n",
    "rf = rf.fit(X_train,Y_train)\n",
    "Y_pred_rf = rf.predict(X_test)\n",
    "print(\"Shape of Y_pred_RandomForest:\", Y_pred_rf.shape)\n",
    "score_rf = round(accuracy_score(Y_pred_rf,Y_test)*100,2)\n",
    "\n",
    "print(\"The accuracy score achieved using Random Forest is: \"+str(score_rf)+\" %\")"
   ]
  },
  {
   "cell_type": "code",
   "execution_count": 40,
   "metadata": {},
   "outputs": [
    {
     "name": "stdout",
     "output_type": "stream",
     "text": [
      "The accuracy score achieved using Random Forest + K-fold is: 96.58 %\n"
     ]
    }
   ],
   "source": [
    "from sklearn.model_selection import KFold, cross_val_score\n",
    "from sklearn.model_selection import train_test_split\n",
    "score_rf_kfold = round((cross_val_score(rf,predictors,target,cv=10).mean())*100,2)\n",
    "print (\"The accuracy score achieved using Random Forest + K-fold is: \"+str(score_rf_kfold)+\" %\")"
   ]
  },
  {
   "cell_type": "markdown",
   "metadata": {},
   "source": [
    "Modelling using Popular Binary model: XGBoost"
   ]
  },
  {
   "cell_type": "code",
   "execution_count": 41,
   "metadata": {},
   "outputs": [
    {
     "name": "stdout",
     "output_type": "stream",
     "text": [
      "Requirement already satisfied: xgboost in /Users/sr_parthasarathy/opt/anaconda3/envs/py39_env/lib/python3.9/site-packages (1.6.1)\n",
      "Requirement already satisfied: scipy in /Users/sr_parthasarathy/opt/anaconda3/envs/py39_env/lib/python3.9/site-packages (from xgboost) (1.8.1)\n",
      "Requirement already satisfied: numpy in /Users/sr_parthasarathy/opt/anaconda3/envs/py39_env/lib/python3.9/site-packages (from xgboost) (1.22.3)\n",
      "Shape of Y_pred_XGBoost: (2764,)\n",
      "The accuracy score achieved using XGBoost is: 96.16 %\n"
     ]
    }
   ],
   "source": [
    "!pip install xgboost \n",
    "from sklearn.model_selection import KFold\n",
    "#from xgboost import XGBClassifier\n",
    "import xgboost as xgb\n",
    "\n",
    "# Replacing -1 with 0 in the target variable\n",
    "df['Result'] = np.where(df['Result']==-1, 0, df['Result'])\n",
    "\n",
    "xgb_model = xgb.XGBClassifier(objective=\"binary:logistic\", random_state=42)\n",
    "xgb_model.fit(X_train, Y_train)\n",
    "\n",
    "Y_pred_xgb = xgb_model.predict(X_test)\n",
    "Y_pred_xgb.shape\n",
    "print(\"Shape of Y_pred_XGBoost:\", Y_pred_xgb.shape)\n",
    "score_xgb = round(accuracy_score(Y_pred_xgb,Y_test)*100,2)\n",
    "print(\"The accuracy score achieved using XGBoost is: \"+str(score_xgb)+\" %\")"
   ]
  },
  {
   "cell_type": "code",
   "execution_count": 42,
   "metadata": {},
   "outputs": [
    {
     "name": "stdout",
     "output_type": "stream",
     "text": [
      "The accuracy score achieved using XGBoost + K-fold is: 96.35 %\n"
     ]
    }
   ],
   "source": [
    "from sklearn.model_selection import KFold, cross_val_score\n",
    "from sklearn.model_selection import train_test_split\n",
    "score_xgb_kfold = round((cross_val_score(xgb_model,predictors,target,cv=10).mean())*100,2)\n",
    "print (\"The accuracy score achieved using XGBoost + K-fold is: \"+str(score_xgb_kfold)+\" %\")"
   ]
  },
  {
   "cell_type": "code",
   "execution_count": 43,
   "metadata": {},
   "outputs": [
    {
     "name": "stdout",
     "output_type": "stream",
     "text": [
      "------------- Accuracy scores of Binary Classifiers ---------------\n",
      "\n",
      "The accuracy score achieved using Naive Bayes is: 60.53 %\n",
      "The accuracy score achieved using Support Vector Machine is: 91.64 %\n",
      "The accuracy score achieved using Logistic Regression is: 92.26 %\n",
      "The accuracy score achieved using K-Nearest Neighbors is: 93.89 %\n",
      "The accuracy score achieved using Decision Tree is: 95.8 %\n",
      "The accuracy score achieved using XGBoost is: 96.16 %\n",
      "The accuracy score achieved using Random Forest is: 96.67 %\n",
      "\n",
      "------------- Accuracy scores of Binary Classifiers with K-fold---------------\n",
      "\n",
      "The accuracy score achieved using Naive Bayes KF is: 60.06 %\n",
      "The accuracy score achieved using Support Vector Machine KF is: 92.1 %\n",
      "The accuracy score achieved using Logistic Regression KF is: 92.38 %\n",
      "The accuracy score achieved using K-Nearest Neighbors KF is: 93.62 %\n",
      "The accuracy score achieved using Decision Tree KF is: 95.83 %\n",
      "The accuracy score achieved using XGBoost KF is: 96.35 %\n",
      "The accuracy score achieved using Random Forest KF is: 96.58 %\n"
     ]
    }
   ],
   "source": [
    "scores = [score_nb,score_svm,score_lr,score_knn,score_dt,score_xgb,score_rf]\n",
    "algorithms = [\"Naive Bayes\",\"Support Vector Machine\",\"Logistic Regression\",\"K-Nearest Neighbors\",\"Decision Tree\",\"XGBoost\",\"Random Forest\"]    \n",
    "print(\"------------- Accuracy scores of Binary Classifiers ---------------\\n\")\n",
    "for i in range(len(algorithms)):\n",
    "    print(\"The accuracy score achieved using \"+algorithms[i]+\" is: \"+str(scores[i])+\" %\")\n",
    "    \n",
    "scores_kfold = [score_nb_kfold,score_svm_kfold,score_lr_kfold,score_knn_kfold,score_dt_kfold,score_xgb_kfold,score_rf_kfold]\n",
    "algorithms_kfold = [\"Naive Bayes KF\",\"Support Vector Machine KF\",\"Logistic Regression KF\",\"K-Nearest Neighbors KF\",\"Decision Tree KF\",\"XGBoost KF\",\"Random Forest KF\"]    \n",
    "print(\"\\n------------- Accuracy scores of Binary Classifiers with K-fold---------------\\n\")\n",
    "\n",
    "for i in range(len(algorithms_kfold)):\n",
    "    print(\"The accuracy score achieved using \"+algorithms_kfold[i]+\" is: \"+str(scores_kfold[i])+\" %\")"
   ]
  },
  {
   "cell_type": "code",
   "execution_count": 44,
   "metadata": {},
   "outputs": [
    {
     "name": "stderr",
     "output_type": "stream",
     "text": [
      "/Users/sr_parthasarathy/opt/anaconda3/envs/py39_env/lib/python3.9/site-packages/seaborn/_decorators.py:36: FutureWarning: Pass the following variables as keyword args: x, y. From version 0.12, the only valid positional argument will be `data`, and passing other arguments without an explicit keyword will result in an error or misinterpretation.\n",
      "  warnings.warn(\n"
     ]
    },
    {
     "data": {
      "text/plain": [
       "<AxesSubplot:xlabel='Algorithms', ylabel='Accuracy score'>"
      ]
     },
     "execution_count": 44,
     "metadata": {},
     "output_type": "execute_result"
    },
    {
     "data": {
      "image/png": "[encoded data removed]",
      "text/plain": [
       "<Figure size 1080x576 with 1 Axes>"
      ]
     },
     "metadata": {},
     "output_type": "display_data"
    }
   ],
   "source": [
    "sns.set(rc={'figure.figsize':(15,8)})\n",
    "plt.xlabel(\"Algorithms\")\n",
    "plt.ylabel(\"Accuracy score\")\n",
    "\n",
    "sns.barplot(algorithms,scores)"
   ]
  },
  {
   "cell_type": "code",
   "execution_count": 45,
   "metadata": {
    "scrolled": false
   },
   "outputs": [
    {
     "name": "stderr",
     "output_type": "stream",
     "text": [
      "/Users/sr_parthasarathy/opt/anaconda3/envs/py39_env/lib/python3.9/site-packages/seaborn/_decorators.py:36: FutureWarning: Pass the following variables as keyword args: x, y. From version 0.12, the only valid positional argument will be `data`, and passing other arguments without an explicit keyword will result in an error or misinterpretation.\n",
      "  warnings.warn(\n"
     ]
    },
    {
     "data": {
      "text/plain": [
       "<AxesSubplot:xlabel='Algorithms with K-Fold', ylabel='Accuracy score'>"
      ]
     },
     "execution_count": 45,
     "metadata": {},
     "output_type": "execute_result"
    },
    {
     "data": {
      "image/png": "[encoded data removed]",
      "text/plain": [
       "<Figure size 1080x576 with 1 Axes>"
      ]
     },
     "metadata": {},
     "output_type": "display_data"
    }
   ],
   "source": [
    "sns.set(rc={'figure.figsize':(15,8)})\n",
    "plt.xlabel(\"Algorithms with K-Fold\")\n",
    "plt.ylabel(\"Accuracy score\")\n",
    "\n",
    "sns.barplot(algorithms_kfold,scores_kfold)"
   ]
  },
  {
   "cell_type": "markdown",
   "metadata": {},
   "source": [
    "# Conclusion: \n",
    "- Best accuracy of 96.63% can be achieved using Random Forest algo, closely followed by XGBoost and Decision Tree\n",
    "- With this accuracy, there is a decent confidence that the Random Forest model (w/ KFold) should be able to detect any URL correctly as Phishing or Legit. \n",
    "- Attributes (random_state) for Random Forest, Decision tree were optimized instead choosing some number in random. \n",
    "- There is no major different with K-Fold (split size = 10).\n",
    "- Result is inline with the nature of data and Binary classification model. "
   ]
  }
 ],
 "metadata": {
  "kernelspec": {
   "display_name": "Python 3 (ipykernel)",
   "language": "python",
   "name": "python3"
  },
  "language_info": {
   "codemirror_mode": {
    "name": "ipython",
    "version": 3
   },
   "file_extension": ".py",
   "mimetype": "text/x-python",
   "name": "python",
   "nbconvert_exporter": "python",
   "pygments_lexer": "ipython3",
   "version": "3.9.12"
  }
 },
 "nbformat": 4,
 "nbformat_minor": 4
}
