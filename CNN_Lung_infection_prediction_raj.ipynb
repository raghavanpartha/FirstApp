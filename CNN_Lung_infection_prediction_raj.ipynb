{
  "cells": [
    {
      "cell_type": "markdown",
      "metadata": {
        "id": "view-in-github",
        "colab_type": "text"
      },
      "source": [
        "<a href=\"https://colab.research.google.com/github/raghavanpartha/FirstApp/blob/main/CNN_Lung_infection_prediction_raj.ipynb\" target=\"_parent\"><img src=\"https://colab.research.google.com/assets/colab-badge.svg\" alt=\"Open In Colab\"/></a>"
      ]
    },
    {
      "cell_type": "code",
      "execution_count": 172,
      "metadata": {
        "id": "M8IedwFdWy0W"
      },
      "outputs": [],
      "source": [
        "# Ensure GPU is selected\n",
        "# Runtime > Change Runtime > From Dropdown select GPU "
      ]
    },
    {
      "cell_type": "code",
      "execution_count": 173,
      "metadata": {
        "id": "Nl79FFVcXa9f"
      },
      "outputs": [],
      "source": [
        "# Create a Classification model that can predict whether the given image is a dog or cat"
      ]
    },
    {
      "cell_type": "code",
      "execution_count": 174,
      "metadata": {
        "colab": {
          "base_uri": "https://localhost:8080/"
        },
        "id": "bf5EUKKNXevp",
        "outputId": "55b74ef6-c48f-4281-e5d2-bca4ead67027"
      },
      "outputs": [
        {
          "output_type": "stream",
          "name": "stdout",
          "text": [
            "Archive:  data_Lungs.zip\n",
            "replace __MACOSX/._data_Lungs? [y]es, [n]o, [A]ll, [N]one, [r]ename: A\n",
            "  inflating: __MACOSX/._data_Lungs   \n",
            "  inflating: data_Lungs/.DS_Store    \n",
            "  inflating: __MACOSX/data_Lungs/._test  \n",
            "  inflating: __MACOSX/data_Lungs/._train  \n",
            "  inflating: __MACOSX/data_Lungs/test/._Type 1 disease  \n",
            "  inflating: data_Lungs/test/.DS_Store  \n",
            "  inflating: __MACOSX/data_Lungs/test/._healthy  \n",
            "  inflating: __MACOSX/data_Lungs/test/._Type 2 disease  \n",
            "  inflating: __MACOSX/data_Lungs/train/._Type 1 disease  \n",
            "  inflating: data_Lungs/train/.DS_Store  \n",
            "  inflating: __MACOSX/data_Lungs/train/._healthy  \n",
            "  inflating: __MACOSX/data_Lungs/train/._Type 2 disease  \n",
            "  inflating: data_Lungs/test/Type 1 disease/radiopaedia-2019-novel-coronavirus-infected-pneumonia.jpg  \n",
            "  inflating: data_Lungs/test/Type 1 disease/COVID-00012.jpg  \n",
            "  inflating: data_Lungs/test/Type 1 disease/0105.png  \n",
            "  inflating: data_Lungs/test/Type 1 disease/0111.jpg  \n",
            "  inflating: data_Lungs/test/Type 1 disease/0112.jpg  \n",
            "  inflating: data_Lungs/test/Type 1 disease/0113.jpg  \n",
            "  inflating: data_Lungs/test/Type 1 disease/auntminnie-a-2020_01_28_23_51_6665_2020_01_28_Vietnam_coronavirus.jpeg  \n",
            "  inflating: data_Lungs/test/Type 1 disease/098.jpeg  \n",
            "  inflating: data_Lungs/test/Type 1 disease/0106.jpeg  \n",
            "  inflating: data_Lungs/test/Type 1 disease/auntminnie-c-2020_01_28_23_51_6665_2020_01_28_Vietnam_coronavirus.jpeg  \n",
            "  inflating: data_Lungs/test/Type 1 disease/auntminnie-b-2020_01_28_23_51_6665_2020_01_28_Vietnam_coronavirus.jpeg  \n",
            "  inflating: data_Lungs/test/Type 1 disease/0100.jpeg  \n",
            "  inflating: data_Lungs/test/Type 1 disease/auntminnie-2020_01_31_20_24_2322_2020_01_31_x-ray_coronavirus_US.jpg  \n",
            "  inflating: data_Lungs/test/Type 1 disease/0119.jpeg  \n",
            "  inflating: data_Lungs/test/Type 1 disease/096.png  \n",
            "  inflating: data_Lungs/test/Type 1 disease/094.png  \n",
            "  inflating: data_Lungs/test/Type 1 disease/0115.jpeg  \n",
            "  inflating: data_Lungs/test/Type 1 disease/0102.jpeg  \n",
            "  inflating: data_Lungs/test/Type 1 disease/0118.jpeg  \n",
            "  inflating: data_Lungs/test/Type 1 disease/COVID-00033.jpg  \n",
            "  inflating: data_Lungs/test/Type 1 disease/auntminnie-d-2020_01_28_23_51_6665_2020_01_28_Vietnam_coronavirus.jpeg  \n",
            "  inflating: data_Lungs/test/Type 1 disease/0108.jpeg  \n",
            "  inflating: data_Lungs/test/Type 1 disease/COVID-00022.jpg  \n",
            "  inflating: data_Lungs/test/Type 1 disease/COVID-00003b.jpg  \n",
            "  inflating: data_Lungs/test/Type 1 disease/0120.jpg  \n",
            "  inflating: data_Lungs/test/Type 1 disease/COVID-00037.jpg  \n",
            "  inflating: data_Lungs/test/healthy/0107.jpeg  \n",
            "  inflating: data_Lungs/test/healthy/0111.jpeg  \n",
            "  inflating: data_Lungs/test/healthy/.DS_Store  \n",
            "  inflating: __MACOSX/data_Lungs/test/healthy/._.DS_Store  \n",
            "  inflating: data_Lungs/test/healthy/0110.jpeg  \n",
            "  inflating: data_Lungs/test/healthy/0106.jpeg  \n",
            "  inflating: data_Lungs/test/healthy/0121.jpeg  \n",
            "  inflating: data_Lungs/test/healthy/0101.jpeg  \n",
            "  inflating: data_Lungs/test/healthy/0117.jpeg  \n",
            "  inflating: data_Lungs/test/healthy/0116.jpeg  \n",
            "  inflating: data_Lungs/test/healthy/0120.jpeg  \n",
            "  inflating: data_Lungs/test/healthy/0119.jpeg  \n",
            "  inflating: data_Lungs/test/healthy/0115.jpeg  \n",
            "  inflating: data_Lungs/test/healthy/0103.jpeg  \n",
            "  inflating: data_Lungs/test/healthy/0102.jpeg  \n",
            "  inflating: data_Lungs/test/healthy/0114.jpeg  \n",
            "  inflating: data_Lungs/test/healthy/0118.jpeg  \n",
            "  inflating: data_Lungs/test/healthy/0122.jpeg  \n",
            "  inflating: data_Lungs/test/healthy/0105.jpeg  \n",
            "  inflating: data_Lungs/test/healthy/0109.jpeg  \n",
            "  inflating: data_Lungs/test/healthy/0108.jpeg  \n",
            "  inflating: data_Lungs/test/healthy/0112.jpeg  \n",
            "  inflating: data_Lungs/test/Type 2 disease/0107.jpeg  \n",
            "  inflating: data_Lungs/test/Type 2 disease/0111.jpeg  \n",
            "  inflating: data_Lungs/test/Type 2 disease/0110.jpeg  \n",
            "  inflating: data_Lungs/test/Type 2 disease/0106.jpeg  \n",
            "  inflating: data_Lungs/test/Type 2 disease/0101.jpeg  \n",
            "  inflating: data_Lungs/test/Type 2 disease/0117.jpeg  \n",
            "  inflating: data_Lungs/test/Type 2 disease/0116.jpeg  \n",
            "  inflating: data_Lungs/test/Type 2 disease/0120.jpeg  \n",
            "  inflating: data_Lungs/test/Type 2 disease/0119.jpeg  \n",
            "  inflating: data_Lungs/test/Type 2 disease/0115.jpeg  \n",
            "  inflating: data_Lungs/test/Type 2 disease/0103.jpeg  \n",
            "  inflating: data_Lungs/test/Type 2 disease/0102.jpeg  \n",
            "  inflating: data_Lungs/test/Type 2 disease/0114.jpeg  \n",
            "  inflating: data_Lungs/test/Type 2 disease/0118.jpeg  \n",
            "  inflating: data_Lungs/test/Type 2 disease/0113.jpeg  \n",
            "  inflating: data_Lungs/test/Type 2 disease/0105.jpeg  \n",
            "  inflating: data_Lungs/test/Type 2 disease/0109.jpeg  \n",
            "  inflating: data_Lungs/test/Type 2 disease/0108.jpeg  \n",
            "  inflating: data_Lungs/test/Type 2 disease/0104.jpeg  \n",
            "  inflating: data_Lungs/test/Type 2 disease/0112.jpeg  \n",
            "  inflating: data_Lungs/train/Type 1 disease/COVID-00006.jpg  \n",
            "  inflating: data_Lungs/train/Type 1 disease/COVID-00012.jpg  \n",
            "  inflating: data_Lungs/train/Type 1 disease/06.jpeg  \n",
            "  inflating: data_Lungs/train/Type 1 disease/060.jpeg  \n",
            "  inflating: data_Lungs/train/Type 1 disease/COVID-00007.jpg  \n",
            "  inflating: data_Lungs/train/Type 1 disease/021.jpeg  \n",
            "  inflating: data_Lungs/train/Type 1 disease/COVID-00011.jpg  \n",
            "  inflating: data_Lungs/train/Type 1 disease/COVID-00005.jpg  \n",
            "  inflating: data_Lungs/train/Type 1 disease/040.jpeg  \n",
            "  inflating: data_Lungs/train/Type 1 disease/015.jpg  \n",
            "  inflating: data_Lungs/train/Type 1 disease/083.jpeg  \n",
            "  inflating: data_Lungs/train/Type 1 disease/COVID-00038.jpg  \n",
            "  inflating: data_Lungs/train/Type 1 disease/COVID-00004.jpg  \n",
            "  inflating: data_Lungs/train/Type 1 disease/COVID-00010.jpg  \n",
            "  inflating: data_Lungs/train/Type 1 disease/COVID-00028.jpg  \n",
            "  inflating: data_Lungs/train/Type 1 disease/COVID-00014.jpg  \n",
            "  inflating: data_Lungs/train/Type 1 disease/010.png  \n",
            "  inflating: data_Lungs/train/Type 1 disease/041.jpeg  \n",
            "  inflating: data_Lungs/train/Type 1 disease/COVID-00001.jpg  \n",
            "  inflating: data_Lungs/train/Type 1 disease/COVID-00029.jpg  \n",
            "  inflating: data_Lungs/train/Type 1 disease/057.jpeg  \n",
            "  inflating: data_Lungs/train/Type 1 disease/COVID-00017.jpg  \n",
            "  inflating: data_Lungs/train/Type 1 disease/COVID-00016.jpg  \n",
            "  inflating: data_Lungs/train/Type 1 disease/COVID-00002.jpg  \n",
            "  inflating: data_Lungs/train/Type 1 disease/050.jpeg  \n",
            "  inflating: data_Lungs/train/Type 1 disease/046.jpeg  \n",
            "  inflating: data_Lungs/train/Type 1 disease/061.jpg  \n",
            "  inflating: data_Lungs/train/Type 1 disease/074.jpg  \n",
            "  inflating: data_Lungs/train/Type 1 disease/085.jpeg  \n",
            "  inflating: data_Lungs/train/Type 1 disease/089.jpg  \n",
            "  inflating: data_Lungs/train/Type 1 disease/076.jpg  \n",
            "  inflating: data_Lungs/train/Type 1 disease/031.jpeg  \n",
            "  inflating: data_Lungs/train/Type 1 disease/027.jpeg  \n",
            "  inflating: data_Lungs/train/Type 1 disease/026.jpeg  \n",
            "  inflating: data_Lungs/train/Type 1 disease/088.jpeg  \n",
            "  inflating: data_Lungs/train/Type 1 disease/067.jpg  \n",
            "  inflating: data_Lungs/train/Type 1 disease/073.jpg  \n",
            "  inflating: data_Lungs/train/Type 1 disease/01.jpeg  \n",
            "  inflating: data_Lungs/train/Type 1 disease/07.jpg  \n",
            "  inflating: data_Lungs/train/Type 1 disease/084.jpeg  \n",
            "  inflating: data_Lungs/train/Type 1 disease/064.jpg  \n",
            "  inflating: data_Lungs/train/Type 1 disease/071.jpg  \n",
            "  inflating: data_Lungs/train/Type 1 disease/047.jpeg  \n",
            "  inflating: data_Lungs/train/Type 1 disease/04.png  \n",
            "  inflating: data_Lungs/train/Type 1 disease/051.jpeg  \n",
            "  inflating: data_Lungs/train/Type 1 disease/09.png  \n",
            "  inflating: data_Lungs/train/Type 1 disease/068.jpg  \n",
            "  inflating: data_Lungs/train/Type 1 disease/069.jpg  \n",
            "  inflating: data_Lungs/train/Type 1 disease/044.jpeg  \n",
            "  inflating: data_Lungs/train/Type 1 disease/082.jpg  \n",
            "  inflating: data_Lungs/train/Type 1 disease/052.jpeg  \n",
            "  inflating: data_Lungs/train/Type 1 disease/025.jpeg  \n",
            "  inflating: data_Lungs/train/Type 1 disease/072.jpeg  \n",
            "  inflating: data_Lungs/train/Type 1 disease/080.jpg  \n",
            "  inflating: data_Lungs/train/Type 1 disease/056.jpg  \n",
            "  inflating: data_Lungs/train/Type 1 disease/048.jpeg  \n",
            "  inflating: data_Lungs/train/Type 1 disease/02.jpeg  \n",
            "  inflating: data_Lungs/train/Type 1 disease/03.jpeg  \n",
            "  inflating: data_Lungs/train/Type 1 disease/091.jpg  \n",
            "  inflating: data_Lungs/train/Type 1 disease/049.jpeg  \n",
            "  inflating: data_Lungs/train/Type 1 disease/032.jpeg  \n",
            "  inflating: data_Lungs/train/Type 1 disease/065.jpeg  \n",
            "  inflating: data_Lungs/train/Type 1 disease/COVID-00013b.jpg  \n",
            "  inflating: data_Lungs/train/Type 1 disease/024.jpeg  \n",
            "  inflating: data_Lungs/train/Type 1 disease/053.jpeg  \n",
            "  inflating: data_Lungs/train/Type 1 disease/012.jpeg  \n",
            "  inflating: data_Lungs/train/Type 1 disease/092.png  \n",
            "  inflating: data_Lungs/train/Type 1 disease/045.jpeg  \n",
            "  inflating: data_Lungs/train/Type 1 disease/086.jpg  \n",
            "  inflating: data_Lungs/train/Type 1 disease/090.jpeg  \n",
            "  inflating: data_Lungs/train/Type 1 disease/COVID-00013a.jpg  \n",
            "  inflating: data_Lungs/train/Type 1 disease/COVID-00027.jpg  \n",
            "  inflating: data_Lungs/train/Type 1 disease/COVID-00033.jpg  \n",
            "  inflating: data_Lungs/train/Type 1 disease/062.jpeg  \n",
            "  inflating: data_Lungs/train/Type 1 disease/COVID-00032.jpg  \n",
            "  inflating: data_Lungs/train/Type 1 disease/COVID-00026.jpg  \n",
            "  inflating: data_Lungs/train/Type 1 disease/058.jpeg  \n",
            "  inflating: data_Lungs/train/Type 1 disease/COVID-00030.jpg  \n",
            "  inflating: data_Lungs/train/Type 1 disease/COVID-00024.jpg  \n",
            "  inflating: data_Lungs/train/Type 1 disease/078.jpeg  \n",
            "  inflating: data_Lungs/train/Type 1 disease/COVID-00018.jpg  \n",
            "  inflating: data_Lungs/train/Type 1 disease/081.jpeg  \n",
            "  inflating: data_Lungs/train/Type 1 disease/020.jpg  \n",
            "  inflating: data_Lungs/train/Type 1 disease/039.jpeg  \n",
            "  inflating: data_Lungs/train/Type 1 disease/042.jpeg  \n",
            "  inflating: data_Lungs/train/Type 1 disease/08.jpeg  \n",
            "  inflating: data_Lungs/train/Type 1 disease/COVID-00019.jpg  \n",
            "  inflating: data_Lungs/train/Type 1 disease/COVID-00025.jpg  \n",
            "  inflating: data_Lungs/train/Type 1 disease/COVID-00031.jpg  \n",
            "  inflating: data_Lungs/train/Type 1 disease/054.jpeg  \n",
            "  inflating: data_Lungs/train/Type 1 disease/055.jpeg  \n",
            "  inflating: data_Lungs/train/Type 1 disease/COVID-00009.jpg  \n",
            "  inflating: data_Lungs/train/Type 1 disease/COVID-00035.jpg  \n",
            "  inflating: data_Lungs/train/Type 1 disease/COVID-00021.jpg  \n",
            "  inflating: data_Lungs/train/Type 1 disease/019.png  \n",
            "  inflating: data_Lungs/train/Type 1 disease/043.jpeg  \n",
            "  inflating: data_Lungs/train/Type 1 disease/COVID-00003a.jpg  \n",
            "  inflating: data_Lungs/train/Type 1 disease/COVID-00020.jpg  \n",
            "  inflating: data_Lungs/train/Type 1 disease/COVID-00034.jpg  \n",
            "  inflating: data_Lungs/train/Type 1 disease/079.jpeg  \n",
            "  inflating: data_Lungs/train/Type 1 disease/COVID-00008.jpg  \n",
            "  inflating: data_Lungs/train/Type 1 disease/COVID-00015a.png  \n",
            "  inflating: data_Lungs/train/Type 1 disease/059.jpeg  \n",
            "  inflating: data_Lungs/train/Type 1 disease/COVID-00022.jpg  \n",
            "  inflating: data_Lungs/train/Type 1 disease/COVID-00036.jpg  \n",
            "  inflating: data_Lungs/train/Type 1 disease/COVID-00003b.jpg  \n",
            "  inflating: data_Lungs/train/Type 1 disease/033.png  \n",
            "  inflating: data_Lungs/train/Type 1 disease/COVID-00037.jpg  \n",
            "  inflating: data_Lungs/train/Type 1 disease/COVID-00023.jpg  \n",
            "  inflating: data_Lungs/train/Type 1 disease/COVID-00015b.png  \n",
            "  inflating: data_Lungs/train/Type 1 disease/022.jpeg  \n",
            "  inflating: data_Lungs/train/healthy/06.jpeg  \n",
            "  inflating: data_Lungs/train/healthy/060.jpeg  \n",
            "  inflating: data_Lungs/train/healthy/076.jpeg  \n",
            "  inflating: data_Lungs/train/healthy/021.jpeg  \n",
            "  inflating: data_Lungs/train/healthy/056.jpeg  \n",
            "  inflating: data_Lungs/train/healthy/017.jpeg  \n",
            "  inflating: data_Lungs/train/healthy/083.jpeg  \n",
            "  inflating: data_Lungs/train/healthy/095.jpeg  \n",
            "  inflating: data_Lungs/train/healthy/094.jpeg  \n",
            "  inflating: data_Lungs/train/healthy/082.jpeg  \n",
            "  inflating: data_Lungs/train/healthy/016.jpeg  \n",
            "  inflating: data_Lungs/train/healthy/057.jpeg  \n",
            "  inflating: data_Lungs/train/healthy/020.jpeg  \n",
            "  inflating: data_Lungs/train/healthy/077.jpeg  \n",
            "  inflating: data_Lungs/train/healthy/061.jpeg  \n",
            "  inflating: data_Lungs/train/healthy/07.jpeg  \n",
            "  inflating: data_Lungs/train/healthy/050.jpeg  \n",
            "  inflating: data_Lungs/train/healthy/011.jpeg  \n",
            "  inflating: data_Lungs/train/healthy/085.jpeg  \n",
            "  inflating: data_Lungs/train/healthy/093.jpeg  \n",
            "  inflating: data_Lungs/train/healthy/066.jpeg  \n",
            "  inflating: data_Lungs/train/healthy/070.jpeg  \n",
            "  inflating: data_Lungs/train/healthy/071.jpeg  \n",
            "  inflating: data_Lungs/train/healthy/067.jpeg  \n",
            "  inflating: data_Lungs/train/healthy/088.jpeg  \n",
            "  inflating: data_Lungs/train/healthy/01.jpeg  \n",
            "  inflating: data_Lungs/train/healthy/092.jpeg  \n",
            "  inflating: data_Lungs/train/healthy/084.jpeg  \n",
            "  inflating: data_Lungs/train/healthy/010.jpeg  \n",
            "  inflating: data_Lungs/train/healthy/051.jpeg  \n",
            "  inflating: data_Lungs/train/healthy/091.jpeg  \n",
            "  inflating: data_Lungs/train/healthy/087.jpeg  \n",
            "  inflating: data_Lungs/train/healthy/068.jpeg  \n",
            "  inflating: data_Lungs/train/healthy/013.jpeg  \n",
            "  inflating: data_Lungs/train/healthy/052.jpeg  \n",
            "  inflating: data_Lungs/train/healthy/025.jpeg  \n",
            "  inflating: data_Lungs/train/healthy/072.jpeg  \n",
            "  inflating: data_Lungs/train/healthy/064.jpeg  \n",
            "  inflating: data_Lungs/train/healthy/02.jpeg  \n",
            "  inflating: data_Lungs/train/healthy/03.jpeg  \n",
            "  inflating: data_Lungs/train/healthy/065.jpeg  \n",
            "  inflating: data_Lungs/train/healthy/073.jpeg  \n",
            "  inflating: data_Lungs/train/healthy/024.jpeg  \n",
            "  inflating: data_Lungs/train/healthy/053.jpeg  \n",
            "  inflating: data_Lungs/train/healthy/012.jpeg  \n",
            "  inflating: data_Lungs/train/healthy/086.jpeg  \n",
            "  inflating: data_Lungs/train/healthy/069.jpeg  \n",
            "  inflating: data_Lungs/train/healthy/023.jpeg  \n",
            "  inflating: data_Lungs/train/healthy/074.jpeg  \n",
            "  inflating: data_Lungs/train/healthy/062.jpeg  \n",
            "  inflating: data_Lungs/train/healthy/019.jpeg  \n",
            "  inflating: data_Lungs/train/healthy/04.jpeg  \n",
            "  inflating: data_Lungs/train/healthy/058.jpeg  \n",
            "  inflating: data_Lungs/train/healthy/097.jpeg  \n",
            "  inflating: data_Lungs/train/healthy/081.jpeg  \n",
            "  inflating: data_Lungs/train/healthy/015.jpeg  \n",
            "  inflating: data_Lungs/train/healthy/08.jpeg  \n",
            "  inflating: data_Lungs/train/healthy/054.jpeg  \n",
            "  inflating: data_Lungs/train/healthy/055.jpeg  \n",
            "  inflating: data_Lungs/train/healthy/014.jpeg  \n",
            "  inflating: data_Lungs/train/healthy/09.jpeg  \n",
            "  inflating: data_Lungs/train/healthy/080.jpeg  \n",
            "  inflating: data_Lungs/train/healthy/096.jpeg  \n",
            "  inflating: data_Lungs/train/healthy/079.jpeg  \n",
            "  inflating: data_Lungs/train/healthy/059.jpeg  \n",
            "  inflating: data_Lungs/train/healthy/018.jpeg  \n",
            "  inflating: data_Lungs/train/healthy/05.jpeg  \n",
            "  inflating: data_Lungs/train/healthy/063.jpeg  \n",
            "  inflating: data_Lungs/train/healthy/075.jpeg  \n",
            "  inflating: data_Lungs/train/healthy/022.jpeg  \n",
            "  inflating: data_Lungs/train/Type 2 disease/06.jpeg  \n",
            "  inflating: data_Lungs/train/Type 2 disease/037.jpeg  \n",
            "  inflating: data_Lungs/train/Type 2 disease/076.jpeg  \n",
            "  inflating: data_Lungs/train/Type 2 disease/021.jpeg  \n",
            "  inflating: data_Lungs/train/Type 2 disease/056.jpeg  \n",
            "  inflating: data_Lungs/train/Type 2 disease/083.jpeg  \n",
            "  inflating: data_Lungs/train/Type 2 disease/095.jpeg  \n",
            "  inflating: data_Lungs/train/Type 2 disease/094.jpeg  \n",
            "  inflating: data_Lungs/train/Type 2 disease/082.jpeg  \n",
            "  inflating: data_Lungs/train/Type 2 disease/041.jpeg  \n",
            "  inflating: data_Lungs/train/Type 2 disease/016.jpeg  \n",
            "  inflating: data_Lungs/train/Type 2 disease/057.jpeg  \n",
            "  inflating: data_Lungs/train/Type 2 disease/020.jpeg  \n",
            "  inflating: data_Lungs/train/Type 2 disease/077.jpeg  \n",
            "  inflating: data_Lungs/train/Type 2 disease/061.jpeg  \n",
            "  inflating: data_Lungs/train/Type 2 disease/036.jpeg  \n",
            "  inflating: data_Lungs/train/Type 2 disease/07.jpeg  \n",
            "  inflating: data_Lungs/train/Type 2 disease/011.jpeg  \n",
            "  inflating: data_Lungs/train/Type 2 disease/046.jpeg  \n",
            "  inflating: data_Lungs/train/Type 2 disease/031.jpeg  \n",
            "  inflating: data_Lungs/train/Type 2 disease/066.jpeg  \n",
            "  inflating: data_Lungs/train/Type 2 disease/027.jpeg  \n",
            "  inflating: data_Lungs/train/Type 2 disease/071.jpeg  \n",
            "  inflating: data_Lungs/train/Type 2 disease/067.jpeg  \n",
            "  inflating: data_Lungs/train/Type 2 disease/01.jpeg  \n",
            "  inflating: data_Lungs/train/Type 2 disease/084.jpeg  \n",
            "  inflating: data_Lungs/train/Type 2 disease/047.jpeg  \n",
            "  inflating: data_Lungs/train/Type 2 disease/010.jpeg  \n",
            "  inflating: data_Lungs/train/Type 2 disease/051.jpeg  \n",
            "  inflating: data_Lungs/train/Type 2 disease/068.jpeg  \n",
            "  inflating: data_Lungs/train/Type 2 disease/044.jpeg  \n",
            "  inflating: data_Lungs/train/Type 2 disease/013.jpeg  \n",
            "  inflating: data_Lungs/train/Type 2 disease/052.jpeg  \n",
            "  inflating: data_Lungs/train/Type 2 disease/025.jpeg  \n",
            "  inflating: data_Lungs/train/Type 2 disease/072.jpeg  \n",
            "  inflating: data_Lungs/train/Type 2 disease/064.jpeg  \n",
            "  inflating: data_Lungs/train/Type 2 disease/033.jpeg  \n",
            "  inflating: data_Lungs/train/Type 2 disease/048.jpeg  \n",
            "  inflating: data_Lungs/train/Type 2 disease/02.jpeg  \n",
            "  inflating: data_Lungs/train/Type 2 disease/03.jpeg  \n",
            "  inflating: data_Lungs/train/Type 2 disease/032.jpeg  \n",
            "  inflating: data_Lungs/train/Type 2 disease/065.jpeg  \n",
            "  inflating: data_Lungs/train/Type 2 disease/073.jpeg  \n",
            "  inflating: data_Lungs/train/Type 2 disease/024.jpeg  \n",
            "  inflating: data_Lungs/train/Type 2 disease/053.jpeg  \n",
            "  inflating: data_Lungs/train/Type 2 disease/012.jpeg  \n",
            "  inflating: data_Lungs/train/Type 2 disease/045.jpeg  \n",
            "  inflating: data_Lungs/train/Type 2 disease/023.jpeg  \n",
            "  inflating: data_Lungs/train/Type 2 disease/074.jpeg  \n",
            "  inflating: data_Lungs/train/Type 2 disease/062.jpeg  \n",
            "  inflating: data_Lungs/train/Type 2 disease/035.jpeg  \n",
            "  inflating: data_Lungs/train/Type 2 disease/019.jpeg  \n",
            "  inflating: data_Lungs/train/Type 2 disease/04.jpeg  \n",
            "  inflating: data_Lungs/train/Type 2 disease/058.jpeg  \n",
            "  inflating: data_Lungs/train/Type 2 disease/078.jpeg  \n",
            "  inflating: data_Lungs/train/Type 2 disease/081.jpeg  \n",
            "  inflating: data_Lungs/train/Type 2 disease/042.jpeg  \n",
            "  inflating: data_Lungs/train/Type 2 disease/08.jpeg  \n",
            "  inflating: data_Lungs/train/Type 2 disease/054.jpeg  \n",
            "  inflating: data_Lungs/train/Type 2 disease/055.jpeg  \n",
            "  inflating: data_Lungs/train/Type 2 disease/09.jpeg  \n",
            "  inflating: data_Lungs/train/Type 2 disease/043.jpeg  \n",
            "  inflating: data_Lungs/train/Type 2 disease/038.jpeg  \n",
            "  inflating: data_Lungs/train/Type 2 disease/096.jpeg  \n",
            "  inflating: data_Lungs/train/Type 2 disease/018.jpeg  \n",
            "  inflating: data_Lungs/train/Type 2 disease/05.jpeg  \n",
            "  inflating: data_Lungs/train/Type 2 disease/034.jpeg  \n",
            "  inflating: data_Lungs/train/Type 2 disease/063.jpeg  \n",
            "  inflating: data_Lungs/train/Type 2 disease/075.jpeg  \n",
            "  inflating: data_Lungs/train/Type 2 disease/022.jpeg  \n"
          ]
        }
      ],
      "source": [
        "#For Colab users, once the zip file is uploaded, extract the same\n",
        "! unzip data_Lungs.zip"
      ]
    },
    {
      "cell_type": "code",
      "execution_count": 175,
      "metadata": {
        "id": "q0Dlmdm-Xtu5"
      },
      "outputs": [],
      "source": [
        "import tensorflow as tf"
      ]
    },
    {
      "cell_type": "code",
      "execution_count": 176,
      "metadata": {
        "id": "W_bohmI5XwmY"
      },
      "outputs": [],
      "source": [
        "#Preprocessing --- Goal to make the data compatible for CNN input\n",
        "# In tensorflow, you can achieve the same using ImageGenerators\n",
        "\n",
        "\n",
        "train_generator = tf.keras.preprocessing.image.ImageDataGenerator(rescale= 1.0/255.)\n",
        "test_generator = tf.keras.preprocessing.image.ImageDataGenerator(rescale= 1.0/255.)"
      ]
    },
    {
      "cell_type": "code",
      "execution_count": 177,
      "metadata": {
        "colab": {
          "base_uri": "https://localhost:8080/"
        },
        "id": "VzBnyzGRYJ5y",
        "outputId": "df155c48-2d22-4311-9652-e2b778cc264c"
      },
      "outputs": [
        {
          "output_type": "stream",
          "name": "stdout",
          "text": [
            "Found 251 images belonging to 3 classes.\n",
            "Found 66 images belonging to 3 classes.\n"
          ]
        }
      ],
      "source": [
        "#Pass the images through the generator\n",
        "\n",
        "trainImageData = train_generator.flow_from_directory(\"data_Lungs/train/\",\n",
        "                                                     batch_size=16, #how much images to give per iteration in an epoch\n",
        "                                                     class_mode=\"categorical\", #Incase of multi-class classification, \"categorical\"\n",
        "                                                     target_size=(48,48) #Ensures all images are of same size (resizing)\n",
        "                                                     ) \n",
        "\n",
        "\n",
        "testImageData = train_generator.flow_from_directory(\"data_Lungs/test/\",\n",
        "                                                     batch_size=16, #how much images to give per iteration in an epoch\n",
        "                                                     class_mode=\"categorical\", #Incase of multi-class classification, \"categorical\"\n",
        "                                                     target_size=(48,48) #Ensures all images are of same size (resizing)\n",
        "                                                     ) "
      ]
    },
    {
      "cell_type": "code",
      "execution_count": 178,
      "metadata": {
        "colab": {
          "base_uri": "https://localhost:8080/"
        },
        "id": "tlR6lcjbaCX-",
        "outputId": "d67a1d57-0701-4cfe-e99d-7a159a579eea"
      },
      "outputs": [
        {
          "output_type": "execute_result",
          "data": {
            "text/plain": [
              "{'Type 1 disease': 0, 'Type 2 disease': 1, 'healthy': 2}"
            ]
          },
          "metadata": {},
          "execution_count": 178
        }
      ],
      "source": [
        "#Given dataset is a balanced dataset !!!\n",
        "\n",
        "trainImageData.class_indices"
      ]
    },
    {
      "cell_type": "code",
      "source": [
        "#Given dataset is a balanced dataset !!!\n",
        "\n",
        "testImageData.class_indices"
      ],
      "metadata": {
        "colab": {
          "base_uri": "https://localhost:8080/"
        },
        "id": "l9OnCekXjVaJ",
        "outputId": "4be6426b-d375-40a9-b625-d68e37ef731f"
      },
      "execution_count": 179,
      "outputs": [
        {
          "output_type": "execute_result",
          "data": {
            "text/plain": [
              "{'Type 1 disease': 0, 'Type 2 disease': 1, 'healthy': 2}"
            ]
          },
          "metadata": {},
          "execution_count": 179
        }
      ]
    },
    {
      "cell_type": "code",
      "execution_count": 180,
      "metadata": {
        "colab": {
          "base_uri": "https://localhost:8080/"
        },
        "id": "a1swbKaudtHp",
        "outputId": "ad284cdb-d7bc-4397-a942-3fa1a7e6f8c3"
      },
      "outputs": [
        {
          "output_type": "execute_result",
          "data": {
            "text/plain": [
              "['Type 1 disease/01.jpeg',\n",
              " 'Type 1 disease/010.png',\n",
              " 'Type 1 disease/012.jpeg',\n",
              " 'Type 1 disease/015.jpg',\n",
              " 'Type 1 disease/019.png',\n",
              " 'Type 1 disease/02.jpeg',\n",
              " 'Type 1 disease/020.jpg',\n",
              " 'Type 1 disease/021.jpeg',\n",
              " 'Type 1 disease/022.jpeg',\n",
              " 'Type 1 disease/024.jpeg',\n",
              " 'Type 1 disease/025.jpeg',\n",
              " 'Type 1 disease/026.jpeg',\n",
              " 'Type 1 disease/027.jpeg',\n",
              " 'Type 1 disease/03.jpeg',\n",
              " 'Type 1 disease/031.jpeg',\n",
              " 'Type 1 disease/032.jpeg',\n",
              " 'Type 1 disease/033.png',\n",
              " 'Type 1 disease/039.jpeg',\n",
              " 'Type 1 disease/04.png',\n",
              " 'Type 1 disease/040.jpeg',\n",
              " 'Type 1 disease/041.jpeg',\n",
              " 'Type 1 disease/042.jpeg',\n",
              " 'Type 1 disease/043.jpeg',\n",
              " 'Type 1 disease/044.jpeg',\n",
              " 'Type 1 disease/045.jpeg',\n",
              " 'Type 1 disease/046.jpeg',\n",
              " 'Type 1 disease/047.jpeg',\n",
              " 'Type 1 disease/048.jpeg',\n",
              " 'Type 1 disease/049.jpeg',\n",
              " 'Type 1 disease/050.jpeg',\n",
              " 'Type 1 disease/051.jpeg',\n",
              " 'Type 1 disease/052.jpeg',\n",
              " 'Type 1 disease/053.jpeg',\n",
              " 'Type 1 disease/054.jpeg',\n",
              " 'Type 1 disease/055.jpeg',\n",
              " 'Type 1 disease/056.jpg',\n",
              " 'Type 1 disease/057.jpeg',\n",
              " 'Type 1 disease/058.jpeg',\n",
              " 'Type 1 disease/059.jpeg',\n",
              " 'Type 1 disease/06.jpeg',\n",
              " 'Type 1 disease/060.jpeg',\n",
              " 'Type 1 disease/061.jpg',\n",
              " 'Type 1 disease/062.jpeg',\n",
              " 'Type 1 disease/064.jpg',\n",
              " 'Type 1 disease/065.jpeg',\n",
              " 'Type 1 disease/067.jpg',\n",
              " 'Type 1 disease/068.jpg',\n",
              " 'Type 1 disease/069.jpg',\n",
              " 'Type 1 disease/07.jpg',\n",
              " 'Type 1 disease/071.jpg',\n",
              " 'Type 1 disease/072.jpeg',\n",
              " 'Type 1 disease/073.jpg',\n",
              " 'Type 1 disease/074.jpg',\n",
              " 'Type 1 disease/076.jpg',\n",
              " 'Type 1 disease/078.jpeg',\n",
              " 'Type 1 disease/079.jpeg',\n",
              " 'Type 1 disease/08.jpeg',\n",
              " 'Type 1 disease/080.jpg',\n",
              " 'Type 1 disease/081.jpeg',\n",
              " 'Type 1 disease/082.jpg',\n",
              " 'Type 1 disease/083.jpeg',\n",
              " 'Type 1 disease/084.jpeg',\n",
              " 'Type 1 disease/085.jpeg',\n",
              " 'Type 1 disease/086.jpg',\n",
              " 'Type 1 disease/088.jpeg',\n",
              " 'Type 1 disease/089.jpg',\n",
              " 'Type 1 disease/09.png',\n",
              " 'Type 1 disease/090.jpeg',\n",
              " 'Type 1 disease/091.jpg',\n",
              " 'Type 1 disease/092.png',\n",
              " 'Type 1 disease/COVID-00001.jpg',\n",
              " 'Type 1 disease/COVID-00002.jpg',\n",
              " 'Type 1 disease/COVID-00003a.jpg',\n",
              " 'Type 1 disease/COVID-00003b.jpg',\n",
              " 'Type 1 disease/COVID-00004.jpg',\n",
              " 'Type 1 disease/COVID-00005.jpg',\n",
              " 'Type 1 disease/COVID-00006.jpg',\n",
              " 'Type 1 disease/COVID-00007.jpg',\n",
              " 'Type 1 disease/COVID-00008.jpg',\n",
              " 'Type 1 disease/COVID-00009.jpg',\n",
              " 'Type 1 disease/COVID-00010.jpg',\n",
              " 'Type 1 disease/COVID-00011.jpg',\n",
              " 'Type 1 disease/COVID-00012.jpg',\n",
              " 'Type 1 disease/COVID-00013a.jpg',\n",
              " 'Type 1 disease/COVID-00013b.jpg',\n",
              " 'Type 1 disease/COVID-00014.jpg',\n",
              " 'Type 1 disease/COVID-00015a.png',\n",
              " 'Type 1 disease/COVID-00015b.png',\n",
              " 'Type 1 disease/COVID-00016.jpg',\n",
              " 'Type 1 disease/COVID-00017.jpg',\n",
              " 'Type 1 disease/COVID-00018.jpg',\n",
              " 'Type 1 disease/COVID-00019.jpg',\n",
              " 'Type 1 disease/COVID-00020.jpg',\n",
              " 'Type 1 disease/COVID-00021.jpg',\n",
              " 'Type 1 disease/COVID-00022.jpg',\n",
              " 'Type 1 disease/COVID-00023.jpg',\n",
              " 'Type 1 disease/COVID-00024.jpg',\n",
              " 'Type 1 disease/COVID-00025.jpg',\n",
              " 'Type 1 disease/COVID-00026.jpg',\n",
              " 'Type 1 disease/COVID-00027.jpg',\n",
              " 'Type 1 disease/COVID-00028.jpg',\n",
              " 'Type 1 disease/COVID-00029.jpg',\n",
              " 'Type 1 disease/COVID-00030.jpg',\n",
              " 'Type 1 disease/COVID-00031.jpg',\n",
              " 'Type 1 disease/COVID-00032.jpg',\n",
              " 'Type 1 disease/COVID-00033.jpg',\n",
              " 'Type 1 disease/COVID-00034.jpg',\n",
              " 'Type 1 disease/COVID-00035.jpg',\n",
              " 'Type 1 disease/COVID-00036.jpg',\n",
              " 'Type 1 disease/COVID-00037.jpg',\n",
              " 'Type 1 disease/COVID-00038.jpg',\n",
              " 'Type 2 disease/01.jpeg',\n",
              " 'Type 2 disease/010.jpeg',\n",
              " 'Type 2 disease/011.jpeg',\n",
              " 'Type 2 disease/012.jpeg',\n",
              " 'Type 2 disease/013.jpeg',\n",
              " 'Type 2 disease/016.jpeg',\n",
              " 'Type 2 disease/018.jpeg',\n",
              " 'Type 2 disease/019.jpeg',\n",
              " 'Type 2 disease/02.jpeg',\n",
              " 'Type 2 disease/020.jpeg',\n",
              " 'Type 2 disease/021.jpeg',\n",
              " 'Type 2 disease/022.jpeg',\n",
              " 'Type 2 disease/023.jpeg',\n",
              " 'Type 2 disease/024.jpeg',\n",
              " 'Type 2 disease/025.jpeg',\n",
              " 'Type 2 disease/027.jpeg',\n",
              " 'Type 2 disease/03.jpeg',\n",
              " 'Type 2 disease/031.jpeg',\n",
              " 'Type 2 disease/032.jpeg',\n",
              " 'Type 2 disease/033.jpeg',\n",
              " 'Type 2 disease/034.jpeg',\n",
              " 'Type 2 disease/035.jpeg',\n",
              " 'Type 2 disease/036.jpeg',\n",
              " 'Type 2 disease/037.jpeg',\n",
              " 'Type 2 disease/038.jpeg',\n",
              " 'Type 2 disease/04.jpeg',\n",
              " 'Type 2 disease/041.jpeg',\n",
              " 'Type 2 disease/042.jpeg',\n",
              " 'Type 2 disease/043.jpeg',\n",
              " 'Type 2 disease/044.jpeg',\n",
              " 'Type 2 disease/045.jpeg',\n",
              " 'Type 2 disease/046.jpeg',\n",
              " 'Type 2 disease/047.jpeg',\n",
              " 'Type 2 disease/048.jpeg',\n",
              " 'Type 2 disease/05.jpeg',\n",
              " 'Type 2 disease/051.jpeg',\n",
              " 'Type 2 disease/052.jpeg',\n",
              " 'Type 2 disease/053.jpeg',\n",
              " 'Type 2 disease/054.jpeg',\n",
              " 'Type 2 disease/055.jpeg',\n",
              " 'Type 2 disease/056.jpeg',\n",
              " 'Type 2 disease/057.jpeg',\n",
              " 'Type 2 disease/058.jpeg',\n",
              " 'Type 2 disease/06.jpeg',\n",
              " 'Type 2 disease/061.jpeg',\n",
              " 'Type 2 disease/062.jpeg',\n",
              " 'Type 2 disease/063.jpeg',\n",
              " 'Type 2 disease/064.jpeg',\n",
              " 'Type 2 disease/065.jpeg',\n",
              " 'Type 2 disease/066.jpeg',\n",
              " 'Type 2 disease/067.jpeg',\n",
              " 'Type 2 disease/068.jpeg',\n",
              " 'Type 2 disease/07.jpeg',\n",
              " 'Type 2 disease/071.jpeg',\n",
              " 'Type 2 disease/072.jpeg',\n",
              " 'Type 2 disease/073.jpeg',\n",
              " 'Type 2 disease/074.jpeg',\n",
              " 'Type 2 disease/075.jpeg',\n",
              " 'Type 2 disease/076.jpeg',\n",
              " 'Type 2 disease/077.jpeg',\n",
              " 'Type 2 disease/078.jpeg',\n",
              " 'Type 2 disease/08.jpeg',\n",
              " 'Type 2 disease/081.jpeg',\n",
              " 'Type 2 disease/082.jpeg',\n",
              " 'Type 2 disease/083.jpeg',\n",
              " 'Type 2 disease/084.jpeg',\n",
              " 'Type 2 disease/09.jpeg',\n",
              " 'Type 2 disease/094.jpeg',\n",
              " 'Type 2 disease/095.jpeg',\n",
              " 'Type 2 disease/096.jpeg',\n",
              " 'healthy/01.jpeg',\n",
              " 'healthy/010.jpeg',\n",
              " 'healthy/011.jpeg',\n",
              " 'healthy/012.jpeg',\n",
              " 'healthy/013.jpeg',\n",
              " 'healthy/014.jpeg',\n",
              " 'healthy/015.jpeg',\n",
              " 'healthy/016.jpeg',\n",
              " 'healthy/017.jpeg',\n",
              " 'healthy/018.jpeg',\n",
              " 'healthy/019.jpeg',\n",
              " 'healthy/02.jpeg',\n",
              " 'healthy/020.jpeg',\n",
              " 'healthy/021.jpeg',\n",
              " 'healthy/022.jpeg',\n",
              " 'healthy/023.jpeg',\n",
              " 'healthy/024.jpeg',\n",
              " 'healthy/025.jpeg',\n",
              " 'healthy/03.jpeg',\n",
              " 'healthy/04.jpeg',\n",
              " 'healthy/05.jpeg',\n",
              " 'healthy/050.jpeg',\n",
              " 'healthy/051.jpeg',\n",
              " 'healthy/052.jpeg',\n",
              " 'healthy/053.jpeg',\n",
              " 'healthy/054.jpeg',\n",
              " 'healthy/055.jpeg',\n",
              " 'healthy/056.jpeg',\n",
              " 'healthy/057.jpeg',\n",
              " 'healthy/058.jpeg',\n",
              " 'healthy/059.jpeg',\n",
              " 'healthy/06.jpeg',\n",
              " 'healthy/060.jpeg',\n",
              " 'healthy/061.jpeg',\n",
              " 'healthy/062.jpeg',\n",
              " 'healthy/063.jpeg',\n",
              " 'healthy/064.jpeg',\n",
              " 'healthy/065.jpeg',\n",
              " 'healthy/066.jpeg',\n",
              " 'healthy/067.jpeg',\n",
              " 'healthy/068.jpeg',\n",
              " 'healthy/069.jpeg',\n",
              " 'healthy/07.jpeg',\n",
              " 'healthy/070.jpeg',\n",
              " 'healthy/071.jpeg',\n",
              " 'healthy/072.jpeg',\n",
              " 'healthy/073.jpeg',\n",
              " 'healthy/074.jpeg',\n",
              " 'healthy/075.jpeg',\n",
              " 'healthy/076.jpeg',\n",
              " 'healthy/077.jpeg',\n",
              " 'healthy/079.jpeg',\n",
              " 'healthy/08.jpeg',\n",
              " 'healthy/080.jpeg',\n",
              " 'healthy/081.jpeg',\n",
              " 'healthy/082.jpeg',\n",
              " 'healthy/083.jpeg',\n",
              " 'healthy/084.jpeg',\n",
              " 'healthy/085.jpeg',\n",
              " 'healthy/086.jpeg',\n",
              " 'healthy/087.jpeg',\n",
              " 'healthy/088.jpeg',\n",
              " 'healthy/09.jpeg',\n",
              " 'healthy/091.jpeg',\n",
              " 'healthy/092.jpeg',\n",
              " 'healthy/093.jpeg',\n",
              " 'healthy/094.jpeg',\n",
              " 'healthy/095.jpeg',\n",
              " 'healthy/096.jpeg',\n",
              " 'healthy/097.jpeg']"
            ]
          },
          "metadata": {},
          "execution_count": 180
        }
      ],
      "source": [
        "trainImageData.filenames"
      ]
    },
    {
      "cell_type": "code",
      "source": [
        "testImageData.filenames"
      ],
      "metadata": {
        "id": "6AsiPS8yjYL6",
        "colab": {
          "base_uri": "https://localhost:8080/"
        },
        "outputId": "feac2158-1977-4481-9677-c0c2fd666ea3"
      },
      "execution_count": 181,
      "outputs": [
        {
          "output_type": "execute_result",
          "data": {
            "text/plain": [
              "['Type 1 disease/0100.jpeg',\n",
              " 'Type 1 disease/0102.jpeg',\n",
              " 'Type 1 disease/0105.png',\n",
              " 'Type 1 disease/0106.jpeg',\n",
              " 'Type 1 disease/0108.jpeg',\n",
              " 'Type 1 disease/0111.jpg',\n",
              " 'Type 1 disease/0112.jpg',\n",
              " 'Type 1 disease/0113.jpg',\n",
              " 'Type 1 disease/0115.jpeg',\n",
              " 'Type 1 disease/0118.jpeg',\n",
              " 'Type 1 disease/0119.jpeg',\n",
              " 'Type 1 disease/0120.jpg',\n",
              " 'Type 1 disease/094.png',\n",
              " 'Type 1 disease/096.png',\n",
              " 'Type 1 disease/098.jpeg',\n",
              " 'Type 1 disease/COVID-00003b.jpg',\n",
              " 'Type 1 disease/COVID-00012.jpg',\n",
              " 'Type 1 disease/COVID-00022.jpg',\n",
              " 'Type 1 disease/COVID-00033.jpg',\n",
              " 'Type 1 disease/COVID-00037.jpg',\n",
              " 'Type 1 disease/auntminnie-2020_01_31_20_24_2322_2020_01_31_x-ray_coronavirus_US.jpg',\n",
              " 'Type 1 disease/auntminnie-a-2020_01_28_23_51_6665_2020_01_28_Vietnam_coronavirus.jpeg',\n",
              " 'Type 1 disease/auntminnie-b-2020_01_28_23_51_6665_2020_01_28_Vietnam_coronavirus.jpeg',\n",
              " 'Type 1 disease/auntminnie-c-2020_01_28_23_51_6665_2020_01_28_Vietnam_coronavirus.jpeg',\n",
              " 'Type 1 disease/auntminnie-d-2020_01_28_23_51_6665_2020_01_28_Vietnam_coronavirus.jpeg',\n",
              " 'Type 1 disease/radiopaedia-2019-novel-coronavirus-infected-pneumonia.jpg',\n",
              " 'Type 2 disease/0101.jpeg',\n",
              " 'Type 2 disease/0102.jpeg',\n",
              " 'Type 2 disease/0103.jpeg',\n",
              " 'Type 2 disease/0104.jpeg',\n",
              " 'Type 2 disease/0105.jpeg',\n",
              " 'Type 2 disease/0106.jpeg',\n",
              " 'Type 2 disease/0107.jpeg',\n",
              " 'Type 2 disease/0108.jpeg',\n",
              " 'Type 2 disease/0109.jpeg',\n",
              " 'Type 2 disease/0110.jpeg',\n",
              " 'Type 2 disease/0111.jpeg',\n",
              " 'Type 2 disease/0112.jpeg',\n",
              " 'Type 2 disease/0113.jpeg',\n",
              " 'Type 2 disease/0114.jpeg',\n",
              " 'Type 2 disease/0115.jpeg',\n",
              " 'Type 2 disease/0116.jpeg',\n",
              " 'Type 2 disease/0117.jpeg',\n",
              " 'Type 2 disease/0118.jpeg',\n",
              " 'Type 2 disease/0119.jpeg',\n",
              " 'Type 2 disease/0120.jpeg',\n",
              " 'healthy/0101.jpeg',\n",
              " 'healthy/0102.jpeg',\n",
              " 'healthy/0103.jpeg',\n",
              " 'healthy/0105.jpeg',\n",
              " 'healthy/0106.jpeg',\n",
              " 'healthy/0107.jpeg',\n",
              " 'healthy/0108.jpeg',\n",
              " 'healthy/0109.jpeg',\n",
              " 'healthy/0110.jpeg',\n",
              " 'healthy/0111.jpeg',\n",
              " 'healthy/0112.jpeg',\n",
              " 'healthy/0114.jpeg',\n",
              " 'healthy/0115.jpeg',\n",
              " 'healthy/0116.jpeg',\n",
              " 'healthy/0117.jpeg',\n",
              " 'healthy/0118.jpeg',\n",
              " 'healthy/0119.jpeg',\n",
              " 'healthy/0120.jpeg',\n",
              " 'healthy/0121.jpeg',\n",
              " 'healthy/0122.jpeg']"
            ]
          },
          "metadata": {},
          "execution_count": 181
        }
      ]
    },
    {
      "cell_type": "code",
      "execution_count": 182,
      "metadata": {
        "colab": {
          "base_uri": "https://localhost:8080/"
        },
        "id": "pd7UnmRNaR9_",
        "outputId": "e89612a1-61ef-41c6-ed7b-431fd386ff25"
      },
      "outputs": [
        {
          "output_type": "execute_result",
          "data": {
            "text/plain": [
              "(48, 48, 3)"
            ]
          },
          "metadata": {},
          "execution_count": 182
        }
      ],
      "source": [
        "trainImageData.image_shape"
      ]
    },
    {
      "cell_type": "code",
      "source": [
        "testImageData.image_shape"
      ],
      "metadata": {
        "id": "1ekzMBC_ja2j",
        "colab": {
          "base_uri": "https://localhost:8080/"
        },
        "outputId": "6ba87da3-c8a0-4603-87ca-1d54aefa3bdf"
      },
      "execution_count": 183,
      "outputs": [
        {
          "output_type": "execute_result",
          "data": {
            "text/plain": [
              "(48, 48, 3)"
            ]
          },
          "metadata": {},
          "execution_count": 183
        }
      ]
    },
    {
      "cell_type": "code",
      "execution_count": 184,
      "metadata": {
        "colab": {
          "base_uri": "https://localhost:8080/"
        },
        "id": "ecJ9l4WH0SuP",
        "outputId": "72e53c25-6aee-437b-88ba-55673c0434f8"
      },
      "outputs": [
        {
          "output_type": "stream",
          "name": "stdout",
          "text": [
            "Looking in indexes: https://pypi.org/simple, https://us-python.pkg.dev/colab-wheels/public/simple/\n",
            "Requirement already satisfied: opencv-python in /usr/local/lib/python3.7/dist-packages (4.1.2.30)\n",
            "Requirement already satisfied: numpy>=1.14.5 in /usr/local/lib/python3.7/dist-packages (from opencv-python) (1.21.6)\n"
          ]
        }
      ],
      "source": [
        "!pip install opencv-python"
      ]
    },
    {
      "cell_type": "code",
      "execution_count": 185,
      "metadata": {
        "colab": {
          "base_uri": "https://localhost:8080/",
          "height": 574
        },
        "id": "c-79Loj80SuP",
        "outputId": "8f7cba22-e313-4a7e-ba63-553c657bf227"
      },
      "outputs": [
        {
          "output_type": "display_data",
          "data": {
            "text/plain": [
              "<PIL.Image.Image image mode=RGB size=556x557 at 0x7FB051BECDD0>"
            ],
            "image/png": "[encoded data removed]"
          },
          "metadata": {}
        }
      ],
      "source": [
        "import cv2\n",
        "import numpy as np\n",
        "\n",
        "from google.colab.patches import cv2_imshow\n",
        "img = cv2.imread('COVID-00012.jpg')\n",
        "cv2_imshow(img)\n",
        "\n",
        "#import matplotlib.image as mpimg \n",
        "#from matplotlib.pyplot import imshow\n",
        "#%matplotlib inline\n",
        "#testim = mpimg.imread('COVID-00012.jpg')\n",
        "#imshow(testim)\n",
        "\n",
        "#while True:\n",
        "#    k = cv2_imshow.waitKey(0) & 0xFF     \n",
        "#    if k == 27: break             # ESC key to exit\n",
        "#cv2_imshow.destroyAllWindows()"
      ]
    },
    {
      "cell_type": "code",
      "execution_count": 186,
      "metadata": {
        "id": "2t0yIXPcaf0X"
      },
      "outputs": [],
      "source": [
        "# ARchitect the model\n",
        "\n",
        "model = tf.keras.models.Sequential()\n",
        "\n",
        "#Convolution Layer\n",
        "#================================================================================================================================================\n",
        "#First Convolution Layer\n",
        "\n",
        "#Conv2D(noFeatureMap, kernelShape, inputShape, activation, padding) Here same means add one pad layer\n",
        "\n",
        "model.add(tf.keras.layers.Conv2D(32 , (3,3) , input_shape= trainImageData.image_shape , activation= 'relu' , padding='same' )) #Convolve\n",
        "model.add(tf.keras.layers.MaxPooling2D(pool_size=(2,2))) #Pooling \n",
        "\n",
        "#Second Convolution Layer\n",
        "\n",
        "#Conv2D(noFeatureMap, kernelShape, inputShape, activation, padding) Here same means add one pad layer\n",
        "\n",
        "model.add(tf.keras.layers.Conv2D(16 , (3,3), activation= 'relu' , padding='same' )) #Convolve\n",
        "model.add(tf.keras.layers.MaxPooling2D(pool_size=(2,2))) #Pooling \n",
        "\n",
        "#=================================================================================================================================================\n",
        "# Flatten\n",
        "\n",
        "model.add(tf.keras.layers.Flatten())\n",
        "\n",
        "#=================================================================================================================================================\n",
        "# ANN\n",
        "model.add(tf.keras.layers.Dense(units= 4096 , activation=\"relu\"))\n",
        "model.add(tf.keras.layers.Dropout(0.2))\n",
        "model.add(tf.keras.layers.Dense(units= 1024, activation=\"relu\"))\n",
        "model.add(tf.keras.layers.Dropout(0.2))\n",
        "model.add(tf.keras.layers.Dense(units= 256, activation=\"relu\"))\n",
        "model.add(tf.keras.layers.Dense(units= 3 , activation=\"softmax\"))\n",
        "#model.add(tf.keras.layers.Dense(units= 2 , activation=\"softmax\"))"
      ]
    },
    {
      "cell_type": "code",
      "execution_count": 187,
      "metadata": {
        "colab": {
          "base_uri": "https://localhost:8080/"
        },
        "id": "VIOBc3SMcqGF",
        "outputId": "9b344200-e8b2-4f7c-ae53-d829cc38ec92"
      },
      "outputs": [
        {
          "output_type": "stream",
          "name": "stdout",
          "text": [
            "Model: \"sequential_6\"\n",
            "_________________________________________________________________\n",
            " Layer (type)                Output Shape              Param #   \n",
            "=================================================================\n",
            " conv2d_6 (Conv2D)           (None, 48, 48, 32)        896       \n",
            "                                                                 \n",
            " max_pooling2d_6 (MaxPooling  (None, 24, 24, 32)       0         \n",
            " 2D)                                                             \n",
            "                                                                 \n",
            " conv2d_7 (Conv2D)           (None, 24, 24, 16)        4624      \n",
            "                                                                 \n",
            " max_pooling2d_7 (MaxPooling  (None, 12, 12, 16)       0         \n",
            " 2D)                                                             \n",
            "                                                                 \n",
            " flatten_6 (Flatten)         (None, 2304)              0         \n",
            "                                                                 \n",
            " dense_15 (Dense)            (None, 4096)              9441280   \n",
            "                                                                 \n",
            " dropout_6 (Dropout)         (None, 4096)              0         \n",
            "                                                                 \n",
            " dense_16 (Dense)            (None, 1024)              4195328   \n",
            "                                                                 \n",
            " dropout_7 (Dropout)         (None, 1024)              0         \n",
            "                                                                 \n",
            " dense_17 (Dense)            (None, 256)               262400    \n",
            "                                                                 \n",
            " dense_18 (Dense)            (None, 3)                 771       \n",
            "                                                                 \n",
            "=================================================================\n",
            "Total params: 13,905,299\n",
            "Trainable params: 13,905,299\n",
            "Non-trainable params: 0\n",
            "_________________________________________________________________\n"
          ]
        }
      ],
      "source": [
        "model.summary()"
      ]
    },
    {
      "cell_type": "code",
      "execution_count": 188,
      "metadata": {
        "id": "V4Ke7NhBc1A4"
      },
      "outputs": [],
      "source": [
        "#Compile\n",
        "\n",
        "model.compile(optimizer=\"rmsprop\",\n",
        "              loss=\"categorical_crossentropy\", #For multi-class classification: categorical_crossentropy | sparse_categorical_crossentropy\n",
        "              metrics=['accuracy'])"
      ]
    },
    {
      "cell_type": "code",
      "execution_count": 189,
      "metadata": {
        "colab": {
          "base_uri": "https://localhost:8080/"
        },
        "id": "oH_CpfZSeDS2",
        "outputId": "c924a647-2353-4ba9-d0fa-8ea2eb117675"
      },
      "outputs": [
        {
          "output_type": "execute_result",
          "data": {
            "text/plain": [
              "15"
            ]
          },
          "metadata": {},
          "execution_count": 189
        }
      ],
      "source": [
        "len(trainImageData.filenames) // trainImageData.batch_size"
      ]
    },
    {
      "cell_type": "code",
      "source": [
        "#Callbacks\n",
        "\n",
        "# How to stop the training process if my model has converged successfully?\n",
        "# Convergence Criteria:\n",
        "# 1. Model must be a generalized model ( testScore > trainScore )\n",
        "# 2. Model's Test Score >= CL\n",
        "# Custom Callback which satisfies the above two criteria :)\n",
        "\n",
        "class MyQualityThreshold(tf.keras.callbacks.Callback):\n",
        "  def __init__(self,cl):\n",
        "    super(MyQualityThreshold, self).__init__()\n",
        "    self.cl = cl\n",
        "  \n",
        "  def on_epoch_end(self,epoch,logs=None):\n",
        "    testScore = logs['val_accuracy']\n",
        "    trainScore = logs['accuracy']\n",
        "    #epoch=logs['']\n",
        "\n",
        "    if testScore > trainScore and testScore >= self.cl and epoch > 10:\n",
        "      self.model.stop_training=True"
      ],
      "metadata": {
        "id": "BfynHJzV9UVa"
      },
      "execution_count": 190,
      "outputs": []
    },
    {
      "cell_type": "code",
      "execution_count": 191,
      "metadata": {
        "id": "r7MoBaY8dkef"
      },
      "outputs": [],
      "source": [
        "# Fit the model\n",
        "# batch_size=32\n",
        "# model.fit(trainImageData,\n",
        "#          validation_data=testImageData,\n",
        "#          epochs=10,\n",
        "#          steps_per_epoch = len(trainImageData.filenames) // trainImageData.batch_size, #For training\n",
        "#          validation_steps= len(testImageData.filenames) // testImageData.batch_size) #For testing"
      ]
    },
    {
      "cell_type": "code",
      "source": [
        "# Fit the model\n",
        "# batch_size=32\n",
        "history = model.fit(trainImageData,\n",
        "                    validation_data=testImageData,\n",
        "                    epochs=50,\n",
        "                    steps_per_epoch=len(trainImageData.filenames) // trainImageData.batch_size, #For training\n",
        "                    validation_steps=len(testImageData.filenames) // testImageData.batch_size, #For testing\n",
        "                    callbacks=[MyQualityThreshold(0.8)])"
      ],
      "metadata": {
        "colab": {
          "base_uri": "https://localhost:8080/"
        },
        "id": "cT70mpP9-WJe",
        "outputId": "8570c270-2628-4f57-e0cc-e3383b5f7b99"
      },
      "execution_count": 192,
      "outputs": [
        {
          "output_type": "stream",
          "name": "stdout",
          "text": [
            "Epoch 1/50\n",
            "15/15 [==============================] - 22s 1s/step - loss: 4.2835 - accuracy: 0.4681 - val_loss: 0.9838 - val_accuracy: 0.5000\n",
            "Epoch 2/50\n",
            "15/15 [==============================] - 14s 929ms/step - loss: 0.8866 - accuracy: 0.6681 - val_loss: 1.5549 - val_accuracy: 0.2656\n",
            "Epoch 3/50\n",
            "15/15 [==============================] - 14s 920ms/step - loss: 0.7088 - accuracy: 0.7362 - val_loss: 1.1233 - val_accuracy: 0.6094\n",
            "Epoch 4/50\n",
            "15/15 [==============================] - 14s 945ms/step - loss: 0.5411 - accuracy: 0.7872 - val_loss: 0.5351 - val_accuracy: 0.8125\n",
            "Epoch 5/50\n",
            "15/15 [==============================] - 14s 938ms/step - loss: 0.3627 - accuracy: 0.8681 - val_loss: 1.1346 - val_accuracy: 0.6406\n",
            "Epoch 6/50\n",
            "15/15 [==============================] - 15s 1s/step - loss: 0.4356 - accuracy: 0.8596 - val_loss: 0.3965 - val_accuracy: 0.9062\n",
            "Epoch 7/50\n",
            "15/15 [==============================] - 14s 926ms/step - loss: 0.2324 - accuracy: 0.9149 - val_loss: 0.7893 - val_accuracy: 0.7188\n",
            "Epoch 8/50\n",
            "15/15 [==============================] - 14s 918ms/step - loss: 0.2994 - accuracy: 0.8851 - val_loss: 0.5706 - val_accuracy: 0.8594\n",
            "Epoch 9/50\n",
            "15/15 [==============================] - 14s 921ms/step - loss: 0.1591 - accuracy: 0.9447 - val_loss: 0.3621 - val_accuracy: 0.8906\n",
            "Epoch 10/50\n",
            "15/15 [==============================] - 14s 925ms/step - loss: 0.2663 - accuracy: 0.9234 - val_loss: 0.2968 - val_accuracy: 0.9062\n",
            "Epoch 11/50\n",
            "15/15 [==============================] - 14s 942ms/step - loss: 0.1092 - accuracy: 0.9667 - val_loss: 0.1864 - val_accuracy: 0.8594\n",
            "Epoch 12/50\n",
            "15/15 [==============================] - 14s 912ms/step - loss: 0.0411 - accuracy: 0.9830 - val_loss: 1.0479 - val_accuracy: 0.8594\n",
            "Epoch 13/50\n",
            "15/15 [==============================] - 14s 940ms/step - loss: 0.1258 - accuracy: 0.9702 - val_loss: 0.5589 - val_accuracy: 0.8750\n",
            "Epoch 14/50\n",
            "15/15 [==============================] - 15s 987ms/step - loss: 0.0713 - accuracy: 0.9872 - val_loss: 0.7741 - val_accuracy: 0.8125\n",
            "Epoch 15/50\n",
            "15/15 [==============================] - 14s 932ms/step - loss: 0.1546 - accuracy: 0.9702 - val_loss: 0.5017 - val_accuracy: 0.8594\n",
            "Epoch 16/50\n",
            "15/15 [==============================] - 14s 924ms/step - loss: 0.0080 - accuracy: 0.9957 - val_loss: 0.6216 - val_accuracy: 0.8750\n",
            "Epoch 17/50\n",
            "15/15 [==============================] - 14s 932ms/step - loss: 2.9458e-04 - accuracy: 1.0000 - val_loss: 0.7126 - val_accuracy: 0.8906\n",
            "Epoch 18/50\n",
            "15/15 [==============================] - 15s 970ms/step - loss: 1.0341e-04 - accuracy: 1.0000 - val_loss: 0.7484 - val_accuracy: 0.8906\n",
            "Epoch 19/50\n",
            "15/15 [==============================] - 14s 934ms/step - loss: 1.7490e-05 - accuracy: 1.0000 - val_loss: 0.7676 - val_accuracy: 0.8906\n",
            "Epoch 20/50\n",
            "15/15 [==============================] - 14s 904ms/step - loss: 6.1503e-06 - accuracy: 1.0000 - val_loss: 0.7938 - val_accuracy: 0.8906\n",
            "Epoch 21/50\n",
            "15/15 [==============================] - 14s 927ms/step - loss: 3.5767e-06 - accuracy: 1.0000 - val_loss: 0.8240 - val_accuracy: 0.8906\n",
            "Epoch 22/50\n",
            "15/15 [==============================] - 14s 929ms/step - loss: 1.1758e-06 - accuracy: 1.0000 - val_loss: 0.9262 - val_accuracy: 0.8906\n",
            "Epoch 23/50\n",
            "15/15 [==============================] - 15s 975ms/step - loss: 5.1133e-07 - accuracy: 1.0000 - val_loss: 0.9242 - val_accuracy: 0.8906\n",
            "Epoch 24/50\n",
            "15/15 [==============================] - 14s 930ms/step - loss: 0.3383 - accuracy: 0.9404 - val_loss: 0.9061 - val_accuracy: 0.8906\n",
            "Epoch 25/50\n",
            "15/15 [==============================] - 14s 924ms/step - loss: 1.9968e-04 - accuracy: 1.0000 - val_loss: 0.9265 - val_accuracy: 0.8594\n",
            "Epoch 26/50\n",
            "15/15 [==============================] - 14s 918ms/step - loss: 3.0793e-05 - accuracy: 1.0000 - val_loss: 0.8019 - val_accuracy: 0.8906\n",
            "Epoch 27/50\n",
            "15/15 [==============================] - 15s 995ms/step - loss: 1.5889e-05 - accuracy: 1.0000 - val_loss: 0.9304 - val_accuracy: 0.8750\n",
            "Epoch 28/50\n",
            "15/15 [==============================] - 14s 924ms/step - loss: 1.6783e-05 - accuracy: 1.0000 - val_loss: 1.0291 - val_accuracy: 0.8750\n",
            "Epoch 29/50\n",
            "15/15 [==============================] - 14s 915ms/step - loss: 5.2394e-06 - accuracy: 1.0000 - val_loss: 1.0850 - val_accuracy: 0.8750\n",
            "Epoch 30/50\n",
            "15/15 [==============================] - 14s 938ms/step - loss: 1.5918e-06 - accuracy: 1.0000 - val_loss: 1.0896 - val_accuracy: 0.8750\n",
            "Epoch 31/50\n",
            "15/15 [==============================] - 14s 910ms/step - loss: 7.4163e-07 - accuracy: 1.0000 - val_loss: 1.1337 - val_accuracy: 0.8750\n",
            "Epoch 32/50\n",
            "15/15 [==============================] - 15s 1s/step - loss: 4.1951e-07 - accuracy: 1.0000 - val_loss: 1.1359 - val_accuracy: 0.8750\n",
            "Epoch 33/50\n",
            "15/15 [==============================] - 14s 896ms/step - loss: 2.5465e-07 - accuracy: 1.0000 - val_loss: 1.1728 - val_accuracy: 0.8750\n",
            "Epoch 34/50\n",
            "15/15 [==============================] - 14s 929ms/step - loss: 1.1414e-07 - accuracy: 1.0000 - val_loss: 1.1990 - val_accuracy: 0.8750\n",
            "Epoch 35/50\n",
            "15/15 [==============================] - 14s 955ms/step - loss: 1.2377e-07 - accuracy: 1.0000 - val_loss: 1.2864 - val_accuracy: 0.8906\n",
            "Epoch 36/50\n",
            "15/15 [==============================] - 14s 914ms/step - loss: 9.2324e-08 - accuracy: 1.0000 - val_loss: 1.2629 - val_accuracy: 0.8906\n",
            "Epoch 37/50\n",
            "15/15 [==============================] - 14s 941ms/step - loss: 4.0582e-08 - accuracy: 1.0000 - val_loss: 1.0374 - val_accuracy: 0.9062\n",
            "Epoch 38/50\n",
            "15/15 [==============================] - 14s 926ms/step - loss: 1.4204e-08 - accuracy: 1.0000 - val_loss: 1.2543 - val_accuracy: 0.8750\n",
            "Epoch 39/50\n",
            "15/15 [==============================] - 14s 917ms/step - loss: 1.2682e-08 - accuracy: 1.0000 - val_loss: 1.1813 - val_accuracy: 0.8906\n",
            "Epoch 40/50\n",
            "15/15 [==============================] - 14s 936ms/step - loss: 0.8476 - accuracy: 0.9532 - val_loss: 1.1846 - val_accuracy: 0.8750\n",
            "Epoch 41/50\n",
            "15/15 [==============================] - 14s 910ms/step - loss: 0.0020 - accuracy: 1.0000 - val_loss: 1.5328 - val_accuracy: 0.8125\n",
            "Epoch 42/50\n",
            "15/15 [==============================] - 15s 992ms/step - loss: 0.0022 - accuracy: 1.0000 - val_loss: 1.2027 - val_accuracy: 0.9062\n",
            "Epoch 43/50\n",
            "15/15 [==============================] - 14s 936ms/step - loss: 5.3957e-05 - accuracy: 1.0000 - val_loss: 1.1836 - val_accuracy: 0.9219\n",
            "Epoch 44/50\n",
            "15/15 [==============================] - 14s 933ms/step - loss: 1.6437e-05 - accuracy: 1.0000 - val_loss: 1.2560 - val_accuracy: 0.9219\n",
            "Epoch 45/50\n",
            "15/15 [==============================] - 14s 921ms/step - loss: 5.6816e-06 - accuracy: 1.0000 - val_loss: 1.3167 - val_accuracy: 0.9219\n",
            "Epoch 46/50\n",
            "15/15 [==============================] - 15s 1s/step - loss: 4.5358e-06 - accuracy: 1.0000 - val_loss: 0.7755 - val_accuracy: 0.9219\n",
            "Epoch 47/50\n",
            "15/15 [==============================] - 14s 913ms/step - loss: 1.4447e-06 - accuracy: 1.0000 - val_loss: 1.3186 - val_accuracy: 0.9062\n",
            "Epoch 48/50\n",
            "15/15 [==============================] - 14s 952ms/step - loss: 1.0445e-06 - accuracy: 1.0000 - val_loss: 1.3973 - val_accuracy: 0.8906\n",
            "Epoch 49/50\n",
            "15/15 [==============================] - 14s 924ms/step - loss: 6.0618e-07 - accuracy: 1.0000 - val_loss: 1.5583 - val_accuracy: 0.9062\n",
            "Epoch 50/50\n",
            "15/15 [==============================] - 14s 939ms/step - loss: 1.8972e-07 - accuracy: 1.0000 - val_loss: 1.5436 - val_accuracy: 0.8906\n"
          ]
        }
      ]
    },
    {
      "cell_type": "code",
      "source": [
        "import keras\n",
        "from matplotlib import pyplot as plt\n",
        "plt.plot(history.history['accuracy'])\n",
        "plt.plot(history.history['val_accuracy'])\n",
        "plt.title('model accuracy')\n",
        "plt.ylabel('accuracy')\n",
        "plt.xlabel('epoch')\n",
        "plt.legend(['train', 'val'], loc='upper left')\n",
        "plt.show()"
      ],
      "metadata": {
        "colab": {
          "base_uri": "https://localhost:8080/",
          "height": 295
        },
        "id": "M17SOht6ghAd",
        "outputId": "7e4c09a8-7976-4891-9833-4a9d2bb40188"
      },
      "execution_count": 193,
      "outputs": [
        {
          "output_type": "display_data",
          "data": {
            "text/plain": [
              "<Figure size 432x288 with 1 Axes>"
            ],
            "image/png": "[encoded data removed]"
          },
          "metadata": {
            "needs_background": "light"
          }
        }
      ]
    },
    {
      "cell_type": "code",
      "source": [
        "plt.plot(history.history['loss'])\n",
        "plt.plot(history.history['val_loss'])\n",
        "plt.title('model loss')\n",
        "plt.ylabel('loss')\n",
        "plt.xlabel('epoch')\n",
        "plt.legend(['train', 'val'], loc='upper left')\n",
        "plt.show()"
      ],
      "metadata": {
        "colab": {
          "base_uri": "https://localhost:8080/",
          "height": 295
        },
        "id": "PZyif42Ih9dP",
        "outputId": "d33dd10d-ee13-46c3-b4bb-fcd44f8f8063"
      },
      "execution_count": 194,
      "outputs": [
        {
          "output_type": "display_data",
          "data": {
            "text/plain": [
              "<Figure size 432x288 with 1 Axes>"
            ],
            "image/png": "[encoded data removed]"
          },
          "metadata": {
            "needs_background": "light"
          }
        }
      ]
    },
    {
      "cell_type": "code",
      "execution_count": 195,
      "metadata": {
        "id": "bgeF1bc-AYP2"
      },
      "outputs": [],
      "source": [
        "import numpy as np\n",
        "import matplotlib.pyplot as plt\n",
        "%matplotlib inline"
      ]
    },
    {
      "cell_type": "code",
      "execution_count": 196,
      "metadata": {
        "colab": {
          "base_uri": "https://localhost:8080/"
        },
        "id": "KRD9Widn-arc",
        "outputId": "0b526867-b94d-4ece-98db-750d08410894"
      },
      "outputs": [
        {
          "output_type": "stream",
          "name": "stdout",
          "text": [
            "[[1. 0. 0.]]\n"
          ]
        }
      ],
      "source": [
        "#Prediction\n",
        "# model\n",
        "#Load an Image\n",
        "imageToPredict = tf.keras.preprocessing.image.load_img('COVID-00012.jpg', target_size=(48, 48))\n",
        "#Step2: Convert image to np array \n",
        "myImageNPArray = tf.keras.preprocessing.image.img_to_array(imageToPredict)\n",
        "# Step3: Make the image compatible for the model by adding n\n",
        "myCompatibleImage = np.expand_dims(myImageNPArray, axis = 0)\n",
        "#Step4: Prediction\n",
        "prediction = model.predict(myCompatibleImage)\n",
        "print(prediction)"
      ]
    },
    {
      "cell_type": "code",
      "execution_count": 197,
      "metadata": {
        "id": "Rrl3E-43ecM0"
      },
      "outputs": [],
      "source": [
        "train_generator = tf.keras.preprocessing.image.ImageDataGenerator(rescale=1.0/255.,\n",
        "                                                                  rotation_range=90,\n",
        "                                                                  zoom_range=0.2,\n",
        "                                                                  horizontal_flip=True,\n",
        "                                                                  vertical_flip=True)\n"
      ]
    },
    {
      "cell_type": "code",
      "source": [
        "#Callbacks\n",
        "\n",
        "# How to stop the training process if my model has converged successfully?\n",
        "# Convergence Criteria:\n",
        "# 1. Model must be a generalized model ( testScore > trainScore )\n",
        "# 2. Model's Test Score >= CL\n",
        "# Custom Callback which satisfies the above two criteria :)\n",
        "\n",
        "class MyQualityThreshold(tf.keras.callbacks.Callback):\n",
        "  def __init__(self,cl):\n",
        "    super(MyQualityThreshold, self).__init__()\n",
        "    self.cl = cl\n",
        "  \n",
        "  def on_epoch_end(self,epoch,logs=None):\n",
        "    testScore = logs['val_accuracy']\n",
        "    trainScore = logs['accuracy']\n",
        "    #epoch=logs['']\n",
        "\n",
        "    if testScore > trainScore and testScore >= self.cl and epoch > 10:\n",
        "      self.model.stop_training=True"
      ],
      "metadata": {
        "id": "kk3qixRNAW_w"
      },
      "execution_count": 198,
      "outputs": []
    },
    {
      "cell_type": "code",
      "execution_count": 199,
      "metadata": {
        "colab": {
          "base_uri": "https://localhost:8080/"
        },
        "id": "gCrM_IauUdL1",
        "outputId": "9615b082-6e4c-4121-da8e-bba3e408a578"
      },
      "outputs": [
        {
          "output_type": "stream",
          "name": "stdout",
          "text": [
            "Epoch 1/50\n",
            "15/15 [==============================] - 15s 1s/step - loss: 1.8617e-07 - accuracy: 1.0000 - val_loss: 1.5240 - val_accuracy: 0.8906\n",
            "Epoch 2/50\n",
            "15/15 [==============================] - 14s 919ms/step - loss: 4.5655e-08 - accuracy: 1.0000 - val_loss: 1.4960 - val_accuracy: 0.9062\n",
            "Epoch 3/50\n",
            "15/15 [==============================] - 14s 915ms/step - loss: 1.9276e-08 - accuracy: 1.0000 - val_loss: 1.5662 - val_accuracy: 0.9219\n",
            "Epoch 4/50\n",
            "15/15 [==============================] - 14s 915ms/step - loss: 2.4349e-08 - accuracy: 1.0000 - val_loss: 1.4871 - val_accuracy: 0.9062\n",
            "Epoch 5/50\n",
            "15/15 [==============================] - 14s 928ms/step - loss: 0.2300 - accuracy: 0.9702 - val_loss: 12.0054 - val_accuracy: 0.5938\n",
            "Epoch 6/50\n",
            "15/15 [==============================] - 14s 914ms/step - loss: 0.4136 - accuracy: 0.9787 - val_loss: 2.1098 - val_accuracy: 0.8750\n",
            "Epoch 7/50\n",
            "15/15 [==============================] - 17s 1s/step - loss: 0.0129 - accuracy: 0.9915 - val_loss: 1.8019 - val_accuracy: 0.8281\n",
            "Epoch 8/50\n",
            "15/15 [==============================] - 14s 951ms/step - loss: 3.0313e-05 - accuracy: 1.0000 - val_loss: 2.0129 - val_accuracy: 0.8281\n",
            "Epoch 9/50\n",
            "15/15 [==============================] - 14s 924ms/step - loss: 3.3707e-06 - accuracy: 1.0000 - val_loss: 1.4120 - val_accuracy: 0.8594\n",
            "Epoch 10/50\n",
            "15/15 [==============================] - 15s 1s/step - loss: 3.5805e-06 - accuracy: 1.0000 - val_loss: 2.0730 - val_accuracy: 0.8281\n",
            "Epoch 11/50\n",
            "15/15 [==============================] - 14s 958ms/step - loss: 2.2045e-06 - accuracy: 1.0000 - val_loss: 2.1689 - val_accuracy: 0.8281\n",
            "Epoch 12/50\n",
            "15/15 [==============================] - 14s 936ms/step - loss: 1.2890e-06 - accuracy: 1.0000 - val_loss: 2.1669 - val_accuracy: 0.8281\n",
            "Epoch 13/50\n",
            "15/15 [==============================] - 14s 929ms/step - loss: 6.1431e-07 - accuracy: 1.0000 - val_loss: 2.0271 - val_accuracy: 0.8281\n",
            "Epoch 14/50\n",
            "15/15 [==============================] - 14s 930ms/step - loss: 9.7344e-07 - accuracy: 1.0000 - val_loss: 2.4128 - val_accuracy: 0.8125\n",
            "Epoch 15/50\n",
            "15/15 [==============================] - 15s 1s/step - loss: 2.2066e-07 - accuracy: 1.0000 - val_loss: 2.4429 - val_accuracy: 0.8125\n",
            "Epoch 16/50\n",
            "15/15 [==============================] - 14s 894ms/step - loss: 1.0095e-07 - accuracy: 1.0000 - val_loss: 2.4539 - val_accuracy: 0.8125\n",
            "Epoch 17/50\n",
            "15/15 [==============================] - 14s 926ms/step - loss: 1.0629e-07 - accuracy: 1.0000 - val_loss: 2.4865 - val_accuracy: 0.8281\n",
            "Epoch 18/50\n",
            "15/15 [==============================] - 14s 914ms/step - loss: 3.4495e-08 - accuracy: 1.0000 - val_loss: 2.2921 - val_accuracy: 0.8281\n",
            "Epoch 19/50\n",
            "15/15 [==============================] - 14s 911ms/step - loss: 2.4349e-08 - accuracy: 1.0000 - val_loss: 2.5492 - val_accuracy: 0.8281\n",
            "Epoch 20/50\n",
            "15/15 [==============================] - 14s 912ms/step - loss: 6.0873e-09 - accuracy: 1.0000 - val_loss: 2.5785 - val_accuracy: 0.8281\n",
            "Epoch 21/50\n",
            "15/15 [==============================] - 14s 912ms/step - loss: 4.0582e-09 - accuracy: 1.0000 - val_loss: 2.4765 - val_accuracy: 0.8594\n",
            "Epoch 22/50\n",
            "15/15 [==============================] - 14s 935ms/step - loss: 1.7755e-08 - accuracy: 1.0000 - val_loss: 2.6241 - val_accuracy: 0.8594\n",
            "Epoch 23/50\n",
            "15/15 [==============================] - 14s 928ms/step - loss: 5.1235e-08 - accuracy: 1.0000 - val_loss: 3.8886 - val_accuracy: 0.8750\n",
            "Epoch 24/50\n",
            "15/15 [==============================] - 14s 919ms/step - loss: 0.2563 - accuracy: 0.9830 - val_loss: 0.8087 - val_accuracy: 0.8750\n",
            "Epoch 25/50\n",
            "15/15 [==============================] - 14s 937ms/step - loss: 0.9673 - accuracy: 0.9319 - val_loss: 0.6992 - val_accuracy: 0.8438\n",
            "Epoch 26/50\n",
            "15/15 [==============================] - 14s 931ms/step - loss: 0.0074 - accuracy: 1.0000 - val_loss: 0.5929 - val_accuracy: 0.8750\n",
            "Epoch 27/50\n",
            "15/15 [==============================] - 14s 924ms/step - loss: 7.7997e-04 - accuracy: 1.0000 - val_loss: 0.6957 - val_accuracy: 0.8750\n",
            "Epoch 28/50\n",
            "15/15 [==============================] - 14s 920ms/step - loss: 1.6517e-04 - accuracy: 1.0000 - val_loss: 0.7810 - val_accuracy: 0.8906\n",
            "Epoch 29/50\n",
            "15/15 [==============================] - 14s 937ms/step - loss: 1.9704e-05 - accuracy: 1.0000 - val_loss: 0.8242 - val_accuracy: 0.8906\n",
            "Epoch 30/50\n",
            "15/15 [==============================] - 14s 917ms/step - loss: 2.2856e-05 - accuracy: 1.0000 - val_loss: 0.8980 - val_accuracy: 0.9219\n",
            "Epoch 31/50\n",
            "15/15 [==============================] - 14s 922ms/step - loss: 1.0265e-05 - accuracy: 1.0000 - val_loss: 0.8891 - val_accuracy: 0.9062\n",
            "Epoch 32/50\n",
            "15/15 [==============================] - 14s 924ms/step - loss: 1.1342e-06 - accuracy: 1.0000 - val_loss: 0.9044 - val_accuracy: 0.8906\n",
            "Epoch 33/50\n",
            "15/15 [==============================] - 14s 915ms/step - loss: 1.0470e-06 - accuracy: 1.0000 - val_loss: 0.9335 - val_accuracy: 0.8750\n",
            "Epoch 34/50\n",
            "15/15 [==============================] - 15s 995ms/step - loss: 4.4703e-07 - accuracy: 1.0000 - val_loss: 0.9394 - val_accuracy: 0.8906\n",
            "Epoch 35/50\n",
            "15/15 [==============================] - 14s 944ms/step - loss: 3.7183e-07 - accuracy: 1.0000 - val_loss: 1.0361 - val_accuracy: 0.9062\n",
            "Epoch 36/50\n",
            "15/15 [==============================] - 14s 920ms/step - loss: 1.1870e-07 - accuracy: 1.0000 - val_loss: 1.0319 - val_accuracy: 0.9062\n",
            "Epoch 37/50\n",
            "15/15 [==============================] - 14s 877ms/step - loss: 6.4931e-08 - accuracy: 1.0000 - val_loss: 1.0480 - val_accuracy: 0.9062\n",
            "Epoch 38/50\n",
            "15/15 [==============================] - 14s 917ms/step - loss: 7.8120e-08 - accuracy: 1.0000 - val_loss: 1.0692 - val_accuracy: 0.8750\n",
            "Epoch 39/50\n",
            "15/15 [==============================] - 14s 908ms/step - loss: 2.1813e-08 - accuracy: 1.0000 - val_loss: 1.0652 - val_accuracy: 0.9062\n",
            "Epoch 40/50\n",
            "15/15 [==============================] - 14s 941ms/step - loss: 3.8553e-08 - accuracy: 1.0000 - val_loss: 1.1130 - val_accuracy: 0.9062\n",
            "Epoch 41/50\n",
            "15/15 [==============================] - 14s 913ms/step - loss: 3.5509e-09 - accuracy: 1.0000 - val_loss: 0.5977 - val_accuracy: 0.9375\n",
            "Epoch 42/50\n",
            "15/15 [==============================] - 14s 922ms/step - loss: 1.4711e-08 - accuracy: 1.0000 - val_loss: 1.1159 - val_accuracy: 0.8906\n",
            "Epoch 43/50\n",
            "15/15 [==============================] - 15s 984ms/step - loss: 0.2932 - accuracy: 0.9617 - val_loss: 1.7378 - val_accuracy: 0.8750\n",
            "Epoch 44/50\n",
            "15/15 [==============================] - 14s 920ms/step - loss: 7.4322e-05 - accuracy: 1.0000 - val_loss: 1.5011 - val_accuracy: 0.8750\n",
            "Epoch 45/50\n",
            "15/15 [==============================] - 14s 916ms/step - loss: 3.8824e-06 - accuracy: 1.0000 - val_loss: 1.4835 - val_accuracy: 0.8594\n",
            "Epoch 46/50\n",
            "15/15 [==============================] - 14s 934ms/step - loss: 4.0250e-06 - accuracy: 1.0000 - val_loss: 1.4292 - val_accuracy: 0.9062\n",
            "Epoch 47/50\n",
            "15/15 [==============================] - 15s 990ms/step - loss: 1.2347e-06 - accuracy: 1.0000 - val_loss: 1.4194 - val_accuracy: 0.9062\n",
            "Epoch 48/50\n",
            "15/15 [==============================] - 14s 923ms/step - loss: 6.1785e-07 - accuracy: 1.0000 - val_loss: 1.4186 - val_accuracy: 0.9062\n",
            "Epoch 49/50\n",
            "15/15 [==============================] - 14s 933ms/step - loss: 2.7038e-07 - accuracy: 1.0000 - val_loss: 1.4160 - val_accuracy: 0.9062\n",
            "Epoch 50/50\n",
            "15/15 [==============================] - 14s 940ms/step - loss: 3.1299e-07 - accuracy: 1.0000 - val_loss: 1.4213 - val_accuracy: 0.9062\n"
          ]
        }
      ],
      "source": [
        "# Fit the model after augmentation\n",
        "\n",
        "history = model.fit(trainImageData,\n",
        "                    validation_data=testImageData,\n",
        "                    epochs=50,\n",
        "                    steps_per_epoch=len(trainImageData.filenames) // trainImageData.batch_size, #For training\n",
        "                    validation_steps=len(testImageData.filenames) // testImageData.batch_size, #For testing\n",
        "                    callbacks=[MyQualityThreshold(0.8)])"
      ]
    },
    {
      "cell_type": "code",
      "source": [
        "import keras\n",
        "from matplotlib import pyplot as plt\n",
        "plt.plot(history.history['accuracy'])\n",
        "plt.plot(history.history['val_accuracy'])\n",
        "plt.title('model accuracy')\n",
        "plt.ylabel('accuracy')\n",
        "plt.xlabel('epoch')\n",
        "plt.legend(['train', 'val'], loc='upper left')\n",
        "plt.show()"
      ],
      "metadata": {
        "colab": {
          "base_uri": "https://localhost:8080/",
          "height": 295
        },
        "id": "ZxVW708tiYU9",
        "outputId": "2fbbb33f-91f9-4f19-e719-c7ba30392ac7"
      },
      "execution_count": 200,
      "outputs": [
        {
          "output_type": "display_data",
          "data": {
            "text/plain": [
              "<Figure size 432x288 with 1 Axes>"
            ],
            "image/png": "[encoded data removed]"
          },
          "metadata": {
            "needs_background": "light"
          }
        }
      ]
    },
    {
      "cell_type": "code",
      "source": [
        "plt.plot(history.history['loss'])\n",
        "plt.plot(history.history['val_loss'])\n",
        "plt.title('model loss')\n",
        "plt.ylabel('loss')\n",
        "plt.xlabel('epoch')\n",
        "plt.legend(['train', 'val'], loc='upper left')\n",
        "plt.show()"
      ],
      "metadata": {
        "colab": {
          "base_uri": "https://localhost:8080/",
          "height": 295
        },
        "id": "KOz8s0IniZ1K",
        "outputId": "0eb94c38-8f68-4650-8b93-506721c938d4"
      },
      "execution_count": 201,
      "outputs": [
        {
          "output_type": "display_data",
          "data": {
            "text/plain": [
              "<Figure size 432x288 with 1 Axes>"
            ],
            "image/png": "[encoded data removed]"
          },
          "metadata": {
            "needs_background": "light"
          }
        }
      ]
    },
    {
      "cell_type": "code",
      "source": [
        "#Prediction\n",
        "# model\n",
        "#Load an Image\n",
        "imageToPredict = tf.keras.preprocessing.image.load_img('COVID-00012.jpg', target_size=(48, 48))\n",
        "#Step2: Convert image to np array \n",
        "myImageNPArray = tf.keras.preprocessing.image.img_to_array(imageToPredict)\n",
        "# Step3: Make the image compatible for the model by adding n\n",
        "myCompatibleImage = np.expand_dims(myImageNPArray, axis = 0)\n",
        "#Step4: Prediction\n",
        "prediction = model.predict(myCompatibleImage)\n",
        "print(prediction)"
      ],
      "metadata": {
        "colab": {
          "base_uri": "https://localhost:8080/"
        },
        "id": "z4RS_WYUBdrd",
        "outputId": "98be8a0b-efdb-41ad-cec9-9fa12277a9d3"
      },
      "execution_count": 202,
      "outputs": [
        {
          "output_type": "stream",
          "name": "stdout",
          "text": [
            "[[1. 0. 0.]]\n"
          ]
        }
      ]
    },
    {
      "cell_type": "code",
      "source": [
        "#Saving Model\n",
        "model.save(\"LungsDiseaseDetector\")"
      ],
      "metadata": {
        "colab": {
          "base_uri": "https://localhost:8080/"
        },
        "id": "vl1XPH9FDbtr",
        "outputId": "e45638e1-a2aa-4ddb-c55d-11d71a51ce87"
      },
      "execution_count": 203,
      "outputs": [
        {
          "output_type": "stream",
          "name": "stdout",
          "text": [
            "INFO:tensorflow:Assets written to: LungsDiseaseDetector/assets\n"
          ]
        },
        {
          "output_type": "stream",
          "name": "stderr",
          "text": [
            "INFO:tensorflow:Assets written to: LungsDiseaseDetector/assets\n"
          ]
        }
      ]
    },
    {
      "cell_type": "code",
      "source": [
        "#Deployment Example\n",
        "#Step1: Load an Image\n",
        "import matplotlib.pyplot as plt\n",
        "import numpy as np\n",
        "%matplotlib inline\n",
        "\n",
        "imageToPredict = tf.keras.preprocessing.image.load_img('COVID-00012.jpg', target_size=(48, 48))\n",
        "plt.imshow(imageToPredict)"
      ],
      "metadata": {
        "colab": {
          "base_uri": "https://localhost:8080/",
          "height": 284
        },
        "id": "kYyhCuipDdAv",
        "outputId": "cd629329-9225-4612-bcd8-1e44cd9e9dec"
      },
      "execution_count": 204,
      "outputs": [
        {
          "output_type": "execute_result",
          "data": {
            "text/plain": [
              "<matplotlib.image.AxesImage at 0x7fb054f37110>"
            ]
          },
          "metadata": {},
          "execution_count": 204
        },
        {
          "output_type": "display_data",
          "data": {
            "text/plain": [
              "<Figure size 432x288 with 1 Axes>"
            ],
            "image/png": "[encoded data removed]"
          },
          "metadata": {
            "needs_background": "light"
          }
        }
      ]
    },
    {
      "cell_type": "code",
      "source": [
        "#Step2: Convert image to np array \n",
        "myImageNPArray = tf.keras.preprocessing.image.img_to_array(imageToPredict)\n",
        "\n",
        "myImageNPArray.shape"
      ],
      "metadata": {
        "colab": {
          "base_uri": "https://localhost:8080/"
        },
        "id": "TFV9f9J4DrSB",
        "outputId": "81b7892f-a9b3-42c7-cb14-59a87891dece"
      },
      "execution_count": 205,
      "outputs": [
        {
          "output_type": "execute_result",
          "data": {
            "text/plain": [
              "(48, 48, 3)"
            ]
          },
          "metadata": {},
          "execution_count": 205
        }
      ]
    },
    {
      "cell_type": "code",
      "source": [
        "# Step3: Make the image compatible for the model by adding n\n",
        "myCompatibleImage = np.expand_dims(myImageNPArray, axis = 0)\n",
        "myCompatibleImage.shape"
      ],
      "metadata": {
        "colab": {
          "base_uri": "https://localhost:8080/"
        },
        "id": "VgLYPUgzDvpf",
        "outputId": "f1e58d18-3172-4cf1-e35d-2f7ce909858f"
      },
      "execution_count": 206,
      "outputs": [
        {
          "output_type": "execute_result",
          "data": {
            "text/plain": [
              "(1, 48, 48, 3)"
            ]
          },
          "metadata": {},
          "execution_count": 206
        }
      ]
    },
    {
      "cell_type": "code",
      "source": [
        "#Step4: Prediction\n",
        "prediction = model.predict(myCompatibleImage)"
      ],
      "metadata": {
        "id": "srOFUcU0Dy3e"
      },
      "execution_count": 207,
      "outputs": []
    },
    {
      "cell_type": "code",
      "source": [
        "prediction"
      ],
      "metadata": {
        "colab": {
          "base_uri": "https://localhost:8080/"
        },
        "id": "hOlG9AjpD2gz",
        "outputId": "16c36d9e-1618-44bf-f6c0-58aad1fdb6f6"
      },
      "execution_count": 208,
      "outputs": [
        {
          "output_type": "execute_result",
          "data": {
            "text/plain": [
              "array([[1., 0., 0.]], dtype=float32)"
            ]
          },
          "metadata": {},
          "execution_count": 208
        }
      ]
    },
    {
      "cell_type": "code",
      "source": [
        "list(trainImageData.class_indices)[np.argmax(prediction)]"
      ],
      "metadata": {
        "colab": {
          "base_uri": "https://localhost:8080/",
          "height": 37
        },
        "id": "qaWEMELID_FA",
        "outputId": "62a4154a-af00-4477-98d2-622cd82cc6cb"
      },
      "execution_count": 209,
      "outputs": [
        {
          "output_type": "execute_result",
          "data": {
            "text/plain": [
              "'Type 1 disease'"
            ],
            "application/vnd.google.colaboratory.intrinsic+json": {
              "type": "string"
            }
          },
          "metadata": {},
          "execution_count": 209
        }
      ]
    },
    {
      "cell_type": "code",
      "source": [
        "# Part#2 - Transfer learning using mobile net:"
      ],
      "metadata": {
        "id": "4s6HOGYToUMr"
      },
      "execution_count": 210,
      "outputs": []
    },
    {
      "cell_type": "code",
      "source": [
        "import tensorflow as tf\n",
        "from glob import glob"
      ],
      "metadata": {
        "id": "apa5K_1GoX9M"
      },
      "execution_count": 211,
      "outputs": []
    },
    {
      "cell_type": "code",
      "source": [
        "# Set the training path and validation path\n",
        "\n",
        "train_path = 'data_Lungs/train/'\n",
        "validation_path = 'data_Lungs/test/'"
      ],
      "metadata": {
        "id": "dwQaMUAf7zyR"
      },
      "execution_count": 212,
      "outputs": []
    },
    {
      "cell_type": "code",
      "source": [
        "#Initialize Glob to interact with storage\n",
        "\n",
        "image_files = glob(train_path +'/*/*.jp*g')\n",
        "valid_image_files = glob(validation_path +'/*/*.jp*g')"
      ],
      "metadata": {
        "id": "pPWIoo9g8L0X"
      },
      "execution_count": 213,
      "outputs": []
    },
    {
      "cell_type": "code",
      "source": [
        "#Step1: Create ImageGenerator object (Use Algo's preprocessing function)\n",
        "\n",
        "gen = tf.keras.preprocessing.image.ImageDataGenerator(preprocessing_function=tf.keras.applications.mobilenet.preprocess_input,\n",
        "                                                      rotation_range=20,\n",
        "                                                      shear_range=0.1,\n",
        "                                                      zoom_range=0.2,\n",
        "                                                      horizontal_flip=True,\n",
        "                                                      vertical_flip=True)\n",
        "\n",
        "gen2 = tf.keras.preprocessing.image.ImageDataGenerator(preprocessing_function=tf.keras.applications.mobilenet.preprocess_input)"
      ],
      "metadata": {
        "id": "8PXhYJlD8Qnq"
      },
      "execution_count": 214,
      "outputs": []
    },
    {
      "cell_type": "code",
      "source": [
        "#Step2: Create Train and Valid Obj\n",
        "\n",
        "train_generator = gen.flow_from_directory(train_path,\n",
        "                                          target_size=[48,48],\n",
        "                                          class_mode='categorical',\n",
        "                                          batch_size=16)\n",
        "\n",
        "valid_generator = gen2.flow_from_directory(validation_path,\n",
        "                                          target_size=[48,48],\n",
        "                                          class_mode='categorical',\n",
        "                                          batch_size=16)"
      ],
      "metadata": {
        "id": "Sq4-b1aS8ZEl",
        "colab": {
          "base_uri": "https://localhost:8080/"
        },
        "outputId": "11b322e1-c864-48bc-9a4e-5fd3c7a5e4e8"
      },
      "execution_count": 215,
      "outputs": [
        {
          "output_type": "stream",
          "name": "stdout",
          "text": [
            "Found 251 images belonging to 3 classes.\n",
            "Found 66 images belonging to 3 classes.\n"
          ]
        }
      ]
    },
    {
      "cell_type": "code",
      "source": [
        "#Step3: Load the model with Training Enabled ! ---> \n",
        "# include_top = False will remove FC layer from existing arch\n",
        "\n",
        "\n",
        "mobnet = tf.keras.applications.mobilenet.MobileNet(input_shape=[48,48,3],\n",
        "                                        weights=\"imagenet\",\n",
        "                                        include_top=False)\n",
        "\n",
        "#Following Method 1, that will lock weights of CNN layer\n",
        "\n",
        "for layer in mobnet.layers:\n",
        "  layer.trainable=False #If Approach 1--- True else False"
      ],
      "metadata": {
        "id": "NNW4rAbQ8b4h",
        "colab": {
          "base_uri": "https://localhost:8080/"
        },
        "outputId": "5e265fbc-e1a9-4513-ffca-9e2d28fd82a5"
      },
      "execution_count": 216,
      "outputs": [
        {
          "output_type": "stream",
          "name": "stdout",
          "text": [
            "WARNING:tensorflow:`input_shape` is undefined or non-square, or `rows` is not in [128, 160, 192, 224]. Weights for input shape (224, 224) will be loaded as the default.\n"
          ]
        },
        {
          "output_type": "stream",
          "name": "stderr",
          "text": [
            "WARNING:tensorflow:`input_shape` is undefined or non-square, or `rows` is not in [128, 160, 192, 224]. Weights for input shape (224, 224) will be loaded as the default.\n"
          ]
        }
      ]
    },
    {
      "cell_type": "code",
      "source": [
        "#Step4: Create FC layer\n",
        "\n",
        "#Flatten\n",
        "\n",
        "flatten = tf.keras.layers.Flatten()\n",
        "\n",
        "# You can create your hidden layers here\n",
        "#hLayer1 = tf.keras.layers.Dense(4000,activation=\"relu\")\n",
        "#hLayer2 = tf.keras.layers.Dense(4000,activation=\"relu\")\n",
        "#hLayer3 = tf.keras.layers.Dense(4000,activation=\"relu\")\n",
        "\n",
        "# Output Layer\n",
        "\n",
        "\n",
        "finalLayer = tf.keras.layers.Dense(3,activation=\"softmax\")"
      ],
      "metadata": {
        "id": "z6L5B3tP8eU1"
      },
      "execution_count": 217,
      "outputs": []
    },
    {
      "cell_type": "code",
      "source": [
        "#Create Final Model\n",
        "\n",
        "model = tf.keras.models.Sequential([\n",
        "                                    mobnet,\n",
        "                                    flatten,\n",
        "                                    finalLayer\n",
        "])\n",
        "model.summary()"
      ],
      "metadata": {
        "id": "Zcfii1UM8gW9",
        "colab": {
          "base_uri": "https://localhost:8080/"
        },
        "outputId": "1ff7c68c-33b9-4ae8-8d7f-60e154607dc8"
      },
      "execution_count": 218,
      "outputs": [
        {
          "output_type": "stream",
          "name": "stdout",
          "text": [
            "Model: \"sequential_7\"\n",
            "_________________________________________________________________\n",
            " Layer (type)                Output Shape              Param #   \n",
            "=================================================================\n",
            " mobilenet_1.00_224 (Functio  (None, 1, 1, 1024)       3228864   \n",
            " nal)                                                            \n",
            "                                                                 \n",
            " flatten_7 (Flatten)         (None, 1024)              0         \n",
            "                                                                 \n",
            " dense_19 (Dense)            (None, 3)                 3075      \n",
            "                                                                 \n",
            "=================================================================\n",
            "Total params: 3,231,939\n",
            "Trainable params: 3,075\n",
            "Non-trainable params: 3,228,864\n",
            "_________________________________________________________________\n"
          ]
        }
      ]
    },
    {
      "cell_type": "code",
      "source": [
        "mobnet.summary()"
      ],
      "metadata": {
        "id": "E2GSp95D8iyE",
        "colab": {
          "base_uri": "https://localhost:8080/"
        },
        "outputId": "d686a957-8562-4e97-d45f-98c55d6bb2e4"
      },
      "execution_count": 219,
      "outputs": [
        {
          "output_type": "stream",
          "name": "stdout",
          "text": [
            "Model: \"mobilenet_1.00_224\"\n",
            "_________________________________________________________________\n",
            " Layer (type)                Output Shape              Param #   \n",
            "=================================================================\n",
            " input_4 (InputLayer)        [(None, 48, 48, 3)]       0         \n",
            "                                                                 \n",
            " conv1 (Conv2D)              (None, 24, 24, 32)        864       \n",
            "                                                                 \n",
            " conv1_bn (BatchNormalizatio  (None, 24, 24, 32)       128       \n",
            " n)                                                              \n",
            "                                                                 \n",
            " conv1_relu (ReLU)           (None, 24, 24, 32)        0         \n",
            "                                                                 \n",
            " conv_dw_1 (DepthwiseConv2D)  (None, 24, 24, 32)       288       \n",
            "                                                                 \n",
            " conv_dw_1_bn (BatchNormaliz  (None, 24, 24, 32)       128       \n",
            " ation)                                                          \n",
            "                                                                 \n",
            " conv_dw_1_relu (ReLU)       (None, 24, 24, 32)        0         \n",
            "                                                                 \n",
            " conv_pw_1 (Conv2D)          (None, 24, 24, 64)        2048      \n",
            "                                                                 \n",
            " conv_pw_1_bn (BatchNormaliz  (None, 24, 24, 64)       256       \n",
            " ation)                                                          \n",
            "                                                                 \n",
            " conv_pw_1_relu (ReLU)       (None, 24, 24, 64)        0         \n",
            "                                                                 \n",
            " conv_pad_2 (ZeroPadding2D)  (None, 25, 25, 64)        0         \n",
            "                                                                 \n",
            " conv_dw_2 (DepthwiseConv2D)  (None, 12, 12, 64)       576       \n",
            "                                                                 \n",
            " conv_dw_2_bn (BatchNormaliz  (None, 12, 12, 64)       256       \n",
            " ation)                                                          \n",
            "                                                                 \n",
            " conv_dw_2_relu (ReLU)       (None, 12, 12, 64)        0         \n",
            "                                                                 \n",
            " conv_pw_2 (Conv2D)          (None, 12, 12, 128)       8192      \n",
            "                                                                 \n",
            " conv_pw_2_bn (BatchNormaliz  (None, 12, 12, 128)      512       \n",
            " ation)                                                          \n",
            "                                                                 \n",
            " conv_pw_2_relu (ReLU)       (None, 12, 12, 128)       0         \n",
            "                                                                 \n",
            " conv_dw_3 (DepthwiseConv2D)  (None, 12, 12, 128)      1152      \n",
            "                                                                 \n",
            " conv_dw_3_bn (BatchNormaliz  (None, 12, 12, 128)      512       \n",
            " ation)                                                          \n",
            "                                                                 \n",
            " conv_dw_3_relu (ReLU)       (None, 12, 12, 128)       0         \n",
            "                                                                 \n",
            " conv_pw_3 (Conv2D)          (None, 12, 12, 128)       16384     \n",
            "                                                                 \n",
            " conv_pw_3_bn (BatchNormaliz  (None, 12, 12, 128)      512       \n",
            " ation)                                                          \n",
            "                                                                 \n",
            " conv_pw_3_relu (ReLU)       (None, 12, 12, 128)       0         \n",
            "                                                                 \n",
            " conv_pad_4 (ZeroPadding2D)  (None, 13, 13, 128)       0         \n",
            "                                                                 \n",
            " conv_dw_4 (DepthwiseConv2D)  (None, 6, 6, 128)        1152      \n",
            "                                                                 \n",
            " conv_dw_4_bn (BatchNormaliz  (None, 6, 6, 128)        512       \n",
            " ation)                                                          \n",
            "                                                                 \n",
            " conv_dw_4_relu (ReLU)       (None, 6, 6, 128)         0         \n",
            "                                                                 \n",
            " conv_pw_4 (Conv2D)          (None, 6, 6, 256)         32768     \n",
            "                                                                 \n",
            " conv_pw_4_bn (BatchNormaliz  (None, 6, 6, 256)        1024      \n",
            " ation)                                                          \n",
            "                                                                 \n",
            " conv_pw_4_relu (ReLU)       (None, 6, 6, 256)         0         \n",
            "                                                                 \n",
            " conv_dw_5 (DepthwiseConv2D)  (None, 6, 6, 256)        2304      \n",
            "                                                                 \n",
            " conv_dw_5_bn (BatchNormaliz  (None, 6, 6, 256)        1024      \n",
            " ation)                                                          \n",
            "                                                                 \n",
            " conv_dw_5_relu (ReLU)       (None, 6, 6, 256)         0         \n",
            "                                                                 \n",
            " conv_pw_5 (Conv2D)          (None, 6, 6, 256)         65536     \n",
            "                                                                 \n",
            " conv_pw_5_bn (BatchNormaliz  (None, 6, 6, 256)        1024      \n",
            " ation)                                                          \n",
            "                                                                 \n",
            " conv_pw_5_relu (ReLU)       (None, 6, 6, 256)         0         \n",
            "                                                                 \n",
            " conv_pad_6 (ZeroPadding2D)  (None, 7, 7, 256)         0         \n",
            "                                                                 \n",
            " conv_dw_6 (DepthwiseConv2D)  (None, 3, 3, 256)        2304      \n",
            "                                                                 \n",
            " conv_dw_6_bn (BatchNormaliz  (None, 3, 3, 256)        1024      \n",
            " ation)                                                          \n",
            "                                                                 \n",
            " conv_dw_6_relu (ReLU)       (None, 3, 3, 256)         0         \n",
            "                                                                 \n",
            " conv_pw_6 (Conv2D)          (None, 3, 3, 512)         131072    \n",
            "                                                                 \n",
            " conv_pw_6_bn (BatchNormaliz  (None, 3, 3, 512)        2048      \n",
            " ation)                                                          \n",
            "                                                                 \n",
            " conv_pw_6_relu (ReLU)       (None, 3, 3, 512)         0         \n",
            "                                                                 \n",
            " conv_dw_7 (DepthwiseConv2D)  (None, 3, 3, 512)        4608      \n",
            "                                                                 \n",
            " conv_dw_7_bn (BatchNormaliz  (None, 3, 3, 512)        2048      \n",
            " ation)                                                          \n",
            "                                                                 \n",
            " conv_dw_7_relu (ReLU)       (None, 3, 3, 512)         0         \n",
            "                                                                 \n",
            " conv_pw_7 (Conv2D)          (None, 3, 3, 512)         262144    \n",
            "                                                                 \n",
            " conv_pw_7_bn (BatchNormaliz  (None, 3, 3, 512)        2048      \n",
            " ation)                                                          \n",
            "                                                                 \n",
            " conv_pw_7_relu (ReLU)       (None, 3, 3, 512)         0         \n",
            "                                                                 \n",
            " conv_dw_8 (DepthwiseConv2D)  (None, 3, 3, 512)        4608      \n",
            "                                                                 \n",
            " conv_dw_8_bn (BatchNormaliz  (None, 3, 3, 512)        2048      \n",
            " ation)                                                          \n",
            "                                                                 \n",
            " conv_dw_8_relu (ReLU)       (None, 3, 3, 512)         0         \n",
            "                                                                 \n",
            " conv_pw_8 (Conv2D)          (None, 3, 3, 512)         262144    \n",
            "                                                                 \n",
            " conv_pw_8_bn (BatchNormaliz  (None, 3, 3, 512)        2048      \n",
            " ation)                                                          \n",
            "                                                                 \n",
            " conv_pw_8_relu (ReLU)       (None, 3, 3, 512)         0         \n",
            "                                                                 \n",
            " conv_dw_9 (DepthwiseConv2D)  (None, 3, 3, 512)        4608      \n",
            "                                                                 \n",
            " conv_dw_9_bn (BatchNormaliz  (None, 3, 3, 512)        2048      \n",
            " ation)                                                          \n",
            "                                                                 \n",
            " conv_dw_9_relu (ReLU)       (None, 3, 3, 512)         0         \n",
            "                                                                 \n",
            " conv_pw_9 (Conv2D)          (None, 3, 3, 512)         262144    \n",
            "                                                                 \n",
            " conv_pw_9_bn (BatchNormaliz  (None, 3, 3, 512)        2048      \n",
            " ation)                                                          \n",
            "                                                                 \n",
            " conv_pw_9_relu (ReLU)       (None, 3, 3, 512)         0         \n",
            "                                                                 \n",
            " conv_dw_10 (DepthwiseConv2D  (None, 3, 3, 512)        4608      \n",
            " )                                                               \n",
            "                                                                 \n",
            " conv_dw_10_bn (BatchNormali  (None, 3, 3, 512)        2048      \n",
            " zation)                                                         \n",
            "                                                                 \n",
            " conv_dw_10_relu (ReLU)      (None, 3, 3, 512)         0         \n",
            "                                                                 \n",
            " conv_pw_10 (Conv2D)         (None, 3, 3, 512)         262144    \n",
            "                                                                 \n",
            " conv_pw_10_bn (BatchNormali  (None, 3, 3, 512)        2048      \n",
            " zation)                                                         \n",
            "                                                                 \n",
            " conv_pw_10_relu (ReLU)      (None, 3, 3, 512)         0         \n",
            "                                                                 \n",
            " conv_dw_11 (DepthwiseConv2D  (None, 3, 3, 512)        4608      \n",
            " )                                                               \n",
            "                                                                 \n",
            " conv_dw_11_bn (BatchNormali  (None, 3, 3, 512)        2048      \n",
            " zation)                                                         \n",
            "                                                                 \n",
            " conv_dw_11_relu (ReLU)      (None, 3, 3, 512)         0         \n",
            "                                                                 \n",
            " conv_pw_11 (Conv2D)         (None, 3, 3, 512)         262144    \n",
            "                                                                 \n",
            " conv_pw_11_bn (BatchNormali  (None, 3, 3, 512)        2048      \n",
            " zation)                                                         \n",
            "                                                                 \n",
            " conv_pw_11_relu (ReLU)      (None, 3, 3, 512)         0         \n",
            "                                                                 \n",
            " conv_pad_12 (ZeroPadding2D)  (None, 4, 4, 512)        0         \n",
            "                                                                 \n",
            " conv_dw_12 (DepthwiseConv2D  (None, 1, 1, 512)        4608      \n",
            " )                                                               \n",
            "                                                                 \n",
            " conv_dw_12_bn (BatchNormali  (None, 1, 1, 512)        2048      \n",
            " zation)                                                         \n",
            "                                                                 \n",
            " conv_dw_12_relu (ReLU)      (None, 1, 1, 512)         0         \n",
            "                                                                 \n",
            " conv_pw_12 (Conv2D)         (None, 1, 1, 1024)        524288    \n",
            "                                                                 \n",
            " conv_pw_12_bn (BatchNormali  (None, 1, 1, 1024)       4096      \n",
            " zation)                                                         \n",
            "                                                                 \n",
            " conv_pw_12_relu (ReLU)      (None, 1, 1, 1024)        0         \n",
            "                                                                 \n",
            " conv_dw_13 (DepthwiseConv2D  (None, 1, 1, 1024)       9216      \n",
            " )                                                               \n",
            "                                                                 \n",
            " conv_dw_13_bn (BatchNormali  (None, 1, 1, 1024)       4096      \n",
            " zation)                                                         \n",
            "                                                                 \n",
            " conv_dw_13_relu (ReLU)      (None, 1, 1, 1024)        0         \n",
            "                                                                 \n",
            " conv_pw_13 (Conv2D)         (None, 1, 1, 1024)        1048576   \n",
            "                                                                 \n",
            " conv_pw_13_bn (BatchNormali  (None, 1, 1, 1024)       4096      \n",
            " zation)                                                         \n",
            "                                                                 \n",
            " conv_pw_13_relu (ReLU)      (None, 1, 1, 1024)        0         \n",
            "                                                                 \n",
            "=================================================================\n",
            "Total params: 3,228,864\n",
            "Trainable params: 0\n",
            "Non-trainable params: 3,228,864\n",
            "_________________________________________________________________\n"
          ]
        }
      ]
    },
    {
      "cell_type": "code",
      "source": [
        "#Compile\n",
        "\n",
        "model.compile(loss='categorical_crossentropy',\n",
        "              optimizer='adam',\n",
        "              metrics=['accuracy'])"
      ],
      "metadata": {
        "id": "RCsJGGCf8rj0"
      },
      "execution_count": 220,
      "outputs": []
    },
    {
      "cell_type": "code",
      "source": [
        "# Callbacks Convergence Criteria:\n",
        "# 1. Model must be a generalized model ( testScore > trainScore )\n",
        "# 2. Model's Test Score >= CL\n",
        "# Custom Callback which satisfies the above two criteria :)\n",
        "\n",
        "class MyQualityThreshold(tf.keras.callbacks.Callback):\n",
        "  def __init__(self,cl):\n",
        "    super(MyQualityThreshold, self).__init__()\n",
        "    self.cl = cl\n",
        "  \n",
        "  def on_epoch_end(self,epoch,logs=None):\n",
        "    testScore = logs['val_accuracy']\n",
        "    trainScore = logs['accuracy']\n",
        "    #epoch=logs['']\n",
        "\n",
        "    if testScore > trainScore and testScore >= self.cl and epoch > 2:\n",
        "      self.model.stop_training=True"
      ],
      "metadata": {
        "id": "HrP3V3v-8snX"
      },
      "execution_count": 221,
      "outputs": []
    },
    {
      "cell_type": "code",
      "source": [
        "#Fit Model \n",
        "batch_size=16\n",
        "history = model.fit(train_generator,\n",
        "                    validation_data=valid_generator,\n",
        "                    epochs=10,\n",
        "                    steps_per_epoch=len(train_generator.filenames) // batch_size,\n",
        "                    validation_steps=len(valid_generator.filenames) // batch_size,\n",
        "                    callbacks=[MyQualityThreshold(0.8)])"
      ],
      "metadata": {
        "id": "buAZA3Vm855D",
        "colab": {
          "base_uri": "https://localhost:8080/"
        },
        "outputId": "b681527c-01e1-45bd-cf77-b3a665d7e02d"
      },
      "execution_count": 222,
      "outputs": [
        {
          "output_type": "stream",
          "name": "stdout",
          "text": [
            "Epoch 1/10\n",
            "15/15 [==============================] - 15s 892ms/step - loss: 1.1323 - accuracy: 0.2851 - val_loss: 1.1207 - val_accuracy: 0.3281\n",
            "Epoch 2/10\n",
            "15/15 [==============================] - 13s 899ms/step - loss: 1.1113 - accuracy: 0.3404 - val_loss: 1.1073 - val_accuracy: 0.3906\n",
            "Epoch 3/10\n",
            "15/15 [==============================] - 13s 847ms/step - loss: 1.1031 - accuracy: 0.3957 - val_loss: 1.1045 - val_accuracy: 0.4219\n",
            "Epoch 4/10\n",
            "15/15 [==============================] - 12s 832ms/step - loss: 1.0930 - accuracy: 0.4596 - val_loss: 1.0941 - val_accuracy: 0.3906\n",
            "Epoch 5/10\n",
            "15/15 [==============================] - 13s 857ms/step - loss: 1.0823 - accuracy: 0.4750 - val_loss: 1.0937 - val_accuracy: 0.4219\n",
            "Epoch 6/10\n",
            "15/15 [==============================] - 12s 843ms/step - loss: 1.0745 - accuracy: 0.4468 - val_loss: 1.0880 - val_accuracy: 0.4219\n",
            "Epoch 7/10\n",
            "15/15 [==============================] - 13s 839ms/step - loss: 1.0679 - accuracy: 0.4638 - val_loss: 1.0810 - val_accuracy: 0.4219\n",
            "Epoch 8/10\n",
            "15/15 [==============================] - 12s 843ms/step - loss: 1.0673 - accuracy: 0.4596 - val_loss: 1.0784 - val_accuracy: 0.4375\n",
            "Epoch 9/10\n",
            "15/15 [==============================] - 12s 828ms/step - loss: 1.0585 - accuracy: 0.4894 - val_loss: 1.0747 - val_accuracy: 0.4375\n",
            "Epoch 10/10\n",
            "15/15 [==============================] - 12s 829ms/step - loss: 1.0529 - accuracy: 0.4894 - val_loss: 1.0750 - val_accuracy: 0.4219\n"
          ]
        }
      ]
    },
    {
      "cell_type": "code",
      "source": [
        "import keras\n",
        "from matplotlib import pyplot as plt\n",
        "plt.plot(history.history['accuracy'])\n",
        "plt.plot(history.history['val_accuracy'])\n",
        "plt.title('model accuracy')\n",
        "plt.ylabel('accuracy')\n",
        "plt.xlabel('epoch')\n",
        "plt.legend(['train', 'val'], loc='upper left')\n",
        "plt.show()"
      ],
      "metadata": {
        "colab": {
          "base_uri": "https://localhost:8080/",
          "height": 295
        },
        "id": "tPKhimRptl5c",
        "outputId": "6258f282-8fdf-4d37-8450-6c44534ea6a5"
      },
      "execution_count": 223,
      "outputs": [
        {
          "output_type": "display_data",
          "data": {
            "text/plain": [
              "<Figure size 432x288 with 1 Axes>"
            ],
            "image/png": "[encoded data removed]"
          },
          "metadata": {
            "needs_background": "light"
          }
        }
      ]
    },
    {
      "cell_type": "code",
      "source": [
        "plt.plot(history.history['loss'])\n",
        "plt.plot(history.history['val_loss'])\n",
        "plt.title('model loss')\n",
        "plt.ylabel('loss')\n",
        "plt.xlabel('epoch')\n",
        "plt.legend(['train', 'val'], loc='upper left')\n",
        "plt.show()"
      ],
      "metadata": {
        "colab": {
          "base_uri": "https://localhost:8080/",
          "height": 295
        },
        "id": "M1jdP0XuttbR",
        "outputId": "2e3a0a08-cd47-4fee-e7b0-9ef464cb91e2"
      },
      "execution_count": 224,
      "outputs": [
        {
          "output_type": "display_data",
          "data": {
            "text/plain": [
              "<Figure size 432x288 with 1 Axes>"
            ],
            "image/png": "[encoded data removed]"
          },
          "metadata": {
            "needs_background": "light"
          }
        }
      ]
    },
    {
      "cell_type": "code",
      "source": [
        "#Saving Model\n",
        "model.save(\"LungsDetectorMobileNet\")"
      ],
      "metadata": {
        "id": "fAxXBqyC89ck",
        "colab": {
          "base_uri": "https://localhost:8080/"
        },
        "outputId": "72c26bd2-40ba-447b-f129-599f0d5cd5e6"
      },
      "execution_count": 225,
      "outputs": [
        {
          "output_type": "stream",
          "name": "stderr",
          "text": [
            "WARNING:absl:Function `_wrapped_model` contains input name(s) mobilenet_1.00_224_input with unsupported characters which will be renamed to mobilenet_1_00_224_input in the SavedModel.\n"
          ]
        },
        {
          "output_type": "stream",
          "name": "stdout",
          "text": [
            "INFO:tensorflow:Assets written to: LungsDetectorMobileNet/assets\n"
          ]
        },
        {
          "output_type": "stream",
          "name": "stderr",
          "text": [
            "INFO:tensorflow:Assets written to: LungsDetectorMobileNet/assets\n"
          ]
        }
      ]
    },
    {
      "cell_type": "code",
      "source": [
        "#Step1 - Load an Image\n",
        "import matplotlib.pyplot as plt\n",
        "import numpy as np\n",
        "%matplotlib inline\n",
        "\n",
        "imageToPredict = tf.keras.preprocessing.image.load_img('COVID-00012.jpg', target_size=(48, 48))\n",
        "plt.imshow(imageToPredict)"
      ],
      "metadata": {
        "id": "Z2ALpfTI9C3u",
        "colab": {
          "base_uri": "https://localhost:8080/",
          "height": 284
        },
        "outputId": "20e45a34-e1a8-4efd-db0b-3537c79caea3"
      },
      "execution_count": 226,
      "outputs": [
        {
          "output_type": "execute_result",
          "data": {
            "text/plain": [
              "<matplotlib.image.AxesImage at 0x7fb048f0d710>"
            ]
          },
          "metadata": {},
          "execution_count": 226
        },
        {
          "output_type": "display_data",
          "data": {
            "text/plain": [
              "<Figure size 432x288 with 1 Axes>"
            ],
            "image/png": "[encoded data removed]"
          },
          "metadata": {
            "needs_background": "light"
          }
        }
      ]
    },
    {
      "cell_type": "code",
      "source": [
        "#Step2: Convert image to np array \n",
        "myImageNPArray = tf.keras.preprocessing.image.img_to_array(imageToPredict)\n",
        "myImageNPArray.shape"
      ],
      "metadata": {
        "id": "zxlcJ-eR9N_W",
        "colab": {
          "base_uri": "https://localhost:8080/"
        },
        "outputId": "bdc48051-f6f7-477c-e57e-591e8eb1e904"
      },
      "execution_count": 227,
      "outputs": [
        {
          "output_type": "execute_result",
          "data": {
            "text/plain": [
              "(48, 48, 3)"
            ]
          },
          "metadata": {},
          "execution_count": 227
        }
      ]
    },
    {
      "cell_type": "code",
      "source": [
        "# Step3: Make the image compatible for the model by adding n\n",
        "myCompatibleImage = np.expand_dims(myImageNPArray, axis = 0)\n",
        "myCompatibleImage.shape"
      ],
      "metadata": {
        "id": "TnyjQ4iP9QL4",
        "colab": {
          "base_uri": "https://localhost:8080/"
        },
        "outputId": "09aa58a0-5176-4789-f364-c49f0e54d525"
      },
      "execution_count": 228,
      "outputs": [
        {
          "output_type": "execute_result",
          "data": {
            "text/plain": [
              "(1, 48, 48, 3)"
            ]
          },
          "metadata": {},
          "execution_count": 228
        }
      ]
    },
    {
      "cell_type": "code",
      "source": [
        "#Step4: Prediction\n",
        "prediction = model.predict(myCompatibleImage)\n",
        "prediction"
      ],
      "metadata": {
        "id": "ubn-BJQp9TIY",
        "colab": {
          "base_uri": "https://localhost:8080/"
        },
        "outputId": "c6a8c306-3621-4578-e8df-5d5d3dff31a2"
      },
      "execution_count": 229,
      "outputs": [
        {
          "output_type": "execute_result",
          "data": {
            "text/plain": [
              "array([[0.41762567, 0.29843387, 0.28394043]], dtype=float32)"
            ]
          },
          "metadata": {},
          "execution_count": 229
        }
      ]
    },
    {
      "cell_type": "code",
      "source": [
        "list(train_generator.class_indices)[np.argmax(prediction)]"
      ],
      "metadata": {
        "id": "n8_sPdIN9VJX",
        "colab": {
          "base_uri": "https://localhost:8080/",
          "height": 37
        },
        "outputId": "2cd64c3f-5a67-41a6-dbb5-41f71572e070"
      },
      "execution_count": 230,
      "outputs": [
        {
          "output_type": "execute_result",
          "data": {
            "text/plain": [
              "'Type 1 disease'"
            ],
            "application/vnd.google.colaboratory.intrinsic+json": {
              "type": "string"
            }
          },
          "metadata": {},
          "execution_count": 230
        }
      ]
    },
    {
      "cell_type": "code",
      "source": [
        ""
      ],
      "metadata": {
        "id": "tQ3mbSFJeFMj"
      },
      "execution_count": 230,
      "outputs": []
    },
    {
      "cell_type": "code",
      "source": [
        "# Part#3 - Transfer learning using Densenet:"
      ],
      "metadata": {
        "id": "WLvZrnomeFWE"
      },
      "execution_count": 231,
      "outputs": []
    },
    {
      "cell_type": "code",
      "source": [
        "#Step1: Create ImageGenerator object (Use Algo's preprocessing function)\n",
        "\n",
        "gen = tf.keras.preprocessing.image.ImageDataGenerator(preprocessing_function=tf.keras.applications.densenet.preprocess_input,\n",
        "                                                      rotation_range=20,\n",
        "                                                      shear_range=0.1,\n",
        "                                                      zoom_range=0.2,\n",
        "                                                      horizontal_flip=True,\n",
        "                                                      vertical_flip=True)\n",
        "\n",
        "gen2 = tf.keras.preprocessing.image.ImageDataGenerator(preprocessing_function=tf.keras.applications.densenet.preprocess_input)"
      ],
      "metadata": {
        "id": "JpfABsBte04D"
      },
      "execution_count": 232,
      "outputs": []
    },
    {
      "cell_type": "code",
      "source": [
        "#Step2: Create Train and Valid Obj\n",
        "\n",
        "train_generator = gen.flow_from_directory(train_path,\n",
        "                                          target_size=[224,224],\n",
        "                                          class_mode='categorical',\n",
        "                                          batch_size=7)\n",
        "\n",
        "valid_generator = gen2.flow_from_directory(validation_path,\n",
        "                                          target_size=[224,224],\n",
        "                                          class_mode='categorical',\n",
        "                                          batch_size=7)"
      ],
      "metadata": {
        "colab": {
          "base_uri": "https://localhost:8080/"
        },
        "id": "YNT4MY6JfIxK",
        "outputId": "79ad0e63-11db-41e7-bcdf-deb312b818c3"
      },
      "execution_count": 233,
      "outputs": [
        {
          "output_type": "stream",
          "name": "stdout",
          "text": [
            "Found 251 images belonging to 3 classes.\n",
            "Found 66 images belonging to 3 classes.\n"
          ]
        }
      ]
    },
    {
      "cell_type": "code",
      "source": [
        "#Step3: Load the model with Training Enabled ! ---> \n",
        "# include_top = False will remove FC layer from existing arch\n",
        "\n",
        "\n",
        "densnet = tf.keras.applications.densenet.DenseNet121(input_shape=[224,224,3],\n",
        "                                        weights=\"imagenet\",\n",
        "                                        include_top=False)\n",
        "\n",
        "#Following Method 1, that will lock weights of CNN layer\n",
        "\n",
        "for layer in densnet.layers:\n",
        "  layer.trainable=False #If Approach 1--- True else False"
      ],
      "metadata": {
        "id": "hDnojgF4jqLs"
      },
      "execution_count": 235,
      "outputs": []
    },
    {
      "cell_type": "code",
      "source": [
        "#Step4: Create FC layer\n",
        "\n",
        "#Flatten\n",
        "\n",
        "flatten = tf.keras.layers.Flatten()\n",
        "\n",
        "# You can create your hidden layers here\n",
        "#hLayer1 = tf.keras.layers.Dense(4000,activation=\"relu\")\n",
        "#hLayer2 = tf.keras.layers.Dense(4000,activation=\"relu\")\n",
        "#hLayer3 = tf.keras.layers.Dense(4000,activation=\"relu\")\n",
        "\n",
        "# Output Layer\n",
        "\n",
        "\n",
        "finalLayer = tf.keras.layers.Dense(3,activation=\"softmax\")"
      ],
      "metadata": {
        "id": "wmO02jhNjwrF"
      },
      "execution_count": 239,
      "outputs": []
    },
    {
      "cell_type": "code",
      "source": [
        "#Create Final Model\n",
        "\n",
        "model = tf.keras.models.Sequential([\n",
        "                                    densnet,\n",
        "                                    flatten,\n",
        "                                    finalLayer\n",
        "])\n",
        "model.summary()"
      ],
      "metadata": {
        "colab": {
          "base_uri": "https://localhost:8080/"
        },
        "id": "iVC8AbOkj2PK",
        "outputId": "da97a492-e702-4b4c-f1c2-2f4d53b6bec3"
      },
      "execution_count": 237,
      "outputs": [
        {
          "output_type": "stream",
          "name": "stdout",
          "text": [
            "Model: \"sequential_8\"\n",
            "_________________________________________________________________\n",
            " Layer (type)                Output Shape              Param #   \n",
            "=================================================================\n",
            " densenet121 (Functional)    (None, 7, 7, 1024)        7037504   \n",
            "                                                                 \n",
            " flatten_8 (Flatten)         (None, 50176)             0         \n",
            "                                                                 \n",
            " dense_20 (Dense)            (None, 3)                 150531    \n",
            "                                                                 \n",
            "=================================================================\n",
            "Total params: 7,188,035\n",
            "Trainable params: 150,531\n",
            "Non-trainable params: 7,037,504\n",
            "_________________________________________________________________\n"
          ]
        }
      ]
    },
    {
      "cell_type": "code",
      "source": [
        "densnet.summary()"
      ],
      "metadata": {
        "colab": {
          "base_uri": "https://localhost:8080/"
        },
        "id": "-WlsLF41j_q2",
        "outputId": "914273c8-0378-4411-e6fd-bebde4ae3776"
      },
      "execution_count": 238,
      "outputs": [
        {
          "output_type": "stream",
          "name": "stdout",
          "text": [
            "Model: \"densenet121\"\n",
            "__________________________________________________________________________________________________\n",
            " Layer (type)                   Output Shape         Param #     Connected to                     \n",
            "==================================================================================================\n",
            " input_5 (InputLayer)           [(None, 224, 224, 3  0           []                               \n",
            "                                )]                                                                \n",
            "                                                                                                  \n",
            " zero_padding2d_2 (ZeroPadding2  (None, 230, 230, 3)  0          ['input_5[0][0]']                \n",
            " D)                                                                                               \n",
            "                                                                                                  \n",
            " conv1/conv (Conv2D)            (None, 112, 112, 64  9408        ['zero_padding2d_2[0][0]']       \n",
            "                                )                                                                 \n",
            "                                                                                                  \n",
            " conv1/bn (BatchNormalization)  (None, 112, 112, 64  256         ['conv1/conv[0][0]']             \n",
            "                                )                                                                 \n",
            "                                                                                                  \n",
            " conv1/relu (Activation)        (None, 112, 112, 64  0           ['conv1/bn[0][0]']               \n",
            "                                )                                                                 \n",
            "                                                                                                  \n",
            " zero_padding2d_3 (ZeroPadding2  (None, 114, 114, 64  0          ['conv1/relu[0][0]']             \n",
            " D)                             )                                                                 \n",
            "                                                                                                  \n",
            " pool1 (MaxPooling2D)           (None, 56, 56, 64)   0           ['zero_padding2d_3[0][0]']       \n",
            "                                                                                                  \n",
            " conv2_block1_0_bn (BatchNormal  (None, 56, 56, 64)  256         ['pool1[0][0]']                  \n",
            " ization)                                                                                         \n",
            "                                                                                                  \n",
            " conv2_block1_0_relu (Activatio  (None, 56, 56, 64)  0           ['conv2_block1_0_bn[0][0]']      \n",
            " n)                                                                                               \n",
            "                                                                                                  \n",
            " conv2_block1_1_conv (Conv2D)   (None, 56, 56, 128)  8192        ['conv2_block1_0_relu[0][0]']    \n",
            "                                                                                                  \n",
            " conv2_block1_1_bn (BatchNormal  (None, 56, 56, 128)  512        ['conv2_block1_1_conv[0][0]']    \n",
            " ization)                                                                                         \n",
            "                                                                                                  \n",
            " conv2_block1_1_relu (Activatio  (None, 56, 56, 128)  0          ['conv2_block1_1_bn[0][0]']      \n",
            " n)                                                                                               \n",
            "                                                                                                  \n",
            " conv2_block1_2_conv (Conv2D)   (None, 56, 56, 32)   36864       ['conv2_block1_1_relu[0][0]']    \n",
            "                                                                                                  \n",
            " conv2_block1_concat (Concatena  (None, 56, 56, 96)  0           ['pool1[0][0]',                  \n",
            " te)                                                              'conv2_block1_2_conv[0][0]']    \n",
            "                                                                                                  \n",
            " conv2_block2_0_bn (BatchNormal  (None, 56, 56, 96)  384         ['conv2_block1_concat[0][0]']    \n",
            " ization)                                                                                         \n",
            "                                                                                                  \n",
            " conv2_block2_0_relu (Activatio  (None, 56, 56, 96)  0           ['conv2_block2_0_bn[0][0]']      \n",
            " n)                                                                                               \n",
            "                                                                                                  \n",
            " conv2_block2_1_conv (Conv2D)   (None, 56, 56, 128)  12288       ['conv2_block2_0_relu[0][0]']    \n",
            "                                                                                                  \n",
            " conv2_block2_1_bn (BatchNormal  (None, 56, 56, 128)  512        ['conv2_block2_1_conv[0][0]']    \n",
            " ization)                                                                                         \n",
            "                                                                                                  \n",
            " conv2_block2_1_relu (Activatio  (None, 56, 56, 128)  0          ['conv2_block2_1_bn[0][0]']      \n",
            " n)                                                                                               \n",
            "                                                                                                  \n",
            " conv2_block2_2_conv (Conv2D)   (None, 56, 56, 32)   36864       ['conv2_block2_1_relu[0][0]']    \n",
            "                                                                                                  \n",
            " conv2_block2_concat (Concatena  (None, 56, 56, 128)  0          ['conv2_block1_concat[0][0]',    \n",
            " te)                                                              'conv2_block2_2_conv[0][0]']    \n",
            "                                                                                                  \n",
            " conv2_block3_0_bn (BatchNormal  (None, 56, 56, 128)  512        ['conv2_block2_concat[0][0]']    \n",
            " ization)                                                                                         \n",
            "                                                                                                  \n",
            " conv2_block3_0_relu (Activatio  (None, 56, 56, 128)  0          ['conv2_block3_0_bn[0][0]']      \n",
            " n)                                                                                               \n",
            "                                                                                                  \n",
            " conv2_block3_1_conv (Conv2D)   (None, 56, 56, 128)  16384       ['conv2_block3_0_relu[0][0]']    \n",
            "                                                                                                  \n",
            " conv2_block3_1_bn (BatchNormal  (None, 56, 56, 128)  512        ['conv2_block3_1_conv[0][0]']    \n",
            " ization)                                                                                         \n",
            "                                                                                                  \n",
            " conv2_block3_1_relu (Activatio  (None, 56, 56, 128)  0          ['conv2_block3_1_bn[0][0]']      \n",
            " n)                                                                                               \n",
            "                                                                                                  \n",
            " conv2_block3_2_conv (Conv2D)   (None, 56, 56, 32)   36864       ['conv2_block3_1_relu[0][0]']    \n",
            "                                                                                                  \n",
            " conv2_block3_concat (Concatena  (None, 56, 56, 160)  0          ['conv2_block2_concat[0][0]',    \n",
            " te)                                                              'conv2_block3_2_conv[0][0]']    \n",
            "                                                                                                  \n",
            " conv2_block4_0_bn (BatchNormal  (None, 56, 56, 160)  640        ['conv2_block3_concat[0][0]']    \n",
            " ization)                                                                                         \n",
            "                                                                                                  \n",
            " conv2_block4_0_relu (Activatio  (None, 56, 56, 160)  0          ['conv2_block4_0_bn[0][0]']      \n",
            " n)                                                                                               \n",
            "                                                                                                  \n",
            " conv2_block4_1_conv (Conv2D)   (None, 56, 56, 128)  20480       ['conv2_block4_0_relu[0][0]']    \n",
            "                                                                                                  \n",
            " conv2_block4_1_bn (BatchNormal  (None, 56, 56, 128)  512        ['conv2_block4_1_conv[0][0]']    \n",
            " ization)                                                                                         \n",
            "                                                                                                  \n",
            " conv2_block4_1_relu (Activatio  (None, 56, 56, 128)  0          ['conv2_block4_1_bn[0][0]']      \n",
            " n)                                                                                               \n",
            "                                                                                                  \n",
            " conv2_block4_2_conv (Conv2D)   (None, 56, 56, 32)   36864       ['conv2_block4_1_relu[0][0]']    \n",
            "                                                                                                  \n",
            " conv2_block4_concat (Concatena  (None, 56, 56, 192)  0          ['conv2_block3_concat[0][0]',    \n",
            " te)                                                              'conv2_block4_2_conv[0][0]']    \n",
            "                                                                                                  \n",
            " conv2_block5_0_bn (BatchNormal  (None, 56, 56, 192)  768        ['conv2_block4_concat[0][0]']    \n",
            " ization)                                                                                         \n",
            "                                                                                                  \n",
            " conv2_block5_0_relu (Activatio  (None, 56, 56, 192)  0          ['conv2_block5_0_bn[0][0]']      \n",
            " n)                                                                                               \n",
            "                                                                                                  \n",
            " conv2_block5_1_conv (Conv2D)   (None, 56, 56, 128)  24576       ['conv2_block5_0_relu[0][0]']    \n",
            "                                                                                                  \n",
            " conv2_block5_1_bn (BatchNormal  (None, 56, 56, 128)  512        ['conv2_block5_1_conv[0][0]']    \n",
            " ization)                                                                                         \n",
            "                                                                                                  \n",
            " conv2_block5_1_relu (Activatio  (None, 56, 56, 128)  0          ['conv2_block5_1_bn[0][0]']      \n",
            " n)                                                                                               \n",
            "                                                                                                  \n",
            " conv2_block5_2_conv (Conv2D)   (None, 56, 56, 32)   36864       ['conv2_block5_1_relu[0][0]']    \n",
            "                                                                                                  \n",
            " conv2_block5_concat (Concatena  (None, 56, 56, 224)  0          ['conv2_block4_concat[0][0]',    \n",
            " te)                                                              'conv2_block5_2_conv[0][0]']    \n",
            "                                                                                                  \n",
            " conv2_block6_0_bn (BatchNormal  (None, 56, 56, 224)  896        ['conv2_block5_concat[0][0]']    \n",
            " ization)                                                                                         \n",
            "                                                                                                  \n",
            " conv2_block6_0_relu (Activatio  (None, 56, 56, 224)  0          ['conv2_block6_0_bn[0][0]']      \n",
            " n)                                                                                               \n",
            "                                                                                                  \n",
            " conv2_block6_1_conv (Conv2D)   (None, 56, 56, 128)  28672       ['conv2_block6_0_relu[0][0]']    \n",
            "                                                                                                  \n",
            " conv2_block6_1_bn (BatchNormal  (None, 56, 56, 128)  512        ['conv2_block6_1_conv[0][0]']    \n",
            " ization)                                                                                         \n",
            "                                                                                                  \n",
            " conv2_block6_1_relu (Activatio  (None, 56, 56, 128)  0          ['conv2_block6_1_bn[0][0]']      \n",
            " n)                                                                                               \n",
            "                                                                                                  \n",
            " conv2_block6_2_conv (Conv2D)   (None, 56, 56, 32)   36864       ['conv2_block6_1_relu[0][0]']    \n",
            "                                                                                                  \n",
            " conv2_block6_concat (Concatena  (None, 56, 56, 256)  0          ['conv2_block5_concat[0][0]',    \n",
            " te)                                                              'conv2_block6_2_conv[0][0]']    \n",
            "                                                                                                  \n",
            " pool2_bn (BatchNormalization)  (None, 56, 56, 256)  1024        ['conv2_block6_concat[0][0]']    \n",
            "                                                                                                  \n",
            " pool2_relu (Activation)        (None, 56, 56, 256)  0           ['pool2_bn[0][0]']               \n",
            "                                                                                                  \n",
            " pool2_conv (Conv2D)            (None, 56, 56, 128)  32768       ['pool2_relu[0][0]']             \n",
            "                                                                                                  \n",
            " pool2_pool (AveragePooling2D)  (None, 28, 28, 128)  0           ['pool2_conv[0][0]']             \n",
            "                                                                                                  \n",
            " conv3_block1_0_bn (BatchNormal  (None, 28, 28, 128)  512        ['pool2_pool[0][0]']             \n",
            " ization)                                                                                         \n",
            "                                                                                                  \n",
            " conv3_block1_0_relu (Activatio  (None, 28, 28, 128)  0          ['conv3_block1_0_bn[0][0]']      \n",
            " n)                                                                                               \n",
            "                                                                                                  \n",
            " conv3_block1_1_conv (Conv2D)   (None, 28, 28, 128)  16384       ['conv3_block1_0_relu[0][0]']    \n",
            "                                                                                                  \n",
            " conv3_block1_1_bn (BatchNormal  (None, 28, 28, 128)  512        ['conv3_block1_1_conv[0][0]']    \n",
            " ization)                                                                                         \n",
            "                                                                                                  \n",
            " conv3_block1_1_relu (Activatio  (None, 28, 28, 128)  0          ['conv3_block1_1_bn[0][0]']      \n",
            " n)                                                                                               \n",
            "                                                                                                  \n",
            " conv3_block1_2_conv (Conv2D)   (None, 28, 28, 32)   36864       ['conv3_block1_1_relu[0][0]']    \n",
            "                                                                                                  \n",
            " conv3_block1_concat (Concatena  (None, 28, 28, 160)  0          ['pool2_pool[0][0]',             \n",
            " te)                                                              'conv3_block1_2_conv[0][0]']    \n",
            "                                                                                                  \n",
            " conv3_block2_0_bn (BatchNormal  (None, 28, 28, 160)  640        ['conv3_block1_concat[0][0]']    \n",
            " ization)                                                                                         \n",
            "                                                                                                  \n",
            " conv3_block2_0_relu (Activatio  (None, 28, 28, 160)  0          ['conv3_block2_0_bn[0][0]']      \n",
            " n)                                                                                               \n",
            "                                                                                                  \n",
            " conv3_block2_1_conv (Conv2D)   (None, 28, 28, 128)  20480       ['conv3_block2_0_relu[0][0]']    \n",
            "                                                                                                  \n",
            " conv3_block2_1_bn (BatchNormal  (None, 28, 28, 128)  512        ['conv3_block2_1_conv[0][0]']    \n",
            " ization)                                                                                         \n",
            "                                                                                                  \n",
            " conv3_block2_1_relu (Activatio  (None, 28, 28, 128)  0          ['conv3_block2_1_bn[0][0]']      \n",
            " n)                                                                                               \n",
            "                                                                                                  \n",
            " conv3_block2_2_conv (Conv2D)   (None, 28, 28, 32)   36864       ['conv3_block2_1_relu[0][0]']    \n",
            "                                                                                                  \n",
            " conv3_block2_concat (Concatena  (None, 28, 28, 192)  0          ['conv3_block1_concat[0][0]',    \n",
            " te)                                                              'conv3_block2_2_conv[0][0]']    \n",
            "                                                                                                  \n",
            " conv3_block3_0_bn (BatchNormal  (None, 28, 28, 192)  768        ['conv3_block2_concat[0][0]']    \n",
            " ization)                                                                                         \n",
            "                                                                                                  \n",
            " conv3_block3_0_relu (Activatio  (None, 28, 28, 192)  0          ['conv3_block3_0_bn[0][0]']      \n",
            " n)                                                                                               \n",
            "                                                                                                  \n",
            " conv3_block3_1_conv (Conv2D)   (None, 28, 28, 128)  24576       ['conv3_block3_0_relu[0][0]']    \n",
            "                                                                                                  \n",
            " conv3_block3_1_bn (BatchNormal  (None, 28, 28, 128)  512        ['conv3_block3_1_conv[0][0]']    \n",
            " ization)                                                                                         \n",
            "                                                                                                  \n",
            " conv3_block3_1_relu (Activatio  (None, 28, 28, 128)  0          ['conv3_block3_1_bn[0][0]']      \n",
            " n)                                                                                               \n",
            "                                                                                                  \n",
            " conv3_block3_2_conv (Conv2D)   (None, 28, 28, 32)   36864       ['conv3_block3_1_relu[0][0]']    \n",
            "                                                                                                  \n",
            " conv3_block3_concat (Concatena  (None, 28, 28, 224)  0          ['conv3_block2_concat[0][0]',    \n",
            " te)                                                              'conv3_block3_2_conv[0][0]']    \n",
            "                                                                                                  \n",
            " conv3_block4_0_bn (BatchNormal  (None, 28, 28, 224)  896        ['conv3_block3_concat[0][0]']    \n",
            " ization)                                                                                         \n",
            "                                                                                                  \n",
            " conv3_block4_0_relu (Activatio  (None, 28, 28, 224)  0          ['conv3_block4_0_bn[0][0]']      \n",
            " n)                                                                                               \n",
            "                                                                                                  \n",
            " conv3_block4_1_conv (Conv2D)   (None, 28, 28, 128)  28672       ['conv3_block4_0_relu[0][0]']    \n",
            "                                                                                                  \n",
            " conv3_block4_1_bn (BatchNormal  (None, 28, 28, 128)  512        ['conv3_block4_1_conv[0][0]']    \n",
            " ization)                                                                                         \n",
            "                                                                                                  \n",
            " conv3_block4_1_relu (Activatio  (None, 28, 28, 128)  0          ['conv3_block4_1_bn[0][0]']      \n",
            " n)                                                                                               \n",
            "                                                                                                  \n",
            " conv3_block4_2_conv (Conv2D)   (None, 28, 28, 32)   36864       ['conv3_block4_1_relu[0][0]']    \n",
            "                                                                                                  \n",
            " conv3_block4_concat (Concatena  (None, 28, 28, 256)  0          ['conv3_block3_concat[0][0]',    \n",
            " te)                                                              'conv3_block4_2_conv[0][0]']    \n",
            "                                                                                                  \n",
            " conv3_block5_0_bn (BatchNormal  (None, 28, 28, 256)  1024       ['conv3_block4_concat[0][0]']    \n",
            " ization)                                                                                         \n",
            "                                                                                                  \n",
            " conv3_block5_0_relu (Activatio  (None, 28, 28, 256)  0          ['conv3_block5_0_bn[0][0]']      \n",
            " n)                                                                                               \n",
            "                                                                                                  \n",
            " conv3_block5_1_conv (Conv2D)   (None, 28, 28, 128)  32768       ['conv3_block5_0_relu[0][0]']    \n",
            "                                                                                                  \n",
            " conv3_block5_1_bn (BatchNormal  (None, 28, 28, 128)  512        ['conv3_block5_1_conv[0][0]']    \n",
            " ization)                                                                                         \n",
            "                                                                                                  \n",
            " conv3_block5_1_relu (Activatio  (None, 28, 28, 128)  0          ['conv3_block5_1_bn[0][0]']      \n",
            " n)                                                                                               \n",
            "                                                                                                  \n",
            " conv3_block5_2_conv (Conv2D)   (None, 28, 28, 32)   36864       ['conv3_block5_1_relu[0][0]']    \n",
            "                                                                                                  \n",
            " conv3_block5_concat (Concatena  (None, 28, 28, 288)  0          ['conv3_block4_concat[0][0]',    \n",
            " te)                                                              'conv3_block5_2_conv[0][0]']    \n",
            "                                                                                                  \n",
            " conv3_block6_0_bn (BatchNormal  (None, 28, 28, 288)  1152       ['conv3_block5_concat[0][0]']    \n",
            " ization)                                                                                         \n",
            "                                                                                                  \n",
            " conv3_block6_0_relu (Activatio  (None, 28, 28, 288)  0          ['conv3_block6_0_bn[0][0]']      \n",
            " n)                                                                                               \n",
            "                                                                                                  \n",
            " conv3_block6_1_conv (Conv2D)   (None, 28, 28, 128)  36864       ['conv3_block6_0_relu[0][0]']    \n",
            "                                                                                                  \n",
            " conv3_block6_1_bn (BatchNormal  (None, 28, 28, 128)  512        ['conv3_block6_1_conv[0][0]']    \n",
            " ization)                                                                                         \n",
            "                                                                                                  \n",
            " conv3_block6_1_relu (Activatio  (None, 28, 28, 128)  0          ['conv3_block6_1_bn[0][0]']      \n",
            " n)                                                                                               \n",
            "                                                                                                  \n",
            " conv3_block6_2_conv (Conv2D)   (None, 28, 28, 32)   36864       ['conv3_block6_1_relu[0][0]']    \n",
            "                                                                                                  \n",
            " conv3_block6_concat (Concatena  (None, 28, 28, 320)  0          ['conv3_block5_concat[0][0]',    \n",
            " te)                                                              'conv3_block6_2_conv[0][0]']    \n",
            "                                                                                                  \n",
            " conv3_block7_0_bn (BatchNormal  (None, 28, 28, 320)  1280       ['conv3_block6_concat[0][0]']    \n",
            " ization)                                                                                         \n",
            "                                                                                                  \n",
            " conv3_block7_0_relu (Activatio  (None, 28, 28, 320)  0          ['conv3_block7_0_bn[0][0]']      \n",
            " n)                                                                                               \n",
            "                                                                                                  \n",
            " conv3_block7_1_conv (Conv2D)   (None, 28, 28, 128)  40960       ['conv3_block7_0_relu[0][0]']    \n",
            "                                                                                                  \n",
            " conv3_block7_1_bn (BatchNormal  (None, 28, 28, 128)  512        ['conv3_block7_1_conv[0][0]']    \n",
            " ization)                                                                                         \n",
            "                                                                                                  \n",
            " conv3_block7_1_relu (Activatio  (None, 28, 28, 128)  0          ['conv3_block7_1_bn[0][0]']      \n",
            " n)                                                                                               \n",
            "                                                                                                  \n",
            " conv3_block7_2_conv (Conv2D)   (None, 28, 28, 32)   36864       ['conv3_block7_1_relu[0][0]']    \n",
            "                                                                                                  \n",
            " conv3_block7_concat (Concatena  (None, 28, 28, 352)  0          ['conv3_block6_concat[0][0]',    \n",
            " te)                                                              'conv3_block7_2_conv[0][0]']    \n",
            "                                                                                                  \n",
            " conv3_block8_0_bn (BatchNormal  (None, 28, 28, 352)  1408       ['conv3_block7_concat[0][0]']    \n",
            " ization)                                                                                         \n",
            "                                                                                                  \n",
            " conv3_block8_0_relu (Activatio  (None, 28, 28, 352)  0          ['conv3_block8_0_bn[0][0]']      \n",
            " n)                                                                                               \n",
            "                                                                                                  \n",
            " conv3_block8_1_conv (Conv2D)   (None, 28, 28, 128)  45056       ['conv3_block8_0_relu[0][0]']    \n",
            "                                                                                                  \n",
            " conv3_block8_1_bn (BatchNormal  (None, 28, 28, 128)  512        ['conv3_block8_1_conv[0][0]']    \n",
            " ization)                                                                                         \n",
            "                                                                                                  \n",
            " conv3_block8_1_relu (Activatio  (None, 28, 28, 128)  0          ['conv3_block8_1_bn[0][0]']      \n",
            " n)                                                                                               \n",
            "                                                                                                  \n",
            " conv3_block8_2_conv (Conv2D)   (None, 28, 28, 32)   36864       ['conv3_block8_1_relu[0][0]']    \n",
            "                                                                                                  \n",
            " conv3_block8_concat (Concatena  (None, 28, 28, 384)  0          ['conv3_block7_concat[0][0]',    \n",
            " te)                                                              'conv3_block8_2_conv[0][0]']    \n",
            "                                                                                                  \n",
            " conv3_block9_0_bn (BatchNormal  (None, 28, 28, 384)  1536       ['conv3_block8_concat[0][0]']    \n",
            " ization)                                                                                         \n",
            "                                                                                                  \n",
            " conv3_block9_0_relu (Activatio  (None, 28, 28, 384)  0          ['conv3_block9_0_bn[0][0]']      \n",
            " n)                                                                                               \n",
            "                                                                                                  \n",
            " conv3_block9_1_conv (Conv2D)   (None, 28, 28, 128)  49152       ['conv3_block9_0_relu[0][0]']    \n",
            "                                                                                                  \n",
            " conv3_block9_1_bn (BatchNormal  (None, 28, 28, 128)  512        ['conv3_block9_1_conv[0][0]']    \n",
            " ization)                                                                                         \n",
            "                                                                                                  \n",
            " conv3_block9_1_relu (Activatio  (None, 28, 28, 128)  0          ['conv3_block9_1_bn[0][0]']      \n",
            " n)                                                                                               \n",
            "                                                                                                  \n",
            " conv3_block9_2_conv (Conv2D)   (None, 28, 28, 32)   36864       ['conv3_block9_1_relu[0][0]']    \n",
            "                                                                                                  \n",
            " conv3_block9_concat (Concatena  (None, 28, 28, 416)  0          ['conv3_block8_concat[0][0]',    \n",
            " te)                                                              'conv3_block9_2_conv[0][0]']    \n",
            "                                                                                                  \n",
            " conv3_block10_0_bn (BatchNorma  (None, 28, 28, 416)  1664       ['conv3_block9_concat[0][0]']    \n",
            " lization)                                                                                        \n",
            "                                                                                                  \n",
            " conv3_block10_0_relu (Activati  (None, 28, 28, 416)  0          ['conv3_block10_0_bn[0][0]']     \n",
            " on)                                                                                              \n",
            "                                                                                                  \n",
            " conv3_block10_1_conv (Conv2D)  (None, 28, 28, 128)  53248       ['conv3_block10_0_relu[0][0]']   \n",
            "                                                                                                  \n",
            " conv3_block10_1_bn (BatchNorma  (None, 28, 28, 128)  512        ['conv3_block10_1_conv[0][0]']   \n",
            " lization)                                                                                        \n",
            "                                                                                                  \n",
            " conv3_block10_1_relu (Activati  (None, 28, 28, 128)  0          ['conv3_block10_1_bn[0][0]']     \n",
            " on)                                                                                              \n",
            "                                                                                                  \n",
            " conv3_block10_2_conv (Conv2D)  (None, 28, 28, 32)   36864       ['conv3_block10_1_relu[0][0]']   \n",
            "                                                                                                  \n",
            " conv3_block10_concat (Concaten  (None, 28, 28, 448)  0          ['conv3_block9_concat[0][0]',    \n",
            " ate)                                                             'conv3_block10_2_conv[0][0]']   \n",
            "                                                                                                  \n",
            " conv3_block11_0_bn (BatchNorma  (None, 28, 28, 448)  1792       ['conv3_block10_concat[0][0]']   \n",
            " lization)                                                                                        \n",
            "                                                                                                  \n",
            " conv3_block11_0_relu (Activati  (None, 28, 28, 448)  0          ['conv3_block11_0_bn[0][0]']     \n",
            " on)                                                                                              \n",
            "                                                                                                  \n",
            " conv3_block11_1_conv (Conv2D)  (None, 28, 28, 128)  57344       ['conv3_block11_0_relu[0][0]']   \n",
            "                                                                                                  \n",
            " conv3_block11_1_bn (BatchNorma  (None, 28, 28, 128)  512        ['conv3_block11_1_conv[0][0]']   \n",
            " lization)                                                                                        \n",
            "                                                                                                  \n",
            " conv3_block11_1_relu (Activati  (None, 28, 28, 128)  0          ['conv3_block11_1_bn[0][0]']     \n",
            " on)                                                                                              \n",
            "                                                                                                  \n",
            " conv3_block11_2_conv (Conv2D)  (None, 28, 28, 32)   36864       ['conv3_block11_1_relu[0][0]']   \n",
            "                                                                                                  \n",
            " conv3_block11_concat (Concaten  (None, 28, 28, 480)  0          ['conv3_block10_concat[0][0]',   \n",
            " ate)                                                             'conv3_block11_2_conv[0][0]']   \n",
            "                                                                                                  \n",
            " conv3_block12_0_bn (BatchNorma  (None, 28, 28, 480)  1920       ['conv3_block11_concat[0][0]']   \n",
            " lization)                                                                                        \n",
            "                                                                                                  \n",
            " conv3_block12_0_relu (Activati  (None, 28, 28, 480)  0          ['conv3_block12_0_bn[0][0]']     \n",
            " on)                                                                                              \n",
            "                                                                                                  \n",
            " conv3_block12_1_conv (Conv2D)  (None, 28, 28, 128)  61440       ['conv3_block12_0_relu[0][0]']   \n",
            "                                                                                                  \n",
            " conv3_block12_1_bn (BatchNorma  (None, 28, 28, 128)  512        ['conv3_block12_1_conv[0][0]']   \n",
            " lization)                                                                                        \n",
            "                                                                                                  \n",
            " conv3_block12_1_relu (Activati  (None, 28, 28, 128)  0          ['conv3_block12_1_bn[0][0]']     \n",
            " on)                                                                                              \n",
            "                                                                                                  \n",
            " conv3_block12_2_conv (Conv2D)  (None, 28, 28, 32)   36864       ['conv3_block12_1_relu[0][0]']   \n",
            "                                                                                                  \n",
            " conv3_block12_concat (Concaten  (None, 28, 28, 512)  0          ['conv3_block11_concat[0][0]',   \n",
            " ate)                                                             'conv3_block12_2_conv[0][0]']   \n",
            "                                                                                                  \n",
            " pool3_bn (BatchNormalization)  (None, 28, 28, 512)  2048        ['conv3_block12_concat[0][0]']   \n",
            "                                                                                                  \n",
            " pool3_relu (Activation)        (None, 28, 28, 512)  0           ['pool3_bn[0][0]']               \n",
            "                                                                                                  \n",
            " pool3_conv (Conv2D)            (None, 28, 28, 256)  131072      ['pool3_relu[0][0]']             \n",
            "                                                                                                  \n",
            " pool3_pool (AveragePooling2D)  (None, 14, 14, 256)  0           ['pool3_conv[0][0]']             \n",
            "                                                                                                  \n",
            " conv4_block1_0_bn (BatchNormal  (None, 14, 14, 256)  1024       ['pool3_pool[0][0]']             \n",
            " ization)                                                                                         \n",
            "                                                                                                  \n",
            " conv4_block1_0_relu (Activatio  (None, 14, 14, 256)  0          ['conv4_block1_0_bn[0][0]']      \n",
            " n)                                                                                               \n",
            "                                                                                                  \n",
            " conv4_block1_1_conv (Conv2D)   (None, 14, 14, 128)  32768       ['conv4_block1_0_relu[0][0]']    \n",
            "                                                                                                  \n",
            " conv4_block1_1_bn (BatchNormal  (None, 14, 14, 128)  512        ['conv4_block1_1_conv[0][0]']    \n",
            " ization)                                                                                         \n",
            "                                                                                                  \n",
            " conv4_block1_1_relu (Activatio  (None, 14, 14, 128)  0          ['conv4_block1_1_bn[0][0]']      \n",
            " n)                                                                                               \n",
            "                                                                                                  \n",
            " conv4_block1_2_conv (Conv2D)   (None, 14, 14, 32)   36864       ['conv4_block1_1_relu[0][0]']    \n",
            "                                                                                                  \n",
            " conv4_block1_concat (Concatena  (None, 14, 14, 288)  0          ['pool3_pool[0][0]',             \n",
            " te)                                                              'conv4_block1_2_conv[0][0]']    \n",
            "                                                                                                  \n",
            " conv4_block2_0_bn (BatchNormal  (None, 14, 14, 288)  1152       ['conv4_block1_concat[0][0]']    \n",
            " ization)                                                                                         \n",
            "                                                                                                  \n",
            " conv4_block2_0_relu (Activatio  (None, 14, 14, 288)  0          ['conv4_block2_0_bn[0][0]']      \n",
            " n)                                                                                               \n",
            "                                                                                                  \n",
            " conv4_block2_1_conv (Conv2D)   (None, 14, 14, 128)  36864       ['conv4_block2_0_relu[0][0]']    \n",
            "                                                                                                  \n",
            " conv4_block2_1_bn (BatchNormal  (None, 14, 14, 128)  512        ['conv4_block2_1_conv[0][0]']    \n",
            " ization)                                                                                         \n",
            "                                                                                                  \n",
            " conv4_block2_1_relu (Activatio  (None, 14, 14, 128)  0          ['conv4_block2_1_bn[0][0]']      \n",
            " n)                                                                                               \n",
            "                                                                                                  \n",
            " conv4_block2_2_conv (Conv2D)   (None, 14, 14, 32)   36864       ['conv4_block2_1_relu[0][0]']    \n",
            "                                                                                                  \n",
            " conv4_block2_concat (Concatena  (None, 14, 14, 320)  0          ['conv4_block1_concat[0][0]',    \n",
            " te)                                                              'conv4_block2_2_conv[0][0]']    \n",
            "                                                                                                  \n",
            " conv4_block3_0_bn (BatchNormal  (None, 14, 14, 320)  1280       ['conv4_block2_concat[0][0]']    \n",
            " ization)                                                                                         \n",
            "                                                                                                  \n",
            " conv4_block3_0_relu (Activatio  (None, 14, 14, 320)  0          ['conv4_block3_0_bn[0][0]']      \n",
            " n)                                                                                               \n",
            "                                                                                                  \n",
            " conv4_block3_1_conv (Conv2D)   (None, 14, 14, 128)  40960       ['conv4_block3_0_relu[0][0]']    \n",
            "                                                                                                  \n",
            " conv4_block3_1_bn (BatchNormal  (None, 14, 14, 128)  512        ['conv4_block3_1_conv[0][0]']    \n",
            " ization)                                                                                         \n",
            "                                                                                                  \n",
            " conv4_block3_1_relu (Activatio  (None, 14, 14, 128)  0          ['conv4_block3_1_bn[0][0]']      \n",
            " n)                                                                                               \n",
            "                                                                                                  \n",
            " conv4_block3_2_conv (Conv2D)   (None, 14, 14, 32)   36864       ['conv4_block3_1_relu[0][0]']    \n",
            "                                                                                                  \n",
            " conv4_block3_concat (Concatena  (None, 14, 14, 352)  0          ['conv4_block2_concat[0][0]',    \n",
            " te)                                                              'conv4_block3_2_conv[0][0]']    \n",
            "                                                                                                  \n",
            " conv4_block4_0_bn (BatchNormal  (None, 14, 14, 352)  1408       ['conv4_block3_concat[0][0]']    \n",
            " ization)                                                                                         \n",
            "                                                                                                  \n",
            " conv4_block4_0_relu (Activatio  (None, 14, 14, 352)  0          ['conv4_block4_0_bn[0][0]']      \n",
            " n)                                                                                               \n",
            "                                                                                                  \n",
            " conv4_block4_1_conv (Conv2D)   (None, 14, 14, 128)  45056       ['conv4_block4_0_relu[0][0]']    \n",
            "                                                                                                  \n",
            " conv4_block4_1_bn (BatchNormal  (None, 14, 14, 128)  512        ['conv4_block4_1_conv[0][0]']    \n",
            " ization)                                                                                         \n",
            "                                                                                                  \n",
            " conv4_block4_1_relu (Activatio  (None, 14, 14, 128)  0          ['conv4_block4_1_bn[0][0]']      \n",
            " n)                                                                                               \n",
            "                                                                                                  \n",
            " conv4_block4_2_conv (Conv2D)   (None, 14, 14, 32)   36864       ['conv4_block4_1_relu[0][0]']    \n",
            "                                                                                                  \n",
            " conv4_block4_concat (Concatena  (None, 14, 14, 384)  0          ['conv4_block3_concat[0][0]',    \n",
            " te)                                                              'conv4_block4_2_conv[0][0]']    \n",
            "                                                                                                  \n",
            " conv4_block5_0_bn (BatchNormal  (None, 14, 14, 384)  1536       ['conv4_block4_concat[0][0]']    \n",
            " ization)                                                                                         \n",
            "                                                                                                  \n",
            " conv4_block5_0_relu (Activatio  (None, 14, 14, 384)  0          ['conv4_block5_0_bn[0][0]']      \n",
            " n)                                                                                               \n",
            "                                                                                                  \n",
            " conv4_block5_1_conv (Conv2D)   (None, 14, 14, 128)  49152       ['conv4_block5_0_relu[0][0]']    \n",
            "                                                                                                  \n",
            " conv4_block5_1_bn (BatchNormal  (None, 14, 14, 128)  512        ['conv4_block5_1_conv[0][0]']    \n",
            " ization)                                                                                         \n",
            "                                                                                                  \n",
            " conv4_block5_1_relu (Activatio  (None, 14, 14, 128)  0          ['conv4_block5_1_bn[0][0]']      \n",
            " n)                                                                                               \n",
            "                                                                                                  \n",
            " conv4_block5_2_conv (Conv2D)   (None, 14, 14, 32)   36864       ['conv4_block5_1_relu[0][0]']    \n",
            "                                                                                                  \n",
            " conv4_block5_concat (Concatena  (None, 14, 14, 416)  0          ['conv4_block4_concat[0][0]',    \n",
            " te)                                                              'conv4_block5_2_conv[0][0]']    \n",
            "                                                                                                  \n",
            " conv4_block6_0_bn (BatchNormal  (None, 14, 14, 416)  1664       ['conv4_block5_concat[0][0]']    \n",
            " ization)                                                                                         \n",
            "                                                                                                  \n",
            " conv4_block6_0_relu (Activatio  (None, 14, 14, 416)  0          ['conv4_block6_0_bn[0][0]']      \n",
            " n)                                                                                               \n",
            "                                                                                                  \n",
            " conv4_block6_1_conv (Conv2D)   (None, 14, 14, 128)  53248       ['conv4_block6_0_relu[0][0]']    \n",
            "                                                                                                  \n",
            " conv4_block6_1_bn (BatchNormal  (None, 14, 14, 128)  512        ['conv4_block6_1_conv[0][0]']    \n",
            " ization)                                                                                         \n",
            "                                                                                                  \n",
            " conv4_block6_1_relu (Activatio  (None, 14, 14, 128)  0          ['conv4_block6_1_bn[0][0]']      \n",
            " n)                                                                                               \n",
            "                                                                                                  \n",
            " conv4_block6_2_conv (Conv2D)   (None, 14, 14, 32)   36864       ['conv4_block6_1_relu[0][0]']    \n",
            "                                                                                                  \n",
            " conv4_block6_concat (Concatena  (None, 14, 14, 448)  0          ['conv4_block5_concat[0][0]',    \n",
            " te)                                                              'conv4_block6_2_conv[0][0]']    \n",
            "                                                                                                  \n",
            " conv4_block7_0_bn (BatchNormal  (None, 14, 14, 448)  1792       ['conv4_block6_concat[0][0]']    \n",
            " ization)                                                                                         \n",
            "                                                                                                  \n",
            " conv4_block7_0_relu (Activatio  (None, 14, 14, 448)  0          ['conv4_block7_0_bn[0][0]']      \n",
            " n)                                                                                               \n",
            "                                                                                                  \n",
            " conv4_block7_1_conv (Conv2D)   (None, 14, 14, 128)  57344       ['conv4_block7_0_relu[0][0]']    \n",
            "                                                                                                  \n",
            " conv4_block7_1_bn (BatchNormal  (None, 14, 14, 128)  512        ['conv4_block7_1_conv[0][0]']    \n",
            " ization)                                                                                         \n",
            "                                                                                                  \n",
            " conv4_block7_1_relu (Activatio  (None, 14, 14, 128)  0          ['conv4_block7_1_bn[0][0]']      \n",
            " n)                                                                                               \n",
            "                                                                                                  \n",
            " conv4_block7_2_conv (Conv2D)   (None, 14, 14, 32)   36864       ['conv4_block7_1_relu[0][0]']    \n",
            "                                                                                                  \n",
            " conv4_block7_concat (Concatena  (None, 14, 14, 480)  0          ['conv4_block6_concat[0][0]',    \n",
            " te)                                                              'conv4_block7_2_conv[0][0]']    \n",
            "                                                                                                  \n",
            " conv4_block8_0_bn (BatchNormal  (None, 14, 14, 480)  1920       ['conv4_block7_concat[0][0]']    \n",
            " ization)                                                                                         \n",
            "                                                                                                  \n",
            " conv4_block8_0_relu (Activatio  (None, 14, 14, 480)  0          ['conv4_block8_0_bn[0][0]']      \n",
            " n)                                                                                               \n",
            "                                                                                                  \n",
            " conv4_block8_1_conv (Conv2D)   (None, 14, 14, 128)  61440       ['conv4_block8_0_relu[0][0]']    \n",
            "                                                                                                  \n",
            " conv4_block8_1_bn (BatchNormal  (None, 14, 14, 128)  512        ['conv4_block8_1_conv[0][0]']    \n",
            " ization)                                                                                         \n",
            "                                                                                                  \n",
            " conv4_block8_1_relu (Activatio  (None, 14, 14, 128)  0          ['conv4_block8_1_bn[0][0]']      \n",
            " n)                                                                                               \n",
            "                                                                                                  \n",
            " conv4_block8_2_conv (Conv2D)   (None, 14, 14, 32)   36864       ['conv4_block8_1_relu[0][0]']    \n",
            "                                                                                                  \n",
            " conv4_block8_concat (Concatena  (None, 14, 14, 512)  0          ['conv4_block7_concat[0][0]',    \n",
            " te)                                                              'conv4_block8_2_conv[0][0]']    \n",
            "                                                                                                  \n",
            " conv4_block9_0_bn (BatchNormal  (None, 14, 14, 512)  2048       ['conv4_block8_concat[0][0]']    \n",
            " ization)                                                                                         \n",
            "                                                                                                  \n",
            " conv4_block9_0_relu (Activatio  (None, 14, 14, 512)  0          ['conv4_block9_0_bn[0][0]']      \n",
            " n)                                                                                               \n",
            "                                                                                                  \n",
            " conv4_block9_1_conv (Conv2D)   (None, 14, 14, 128)  65536       ['conv4_block9_0_relu[0][0]']    \n",
            "                                                                                                  \n",
            " conv4_block9_1_bn (BatchNormal  (None, 14, 14, 128)  512        ['conv4_block9_1_conv[0][0]']    \n",
            " ization)                                                                                         \n",
            "                                                                                                  \n",
            " conv4_block9_1_relu (Activatio  (None, 14, 14, 128)  0          ['conv4_block9_1_bn[0][0]']      \n",
            " n)                                                                                               \n",
            "                                                                                                  \n",
            " conv4_block9_2_conv (Conv2D)   (None, 14, 14, 32)   36864       ['conv4_block9_1_relu[0][0]']    \n",
            "                                                                                                  \n",
            " conv4_block9_concat (Concatena  (None, 14, 14, 544)  0          ['conv4_block8_concat[0][0]',    \n",
            " te)                                                              'conv4_block9_2_conv[0][0]']    \n",
            "                                                                                                  \n",
            " conv4_block10_0_bn (BatchNorma  (None, 14, 14, 544)  2176       ['conv4_block9_concat[0][0]']    \n",
            " lization)                                                                                        \n",
            "                                                                                                  \n",
            " conv4_block10_0_relu (Activati  (None, 14, 14, 544)  0          ['conv4_block10_0_bn[0][0]']     \n",
            " on)                                                                                              \n",
            "                                                                                                  \n",
            " conv4_block10_1_conv (Conv2D)  (None, 14, 14, 128)  69632       ['conv4_block10_0_relu[0][0]']   \n",
            "                                                                                                  \n",
            " conv4_block10_1_bn (BatchNorma  (None, 14, 14, 128)  512        ['conv4_block10_1_conv[0][0]']   \n",
            " lization)                                                                                        \n",
            "                                                                                                  \n",
            " conv4_block10_1_relu (Activati  (None, 14, 14, 128)  0          ['conv4_block10_1_bn[0][0]']     \n",
            " on)                                                                                              \n",
            "                                                                                                  \n",
            " conv4_block10_2_conv (Conv2D)  (None, 14, 14, 32)   36864       ['conv4_block10_1_relu[0][0]']   \n",
            "                                                                                                  \n",
            " conv4_block10_concat (Concaten  (None, 14, 14, 576)  0          ['conv4_block9_concat[0][0]',    \n",
            " ate)                                                             'conv4_block10_2_conv[0][0]']   \n",
            "                                                                                                  \n",
            " conv4_block11_0_bn (BatchNorma  (None, 14, 14, 576)  2304       ['conv4_block10_concat[0][0]']   \n",
            " lization)                                                                                        \n",
            "                                                                                                  \n",
            " conv4_block11_0_relu (Activati  (None, 14, 14, 576)  0          ['conv4_block11_0_bn[0][0]']     \n",
            " on)                                                                                              \n",
            "                                                                                                  \n",
            " conv4_block11_1_conv (Conv2D)  (None, 14, 14, 128)  73728       ['conv4_block11_0_relu[0][0]']   \n",
            "                                                                                                  \n",
            " conv4_block11_1_bn (BatchNorma  (None, 14, 14, 128)  512        ['conv4_block11_1_conv[0][0]']   \n",
            " lization)                                                                                        \n",
            "                                                                                                  \n",
            " conv4_block11_1_relu (Activati  (None, 14, 14, 128)  0          ['conv4_block11_1_bn[0][0]']     \n",
            " on)                                                                                              \n",
            "                                                                                                  \n",
            " conv4_block11_2_conv (Conv2D)  (None, 14, 14, 32)   36864       ['conv4_block11_1_relu[0][0]']   \n",
            "                                                                                                  \n",
            " conv4_block11_concat (Concaten  (None, 14, 14, 608)  0          ['conv4_block10_concat[0][0]',   \n",
            " ate)                                                             'conv4_block11_2_conv[0][0]']   \n",
            "                                                                                                  \n",
            " conv4_block12_0_bn (BatchNorma  (None, 14, 14, 608)  2432       ['conv4_block11_concat[0][0]']   \n",
            " lization)                                                                                        \n",
            "                                                                                                  \n",
            " conv4_block12_0_relu (Activati  (None, 14, 14, 608)  0          ['conv4_block12_0_bn[0][0]']     \n",
            " on)                                                                                              \n",
            "                                                                                                  \n",
            " conv4_block12_1_conv (Conv2D)  (None, 14, 14, 128)  77824       ['conv4_block12_0_relu[0][0]']   \n",
            "                                                                                                  \n",
            " conv4_block12_1_bn (BatchNorma  (None, 14, 14, 128)  512        ['conv4_block12_1_conv[0][0]']   \n",
            " lization)                                                                                        \n",
            "                                                                                                  \n",
            " conv4_block12_1_relu (Activati  (None, 14, 14, 128)  0          ['conv4_block12_1_bn[0][0]']     \n",
            " on)                                                                                              \n",
            "                                                                                                  \n",
            " conv4_block12_2_conv (Conv2D)  (None, 14, 14, 32)   36864       ['conv4_block12_1_relu[0][0]']   \n",
            "                                                                                                  \n",
            " conv4_block12_concat (Concaten  (None, 14, 14, 640)  0          ['conv4_block11_concat[0][0]',   \n",
            " ate)                                                             'conv4_block12_2_conv[0][0]']   \n",
            "                                                                                                  \n",
            " conv4_block13_0_bn (BatchNorma  (None, 14, 14, 640)  2560       ['conv4_block12_concat[0][0]']   \n",
            " lization)                                                                                        \n",
            "                                                                                                  \n",
            " conv4_block13_0_relu (Activati  (None, 14, 14, 640)  0          ['conv4_block13_0_bn[0][0]']     \n",
            " on)                                                                                              \n",
            "                                                                                                  \n",
            " conv4_block13_1_conv (Conv2D)  (None, 14, 14, 128)  81920       ['conv4_block13_0_relu[0][0]']   \n",
            "                                                                                                  \n",
            " conv4_block13_1_bn (BatchNorma  (None, 14, 14, 128)  512        ['conv4_block13_1_conv[0][0]']   \n",
            " lization)                                                                                        \n",
            "                                                                                                  \n",
            " conv4_block13_1_relu (Activati  (None, 14, 14, 128)  0          ['conv4_block13_1_bn[0][0]']     \n",
            " on)                                                                                              \n",
            "                                                                                                  \n",
            " conv4_block13_2_conv (Conv2D)  (None, 14, 14, 32)   36864       ['conv4_block13_1_relu[0][0]']   \n",
            "                                                                                                  \n",
            " conv4_block13_concat (Concaten  (None, 14, 14, 672)  0          ['conv4_block12_concat[0][0]',   \n",
            " ate)                                                             'conv4_block13_2_conv[0][0]']   \n",
            "                                                                                                  \n",
            " conv4_block14_0_bn (BatchNorma  (None, 14, 14, 672)  2688       ['conv4_block13_concat[0][0]']   \n",
            " lization)                                                                                        \n",
            "                                                                                                  \n",
            " conv4_block14_0_relu (Activati  (None, 14, 14, 672)  0          ['conv4_block14_0_bn[0][0]']     \n",
            " on)                                                                                              \n",
            "                                                                                                  \n",
            " conv4_block14_1_conv (Conv2D)  (None, 14, 14, 128)  86016       ['conv4_block14_0_relu[0][0]']   \n",
            "                                                                                                  \n",
            " conv4_block14_1_bn (BatchNorma  (None, 14, 14, 128)  512        ['conv4_block14_1_conv[0][0]']   \n",
            " lization)                                                                                        \n",
            "                                                                                                  \n",
            " conv4_block14_1_relu (Activati  (None, 14, 14, 128)  0          ['conv4_block14_1_bn[0][0]']     \n",
            " on)                                                                                              \n",
            "                                                                                                  \n",
            " conv4_block14_2_conv (Conv2D)  (None, 14, 14, 32)   36864       ['conv4_block14_1_relu[0][0]']   \n",
            "                                                                                                  \n",
            " conv4_block14_concat (Concaten  (None, 14, 14, 704)  0          ['conv4_block13_concat[0][0]',   \n",
            " ate)                                                             'conv4_block14_2_conv[0][0]']   \n",
            "                                                                                                  \n",
            " conv4_block15_0_bn (BatchNorma  (None, 14, 14, 704)  2816       ['conv4_block14_concat[0][0]']   \n",
            " lization)                                                                                        \n",
            "                                                                                                  \n",
            " conv4_block15_0_relu (Activati  (None, 14, 14, 704)  0          ['conv4_block15_0_bn[0][0]']     \n",
            " on)                                                                                              \n",
            "                                                                                                  \n",
            " conv4_block15_1_conv (Conv2D)  (None, 14, 14, 128)  90112       ['conv4_block15_0_relu[0][0]']   \n",
            "                                                                                                  \n",
            " conv4_block15_1_bn (BatchNorma  (None, 14, 14, 128)  512        ['conv4_block15_1_conv[0][0]']   \n",
            " lization)                                                                                        \n",
            "                                                                                                  \n",
            " conv4_block15_1_relu (Activati  (None, 14, 14, 128)  0          ['conv4_block15_1_bn[0][0]']     \n",
            " on)                                                                                              \n",
            "                                                                                                  \n",
            " conv4_block15_2_conv (Conv2D)  (None, 14, 14, 32)   36864       ['conv4_block15_1_relu[0][0]']   \n",
            "                                                                                                  \n",
            " conv4_block15_concat (Concaten  (None, 14, 14, 736)  0          ['conv4_block14_concat[0][0]',   \n",
            " ate)                                                             'conv4_block15_2_conv[0][0]']   \n",
            "                                                                                                  \n",
            " conv4_block16_0_bn (BatchNorma  (None, 14, 14, 736)  2944       ['conv4_block15_concat[0][0]']   \n",
            " lization)                                                                                        \n",
            "                                                                                                  \n",
            " conv4_block16_0_relu (Activati  (None, 14, 14, 736)  0          ['conv4_block16_0_bn[0][0]']     \n",
            " on)                                                                                              \n",
            "                                                                                                  \n",
            " conv4_block16_1_conv (Conv2D)  (None, 14, 14, 128)  94208       ['conv4_block16_0_relu[0][0]']   \n",
            "                                                                                                  \n",
            " conv4_block16_1_bn (BatchNorma  (None, 14, 14, 128)  512        ['conv4_block16_1_conv[0][0]']   \n",
            " lization)                                                                                        \n",
            "                                                                                                  \n",
            " conv4_block16_1_relu (Activati  (None, 14, 14, 128)  0          ['conv4_block16_1_bn[0][0]']     \n",
            " on)                                                                                              \n",
            "                                                                                                  \n",
            " conv4_block16_2_conv (Conv2D)  (None, 14, 14, 32)   36864       ['conv4_block16_1_relu[0][0]']   \n",
            "                                                                                                  \n",
            " conv4_block16_concat (Concaten  (None, 14, 14, 768)  0          ['conv4_block15_concat[0][0]',   \n",
            " ate)                                                             'conv4_block16_2_conv[0][0]']   \n",
            "                                                                                                  \n",
            " conv4_block17_0_bn (BatchNorma  (None, 14, 14, 768)  3072       ['conv4_block16_concat[0][0]']   \n",
            " lization)                                                                                        \n",
            "                                                                                                  \n",
            " conv4_block17_0_relu (Activati  (None, 14, 14, 768)  0          ['conv4_block17_0_bn[0][0]']     \n",
            " on)                                                                                              \n",
            "                                                                                                  \n",
            " conv4_block17_1_conv (Conv2D)  (None, 14, 14, 128)  98304       ['conv4_block17_0_relu[0][0]']   \n",
            "                                                                                                  \n",
            " conv4_block17_1_bn (BatchNorma  (None, 14, 14, 128)  512        ['conv4_block17_1_conv[0][0]']   \n",
            " lization)                                                                                        \n",
            "                                                                                                  \n",
            " conv4_block17_1_relu (Activati  (None, 14, 14, 128)  0          ['conv4_block17_1_bn[0][0]']     \n",
            " on)                                                                                              \n",
            "                                                                                                  \n",
            " conv4_block17_2_conv (Conv2D)  (None, 14, 14, 32)   36864       ['conv4_block17_1_relu[0][0]']   \n",
            "                                                                                                  \n",
            " conv4_block17_concat (Concaten  (None, 14, 14, 800)  0          ['conv4_block16_concat[0][0]',   \n",
            " ate)                                                             'conv4_block17_2_conv[0][0]']   \n",
            "                                                                                                  \n",
            " conv4_block18_0_bn (BatchNorma  (None, 14, 14, 800)  3200       ['conv4_block17_concat[0][0]']   \n",
            " lization)                                                                                        \n",
            "                                                                                                  \n",
            " conv4_block18_0_relu (Activati  (None, 14, 14, 800)  0          ['conv4_block18_0_bn[0][0]']     \n",
            " on)                                                                                              \n",
            "                                                                                                  \n",
            " conv4_block18_1_conv (Conv2D)  (None, 14, 14, 128)  102400      ['conv4_block18_0_relu[0][0]']   \n",
            "                                                                                                  \n",
            " conv4_block18_1_bn (BatchNorma  (None, 14, 14, 128)  512        ['conv4_block18_1_conv[0][0]']   \n",
            " lization)                                                                                        \n",
            "                                                                                                  \n",
            " conv4_block18_1_relu (Activati  (None, 14, 14, 128)  0          ['conv4_block18_1_bn[0][0]']     \n",
            " on)                                                                                              \n",
            "                                                                                                  \n",
            " conv4_block18_2_conv (Conv2D)  (None, 14, 14, 32)   36864       ['conv4_block18_1_relu[0][0]']   \n",
            "                                                                                                  \n",
            " conv4_block18_concat (Concaten  (None, 14, 14, 832)  0          ['conv4_block17_concat[0][0]',   \n",
            " ate)                                                             'conv4_block18_2_conv[0][0]']   \n",
            "                                                                                                  \n",
            " conv4_block19_0_bn (BatchNorma  (None, 14, 14, 832)  3328       ['conv4_block18_concat[0][0]']   \n",
            " lization)                                                                                        \n",
            "                                                                                                  \n",
            " conv4_block19_0_relu (Activati  (None, 14, 14, 832)  0          ['conv4_block19_0_bn[0][0]']     \n",
            " on)                                                                                              \n",
            "                                                                                                  \n",
            " conv4_block19_1_conv (Conv2D)  (None, 14, 14, 128)  106496      ['conv4_block19_0_relu[0][0]']   \n",
            "                                                                                                  \n",
            " conv4_block19_1_bn (BatchNorma  (None, 14, 14, 128)  512        ['conv4_block19_1_conv[0][0]']   \n",
            " lization)                                                                                        \n",
            "                                                                                                  \n",
            " conv4_block19_1_relu (Activati  (None, 14, 14, 128)  0          ['conv4_block19_1_bn[0][0]']     \n",
            " on)                                                                                              \n",
            "                                                                                                  \n",
            " conv4_block19_2_conv (Conv2D)  (None, 14, 14, 32)   36864       ['conv4_block19_1_relu[0][0]']   \n",
            "                                                                                                  \n",
            " conv4_block19_concat (Concaten  (None, 14, 14, 864)  0          ['conv4_block18_concat[0][0]',   \n",
            " ate)                                                             'conv4_block19_2_conv[0][0]']   \n",
            "                                                                                                  \n",
            " conv4_block20_0_bn (BatchNorma  (None, 14, 14, 864)  3456       ['conv4_block19_concat[0][0]']   \n",
            " lization)                                                                                        \n",
            "                                                                                                  \n",
            " conv4_block20_0_relu (Activati  (None, 14, 14, 864)  0          ['conv4_block20_0_bn[0][0]']     \n",
            " on)                                                                                              \n",
            "                                                                                                  \n",
            " conv4_block20_1_conv (Conv2D)  (None, 14, 14, 128)  110592      ['conv4_block20_0_relu[0][0]']   \n",
            "                                                                                                  \n",
            " conv4_block20_1_bn (BatchNorma  (None, 14, 14, 128)  512        ['conv4_block20_1_conv[0][0]']   \n",
            " lization)                                                                                        \n",
            "                                                                                                  \n",
            " conv4_block20_1_relu (Activati  (None, 14, 14, 128)  0          ['conv4_block20_1_bn[0][0]']     \n",
            " on)                                                                                              \n",
            "                                                                                                  \n",
            " conv4_block20_2_conv (Conv2D)  (None, 14, 14, 32)   36864       ['conv4_block20_1_relu[0][0]']   \n",
            "                                                                                                  \n",
            " conv4_block20_concat (Concaten  (None, 14, 14, 896)  0          ['conv4_block19_concat[0][0]',   \n",
            " ate)                                                             'conv4_block20_2_conv[0][0]']   \n",
            "                                                                                                  \n",
            " conv4_block21_0_bn (BatchNorma  (None, 14, 14, 896)  3584       ['conv4_block20_concat[0][0]']   \n",
            " lization)                                                                                        \n",
            "                                                                                                  \n",
            " conv4_block21_0_relu (Activati  (None, 14, 14, 896)  0          ['conv4_block21_0_bn[0][0]']     \n",
            " on)                                                                                              \n",
            "                                                                                                  \n",
            " conv4_block21_1_conv (Conv2D)  (None, 14, 14, 128)  114688      ['conv4_block21_0_relu[0][0]']   \n",
            "                                                                                                  \n",
            " conv4_block21_1_bn (BatchNorma  (None, 14, 14, 128)  512        ['conv4_block21_1_conv[0][0]']   \n",
            " lization)                                                                                        \n",
            "                                                                                                  \n",
            " conv4_block21_1_relu (Activati  (None, 14, 14, 128)  0          ['conv4_block21_1_bn[0][0]']     \n",
            " on)                                                                                              \n",
            "                                                                                                  \n",
            " conv4_block21_2_conv (Conv2D)  (None, 14, 14, 32)   36864       ['conv4_block21_1_relu[0][0]']   \n",
            "                                                                                                  \n",
            " conv4_block21_concat (Concaten  (None, 14, 14, 928)  0          ['conv4_block20_concat[0][0]',   \n",
            " ate)                                                             'conv4_block21_2_conv[0][0]']   \n",
            "                                                                                                  \n",
            " conv4_block22_0_bn (BatchNorma  (None, 14, 14, 928)  3712       ['conv4_block21_concat[0][0]']   \n",
            " lization)                                                                                        \n",
            "                                                                                                  \n",
            " conv4_block22_0_relu (Activati  (None, 14, 14, 928)  0          ['conv4_block22_0_bn[0][0]']     \n",
            " on)                                                                                              \n",
            "                                                                                                  \n",
            " conv4_block22_1_conv (Conv2D)  (None, 14, 14, 128)  118784      ['conv4_block22_0_relu[0][0]']   \n",
            "                                                                                                  \n",
            " conv4_block22_1_bn (BatchNorma  (None, 14, 14, 128)  512        ['conv4_block22_1_conv[0][0]']   \n",
            " lization)                                                                                        \n",
            "                                                                                                  \n",
            " conv4_block22_1_relu (Activati  (None, 14, 14, 128)  0          ['conv4_block22_1_bn[0][0]']     \n",
            " on)                                                                                              \n",
            "                                                                                                  \n",
            " conv4_block22_2_conv (Conv2D)  (None, 14, 14, 32)   36864       ['conv4_block22_1_relu[0][0]']   \n",
            "                                                                                                  \n",
            " conv4_block22_concat (Concaten  (None, 14, 14, 960)  0          ['conv4_block21_concat[0][0]',   \n",
            " ate)                                                             'conv4_block22_2_conv[0][0]']   \n",
            "                                                                                                  \n",
            " conv4_block23_0_bn (BatchNorma  (None, 14, 14, 960)  3840       ['conv4_block22_concat[0][0]']   \n",
            " lization)                                                                                        \n",
            "                                                                                                  \n",
            " conv4_block23_0_relu (Activati  (None, 14, 14, 960)  0          ['conv4_block23_0_bn[0][0]']     \n",
            " on)                                                                                              \n",
            "                                                                                                  \n",
            " conv4_block23_1_conv (Conv2D)  (None, 14, 14, 128)  122880      ['conv4_block23_0_relu[0][0]']   \n",
            "                                                                                                  \n",
            " conv4_block23_1_bn (BatchNorma  (None, 14, 14, 128)  512        ['conv4_block23_1_conv[0][0]']   \n",
            " lization)                                                                                        \n",
            "                                                                                                  \n",
            " conv4_block23_1_relu (Activati  (None, 14, 14, 128)  0          ['conv4_block23_1_bn[0][0]']     \n",
            " on)                                                                                              \n",
            "                                                                                                  \n",
            " conv4_block23_2_conv (Conv2D)  (None, 14, 14, 32)   36864       ['conv4_block23_1_relu[0][0]']   \n",
            "                                                                                                  \n",
            " conv4_block23_concat (Concaten  (None, 14, 14, 992)  0          ['conv4_block22_concat[0][0]',   \n",
            " ate)                                                             'conv4_block23_2_conv[0][0]']   \n",
            "                                                                                                  \n",
            " conv4_block24_0_bn (BatchNorma  (None, 14, 14, 992)  3968       ['conv4_block23_concat[0][0]']   \n",
            " lization)                                                                                        \n",
            "                                                                                                  \n",
            " conv4_block24_0_relu (Activati  (None, 14, 14, 992)  0          ['conv4_block24_0_bn[0][0]']     \n",
            " on)                                                                                              \n",
            "                                                                                                  \n",
            " conv4_block24_1_conv (Conv2D)  (None, 14, 14, 128)  126976      ['conv4_block24_0_relu[0][0]']   \n",
            "                                                                                                  \n",
            " conv4_block24_1_bn (BatchNorma  (None, 14, 14, 128)  512        ['conv4_block24_1_conv[0][0]']   \n",
            " lization)                                                                                        \n",
            "                                                                                                  \n",
            " conv4_block24_1_relu (Activati  (None, 14, 14, 128)  0          ['conv4_block24_1_bn[0][0]']     \n",
            " on)                                                                                              \n",
            "                                                                                                  \n",
            " conv4_block24_2_conv (Conv2D)  (None, 14, 14, 32)   36864       ['conv4_block24_1_relu[0][0]']   \n",
            "                                                                                                  \n",
            " conv4_block24_concat (Concaten  (None, 14, 14, 1024  0          ['conv4_block23_concat[0][0]',   \n",
            " ate)                           )                                 'conv4_block24_2_conv[0][0]']   \n",
            "                                                                                                  \n",
            " pool4_bn (BatchNormalization)  (None, 14, 14, 1024  4096        ['conv4_block24_concat[0][0]']   \n",
            "                                )                                                                 \n",
            "                                                                                                  \n",
            " pool4_relu (Activation)        (None, 14, 14, 1024  0           ['pool4_bn[0][0]']               \n",
            "                                )                                                                 \n",
            "                                                                                                  \n",
            " pool4_conv (Conv2D)            (None, 14, 14, 512)  524288      ['pool4_relu[0][0]']             \n",
            "                                                                                                  \n",
            " pool4_pool (AveragePooling2D)  (None, 7, 7, 512)    0           ['pool4_conv[0][0]']             \n",
            "                                                                                                  \n",
            " conv5_block1_0_bn (BatchNormal  (None, 7, 7, 512)   2048        ['pool4_pool[0][0]']             \n",
            " ization)                                                                                         \n",
            "                                                                                                  \n",
            " conv5_block1_0_relu (Activatio  (None, 7, 7, 512)   0           ['conv5_block1_0_bn[0][0]']      \n",
            " n)                                                                                               \n",
            "                                                                                                  \n",
            " conv5_block1_1_conv (Conv2D)   (None, 7, 7, 128)    65536       ['conv5_block1_0_relu[0][0]']    \n",
            "                                                                                                  \n",
            " conv5_block1_1_bn (BatchNormal  (None, 7, 7, 128)   512         ['conv5_block1_1_conv[0][0]']    \n",
            " ization)                                                                                         \n",
            "                                                                                                  \n",
            " conv5_block1_1_relu (Activatio  (None, 7, 7, 128)   0           ['conv5_block1_1_bn[0][0]']      \n",
            " n)                                                                                               \n",
            "                                                                                                  \n",
            " conv5_block1_2_conv (Conv2D)   (None, 7, 7, 32)     36864       ['conv5_block1_1_relu[0][0]']    \n",
            "                                                                                                  \n",
            " conv5_block1_concat (Concatena  (None, 7, 7, 544)   0           ['pool4_pool[0][0]',             \n",
            " te)                                                              'conv5_block1_2_conv[0][0]']    \n",
            "                                                                                                  \n",
            " conv5_block2_0_bn (BatchNormal  (None, 7, 7, 544)   2176        ['conv5_block1_concat[0][0]']    \n",
            " ization)                                                                                         \n",
            "                                                                                                  \n",
            " conv5_block2_0_relu (Activatio  (None, 7, 7, 544)   0           ['conv5_block2_0_bn[0][0]']      \n",
            " n)                                                                                               \n",
            "                                                                                                  \n",
            " conv5_block2_1_conv (Conv2D)   (None, 7, 7, 128)    69632       ['conv5_block2_0_relu[0][0]']    \n",
            "                                                                                                  \n",
            " conv5_block2_1_bn (BatchNormal  (None, 7, 7, 128)   512         ['conv5_block2_1_conv[0][0]']    \n",
            " ization)                                                                                         \n",
            "                                                                                                  \n",
            " conv5_block2_1_relu (Activatio  (None, 7, 7, 128)   0           ['conv5_block2_1_bn[0][0]']      \n",
            " n)                                                                                               \n",
            "                                                                                                  \n",
            " conv5_block2_2_conv (Conv2D)   (None, 7, 7, 32)     36864       ['conv5_block2_1_relu[0][0]']    \n",
            "                                                                                                  \n",
            " conv5_block2_concat (Concatena  (None, 7, 7, 576)   0           ['conv5_block1_concat[0][0]',    \n",
            " te)                                                              'conv5_block2_2_conv[0][0]']    \n",
            "                                                                                                  \n",
            " conv5_block3_0_bn (BatchNormal  (None, 7, 7, 576)   2304        ['conv5_block2_concat[0][0]']    \n",
            " ization)                                                                                         \n",
            "                                                                                                  \n",
            " conv5_block3_0_relu (Activatio  (None, 7, 7, 576)   0           ['conv5_block3_0_bn[0][0]']      \n",
            " n)                                                                                               \n",
            "                                                                                                  \n",
            " conv5_block3_1_conv (Conv2D)   (None, 7, 7, 128)    73728       ['conv5_block3_0_relu[0][0]']    \n",
            "                                                                                                  \n",
            " conv5_block3_1_bn (BatchNormal  (None, 7, 7, 128)   512         ['conv5_block3_1_conv[0][0]']    \n",
            " ization)                                                                                         \n",
            "                                                                                                  \n",
            " conv5_block3_1_relu (Activatio  (None, 7, 7, 128)   0           ['conv5_block3_1_bn[0][0]']      \n",
            " n)                                                                                               \n",
            "                                                                                                  \n",
            " conv5_block3_2_conv (Conv2D)   (None, 7, 7, 32)     36864       ['conv5_block3_1_relu[0][0]']    \n",
            "                                                                                                  \n",
            " conv5_block3_concat (Concatena  (None, 7, 7, 608)   0           ['conv5_block2_concat[0][0]',    \n",
            " te)                                                              'conv5_block3_2_conv[0][0]']    \n",
            "                                                                                                  \n",
            " conv5_block4_0_bn (BatchNormal  (None, 7, 7, 608)   2432        ['conv5_block3_concat[0][0]']    \n",
            " ization)                                                                                         \n",
            "                                                                                                  \n",
            " conv5_block4_0_relu (Activatio  (None, 7, 7, 608)   0           ['conv5_block4_0_bn[0][0]']      \n",
            " n)                                                                                               \n",
            "                                                                                                  \n",
            " conv5_block4_1_conv (Conv2D)   (None, 7, 7, 128)    77824       ['conv5_block4_0_relu[0][0]']    \n",
            "                                                                                                  \n",
            " conv5_block4_1_bn (BatchNormal  (None, 7, 7, 128)   512         ['conv5_block4_1_conv[0][0]']    \n",
            " ization)                                                                                         \n",
            "                                                                                                  \n",
            " conv5_block4_1_relu (Activatio  (None, 7, 7, 128)   0           ['conv5_block4_1_bn[0][0]']      \n",
            " n)                                                                                               \n",
            "                                                                                                  \n",
            " conv5_block4_2_conv (Conv2D)   (None, 7, 7, 32)     36864       ['conv5_block4_1_relu[0][0]']    \n",
            "                                                                                                  \n",
            " conv5_block4_concat (Concatena  (None, 7, 7, 640)   0           ['conv5_block3_concat[0][0]',    \n",
            " te)                                                              'conv5_block4_2_conv[0][0]']    \n",
            "                                                                                                  \n",
            " conv5_block5_0_bn (BatchNormal  (None, 7, 7, 640)   2560        ['conv5_block4_concat[0][0]']    \n",
            " ization)                                                                                         \n",
            "                                                                                                  \n",
            " conv5_block5_0_relu (Activatio  (None, 7, 7, 640)   0           ['conv5_block5_0_bn[0][0]']      \n",
            " n)                                                                                               \n",
            "                                                                                                  \n",
            " conv5_block5_1_conv (Conv2D)   (None, 7, 7, 128)    81920       ['conv5_block5_0_relu[0][0]']    \n",
            "                                                                                                  \n",
            " conv5_block5_1_bn (BatchNormal  (None, 7, 7, 128)   512         ['conv5_block5_1_conv[0][0]']    \n",
            " ization)                                                                                         \n",
            "                                                                                                  \n",
            " conv5_block5_1_relu (Activatio  (None, 7, 7, 128)   0           ['conv5_block5_1_bn[0][0]']      \n",
            " n)                                                                                               \n",
            "                                                                                                  \n",
            " conv5_block5_2_conv (Conv2D)   (None, 7, 7, 32)     36864       ['conv5_block5_1_relu[0][0]']    \n",
            "                                                                                                  \n",
            " conv5_block5_concat (Concatena  (None, 7, 7, 672)   0           ['conv5_block4_concat[0][0]',    \n",
            " te)                                                              'conv5_block5_2_conv[0][0]']    \n",
            "                                                                                                  \n",
            " conv5_block6_0_bn (BatchNormal  (None, 7, 7, 672)   2688        ['conv5_block5_concat[0][0]']    \n",
            " ization)                                                                                         \n",
            "                                                                                                  \n",
            " conv5_block6_0_relu (Activatio  (None, 7, 7, 672)   0           ['conv5_block6_0_bn[0][0]']      \n",
            " n)                                                                                               \n",
            "                                                                                                  \n",
            " conv5_block6_1_conv (Conv2D)   (None, 7, 7, 128)    86016       ['conv5_block6_0_relu[0][0]']    \n",
            "                                                                                                  \n",
            " conv5_block6_1_bn (BatchNormal  (None, 7, 7, 128)   512         ['conv5_block6_1_conv[0][0]']    \n",
            " ization)                                                                                         \n",
            "                                                                                                  \n",
            " conv5_block6_1_relu (Activatio  (None, 7, 7, 128)   0           ['conv5_block6_1_bn[0][0]']      \n",
            " n)                                                                                               \n",
            "                                                                                                  \n",
            " conv5_block6_2_conv (Conv2D)   (None, 7, 7, 32)     36864       ['conv5_block6_1_relu[0][0]']    \n",
            "                                                                                                  \n",
            " conv5_block6_concat (Concatena  (None, 7, 7, 704)   0           ['conv5_block5_concat[0][0]',    \n",
            " te)                                                              'conv5_block6_2_conv[0][0]']    \n",
            "                                                                                                  \n",
            " conv5_block7_0_bn (BatchNormal  (None, 7, 7, 704)   2816        ['conv5_block6_concat[0][0]']    \n",
            " ization)                                                                                         \n",
            "                                                                                                  \n",
            " conv5_block7_0_relu (Activatio  (None, 7, 7, 704)   0           ['conv5_block7_0_bn[0][0]']      \n",
            " n)                                                                                               \n",
            "                                                                                                  \n",
            " conv5_block7_1_conv (Conv2D)   (None, 7, 7, 128)    90112       ['conv5_block7_0_relu[0][0]']    \n",
            "                                                                                                  \n",
            " conv5_block7_1_bn (BatchNormal  (None, 7, 7, 128)   512         ['conv5_block7_1_conv[0][0]']    \n",
            " ization)                                                                                         \n",
            "                                                                                                  \n",
            " conv5_block7_1_relu (Activatio  (None, 7, 7, 128)   0           ['conv5_block7_1_bn[0][0]']      \n",
            " n)                                                                                               \n",
            "                                                                                                  \n",
            " conv5_block7_2_conv (Conv2D)   (None, 7, 7, 32)     36864       ['conv5_block7_1_relu[0][0]']    \n",
            "                                                                                                  \n",
            " conv5_block7_concat (Concatena  (None, 7, 7, 736)   0           ['conv5_block6_concat[0][0]',    \n",
            " te)                                                              'conv5_block7_2_conv[0][0]']    \n",
            "                                                                                                  \n",
            " conv5_block8_0_bn (BatchNormal  (None, 7, 7, 736)   2944        ['conv5_block7_concat[0][0]']    \n",
            " ization)                                                                                         \n",
            "                                                                                                  \n",
            " conv5_block8_0_relu (Activatio  (None, 7, 7, 736)   0           ['conv5_block8_0_bn[0][0]']      \n",
            " n)                                                                                               \n",
            "                                                                                                  \n",
            " conv5_block8_1_conv (Conv2D)   (None, 7, 7, 128)    94208       ['conv5_block8_0_relu[0][0]']    \n",
            "                                                                                                  \n",
            " conv5_block8_1_bn (BatchNormal  (None, 7, 7, 128)   512         ['conv5_block8_1_conv[0][0]']    \n",
            " ization)                                                                                         \n",
            "                                                                                                  \n",
            " conv5_block8_1_relu (Activatio  (None, 7, 7, 128)   0           ['conv5_block8_1_bn[0][0]']      \n",
            " n)                                                                                               \n",
            "                                                                                                  \n",
            " conv5_block8_2_conv (Conv2D)   (None, 7, 7, 32)     36864       ['conv5_block8_1_relu[0][0]']    \n",
            "                                                                                                  \n",
            " conv5_block8_concat (Concatena  (None, 7, 7, 768)   0           ['conv5_block7_concat[0][0]',    \n",
            " te)                                                              'conv5_block8_2_conv[0][0]']    \n",
            "                                                                                                  \n",
            " conv5_block9_0_bn (BatchNormal  (None, 7, 7, 768)   3072        ['conv5_block8_concat[0][0]']    \n",
            " ization)                                                                                         \n",
            "                                                                                                  \n",
            " conv5_block9_0_relu (Activatio  (None, 7, 7, 768)   0           ['conv5_block9_0_bn[0][0]']      \n",
            " n)                                                                                               \n",
            "                                                                                                  \n",
            " conv5_block9_1_conv (Conv2D)   (None, 7, 7, 128)    98304       ['conv5_block9_0_relu[0][0]']    \n",
            "                                                                                                  \n",
            " conv5_block9_1_bn (BatchNormal  (None, 7, 7, 128)   512         ['conv5_block9_1_conv[0][0]']    \n",
            " ization)                                                                                         \n",
            "                                                                                                  \n",
            " conv5_block9_1_relu (Activatio  (None, 7, 7, 128)   0           ['conv5_block9_1_bn[0][0]']      \n",
            " n)                                                                                               \n",
            "                                                                                                  \n",
            " conv5_block9_2_conv (Conv2D)   (None, 7, 7, 32)     36864       ['conv5_block9_1_relu[0][0]']    \n",
            "                                                                                                  \n",
            " conv5_block9_concat (Concatena  (None, 7, 7, 800)   0           ['conv5_block8_concat[0][0]',    \n",
            " te)                                                              'conv5_block9_2_conv[0][0]']    \n",
            "                                                                                                  \n",
            " conv5_block10_0_bn (BatchNorma  (None, 7, 7, 800)   3200        ['conv5_block9_concat[0][0]']    \n",
            " lization)                                                                                        \n",
            "                                                                                                  \n",
            " conv5_block10_0_relu (Activati  (None, 7, 7, 800)   0           ['conv5_block10_0_bn[0][0]']     \n",
            " on)                                                                                              \n",
            "                                                                                                  \n",
            " conv5_block10_1_conv (Conv2D)  (None, 7, 7, 128)    102400      ['conv5_block10_0_relu[0][0]']   \n",
            "                                                                                                  \n",
            " conv5_block10_1_bn (BatchNorma  (None, 7, 7, 128)   512         ['conv5_block10_1_conv[0][0]']   \n",
            " lization)                                                                                        \n",
            "                                                                                                  \n",
            " conv5_block10_1_relu (Activati  (None, 7, 7, 128)   0           ['conv5_block10_1_bn[0][0]']     \n",
            " on)                                                                                              \n",
            "                                                                                                  \n",
            " conv5_block10_2_conv (Conv2D)  (None, 7, 7, 32)     36864       ['conv5_block10_1_relu[0][0]']   \n",
            "                                                                                                  \n",
            " conv5_block10_concat (Concaten  (None, 7, 7, 832)   0           ['conv5_block9_concat[0][0]',    \n",
            " ate)                                                             'conv5_block10_2_conv[0][0]']   \n",
            "                                                                                                  \n",
            " conv5_block11_0_bn (BatchNorma  (None, 7, 7, 832)   3328        ['conv5_block10_concat[0][0]']   \n",
            " lization)                                                                                        \n",
            "                                                                                                  \n",
            " conv5_block11_0_relu (Activati  (None, 7, 7, 832)   0           ['conv5_block11_0_bn[0][0]']     \n",
            " on)                                                                                              \n",
            "                                                                                                  \n",
            " conv5_block11_1_conv (Conv2D)  (None, 7, 7, 128)    106496      ['conv5_block11_0_relu[0][0]']   \n",
            "                                                                                                  \n",
            " conv5_block11_1_bn (BatchNorma  (None, 7, 7, 128)   512         ['conv5_block11_1_conv[0][0]']   \n",
            " lization)                                                                                        \n",
            "                                                                                                  \n",
            " conv5_block11_1_relu (Activati  (None, 7, 7, 128)   0           ['conv5_block11_1_bn[0][0]']     \n",
            " on)                                                                                              \n",
            "                                                                                                  \n",
            " conv5_block11_2_conv (Conv2D)  (None, 7, 7, 32)     36864       ['conv5_block11_1_relu[0][0]']   \n",
            "                                                                                                  \n",
            " conv5_block11_concat (Concaten  (None, 7, 7, 864)   0           ['conv5_block10_concat[0][0]',   \n",
            " ate)                                                             'conv5_block11_2_conv[0][0]']   \n",
            "                                                                                                  \n",
            " conv5_block12_0_bn (BatchNorma  (None, 7, 7, 864)   3456        ['conv5_block11_concat[0][0]']   \n",
            " lization)                                                                                        \n",
            "                                                                                                  \n",
            " conv5_block12_0_relu (Activati  (None, 7, 7, 864)   0           ['conv5_block12_0_bn[0][0]']     \n",
            " on)                                                                                              \n",
            "                                                                                                  \n",
            " conv5_block12_1_conv (Conv2D)  (None, 7, 7, 128)    110592      ['conv5_block12_0_relu[0][0]']   \n",
            "                                                                                                  \n",
            " conv5_block12_1_bn (BatchNorma  (None, 7, 7, 128)   512         ['conv5_block12_1_conv[0][0]']   \n",
            " lization)                                                                                        \n",
            "                                                                                                  \n",
            " conv5_block12_1_relu (Activati  (None, 7, 7, 128)   0           ['conv5_block12_1_bn[0][0]']     \n",
            " on)                                                                                              \n",
            "                                                                                                  \n",
            " conv5_block12_2_conv (Conv2D)  (None, 7, 7, 32)     36864       ['conv5_block12_1_relu[0][0]']   \n",
            "                                                                                                  \n",
            " conv5_block12_concat (Concaten  (None, 7, 7, 896)   0           ['conv5_block11_concat[0][0]',   \n",
            " ate)                                                             'conv5_block12_2_conv[0][0]']   \n",
            "                                                                                                  \n",
            " conv5_block13_0_bn (BatchNorma  (None, 7, 7, 896)   3584        ['conv5_block12_concat[0][0]']   \n",
            " lization)                                                                                        \n",
            "                                                                                                  \n",
            " conv5_block13_0_relu (Activati  (None, 7, 7, 896)   0           ['conv5_block13_0_bn[0][0]']     \n",
            " on)                                                                                              \n",
            "                                                                                                  \n",
            " conv5_block13_1_conv (Conv2D)  (None, 7, 7, 128)    114688      ['conv5_block13_0_relu[0][0]']   \n",
            "                                                                                                  \n",
            " conv5_block13_1_bn (BatchNorma  (None, 7, 7, 128)   512         ['conv5_block13_1_conv[0][0]']   \n",
            " lization)                                                                                        \n",
            "                                                                                                  \n",
            " conv5_block13_1_relu (Activati  (None, 7, 7, 128)   0           ['conv5_block13_1_bn[0][0]']     \n",
            " on)                                                                                              \n",
            "                                                                                                  \n",
            " conv5_block13_2_conv (Conv2D)  (None, 7, 7, 32)     36864       ['conv5_block13_1_relu[0][0]']   \n",
            "                                                                                                  \n",
            " conv5_block13_concat (Concaten  (None, 7, 7, 928)   0           ['conv5_block12_concat[0][0]',   \n",
            " ate)                                                             'conv5_block13_2_conv[0][0]']   \n",
            "                                                                                                  \n",
            " conv5_block14_0_bn (BatchNorma  (None, 7, 7, 928)   3712        ['conv5_block13_concat[0][0]']   \n",
            " lization)                                                                                        \n",
            "                                                                                                  \n",
            " conv5_block14_0_relu (Activati  (None, 7, 7, 928)   0           ['conv5_block14_0_bn[0][0]']     \n",
            " on)                                                                                              \n",
            "                                                                                                  \n",
            " conv5_block14_1_conv (Conv2D)  (None, 7, 7, 128)    118784      ['conv5_block14_0_relu[0][0]']   \n",
            "                                                                                                  \n",
            " conv5_block14_1_bn (BatchNorma  (None, 7, 7, 128)   512         ['conv5_block14_1_conv[0][0]']   \n",
            " lization)                                                                                        \n",
            "                                                                                                  \n",
            " conv5_block14_1_relu (Activati  (None, 7, 7, 128)   0           ['conv5_block14_1_bn[0][0]']     \n",
            " on)                                                                                              \n",
            "                                                                                                  \n",
            " conv5_block14_2_conv (Conv2D)  (None, 7, 7, 32)     36864       ['conv5_block14_1_relu[0][0]']   \n",
            "                                                                                                  \n",
            " conv5_block14_concat (Concaten  (None, 7, 7, 960)   0           ['conv5_block13_concat[0][0]',   \n",
            " ate)                                                             'conv5_block14_2_conv[0][0]']   \n",
            "                                                                                                  \n",
            " conv5_block15_0_bn (BatchNorma  (None, 7, 7, 960)   3840        ['conv5_block14_concat[0][0]']   \n",
            " lization)                                                                                        \n",
            "                                                                                                  \n",
            " conv5_block15_0_relu (Activati  (None, 7, 7, 960)   0           ['conv5_block15_0_bn[0][0]']     \n",
            " on)                                                                                              \n",
            "                                                                                                  \n",
            " conv5_block15_1_conv (Conv2D)  (None, 7, 7, 128)    122880      ['conv5_block15_0_relu[0][0]']   \n",
            "                                                                                                  \n",
            " conv5_block15_1_bn (BatchNorma  (None, 7, 7, 128)   512         ['conv5_block15_1_conv[0][0]']   \n",
            " lization)                                                                                        \n",
            "                                                                                                  \n",
            " conv5_block15_1_relu (Activati  (None, 7, 7, 128)   0           ['conv5_block15_1_bn[0][0]']     \n",
            " on)                                                                                              \n",
            "                                                                                                  \n",
            " conv5_block15_2_conv (Conv2D)  (None, 7, 7, 32)     36864       ['conv5_block15_1_relu[0][0]']   \n",
            "                                                                                                  \n",
            " conv5_block15_concat (Concaten  (None, 7, 7, 992)   0           ['conv5_block14_concat[0][0]',   \n",
            " ate)                                                             'conv5_block15_2_conv[0][0]']   \n",
            "                                                                                                  \n",
            " conv5_block16_0_bn (BatchNorma  (None, 7, 7, 992)   3968        ['conv5_block15_concat[0][0]']   \n",
            " lization)                                                                                        \n",
            "                                                                                                  \n",
            " conv5_block16_0_relu (Activati  (None, 7, 7, 992)   0           ['conv5_block16_0_bn[0][0]']     \n",
            " on)                                                                                              \n",
            "                                                                                                  \n",
            " conv5_block16_1_conv (Conv2D)  (None, 7, 7, 128)    126976      ['conv5_block16_0_relu[0][0]']   \n",
            "                                                                                                  \n",
            " conv5_block16_1_bn (BatchNorma  (None, 7, 7, 128)   512         ['conv5_block16_1_conv[0][0]']   \n",
            " lization)                                                                                        \n",
            "                                                                                                  \n",
            " conv5_block16_1_relu (Activati  (None, 7, 7, 128)   0           ['conv5_block16_1_bn[0][0]']     \n",
            " on)                                                                                              \n",
            "                                                                                                  \n",
            " conv5_block16_2_conv (Conv2D)  (None, 7, 7, 32)     36864       ['conv5_block16_1_relu[0][0]']   \n",
            "                                                                                                  \n",
            " conv5_block16_concat (Concaten  (None, 7, 7, 1024)  0           ['conv5_block15_concat[0][0]',   \n",
            " ate)                                                             'conv5_block16_2_conv[0][0]']   \n",
            "                                                                                                  \n",
            " bn (BatchNormalization)        (None, 7, 7, 1024)   4096        ['conv5_block16_concat[0][0]']   \n",
            "                                                                                                  \n",
            " relu (Activation)              (None, 7, 7, 1024)   0           ['bn[0][0]']                     \n",
            "                                                                                                  \n",
            "==================================================================================================\n",
            "Total params: 7,037,504\n",
            "Trainable params: 0\n",
            "Non-trainable params: 7,037,504\n",
            "__________________________________________________________________________________________________\n"
          ]
        }
      ]
    },
    {
      "cell_type": "code",
      "source": [
        "#Compile\n",
        "\n",
        "model.compile(loss='categorical_crossentropy',\n",
        "              optimizer='adam',\n",
        "              metrics=['accuracy'])"
      ],
      "metadata": {
        "id": "Otw36Rj2kFxm"
      },
      "execution_count": 240,
      "outputs": []
    },
    {
      "cell_type": "code",
      "source": [
        "# Callbacks Convergence Criteria:\n",
        "# 1. Model must be a generalized model ( testScore > trainScore )\n",
        "# 2. Model's Test Score >= CL\n",
        "# Custom Callback which satisfies the above two criteria :)\n",
        "\n",
        "class MyQualityThreshold(tf.keras.callbacks.Callback):\n",
        "  def __init__(self,cl):\n",
        "    super(MyQualityThreshold, self).__init__()\n",
        "    self.cl = cl\n",
        "  \n",
        "  def on_epoch_end(self,epoch,logs=None):\n",
        "    testScore = logs['val_accuracy']\n",
        "    trainScore = logs['accuracy']\n",
        "    #epoch=logs['']\n",
        "\n",
        "    if testScore > trainScore and testScore >= self.cl and epoch > 15:\n",
        "      self.model.stop_training=True"
      ],
      "metadata": {
        "id": "1_l_XYeQkLHR"
      },
      "execution_count": 241,
      "outputs": []
    },
    {
      "cell_type": "code",
      "source": [
        "#Fit Model \n",
        "batch_size=7\n",
        "history = model.fit(train_generator,\n",
        "                    validation_data=valid_generator,\n",
        "                    epochs=15,\n",
        "                    steps_per_epoch=len(train_generator.filenames) // batch_size,\n",
        "                    validation_steps=len(valid_generator.filenames) // batch_size,\n",
        "                    callbacks=[MyQualityThreshold(0.8)])"
      ],
      "metadata": {
        "colab": {
          "base_uri": "https://localhost:8080/"
        },
        "id": "Mm4aX28MkQ4O",
        "outputId": "ff2d6710-08fc-4be4-ac9e-064b6ebabddd"
      },
      "execution_count": null,
      "outputs": [
        {
          "output_type": "stream",
          "name": "stdout",
          "text": [
            "Epoch 1/15\n",
            "35/35 [==============================] - 63s 2s/step - loss: 2.3315 - accuracy: 0.7500 - val_loss: 0.9729 - val_accuracy: 0.8413\n",
            "Epoch 2/15\n",
            "35/35 [==============================] - 53s 2s/step - loss: 1.2703 - accuracy: 0.8525 - val_loss: 3.0937 - val_accuracy: 0.6984\n",
            "Epoch 3/15\n",
            "35/35 [==============================] - 54s 2s/step - loss: 1.6259 - accuracy: 0.8689 - val_loss: 0.7032 - val_accuracy: 0.9048\n",
            "Epoch 4/15\n",
            "35/35 [==============================] - ETA: 0s - loss: 0.5783 - accuracy: 0.9139"
          ]
        }
      ]
    },
    {
      "cell_type": "code",
      "source": [
        "import keras\n",
        "from matplotlib import pyplot as plt\n",
        "plt.plot(history.history['accuracy'])\n",
        "plt.plot(history.history['val_accuracy'])\n",
        "plt.title('model accuracy')\n",
        "plt.ylabel('accuracy')\n",
        "plt.xlabel('epoch')\n",
        "plt.legend(['train', 'val'], loc='upper left')\n",
        "plt.show()"
      ],
      "metadata": {
        "id": "j3wkzXoykWLW"
      },
      "execution_count": null,
      "outputs": []
    },
    {
      "cell_type": "code",
      "source": [
        "plt.plot(history.history['loss'])\n",
        "plt.plot(history.history['val_loss'])\n",
        "plt.title('model loss')\n",
        "plt.ylabel('loss')\n",
        "plt.xlabel('epoch')\n",
        "plt.legend(['train', 'val'], loc='upper left')\n",
        "plt.show()"
      ],
      "metadata": {
        "id": "USxbQ5mbkaTV"
      },
      "execution_count": null,
      "outputs": []
    },
    {
      "cell_type": "code",
      "source": [
        "#Saving Model\n",
        "model.save(\"LungsDetectorDenseNet\")"
      ],
      "metadata": {
        "id": "NvIN3AmhkfjW"
      },
      "execution_count": null,
      "outputs": []
    },
    {
      "cell_type": "code",
      "source": [
        "#Step1 - Load an Image\n",
        "import matplotlib.pyplot as plt\n",
        "import numpy as np\n",
        "%matplotlib inline\n",
        "\n",
        "imageToPredict = tf.keras.preprocessing.image.load_img('COVID-00012.jpg', target_size=(224, 224))\n",
        "plt.imshow(imageToPredict)"
      ],
      "metadata": {
        "id": "mO0HHcWakpRs"
      },
      "execution_count": null,
      "outputs": []
    },
    {
      "cell_type": "code",
      "source": [
        "#Step2: Convert image to np array \n",
        "myImageNPArray = tf.keras.preprocessing.image.img_to_array(imageToPredict)\n",
        "myImageNPArray.shape"
      ],
      "metadata": {
        "id": "W0sZ6mcgkvYf"
      },
      "execution_count": null,
      "outputs": []
    },
    {
      "cell_type": "code",
      "source": [
        "# Step3: Make the image compatible for the model by adding n\n",
        "myCompatibleImage = np.expand_dims(myImageNPArray, axis = 0)\n",
        "myCompatibleImage.shape"
      ],
      "metadata": {
        "id": "rK92f1ENk0BW"
      },
      "execution_count": null,
      "outputs": []
    },
    {
      "cell_type": "code",
      "source": [
        "#Step4: Prediction\n",
        "prediction = model.predict(myCompatibleImage)\n",
        "prediction"
      ],
      "metadata": {
        "id": "06YJkzvVk9gQ"
      },
      "execution_count": null,
      "outputs": []
    },
    {
      "cell_type": "code",
      "source": [
        "list(train_generator.class_indices)[np.argmax(prediction)]"
      ],
      "metadata": {
        "id": "pXpy59BnlK9p"
      },
      "execution_count": null,
      "outputs": []
    }
  ],
  "metadata": {
    "colab": {
      "collapsed_sections": [],
      "name": "CNN_Lung_infection_prediction_raj.ipynb",
      "provenance": [],
      "include_colab_link": true
    },
    "gpuClass": "standard",
    "kernelspec": {
      "display_name": "Python 3 (ipykernel)",
      "language": "python",
      "name": "python3"
    },
    "language_info": {
      "codemirror_mode": {
        "name": "ipython",
        "version": 3
      },
      "file_extension": ".py",
      "mimetype": "text/x-python",
      "name": "python",
      "nbconvert_exporter": "python",
      "pygments_lexer": "ipython3",
      "version": "3.9.12"
    }
  },
  "nbformat": 4,
  "nbformat_minor": 0
}