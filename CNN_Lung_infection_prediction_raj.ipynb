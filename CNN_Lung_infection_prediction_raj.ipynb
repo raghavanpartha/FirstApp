{
  "cells": [
    {
      "cell_type": "markdown",
      "metadata": {
        "id": "view-in-github",
        "colab_type": "text"
      },
      "source": [
        "<a href=\"https://colab.research.google.com/github/raghavanpartha/FirstApp/blob/main/CNN_Lung_infection_prediction_raj.ipynb\" target=\"_parent\"><img src=\"https://colab.research.google.com/assets/colab-badge.svg\" alt=\"Open In Colab\"/></a>"
      ]
    },
    {
      "cell_type": "code",
      "execution_count": 1,
      "metadata": {
        "id": "M8IedwFdWy0W"
      },
      "outputs": [],
      "source": [
        "# Sri"
      ]
    },
    {
      "cell_type": "markdown",
      "metadata": {
        "id": "LI6ChZWroZRi"
      },
      "source": [
        "# CNN Lung infection predieection by Srinivasa Raghavan P, Coding done for execution in Colab"
      ]
    },
    {
      "cell_type": "markdown",
      "metadata": {
        "id": "Q-4n_BmftXbE"
      },
      "source": [
        "# Create a Classification model that can predict whether the given image belongs to Healthy lung or type1 or type2 disease"
      ]
    },
    {
      "cell_type": "markdown",
      "metadata": {
        "id": "EMicU2J8oKyY"
      },
      "source": [
        "# Import packages"
      ]
    },
    {
      "cell_type": "code",
      "execution_count": 2,
      "metadata": {
        "id": "rpN_qkynn-wQ"
      },
      "outputs": [],
      "source": [
        "import tensorflow as tf\n",
        "import matplotlib.pyplot as plt\n",
        "import cv2\n",
        "import numpy as np"
      ]
    },
    {
      "cell_type": "code",
      "execution_count": 3,
      "metadata": {
        "colab": {
          "base_uri": "https://localhost:8080/"
        },
        "id": "ecJ9l4WH0SuP",
        "outputId": "ee36f511-0720-4aed-8aff-29fe1f17dae0"
      },
      "outputs": [
        {
          "output_type": "stream",
          "name": "stdout",
          "text": [
            "Looking in indexes: https://pypi.org/simple, https://us-python.pkg.dev/colab-wheels/public/simple/\n",
            "Requirement already satisfied: opencv-python in /usr/local/lib/python3.7/dist-packages (4.6.0.66)\n",
            "Requirement already satisfied: numpy>=1.14.5 in /usr/local/lib/python3.7/dist-packages (from opencv-python) (1.21.6)\n"
          ]
        }
      ],
      "source": [
        "!pip install opencv-python"
      ]
    },
    {
      "cell_type": "markdown",
      "metadata": {
        "id": "kq_CX3KdoS6E"
      },
      "source": [
        "# Import data set"
      ]
    },
    {
      "cell_type": "code",
      "execution_count": 4,
      "metadata": {
        "colab": {
          "base_uri": "https://localhost:8080/"
        },
        "id": "bf5EUKKNXevp",
        "outputId": "7aa79273-863e-499b-a8cf-731bfd115491"
      },
      "outputs": [
        {
          "output_type": "stream",
          "name": "stdout",
          "text": [
            "Archive:  data_Lungs.zip\n",
            "replace __MACOSX/._data_Lungs? [y]es, [n]o, [A]ll, [N]one, [r]ename: A\n",
            "  inflating: __MACOSX/._data_Lungs   \n",
            "  inflating: data_Lungs/.DS_Store    \n",
            "  inflating: __MACOSX/data_Lungs/._test  \n",
            "  inflating: __MACOSX/data_Lungs/._train  \n",
            "  inflating: __MACOSX/data_Lungs/test/._Type 1 disease  \n",
            "  inflating: data_Lungs/test/.DS_Store  \n",
            "  inflating: __MACOSX/data_Lungs/test/._healthy  \n",
            "  inflating: __MACOSX/data_Lungs/test/._Type 2 disease  \n",
            "  inflating: __MACOSX/data_Lungs/train/._Type 1 disease  \n",
            "  inflating: data_Lungs/train/.DS_Store  \n",
            "  inflating: __MACOSX/data_Lungs/train/._healthy  \n",
            "  inflating: __MACOSX/data_Lungs/train/._Type 2 disease  \n",
            "  inflating: data_Lungs/test/Type 1 disease/radiopaedia-2019-novel-coronavirus-infected-pneumonia.jpg  \n",
            "  inflating: data_Lungs/test/Type 1 disease/COVID-00012.jpg  \n",
            "  inflating: data_Lungs/test/Type 1 disease/0105.png  \n",
            "  inflating: data_Lungs/test/Type 1 disease/0111.jpg  \n",
            "  inflating: data_Lungs/test/Type 1 disease/0112.jpg  \n",
            "  inflating: data_Lungs/test/Type 1 disease/0113.jpg  \n",
            "  inflating: data_Lungs/test/Type 1 disease/auntminnie-a-2020_01_28_23_51_6665_2020_01_28_Vietnam_coronavirus.jpeg  \n",
            "  inflating: data_Lungs/test/Type 1 disease/098.jpeg  \n",
            "  inflating: data_Lungs/test/Type 1 disease/0106.jpeg  \n",
            "  inflating: data_Lungs/test/Type 1 disease/auntminnie-c-2020_01_28_23_51_6665_2020_01_28_Vietnam_coronavirus.jpeg  \n",
            "  inflating: data_Lungs/test/Type 1 disease/auntminnie-b-2020_01_28_23_51_6665_2020_01_28_Vietnam_coronavirus.jpeg  \n",
            "  inflating: data_Lungs/test/Type 1 disease/0100.jpeg  \n",
            "  inflating: data_Lungs/test/Type 1 disease/auntminnie-2020_01_31_20_24_2322_2020_01_31_x-ray_coronavirus_US.jpg  \n",
            "  inflating: data_Lungs/test/Type 1 disease/0119.jpeg  \n",
            "  inflating: data_Lungs/test/Type 1 disease/096.png  \n",
            "  inflating: data_Lungs/test/Type 1 disease/094.png  \n",
            "  inflating: data_Lungs/test/Type 1 disease/0115.jpeg  \n",
            "  inflating: data_Lungs/test/Type 1 disease/0102.jpeg  \n",
            "  inflating: data_Lungs/test/Type 1 disease/0118.jpeg  \n",
            "  inflating: data_Lungs/test/Type 1 disease/COVID-00033.jpg  \n",
            "  inflating: data_Lungs/test/Type 1 disease/auntminnie-d-2020_01_28_23_51_6665_2020_01_28_Vietnam_coronavirus.jpeg  \n",
            "  inflating: data_Lungs/test/Type 1 disease/0108.jpeg  \n",
            "  inflating: data_Lungs/test/Type 1 disease/COVID-00022.jpg  \n",
            "  inflating: data_Lungs/test/Type 1 disease/COVID-00003b.jpg  \n",
            "  inflating: data_Lungs/test/Type 1 disease/0120.jpg  \n",
            "  inflating: data_Lungs/test/Type 1 disease/COVID-00037.jpg  \n",
            "  inflating: data_Lungs/test/healthy/0107.jpeg  \n",
            "  inflating: data_Lungs/test/healthy/0111.jpeg  \n",
            "  inflating: data_Lungs/test/healthy/.DS_Store  \n",
            "  inflating: __MACOSX/data_Lungs/test/healthy/._.DS_Store  \n",
            "  inflating: data_Lungs/test/healthy/0110.jpeg  \n",
            "  inflating: data_Lungs/test/healthy/0106.jpeg  \n",
            "  inflating: data_Lungs/test/healthy/0121.jpeg  \n",
            "  inflating: data_Lungs/test/healthy/0101.jpeg  \n",
            "  inflating: data_Lungs/test/healthy/0117.jpeg  \n",
            "  inflating: data_Lungs/test/healthy/0116.jpeg  \n",
            "  inflating: data_Lungs/test/healthy/0120.jpeg  \n",
            "  inflating: data_Lungs/test/healthy/0119.jpeg  \n",
            "  inflating: data_Lungs/test/healthy/0115.jpeg  \n",
            "  inflating: data_Lungs/test/healthy/0103.jpeg  \n",
            "  inflating: data_Lungs/test/healthy/0102.jpeg  \n",
            "  inflating: data_Lungs/test/healthy/0114.jpeg  \n",
            "  inflating: data_Lungs/test/healthy/0118.jpeg  \n",
            "  inflating: data_Lungs/test/healthy/0122.jpeg  \n",
            "  inflating: data_Lungs/test/healthy/0105.jpeg  \n",
            "  inflating: data_Lungs/test/healthy/0109.jpeg  \n",
            "  inflating: data_Lungs/test/healthy/0108.jpeg  \n",
            "  inflating: data_Lungs/test/healthy/0112.jpeg  \n",
            "  inflating: data_Lungs/test/Type 2 disease/0107.jpeg  \n",
            "  inflating: data_Lungs/test/Type 2 disease/0111.jpeg  \n",
            "  inflating: data_Lungs/test/Type 2 disease/0110.jpeg  \n",
            "  inflating: data_Lungs/test/Type 2 disease/0106.jpeg  \n",
            "  inflating: data_Lungs/test/Type 2 disease/0101.jpeg  \n",
            "  inflating: data_Lungs/test/Type 2 disease/0117.jpeg  \n",
            "  inflating: data_Lungs/test/Type 2 disease/0116.jpeg  \n",
            "  inflating: data_Lungs/test/Type 2 disease/0120.jpeg  \n",
            "  inflating: data_Lungs/test/Type 2 disease/0119.jpeg  \n",
            "  inflating: data_Lungs/test/Type 2 disease/0115.jpeg  \n",
            "  inflating: data_Lungs/test/Type 2 disease/0103.jpeg  \n",
            "  inflating: data_Lungs/test/Type 2 disease/0102.jpeg  \n",
            "  inflating: data_Lungs/test/Type 2 disease/0114.jpeg  \n",
            "  inflating: data_Lungs/test/Type 2 disease/0118.jpeg  \n",
            "  inflating: data_Lungs/test/Type 2 disease/0113.jpeg  \n",
            "  inflating: data_Lungs/test/Type 2 disease/0105.jpeg  \n",
            "  inflating: data_Lungs/test/Type 2 disease/0109.jpeg  \n",
            "  inflating: data_Lungs/test/Type 2 disease/0108.jpeg  \n",
            "  inflating: data_Lungs/test/Type 2 disease/0104.jpeg  \n",
            "  inflating: data_Lungs/test/Type 2 disease/0112.jpeg  \n",
            "  inflating: data_Lungs/train/Type 1 disease/COVID-00006.jpg  \n",
            "  inflating: data_Lungs/train/Type 1 disease/COVID-00012.jpg  \n",
            "  inflating: data_Lungs/train/Type 1 disease/06.jpeg  \n",
            "  inflating: data_Lungs/train/Type 1 disease/060.jpeg  \n",
            "  inflating: data_Lungs/train/Type 1 disease/COVID-00007.jpg  \n",
            "  inflating: data_Lungs/train/Type 1 disease/021.jpeg  \n",
            "  inflating: data_Lungs/train/Type 1 disease/COVID-00011.jpg  \n",
            "  inflating: data_Lungs/train/Type 1 disease/COVID-00005.jpg  \n",
            "  inflating: data_Lungs/train/Type 1 disease/040.jpeg  \n",
            "  inflating: data_Lungs/train/Type 1 disease/015.jpg  \n",
            "  inflating: data_Lungs/train/Type 1 disease/083.jpeg  \n",
            "  inflating: data_Lungs/train/Type 1 disease/COVID-00038.jpg  \n",
            "  inflating: data_Lungs/train/Type 1 disease/COVID-00004.jpg  \n",
            "  inflating: data_Lungs/train/Type 1 disease/COVID-00010.jpg  \n",
            "  inflating: data_Lungs/train/Type 1 disease/COVID-00028.jpg  \n",
            "  inflating: data_Lungs/train/Type 1 disease/COVID-00014.jpg  \n",
            "  inflating: data_Lungs/train/Type 1 disease/010.png  \n",
            "  inflating: data_Lungs/train/Type 1 disease/041.jpeg  \n",
            "  inflating: data_Lungs/train/Type 1 disease/COVID-00001.jpg  \n",
            "  inflating: data_Lungs/train/Type 1 disease/COVID-00029.jpg  \n",
            "  inflating: data_Lungs/train/Type 1 disease/057.jpeg  \n",
            "  inflating: data_Lungs/train/Type 1 disease/COVID-00017.jpg  \n",
            "  inflating: data_Lungs/train/Type 1 disease/COVID-00016.jpg  \n",
            "  inflating: data_Lungs/train/Type 1 disease/COVID-00002.jpg  \n",
            "  inflating: data_Lungs/train/Type 1 disease/050.jpeg  \n",
            "  inflating: data_Lungs/train/Type 1 disease/046.jpeg  \n",
            "  inflating: data_Lungs/train/Type 1 disease/061.jpg  \n",
            "  inflating: data_Lungs/train/Type 1 disease/074.jpg  \n",
            "  inflating: data_Lungs/train/Type 1 disease/085.jpeg  \n",
            "  inflating: data_Lungs/train/Type 1 disease/089.jpg  \n",
            "  inflating: data_Lungs/train/Type 1 disease/076.jpg  \n",
            "  inflating: data_Lungs/train/Type 1 disease/031.jpeg  \n",
            "  inflating: data_Lungs/train/Type 1 disease/027.jpeg  \n",
            "  inflating: data_Lungs/train/Type 1 disease/026.jpeg  \n",
            "  inflating: data_Lungs/train/Type 1 disease/088.jpeg  \n",
            "  inflating: data_Lungs/train/Type 1 disease/067.jpg  \n",
            "  inflating: data_Lungs/train/Type 1 disease/073.jpg  \n",
            "  inflating: data_Lungs/train/Type 1 disease/01.jpeg  \n",
            "  inflating: data_Lungs/train/Type 1 disease/07.jpg  \n",
            "  inflating: data_Lungs/train/Type 1 disease/084.jpeg  \n",
            "  inflating: data_Lungs/train/Type 1 disease/064.jpg  \n",
            "  inflating: data_Lungs/train/Type 1 disease/071.jpg  \n",
            "  inflating: data_Lungs/train/Type 1 disease/047.jpeg  \n",
            "  inflating: data_Lungs/train/Type 1 disease/04.png  \n",
            "  inflating: data_Lungs/train/Type 1 disease/051.jpeg  \n",
            "  inflating: data_Lungs/train/Type 1 disease/09.png  \n",
            "  inflating: data_Lungs/train/Type 1 disease/068.jpg  \n",
            "  inflating: data_Lungs/train/Type 1 disease/069.jpg  \n",
            "  inflating: data_Lungs/train/Type 1 disease/044.jpeg  \n",
            "  inflating: data_Lungs/train/Type 1 disease/082.jpg  \n",
            "  inflating: data_Lungs/train/Type 1 disease/052.jpeg  \n",
            "  inflating: data_Lungs/train/Type 1 disease/025.jpeg  \n",
            "  inflating: data_Lungs/train/Type 1 disease/072.jpeg  \n",
            "  inflating: data_Lungs/train/Type 1 disease/080.jpg  \n",
            "  inflating: data_Lungs/train/Type 1 disease/056.jpg  \n",
            "  inflating: data_Lungs/train/Type 1 disease/048.jpeg  \n",
            "  inflating: data_Lungs/train/Type 1 disease/02.jpeg  \n",
            "  inflating: data_Lungs/train/Type 1 disease/03.jpeg  \n",
            "  inflating: data_Lungs/train/Type 1 disease/091.jpg  \n",
            "  inflating: data_Lungs/train/Type 1 disease/049.jpeg  \n",
            "  inflating: data_Lungs/train/Type 1 disease/032.jpeg  \n",
            "  inflating: data_Lungs/train/Type 1 disease/065.jpeg  \n",
            "  inflating: data_Lungs/train/Type 1 disease/COVID-00013b.jpg  \n",
            "  inflating: data_Lungs/train/Type 1 disease/024.jpeg  \n",
            "  inflating: data_Lungs/train/Type 1 disease/053.jpeg  \n",
            "  inflating: data_Lungs/train/Type 1 disease/012.jpeg  \n",
            "  inflating: data_Lungs/train/Type 1 disease/092.png  \n",
            "  inflating: data_Lungs/train/Type 1 disease/045.jpeg  \n",
            "  inflating: data_Lungs/train/Type 1 disease/086.jpg  \n",
            "  inflating: data_Lungs/train/Type 1 disease/090.jpeg  \n",
            "  inflating: data_Lungs/train/Type 1 disease/COVID-00013a.jpg  \n",
            "  inflating: data_Lungs/train/Type 1 disease/COVID-00027.jpg  \n",
            "  inflating: data_Lungs/train/Type 1 disease/COVID-00033.jpg  \n",
            "  inflating: data_Lungs/train/Type 1 disease/062.jpeg  \n",
            "  inflating: data_Lungs/train/Type 1 disease/COVID-00032.jpg  \n",
            "  inflating: data_Lungs/train/Type 1 disease/COVID-00026.jpg  \n",
            "  inflating: data_Lungs/train/Type 1 disease/058.jpeg  \n",
            "  inflating: data_Lungs/train/Type 1 disease/COVID-00030.jpg  \n",
            "  inflating: data_Lungs/train/Type 1 disease/COVID-00024.jpg  \n",
            "  inflating: data_Lungs/train/Type 1 disease/078.jpeg  \n",
            "  inflating: data_Lungs/train/Type 1 disease/COVID-00018.jpg  \n",
            "  inflating: data_Lungs/train/Type 1 disease/081.jpeg  \n",
            "  inflating: data_Lungs/train/Type 1 disease/020.jpg  \n",
            "  inflating: data_Lungs/train/Type 1 disease/039.jpeg  \n",
            "  inflating: data_Lungs/train/Type 1 disease/042.jpeg  \n",
            "  inflating: data_Lungs/train/Type 1 disease/08.jpeg  \n",
            "  inflating: data_Lungs/train/Type 1 disease/COVID-00019.jpg  \n",
            "  inflating: data_Lungs/train/Type 1 disease/COVID-00025.jpg  \n",
            "  inflating: data_Lungs/train/Type 1 disease/COVID-00031.jpg  \n",
            "  inflating: data_Lungs/train/Type 1 disease/054.jpeg  \n",
            "  inflating: data_Lungs/train/Type 1 disease/055.jpeg  \n",
            "  inflating: data_Lungs/train/Type 1 disease/COVID-00009.jpg  \n",
            "  inflating: data_Lungs/train/Type 1 disease/COVID-00035.jpg  \n",
            "  inflating: data_Lungs/train/Type 1 disease/COVID-00021.jpg  \n",
            "  inflating: data_Lungs/train/Type 1 disease/019.png  \n",
            "  inflating: data_Lungs/train/Type 1 disease/043.jpeg  \n",
            "  inflating: data_Lungs/train/Type 1 disease/COVID-00003a.jpg  \n",
            "  inflating: data_Lungs/train/Type 1 disease/COVID-00020.jpg  \n",
            "  inflating: data_Lungs/train/Type 1 disease/COVID-00034.jpg  \n",
            "  inflating: data_Lungs/train/Type 1 disease/079.jpeg  \n",
            "  inflating: data_Lungs/train/Type 1 disease/COVID-00008.jpg  \n",
            "  inflating: data_Lungs/train/Type 1 disease/COVID-00015a.png  \n",
            "  inflating: data_Lungs/train/Type 1 disease/059.jpeg  \n",
            "  inflating: data_Lungs/train/Type 1 disease/COVID-00022.jpg  \n",
            "  inflating: data_Lungs/train/Type 1 disease/COVID-00036.jpg  \n",
            "  inflating: data_Lungs/train/Type 1 disease/COVID-00003b.jpg  \n",
            "  inflating: data_Lungs/train/Type 1 disease/033.png  \n",
            "  inflating: data_Lungs/train/Type 1 disease/COVID-00037.jpg  \n",
            "  inflating: data_Lungs/train/Type 1 disease/COVID-00023.jpg  \n",
            "  inflating: data_Lungs/train/Type 1 disease/COVID-00015b.png  \n",
            "  inflating: data_Lungs/train/Type 1 disease/022.jpeg  \n",
            "  inflating: data_Lungs/train/healthy/06.jpeg  \n",
            "  inflating: data_Lungs/train/healthy/060.jpeg  \n",
            "  inflating: data_Lungs/train/healthy/076.jpeg  \n",
            "  inflating: data_Lungs/train/healthy/021.jpeg  \n",
            "  inflating: data_Lungs/train/healthy/056.jpeg  \n",
            "  inflating: data_Lungs/train/healthy/017.jpeg  \n",
            "  inflating: data_Lungs/train/healthy/083.jpeg  \n",
            "  inflating: data_Lungs/train/healthy/095.jpeg  \n",
            "  inflating: data_Lungs/train/healthy/094.jpeg  \n",
            "  inflating: data_Lungs/train/healthy/082.jpeg  \n",
            "  inflating: data_Lungs/train/healthy/016.jpeg  \n",
            "  inflating: data_Lungs/train/healthy/057.jpeg  \n",
            "  inflating: data_Lungs/train/healthy/020.jpeg  \n",
            "  inflating: data_Lungs/train/healthy/077.jpeg  \n",
            "  inflating: data_Lungs/train/healthy/061.jpeg  \n",
            "  inflating: data_Lungs/train/healthy/07.jpeg  \n",
            "  inflating: data_Lungs/train/healthy/050.jpeg  \n",
            "  inflating: data_Lungs/train/healthy/011.jpeg  \n",
            "  inflating: data_Lungs/train/healthy/085.jpeg  \n",
            "  inflating: data_Lungs/train/healthy/093.jpeg  \n",
            "  inflating: data_Lungs/train/healthy/066.jpeg  \n",
            "  inflating: data_Lungs/train/healthy/070.jpeg  \n",
            "  inflating: data_Lungs/train/healthy/071.jpeg  \n",
            "  inflating: data_Lungs/train/healthy/067.jpeg  \n",
            "  inflating: data_Lungs/train/healthy/088.jpeg  \n",
            "  inflating: data_Lungs/train/healthy/01.jpeg  \n",
            "  inflating: data_Lungs/train/healthy/092.jpeg  \n",
            "  inflating: data_Lungs/train/healthy/084.jpeg  \n",
            "  inflating: data_Lungs/train/healthy/010.jpeg  \n",
            "  inflating: data_Lungs/train/healthy/051.jpeg  \n",
            "  inflating: data_Lungs/train/healthy/091.jpeg  \n",
            "  inflating: data_Lungs/train/healthy/087.jpeg  \n",
            "  inflating: data_Lungs/train/healthy/068.jpeg  \n",
            "  inflating: data_Lungs/train/healthy/013.jpeg  \n",
            "  inflating: data_Lungs/train/healthy/052.jpeg  \n",
            "  inflating: data_Lungs/train/healthy/025.jpeg  \n",
            "  inflating: data_Lungs/train/healthy/072.jpeg  \n",
            "  inflating: data_Lungs/train/healthy/064.jpeg  \n",
            "  inflating: data_Lungs/train/healthy/02.jpeg  \n",
            "  inflating: data_Lungs/train/healthy/03.jpeg  \n",
            "  inflating: data_Lungs/train/healthy/065.jpeg  \n",
            "  inflating: data_Lungs/train/healthy/073.jpeg  \n",
            "  inflating: data_Lungs/train/healthy/024.jpeg  \n",
            "  inflating: data_Lungs/train/healthy/053.jpeg  \n",
            "  inflating: data_Lungs/train/healthy/012.jpeg  \n",
            "  inflating: data_Lungs/train/healthy/086.jpeg  \n",
            "  inflating: data_Lungs/train/healthy/069.jpeg  \n",
            "  inflating: data_Lungs/train/healthy/023.jpeg  \n",
            "  inflating: data_Lungs/train/healthy/074.jpeg  \n",
            "  inflating: data_Lungs/train/healthy/062.jpeg  \n",
            "  inflating: data_Lungs/train/healthy/019.jpeg  \n",
            "  inflating: data_Lungs/train/healthy/04.jpeg  \n",
            "  inflating: data_Lungs/train/healthy/058.jpeg  \n",
            "  inflating: data_Lungs/train/healthy/097.jpeg  \n",
            "  inflating: data_Lungs/train/healthy/081.jpeg  \n",
            "  inflating: data_Lungs/train/healthy/015.jpeg  \n",
            "  inflating: data_Lungs/train/healthy/08.jpeg  \n",
            "  inflating: data_Lungs/train/healthy/054.jpeg  \n",
            "  inflating: data_Lungs/train/healthy/055.jpeg  \n",
            "  inflating: data_Lungs/train/healthy/014.jpeg  \n",
            "  inflating: data_Lungs/train/healthy/09.jpeg  \n",
            "  inflating: data_Lungs/train/healthy/080.jpeg  \n",
            "  inflating: data_Lungs/train/healthy/096.jpeg  \n",
            "  inflating: data_Lungs/train/healthy/079.jpeg  \n",
            "  inflating: data_Lungs/train/healthy/059.jpeg  \n",
            "  inflating: data_Lungs/train/healthy/018.jpeg  \n",
            "  inflating: data_Lungs/train/healthy/05.jpeg  \n",
            "  inflating: data_Lungs/train/healthy/063.jpeg  \n",
            "  inflating: data_Lungs/train/healthy/075.jpeg  \n",
            "  inflating: data_Lungs/train/healthy/022.jpeg  \n",
            "  inflating: data_Lungs/train/Type 2 disease/06.jpeg  \n",
            "  inflating: data_Lungs/train/Type 2 disease/037.jpeg  \n",
            "  inflating: data_Lungs/train/Type 2 disease/076.jpeg  \n",
            "  inflating: data_Lungs/train/Type 2 disease/021.jpeg  \n",
            "  inflating: data_Lungs/train/Type 2 disease/056.jpeg  \n",
            "  inflating: data_Lungs/train/Type 2 disease/083.jpeg  \n",
            "  inflating: data_Lungs/train/Type 2 disease/095.jpeg  \n",
            "  inflating: data_Lungs/train/Type 2 disease/094.jpeg  \n",
            "  inflating: data_Lungs/train/Type 2 disease/082.jpeg  \n",
            "  inflating: data_Lungs/train/Type 2 disease/041.jpeg  \n",
            "  inflating: data_Lungs/train/Type 2 disease/016.jpeg  \n",
            "  inflating: data_Lungs/train/Type 2 disease/057.jpeg  \n",
            "  inflating: data_Lungs/train/Type 2 disease/020.jpeg  \n",
            "  inflating: data_Lungs/train/Type 2 disease/077.jpeg  \n",
            "  inflating: data_Lungs/train/Type 2 disease/061.jpeg  \n",
            "  inflating: data_Lungs/train/Type 2 disease/036.jpeg  \n",
            "  inflating: data_Lungs/train/Type 2 disease/07.jpeg  \n",
            "  inflating: data_Lungs/train/Type 2 disease/011.jpeg  \n",
            "  inflating: data_Lungs/train/Type 2 disease/046.jpeg  \n",
            "  inflating: data_Lungs/train/Type 2 disease/031.jpeg  \n",
            "  inflating: data_Lungs/train/Type 2 disease/066.jpeg  \n",
            "  inflating: data_Lungs/train/Type 2 disease/027.jpeg  \n",
            "  inflating: data_Lungs/train/Type 2 disease/071.jpeg  \n",
            "  inflating: data_Lungs/train/Type 2 disease/067.jpeg  \n",
            "  inflating: data_Lungs/train/Type 2 disease/01.jpeg  \n",
            "  inflating: data_Lungs/train/Type 2 disease/084.jpeg  \n",
            "  inflating: data_Lungs/train/Type 2 disease/047.jpeg  \n",
            "  inflating: data_Lungs/train/Type 2 disease/010.jpeg  \n",
            "  inflating: data_Lungs/train/Type 2 disease/051.jpeg  \n",
            "  inflating: data_Lungs/train/Type 2 disease/068.jpeg  \n",
            "  inflating: data_Lungs/train/Type 2 disease/044.jpeg  \n",
            "  inflating: data_Lungs/train/Type 2 disease/013.jpeg  \n",
            "  inflating: data_Lungs/train/Type 2 disease/052.jpeg  \n",
            "  inflating: data_Lungs/train/Type 2 disease/025.jpeg  \n",
            "  inflating: data_Lungs/train/Type 2 disease/072.jpeg  \n",
            "  inflating: data_Lungs/train/Type 2 disease/064.jpeg  \n",
            "  inflating: data_Lungs/train/Type 2 disease/033.jpeg  \n",
            "  inflating: data_Lungs/train/Type 2 disease/048.jpeg  \n",
            "  inflating: data_Lungs/train/Type 2 disease/02.jpeg  \n",
            "  inflating: data_Lungs/train/Type 2 disease/03.jpeg  \n",
            "  inflating: data_Lungs/train/Type 2 disease/032.jpeg  \n",
            "  inflating: data_Lungs/train/Type 2 disease/065.jpeg  \n",
            "  inflating: data_Lungs/train/Type 2 disease/073.jpeg  \n",
            "  inflating: data_Lungs/train/Type 2 disease/024.jpeg  \n",
            "  inflating: data_Lungs/train/Type 2 disease/053.jpeg  \n",
            "  inflating: data_Lungs/train/Type 2 disease/012.jpeg  \n",
            "  inflating: data_Lungs/train/Type 2 disease/045.jpeg  \n",
            "  inflating: data_Lungs/train/Type 2 disease/023.jpeg  \n",
            "  inflating: data_Lungs/train/Type 2 disease/074.jpeg  \n",
            "  inflating: data_Lungs/train/Type 2 disease/062.jpeg  \n",
            "  inflating: data_Lungs/train/Type 2 disease/035.jpeg  \n",
            "  inflating: data_Lungs/train/Type 2 disease/019.jpeg  \n",
            "  inflating: data_Lungs/train/Type 2 disease/04.jpeg  \n",
            "  inflating: data_Lungs/train/Type 2 disease/058.jpeg  \n",
            "  inflating: data_Lungs/train/Type 2 disease/078.jpeg  \n",
            "  inflating: data_Lungs/train/Type 2 disease/081.jpeg  \n",
            "  inflating: data_Lungs/train/Type 2 disease/042.jpeg  \n",
            "  inflating: data_Lungs/train/Type 2 disease/08.jpeg  \n",
            "  inflating: data_Lungs/train/Type 2 disease/054.jpeg  \n",
            "  inflating: data_Lungs/train/Type 2 disease/055.jpeg  \n",
            "  inflating: data_Lungs/train/Type 2 disease/09.jpeg  \n",
            "  inflating: data_Lungs/train/Type 2 disease/043.jpeg  \n",
            "  inflating: data_Lungs/train/Type 2 disease/038.jpeg  \n",
            "  inflating: data_Lungs/train/Type 2 disease/096.jpeg  \n",
            "  inflating: data_Lungs/train/Type 2 disease/018.jpeg  \n",
            "  inflating: data_Lungs/train/Type 2 disease/05.jpeg  \n",
            "  inflating: data_Lungs/train/Type 2 disease/034.jpeg  \n",
            "  inflating: data_Lungs/train/Type 2 disease/063.jpeg  \n",
            "  inflating: data_Lungs/train/Type 2 disease/075.jpeg  \n",
            "  inflating: data_Lungs/train/Type 2 disease/022.jpeg  \n"
          ]
        }
      ],
      "source": [
        "# Extracting the data\n",
        "! unzip data_Lungs.zip"
      ]
    },
    {
      "cell_type": "code",
      "execution_count": 5,
      "metadata": {
        "colab": {
          "base_uri": "https://localhost:8080/",
          "height": 303
        },
        "id": "tDal3FjefcQB",
        "outputId": "9704950b-2a31-4170-a081-eedb8ce0c5b3"
      },
      "outputs": [
        {
          "output_type": "stream",
          "name": "stdout",
          "text": [
            "Image sample of Type1 disease lung\n",
            "\n"
          ]
        },
        {
          "output_type": "display_data",
          "data": {
            "text/plain": [
              "<Figure size 432x288 with 4 Axes>"
            ],
            "image/png": "[encoded data removed]"
          },
          "metadata": {
            "needs_background": "light"
          }
        }
      ],
      "source": [
        "img = cv2.imread('data_Lungs/train/Type 1 disease/COVID-00013b.jpg',0)\n",
        "# create a mask\n",
        "mask = np.zeros(img.shape[:2], np.uint8)\n",
        "mask[100:1300, 100:900] = 255\n",
        "masked_img = cv2.bitwise_and(img,img,mask = mask)\n",
        "# Calculate histogram with mask and without mask\n",
        "# Check third argument for mask\n",
        "hist_full = cv2.calcHist([img],[0],None,[256],[0,256])\n",
        "hist_mask = cv2.calcHist([img],[0],mask,[256],[0,256])\n",
        "print(\"Image sample of Type1 disease lung\\n\")\n",
        "plt.subplot(221), plt.imshow(img, 'gray')\n",
        "plt.subplot(222), plt.imshow(mask,'gray')\n",
        "plt.subplot(223), plt.imshow(masked_img, 'gray')\n",
        "plt.subplot(224), plt.plot(hist_full), plt.plot(hist_mask)\n",
        "plt.xlim([0,256])\n",
        "plt.show()\n"
      ]
    },
    {
      "cell_type": "code",
      "execution_count": 6,
      "metadata": {
        "colab": {
          "base_uri": "https://localhost:8080/",
          "height": 303
        },
        "id": "mAeBAYAyNBQg",
        "outputId": "7a929c13-7bb3-4a97-cf16-2620c0311f1a"
      },
      "outputs": [
        {
          "output_type": "stream",
          "name": "stdout",
          "text": [
            "Image sample of Type2 disease lung\n",
            "\n"
          ]
        },
        {
          "output_type": "display_data",
          "data": {
            "text/plain": [
              "<Figure size 432x288 with 4 Axes>"
            ],
            "image/png": "[encoded data removed]"
          },
          "metadata": {
            "needs_background": "light"
          }
        }
      ],
      "source": [
        "img = cv2.imread('data_Lungs/train/Type 2 disease/084.jpeg',0)\n",
        "# create a mask\n",
        "mask = np.zeros(img.shape[:2], np.uint8)\n",
        "mask[100:750, 100:500] = 255\n",
        "masked_img = cv2.bitwise_and(img,img,mask = mask)\n",
        "# Calculate histogram with mask and without mask\n",
        "# Check third argument for mask\n",
        "hist_full = cv2.calcHist([img],[0],None,[256],[0,256])\n",
        "hist_mask = cv2.calcHist([img],[0],mask,[256],[0,256])\n",
        "print(\"Image sample of Type2 disease lung\\n\")\n",
        "plt.subplot(221), plt.imshow(img, 'gray')\n",
        "plt.subplot(222), plt.imshow(mask,'gray')\n",
        "plt.subplot(223), plt.imshow(masked_img, 'gray')\n",
        "plt.subplot(224), plt.plot(hist_full), plt.plot(hist_mask)\n",
        "plt.xlim([0,256])\n",
        "plt.show()"
      ]
    },
    {
      "cell_type": "code",
      "execution_count": 7,
      "metadata": {
        "colab": {
          "base_uri": "https://localhost:8080/",
          "height": 303
        },
        "id": "8IVZkAcOe_h1",
        "outputId": "102a1b72-6f62-4a00-95cb-1d35bc160021"
      },
      "outputs": [
        {
          "output_type": "stream",
          "name": "stdout",
          "text": [
            "Image sample of Healthy lung\n",
            "\n"
          ]
        },
        {
          "output_type": "display_data",
          "data": {
            "text/plain": [
              "<Figure size 432x288 with 4 Axes>"
            ],
            "image/png": "[encoded data removed]"
          },
          "metadata": {
            "needs_background": "light"
          }
        }
      ],
      "source": [
        "img = cv2.imread('data_Lungs/test/healthy/0114.jpeg',0)\n",
        "# create a mask\n",
        "mask = np.zeros(img.shape[:2], np.uint8)\n",
        "mask[100:1250, 100:750] = 255\n",
        "masked_img = cv2.bitwise_and(img,img,mask = mask)\n",
        "# Calculate histogram with mask and without mask\n",
        "# Check third argument for mask\n",
        "hist_full = cv2.calcHist([img],[0],None,[256],[0,256])\n",
        "hist_mask = cv2.calcHist([img],[0],mask,[256],[0,256])\n",
        "print(\"Image sample of Healthy lung\\n\")\n",
        "plt.subplot(221), plt.imshow(img, 'gray')\n",
        "plt.subplot(222), plt.imshow(mask,'gray')\n",
        "plt.subplot(223), plt.imshow(masked_img, 'gray')\n",
        "plt.subplot(224), plt.plot(hist_full), plt.plot(hist_mask)\n",
        "plt.xlim([0,256])\n",
        "plt.show()"
      ]
    },
    {
      "cell_type": "code",
      "execution_count": 8,
      "metadata": {
        "colab": {
          "base_uri": "https://localhost:8080/",
          "height": 761
        },
        "id": "1OR00bemcd2Y",
        "outputId": "9045dfcb-52d4-4f48-9d41-7cb77730bef5"
      },
      "outputs": [
        {
          "output_type": "display_data",
          "data": {
            "text/plain": [
              "<Figure size 432x288 with 1 Axes>"
            ],
            "image/png": "[encoded data removed]"
          },
          "metadata": {
            "needs_background": "light"
          }
        },
        {
          "output_type": "display_data",
          "data": {
            "text/plain": [
              "<Figure size 432x288 with 1 Axes>"
            ],
            "image/png": "[encoded data removed]"
          },
          "metadata": {
            "needs_background": "light"
          }
        },
        {
          "output_type": "display_data",
          "data": {
            "text/plain": [
              "<Figure size 432x288 with 1 Axes>"
            ],
            "image/png": "[encoded data removed]"
          },
          "metadata": {
            "needs_background": "light"
          }
        }
      ],
      "source": [
        "img_covid = cv2.imread('data_Lungs/test/healthy/0114.jpeg')\n",
        "#img_covid = cv2.imread('donald_duck.jpeg')\n",
        "#plt.hist(img_covid.ravel(),256,[0,256]); plt.show()\n",
        "\n",
        "color = ('b','g','r')\n",
        "for i,col in enumerate(color):\n",
        "    histr = cv2.calcHist([img_covid],[i],None,[256],[0,256])\n",
        "    plt.plot(histr,color = col)\n",
        "    plt.xlim([0,256])\n",
        "plt.show()\n",
        "color = ('r','b','g')\n",
        "for i,col in enumerate(color):\n",
        "    histr = cv2.calcHist([img_covid],[i],None,[256],[0,256])\n",
        "    plt.plot(histr,color = col)\n",
        "    plt.xlim([0,256])\n",
        "plt.show()\n",
        "color = ('g','r','b')\n",
        "for i,col in enumerate(color):\n",
        "    histr = cv2.calcHist([img_covid],[i],None,[256],[0,256])\n",
        "    plt.plot(histr,color = col)\n",
        "    plt.xlim([0,256])\n",
        "plt.show()"
      ]
    },
    {
      "cell_type": "markdown",
      "metadata": {
        "id": "xs2CoHiVTaCd"
      },
      "source": [
        "**Inference:** The data here shows that though the images are used as RGB (shape: 48,48,3), the images are just monochrome since the histogram of r,g,b are all the same, since the 3x colors just coincide with each other. Similar study was done for many images, one of the sample/reference is shown above. With this observation, data study will be done just w/ RGB instead of w/ grayscale"
      ]
    },
    {
      "cell_type": "code",
      "execution_count": 9,
      "metadata": {
        "id": "oCJL4oiCXe2G"
      },
      "outputs": [],
      "source": [
        "#tf.keras.preprocessing.image_dataset_from_directory(\n",
        "#    directory=\"data_Lungs/train/\",\n",
        "#    labels=\"inferred\",\n",
        "#    label_mode=\"categorical\",\n",
        "#    class_names=None,\n",
        "#    color_mode=\"grayscale\",\n",
        "#    batch_size=32,\n",
        "#    image_size=(48, 48),\n",
        "#    shuffle=True,\n",
        "#    seed=None,\n",
        "#    validation_split=None,\n",
        "#    subset=None,\n",
        "#    interpolation=\"bilinear\",\n",
        "#    follow_links=False,\n",
        "#    crop_to_aspect_ratio=False\n",
        "#)"
      ]
    },
    {
      "cell_type": "markdown",
      "metadata": {
        "id": "Xrg4Z3w9UO09"
      },
      "source": [
        "# Convert RGB to grayscale using TF preprocessing by using a function"
      ]
    },
    {
      "cell_type": "code",
      "execution_count": 10,
      "metadata": {
        "id": "3upA6-dUZCXZ"
      },
      "outputs": [],
      "source": [
        "def to_grayscale_then_rgb(image):\n",
        "    image = tf.image.rgb_to_grayscale(image)\n",
        "    return image"
      ]
    },
    {
      "cell_type": "code",
      "execution_count": 11,
      "metadata": {
        "id": "W_bohmI5XwmY"
      },
      "outputs": [],
      "source": [
        "#Preprocessing --- Goal to make the data compatible for CNN input\n",
        "\n",
        "#train_generator = tf.keras.preprocessing.image.ImageDataGenerator(rescale= 1.0/255, preprocessing_function = to_grayscale_then_rgb)\n",
        "#test_generator = tf.keras.preprocessing.image.ImageDataGenerator(rescale= 1.0/255, preprocessing_function = to_grayscale_then_rgb)\n",
        "\n",
        "\n",
        "train_generator = tf.keras.preprocessing.image.ImageDataGenerator(rescale= 1.0/255.)\n",
        "test_generator = tf.keras.preprocessing.image.ImageDataGenerator(rescale= 1.0/255.)"
      ]
    },
    {
      "cell_type": "code",
      "execution_count": 12,
      "metadata": {
        "colab": {
          "base_uri": "https://localhost:8080/"
        },
        "id": "VzBnyzGRYJ5y",
        "outputId": "d6ac308e-decb-402d-d22c-a408224bba7a"
      },
      "outputs": [
        {
          "output_type": "stream",
          "name": "stdout",
          "text": [
            "Found 251 images belonging to 3 classes.\n",
            "Found 66 images belonging to 3 classes.\n"
          ]
        }
      ],
      "source": [
        "#Pass the images through the generator\n",
        "\n",
        "trainImageData = train_generator.flow_from_directory(\"data_Lungs/train/\",\n",
        "                                                     batch_size=16, #how much images to give per iteration in an epoch\n",
        "                                                     class_mode=\"categorical\", #Incase of multi-class classification, \"categorical\"\n",
        "                                                     target_size=(48,48) #Ensures all images are of same size (resizing)\n",
        "                                                     ) \n",
        "\n",
        "testImageData = test_generator.flow_from_directory(\"data_Lungs/test/\",\n",
        "                                                     batch_size=16, #how much images to give per iteration in an epoch\n",
        "                                                     class_mode=\"categorical\", #Incase of multi-class classification, \"categorical\"\n",
        "                                                     target_size=(48,48) #Ensures all images are of same size (resizing)\n",
        "                                                     ) "
      ]
    },
    {
      "cell_type": "code",
      "execution_count": 13,
      "metadata": {
        "colab": {
          "base_uri": "https://localhost:8080/"
        },
        "id": "tlR6lcjbaCX-",
        "outputId": "5fdb8ced-f9db-4f47-a119-561f67c254e4"
      },
      "outputs": [
        {
          "output_type": "execute_result",
          "data": {
            "text/plain": [
              "{'Type 1 disease': 0, 'Type 2 disease': 1, 'healthy': 2}"
            ]
          },
          "metadata": {},
          "execution_count": 13
        }
      ],
      "source": [
        "#Given dataset is a balanced dataset !!!\n",
        "\n",
        "trainImageData.class_indices"
      ]
    },
    {
      "cell_type": "code",
      "execution_count": 14,
      "metadata": {
        "colab": {
          "base_uri": "https://localhost:8080/"
        },
        "id": "l9OnCekXjVaJ",
        "outputId": "52e9e386-a9b7-45c5-c0af-496faf359496"
      },
      "outputs": [
        {
          "output_type": "execute_result",
          "data": {
            "text/plain": [
              "{'Type 1 disease': 0, 'Type 2 disease': 1, 'healthy': 2}"
            ]
          },
          "metadata": {},
          "execution_count": 14
        }
      ],
      "source": [
        "#Given dataset is a balanced dataset !!!\n",
        "\n",
        "testImageData.class_indices"
      ]
    },
    {
      "cell_type": "code",
      "execution_count": 15,
      "metadata": {
        "colab": {
          "base_uri": "https://localhost:8080/",
          "height": 37
        },
        "id": "nLOvGeWyp4PB",
        "outputId": "c9e2b4f9-5a55-458b-aaee-bda6dbb65be3"
      },
      "outputs": [
        {
          "output_type": "execute_result",
          "data": {
            "text/plain": [
              "'rgb'"
            ],
            "application/vnd.google.colaboratory.intrinsic+json": {
              "type": "string"
            }
          },
          "metadata": {},
          "execution_count": 15
        }
      ],
      "source": [
        "trainImageData.color_mode"
      ]
    },
    {
      "cell_type": "code",
      "execution_count": 16,
      "metadata": {
        "colab": {
          "base_uri": "https://localhost:8080/",
          "height": 37
        },
        "id": "adl5KAd4VmPJ",
        "outputId": "f0cdb269-0395-48ce-d021-d928772abbac"
      },
      "outputs": [
        {
          "output_type": "execute_result",
          "data": {
            "text/plain": [
              "'rgb'"
            ],
            "application/vnd.google.colaboratory.intrinsic+json": {
              "type": "string"
            }
          },
          "metadata": {},
          "execution_count": 16
        }
      ],
      "source": [
        "testImageData.color_mode"
      ]
    },
    {
      "cell_type": "code",
      "execution_count": 17,
      "metadata": {
        "colab": {
          "base_uri": "https://localhost:8080/"
        },
        "id": "pd7UnmRNaR9_",
        "outputId": "c9f6877b-e16d-4f59-df6d-ec56cbc5d95f"
      },
      "outputs": [
        {
          "output_type": "execute_result",
          "data": {
            "text/plain": [
              "(48, 48, 3)"
            ]
          },
          "metadata": {},
          "execution_count": 17
        }
      ],
      "source": [
        "trainImageData.image_shape"
      ]
    },
    {
      "cell_type": "code",
      "execution_count": 18,
      "metadata": {
        "colab": {
          "base_uri": "https://localhost:8080/"
        },
        "id": "1ekzMBC_ja2j",
        "outputId": "93d3eb7e-4eca-4b29-94e0-85ec7af1493e"
      },
      "outputs": [
        {
          "output_type": "execute_result",
          "data": {
            "text/plain": [
              "(48, 48, 3)"
            ]
          },
          "metadata": {},
          "execution_count": 18
        }
      ],
      "source": [
        "testImageData.image_shape"
      ]
    },
    {
      "cell_type": "markdown",
      "metadata": {
        "id": "ZVLRCdrjcKyq"
      },
      "source": [
        "**Inference, Conclusion prior modeling: **\n",
        "- Despite using the preprocessing function of parsing RGB data as grayscale, it still shows up as RGB [Seen w/ both image_shape & color_mode above). \n",
        "- Preprocessing using RGB_to_grayscale function doesn't work - is likely due to limitation of current TF version + Colab. \n",
        "- With initial study showing the images though RGB are still equivalent to Grayscale, study will be done only based on RGB. "
      ]
    },
    {
      "cell_type": "code",
      "execution_count": 19,
      "metadata": {
        "colab": {
          "base_uri": "https://localhost:8080/"
        },
        "id": "a1swbKaudtHp",
        "outputId": "cdc13e4f-d992-441d-d2bb-58d30d4b3456"
      },
      "outputs": [
        {
          "output_type": "execute_result",
          "data": {
            "text/plain": [
              "['Type 1 disease/01.jpeg',\n",
              " 'Type 1 disease/010.png',\n",
              " 'Type 1 disease/012.jpeg',\n",
              " 'Type 1 disease/015.jpg',\n",
              " 'Type 1 disease/019.png',\n",
              " 'Type 1 disease/02.jpeg',\n",
              " 'Type 1 disease/020.jpg',\n",
              " 'Type 1 disease/021.jpeg',\n",
              " 'Type 1 disease/022.jpeg',\n",
              " 'Type 1 disease/024.jpeg',\n",
              " 'Type 1 disease/025.jpeg',\n",
              " 'Type 1 disease/026.jpeg',\n",
              " 'Type 1 disease/027.jpeg',\n",
              " 'Type 1 disease/03.jpeg',\n",
              " 'Type 1 disease/031.jpeg',\n",
              " 'Type 1 disease/032.jpeg',\n",
              " 'Type 1 disease/033.png',\n",
              " 'Type 1 disease/039.jpeg',\n",
              " 'Type 1 disease/04.png',\n",
              " 'Type 1 disease/040.jpeg',\n",
              " 'Type 1 disease/041.jpeg',\n",
              " 'Type 1 disease/042.jpeg',\n",
              " 'Type 1 disease/043.jpeg',\n",
              " 'Type 1 disease/044.jpeg',\n",
              " 'Type 1 disease/045.jpeg',\n",
              " 'Type 1 disease/046.jpeg',\n",
              " 'Type 1 disease/047.jpeg',\n",
              " 'Type 1 disease/048.jpeg',\n",
              " 'Type 1 disease/049.jpeg',\n",
              " 'Type 1 disease/050.jpeg',\n",
              " 'Type 1 disease/051.jpeg',\n",
              " 'Type 1 disease/052.jpeg',\n",
              " 'Type 1 disease/053.jpeg',\n",
              " 'Type 1 disease/054.jpeg',\n",
              " 'Type 1 disease/055.jpeg',\n",
              " 'Type 1 disease/056.jpg',\n",
              " 'Type 1 disease/057.jpeg',\n",
              " 'Type 1 disease/058.jpeg',\n",
              " 'Type 1 disease/059.jpeg',\n",
              " 'Type 1 disease/06.jpeg',\n",
              " 'Type 1 disease/060.jpeg',\n",
              " 'Type 1 disease/061.jpg',\n",
              " 'Type 1 disease/062.jpeg',\n",
              " 'Type 1 disease/064.jpg',\n",
              " 'Type 1 disease/065.jpeg',\n",
              " 'Type 1 disease/067.jpg',\n",
              " 'Type 1 disease/068.jpg',\n",
              " 'Type 1 disease/069.jpg',\n",
              " 'Type 1 disease/07.jpg',\n",
              " 'Type 1 disease/071.jpg',\n",
              " 'Type 1 disease/072.jpeg',\n",
              " 'Type 1 disease/073.jpg',\n",
              " 'Type 1 disease/074.jpg',\n",
              " 'Type 1 disease/076.jpg',\n",
              " 'Type 1 disease/078.jpeg',\n",
              " 'Type 1 disease/079.jpeg',\n",
              " 'Type 1 disease/08.jpeg',\n",
              " 'Type 1 disease/080.jpg',\n",
              " 'Type 1 disease/081.jpeg',\n",
              " 'Type 1 disease/082.jpg',\n",
              " 'Type 1 disease/083.jpeg',\n",
              " 'Type 1 disease/084.jpeg',\n",
              " 'Type 1 disease/085.jpeg',\n",
              " 'Type 1 disease/086.jpg',\n",
              " 'Type 1 disease/088.jpeg',\n",
              " 'Type 1 disease/089.jpg',\n",
              " 'Type 1 disease/09.png',\n",
              " 'Type 1 disease/090.jpeg',\n",
              " 'Type 1 disease/091.jpg',\n",
              " 'Type 1 disease/092.png',\n",
              " 'Type 1 disease/COVID-00001.jpg',\n",
              " 'Type 1 disease/COVID-00002.jpg',\n",
              " 'Type 1 disease/COVID-00003a.jpg',\n",
              " 'Type 1 disease/COVID-00003b.jpg',\n",
              " 'Type 1 disease/COVID-00004.jpg',\n",
              " 'Type 1 disease/COVID-00005.jpg',\n",
              " 'Type 1 disease/COVID-00006.jpg',\n",
              " 'Type 1 disease/COVID-00007.jpg',\n",
              " 'Type 1 disease/COVID-00008.jpg',\n",
              " 'Type 1 disease/COVID-00009.jpg',\n",
              " 'Type 1 disease/COVID-00010.jpg',\n",
              " 'Type 1 disease/COVID-00011.jpg',\n",
              " 'Type 1 disease/COVID-00012.jpg',\n",
              " 'Type 1 disease/COVID-00013a.jpg',\n",
              " 'Type 1 disease/COVID-00013b.jpg',\n",
              " 'Type 1 disease/COVID-00014.jpg',\n",
              " 'Type 1 disease/COVID-00015a.png',\n",
              " 'Type 1 disease/COVID-00015b.png',\n",
              " 'Type 1 disease/COVID-00016.jpg',\n",
              " 'Type 1 disease/COVID-00017.jpg',\n",
              " 'Type 1 disease/COVID-00018.jpg',\n",
              " 'Type 1 disease/COVID-00019.jpg',\n",
              " 'Type 1 disease/COVID-00020.jpg',\n",
              " 'Type 1 disease/COVID-00021.jpg',\n",
              " 'Type 1 disease/COVID-00022.jpg',\n",
              " 'Type 1 disease/COVID-00023.jpg',\n",
              " 'Type 1 disease/COVID-00024.jpg',\n",
              " 'Type 1 disease/COVID-00025.jpg',\n",
              " 'Type 1 disease/COVID-00026.jpg',\n",
              " 'Type 1 disease/COVID-00027.jpg',\n",
              " 'Type 1 disease/COVID-00028.jpg',\n",
              " 'Type 1 disease/COVID-00029.jpg',\n",
              " 'Type 1 disease/COVID-00030.jpg',\n",
              " 'Type 1 disease/COVID-00031.jpg',\n",
              " 'Type 1 disease/COVID-00032.jpg',\n",
              " 'Type 1 disease/COVID-00033.jpg',\n",
              " 'Type 1 disease/COVID-00034.jpg',\n",
              " 'Type 1 disease/COVID-00035.jpg',\n",
              " 'Type 1 disease/COVID-00036.jpg',\n",
              " 'Type 1 disease/COVID-00037.jpg',\n",
              " 'Type 1 disease/COVID-00038.jpg',\n",
              " 'Type 2 disease/01.jpeg',\n",
              " 'Type 2 disease/010.jpeg',\n",
              " 'Type 2 disease/011.jpeg',\n",
              " 'Type 2 disease/012.jpeg',\n",
              " 'Type 2 disease/013.jpeg',\n",
              " 'Type 2 disease/016.jpeg',\n",
              " 'Type 2 disease/018.jpeg',\n",
              " 'Type 2 disease/019.jpeg',\n",
              " 'Type 2 disease/02.jpeg',\n",
              " 'Type 2 disease/020.jpeg',\n",
              " 'Type 2 disease/021.jpeg',\n",
              " 'Type 2 disease/022.jpeg',\n",
              " 'Type 2 disease/023.jpeg',\n",
              " 'Type 2 disease/024.jpeg',\n",
              " 'Type 2 disease/025.jpeg',\n",
              " 'Type 2 disease/027.jpeg',\n",
              " 'Type 2 disease/03.jpeg',\n",
              " 'Type 2 disease/031.jpeg',\n",
              " 'Type 2 disease/032.jpeg',\n",
              " 'Type 2 disease/033.jpeg',\n",
              " 'Type 2 disease/034.jpeg',\n",
              " 'Type 2 disease/035.jpeg',\n",
              " 'Type 2 disease/036.jpeg',\n",
              " 'Type 2 disease/037.jpeg',\n",
              " 'Type 2 disease/038.jpeg',\n",
              " 'Type 2 disease/04.jpeg',\n",
              " 'Type 2 disease/041.jpeg',\n",
              " 'Type 2 disease/042.jpeg',\n",
              " 'Type 2 disease/043.jpeg',\n",
              " 'Type 2 disease/044.jpeg',\n",
              " 'Type 2 disease/045.jpeg',\n",
              " 'Type 2 disease/046.jpeg',\n",
              " 'Type 2 disease/047.jpeg',\n",
              " 'Type 2 disease/048.jpeg',\n",
              " 'Type 2 disease/05.jpeg',\n",
              " 'Type 2 disease/051.jpeg',\n",
              " 'Type 2 disease/052.jpeg',\n",
              " 'Type 2 disease/053.jpeg',\n",
              " 'Type 2 disease/054.jpeg',\n",
              " 'Type 2 disease/055.jpeg',\n",
              " 'Type 2 disease/056.jpeg',\n",
              " 'Type 2 disease/057.jpeg',\n",
              " 'Type 2 disease/058.jpeg',\n",
              " 'Type 2 disease/06.jpeg',\n",
              " 'Type 2 disease/061.jpeg',\n",
              " 'Type 2 disease/062.jpeg',\n",
              " 'Type 2 disease/063.jpeg',\n",
              " 'Type 2 disease/064.jpeg',\n",
              " 'Type 2 disease/065.jpeg',\n",
              " 'Type 2 disease/066.jpeg',\n",
              " 'Type 2 disease/067.jpeg',\n",
              " 'Type 2 disease/068.jpeg',\n",
              " 'Type 2 disease/07.jpeg',\n",
              " 'Type 2 disease/071.jpeg',\n",
              " 'Type 2 disease/072.jpeg',\n",
              " 'Type 2 disease/073.jpeg',\n",
              " 'Type 2 disease/074.jpeg',\n",
              " 'Type 2 disease/075.jpeg',\n",
              " 'Type 2 disease/076.jpeg',\n",
              " 'Type 2 disease/077.jpeg',\n",
              " 'Type 2 disease/078.jpeg',\n",
              " 'Type 2 disease/08.jpeg',\n",
              " 'Type 2 disease/081.jpeg',\n",
              " 'Type 2 disease/082.jpeg',\n",
              " 'Type 2 disease/083.jpeg',\n",
              " 'Type 2 disease/084.jpeg',\n",
              " 'Type 2 disease/09.jpeg',\n",
              " 'Type 2 disease/094.jpeg',\n",
              " 'Type 2 disease/095.jpeg',\n",
              " 'Type 2 disease/096.jpeg',\n",
              " 'healthy/01.jpeg',\n",
              " 'healthy/010.jpeg',\n",
              " 'healthy/011.jpeg',\n",
              " 'healthy/012.jpeg',\n",
              " 'healthy/013.jpeg',\n",
              " 'healthy/014.jpeg',\n",
              " 'healthy/015.jpeg',\n",
              " 'healthy/016.jpeg',\n",
              " 'healthy/017.jpeg',\n",
              " 'healthy/018.jpeg',\n",
              " 'healthy/019.jpeg',\n",
              " 'healthy/02.jpeg',\n",
              " 'healthy/020.jpeg',\n",
              " 'healthy/021.jpeg',\n",
              " 'healthy/022.jpeg',\n",
              " 'healthy/023.jpeg',\n",
              " 'healthy/024.jpeg',\n",
              " 'healthy/025.jpeg',\n",
              " 'healthy/03.jpeg',\n",
              " 'healthy/04.jpeg',\n",
              " 'healthy/05.jpeg',\n",
              " 'healthy/050.jpeg',\n",
              " 'healthy/051.jpeg',\n",
              " 'healthy/052.jpeg',\n",
              " 'healthy/053.jpeg',\n",
              " 'healthy/054.jpeg',\n",
              " 'healthy/055.jpeg',\n",
              " 'healthy/056.jpeg',\n",
              " 'healthy/057.jpeg',\n",
              " 'healthy/058.jpeg',\n",
              " 'healthy/059.jpeg',\n",
              " 'healthy/06.jpeg',\n",
              " 'healthy/060.jpeg',\n",
              " 'healthy/061.jpeg',\n",
              " 'healthy/062.jpeg',\n",
              " 'healthy/063.jpeg',\n",
              " 'healthy/064.jpeg',\n",
              " 'healthy/065.jpeg',\n",
              " 'healthy/066.jpeg',\n",
              " 'healthy/067.jpeg',\n",
              " 'healthy/068.jpeg',\n",
              " 'healthy/069.jpeg',\n",
              " 'healthy/07.jpeg',\n",
              " 'healthy/070.jpeg',\n",
              " 'healthy/071.jpeg',\n",
              " 'healthy/072.jpeg',\n",
              " 'healthy/073.jpeg',\n",
              " 'healthy/074.jpeg',\n",
              " 'healthy/075.jpeg',\n",
              " 'healthy/076.jpeg',\n",
              " 'healthy/077.jpeg',\n",
              " 'healthy/079.jpeg',\n",
              " 'healthy/08.jpeg',\n",
              " 'healthy/080.jpeg',\n",
              " 'healthy/081.jpeg',\n",
              " 'healthy/082.jpeg',\n",
              " 'healthy/083.jpeg',\n",
              " 'healthy/084.jpeg',\n",
              " 'healthy/085.jpeg',\n",
              " 'healthy/086.jpeg',\n",
              " 'healthy/087.jpeg',\n",
              " 'healthy/088.jpeg',\n",
              " 'healthy/09.jpeg',\n",
              " 'healthy/091.jpeg',\n",
              " 'healthy/092.jpeg',\n",
              " 'healthy/093.jpeg',\n",
              " 'healthy/094.jpeg',\n",
              " 'healthy/095.jpeg',\n",
              " 'healthy/096.jpeg',\n",
              " 'healthy/097.jpeg']"
            ]
          },
          "metadata": {},
          "execution_count": 19
        }
      ],
      "source": [
        "trainImageData.filenames"
      ]
    },
    {
      "cell_type": "code",
      "execution_count": 20,
      "metadata": {
        "colab": {
          "base_uri": "https://localhost:8080/"
        },
        "id": "6AsiPS8yjYL6",
        "outputId": "fb250298-2128-49fb-98d6-917e339b9146"
      },
      "outputs": [
        {
          "output_type": "execute_result",
          "data": {
            "text/plain": [
              "['Type 1 disease/0100.jpeg',\n",
              " 'Type 1 disease/0102.jpeg',\n",
              " 'Type 1 disease/0105.png',\n",
              " 'Type 1 disease/0106.jpeg',\n",
              " 'Type 1 disease/0108.jpeg',\n",
              " 'Type 1 disease/0111.jpg',\n",
              " 'Type 1 disease/0112.jpg',\n",
              " 'Type 1 disease/0113.jpg',\n",
              " 'Type 1 disease/0115.jpeg',\n",
              " 'Type 1 disease/0118.jpeg',\n",
              " 'Type 1 disease/0119.jpeg',\n",
              " 'Type 1 disease/0120.jpg',\n",
              " 'Type 1 disease/094.png',\n",
              " 'Type 1 disease/096.png',\n",
              " 'Type 1 disease/098.jpeg',\n",
              " 'Type 1 disease/COVID-00003b.jpg',\n",
              " 'Type 1 disease/COVID-00012.jpg',\n",
              " 'Type 1 disease/COVID-00022.jpg',\n",
              " 'Type 1 disease/COVID-00033.jpg',\n",
              " 'Type 1 disease/COVID-00037.jpg',\n",
              " 'Type 1 disease/auntminnie-2020_01_31_20_24_2322_2020_01_31_x-ray_coronavirus_US.jpg',\n",
              " 'Type 1 disease/auntminnie-a-2020_01_28_23_51_6665_2020_01_28_Vietnam_coronavirus.jpeg',\n",
              " 'Type 1 disease/auntminnie-b-2020_01_28_23_51_6665_2020_01_28_Vietnam_coronavirus.jpeg',\n",
              " 'Type 1 disease/auntminnie-c-2020_01_28_23_51_6665_2020_01_28_Vietnam_coronavirus.jpeg',\n",
              " 'Type 1 disease/auntminnie-d-2020_01_28_23_51_6665_2020_01_28_Vietnam_coronavirus.jpeg',\n",
              " 'Type 1 disease/radiopaedia-2019-novel-coronavirus-infected-pneumonia.jpg',\n",
              " 'Type 2 disease/0101.jpeg',\n",
              " 'Type 2 disease/0102.jpeg',\n",
              " 'Type 2 disease/0103.jpeg',\n",
              " 'Type 2 disease/0104.jpeg',\n",
              " 'Type 2 disease/0105.jpeg',\n",
              " 'Type 2 disease/0106.jpeg',\n",
              " 'Type 2 disease/0107.jpeg',\n",
              " 'Type 2 disease/0108.jpeg',\n",
              " 'Type 2 disease/0109.jpeg',\n",
              " 'Type 2 disease/0110.jpeg',\n",
              " 'Type 2 disease/0111.jpeg',\n",
              " 'Type 2 disease/0112.jpeg',\n",
              " 'Type 2 disease/0113.jpeg',\n",
              " 'Type 2 disease/0114.jpeg',\n",
              " 'Type 2 disease/0115.jpeg',\n",
              " 'Type 2 disease/0116.jpeg',\n",
              " 'Type 2 disease/0117.jpeg',\n",
              " 'Type 2 disease/0118.jpeg',\n",
              " 'Type 2 disease/0119.jpeg',\n",
              " 'Type 2 disease/0120.jpeg',\n",
              " 'healthy/0101.jpeg',\n",
              " 'healthy/0102.jpeg',\n",
              " 'healthy/0103.jpeg',\n",
              " 'healthy/0105.jpeg',\n",
              " 'healthy/0106.jpeg',\n",
              " 'healthy/0107.jpeg',\n",
              " 'healthy/0108.jpeg',\n",
              " 'healthy/0109.jpeg',\n",
              " 'healthy/0110.jpeg',\n",
              " 'healthy/0111.jpeg',\n",
              " 'healthy/0112.jpeg',\n",
              " 'healthy/0114.jpeg',\n",
              " 'healthy/0115.jpeg',\n",
              " 'healthy/0116.jpeg',\n",
              " 'healthy/0117.jpeg',\n",
              " 'healthy/0118.jpeg',\n",
              " 'healthy/0119.jpeg',\n",
              " 'healthy/0120.jpeg',\n",
              " 'healthy/0121.jpeg',\n",
              " 'healthy/0122.jpeg']"
            ]
          },
          "metadata": {},
          "execution_count": 20
        }
      ],
      "source": [
        "testImageData.filenames"
      ]
    },
    {
      "cell_type": "markdown",
      "metadata": {
        "id": "xjOPkstw4KSx"
      },
      "source": [
        "**Inference:** \n",
        "\n",
        "There are 3x classes: Healthy, Type 1 disease and Type2 disease. \n",
        "\n",
        "Train - Total of 251 images belonging to 3x classes and \n",
        "\n",
        "Test - 66 images belonging to 3x classes "
      ]
    },
    {
      "cell_type": "markdown",
      "metadata": {
        "id": "DxFKqKIA4eM_"
      },
      "source": [
        "#Build CNN Architecture"
      ]
    },
    {
      "cell_type": "code",
      "execution_count": 21,
      "metadata": {
        "id": "2t0yIXPcaf0X"
      },
      "outputs": [],
      "source": [
        "# Architect CNN model\n",
        "\n",
        "model = tf.keras.models.Sequential()\n",
        "\n",
        "#Convolution Layer\n",
        "#================================================================================================================================================\n",
        "#First Convolution Layer\n",
        "\n",
        "#Conv2D(noFeatureMap, kernelShape, inputShape, activation, padding) Here same means add one pad layer\n",
        "\n",
        "model.add(tf.keras.layers.Conv2D(32 , (3,3) , input_shape= trainImageData.image_shape , activation= 'relu' , padding='same' )) #Convolve\n",
        "model.add(tf.keras.layers.MaxPooling2D(pool_size=(2,2))) #Pooling \n",
        "\n",
        "#Second Convolution Layer\n",
        "\n",
        "#Conv2D(noFeatureMap, kernelShape, inputShape, activation, padding) Here same means add one pad layer\n",
        "\n",
        "model.add(tf.keras.layers.Conv2D(16 , (3,3), activation= 'relu' , padding='same' )) #Convolve\n",
        "model.add(tf.keras.layers.MaxPooling2D(pool_size=(2,2))) #Pooling \n",
        "\n",
        "#=================================================================================================================================================\n",
        "# Flatten\n",
        "\n",
        "model.add(tf.keras.layers.Flatten())\n",
        "\n",
        "#=================================================================================================================================================\n",
        "# ANN\n",
        "model.add(tf.keras.layers.Dense(units= 4096 , activation=\"relu\"))\n",
        "model.add(tf.keras.layers.Dropout(0.2))\n",
        "model.add(tf.keras.layers.Dense(units= 1024, activation=\"relu\"))\n",
        "model.add(tf.keras.layers.Dropout(0.2))\n",
        "model.add(tf.keras.layers.Dense(units= 256, activation=\"relu\"))\n",
        "model.add(tf.keras.layers.Dense(units= 3 , activation=\"softmax\"))\n",
        "#model.add(tf.keras.layers.Dense(units= 2 , activation=\"softmax\"))"
      ]
    },
    {
      "cell_type": "code",
      "execution_count": 22,
      "metadata": {
        "colab": {
          "base_uri": "https://localhost:8080/"
        },
        "id": "VIOBc3SMcqGF",
        "outputId": "c4ec4a1f-bc8d-4d3d-88d1-c17a0de1fb27"
      },
      "outputs": [
        {
          "output_type": "stream",
          "name": "stdout",
          "text": [
            "Model: \"sequential\"\n",
            "_________________________________________________________________\n",
            " Layer (type)                Output Shape              Param #   \n",
            "=================================================================\n",
            " conv2d (Conv2D)             (None, 48, 48, 32)        896       \n",
            "                                                                 \n",
            " max_pooling2d (MaxPooling2D  (None, 24, 24, 32)       0         \n",
            " )                                                               \n",
            "                                                                 \n",
            " conv2d_1 (Conv2D)           (None, 24, 24, 16)        4624      \n",
            "                                                                 \n",
            " max_pooling2d_1 (MaxPooling  (None, 12, 12, 16)       0         \n",
            " 2D)                                                             \n",
            "                                                                 \n",
            " flatten (Flatten)           (None, 2304)              0         \n",
            "                                                                 \n",
            " dense (Dense)               (None, 4096)              9441280   \n",
            "                                                                 \n",
            " dropout (Dropout)           (None, 4096)              0         \n",
            "                                                                 \n",
            " dense_1 (Dense)             (None, 1024)              4195328   \n",
            "                                                                 \n",
            " dropout_1 (Dropout)         (None, 1024)              0         \n",
            "                                                                 \n",
            " dense_2 (Dense)             (None, 256)               262400    \n",
            "                                                                 \n",
            " dense_3 (Dense)             (None, 3)                 771       \n",
            "                                                                 \n",
            "=================================================================\n",
            "Total params: 13,905,299\n",
            "Trainable params: 13,905,299\n",
            "Non-trainable params: 0\n",
            "_________________________________________________________________\n"
          ]
        }
      ],
      "source": [
        "model.summary()"
      ]
    },
    {
      "cell_type": "code",
      "execution_count": 23,
      "metadata": {
        "id": "V4Ke7NhBc1A4"
      },
      "outputs": [],
      "source": [
        "#Compile\n",
        "\n",
        "#model.compile(optimizer=\"rmsprop\",\n",
        "#              loss=\"categorical_crossentropy\", #For multi-class classification: categorical_crossentropy | sparse_categorical_crossentropy\n",
        "#              metrics=['accuracy'])"
      ]
    },
    {
      "cell_type": "code",
      "execution_count": 24,
      "metadata": {
        "id": "cef3Ymh_iVmc"
      },
      "outputs": [],
      "source": [
        "#Compile\n",
        "\n",
        "model.compile(optimizer=\"rmsprop\",\n",
        "              loss=\"categorical_crossentropy\", #For multi-class classification: categorical_crossentropy | sparse_categorical_crossentropy\n",
        "              metrics=[\n",
        "                       tf.keras.metrics.CategoricalAccuracy(name='accuracy'),\n",
        "                       tf.keras.metrics.AUC(name='auc'), \n",
        "                       tf.keras.metrics.Precision(name='precision'),\n",
        "                       tf.keras.metrics.Recall(name='recall'),\n",
        "                      ])"
      ]
    },
    {
      "cell_type": "code",
      "execution_count": 25,
      "metadata": {
        "colab": {
          "base_uri": "https://localhost:8080/"
        },
        "id": "oH_CpfZSeDS2",
        "outputId": "3ec694a9-d026-4282-ef8b-201495064d02"
      },
      "outputs": [
        {
          "output_type": "execute_result",
          "data": {
            "text/plain": [
              "15"
            ]
          },
          "metadata": {},
          "execution_count": 25
        }
      ],
      "source": [
        "len(trainImageData.filenames) // trainImageData.batch_size"
      ]
    },
    {
      "cell_type": "code",
      "execution_count": 26,
      "metadata": {
        "id": "BfynHJzV9UVa"
      },
      "outputs": [],
      "source": [
        "#Callbacks\n",
        "\n",
        "# How to stop the training process if my model has converged successfully?\n",
        "# Convergence Criteria:\n",
        "# 1. Model must be a generalized model ( testScore > trainScore )\n",
        "# 2. Model's Test Score >= CL\n",
        "# Custom Callback which satisfies the above two criteria :)\n",
        "\n",
        "class MyQualityThreshold(tf.keras.callbacks.Callback):\n",
        "  def __init__(self,cl):\n",
        "    super(MyQualityThreshold, self).__init__()\n",
        "    self.cl = cl\n",
        "  \n",
        "  def on_epoch_end(self,epoch,logs=None):\n",
        "    testScore = logs['val_accuracy']\n",
        "    trainScore = logs['accuracy']\n",
        "    #epoch=logs['']\n",
        "\n",
        "    if (testScore > trainScore or testScore >= self.cl) and epoch > 2:\n",
        "      self.model.stop_training=True"
      ]
    },
    {
      "cell_type": "code",
      "execution_count": 27,
      "metadata": {
        "colab": {
          "base_uri": "https://localhost:8080/"
        },
        "id": "cT70mpP9-WJe",
        "outputId": "53151f0d-84ae-4ea2-c915-8f439350bd30"
      },
      "outputs": [
        {
          "output_type": "stream",
          "name": "stdout",
          "text": [
            "Epoch 1/10\n",
            "15/15 [==============================] - 29s 2s/step - loss: 2.3959 - accuracy: 0.4043 - auc: 0.5777 - precision: 0.4217 - recall: 0.1489 - val_loss: 0.8460 - val_accuracy: 0.6250 - val_auc: 0.8376 - val_precision: 0.8800 - val_recall: 0.3438\n",
            "Epoch 2/10\n",
            "15/15 [==============================] - 14s 947ms/step - loss: 0.5754 - accuracy: 0.7702 - auc: 0.9110 - precision: 0.8134 - recall: 0.7234 - val_loss: 0.6834 - val_accuracy: 0.7344 - val_auc: 0.8774 - val_precision: 0.8113 - val_recall: 0.6719\n",
            "Epoch 3/10\n",
            "15/15 [==============================] - 14s 974ms/step - loss: 0.4508 - accuracy: 0.8426 - auc: 0.9448 - precision: 0.8634 - recall: 0.8340 - val_loss: 0.5976 - val_accuracy: 0.6719 - val_auc: 0.8985 - val_precision: 0.6825 - val_recall: 0.6719\n",
            "Epoch 4/10\n",
            "15/15 [==============================] - 14s 957ms/step - loss: 0.2672 - accuracy: 0.9000 - auc: 0.9803 - precision: 0.9038 - recall: 0.9000 - val_loss: 0.3712 - val_accuracy: 0.9062 - val_auc: 0.9598 - val_precision: 0.9000 - val_recall: 0.8438\n"
          ]
        }
      ],
      "source": [
        "# Fit the model - Training the model without augmentation\n",
        "batch_size=16\n",
        "history = model.fit(trainImageData,\n",
        "                    validation_data=testImageData,\n",
        "                    epochs=10,\n",
        "                    steps_per_epoch=len(trainImageData.filenames) // trainImageData.batch_size, #For training\n",
        "                    validation_steps=len(testImageData.filenames) // testImageData.batch_size, #For testing\n",
        "                    callbacks=[MyQualityThreshold(0.9)])"
      ]
    },
    {
      "cell_type": "code",
      "execution_count": 28,
      "metadata": {
        "colab": {
          "base_uri": "https://localhost:8080/",
          "height": 295
        },
        "id": "M17SOht6ghAd",
        "outputId": "fae662a8-3e58-4296-af5e-e48ce6d49758"
      },
      "outputs": [
        {
          "output_type": "display_data",
          "data": {
            "text/plain": [
              "<Figure size 432x288 with 1 Axes>"
            ],
            "image/png": "[encoded data removed]"
          },
          "metadata": {
            "needs_background": "light"
          }
        }
      ],
      "source": [
        "import keras\n",
        "from matplotlib import pyplot as plt\n",
        "plt.plot(history.history['accuracy'])\n",
        "plt.plot(history.history['val_accuracy'])\n",
        "plt.title('CNN non-augmented model accuracy')\n",
        "plt.ylabel('accuracy')\n",
        "plt.xlabel('epoch')\n",
        "plt.legend(['train', 'val'], loc='upper left')\n",
        "plt.show()"
      ]
    },
    {
      "cell_type": "code",
      "execution_count": 29,
      "metadata": {
        "colab": {
          "base_uri": "https://localhost:8080/",
          "height": 295
        },
        "id": "PZyif42Ih9dP",
        "outputId": "13a59e52-59e2-4636-bc2a-71cf8acee943"
      },
      "outputs": [
        {
          "output_type": "display_data",
          "data": {
            "text/plain": [
              "<Figure size 432x288 with 1 Axes>"
            ],
            "image/png": "[encoded data removed]"
          },
          "metadata": {
            "needs_background": "light"
          }
        }
      ],
      "source": [
        "plt.plot(history.history['loss'])\n",
        "plt.plot(history.history['val_loss'])\n",
        "plt.title('CNN non-augmented model loss')\n",
        "plt.ylabel('loss')\n",
        "plt.xlabel('epoch')\n",
        "plt.legend(['train', 'val'], loc='upper left')\n",
        "plt.show()"
      ]
    },
    {
      "cell_type": "code",
      "execution_count": 30,
      "metadata": {
        "colab": {
          "base_uri": "https://localhost:8080/",
          "height": 295
        },
        "id": "MYO9f_GHsO2J",
        "outputId": "90d2510e-261d-4f19-de5b-f0edf9aa368c"
      },
      "outputs": [
        {
          "output_type": "display_data",
          "data": {
            "text/plain": [
              "<Figure size 432x288 with 1 Axes>"
            ],
            "image/png": "[encoded data removed]"
          },
          "metadata": {
            "needs_background": "light"
          }
        }
      ],
      "source": [
        "plt.plot(history.history['precision'])\n",
        "plt.plot(history.history['val_precision'])\n",
        "plt.title('CNN non-augmented model precision')\n",
        "plt.ylabel('precision')\n",
        "plt.xlabel('epoch')\n",
        "plt.legend(['train', 'val'], loc='upper left')\n",
        "plt.show()"
      ]
    },
    {
      "cell_type": "code",
      "execution_count": 31,
      "metadata": {
        "colab": {
          "base_uri": "https://localhost:8080/",
          "height": 295
        },
        "id": "EZrkFokyscBW",
        "outputId": "c9779b2f-b187-44ab-bf68-87005abc01d1"
      },
      "outputs": [
        {
          "output_type": "display_data",
          "data": {
            "text/plain": [
              "<Figure size 432x288 with 1 Axes>"
            ],
            "image/png": "[encoded data removed]"
          },
          "metadata": {
            "needs_background": "light"
          }
        }
      ],
      "source": [
        "plt.plot(history.history['recall'])\n",
        "plt.plot(history.history['val_recall'])\n",
        "plt.title('CNN non-augmented model recall')\n",
        "plt.ylabel('recall')\n",
        "plt.xlabel('epoch')\n",
        "plt.legend(['train', 'val'], loc='upper left')\n",
        "plt.show()"
      ]
    },
    {
      "cell_type": "code",
      "execution_count": 32,
      "metadata": {
        "colab": {
          "base_uri": "https://localhost:8080/",
          "height": 295
        },
        "id": "IU2cSIaHsgJ7",
        "outputId": "1a9bd3a3-588a-4152-e81f-32c923b692c9"
      },
      "outputs": [
        {
          "output_type": "display_data",
          "data": {
            "text/plain": [
              "<Figure size 432x288 with 1 Axes>"
            ],
            "image/png": "[encoded data removed]"
          },
          "metadata": {
            "needs_background": "light"
          }
        }
      ],
      "source": [
        "plt.plot(history.history['auc'])\n",
        "plt.plot(history.history['val_auc'])\n",
        "plt.title('CNN non-augmented model auc')\n",
        "plt.ylabel('auc')\n",
        "plt.xlabel('epoch')\n",
        "plt.legend(['train', 'val'], loc='upper left')\n",
        "plt.show()"
      ]
    },
    {
      "cell_type": "code",
      "execution_count": 33,
      "metadata": {
        "id": "bgeF1bc-AYP2"
      },
      "outputs": [],
      "source": [
        "import numpy as np\n",
        "import matplotlib.pyplot as plt\n",
        "%matplotlib inline"
      ]
    },
    {
      "cell_type": "code",
      "execution_count": 34,
      "metadata": {
        "colab": {
          "base_uri": "https://localhost:8080/"
        },
        "id": "KRD9Widn-arc",
        "outputId": "941cabe1-aae3-43bc-d938-55c2876d8c50"
      },
      "outputs": [
        {
          "output_type": "stream",
          "name": "stdout",
          "text": [
            "[[1. 0. 0.]]\n"
          ]
        }
      ],
      "source": [
        "#Prediction with a model trained without augmentation\n",
        "# model\n",
        "#Load an Image\n",
        "imageToPredict = tf.keras.preprocessing.image.load_img('COVID-00012.jpg', target_size=(48, 48))\n",
        "#Step2: Convert image to np array \n",
        "myImageNPArray = tf.keras.preprocessing.image.img_to_array(imageToPredict)\n",
        "# Step3: Make the image compatible for the model by adding n\n",
        "myCompatibleImage = np.expand_dims(myImageNPArray, axis = 0)\n",
        "#Step4: Prediction\n",
        "prediction = model.predict(myCompatibleImage)\n",
        "print(prediction)"
      ]
    },
    {
      "cell_type": "markdown",
      "metadata": {
        "id": "zjSsFVU96dR_"
      },
      "source": [
        "**Inference:** Model is able to predict the input correctly belonging to Type1 Disease. "
      ]
    },
    {
      "cell_type": "markdown",
      "metadata": {
        "id": "Jex4_cYb57qF"
      },
      "source": [
        "# Augmentation to training data, based on requirements provided"
      ]
    },
    {
      "cell_type": "code",
      "execution_count": 35,
      "metadata": {
        "id": "Rrl3E-43ecM0"
      },
      "outputs": [],
      "source": [
        "train_generator = tf.keras.preprocessing.image.ImageDataGenerator(rescale=1.0/255.,\n",
        "                                                                  rotation_range=90,\n",
        "                                                                  zoom_range=0.3,\n",
        "                                                                  horizontal_flip=True,\n",
        "                                                                  vertical_flip=True)\n"
      ]
    },
    {
      "cell_type": "code",
      "execution_count": 36,
      "metadata": {
        "id": "ZK4NfGMM38mH"
      },
      "outputs": [],
      "source": [
        "#Compile\n",
        "\n",
        "model.compile(optimizer=\"rmsprop\",\n",
        "              loss=\"categorical_crossentropy\", #For multi-class classification: categorical_crossentropy | sparse_categorical_crossentropy\n",
        "              metrics=[\n",
        "                       tf.keras.metrics.CategoricalAccuracy(name='accuracy'),\n",
        "                       tf.keras.metrics.AUC(name='auc'), \n",
        "                       tf.keras.metrics.Precision(name='precision'),\n",
        "                       tf.keras.metrics.Recall(name='recall'),\n",
        "                      ])"
      ]
    },
    {
      "cell_type": "code",
      "execution_count": 37,
      "metadata": {
        "id": "kk3qixRNAW_w"
      },
      "outputs": [],
      "source": [
        "#Callbacks\n",
        "\n",
        "# How to stop the training process if my model has converged successfully?\n",
        "# Convergence Criteria:\n",
        "# 1. Model must be a generalized model ( testScore > trainScore )\n",
        "# 2. Model's Test Score >= CL\n",
        "# Custom Callback which satisfies the above two criteria :)\n",
        "\n",
        "#class MyQualityThreshold(tf.keras.callbacks.Callback):\n",
        "#  def __init__(self,cl):\n",
        "#    super(MyQualityThreshold, self).__init__()\n",
        "#    self.cl = cl\n",
        "  \n",
        "#  def on_epoch_end(self,epoch,logs=None):\n",
        "#    testScore = logs['val_accuracy']\n",
        "#    trainScore = logs['accuracy']\n",
        "\n",
        "\n",
        "#    if (testScore > trainScore or testScore >= self.cl) and epoch > 2:\n",
        "#      self.model.stop_training=True"
      ]
    },
    {
      "cell_type": "code",
      "execution_count": 38,
      "metadata": {
        "colab": {
          "base_uri": "https://localhost:8080/"
        },
        "id": "gCrM_IauUdL1",
        "outputId": "a7be1df4-f63a-4b6d-d4be-3ef3737b29b1"
      },
      "outputs": [
        {
          "output_type": "stream",
          "name": "stdout",
          "text": [
            "Epoch 1/10\n",
            "15/15 [==============================] - 18s 1s/step - loss: 1.1507 - accuracy: 0.8553 - auc: 0.9246 - precision: 0.8553 - recall: 0.8553 - val_loss: 0.5075 - val_accuracy: 0.8750 - val_auc: 0.9451 - val_precision: 0.8750 - val_recall: 0.8750\n",
            "Epoch 2/10\n",
            "15/15 [==============================] - 14s 954ms/step - loss: 0.1025 - accuracy: 0.9500 - auc: 0.9970 - precision: 0.9538 - recall: 0.9458 - val_loss: 0.2248 - val_accuracy: 0.9062 - val_auc: 0.9860 - val_precision: 0.9062 - val_recall: 0.9062\n",
            "Epoch 3/10\n",
            "15/15 [==============================] - 14s 946ms/step - loss: 0.1260 - accuracy: 0.9489 - auc: 0.9957 - precision: 0.9487 - recall: 0.9447 - val_loss: 0.4226 - val_accuracy: 0.8594 - val_auc: 0.9583 - val_precision: 0.8594 - val_recall: 0.8594\n",
            "Epoch 4/10\n",
            "15/15 [==============================] - 14s 949ms/step - loss: 0.0819 - accuracy: 0.9830 - auc: 0.9978 - precision: 0.9830 - recall: 0.9830 - val_loss: 0.2269 - val_accuracy: 0.9062 - val_auc: 0.9861 - val_precision: 0.9062 - val_recall: 0.9062\n"
          ]
        }
      ],
      "source": [
        "# Fit the model after augmentation\n",
        "batch_size=16\n",
        "history = model.fit(trainImageData,\n",
        "                    validation_data=testImageData,\n",
        "                    epochs=10,\n",
        "                    steps_per_epoch=len(trainImageData.filenames) // trainImageData.batch_size, #For training\n",
        "                    validation_steps=len(testImageData.filenames) // testImageData.batch_size, #For testing\n",
        "                    callbacks=[MyQualityThreshold(0.9)])"
      ]
    },
    {
      "cell_type": "code",
      "execution_count": 39,
      "metadata": {
        "colab": {
          "base_uri": "https://localhost:8080/",
          "height": 295
        },
        "id": "ZxVW708tiYU9",
        "outputId": "ef955371-834c-4bcd-e7a3-bd014fb7eb84"
      },
      "outputs": [
        {
          "output_type": "display_data",
          "data": {
            "text/plain": [
              "<Figure size 432x288 with 1 Axes>"
            ],
            "image/png": "[encoded data removed]"
          },
          "metadata": {
            "needs_background": "light"
          }
        }
      ],
      "source": [
        "import keras\n",
        "from matplotlib import pyplot as plt\n",
        "plt.plot(history.history['accuracy'])\n",
        "plt.plot(history.history['val_accuracy'])\n",
        "plt.title('CNN augmented model accuracy')\n",
        "plt.ylabel('accuracy')\n",
        "plt.xlabel('epoch')\n",
        "plt.legend(['train', 'val'], loc='upper left')\n",
        "plt.show()"
      ]
    },
    {
      "cell_type": "code",
      "execution_count": 40,
      "metadata": {
        "colab": {
          "base_uri": "https://localhost:8080/",
          "height": 295
        },
        "id": "KOz8s0IniZ1K",
        "outputId": "f4d69569-68a3-45ee-9bfa-3950ad6bc6fa"
      },
      "outputs": [
        {
          "output_type": "display_data",
          "data": {
            "text/plain": [
              "<Figure size 432x288 with 1 Axes>"
            ],
            "image/png": "[encoded data removed]"
          },
          "metadata": {
            "needs_background": "light"
          }
        }
      ],
      "source": [
        "plt.plot(history.history['loss'])\n",
        "plt.plot(history.history['val_loss'])\n",
        "plt.title('CNN augmented model loss')\n",
        "plt.ylabel('loss')\n",
        "plt.xlabel('epoch')\n",
        "plt.legend(['train', 'val'], loc='upper left')\n",
        "plt.show()"
      ]
    },
    {
      "cell_type": "code",
      "execution_count": 41,
      "metadata": {
        "colab": {
          "base_uri": "https://localhost:8080/",
          "height": 295
        },
        "id": "HvkUQ6U_3CLY",
        "outputId": "f254a4a0-919c-452b-c8c0-2097038caeb7"
      },
      "outputs": [
        {
          "output_type": "display_data",
          "data": {
            "text/plain": [
              "<Figure size 432x288 with 1 Axes>"
            ],
            "image/png": "[encoded data removed]"
          },
          "metadata": {
            "needs_background": "light"
          }
        }
      ],
      "source": [
        "plt.plot(history.history['precision'])\n",
        "plt.plot(history.history['val_precision'])\n",
        "plt.title('CNN augmented model precision')\n",
        "plt.ylabel('precision')\n",
        "plt.xlabel('epoch')\n",
        "plt.legend(['train', 'val'], loc='upper left')\n",
        "plt.show()"
      ]
    },
    {
      "cell_type": "code",
      "execution_count": 42,
      "metadata": {
        "colab": {
          "base_uri": "https://localhost:8080/",
          "height": 295
        },
        "id": "O1my2hJb3HtH",
        "outputId": "d3e03d69-65ce-41db-c1a3-272a8c2ffb2a"
      },
      "outputs": [
        {
          "output_type": "display_data",
          "data": {
            "text/plain": [
              "<Figure size 432x288 with 1 Axes>"
            ],
            "image/png": "[encoded data removed]"
          },
          "metadata": {
            "needs_background": "light"
          }
        }
      ],
      "source": [
        "plt.plot(history.history['recall'])\n",
        "plt.plot(history.history['val_recall'])\n",
        "plt.title('CNN augmented model recall')\n",
        "plt.ylabel('recall')\n",
        "plt.xlabel('epoch')\n",
        "plt.legend(['train', 'val'], loc='upper left')\n",
        "plt.show()"
      ]
    },
    {
      "cell_type": "code",
      "execution_count": 43,
      "metadata": {
        "colab": {
          "base_uri": "https://localhost:8080/",
          "height": 295
        },
        "id": "is4a57TJ3IjZ",
        "outputId": "e1600f7b-bd44-4eab-a8db-19ed7e76c88e"
      },
      "outputs": [
        {
          "output_type": "display_data",
          "data": {
            "text/plain": [
              "<Figure size 432x288 with 1 Axes>"
            ],
            "image/png": "[encoded data removed]"
          },
          "metadata": {
            "needs_background": "light"
          }
        }
      ],
      "source": [
        "plt.plot(history.history['auc'])\n",
        "plt.plot(history.history['val_auc'])\n",
        "plt.title('CNN augmented model auc')\n",
        "plt.ylabel('auc')\n",
        "plt.xlabel('epoch')\n",
        "plt.legend(['train', 'val'], loc='upper left')\n",
        "plt.show()"
      ]
    },
    {
      "cell_type": "code",
      "execution_count": 44,
      "metadata": {
        "colab": {
          "base_uri": "https://localhost:8080/"
        },
        "id": "z4RS_WYUBdrd",
        "outputId": "dd674b40-e9ad-430f-9b74-55fe4b80992f"
      },
      "outputs": [
        {
          "output_type": "stream",
          "name": "stdout",
          "text": [
            "[[1. 0. 0.]]\n"
          ]
        }
      ],
      "source": [
        "#Prediction with model trained using augmentation\n",
        "#Load an Image\n",
        "imageToPredict = tf.keras.preprocessing.image.load_img('COVID-00012.jpg', target_size=(48, 48))\n",
        "#Step2: Convert image to np array \n",
        "myImageNPArray = tf.keras.preprocessing.image.img_to_array(imageToPredict)\n",
        "# Step3: Make the image compatible for the model by adding n\n",
        "myCompatibleImage = np.expand_dims(myImageNPArray, axis = 0)\n",
        "#Step4: Prediction\n",
        "prediction = model.predict(myCompatibleImage)\n",
        "print(prediction)"
      ]
    },
    {
      "cell_type": "markdown",
      "metadata": {
        "id": "Ew-wpG6S6vRY"
      },
      "source": [
        "Inference: Model w/ augmented training data also able to predict the input test image correctly as Type1 disease. "
      ]
    },
    {
      "cell_type": "code",
      "execution_count": 45,
      "metadata": {
        "colab": {
          "base_uri": "https://localhost:8080/"
        },
        "id": "vl1XPH9FDbtr",
        "outputId": "9a729fb8-1402-4aff-b3d0-a98a19b43132"
      },
      "outputs": [
        {
          "output_type": "stream",
          "name": "stdout",
          "text": [
            "INFO:tensorflow:Assets written to: LungsDiseaseDetector/assets\n"
          ]
        }
      ],
      "source": [
        "#Saving Model\n",
        "model.save(\"LungsDiseaseDetector\")"
      ]
    },
    {
      "cell_type": "markdown",
      "metadata": {
        "id": "Xsw6tp7J7H9q"
      },
      "source": [
        "Transfer learning using the ** CNN model architected with augmentation**"
      ]
    },
    {
      "cell_type": "code",
      "execution_count": 46,
      "metadata": {
        "colab": {
          "base_uri": "https://localhost:8080/",
          "height": 284
        },
        "id": "kYyhCuipDdAv",
        "outputId": "a353dfd8-99f6-4490-f61a-7359465118a9"
      },
      "outputs": [
        {
          "output_type": "execute_result",
          "data": {
            "text/plain": [
              "<matplotlib.image.AxesImage at 0x7fe94bcd4790>"
            ]
          },
          "metadata": {},
          "execution_count": 46
        },
        {
          "output_type": "display_data",
          "data": {
            "text/plain": [
              "<Figure size 432x288 with 1 Axes>"
            ],
            "image/png": "[encoded data removed]"
          },
          "metadata": {
            "needs_background": "light"
          }
        }
      ],
      "source": [
        "#Deployment Example\n",
        "#Step1: Load an Image\n",
        "import matplotlib.pyplot as plt\n",
        "import numpy as np\n",
        "%matplotlib inline\n",
        "\n",
        "imageToPredict = tf.keras.preprocessing.image.load_img('COVID-00012.jpg', target_size=(48, 48))\n",
        "plt.imshow(imageToPredict)"
      ]
    },
    {
      "cell_type": "code",
      "execution_count": 47,
      "metadata": {
        "colab": {
          "base_uri": "https://localhost:8080/"
        },
        "id": "TFV9f9J4DrSB",
        "outputId": "a728a938-ee16-4bd4-ee56-8044266bfa9a"
      },
      "outputs": [
        {
          "output_type": "execute_result",
          "data": {
            "text/plain": [
              "(48, 48, 3)"
            ]
          },
          "metadata": {},
          "execution_count": 47
        }
      ],
      "source": [
        "#Step2: Convert image to np array \n",
        "myImageNPArray = tf.keras.preprocessing.image.img_to_array(imageToPredict)\n",
        "\n",
        "myImageNPArray.shape"
      ]
    },
    {
      "cell_type": "code",
      "execution_count": 48,
      "metadata": {
        "colab": {
          "base_uri": "https://localhost:8080/"
        },
        "id": "VgLYPUgzDvpf",
        "outputId": "9a8ccbd6-0df8-4058-f715-220e0602073a"
      },
      "outputs": [
        {
          "output_type": "execute_result",
          "data": {
            "text/plain": [
              "(1, 48, 48, 3)"
            ]
          },
          "metadata": {},
          "execution_count": 48
        }
      ],
      "source": [
        "# Step3: Make the image compatible for the model by adding n\n",
        "myCompatibleImage = np.expand_dims(myImageNPArray, axis = 0)\n",
        "myCompatibleImage.shape"
      ]
    },
    {
      "cell_type": "code",
      "execution_count": 49,
      "metadata": {
        "id": "srOFUcU0Dy3e"
      },
      "outputs": [],
      "source": [
        "#Step4: Prediction\n",
        "prediction = model.predict(myCompatibleImage)"
      ]
    },
    {
      "cell_type": "code",
      "execution_count": 50,
      "metadata": {
        "colab": {
          "base_uri": "https://localhost:8080/"
        },
        "id": "hOlG9AjpD2gz",
        "outputId": "ded68595-f8e4-488b-cbb1-75a54054131f"
      },
      "outputs": [
        {
          "output_type": "execute_result",
          "data": {
            "text/plain": [
              "array([[1., 0., 0.]], dtype=float32)"
            ]
          },
          "metadata": {},
          "execution_count": 50
        }
      ],
      "source": [
        "prediction"
      ]
    },
    {
      "cell_type": "code",
      "execution_count": 51,
      "metadata": {
        "colab": {
          "base_uri": "https://localhost:8080/",
          "height": 37
        },
        "id": "qaWEMELID_FA",
        "outputId": "0242f759-7f03-44a5-dfc1-b171e2f40324"
      },
      "outputs": [
        {
          "output_type": "execute_result",
          "data": {
            "text/plain": [
              "'Type 1 disease'"
            ],
            "application/vnd.google.colaboratory.intrinsic+json": {
              "type": "string"
            }
          },
          "metadata": {},
          "execution_count": 51
        }
      ],
      "source": [
        "list(trainImageData.class_indices)[np.argmax(prediction)]"
      ]
    },
    {
      "cell_type": "markdown",
      "metadata": {
        "id": "h7fvkQHK7Zpx"
      },
      "source": [
        "# **Inference**: CNN model with augmentation is able to predict the disease of input test image as Type 1 disease\n",
        "Overfitting observed; Typical methods to deal w/ this are: \n",
        "- Change initializers, Regularization, Adding momentum in optimizers, Batch normalization, early stopping, reduce complexity of CNN and data augmentation. \n",
        "- Below will be included in this project: Data augmentation (Rotating, zoom, shear, flipping), Early stopping, batch normalization. "
      ]
    },
    {
      "cell_type": "markdown",
      "metadata": {
        "id": "9516XcfA7tBQ"
      },
      "source": [
        "# Part#2 - Transfer learning using mobile net:"
      ]
    },
    {
      "cell_type": "code",
      "execution_count": 52,
      "metadata": {
        "id": "apa5K_1GoX9M"
      },
      "outputs": [],
      "source": [
        "import tensorflow as tf\n",
        "from glob import glob"
      ]
    },
    {
      "cell_type": "code",
      "execution_count": 53,
      "metadata": {
        "id": "dwQaMUAf7zyR"
      },
      "outputs": [],
      "source": [
        "# Set the training path and validation path\n",
        "\n",
        "train_path = 'data_Lungs/train/'\n",
        "validation_path = 'data_Lungs/test/'"
      ]
    },
    {
      "cell_type": "code",
      "execution_count": 54,
      "metadata": {
        "id": "pPWIoo9g8L0X"
      },
      "outputs": [],
      "source": [
        "#Initialize Glob to interact with storage\n",
        "\n",
        "image_files = glob(train_path +'/*/*.jp*g')\n",
        "valid_image_files = glob(validation_path +'/*/*.jp*g')"
      ]
    },
    {
      "cell_type": "code",
      "execution_count": 55,
      "metadata": {
        "id": "8PXhYJlD8Qnq"
      },
      "outputs": [],
      "source": [
        "#Step1: Create ImageGenerator object (Use Algo's preprocessing function)\n",
        "\n",
        "gen = tf.keras.preprocessing.image.ImageDataGenerator(preprocessing_function=tf.keras.applications.mobilenet.preprocess_input,\n",
        "                                                      rotation_range=20,\n",
        "                                                      shear_range=0.1,\n",
        "                                                      zoom_range=0.2,\n",
        "                                                      horizontal_flip=True,\n",
        "                                                      vertical_flip=True)\n",
        "\n",
        "gen2 = tf.keras.preprocessing.image.ImageDataGenerator(preprocessing_function=tf.keras.applications.mobilenet.preprocess_input)"
      ]
    },
    {
      "cell_type": "code",
      "execution_count": 56,
      "metadata": {
        "colab": {
          "base_uri": "https://localhost:8080/"
        },
        "id": "Sq4-b1aS8ZEl",
        "outputId": "6a70a945-119f-4a23-e03e-037c00991823"
      },
      "outputs": [
        {
          "output_type": "stream",
          "name": "stdout",
          "text": [
            "Found 251 images belonging to 3 classes.\n",
            "Found 66 images belonging to 3 classes.\n"
          ]
        }
      ],
      "source": [
        "#Step2: Create Train and Valid Obj\n",
        "\n",
        "train_generator = gen.flow_from_directory(train_path,\n",
        "                                          target_size=[48,48],\n",
        "                                          class_mode='categorical',\n",
        "                                          batch_size=16)\n",
        "\n",
        "valid_generator = gen2.flow_from_directory(validation_path,\n",
        "                                          target_size=[48,48],\n",
        "                                          class_mode='categorical',\n",
        "                                          batch_size=16)"
      ]
    },
    {
      "cell_type": "code",
      "execution_count": 57,
      "metadata": {
        "colab": {
          "base_uri": "https://localhost:8080/"
        },
        "id": "NNW4rAbQ8b4h",
        "outputId": "0dc44afc-95c2-4dfa-ec27-b958d8437600"
      },
      "outputs": [
        {
          "output_type": "stream",
          "name": "stdout",
          "text": [
            "WARNING:tensorflow:`input_shape` is undefined or non-square, or `rows` is not in [128, 160, 192, 224]. Weights for input shape (224, 224) will be loaded as the default.\n"
          ]
        }
      ],
      "source": [
        "#Step3: Load the model with Training Enabled ! ---> \n",
        "# include_top = False will remove FC layer from existing arch\n",
        "\n",
        "\n",
        "mobnet = tf.keras.applications.mobilenet.MobileNet(input_shape=[48,48,3],\n",
        "                                        weights=\"imagenet\",\n",
        "                                        include_top=False)\n",
        "\n",
        "#Following Method 1, that will lock weights of CNN layer\n",
        "\n",
        "for layer in mobnet.layers:\n",
        "  layer.trainable=False #If Approach 1--- True else False"
      ]
    },
    {
      "cell_type": "code",
      "execution_count": 58,
      "metadata": {
        "id": "z6L5B3tP8eU1"
      },
      "outputs": [],
      "source": [
        "#Step4: Create FC layer\n",
        "\n",
        "#Flatten\n",
        "\n",
        "flatten = tf.keras.layers.Flatten()\n",
        "\n",
        "# You can create your hidden layers here\n",
        "#hLayer1 = tf.keras.layers.Dense(4000,activation=\"relu\")\n",
        "#hLayer2 = tf.keras.layers.Dense(4000,activation=\"relu\")\n",
        "#hLayer3 = tf.keras.layers.Dense(4000,activation=\"relu\")\n",
        "\n",
        "# Output Layer\n",
        "\n",
        "\n",
        "finalLayer = tf.keras.layers.Dense(3,activation=\"softmax\")"
      ]
    },
    {
      "cell_type": "code",
      "execution_count": 59,
      "metadata": {
        "colab": {
          "base_uri": "https://localhost:8080/"
        },
        "id": "Zcfii1UM8gW9",
        "outputId": "2b2c7165-a56d-4642-dd98-18b0af47be57"
      },
      "outputs": [
        {
          "output_type": "stream",
          "name": "stdout",
          "text": [
            "Model: \"sequential_1\"\n",
            "_________________________________________________________________\n",
            " Layer (type)                Output Shape              Param #   \n",
            "=================================================================\n",
            " mobilenet_1.00_224 (Functio  (None, 1, 1, 1024)       3228864   \n",
            " nal)                                                            \n",
            "                                                                 \n",
            " flatten_1 (Flatten)         (None, 1024)              0         \n",
            "                                                                 \n",
            " dense_4 (Dense)             (None, 3)                 3075      \n",
            "                                                                 \n",
            "=================================================================\n",
            "Total params: 3,231,939\n",
            "Trainable params: 3,075\n",
            "Non-trainable params: 3,228,864\n",
            "_________________________________________________________________\n"
          ]
        }
      ],
      "source": [
        "#Create Final Model\n",
        "\n",
        "model = tf.keras.models.Sequential([\n",
        "                                    mobnet,\n",
        "                                    flatten,\n",
        "                                    finalLayer\n",
        "])\n",
        "model.summary()"
      ]
    },
    {
      "cell_type": "code",
      "execution_count": 60,
      "metadata": {
        "colab": {
          "base_uri": "https://localhost:8080/"
        },
        "id": "E2GSp95D8iyE",
        "outputId": "7b598109-dae2-4202-dca2-d55cfdc81b7d"
      },
      "outputs": [
        {
          "output_type": "stream",
          "name": "stdout",
          "text": [
            "Model: \"mobilenet_1.00_224\"\n",
            "_________________________________________________________________\n",
            " Layer (type)                Output Shape              Param #   \n",
            "=================================================================\n",
            " input_1 (InputLayer)        [(None, 48, 48, 3)]       0         \n",
            "                                                                 \n",
            " conv1 (Conv2D)              (None, 24, 24, 32)        864       \n",
            "                                                                 \n",
            " conv1_bn (BatchNormalizatio  (None, 24, 24, 32)       128       \n",
            " n)                                                              \n",
            "                                                                 \n",
            " conv1_relu (ReLU)           (None, 24, 24, 32)        0         \n",
            "                                                                 \n",
            " conv_dw_1 (DepthwiseConv2D)  (None, 24, 24, 32)       288       \n",
            "                                                                 \n",
            " conv_dw_1_bn (BatchNormaliz  (None, 24, 24, 32)       128       \n",
            " ation)                                                          \n",
            "                                                                 \n",
            " conv_dw_1_relu (ReLU)       (None, 24, 24, 32)        0         \n",
            "                                                                 \n",
            " conv_pw_1 (Conv2D)          (None, 24, 24, 64)        2048      \n",
            "                                                                 \n",
            " conv_pw_1_bn (BatchNormaliz  (None, 24, 24, 64)       256       \n",
            " ation)                                                          \n",
            "                                                                 \n",
            " conv_pw_1_relu (ReLU)       (None, 24, 24, 64)        0         \n",
            "                                                                 \n",
            " conv_pad_2 (ZeroPadding2D)  (None, 25, 25, 64)        0         \n",
            "                                                                 \n",
            " conv_dw_2 (DepthwiseConv2D)  (None, 12, 12, 64)       576       \n",
            "                                                                 \n",
            " conv_dw_2_bn (BatchNormaliz  (None, 12, 12, 64)       256       \n",
            " ation)                                                          \n",
            "                                                                 \n",
            " conv_dw_2_relu (ReLU)       (None, 12, 12, 64)        0         \n",
            "                                                                 \n",
            " conv_pw_2 (Conv2D)          (None, 12, 12, 128)       8192      \n",
            "                                                                 \n",
            " conv_pw_2_bn (BatchNormaliz  (None, 12, 12, 128)      512       \n",
            " ation)                                                          \n",
            "                                                                 \n",
            " conv_pw_2_relu (ReLU)       (None, 12, 12, 128)       0         \n",
            "                                                                 \n",
            " conv_dw_3 (DepthwiseConv2D)  (None, 12, 12, 128)      1152      \n",
            "                                                                 \n",
            " conv_dw_3_bn (BatchNormaliz  (None, 12, 12, 128)      512       \n",
            " ation)                                                          \n",
            "                                                                 \n",
            " conv_dw_3_relu (ReLU)       (None, 12, 12, 128)       0         \n",
            "                                                                 \n",
            " conv_pw_3 (Conv2D)          (None, 12, 12, 128)       16384     \n",
            "                                                                 \n",
            " conv_pw_3_bn (BatchNormaliz  (None, 12, 12, 128)      512       \n",
            " ation)                                                          \n",
            "                                                                 \n",
            " conv_pw_3_relu (ReLU)       (None, 12, 12, 128)       0         \n",
            "                                                                 \n",
            " conv_pad_4 (ZeroPadding2D)  (None, 13, 13, 128)       0         \n",
            "                                                                 \n",
            " conv_dw_4 (DepthwiseConv2D)  (None, 6, 6, 128)        1152      \n",
            "                                                                 \n",
            " conv_dw_4_bn (BatchNormaliz  (None, 6, 6, 128)        512       \n",
            " ation)                                                          \n",
            "                                                                 \n",
            " conv_dw_4_relu (ReLU)       (None, 6, 6, 128)         0         \n",
            "                                                                 \n",
            " conv_pw_4 (Conv2D)          (None, 6, 6, 256)         32768     \n",
            "                                                                 \n",
            " conv_pw_4_bn (BatchNormaliz  (None, 6, 6, 256)        1024      \n",
            " ation)                                                          \n",
            "                                                                 \n",
            " conv_pw_4_relu (ReLU)       (None, 6, 6, 256)         0         \n",
            "                                                                 \n",
            " conv_dw_5 (DepthwiseConv2D)  (None, 6, 6, 256)        2304      \n",
            "                                                                 \n",
            " conv_dw_5_bn (BatchNormaliz  (None, 6, 6, 256)        1024      \n",
            " ation)                                                          \n",
            "                                                                 \n",
            " conv_dw_5_relu (ReLU)       (None, 6, 6, 256)         0         \n",
            "                                                                 \n",
            " conv_pw_5 (Conv2D)          (None, 6, 6, 256)         65536     \n",
            "                                                                 \n",
            " conv_pw_5_bn (BatchNormaliz  (None, 6, 6, 256)        1024      \n",
            " ation)                                                          \n",
            "                                                                 \n",
            " conv_pw_5_relu (ReLU)       (None, 6, 6, 256)         0         \n",
            "                                                                 \n",
            " conv_pad_6 (ZeroPadding2D)  (None, 7, 7, 256)         0         \n",
            "                                                                 \n",
            " conv_dw_6 (DepthwiseConv2D)  (None, 3, 3, 256)        2304      \n",
            "                                                                 \n",
            " conv_dw_6_bn (BatchNormaliz  (None, 3, 3, 256)        1024      \n",
            " ation)                                                          \n",
            "                                                                 \n",
            " conv_dw_6_relu (ReLU)       (None, 3, 3, 256)         0         \n",
            "                                                                 \n",
            " conv_pw_6 (Conv2D)          (None, 3, 3, 512)         131072    \n",
            "                                                                 \n",
            " conv_pw_6_bn (BatchNormaliz  (None, 3, 3, 512)        2048      \n",
            " ation)                                                          \n",
            "                                                                 \n",
            " conv_pw_6_relu (ReLU)       (None, 3, 3, 512)         0         \n",
            "                                                                 \n",
            " conv_dw_7 (DepthwiseConv2D)  (None, 3, 3, 512)        4608      \n",
            "                                                                 \n",
            " conv_dw_7_bn (BatchNormaliz  (None, 3, 3, 512)        2048      \n",
            " ation)                                                          \n",
            "                                                                 \n",
            " conv_dw_7_relu (ReLU)       (None, 3, 3, 512)         0         \n",
            "                                                                 \n",
            " conv_pw_7 (Conv2D)          (None, 3, 3, 512)         262144    \n",
            "                                                                 \n",
            " conv_pw_7_bn (BatchNormaliz  (None, 3, 3, 512)        2048      \n",
            " ation)                                                          \n",
            "                                                                 \n",
            " conv_pw_7_relu (ReLU)       (None, 3, 3, 512)         0         \n",
            "                                                                 \n",
            " conv_dw_8 (DepthwiseConv2D)  (None, 3, 3, 512)        4608      \n",
            "                                                                 \n",
            " conv_dw_8_bn (BatchNormaliz  (None, 3, 3, 512)        2048      \n",
            " ation)                                                          \n",
            "                                                                 \n",
            " conv_dw_8_relu (ReLU)       (None, 3, 3, 512)         0         \n",
            "                                                                 \n",
            " conv_pw_8 (Conv2D)          (None, 3, 3, 512)         262144    \n",
            "                                                                 \n",
            " conv_pw_8_bn (BatchNormaliz  (None, 3, 3, 512)        2048      \n",
            " ation)                                                          \n",
            "                                                                 \n",
            " conv_pw_8_relu (ReLU)       (None, 3, 3, 512)         0         \n",
            "                                                                 \n",
            " conv_dw_9 (DepthwiseConv2D)  (None, 3, 3, 512)        4608      \n",
            "                                                                 \n",
            " conv_dw_9_bn (BatchNormaliz  (None, 3, 3, 512)        2048      \n",
            " ation)                                                          \n",
            "                                                                 \n",
            " conv_dw_9_relu (ReLU)       (None, 3, 3, 512)         0         \n",
            "                                                                 \n",
            " conv_pw_9 (Conv2D)          (None, 3, 3, 512)         262144    \n",
            "                                                                 \n",
            " conv_pw_9_bn (BatchNormaliz  (None, 3, 3, 512)        2048      \n",
            " ation)                                                          \n",
            "                                                                 \n",
            " conv_pw_9_relu (ReLU)       (None, 3, 3, 512)         0         \n",
            "                                                                 \n",
            " conv_dw_10 (DepthwiseConv2D  (None, 3, 3, 512)        4608      \n",
            " )                                                               \n",
            "                                                                 \n",
            " conv_dw_10_bn (BatchNormali  (None, 3, 3, 512)        2048      \n",
            " zation)                                                         \n",
            "                                                                 \n",
            " conv_dw_10_relu (ReLU)      (None, 3, 3, 512)         0         \n",
            "                                                                 \n",
            " conv_pw_10 (Conv2D)         (None, 3, 3, 512)         262144    \n",
            "                                                                 \n",
            " conv_pw_10_bn (BatchNormali  (None, 3, 3, 512)        2048      \n",
            " zation)                                                         \n",
            "                                                                 \n",
            " conv_pw_10_relu (ReLU)      (None, 3, 3, 512)         0         \n",
            "                                                                 \n",
            " conv_dw_11 (DepthwiseConv2D  (None, 3, 3, 512)        4608      \n",
            " )                                                               \n",
            "                                                                 \n",
            " conv_dw_11_bn (BatchNormali  (None, 3, 3, 512)        2048      \n",
            " zation)                                                         \n",
            "                                                                 \n",
            " conv_dw_11_relu (ReLU)      (None, 3, 3, 512)         0         \n",
            "                                                                 \n",
            " conv_pw_11 (Conv2D)         (None, 3, 3, 512)         262144    \n",
            "                                                                 \n",
            " conv_pw_11_bn (BatchNormali  (None, 3, 3, 512)        2048      \n",
            " zation)                                                         \n",
            "                                                                 \n",
            " conv_pw_11_relu (ReLU)      (None, 3, 3, 512)         0         \n",
            "                                                                 \n",
            " conv_pad_12 (ZeroPadding2D)  (None, 4, 4, 512)        0         \n",
            "                                                                 \n",
            " conv_dw_12 (DepthwiseConv2D  (None, 1, 1, 512)        4608      \n",
            " )                                                               \n",
            "                                                                 \n",
            " conv_dw_12_bn (BatchNormali  (None, 1, 1, 512)        2048      \n",
            " zation)                                                         \n",
            "                                                                 \n",
            " conv_dw_12_relu (ReLU)      (None, 1, 1, 512)         0         \n",
            "                                                                 \n",
            " conv_pw_12 (Conv2D)         (None, 1, 1, 1024)        524288    \n",
            "                                                                 \n",
            " conv_pw_12_bn (BatchNormali  (None, 1, 1, 1024)       4096      \n",
            " zation)                                                         \n",
            "                                                                 \n",
            " conv_pw_12_relu (ReLU)      (None, 1, 1, 1024)        0         \n",
            "                                                                 \n",
            " conv_dw_13 (DepthwiseConv2D  (None, 1, 1, 1024)       9216      \n",
            " )                                                               \n",
            "                                                                 \n",
            " conv_dw_13_bn (BatchNormali  (None, 1, 1, 1024)       4096      \n",
            " zation)                                                         \n",
            "                                                                 \n",
            " conv_dw_13_relu (ReLU)      (None, 1, 1, 1024)        0         \n",
            "                                                                 \n",
            " conv_pw_13 (Conv2D)         (None, 1, 1, 1024)        1048576   \n",
            "                                                                 \n",
            " conv_pw_13_bn (BatchNormali  (None, 1, 1, 1024)       4096      \n",
            " zation)                                                         \n",
            "                                                                 \n",
            " conv_pw_13_relu (ReLU)      (None, 1, 1, 1024)        0         \n",
            "                                                                 \n",
            "=================================================================\n",
            "Total params: 3,228,864\n",
            "Trainable params: 0\n",
            "Non-trainable params: 3,228,864\n",
            "_________________________________________________________________\n"
          ]
        }
      ],
      "source": [
        "mobnet.summary()"
      ]
    },
    {
      "cell_type": "code",
      "execution_count": 61,
      "metadata": {
        "id": "RCsJGGCf8rj0"
      },
      "outputs": [],
      "source": [
        "#Compile\n",
        "\n",
        "model.compile(optimizer=\"rmsprop\",\n",
        "              loss=\"categorical_crossentropy\", #For multi-class classification: categorical_crossentropy | sparse_categorical_crossentropy\n",
        "              metrics=[\n",
        "                       tf.keras.metrics.CategoricalAccuracy(name='accuracy'),\n",
        "                       tf.keras.metrics.AUC(name='auc'), \n",
        "                       tf.keras.metrics.Precision(name='precision'),\n",
        "                       tf.keras.metrics.Recall(name='recall'),\n",
        "                      ])"
      ]
    },
    {
      "cell_type": "code",
      "execution_count": 62,
      "metadata": {
        "id": "HrP3V3v-8snX"
      },
      "outputs": [],
      "source": [
        "# Callbacks Convergence Criteria:\n",
        "# 1. Model must be a generalized model ( testScore > trainScore )\n",
        "# 2. Model's Test Score >= CL\n",
        "# Custom Callback which satisfies the above two criteria :)\n",
        "\n",
        "class MyQualityThreshold(tf.keras.callbacks.Callback):\n",
        "  def __init__(self,cl):\n",
        "    super(MyQualityThreshold, self).__init__()\n",
        "    self.cl = cl\n",
        "  \n",
        "  def on_epoch_end(self,epoch,logs=None):\n",
        "    testScore = logs['val_accuracy']\n",
        "    trainScore = logs['accuracy']\n",
        "    #epoch=logs['']\n",
        "\n",
        "    if (testScore > trainScore or testScore >= self.cl) and epoch > 2:\n",
        "      self.model.stop_training=True"
      ]
    },
    {
      "cell_type": "code",
      "execution_count": 63,
      "metadata": {
        "colab": {
          "base_uri": "https://localhost:8080/"
        },
        "id": "buAZA3Vm855D",
        "outputId": "5436a80d-46bf-4c33-debb-789689656c63"
      },
      "outputs": [
        {
          "output_type": "stream",
          "name": "stdout",
          "text": [
            "Epoch 1/10\n",
            "15/15 [==============================] - 16s 939ms/step - loss: 1.0736 - accuracy: 0.4596 - auc: 0.5948 - precision: 0.0000e+00 - recall: 0.0000e+00 - val_loss: 1.1020 - val_accuracy: 0.3906 - val_auc: 0.5253 - val_precision: 0.0000e+00 - val_recall: 0.0000e+00\n",
            "Epoch 2/10\n",
            "15/15 [==============================] - 13s 856ms/step - loss: 1.0693 - accuracy: 0.4468 - auc: 0.6060 - precision: 0.0000e+00 - recall: 0.0000e+00 - val_loss: 1.0885 - val_accuracy: 0.4062 - val_auc: 0.5583 - val_precision: 0.0000e+00 - val_recall: 0.0000e+00\n",
            "Epoch 3/10\n",
            "15/15 [==============================] - 13s 836ms/step - loss: 1.0557 - accuracy: 0.4638 - auc: 0.6456 - precision: 0.0000e+00 - recall: 0.0000e+00 - val_loss: 1.0832 - val_accuracy: 0.4375 - val_auc: 0.5692 - val_precision: 0.0000e+00 - val_recall: 0.0000e+00\n",
            "Epoch 4/10\n",
            "15/15 [==============================] - 13s 849ms/step - loss: 1.0574 - accuracy: 0.4553 - auc: 0.6434 - precision: 0.0000e+00 - recall: 0.0000e+00 - val_loss: 1.0802 - val_accuracy: 0.4375 - val_auc: 0.5675 - val_precision: 0.0000e+00 - val_recall: 0.0000e+00\n",
            "Epoch 5/10\n",
            "15/15 [==============================] - 13s 865ms/step - loss: 1.0568 - accuracy: 0.4553 - auc: 0.6511 - precision: 0.0000e+00 - recall: 0.0000e+00 - val_loss: 1.0776 - val_accuracy: 0.4375 - val_auc: 0.5753 - val_precision: 0.0000e+00 - val_recall: 0.0000e+00\n",
            "Epoch 6/10\n",
            "15/15 [==============================] - 13s 860ms/step - loss: 1.0649 - accuracy: 0.4511 - auc: 0.6285 - precision: 0.0000e+00 - recall: 0.0000e+00 - val_loss: 1.0858 - val_accuracy: 0.4219 - val_auc: 0.5575 - val_precision: 0.0000e+00 - val_recall: 0.0000e+00\n",
            "Epoch 7/10\n",
            "15/15 [==============================] - 18s 1s/step - loss: 1.0503 - accuracy: 0.4681 - auc: 0.6725 - precision: 0.0000e+00 - recall: 0.0000e+00 - val_loss: 1.0733 - val_accuracy: 0.4531 - val_auc: 0.5823 - val_precision: 0.0000e+00 - val_recall: 0.0000e+00\n",
            "Epoch 8/10\n",
            "15/15 [==============================] - 13s 853ms/step - loss: 1.0456 - accuracy: 0.4723 - auc: 0.6746 - precision: 1.0000 - recall: 0.0043 - val_loss: 1.0821 - val_accuracy: 0.4062 - val_auc: 0.5640 - val_precision: 1.0000 - val_recall: 0.0156\n",
            "Epoch 9/10\n",
            "15/15 [==============================] - 13s 856ms/step - loss: 1.0407 - accuracy: 0.4766 - auc: 0.6796 - precision: 1.0000 - recall: 0.0043 - val_loss: 1.0688 - val_accuracy: 0.4375 - val_auc: 0.5905 - val_precision: 1.0000 - val_recall: 0.0156\n",
            "Epoch 10/10\n",
            "15/15 [==============================] - 13s 850ms/step - loss: 1.0455 - accuracy: 0.4809 - auc: 0.6559 - precision: 1.0000 - recall: 0.0170 - val_loss: 1.0687 - val_accuracy: 0.4375 - val_auc: 0.5959 - val_precision: 1.0000 - val_recall: 0.0156\n"
          ]
        }
      ],
      "source": [
        "#Fit Model \n",
        "batch_size=16\n",
        "history = model.fit(train_generator,\n",
        "                    validation_data=valid_generator,\n",
        "                    epochs=10,\n",
        "                    steps_per_epoch=len(train_generator.filenames) // batch_size,\n",
        "                    validation_steps=len(valid_generator.filenames) // batch_size,\n",
        "                    callbacks=[MyQualityThreshold(0.9)])"
      ]
    },
    {
      "cell_type": "code",
      "execution_count": 64,
      "metadata": {
        "colab": {
          "base_uri": "https://localhost:8080/",
          "height": 295
        },
        "id": "tPKhimRptl5c",
        "outputId": "adc099c8-e9cc-43a7-eaa4-2c8c1d9bc4b5"
      },
      "outputs": [
        {
          "output_type": "display_data",
          "data": {
            "text/plain": [
              "<Figure size 432x288 with 1 Axes>"
            ],
            "image/png": "[encoded data removed]"
          },
          "metadata": {
            "needs_background": "light"
          }
        }
      ],
      "source": [
        "import keras\n",
        "from matplotlib import pyplot as plt\n",
        "plt.plot(history.history['accuracy'])\n",
        "plt.plot(history.history['val_accuracy'])\n",
        "plt.title('Mobilenet model accuracy')\n",
        "plt.ylabel('accuracy')\n",
        "plt.xlabel('epoch')\n",
        "plt.legend(['train', 'val'], loc='upper left')\n",
        "plt.show()"
      ]
    },
    {
      "cell_type": "code",
      "execution_count": 65,
      "metadata": {
        "colab": {
          "base_uri": "https://localhost:8080/",
          "height": 295
        },
        "id": "M1jdP0XuttbR",
        "outputId": "44f57ff6-6bf3-4255-bc51-6f159ab09a20"
      },
      "outputs": [
        {
          "output_type": "display_data",
          "data": {
            "text/plain": [
              "<Figure size 432x288 with 1 Axes>"
            ],
            "image/png": "[encoded data removed]"
          },
          "metadata": {
            "needs_background": "light"
          }
        }
      ],
      "source": [
        "plt.plot(history.history['loss'])\n",
        "plt.plot(history.history['val_loss'])\n",
        "plt.title('Mobilenet model loss')\n",
        "plt.ylabel('loss')\n",
        "plt.xlabel('epoch')\n",
        "plt.legend(['train', 'val'], loc='upper left')\n",
        "plt.show()"
      ]
    },
    {
      "cell_type": "code",
      "execution_count": 66,
      "metadata": {
        "colab": {
          "base_uri": "https://localhost:8080/",
          "height": 295
        },
        "id": "lwWHHqZp4YpT",
        "outputId": "8d7900f2-0a69-4274-a461-16fca66a442c"
      },
      "outputs": [
        {
          "output_type": "display_data",
          "data": {
            "text/plain": [
              "<Figure size 432x288 with 1 Axes>"
            ],
            "image/png": "[encoded data removed]"
          },
          "metadata": {
            "needs_background": "light"
          }
        }
      ],
      "source": [
        "plt.plot(history.history['precision'])\n",
        "plt.plot(history.history['val_precision'])\n",
        "plt.title('Mobilenet model precision')\n",
        "plt.ylabel('precision')\n",
        "plt.xlabel('epoch')\n",
        "plt.legend(['train', 'val'], loc='upper left')\n",
        "plt.show()"
      ]
    },
    {
      "cell_type": "code",
      "execution_count": 67,
      "metadata": {
        "colab": {
          "base_uri": "https://localhost:8080/",
          "height": 295
        },
        "id": "BKFbJQ-_4ZvT",
        "outputId": "e1cc73e7-785a-46ea-8272-b8f4a1d51a8f"
      },
      "outputs": [
        {
          "output_type": "display_data",
          "data": {
            "text/plain": [
              "<Figure size 432x288 with 1 Axes>"
            ],
            "image/png": "[encoded data removed]"
          },
          "metadata": {
            "needs_background": "light"
          }
        }
      ],
      "source": [
        "plt.plot(history.history['recall'])\n",
        "plt.plot(history.history['val_recall'])\n",
        "plt.title('Mobilenet model recall')\n",
        "plt.ylabel('recall')\n",
        "plt.xlabel('epoch')\n",
        "plt.legend(['train', 'val'], loc='upper left')\n",
        "plt.show()"
      ]
    },
    {
      "cell_type": "code",
      "execution_count": 68,
      "metadata": {
        "colab": {
          "base_uri": "https://localhost:8080/",
          "height": 295
        },
        "id": "Nmz2E0tE4gSx",
        "outputId": "6cfacf04-52b4-411a-88e4-93b5101680f9"
      },
      "outputs": [
        {
          "output_type": "display_data",
          "data": {
            "text/plain": [
              "<Figure size 432x288 with 1 Axes>"
            ],
            "image/png": "[encoded data removed]"
          },
          "metadata": {
            "needs_background": "light"
          }
        }
      ],
      "source": [
        "plt.plot(history.history['auc'])\n",
        "plt.plot(history.history['val_auc'])\n",
        "plt.title('Mobilenet model auc')\n",
        "plt.ylabel('auc')\n",
        "plt.xlabel('epoch')\n",
        "plt.legend(['train', 'val'], loc='upper left')\n",
        "plt.show()"
      ]
    },
    {
      "cell_type": "code",
      "execution_count": 69,
      "metadata": {
        "colab": {
          "base_uri": "https://localhost:8080/"
        },
        "id": "fAxXBqyC89ck",
        "outputId": "b4fc51f0-ff40-490b-a54e-138f17f13e01"
      },
      "outputs": [
        {
          "output_type": "stream",
          "name": "stderr",
          "text": [
            "WARNING:absl:Function `_wrapped_model` contains input name(s) mobilenet_1.00_224_input with unsupported characters which will be renamed to mobilenet_1_00_224_input in the SavedModel.\n"
          ]
        },
        {
          "output_type": "stream",
          "name": "stdout",
          "text": [
            "INFO:tensorflow:Assets written to: LungsDetectorMobileNet/assets\n"
          ]
        },
        {
          "output_type": "stream",
          "name": "stderr",
          "text": [
            "INFO:tensorflow:Assets written to: LungsDetectorMobileNet/assets\n"
          ]
        }
      ],
      "source": [
        "#Saving Model\n",
        "model.save(\"LungsDetectorMobileNet\")"
      ]
    },
    {
      "cell_type": "code",
      "execution_count": 70,
      "metadata": {
        "colab": {
          "base_uri": "https://localhost:8080/",
          "height": 284
        },
        "id": "Z2ALpfTI9C3u",
        "outputId": "3b10a125-46a6-4faf-96bc-80097f40e1d9"
      },
      "outputs": [
        {
          "output_type": "execute_result",
          "data": {
            "text/plain": [
              "<matplotlib.image.AxesImage at 0x7fe94c59ca50>"
            ]
          },
          "metadata": {},
          "execution_count": 70
        },
        {
          "output_type": "display_data",
          "data": {
            "text/plain": [
              "<Figure size 432x288 with 1 Axes>"
            ],
            "image/png": "[encoded data removed]"
          },
          "metadata": {
            "needs_background": "light"
          }
        }
      ],
      "source": [
        "#Step1 - Load an Image\n",
        "import matplotlib.pyplot as plt\n",
        "import numpy as np\n",
        "%matplotlib inline\n",
        "\n",
        "imageToPredict = tf.keras.preprocessing.image.load_img('COVID-00012.jpg', target_size=(48, 48))\n",
        "plt.imshow(imageToPredict)"
      ]
    },
    {
      "cell_type": "code",
      "execution_count": 71,
      "metadata": {
        "colab": {
          "base_uri": "https://localhost:8080/"
        },
        "id": "zxlcJ-eR9N_W",
        "outputId": "b1bcb362-57ce-4e22-e4e2-61af5b87768c"
      },
      "outputs": [
        {
          "output_type": "execute_result",
          "data": {
            "text/plain": [
              "(48, 48, 3)"
            ]
          },
          "metadata": {},
          "execution_count": 71
        }
      ],
      "source": [
        "#Step2: Convert image to np array \n",
        "myImageNPArray = tf.keras.preprocessing.image.img_to_array(imageToPredict)\n",
        "myImageNPArray.shape"
      ]
    },
    {
      "cell_type": "code",
      "execution_count": 72,
      "metadata": {
        "colab": {
          "base_uri": "https://localhost:8080/"
        },
        "id": "TnyjQ4iP9QL4",
        "outputId": "1feff244-7727-44bc-8a36-cd8116fa80e3"
      },
      "outputs": [
        {
          "output_type": "execute_result",
          "data": {
            "text/plain": [
              "(1, 48, 48, 3)"
            ]
          },
          "metadata": {},
          "execution_count": 72
        }
      ],
      "source": [
        "# Step3: Make the image compatible for the model by adding n\n",
        "myCompatibleImage = np.expand_dims(myImageNPArray, axis = 0)\n",
        "myCompatibleImage.shape"
      ]
    },
    {
      "cell_type": "code",
      "execution_count": 73,
      "metadata": {
        "colab": {
          "base_uri": "https://localhost:8080/"
        },
        "id": "ubn-BJQp9TIY",
        "outputId": "291f07dd-0222-4df6-9115-9c9160a5aaee"
      },
      "outputs": [
        {
          "output_type": "execute_result",
          "data": {
            "text/plain": [
              "array([[0.4488792 , 0.28195247, 0.2691684 ]], dtype=float32)"
            ]
          },
          "metadata": {},
          "execution_count": 73
        }
      ],
      "source": [
        "#Step4: Prediction\n",
        "prediction = model.predict(myCompatibleImage)\n",
        "prediction"
      ]
    },
    {
      "cell_type": "code",
      "execution_count": 74,
      "metadata": {
        "colab": {
          "base_uri": "https://localhost:8080/",
          "height": 37
        },
        "id": "n8_sPdIN9VJX",
        "outputId": "cc71756c-cb08-48b9-afe9-5749584165ba"
      },
      "outputs": [
        {
          "output_type": "execute_result",
          "data": {
            "text/plain": [
              "'Type 1 disease'"
            ],
            "application/vnd.google.colaboratory.intrinsic+json": {
              "type": "string"
            }
          },
          "metadata": {},
          "execution_count": 74
        }
      ],
      "source": [
        "list(train_generator.class_indices)[np.argmax(prediction)]"
      ]
    },
    {
      "cell_type": "markdown",
      "metadata": {
        "id": "uFBejMP5KgJR"
      },
      "source": [
        "**Inference:** Mobilenet Transfer Learning model also can predict the input test image as Type1 disease! \n",
        "- With lower batch sizes (< 16) there is convergence errors. With batch size ~32, it gives precision and recall = 0 both for train and test data. So, retained batch size of 16 for mobilenet learning modeling. "
      ]
    },
    {
      "cell_type": "markdown",
      "metadata": {
        "id": "E1oslM5CP_mn"
      },
      "source": [
        "# Part#3 - Transfer learning using Densenet:"
      ]
    },
    {
      "cell_type": "code",
      "execution_count": 75,
      "metadata": {
        "id": "JpfABsBte04D"
      },
      "outputs": [],
      "source": [
        "#Step1: Create ImageGenerator object (Use Algo's preprocessing function)\n",
        "\n",
        "gen = tf.keras.preprocessing.image.ImageDataGenerator(preprocessing_function=tf.keras.applications.densenet.preprocess_input,\n",
        "                                                      rotation_range=20,\n",
        "                                                      shear_range=0.1,\n",
        "                                                      zoom_range=0.2,\n",
        "                                                      horizontal_flip=True,\n",
        "                                                      vertical_flip=True)\n",
        "\n",
        "gen2 = tf.keras.preprocessing.image.ImageDataGenerator(preprocessing_function=tf.keras.applications.densenet.preprocess_input)"
      ]
    },
    {
      "cell_type": "code",
      "execution_count": 76,
      "metadata": {
        "colab": {
          "base_uri": "https://localhost:8080/"
        },
        "id": "YNT4MY6JfIxK",
        "outputId": "3dec9c28-061b-440a-9933-4c25c50a241f"
      },
      "outputs": [
        {
          "output_type": "stream",
          "name": "stdout",
          "text": [
            "Found 251 images belonging to 3 classes.\n",
            "Found 66 images belonging to 3 classes.\n"
          ]
        }
      ],
      "source": [
        "#Step2: Create Train and Valid Obj\n",
        "\n",
        "train_generator = gen.flow_from_directory(train_path,\n",
        "                                          target_size=[224,224],\n",
        "                                          class_mode='categorical',\n",
        "                                          batch_size=7)\n",
        "\n",
        "valid_generator = gen2.flow_from_directory(validation_path,\n",
        "                                          target_size=[224,224],\n",
        "                                          class_mode='categorical',\n",
        "                                          batch_size=7)"
      ]
    },
    {
      "cell_type": "code",
      "execution_count": 77,
      "metadata": {
        "id": "hDnojgF4jqLs"
      },
      "outputs": [],
      "source": [
        "#Step3: Load the model with Training Enabled ! ---> \n",
        "# include_top = False will remove FC layer from existing arch\n",
        "\n",
        "\n",
        "densnet = tf.keras.applications.densenet.DenseNet121(input_shape=[224,224,3],\n",
        "                                        weights=\"imagenet\",\n",
        "                                        include_top=False)\n",
        "\n",
        "#Following Method 1, that will lock weights of CNN layer\n",
        "\n",
        "for layer in densnet.layers:\n",
        "  layer.trainable=False #If Approach 1--- True else False"
      ]
    },
    {
      "cell_type": "code",
      "execution_count": 78,
      "metadata": {
        "id": "wmO02jhNjwrF"
      },
      "outputs": [],
      "source": [
        "#Step4: Create FC layer\n",
        "\n",
        "#Flatten\n",
        "\n",
        "flatten = tf.keras.layers.Flatten()\n",
        "\n",
        "# You can create your hidden layers here\n",
        "#hLayer1 = tf.keras.layers.Dense(4000,activation=\"relu\")\n",
        "#hLayer2 = tf.keras.layers.Dense(4000,activation=\"relu\")\n",
        "#hLayer3 = tf.keras.layers.Dense(4000,activation=\"relu\")\n",
        "\n",
        "# Output Layer\n",
        "\n",
        "\n",
        "finalLayer = tf.keras.layers.Dense(3,activation=\"softmax\")"
      ]
    },
    {
      "cell_type": "code",
      "execution_count": 79,
      "metadata": {
        "colab": {
          "base_uri": "https://localhost:8080/"
        },
        "id": "iVC8AbOkj2PK",
        "outputId": "34dc8766-9325-44ab-99a7-75d1cdcc7d7c"
      },
      "outputs": [
        {
          "output_type": "stream",
          "name": "stdout",
          "text": [
            "Model: \"sequential_2\"\n",
            "_________________________________________________________________\n",
            " Layer (type)                Output Shape              Param #   \n",
            "=================================================================\n",
            " densenet121 (Functional)    (None, 7, 7, 1024)        7037504   \n",
            "                                                                 \n",
            " flatten_2 (Flatten)         (None, 50176)             0         \n",
            "                                                                 \n",
            " dense_5 (Dense)             (None, 3)                 150531    \n",
            "                                                                 \n",
            "=================================================================\n",
            "Total params: 7,188,035\n",
            "Trainable params: 150,531\n",
            "Non-trainable params: 7,037,504\n",
            "_________________________________________________________________\n"
          ]
        }
      ],
      "source": [
        "#Create Final Model\n",
        "\n",
        "model = tf.keras.models.Sequential([\n",
        "                                    densnet,\n",
        "                                    flatten,\n",
        "                                    finalLayer\n",
        "])\n",
        "model.summary()"
      ]
    },
    {
      "cell_type": "code",
      "execution_count": 80,
      "metadata": {
        "colab": {
          "base_uri": "https://localhost:8080/"
        },
        "id": "-WlsLF41j_q2",
        "outputId": "c0d01645-3149-4a84-abfd-9e254c0bdd56"
      },
      "outputs": [
        {
          "output_type": "stream",
          "name": "stdout",
          "text": [
            "Model: \"densenet121\"\n",
            "__________________________________________________________________________________________________\n",
            " Layer (type)                   Output Shape         Param #     Connected to                     \n",
            "==================================================================================================\n",
            " input_2 (InputLayer)           [(None, 224, 224, 3  0           []                               \n",
            "                                )]                                                                \n",
            "                                                                                                  \n",
            " zero_padding2d (ZeroPadding2D)  (None, 230, 230, 3)  0          ['input_2[0][0]']                \n",
            "                                                                                                  \n",
            " conv1/conv (Conv2D)            (None, 112, 112, 64  9408        ['zero_padding2d[0][0]']         \n",
            "                                )                                                                 \n",
            "                                                                                                  \n",
            " conv1/bn (BatchNormalization)  (None, 112, 112, 64  256         ['conv1/conv[0][0]']             \n",
            "                                )                                                                 \n",
            "                                                                                                  \n",
            " conv1/relu (Activation)        (None, 112, 112, 64  0           ['conv1/bn[0][0]']               \n",
            "                                )                                                                 \n",
            "                                                                                                  \n",
            " zero_padding2d_1 (ZeroPadding2  (None, 114, 114, 64  0          ['conv1/relu[0][0]']             \n",
            " D)                             )                                                                 \n",
            "                                                                                                  \n",
            " pool1 (MaxPooling2D)           (None, 56, 56, 64)   0           ['zero_padding2d_1[0][0]']       \n",
            "                                                                                                  \n",
            " conv2_block1_0_bn (BatchNormal  (None, 56, 56, 64)  256         ['pool1[0][0]']                  \n",
            " ization)                                                                                         \n",
            "                                                                                                  \n",
            " conv2_block1_0_relu (Activatio  (None, 56, 56, 64)  0           ['conv2_block1_0_bn[0][0]']      \n",
            " n)                                                                                               \n",
            "                                                                                                  \n",
            " conv2_block1_1_conv (Conv2D)   (None, 56, 56, 128)  8192        ['conv2_block1_0_relu[0][0]']    \n",
            "                                                                                                  \n",
            " conv2_block1_1_bn (BatchNormal  (None, 56, 56, 128)  512        ['conv2_block1_1_conv[0][0]']    \n",
            " ization)                                                                                         \n",
            "                                                                                                  \n",
            " conv2_block1_1_relu (Activatio  (None, 56, 56, 128)  0          ['conv2_block1_1_bn[0][0]']      \n",
            " n)                                                                                               \n",
            "                                                                                                  \n",
            " conv2_block1_2_conv (Conv2D)   (None, 56, 56, 32)   36864       ['conv2_block1_1_relu[0][0]']    \n",
            "                                                                                                  \n",
            " conv2_block1_concat (Concatena  (None, 56, 56, 96)  0           ['pool1[0][0]',                  \n",
            " te)                                                              'conv2_block1_2_conv[0][0]']    \n",
            "                                                                                                  \n",
            " conv2_block2_0_bn (BatchNormal  (None, 56, 56, 96)  384         ['conv2_block1_concat[0][0]']    \n",
            " ization)                                                                                         \n",
            "                                                                                                  \n",
            " conv2_block2_0_relu (Activatio  (None, 56, 56, 96)  0           ['conv2_block2_0_bn[0][0]']      \n",
            " n)                                                                                               \n",
            "                                                                                                  \n",
            " conv2_block2_1_conv (Conv2D)   (None, 56, 56, 128)  12288       ['conv2_block2_0_relu[0][0]']    \n",
            "                                                                                                  \n",
            " conv2_block2_1_bn (BatchNormal  (None, 56, 56, 128)  512        ['conv2_block2_1_conv[0][0]']    \n",
            " ization)                                                                                         \n",
            "                                                                                                  \n",
            " conv2_block2_1_relu (Activatio  (None, 56, 56, 128)  0          ['conv2_block2_1_bn[0][0]']      \n",
            " n)                                                                                               \n",
            "                                                                                                  \n",
            " conv2_block2_2_conv (Conv2D)   (None, 56, 56, 32)   36864       ['conv2_block2_1_relu[0][0]']    \n",
            "                                                                                                  \n",
            " conv2_block2_concat (Concatena  (None, 56, 56, 128)  0          ['conv2_block1_concat[0][0]',    \n",
            " te)                                                              'conv2_block2_2_conv[0][0]']    \n",
            "                                                                                                  \n",
            " conv2_block3_0_bn (BatchNormal  (None, 56, 56, 128)  512        ['conv2_block2_concat[0][0]']    \n",
            " ization)                                                                                         \n",
            "                                                                                                  \n",
            " conv2_block3_0_relu (Activatio  (None, 56, 56, 128)  0          ['conv2_block3_0_bn[0][0]']      \n",
            " n)                                                                                               \n",
            "                                                                                                  \n",
            " conv2_block3_1_conv (Conv2D)   (None, 56, 56, 128)  16384       ['conv2_block3_0_relu[0][0]']    \n",
            "                                                                                                  \n",
            " conv2_block3_1_bn (BatchNormal  (None, 56, 56, 128)  512        ['conv2_block3_1_conv[0][0]']    \n",
            " ization)                                                                                         \n",
            "                                                                                                  \n",
            " conv2_block3_1_relu (Activatio  (None, 56, 56, 128)  0          ['conv2_block3_1_bn[0][0]']      \n",
            " n)                                                                                               \n",
            "                                                                                                  \n",
            " conv2_block3_2_conv (Conv2D)   (None, 56, 56, 32)   36864       ['conv2_block3_1_relu[0][0]']    \n",
            "                                                                                                  \n",
            " conv2_block3_concat (Concatena  (None, 56, 56, 160)  0          ['conv2_block2_concat[0][0]',    \n",
            " te)                                                              'conv2_block3_2_conv[0][0]']    \n",
            "                                                                                                  \n",
            " conv2_block4_0_bn (BatchNormal  (None, 56, 56, 160)  640        ['conv2_block3_concat[0][0]']    \n",
            " ization)                                                                                         \n",
            "                                                                                                  \n",
            " conv2_block4_0_relu (Activatio  (None, 56, 56, 160)  0          ['conv2_block4_0_bn[0][0]']      \n",
            " n)                                                                                               \n",
            "                                                                                                  \n",
            " conv2_block4_1_conv (Conv2D)   (None, 56, 56, 128)  20480       ['conv2_block4_0_relu[0][0]']    \n",
            "                                                                                                  \n",
            " conv2_block4_1_bn (BatchNormal  (None, 56, 56, 128)  512        ['conv2_block4_1_conv[0][0]']    \n",
            " ization)                                                                                         \n",
            "                                                                                                  \n",
            " conv2_block4_1_relu (Activatio  (None, 56, 56, 128)  0          ['conv2_block4_1_bn[0][0]']      \n",
            " n)                                                                                               \n",
            "                                                                                                  \n",
            " conv2_block4_2_conv (Conv2D)   (None, 56, 56, 32)   36864       ['conv2_block4_1_relu[0][0]']    \n",
            "                                                                                                  \n",
            " conv2_block4_concat (Concatena  (None, 56, 56, 192)  0          ['conv2_block3_concat[0][0]',    \n",
            " te)                                                              'conv2_block4_2_conv[0][0]']    \n",
            "                                                                                                  \n",
            " conv2_block5_0_bn (BatchNormal  (None, 56, 56, 192)  768        ['conv2_block4_concat[0][0]']    \n",
            " ization)                                                                                         \n",
            "                                                                                                  \n",
            " conv2_block5_0_relu (Activatio  (None, 56, 56, 192)  0          ['conv2_block5_0_bn[0][0]']      \n",
            " n)                                                                                               \n",
            "                                                                                                  \n",
            " conv2_block5_1_conv (Conv2D)   (None, 56, 56, 128)  24576       ['conv2_block5_0_relu[0][0]']    \n",
            "                                                                                                  \n",
            " conv2_block5_1_bn (BatchNormal  (None, 56, 56, 128)  512        ['conv2_block5_1_conv[0][0]']    \n",
            " ization)                                                                                         \n",
            "                                                                                                  \n",
            " conv2_block5_1_relu (Activatio  (None, 56, 56, 128)  0          ['conv2_block5_1_bn[0][0]']      \n",
            " n)                                                                                               \n",
            "                                                                                                  \n",
            " conv2_block5_2_conv (Conv2D)   (None, 56, 56, 32)   36864       ['conv2_block5_1_relu[0][0]']    \n",
            "                                                                                                  \n",
            " conv2_block5_concat (Concatena  (None, 56, 56, 224)  0          ['conv2_block4_concat[0][0]',    \n",
            " te)                                                              'conv2_block5_2_conv[0][0]']    \n",
            "                                                                                                  \n",
            " conv2_block6_0_bn (BatchNormal  (None, 56, 56, 224)  896        ['conv2_block5_concat[0][0]']    \n",
            " ization)                                                                                         \n",
            "                                                                                                  \n",
            " conv2_block6_0_relu (Activatio  (None, 56, 56, 224)  0          ['conv2_block6_0_bn[0][0]']      \n",
            " n)                                                                                               \n",
            "                                                                                                  \n",
            " conv2_block6_1_conv (Conv2D)   (None, 56, 56, 128)  28672       ['conv2_block6_0_relu[0][0]']    \n",
            "                                                                                                  \n",
            " conv2_block6_1_bn (BatchNormal  (None, 56, 56, 128)  512        ['conv2_block6_1_conv[0][0]']    \n",
            " ization)                                                                                         \n",
            "                                                                                                  \n",
            " conv2_block6_1_relu (Activatio  (None, 56, 56, 128)  0          ['conv2_block6_1_bn[0][0]']      \n",
            " n)                                                                                               \n",
            "                                                                                                  \n",
            " conv2_block6_2_conv (Conv2D)   (None, 56, 56, 32)   36864       ['conv2_block6_1_relu[0][0]']    \n",
            "                                                                                                  \n",
            " conv2_block6_concat (Concatena  (None, 56, 56, 256)  0          ['conv2_block5_concat[0][0]',    \n",
            " te)                                                              'conv2_block6_2_conv[0][0]']    \n",
            "                                                                                                  \n",
            " pool2_bn (BatchNormalization)  (None, 56, 56, 256)  1024        ['conv2_block6_concat[0][0]']    \n",
            "                                                                                                  \n",
            " pool2_relu (Activation)        (None, 56, 56, 256)  0           ['pool2_bn[0][0]']               \n",
            "                                                                                                  \n",
            " pool2_conv (Conv2D)            (None, 56, 56, 128)  32768       ['pool2_relu[0][0]']             \n",
            "                                                                                                  \n",
            " pool2_pool (AveragePooling2D)  (None, 28, 28, 128)  0           ['pool2_conv[0][0]']             \n",
            "                                                                                                  \n",
            " conv3_block1_0_bn (BatchNormal  (None, 28, 28, 128)  512        ['pool2_pool[0][0]']             \n",
            " ization)                                                                                         \n",
            "                                                                                                  \n",
            " conv3_block1_0_relu (Activatio  (None, 28, 28, 128)  0          ['conv3_block1_0_bn[0][0]']      \n",
            " n)                                                                                               \n",
            "                                                                                                  \n",
            " conv3_block1_1_conv (Conv2D)   (None, 28, 28, 128)  16384       ['conv3_block1_0_relu[0][0]']    \n",
            "                                                                                                  \n",
            " conv3_block1_1_bn (BatchNormal  (None, 28, 28, 128)  512        ['conv3_block1_1_conv[0][0]']    \n",
            " ization)                                                                                         \n",
            "                                                                                                  \n",
            " conv3_block1_1_relu (Activatio  (None, 28, 28, 128)  0          ['conv3_block1_1_bn[0][0]']      \n",
            " n)                                                                                               \n",
            "                                                                                                  \n",
            " conv3_block1_2_conv (Conv2D)   (None, 28, 28, 32)   36864       ['conv3_block1_1_relu[0][0]']    \n",
            "                                                                                                  \n",
            " conv3_block1_concat (Concatena  (None, 28, 28, 160)  0          ['pool2_pool[0][0]',             \n",
            " te)                                                              'conv3_block1_2_conv[0][0]']    \n",
            "                                                                                                  \n",
            " conv3_block2_0_bn (BatchNormal  (None, 28, 28, 160)  640        ['conv3_block1_concat[0][0]']    \n",
            " ization)                                                                                         \n",
            "                                                                                                  \n",
            " conv3_block2_0_relu (Activatio  (None, 28, 28, 160)  0          ['conv3_block2_0_bn[0][0]']      \n",
            " n)                                                                                               \n",
            "                                                                                                  \n",
            " conv3_block2_1_conv (Conv2D)   (None, 28, 28, 128)  20480       ['conv3_block2_0_relu[0][0]']    \n",
            "                                                                                                  \n",
            " conv3_block2_1_bn (BatchNormal  (None, 28, 28, 128)  512        ['conv3_block2_1_conv[0][0]']    \n",
            " ization)                                                                                         \n",
            "                                                                                                  \n",
            " conv3_block2_1_relu (Activatio  (None, 28, 28, 128)  0          ['conv3_block2_1_bn[0][0]']      \n",
            " n)                                                                                               \n",
            "                                                                                                  \n",
            " conv3_block2_2_conv (Conv2D)   (None, 28, 28, 32)   36864       ['conv3_block2_1_relu[0][0]']    \n",
            "                                                                                                  \n",
            " conv3_block2_concat (Concatena  (None, 28, 28, 192)  0          ['conv3_block1_concat[0][0]',    \n",
            " te)                                                              'conv3_block2_2_conv[0][0]']    \n",
            "                                                                                                  \n",
            " conv3_block3_0_bn (BatchNormal  (None, 28, 28, 192)  768        ['conv3_block2_concat[0][0]']    \n",
            " ization)                                                                                         \n",
            "                                                                                                  \n",
            " conv3_block3_0_relu (Activatio  (None, 28, 28, 192)  0          ['conv3_block3_0_bn[0][0]']      \n",
            " n)                                                                                               \n",
            "                                                                                                  \n",
            " conv3_block3_1_conv (Conv2D)   (None, 28, 28, 128)  24576       ['conv3_block3_0_relu[0][0]']    \n",
            "                                                                                                  \n",
            " conv3_block3_1_bn (BatchNormal  (None, 28, 28, 128)  512        ['conv3_block3_1_conv[0][0]']    \n",
            " ization)                                                                                         \n",
            "                                                                                                  \n",
            " conv3_block3_1_relu (Activatio  (None, 28, 28, 128)  0          ['conv3_block3_1_bn[0][0]']      \n",
            " n)                                                                                               \n",
            "                                                                                                  \n",
            " conv3_block3_2_conv (Conv2D)   (None, 28, 28, 32)   36864       ['conv3_block3_1_relu[0][0]']    \n",
            "                                                                                                  \n",
            " conv3_block3_concat (Concatena  (None, 28, 28, 224)  0          ['conv3_block2_concat[0][0]',    \n",
            " te)                                                              'conv3_block3_2_conv[0][0]']    \n",
            "                                                                                                  \n",
            " conv3_block4_0_bn (BatchNormal  (None, 28, 28, 224)  896        ['conv3_block3_concat[0][0]']    \n",
            " ization)                                                                                         \n",
            "                                                                                                  \n",
            " conv3_block4_0_relu (Activatio  (None, 28, 28, 224)  0          ['conv3_block4_0_bn[0][0]']      \n",
            " n)                                                                                               \n",
            "                                                                                                  \n",
            " conv3_block4_1_conv (Conv2D)   (None, 28, 28, 128)  28672       ['conv3_block4_0_relu[0][0]']    \n",
            "                                                                                                  \n",
            " conv3_block4_1_bn (BatchNormal  (None, 28, 28, 128)  512        ['conv3_block4_1_conv[0][0]']    \n",
            " ization)                                                                                         \n",
            "                                                                                                  \n",
            " conv3_block4_1_relu (Activatio  (None, 28, 28, 128)  0          ['conv3_block4_1_bn[0][0]']      \n",
            " n)                                                                                               \n",
            "                                                                                                  \n",
            " conv3_block4_2_conv (Conv2D)   (None, 28, 28, 32)   36864       ['conv3_block4_1_relu[0][0]']    \n",
            "                                                                                                  \n",
            " conv3_block4_concat (Concatena  (None, 28, 28, 256)  0          ['conv3_block3_concat[0][0]',    \n",
            " te)                                                              'conv3_block4_2_conv[0][0]']    \n",
            "                                                                                                  \n",
            " conv3_block5_0_bn (BatchNormal  (None, 28, 28, 256)  1024       ['conv3_block4_concat[0][0]']    \n",
            " ization)                                                                                         \n",
            "                                                                                                  \n",
            " conv3_block5_0_relu (Activatio  (None, 28, 28, 256)  0          ['conv3_block5_0_bn[0][0]']      \n",
            " n)                                                                                               \n",
            "                                                                                                  \n",
            " conv3_block5_1_conv (Conv2D)   (None, 28, 28, 128)  32768       ['conv3_block5_0_relu[0][0]']    \n",
            "                                                                                                  \n",
            " conv3_block5_1_bn (BatchNormal  (None, 28, 28, 128)  512        ['conv3_block5_1_conv[0][0]']    \n",
            " ization)                                                                                         \n",
            "                                                                                                  \n",
            " conv3_block5_1_relu (Activatio  (None, 28, 28, 128)  0          ['conv3_block5_1_bn[0][0]']      \n",
            " n)                                                                                               \n",
            "                                                                                                  \n",
            " conv3_block5_2_conv (Conv2D)   (None, 28, 28, 32)   36864       ['conv3_block5_1_relu[0][0]']    \n",
            "                                                                                                  \n",
            " conv3_block5_concat (Concatena  (None, 28, 28, 288)  0          ['conv3_block4_concat[0][0]',    \n",
            " te)                                                              'conv3_block5_2_conv[0][0]']    \n",
            "                                                                                                  \n",
            " conv3_block6_0_bn (BatchNormal  (None, 28, 28, 288)  1152       ['conv3_block5_concat[0][0]']    \n",
            " ization)                                                                                         \n",
            "                                                                                                  \n",
            " conv3_block6_0_relu (Activatio  (None, 28, 28, 288)  0          ['conv3_block6_0_bn[0][0]']      \n",
            " n)                                                                                               \n",
            "                                                                                                  \n",
            " conv3_block6_1_conv (Conv2D)   (None, 28, 28, 128)  36864       ['conv3_block6_0_relu[0][0]']    \n",
            "                                                                                                  \n",
            " conv3_block6_1_bn (BatchNormal  (None, 28, 28, 128)  512        ['conv3_block6_1_conv[0][0]']    \n",
            " ization)                                                                                         \n",
            "                                                                                                  \n",
            " conv3_block6_1_relu (Activatio  (None, 28, 28, 128)  0          ['conv3_block6_1_bn[0][0]']      \n",
            " n)                                                                                               \n",
            "                                                                                                  \n",
            " conv3_block6_2_conv (Conv2D)   (None, 28, 28, 32)   36864       ['conv3_block6_1_relu[0][0]']    \n",
            "                                                                                                  \n",
            " conv3_block6_concat (Concatena  (None, 28, 28, 320)  0          ['conv3_block5_concat[0][0]',    \n",
            " te)                                                              'conv3_block6_2_conv[0][0]']    \n",
            "                                                                                                  \n",
            " conv3_block7_0_bn (BatchNormal  (None, 28, 28, 320)  1280       ['conv3_block6_concat[0][0]']    \n",
            " ization)                                                                                         \n",
            "                                                                                                  \n",
            " conv3_block7_0_relu (Activatio  (None, 28, 28, 320)  0          ['conv3_block7_0_bn[0][0]']      \n",
            " n)                                                                                               \n",
            "                                                                                                  \n",
            " conv3_block7_1_conv (Conv2D)   (None, 28, 28, 128)  40960       ['conv3_block7_0_relu[0][0]']    \n",
            "                                                                                                  \n",
            " conv3_block7_1_bn (BatchNormal  (None, 28, 28, 128)  512        ['conv3_block7_1_conv[0][0]']    \n",
            " ization)                                                                                         \n",
            "                                                                                                  \n",
            " conv3_block7_1_relu (Activatio  (None, 28, 28, 128)  0          ['conv3_block7_1_bn[0][0]']      \n",
            " n)                                                                                               \n",
            "                                                                                                  \n",
            " conv3_block7_2_conv (Conv2D)   (None, 28, 28, 32)   36864       ['conv3_block7_1_relu[0][0]']    \n",
            "                                                                                                  \n",
            " conv3_block7_concat (Concatena  (None, 28, 28, 352)  0          ['conv3_block6_concat[0][0]',    \n",
            " te)                                                              'conv3_block7_2_conv[0][0]']    \n",
            "                                                                                                  \n",
            " conv3_block8_0_bn (BatchNormal  (None, 28, 28, 352)  1408       ['conv3_block7_concat[0][0]']    \n",
            " ization)                                                                                         \n",
            "                                                                                                  \n",
            " conv3_block8_0_relu (Activatio  (None, 28, 28, 352)  0          ['conv3_block8_0_bn[0][0]']      \n",
            " n)                                                                                               \n",
            "                                                                                                  \n",
            " conv3_block8_1_conv (Conv2D)   (None, 28, 28, 128)  45056       ['conv3_block8_0_relu[0][0]']    \n",
            "                                                                                                  \n",
            " conv3_block8_1_bn (BatchNormal  (None, 28, 28, 128)  512        ['conv3_block8_1_conv[0][0]']    \n",
            " ization)                                                                                         \n",
            "                                                                                                  \n",
            " conv3_block8_1_relu (Activatio  (None, 28, 28, 128)  0          ['conv3_block8_1_bn[0][0]']      \n",
            " n)                                                                                               \n",
            "                                                                                                  \n",
            " conv3_block8_2_conv (Conv2D)   (None, 28, 28, 32)   36864       ['conv3_block8_1_relu[0][0]']    \n",
            "                                                                                                  \n",
            " conv3_block8_concat (Concatena  (None, 28, 28, 384)  0          ['conv3_block7_concat[0][0]',    \n",
            " te)                                                              'conv3_block8_2_conv[0][0]']    \n",
            "                                                                                                  \n",
            " conv3_block9_0_bn (BatchNormal  (None, 28, 28, 384)  1536       ['conv3_block8_concat[0][0]']    \n",
            " ization)                                                                                         \n",
            "                                                                                                  \n",
            " conv3_block9_0_relu (Activatio  (None, 28, 28, 384)  0          ['conv3_block9_0_bn[0][0]']      \n",
            " n)                                                                                               \n",
            "                                                                                                  \n",
            " conv3_block9_1_conv (Conv2D)   (None, 28, 28, 128)  49152       ['conv3_block9_0_relu[0][0]']    \n",
            "                                                                                                  \n",
            " conv3_block9_1_bn (BatchNormal  (None, 28, 28, 128)  512        ['conv3_block9_1_conv[0][0]']    \n",
            " ization)                                                                                         \n",
            "                                                                                                  \n",
            " conv3_block9_1_relu (Activatio  (None, 28, 28, 128)  0          ['conv3_block9_1_bn[0][0]']      \n",
            " n)                                                                                               \n",
            "                                                                                                  \n",
            " conv3_block9_2_conv (Conv2D)   (None, 28, 28, 32)   36864       ['conv3_block9_1_relu[0][0]']    \n",
            "                                                                                                  \n",
            " conv3_block9_concat (Concatena  (None, 28, 28, 416)  0          ['conv3_block8_concat[0][0]',    \n",
            " te)                                                              'conv3_block9_2_conv[0][0]']    \n",
            "                                                                                                  \n",
            " conv3_block10_0_bn (BatchNorma  (None, 28, 28, 416)  1664       ['conv3_block9_concat[0][0]']    \n",
            " lization)                                                                                        \n",
            "                                                                                                  \n",
            " conv3_block10_0_relu (Activati  (None, 28, 28, 416)  0          ['conv3_block10_0_bn[0][0]']     \n",
            " on)                                                                                              \n",
            "                                                                                                  \n",
            " conv3_block10_1_conv (Conv2D)  (None, 28, 28, 128)  53248       ['conv3_block10_0_relu[0][0]']   \n",
            "                                                                                                  \n",
            " conv3_block10_1_bn (BatchNorma  (None, 28, 28, 128)  512        ['conv3_block10_1_conv[0][0]']   \n",
            " lization)                                                                                        \n",
            "                                                                                                  \n",
            " conv3_block10_1_relu (Activati  (None, 28, 28, 128)  0          ['conv3_block10_1_bn[0][0]']     \n",
            " on)                                                                                              \n",
            "                                                                                                  \n",
            " conv3_block10_2_conv (Conv2D)  (None, 28, 28, 32)   36864       ['conv3_block10_1_relu[0][0]']   \n",
            "                                                                                                  \n",
            " conv3_block10_concat (Concaten  (None, 28, 28, 448)  0          ['conv3_block9_concat[0][0]',    \n",
            " ate)                                                             'conv3_block10_2_conv[0][0]']   \n",
            "                                                                                                  \n",
            " conv3_block11_0_bn (BatchNorma  (None, 28, 28, 448)  1792       ['conv3_block10_concat[0][0]']   \n",
            " lization)                                                                                        \n",
            "                                                                                                  \n",
            " conv3_block11_0_relu (Activati  (None, 28, 28, 448)  0          ['conv3_block11_0_bn[0][0]']     \n",
            " on)                                                                                              \n",
            "                                                                                                  \n",
            " conv3_block11_1_conv (Conv2D)  (None, 28, 28, 128)  57344       ['conv3_block11_0_relu[0][0]']   \n",
            "                                                                                                  \n",
            " conv3_block11_1_bn (BatchNorma  (None, 28, 28, 128)  512        ['conv3_block11_1_conv[0][0]']   \n",
            " lization)                                                                                        \n",
            "                                                                                                  \n",
            " conv3_block11_1_relu (Activati  (None, 28, 28, 128)  0          ['conv3_block11_1_bn[0][0]']     \n",
            " on)                                                                                              \n",
            "                                                                                                  \n",
            " conv3_block11_2_conv (Conv2D)  (None, 28, 28, 32)   36864       ['conv3_block11_1_relu[0][0]']   \n",
            "                                                                                                  \n",
            " conv3_block11_concat (Concaten  (None, 28, 28, 480)  0          ['conv3_block10_concat[0][0]',   \n",
            " ate)                                                             'conv3_block11_2_conv[0][0]']   \n",
            "                                                                                                  \n",
            " conv3_block12_0_bn (BatchNorma  (None, 28, 28, 480)  1920       ['conv3_block11_concat[0][0]']   \n",
            " lization)                                                                                        \n",
            "                                                                                                  \n",
            " conv3_block12_0_relu (Activati  (None, 28, 28, 480)  0          ['conv3_block12_0_bn[0][0]']     \n",
            " on)                                                                                              \n",
            "                                                                                                  \n",
            " conv3_block12_1_conv (Conv2D)  (None, 28, 28, 128)  61440       ['conv3_block12_0_relu[0][0]']   \n",
            "                                                                                                  \n",
            " conv3_block12_1_bn (BatchNorma  (None, 28, 28, 128)  512        ['conv3_block12_1_conv[0][0]']   \n",
            " lization)                                                                                        \n",
            "                                                                                                  \n",
            " conv3_block12_1_relu (Activati  (None, 28, 28, 128)  0          ['conv3_block12_1_bn[0][0]']     \n",
            " on)                                                                                              \n",
            "                                                                                                  \n",
            " conv3_block12_2_conv (Conv2D)  (None, 28, 28, 32)   36864       ['conv3_block12_1_relu[0][0]']   \n",
            "                                                                                                  \n",
            " conv3_block12_concat (Concaten  (None, 28, 28, 512)  0          ['conv3_block11_concat[0][0]',   \n",
            " ate)                                                             'conv3_block12_2_conv[0][0]']   \n",
            "                                                                                                  \n",
            " pool3_bn (BatchNormalization)  (None, 28, 28, 512)  2048        ['conv3_block12_concat[0][0]']   \n",
            "                                                                                                  \n",
            " pool3_relu (Activation)        (None, 28, 28, 512)  0           ['pool3_bn[0][0]']               \n",
            "                                                                                                  \n",
            " pool3_conv (Conv2D)            (None, 28, 28, 256)  131072      ['pool3_relu[0][0]']             \n",
            "                                                                                                  \n",
            " pool3_pool (AveragePooling2D)  (None, 14, 14, 256)  0           ['pool3_conv[0][0]']             \n",
            "                                                                                                  \n",
            " conv4_block1_0_bn (BatchNormal  (None, 14, 14, 256)  1024       ['pool3_pool[0][0]']             \n",
            " ization)                                                                                         \n",
            "                                                                                                  \n",
            " conv4_block1_0_relu (Activatio  (None, 14, 14, 256)  0          ['conv4_block1_0_bn[0][0]']      \n",
            " n)                                                                                               \n",
            "                                                                                                  \n",
            " conv4_block1_1_conv (Conv2D)   (None, 14, 14, 128)  32768       ['conv4_block1_0_relu[0][0]']    \n",
            "                                                                                                  \n",
            " conv4_block1_1_bn (BatchNormal  (None, 14, 14, 128)  512        ['conv4_block1_1_conv[0][0]']    \n",
            " ization)                                                                                         \n",
            "                                                                                                  \n",
            " conv4_block1_1_relu (Activatio  (None, 14, 14, 128)  0          ['conv4_block1_1_bn[0][0]']      \n",
            " n)                                                                                               \n",
            "                                                                                                  \n",
            " conv4_block1_2_conv (Conv2D)   (None, 14, 14, 32)   36864       ['conv4_block1_1_relu[0][0]']    \n",
            "                                                                                                  \n",
            " conv4_block1_concat (Concatena  (None, 14, 14, 288)  0          ['pool3_pool[0][0]',             \n",
            " te)                                                              'conv4_block1_2_conv[0][0]']    \n",
            "                                                                                                  \n",
            " conv4_block2_0_bn (BatchNormal  (None, 14, 14, 288)  1152       ['conv4_block1_concat[0][0]']    \n",
            " ization)                                                                                         \n",
            "                                                                                                  \n",
            " conv4_block2_0_relu (Activatio  (None, 14, 14, 288)  0          ['conv4_block2_0_bn[0][0]']      \n",
            " n)                                                                                               \n",
            "                                                                                                  \n",
            " conv4_block2_1_conv (Conv2D)   (None, 14, 14, 128)  36864       ['conv4_block2_0_relu[0][0]']    \n",
            "                                                                                                  \n",
            " conv4_block2_1_bn (BatchNormal  (None, 14, 14, 128)  512        ['conv4_block2_1_conv[0][0]']    \n",
            " ization)                                                                                         \n",
            "                                                                                                  \n",
            " conv4_block2_1_relu (Activatio  (None, 14, 14, 128)  0          ['conv4_block2_1_bn[0][0]']      \n",
            " n)                                                                                               \n",
            "                                                                                                  \n",
            " conv4_block2_2_conv (Conv2D)   (None, 14, 14, 32)   36864       ['conv4_block2_1_relu[0][0]']    \n",
            "                                                                                                  \n",
            " conv4_block2_concat (Concatena  (None, 14, 14, 320)  0          ['conv4_block1_concat[0][0]',    \n",
            " te)                                                              'conv4_block2_2_conv[0][0]']    \n",
            "                                                                                                  \n",
            " conv4_block3_0_bn (BatchNormal  (None, 14, 14, 320)  1280       ['conv4_block2_concat[0][0]']    \n",
            " ization)                                                                                         \n",
            "                                                                                                  \n",
            " conv4_block3_0_relu (Activatio  (None, 14, 14, 320)  0          ['conv4_block3_0_bn[0][0]']      \n",
            " n)                                                                                               \n",
            "                                                                                                  \n",
            " conv4_block3_1_conv (Conv2D)   (None, 14, 14, 128)  40960       ['conv4_block3_0_relu[0][0]']    \n",
            "                                                                                                  \n",
            " conv4_block3_1_bn (BatchNormal  (None, 14, 14, 128)  512        ['conv4_block3_1_conv[0][0]']    \n",
            " ization)                                                                                         \n",
            "                                                                                                  \n",
            " conv4_block3_1_relu (Activatio  (None, 14, 14, 128)  0          ['conv4_block3_1_bn[0][0]']      \n",
            " n)                                                                                               \n",
            "                                                                                                  \n",
            " conv4_block3_2_conv (Conv2D)   (None, 14, 14, 32)   36864       ['conv4_block3_1_relu[0][0]']    \n",
            "                                                                                                  \n",
            " conv4_block3_concat (Concatena  (None, 14, 14, 352)  0          ['conv4_block2_concat[0][0]',    \n",
            " te)                                                              'conv4_block3_2_conv[0][0]']    \n",
            "                                                                                                  \n",
            " conv4_block4_0_bn (BatchNormal  (None, 14, 14, 352)  1408       ['conv4_block3_concat[0][0]']    \n",
            " ization)                                                                                         \n",
            "                                                                                                  \n",
            " conv4_block4_0_relu (Activatio  (None, 14, 14, 352)  0          ['conv4_block4_0_bn[0][0]']      \n",
            " n)                                                                                               \n",
            "                                                                                                  \n",
            " conv4_block4_1_conv (Conv2D)   (None, 14, 14, 128)  45056       ['conv4_block4_0_relu[0][0]']    \n",
            "                                                                                                  \n",
            " conv4_block4_1_bn (BatchNormal  (None, 14, 14, 128)  512        ['conv4_block4_1_conv[0][0]']    \n",
            " ization)                                                                                         \n",
            "                                                                                                  \n",
            " conv4_block4_1_relu (Activatio  (None, 14, 14, 128)  0          ['conv4_block4_1_bn[0][0]']      \n",
            " n)                                                                                               \n",
            "                                                                                                  \n",
            " conv4_block4_2_conv (Conv2D)   (None, 14, 14, 32)   36864       ['conv4_block4_1_relu[0][0]']    \n",
            "                                                                                                  \n",
            " conv4_block4_concat (Concatena  (None, 14, 14, 384)  0          ['conv4_block3_concat[0][0]',    \n",
            " te)                                                              'conv4_block4_2_conv[0][0]']    \n",
            "                                                                                                  \n",
            " conv4_block5_0_bn (BatchNormal  (None, 14, 14, 384)  1536       ['conv4_block4_concat[0][0]']    \n",
            " ization)                                                                                         \n",
            "                                                                                                  \n",
            " conv4_block5_0_relu (Activatio  (None, 14, 14, 384)  0          ['conv4_block5_0_bn[0][0]']      \n",
            " n)                                                                                               \n",
            "                                                                                                  \n",
            " conv4_block5_1_conv (Conv2D)   (None, 14, 14, 128)  49152       ['conv4_block5_0_relu[0][0]']    \n",
            "                                                                                                  \n",
            " conv4_block5_1_bn (BatchNormal  (None, 14, 14, 128)  512        ['conv4_block5_1_conv[0][0]']    \n",
            " ization)                                                                                         \n",
            "                                                                                                  \n",
            " conv4_block5_1_relu (Activatio  (None, 14, 14, 128)  0          ['conv4_block5_1_bn[0][0]']      \n",
            " n)                                                                                               \n",
            "                                                                                                  \n",
            " conv4_block5_2_conv (Conv2D)   (None, 14, 14, 32)   36864       ['conv4_block5_1_relu[0][0]']    \n",
            "                                                                                                  \n",
            " conv4_block5_concat (Concatena  (None, 14, 14, 416)  0          ['conv4_block4_concat[0][0]',    \n",
            " te)                                                              'conv4_block5_2_conv[0][0]']    \n",
            "                                                                                                  \n",
            " conv4_block6_0_bn (BatchNormal  (None, 14, 14, 416)  1664       ['conv4_block5_concat[0][0]']    \n",
            " ization)                                                                                         \n",
            "                                                                                                  \n",
            " conv4_block6_0_relu (Activatio  (None, 14, 14, 416)  0          ['conv4_block6_0_bn[0][0]']      \n",
            " n)                                                                                               \n",
            "                                                                                                  \n",
            " conv4_block6_1_conv (Conv2D)   (None, 14, 14, 128)  53248       ['conv4_block6_0_relu[0][0]']    \n",
            "                                                                                                  \n",
            " conv4_block6_1_bn (BatchNormal  (None, 14, 14, 128)  512        ['conv4_block6_1_conv[0][0]']    \n",
            " ization)                                                                                         \n",
            "                                                                                                  \n",
            " conv4_block6_1_relu (Activatio  (None, 14, 14, 128)  0          ['conv4_block6_1_bn[0][0]']      \n",
            " n)                                                                                               \n",
            "                                                                                                  \n",
            " conv4_block6_2_conv (Conv2D)   (None, 14, 14, 32)   36864       ['conv4_block6_1_relu[0][0]']    \n",
            "                                                                                                  \n",
            " conv4_block6_concat (Concatena  (None, 14, 14, 448)  0          ['conv4_block5_concat[0][0]',    \n",
            " te)                                                              'conv4_block6_2_conv[0][0]']    \n",
            "                                                                                                  \n",
            " conv4_block7_0_bn (BatchNormal  (None, 14, 14, 448)  1792       ['conv4_block6_concat[0][0]']    \n",
            " ization)                                                                                         \n",
            "                                                                                                  \n",
            " conv4_block7_0_relu (Activatio  (None, 14, 14, 448)  0          ['conv4_block7_0_bn[0][0]']      \n",
            " n)                                                                                               \n",
            "                                                                                                  \n",
            " conv4_block7_1_conv (Conv2D)   (None, 14, 14, 128)  57344       ['conv4_block7_0_relu[0][0]']    \n",
            "                                                                                                  \n",
            " conv4_block7_1_bn (BatchNormal  (None, 14, 14, 128)  512        ['conv4_block7_1_conv[0][0]']    \n",
            " ization)                                                                                         \n",
            "                                                                                                  \n",
            " conv4_block7_1_relu (Activatio  (None, 14, 14, 128)  0          ['conv4_block7_1_bn[0][0]']      \n",
            " n)                                                                                               \n",
            "                                                                                                  \n",
            " conv4_block7_2_conv (Conv2D)   (None, 14, 14, 32)   36864       ['conv4_block7_1_relu[0][0]']    \n",
            "                                                                                                  \n",
            " conv4_block7_concat (Concatena  (None, 14, 14, 480)  0          ['conv4_block6_concat[0][0]',    \n",
            " te)                                                              'conv4_block7_2_conv[0][0]']    \n",
            "                                                                                                  \n",
            " conv4_block8_0_bn (BatchNormal  (None, 14, 14, 480)  1920       ['conv4_block7_concat[0][0]']    \n",
            " ization)                                                                                         \n",
            "                                                                                                  \n",
            " conv4_block8_0_relu (Activatio  (None, 14, 14, 480)  0          ['conv4_block8_0_bn[0][0]']      \n",
            " n)                                                                                               \n",
            "                                                                                                  \n",
            " conv4_block8_1_conv (Conv2D)   (None, 14, 14, 128)  61440       ['conv4_block8_0_relu[0][0]']    \n",
            "                                                                                                  \n",
            " conv4_block8_1_bn (BatchNormal  (None, 14, 14, 128)  512        ['conv4_block8_1_conv[0][0]']    \n",
            " ization)                                                                                         \n",
            "                                                                                                  \n",
            " conv4_block8_1_relu (Activatio  (None, 14, 14, 128)  0          ['conv4_block8_1_bn[0][0]']      \n",
            " n)                                                                                               \n",
            "                                                                                                  \n",
            " conv4_block8_2_conv (Conv2D)   (None, 14, 14, 32)   36864       ['conv4_block8_1_relu[0][0]']    \n",
            "                                                                                                  \n",
            " conv4_block8_concat (Concatena  (None, 14, 14, 512)  0          ['conv4_block7_concat[0][0]',    \n",
            " te)                                                              'conv4_block8_2_conv[0][0]']    \n",
            "                                                                                                  \n",
            " conv4_block9_0_bn (BatchNormal  (None, 14, 14, 512)  2048       ['conv4_block8_concat[0][0]']    \n",
            " ization)                                                                                         \n",
            "                                                                                                  \n",
            " conv4_block9_0_relu (Activatio  (None, 14, 14, 512)  0          ['conv4_block9_0_bn[0][0]']      \n",
            " n)                                                                                               \n",
            "                                                                                                  \n",
            " conv4_block9_1_conv (Conv2D)   (None, 14, 14, 128)  65536       ['conv4_block9_0_relu[0][0]']    \n",
            "                                                                                                  \n",
            " conv4_block9_1_bn (BatchNormal  (None, 14, 14, 128)  512        ['conv4_block9_1_conv[0][0]']    \n",
            " ization)                                                                                         \n",
            "                                                                                                  \n",
            " conv4_block9_1_relu (Activatio  (None, 14, 14, 128)  0          ['conv4_block9_1_bn[0][0]']      \n",
            " n)                                                                                               \n",
            "                                                                                                  \n",
            " conv4_block9_2_conv (Conv2D)   (None, 14, 14, 32)   36864       ['conv4_block9_1_relu[0][0]']    \n",
            "                                                                                                  \n",
            " conv4_block9_concat (Concatena  (None, 14, 14, 544)  0          ['conv4_block8_concat[0][0]',    \n",
            " te)                                                              'conv4_block9_2_conv[0][0]']    \n",
            "                                                                                                  \n",
            " conv4_block10_0_bn (BatchNorma  (None, 14, 14, 544)  2176       ['conv4_block9_concat[0][0]']    \n",
            " lization)                                                                                        \n",
            "                                                                                                  \n",
            " conv4_block10_0_relu (Activati  (None, 14, 14, 544)  0          ['conv4_block10_0_bn[0][0]']     \n",
            " on)                                                                                              \n",
            "                                                                                                  \n",
            " conv4_block10_1_conv (Conv2D)  (None, 14, 14, 128)  69632       ['conv4_block10_0_relu[0][0]']   \n",
            "                                                                                                  \n",
            " conv4_block10_1_bn (BatchNorma  (None, 14, 14, 128)  512        ['conv4_block10_1_conv[0][0]']   \n",
            " lization)                                                                                        \n",
            "                                                                                                  \n",
            " conv4_block10_1_relu (Activati  (None, 14, 14, 128)  0          ['conv4_block10_1_bn[0][0]']     \n",
            " on)                                                                                              \n",
            "                                                                                                  \n",
            " conv4_block10_2_conv (Conv2D)  (None, 14, 14, 32)   36864       ['conv4_block10_1_relu[0][0]']   \n",
            "                                                                                                  \n",
            " conv4_block10_concat (Concaten  (None, 14, 14, 576)  0          ['conv4_block9_concat[0][0]',    \n",
            " ate)                                                             'conv4_block10_2_conv[0][0]']   \n",
            "                                                                                                  \n",
            " conv4_block11_0_bn (BatchNorma  (None, 14, 14, 576)  2304       ['conv4_block10_concat[0][0]']   \n",
            " lization)                                                                                        \n",
            "                                                                                                  \n",
            " conv4_block11_0_relu (Activati  (None, 14, 14, 576)  0          ['conv4_block11_0_bn[0][0]']     \n",
            " on)                                                                                              \n",
            "                                                                                                  \n",
            " conv4_block11_1_conv (Conv2D)  (None, 14, 14, 128)  73728       ['conv4_block11_0_relu[0][0]']   \n",
            "                                                                                                  \n",
            " conv4_block11_1_bn (BatchNorma  (None, 14, 14, 128)  512        ['conv4_block11_1_conv[0][0]']   \n",
            " lization)                                                                                        \n",
            "                                                                                                  \n",
            " conv4_block11_1_relu (Activati  (None, 14, 14, 128)  0          ['conv4_block11_1_bn[0][0]']     \n",
            " on)                                                                                              \n",
            "                                                                                                  \n",
            " conv4_block11_2_conv (Conv2D)  (None, 14, 14, 32)   36864       ['conv4_block11_1_relu[0][0]']   \n",
            "                                                                                                  \n",
            " conv4_block11_concat (Concaten  (None, 14, 14, 608)  0          ['conv4_block10_concat[0][0]',   \n",
            " ate)                                                             'conv4_block11_2_conv[0][0]']   \n",
            "                                                                                                  \n",
            " conv4_block12_0_bn (BatchNorma  (None, 14, 14, 608)  2432       ['conv4_block11_concat[0][0]']   \n",
            " lization)                                                                                        \n",
            "                                                                                                  \n",
            " conv4_block12_0_relu (Activati  (None, 14, 14, 608)  0          ['conv4_block12_0_bn[0][0]']     \n",
            " on)                                                                                              \n",
            "                                                                                                  \n",
            " conv4_block12_1_conv (Conv2D)  (None, 14, 14, 128)  77824       ['conv4_block12_0_relu[0][0]']   \n",
            "                                                                                                  \n",
            " conv4_block12_1_bn (BatchNorma  (None, 14, 14, 128)  512        ['conv4_block12_1_conv[0][0]']   \n",
            " lization)                                                                                        \n",
            "                                                                                                  \n",
            " conv4_block12_1_relu (Activati  (None, 14, 14, 128)  0          ['conv4_block12_1_bn[0][0]']     \n",
            " on)                                                                                              \n",
            "                                                                                                  \n",
            " conv4_block12_2_conv (Conv2D)  (None, 14, 14, 32)   36864       ['conv4_block12_1_relu[0][0]']   \n",
            "                                                                                                  \n",
            " conv4_block12_concat (Concaten  (None, 14, 14, 640)  0          ['conv4_block11_concat[0][0]',   \n",
            " ate)                                                             'conv4_block12_2_conv[0][0]']   \n",
            "                                                                                                  \n",
            " conv4_block13_0_bn (BatchNorma  (None, 14, 14, 640)  2560       ['conv4_block12_concat[0][0]']   \n",
            " lization)                                                                                        \n",
            "                                                                                                  \n",
            " conv4_block13_0_relu (Activati  (None, 14, 14, 640)  0          ['conv4_block13_0_bn[0][0]']     \n",
            " on)                                                                                              \n",
            "                                                                                                  \n",
            " conv4_block13_1_conv (Conv2D)  (None, 14, 14, 128)  81920       ['conv4_block13_0_relu[0][0]']   \n",
            "                                                                                                  \n",
            " conv4_block13_1_bn (BatchNorma  (None, 14, 14, 128)  512        ['conv4_block13_1_conv[0][0]']   \n",
            " lization)                                                                                        \n",
            "                                                                                                  \n",
            " conv4_block13_1_relu (Activati  (None, 14, 14, 128)  0          ['conv4_block13_1_bn[0][0]']     \n",
            " on)                                                                                              \n",
            "                                                                                                  \n",
            " conv4_block13_2_conv (Conv2D)  (None, 14, 14, 32)   36864       ['conv4_block13_1_relu[0][0]']   \n",
            "                                                                                                  \n",
            " conv4_block13_concat (Concaten  (None, 14, 14, 672)  0          ['conv4_block12_concat[0][0]',   \n",
            " ate)                                                             'conv4_block13_2_conv[0][0]']   \n",
            "                                                                                                  \n",
            " conv4_block14_0_bn (BatchNorma  (None, 14, 14, 672)  2688       ['conv4_block13_concat[0][0]']   \n",
            " lization)                                                                                        \n",
            "                                                                                                  \n",
            " conv4_block14_0_relu (Activati  (None, 14, 14, 672)  0          ['conv4_block14_0_bn[0][0]']     \n",
            " on)                                                                                              \n",
            "                                                                                                  \n",
            " conv4_block14_1_conv (Conv2D)  (None, 14, 14, 128)  86016       ['conv4_block14_0_relu[0][0]']   \n",
            "                                                                                                  \n",
            " conv4_block14_1_bn (BatchNorma  (None, 14, 14, 128)  512        ['conv4_block14_1_conv[0][0]']   \n",
            " lization)                                                                                        \n",
            "                                                                                                  \n",
            " conv4_block14_1_relu (Activati  (None, 14, 14, 128)  0          ['conv4_block14_1_bn[0][0]']     \n",
            " on)                                                                                              \n",
            "                                                                                                  \n",
            " conv4_block14_2_conv (Conv2D)  (None, 14, 14, 32)   36864       ['conv4_block14_1_relu[0][0]']   \n",
            "                                                                                                  \n",
            " conv4_block14_concat (Concaten  (None, 14, 14, 704)  0          ['conv4_block13_concat[0][0]',   \n",
            " ate)                                                             'conv4_block14_2_conv[0][0]']   \n",
            "                                                                                                  \n",
            " conv4_block15_0_bn (BatchNorma  (None, 14, 14, 704)  2816       ['conv4_block14_concat[0][0]']   \n",
            " lization)                                                                                        \n",
            "                                                                                                  \n",
            " conv4_block15_0_relu (Activati  (None, 14, 14, 704)  0          ['conv4_block15_0_bn[0][0]']     \n",
            " on)                                                                                              \n",
            "                                                                                                  \n",
            " conv4_block15_1_conv (Conv2D)  (None, 14, 14, 128)  90112       ['conv4_block15_0_relu[0][0]']   \n",
            "                                                                                                  \n",
            " conv4_block15_1_bn (BatchNorma  (None, 14, 14, 128)  512        ['conv4_block15_1_conv[0][0]']   \n",
            " lization)                                                                                        \n",
            "                                                                                                  \n",
            " conv4_block15_1_relu (Activati  (None, 14, 14, 128)  0          ['conv4_block15_1_bn[0][0]']     \n",
            " on)                                                                                              \n",
            "                                                                                                  \n",
            " conv4_block15_2_conv (Conv2D)  (None, 14, 14, 32)   36864       ['conv4_block15_1_relu[0][0]']   \n",
            "                                                                                                  \n",
            " conv4_block15_concat (Concaten  (None, 14, 14, 736)  0          ['conv4_block14_concat[0][0]',   \n",
            " ate)                                                             'conv4_block15_2_conv[0][0]']   \n",
            "                                                                                                  \n",
            " conv4_block16_0_bn (BatchNorma  (None, 14, 14, 736)  2944       ['conv4_block15_concat[0][0]']   \n",
            " lization)                                                                                        \n",
            "                                                                                                  \n",
            " conv4_block16_0_relu (Activati  (None, 14, 14, 736)  0          ['conv4_block16_0_bn[0][0]']     \n",
            " on)                                                                                              \n",
            "                                                                                                  \n",
            " conv4_block16_1_conv (Conv2D)  (None, 14, 14, 128)  94208       ['conv4_block16_0_relu[0][0]']   \n",
            "                                                                                                  \n",
            " conv4_block16_1_bn (BatchNorma  (None, 14, 14, 128)  512        ['conv4_block16_1_conv[0][0]']   \n",
            " lization)                                                                                        \n",
            "                                                                                                  \n",
            " conv4_block16_1_relu (Activati  (None, 14, 14, 128)  0          ['conv4_block16_1_bn[0][0]']     \n",
            " on)                                                                                              \n",
            "                                                                                                  \n",
            " conv4_block16_2_conv (Conv2D)  (None, 14, 14, 32)   36864       ['conv4_block16_1_relu[0][0]']   \n",
            "                                                                                                  \n",
            " conv4_block16_concat (Concaten  (None, 14, 14, 768)  0          ['conv4_block15_concat[0][0]',   \n",
            " ate)                                                             'conv4_block16_2_conv[0][0]']   \n",
            "                                                                                                  \n",
            " conv4_block17_0_bn (BatchNorma  (None, 14, 14, 768)  3072       ['conv4_block16_concat[0][0]']   \n",
            " lization)                                                                                        \n",
            "                                                                                                  \n",
            " conv4_block17_0_relu (Activati  (None, 14, 14, 768)  0          ['conv4_block17_0_bn[0][0]']     \n",
            " on)                                                                                              \n",
            "                                                                                                  \n",
            " conv4_block17_1_conv (Conv2D)  (None, 14, 14, 128)  98304       ['conv4_block17_0_relu[0][0]']   \n",
            "                                                                                                  \n",
            " conv4_block17_1_bn (BatchNorma  (None, 14, 14, 128)  512        ['conv4_block17_1_conv[0][0]']   \n",
            " lization)                                                                                        \n",
            "                                                                                                  \n",
            " conv4_block17_1_relu (Activati  (None, 14, 14, 128)  0          ['conv4_block17_1_bn[0][0]']     \n",
            " on)                                                                                              \n",
            "                                                                                                  \n",
            " conv4_block17_2_conv (Conv2D)  (None, 14, 14, 32)   36864       ['conv4_block17_1_relu[0][0]']   \n",
            "                                                                                                  \n",
            " conv4_block17_concat (Concaten  (None, 14, 14, 800)  0          ['conv4_block16_concat[0][0]',   \n",
            " ate)                                                             'conv4_block17_2_conv[0][0]']   \n",
            "                                                                                                  \n",
            " conv4_block18_0_bn (BatchNorma  (None, 14, 14, 800)  3200       ['conv4_block17_concat[0][0]']   \n",
            " lization)                                                                                        \n",
            "                                                                                                  \n",
            " conv4_block18_0_relu (Activati  (None, 14, 14, 800)  0          ['conv4_block18_0_bn[0][0]']     \n",
            " on)                                                                                              \n",
            "                                                                                                  \n",
            " conv4_block18_1_conv (Conv2D)  (None, 14, 14, 128)  102400      ['conv4_block18_0_relu[0][0]']   \n",
            "                                                                                                  \n",
            " conv4_block18_1_bn (BatchNorma  (None, 14, 14, 128)  512        ['conv4_block18_1_conv[0][0]']   \n",
            " lization)                                                                                        \n",
            "                                                                                                  \n",
            " conv4_block18_1_relu (Activati  (None, 14, 14, 128)  0          ['conv4_block18_1_bn[0][0]']     \n",
            " on)                                                                                              \n",
            "                                                                                                  \n",
            " conv4_block18_2_conv (Conv2D)  (None, 14, 14, 32)   36864       ['conv4_block18_1_relu[0][0]']   \n",
            "                                                                                                  \n",
            " conv4_block18_concat (Concaten  (None, 14, 14, 832)  0          ['conv4_block17_concat[0][0]',   \n",
            " ate)                                                             'conv4_block18_2_conv[0][0]']   \n",
            "                                                                                                  \n",
            " conv4_block19_0_bn (BatchNorma  (None, 14, 14, 832)  3328       ['conv4_block18_concat[0][0]']   \n",
            " lization)                                                                                        \n",
            "                                                                                                  \n",
            " conv4_block19_0_relu (Activati  (None, 14, 14, 832)  0          ['conv4_block19_0_bn[0][0]']     \n",
            " on)                                                                                              \n",
            "                                                                                                  \n",
            " conv4_block19_1_conv (Conv2D)  (None, 14, 14, 128)  106496      ['conv4_block19_0_relu[0][0]']   \n",
            "                                                                                                  \n",
            " conv4_block19_1_bn (BatchNorma  (None, 14, 14, 128)  512        ['conv4_block19_1_conv[0][0]']   \n",
            " lization)                                                                                        \n",
            "                                                                                                  \n",
            " conv4_block19_1_relu (Activati  (None, 14, 14, 128)  0          ['conv4_block19_1_bn[0][0]']     \n",
            " on)                                                                                              \n",
            "                                                                                                  \n",
            " conv4_block19_2_conv (Conv2D)  (None, 14, 14, 32)   36864       ['conv4_block19_1_relu[0][0]']   \n",
            "                                                                                                  \n",
            " conv4_block19_concat (Concaten  (None, 14, 14, 864)  0          ['conv4_block18_concat[0][0]',   \n",
            " ate)                                                             'conv4_block19_2_conv[0][0]']   \n",
            "                                                                                                  \n",
            " conv4_block20_0_bn (BatchNorma  (None, 14, 14, 864)  3456       ['conv4_block19_concat[0][0]']   \n",
            " lization)                                                                                        \n",
            "                                                                                                  \n",
            " conv4_block20_0_relu (Activati  (None, 14, 14, 864)  0          ['conv4_block20_0_bn[0][0]']     \n",
            " on)                                                                                              \n",
            "                                                                                                  \n",
            " conv4_block20_1_conv (Conv2D)  (None, 14, 14, 128)  110592      ['conv4_block20_0_relu[0][0]']   \n",
            "                                                                                                  \n",
            " conv4_block20_1_bn (BatchNorma  (None, 14, 14, 128)  512        ['conv4_block20_1_conv[0][0]']   \n",
            " lization)                                                                                        \n",
            "                                                                                                  \n",
            " conv4_block20_1_relu (Activati  (None, 14, 14, 128)  0          ['conv4_block20_1_bn[0][0]']     \n",
            " on)                                                                                              \n",
            "                                                                                                  \n",
            " conv4_block20_2_conv (Conv2D)  (None, 14, 14, 32)   36864       ['conv4_block20_1_relu[0][0]']   \n",
            "                                                                                                  \n",
            " conv4_block20_concat (Concaten  (None, 14, 14, 896)  0          ['conv4_block19_concat[0][0]',   \n",
            " ate)                                                             'conv4_block20_2_conv[0][0]']   \n",
            "                                                                                                  \n",
            " conv4_block21_0_bn (BatchNorma  (None, 14, 14, 896)  3584       ['conv4_block20_concat[0][0]']   \n",
            " lization)                                                                                        \n",
            "                                                                                                  \n",
            " conv4_block21_0_relu (Activati  (None, 14, 14, 896)  0          ['conv4_block21_0_bn[0][0]']     \n",
            " on)                                                                                              \n",
            "                                                                                                  \n",
            " conv4_block21_1_conv (Conv2D)  (None, 14, 14, 128)  114688      ['conv4_block21_0_relu[0][0]']   \n",
            "                                                                                                  \n",
            " conv4_block21_1_bn (BatchNorma  (None, 14, 14, 128)  512        ['conv4_block21_1_conv[0][0]']   \n",
            " lization)                                                                                        \n",
            "                                                                                                  \n",
            " conv4_block21_1_relu (Activati  (None, 14, 14, 128)  0          ['conv4_block21_1_bn[0][0]']     \n",
            " on)                                                                                              \n",
            "                                                                                                  \n",
            " conv4_block21_2_conv (Conv2D)  (None, 14, 14, 32)   36864       ['conv4_block21_1_relu[0][0]']   \n",
            "                                                                                                  \n",
            " conv4_block21_concat (Concaten  (None, 14, 14, 928)  0          ['conv4_block20_concat[0][0]',   \n",
            " ate)                                                             'conv4_block21_2_conv[0][0]']   \n",
            "                                                                                                  \n",
            " conv4_block22_0_bn (BatchNorma  (None, 14, 14, 928)  3712       ['conv4_block21_concat[0][0]']   \n",
            " lization)                                                                                        \n",
            "                                                                                                  \n",
            " conv4_block22_0_relu (Activati  (None, 14, 14, 928)  0          ['conv4_block22_0_bn[0][0]']     \n",
            " on)                                                                                              \n",
            "                                                                                                  \n",
            " conv4_block22_1_conv (Conv2D)  (None, 14, 14, 128)  118784      ['conv4_block22_0_relu[0][0]']   \n",
            "                                                                                                  \n",
            " conv4_block22_1_bn (BatchNorma  (None, 14, 14, 128)  512        ['conv4_block22_1_conv[0][0]']   \n",
            " lization)                                                                                        \n",
            "                                                                                                  \n",
            " conv4_block22_1_relu (Activati  (None, 14, 14, 128)  0          ['conv4_block22_1_bn[0][0]']     \n",
            " on)                                                                                              \n",
            "                                                                                                  \n",
            " conv4_block22_2_conv (Conv2D)  (None, 14, 14, 32)   36864       ['conv4_block22_1_relu[0][0]']   \n",
            "                                                                                                  \n",
            " conv4_block22_concat (Concaten  (None, 14, 14, 960)  0          ['conv4_block21_concat[0][0]',   \n",
            " ate)                                                             'conv4_block22_2_conv[0][0]']   \n",
            "                                                                                                  \n",
            " conv4_block23_0_bn (BatchNorma  (None, 14, 14, 960)  3840       ['conv4_block22_concat[0][0]']   \n",
            " lization)                                                                                        \n",
            "                                                                                                  \n",
            " conv4_block23_0_relu (Activati  (None, 14, 14, 960)  0          ['conv4_block23_0_bn[0][0]']     \n",
            " on)                                                                                              \n",
            "                                                                                                  \n",
            " conv4_block23_1_conv (Conv2D)  (None, 14, 14, 128)  122880      ['conv4_block23_0_relu[0][0]']   \n",
            "                                                                                                  \n",
            " conv4_block23_1_bn (BatchNorma  (None, 14, 14, 128)  512        ['conv4_block23_1_conv[0][0]']   \n",
            " lization)                                                                                        \n",
            "                                                                                                  \n",
            " conv4_block23_1_relu (Activati  (None, 14, 14, 128)  0          ['conv4_block23_1_bn[0][0]']     \n",
            " on)                                                                                              \n",
            "                                                                                                  \n",
            " conv4_block23_2_conv (Conv2D)  (None, 14, 14, 32)   36864       ['conv4_block23_1_relu[0][0]']   \n",
            "                                                                                                  \n",
            " conv4_block23_concat (Concaten  (None, 14, 14, 992)  0          ['conv4_block22_concat[0][0]',   \n",
            " ate)                                                             'conv4_block23_2_conv[0][0]']   \n",
            "                                                                                                  \n",
            " conv4_block24_0_bn (BatchNorma  (None, 14, 14, 992)  3968       ['conv4_block23_concat[0][0]']   \n",
            " lization)                                                                                        \n",
            "                                                                                                  \n",
            " conv4_block24_0_relu (Activati  (None, 14, 14, 992)  0          ['conv4_block24_0_bn[0][0]']     \n",
            " on)                                                                                              \n",
            "                                                                                                  \n",
            " conv4_block24_1_conv (Conv2D)  (None, 14, 14, 128)  126976      ['conv4_block24_0_relu[0][0]']   \n",
            "                                                                                                  \n",
            " conv4_block24_1_bn (BatchNorma  (None, 14, 14, 128)  512        ['conv4_block24_1_conv[0][0]']   \n",
            " lization)                                                                                        \n",
            "                                                                                                  \n",
            " conv4_block24_1_relu (Activati  (None, 14, 14, 128)  0          ['conv4_block24_1_bn[0][0]']     \n",
            " on)                                                                                              \n",
            "                                                                                                  \n",
            " conv4_block24_2_conv (Conv2D)  (None, 14, 14, 32)   36864       ['conv4_block24_1_relu[0][0]']   \n",
            "                                                                                                  \n",
            " conv4_block24_concat (Concaten  (None, 14, 14, 1024  0          ['conv4_block23_concat[0][0]',   \n",
            " ate)                           )                                 'conv4_block24_2_conv[0][0]']   \n",
            "                                                                                                  \n",
            " pool4_bn (BatchNormalization)  (None, 14, 14, 1024  4096        ['conv4_block24_concat[0][0]']   \n",
            "                                )                                                                 \n",
            "                                                                                                  \n",
            " pool4_relu (Activation)        (None, 14, 14, 1024  0           ['pool4_bn[0][0]']               \n",
            "                                )                                                                 \n",
            "                                                                                                  \n",
            " pool4_conv (Conv2D)            (None, 14, 14, 512)  524288      ['pool4_relu[0][0]']             \n",
            "                                                                                                  \n",
            " pool4_pool (AveragePooling2D)  (None, 7, 7, 512)    0           ['pool4_conv[0][0]']             \n",
            "                                                                                                  \n",
            " conv5_block1_0_bn (BatchNormal  (None, 7, 7, 512)   2048        ['pool4_pool[0][0]']             \n",
            " ization)                                                                                         \n",
            "                                                                                                  \n",
            " conv5_block1_0_relu (Activatio  (None, 7, 7, 512)   0           ['conv5_block1_0_bn[0][0]']      \n",
            " n)                                                                                               \n",
            "                                                                                                  \n",
            " conv5_block1_1_conv (Conv2D)   (None, 7, 7, 128)    65536       ['conv5_block1_0_relu[0][0]']    \n",
            "                                                                                                  \n",
            " conv5_block1_1_bn (BatchNormal  (None, 7, 7, 128)   512         ['conv5_block1_1_conv[0][0]']    \n",
            " ization)                                                                                         \n",
            "                                                                                                  \n",
            " conv5_block1_1_relu (Activatio  (None, 7, 7, 128)   0           ['conv5_block1_1_bn[0][0]']      \n",
            " n)                                                                                               \n",
            "                                                                                                  \n",
            " conv5_block1_2_conv (Conv2D)   (None, 7, 7, 32)     36864       ['conv5_block1_1_relu[0][0]']    \n",
            "                                                                                                  \n",
            " conv5_block1_concat (Concatena  (None, 7, 7, 544)   0           ['pool4_pool[0][0]',             \n",
            " te)                                                              'conv5_block1_2_conv[0][0]']    \n",
            "                                                                                                  \n",
            " conv5_block2_0_bn (BatchNormal  (None, 7, 7, 544)   2176        ['conv5_block1_concat[0][0]']    \n",
            " ization)                                                                                         \n",
            "                                                                                                  \n",
            " conv5_block2_0_relu (Activatio  (None, 7, 7, 544)   0           ['conv5_block2_0_bn[0][0]']      \n",
            " n)                                                                                               \n",
            "                                                                                                  \n",
            " conv5_block2_1_conv (Conv2D)   (None, 7, 7, 128)    69632       ['conv5_block2_0_relu[0][0]']    \n",
            "                                                                                                  \n",
            " conv5_block2_1_bn (BatchNormal  (None, 7, 7, 128)   512         ['conv5_block2_1_conv[0][0]']    \n",
            " ization)                                                                                         \n",
            "                                                                                                  \n",
            " conv5_block2_1_relu (Activatio  (None, 7, 7, 128)   0           ['conv5_block2_1_bn[0][0]']      \n",
            " n)                                                                                               \n",
            "                                                                                                  \n",
            " conv5_block2_2_conv (Conv2D)   (None, 7, 7, 32)     36864       ['conv5_block2_1_relu[0][0]']    \n",
            "                                                                                                  \n",
            " conv5_block2_concat (Concatena  (None, 7, 7, 576)   0           ['conv5_block1_concat[0][0]',    \n",
            " te)                                                              'conv5_block2_2_conv[0][0]']    \n",
            "                                                                                                  \n",
            " conv5_block3_0_bn (BatchNormal  (None, 7, 7, 576)   2304        ['conv5_block2_concat[0][0]']    \n",
            " ization)                                                                                         \n",
            "                                                                                                  \n",
            " conv5_block3_0_relu (Activatio  (None, 7, 7, 576)   0           ['conv5_block3_0_bn[0][0]']      \n",
            " n)                                                                                               \n",
            "                                                                                                  \n",
            " conv5_block3_1_conv (Conv2D)   (None, 7, 7, 128)    73728       ['conv5_block3_0_relu[0][0]']    \n",
            "                                                                                                  \n",
            " conv5_block3_1_bn (BatchNormal  (None, 7, 7, 128)   512         ['conv5_block3_1_conv[0][0]']    \n",
            " ization)                                                                                         \n",
            "                                                                                                  \n",
            " conv5_block3_1_relu (Activatio  (None, 7, 7, 128)   0           ['conv5_block3_1_bn[0][0]']      \n",
            " n)                                                                                               \n",
            "                                                                                                  \n",
            " conv5_block3_2_conv (Conv2D)   (None, 7, 7, 32)     36864       ['conv5_block3_1_relu[0][0]']    \n",
            "                                                                                                  \n",
            " conv5_block3_concat (Concatena  (None, 7, 7, 608)   0           ['conv5_block2_concat[0][0]',    \n",
            " te)                                                              'conv5_block3_2_conv[0][0]']    \n",
            "                                                                                                  \n",
            " conv5_block4_0_bn (BatchNormal  (None, 7, 7, 608)   2432        ['conv5_block3_concat[0][0]']    \n",
            " ization)                                                                                         \n",
            "                                                                                                  \n",
            " conv5_block4_0_relu (Activatio  (None, 7, 7, 608)   0           ['conv5_block4_0_bn[0][0]']      \n",
            " n)                                                                                               \n",
            "                                                                                                  \n",
            " conv5_block4_1_conv (Conv2D)   (None, 7, 7, 128)    77824       ['conv5_block4_0_relu[0][0]']    \n",
            "                                                                                                  \n",
            " conv5_block4_1_bn (BatchNormal  (None, 7, 7, 128)   512         ['conv5_block4_1_conv[0][0]']    \n",
            " ization)                                                                                         \n",
            "                                                                                                  \n",
            " conv5_block4_1_relu (Activatio  (None, 7, 7, 128)   0           ['conv5_block4_1_bn[0][0]']      \n",
            " n)                                                                                               \n",
            "                                                                                                  \n",
            " conv5_block4_2_conv (Conv2D)   (None, 7, 7, 32)     36864       ['conv5_block4_1_relu[0][0]']    \n",
            "                                                                                                  \n",
            " conv5_block4_concat (Concatena  (None, 7, 7, 640)   0           ['conv5_block3_concat[0][0]',    \n",
            " te)                                                              'conv5_block4_2_conv[0][0]']    \n",
            "                                                                                                  \n",
            " conv5_block5_0_bn (BatchNormal  (None, 7, 7, 640)   2560        ['conv5_block4_concat[0][0]']    \n",
            " ization)                                                                                         \n",
            "                                                                                                  \n",
            " conv5_block5_0_relu (Activatio  (None, 7, 7, 640)   0           ['conv5_block5_0_bn[0][0]']      \n",
            " n)                                                                                               \n",
            "                                                                                                  \n",
            " conv5_block5_1_conv (Conv2D)   (None, 7, 7, 128)    81920       ['conv5_block5_0_relu[0][0]']    \n",
            "                                                                                                  \n",
            " conv5_block5_1_bn (BatchNormal  (None, 7, 7, 128)   512         ['conv5_block5_1_conv[0][0]']    \n",
            " ization)                                                                                         \n",
            "                                                                                                  \n",
            " conv5_block5_1_relu (Activatio  (None, 7, 7, 128)   0           ['conv5_block5_1_bn[0][0]']      \n",
            " n)                                                                                               \n",
            "                                                                                                  \n",
            " conv5_block5_2_conv (Conv2D)   (None, 7, 7, 32)     36864       ['conv5_block5_1_relu[0][0]']    \n",
            "                                                                                                  \n",
            " conv5_block5_concat (Concatena  (None, 7, 7, 672)   0           ['conv5_block4_concat[0][0]',    \n",
            " te)                                                              'conv5_block5_2_conv[0][0]']    \n",
            "                                                                                                  \n",
            " conv5_block6_0_bn (BatchNormal  (None, 7, 7, 672)   2688        ['conv5_block5_concat[0][0]']    \n",
            " ization)                                                                                         \n",
            "                                                                                                  \n",
            " conv5_block6_0_relu (Activatio  (None, 7, 7, 672)   0           ['conv5_block6_0_bn[0][0]']      \n",
            " n)                                                                                               \n",
            "                                                                                                  \n",
            " conv5_block6_1_conv (Conv2D)   (None, 7, 7, 128)    86016       ['conv5_block6_0_relu[0][0]']    \n",
            "                                                                                                  \n",
            " conv5_block6_1_bn (BatchNormal  (None, 7, 7, 128)   512         ['conv5_block6_1_conv[0][0]']    \n",
            " ization)                                                                                         \n",
            "                                                                                                  \n",
            " conv5_block6_1_relu (Activatio  (None, 7, 7, 128)   0           ['conv5_block6_1_bn[0][0]']      \n",
            " n)                                                                                               \n",
            "                                                                                                  \n",
            " conv5_block6_2_conv (Conv2D)   (None, 7, 7, 32)     36864       ['conv5_block6_1_relu[0][0]']    \n",
            "                                                                                                  \n",
            " conv5_block6_concat (Concatena  (None, 7, 7, 704)   0           ['conv5_block5_concat[0][0]',    \n",
            " te)                                                              'conv5_block6_2_conv[0][0]']    \n",
            "                                                                                                  \n",
            " conv5_block7_0_bn (BatchNormal  (None, 7, 7, 704)   2816        ['conv5_block6_concat[0][0]']    \n",
            " ization)                                                                                         \n",
            "                                                                                                  \n",
            " conv5_block7_0_relu (Activatio  (None, 7, 7, 704)   0           ['conv5_block7_0_bn[0][0]']      \n",
            " n)                                                                                               \n",
            "                                                                                                  \n",
            " conv5_block7_1_conv (Conv2D)   (None, 7, 7, 128)    90112       ['conv5_block7_0_relu[0][0]']    \n",
            "                                                                                                  \n",
            " conv5_block7_1_bn (BatchNormal  (None, 7, 7, 128)   512         ['conv5_block7_1_conv[0][0]']    \n",
            " ization)                                                                                         \n",
            "                                                                                                  \n",
            " conv5_block7_1_relu (Activatio  (None, 7, 7, 128)   0           ['conv5_block7_1_bn[0][0]']      \n",
            " n)                                                                                               \n",
            "                                                                                                  \n",
            " conv5_block7_2_conv (Conv2D)   (None, 7, 7, 32)     36864       ['conv5_block7_1_relu[0][0]']    \n",
            "                                                                                                  \n",
            " conv5_block7_concat (Concatena  (None, 7, 7, 736)   0           ['conv5_block6_concat[0][0]',    \n",
            " te)                                                              'conv5_block7_2_conv[0][0]']    \n",
            "                                                                                                  \n",
            " conv5_block8_0_bn (BatchNormal  (None, 7, 7, 736)   2944        ['conv5_block7_concat[0][0]']    \n",
            " ization)                                                                                         \n",
            "                                                                                                  \n",
            " conv5_block8_0_relu (Activatio  (None, 7, 7, 736)   0           ['conv5_block8_0_bn[0][0]']      \n",
            " n)                                                                                               \n",
            "                                                                                                  \n",
            " conv5_block8_1_conv (Conv2D)   (None, 7, 7, 128)    94208       ['conv5_block8_0_relu[0][0]']    \n",
            "                                                                                                  \n",
            " conv5_block8_1_bn (BatchNormal  (None, 7, 7, 128)   512         ['conv5_block8_1_conv[0][0]']    \n",
            " ization)                                                                                         \n",
            "                                                                                                  \n",
            " conv5_block8_1_relu (Activatio  (None, 7, 7, 128)   0           ['conv5_block8_1_bn[0][0]']      \n",
            " n)                                                                                               \n",
            "                                                                                                  \n",
            " conv5_block8_2_conv (Conv2D)   (None, 7, 7, 32)     36864       ['conv5_block8_1_relu[0][0]']    \n",
            "                                                                                                  \n",
            " conv5_block8_concat (Concatena  (None, 7, 7, 768)   0           ['conv5_block7_concat[0][0]',    \n",
            " te)                                                              'conv5_block8_2_conv[0][0]']    \n",
            "                                                                                                  \n",
            " conv5_block9_0_bn (BatchNormal  (None, 7, 7, 768)   3072        ['conv5_block8_concat[0][0]']    \n",
            " ization)                                                                                         \n",
            "                                                                                                  \n",
            " conv5_block9_0_relu (Activatio  (None, 7, 7, 768)   0           ['conv5_block9_0_bn[0][0]']      \n",
            " n)                                                                                               \n",
            "                                                                                                  \n",
            " conv5_block9_1_conv (Conv2D)   (None, 7, 7, 128)    98304       ['conv5_block9_0_relu[0][0]']    \n",
            "                                                                                                  \n",
            " conv5_block9_1_bn (BatchNormal  (None, 7, 7, 128)   512         ['conv5_block9_1_conv[0][0]']    \n",
            " ization)                                                                                         \n",
            "                                                                                                  \n",
            " conv5_block9_1_relu (Activatio  (None, 7, 7, 128)   0           ['conv5_block9_1_bn[0][0]']      \n",
            " n)                                                                                               \n",
            "                                                                                                  \n",
            " conv5_block9_2_conv (Conv2D)   (None, 7, 7, 32)     36864       ['conv5_block9_1_relu[0][0]']    \n",
            "                                                                                                  \n",
            " conv5_block9_concat (Concatena  (None, 7, 7, 800)   0           ['conv5_block8_concat[0][0]',    \n",
            " te)                                                              'conv5_block9_2_conv[0][0]']    \n",
            "                                                                                                  \n",
            " conv5_block10_0_bn (BatchNorma  (None, 7, 7, 800)   3200        ['conv5_block9_concat[0][0]']    \n",
            " lization)                                                                                        \n",
            "                                                                                                  \n",
            " conv5_block10_0_relu (Activati  (None, 7, 7, 800)   0           ['conv5_block10_0_bn[0][0]']     \n",
            " on)                                                                                              \n",
            "                                                                                                  \n",
            " conv5_block10_1_conv (Conv2D)  (None, 7, 7, 128)    102400      ['conv5_block10_0_relu[0][0]']   \n",
            "                                                                                                  \n",
            " conv5_block10_1_bn (BatchNorma  (None, 7, 7, 128)   512         ['conv5_block10_1_conv[0][0]']   \n",
            " lization)                                                                                        \n",
            "                                                                                                  \n",
            " conv5_block10_1_relu (Activati  (None, 7, 7, 128)   0           ['conv5_block10_1_bn[0][0]']     \n",
            " on)                                                                                              \n",
            "                                                                                                  \n",
            " conv5_block10_2_conv (Conv2D)  (None, 7, 7, 32)     36864       ['conv5_block10_1_relu[0][0]']   \n",
            "                                                                                                  \n",
            " conv5_block10_concat (Concaten  (None, 7, 7, 832)   0           ['conv5_block9_concat[0][0]',    \n",
            " ate)                                                             'conv5_block10_2_conv[0][0]']   \n",
            "                                                                                                  \n",
            " conv5_block11_0_bn (BatchNorma  (None, 7, 7, 832)   3328        ['conv5_block10_concat[0][0]']   \n",
            " lization)                                                                                        \n",
            "                                                                                                  \n",
            " conv5_block11_0_relu (Activati  (None, 7, 7, 832)   0           ['conv5_block11_0_bn[0][0]']     \n",
            " on)                                                                                              \n",
            "                                                                                                  \n",
            " conv5_block11_1_conv (Conv2D)  (None, 7, 7, 128)    106496      ['conv5_block11_0_relu[0][0]']   \n",
            "                                                                                                  \n",
            " conv5_block11_1_bn (BatchNorma  (None, 7, 7, 128)   512         ['conv5_block11_1_conv[0][0]']   \n",
            " lization)                                                                                        \n",
            "                                                                                                  \n",
            " conv5_block11_1_relu (Activati  (None, 7, 7, 128)   0           ['conv5_block11_1_bn[0][0]']     \n",
            " on)                                                                                              \n",
            "                                                                                                  \n",
            " conv5_block11_2_conv (Conv2D)  (None, 7, 7, 32)     36864       ['conv5_block11_1_relu[0][0]']   \n",
            "                                                                                                  \n",
            " conv5_block11_concat (Concaten  (None, 7, 7, 864)   0           ['conv5_block10_concat[0][0]',   \n",
            " ate)                                                             'conv5_block11_2_conv[0][0]']   \n",
            "                                                                                                  \n",
            " conv5_block12_0_bn (BatchNorma  (None, 7, 7, 864)   3456        ['conv5_block11_concat[0][0]']   \n",
            " lization)                                                                                        \n",
            "                                                                                                  \n",
            " conv5_block12_0_relu (Activati  (None, 7, 7, 864)   0           ['conv5_block12_0_bn[0][0]']     \n",
            " on)                                                                                              \n",
            "                                                                                                  \n",
            " conv5_block12_1_conv (Conv2D)  (None, 7, 7, 128)    110592      ['conv5_block12_0_relu[0][0]']   \n",
            "                                                                                                  \n",
            " conv5_block12_1_bn (BatchNorma  (None, 7, 7, 128)   512         ['conv5_block12_1_conv[0][0]']   \n",
            " lization)                                                                                        \n",
            "                                                                                                  \n",
            " conv5_block12_1_relu (Activati  (None, 7, 7, 128)   0           ['conv5_block12_1_bn[0][0]']     \n",
            " on)                                                                                              \n",
            "                                                                                                  \n",
            " conv5_block12_2_conv (Conv2D)  (None, 7, 7, 32)     36864       ['conv5_block12_1_relu[0][0]']   \n",
            "                                                                                                  \n",
            " conv5_block12_concat (Concaten  (None, 7, 7, 896)   0           ['conv5_block11_concat[0][0]',   \n",
            " ate)                                                             'conv5_block12_2_conv[0][0]']   \n",
            "                                                                                                  \n",
            " conv5_block13_0_bn (BatchNorma  (None, 7, 7, 896)   3584        ['conv5_block12_concat[0][0]']   \n",
            " lization)                                                                                        \n",
            "                                                                                                  \n",
            " conv5_block13_0_relu (Activati  (None, 7, 7, 896)   0           ['conv5_block13_0_bn[0][0]']     \n",
            " on)                                                                                              \n",
            "                                                                                                  \n",
            " conv5_block13_1_conv (Conv2D)  (None, 7, 7, 128)    114688      ['conv5_block13_0_relu[0][0]']   \n",
            "                                                                                                  \n",
            " conv5_block13_1_bn (BatchNorma  (None, 7, 7, 128)   512         ['conv5_block13_1_conv[0][0]']   \n",
            " lization)                                                                                        \n",
            "                                                                                                  \n",
            " conv5_block13_1_relu (Activati  (None, 7, 7, 128)   0           ['conv5_block13_1_bn[0][0]']     \n",
            " on)                                                                                              \n",
            "                                                                                                  \n",
            " conv5_block13_2_conv (Conv2D)  (None, 7, 7, 32)     36864       ['conv5_block13_1_relu[0][0]']   \n",
            "                                                                                                  \n",
            " conv5_block13_concat (Concaten  (None, 7, 7, 928)   0           ['conv5_block12_concat[0][0]',   \n",
            " ate)                                                             'conv5_block13_2_conv[0][0]']   \n",
            "                                                                                                  \n",
            " conv5_block14_0_bn (BatchNorma  (None, 7, 7, 928)   3712        ['conv5_block13_concat[0][0]']   \n",
            " lization)                                                                                        \n",
            "                                                                                                  \n",
            " conv5_block14_0_relu (Activati  (None, 7, 7, 928)   0           ['conv5_block14_0_bn[0][0]']     \n",
            " on)                                                                                              \n",
            "                                                                                                  \n",
            " conv5_block14_1_conv (Conv2D)  (None, 7, 7, 128)    118784      ['conv5_block14_0_relu[0][0]']   \n",
            "                                                                                                  \n",
            " conv5_block14_1_bn (BatchNorma  (None, 7, 7, 128)   512         ['conv5_block14_1_conv[0][0]']   \n",
            " lization)                                                                                        \n",
            "                                                                                                  \n",
            " conv5_block14_1_relu (Activati  (None, 7, 7, 128)   0           ['conv5_block14_1_bn[0][0]']     \n",
            " on)                                                                                              \n",
            "                                                                                                  \n",
            " conv5_block14_2_conv (Conv2D)  (None, 7, 7, 32)     36864       ['conv5_block14_1_relu[0][0]']   \n",
            "                                                                                                  \n",
            " conv5_block14_concat (Concaten  (None, 7, 7, 960)   0           ['conv5_block13_concat[0][0]',   \n",
            " ate)                                                             'conv5_block14_2_conv[0][0]']   \n",
            "                                                                                                  \n",
            " conv5_block15_0_bn (BatchNorma  (None, 7, 7, 960)   3840        ['conv5_block14_concat[0][0]']   \n",
            " lization)                                                                                        \n",
            "                                                                                                  \n",
            " conv5_block15_0_relu (Activati  (None, 7, 7, 960)   0           ['conv5_block15_0_bn[0][0]']     \n",
            " on)                                                                                              \n",
            "                                                                                                  \n",
            " conv5_block15_1_conv (Conv2D)  (None, 7, 7, 128)    122880      ['conv5_block15_0_relu[0][0]']   \n",
            "                                                                                                  \n",
            " conv5_block15_1_bn (BatchNorma  (None, 7, 7, 128)   512         ['conv5_block15_1_conv[0][0]']   \n",
            " lization)                                                                                        \n",
            "                                                                                                  \n",
            " conv5_block15_1_relu (Activati  (None, 7, 7, 128)   0           ['conv5_block15_1_bn[0][0]']     \n",
            " on)                                                                                              \n",
            "                                                                                                  \n",
            " conv5_block15_2_conv (Conv2D)  (None, 7, 7, 32)     36864       ['conv5_block15_1_relu[0][0]']   \n",
            "                                                                                                  \n",
            " conv5_block15_concat (Concaten  (None, 7, 7, 992)   0           ['conv5_block14_concat[0][0]',   \n",
            " ate)                                                             'conv5_block15_2_conv[0][0]']   \n",
            "                                                                                                  \n",
            " conv5_block16_0_bn (BatchNorma  (None, 7, 7, 992)   3968        ['conv5_block15_concat[0][0]']   \n",
            " lization)                                                                                        \n",
            "                                                                                                  \n",
            " conv5_block16_0_relu (Activati  (None, 7, 7, 992)   0           ['conv5_block16_0_bn[0][0]']     \n",
            " on)                                                                                              \n",
            "                                                                                                  \n",
            " conv5_block16_1_conv (Conv2D)  (None, 7, 7, 128)    126976      ['conv5_block16_0_relu[0][0]']   \n",
            "                                                                                                  \n",
            " conv5_block16_1_bn (BatchNorma  (None, 7, 7, 128)   512         ['conv5_block16_1_conv[0][0]']   \n",
            " lization)                                                                                        \n",
            "                                                                                                  \n",
            " conv5_block16_1_relu (Activati  (None, 7, 7, 128)   0           ['conv5_block16_1_bn[0][0]']     \n",
            " on)                                                                                              \n",
            "                                                                                                  \n",
            " conv5_block16_2_conv (Conv2D)  (None, 7, 7, 32)     36864       ['conv5_block16_1_relu[0][0]']   \n",
            "                                                                                                  \n",
            " conv5_block16_concat (Concaten  (None, 7, 7, 1024)  0           ['conv5_block15_concat[0][0]',   \n",
            " ate)                                                             'conv5_block16_2_conv[0][0]']   \n",
            "                                                                                                  \n",
            " bn (BatchNormalization)        (None, 7, 7, 1024)   4096        ['conv5_block16_concat[0][0]']   \n",
            "                                                                                                  \n",
            " relu (Activation)              (None, 7, 7, 1024)   0           ['bn[0][0]']                     \n",
            "                                                                                                  \n",
            "==================================================================================================\n",
            "Total params: 7,037,504\n",
            "Trainable params: 0\n",
            "Non-trainable params: 7,037,504\n",
            "__________________________________________________________________________________________________\n"
          ]
        }
      ],
      "source": [
        "densnet.summary()"
      ]
    },
    {
      "cell_type": "code",
      "execution_count": 81,
      "metadata": {
        "id": "Otw36Rj2kFxm"
      },
      "outputs": [],
      "source": [
        "#Compile\n",
        "\n",
        "model.compile(optimizer=\"rmsprop\",\n",
        "              loss=\"categorical_crossentropy\", #For multi-class classification: categorical_crossentropy | sparse_categorical_crossentropy\n",
        "              metrics=[\n",
        "                       tf.keras.metrics.CategoricalAccuracy(name='accuracy'),\n",
        "                       tf.keras.metrics.AUC(name='auc'), \n",
        "                       tf.keras.metrics.Precision(name='precision'),\n",
        "                       tf.keras.metrics.Recall(name='recall'),\n",
        "                      ])"
      ]
    },
    {
      "cell_type": "code",
      "execution_count": 82,
      "metadata": {
        "id": "1_l_XYeQkLHR"
      },
      "outputs": [],
      "source": [
        "# Callbacks Convergence Criteria:\n",
        "# 1. Model must be a generalized model ( testScore > trainScore )\n",
        "# 2. Model's Test Score >= CL\n",
        "# Custom Callback which satisfies the above two criteria :)\n",
        "\n",
        "class MyQualityThreshold(tf.keras.callbacks.Callback):\n",
        "  def __init__(self,cl):\n",
        "    super(MyQualityThreshold, self).__init__()\n",
        "    self.cl = cl\n",
        "  \n",
        "  def on_epoch_end(self,epoch,logs=None):\n",
        "    testScore = logs['val_accuracy']\n",
        "    trainScore = logs['accuracy']\n",
        "    #epoch=logs['']\n",
        "\n",
        "    if (testScore > trainScore or testScore >= self.cl) and epoch > 2:\n",
        "      self.model.stop_training=True"
      ]
    },
    {
      "cell_type": "code",
      "execution_count": 83,
      "metadata": {
        "colab": {
          "base_uri": "https://localhost:8080/"
        },
        "id": "Mm4aX28MkQ4O",
        "outputId": "b37b53bc-888a-4c4d-f1e9-807ac7ebe056"
      },
      "outputs": [
        {
          "output_type": "stream",
          "name": "stdout",
          "text": [
            "Epoch 1/15\n",
            "35/35 [==============================] - 70s 2s/step - loss: 8.8647 - accuracy: 0.6148 - auc: 0.7431 - precision: 0.6173 - recall: 0.6148 - val_loss: 5.9221 - val_accuracy: 0.6190 - val_auc: 0.7526 - val_precision: 0.6190 - val_recall: 0.6190\n",
            "Epoch 2/15\n",
            "35/35 [==============================] - 58s 2s/step - loss: 3.1224 - accuracy: 0.7664 - auc: 0.8755 - precision: 0.7664 - recall: 0.7664 - val_loss: 12.1547 - val_accuracy: 0.5714 - val_auc: 0.6616 - val_precision: 0.5714 - val_recall: 0.5714\n",
            "Epoch 3/15\n",
            "35/35 [==============================] - 61s 2s/step - loss: 2.4496 - accuracy: 0.8238 - auc: 0.8946 - precision: 0.8238 - recall: 0.8238 - val_loss: 0.6015 - val_accuracy: 0.9048 - val_auc: 0.9601 - val_precision: 0.9048 - val_recall: 0.9048\n",
            "Epoch 4/15\n",
            "35/35 [==============================] - 58s 2s/step - loss: 1.6770 - accuracy: 0.9016 - auc: 0.9432 - precision: 0.9016 - recall: 0.9016 - val_loss: 5.8064 - val_accuracy: 0.6984 - val_auc: 0.8006 - val_precision: 0.6984 - val_recall: 0.6984\n",
            "Epoch 5/15\n",
            "35/35 [==============================] - 58s 2s/step - loss: 1.9554 - accuracy: 0.8776 - auc: 0.9321 - precision: 0.8776 - recall: 0.8776 - val_loss: 3.6631 - val_accuracy: 0.7619 - val_auc: 0.8554 - val_precision: 0.7619 - val_recall: 0.7619\n",
            "Epoch 6/15\n",
            "35/35 [==============================] - 58s 2s/step - loss: 1.7922 - accuracy: 0.8852 - auc: 0.9262 - precision: 0.8852 - recall: 0.8852 - val_loss: 6.1121 - val_accuracy: 0.6825 - val_auc: 0.7816 - val_precision: 0.6825 - val_recall: 0.6825\n",
            "Epoch 7/15\n",
            "35/35 [==============================] - 58s 2s/step - loss: 1.4293 - accuracy: 0.9180 - auc: 0.9464 - precision: 0.9180 - recall: 0.9180 - val_loss: 0.3307 - val_accuracy: 0.9683 - val_auc: 0.9754 - val_precision: 0.9683 - val_recall: 0.9683\n"
          ]
        }
      ],
      "source": [
        "#Fit Model \n",
        "batch_size=7\n",
        "history = model.fit(train_generator,\n",
        "                    validation_data=valid_generator,\n",
        "                    epochs=15,\n",
        "                    steps_per_epoch=len(train_generator.filenames) // batch_size,\n",
        "                    validation_steps=len(valid_generator.filenames) // batch_size,\n",
        "                    callbacks=[MyQualityThreshold(0.9)])"
      ]
    },
    {
      "cell_type": "code",
      "execution_count": 84,
      "metadata": {
        "colab": {
          "base_uri": "https://localhost:8080/",
          "height": 295
        },
        "id": "j3wkzXoykWLW",
        "outputId": "42e5ac9b-0d0f-4c9d-fb56-e3d243d5ca1b"
      },
      "outputs": [
        {
          "output_type": "display_data",
          "data": {
            "text/plain": [
              "<Figure size 432x288 with 1 Axes>"
            ],
            "image/png": "[encoded data removed]"
          },
          "metadata": {
            "needs_background": "light"
          }
        }
      ],
      "source": [
        "import keras\n",
        "from matplotlib import pyplot as plt\n",
        "plt.plot(history.history['accuracy'])\n",
        "plt.plot(history.history['val_accuracy'])\n",
        "plt.title('Densenet model accuracy')\n",
        "plt.ylabel('accuracy')\n",
        "plt.xlabel('epoch')\n",
        "plt.legend(['train', 'val'], loc='upper left')\n",
        "plt.show()"
      ]
    },
    {
      "cell_type": "code",
      "execution_count": 85,
      "metadata": {
        "colab": {
          "base_uri": "https://localhost:8080/",
          "height": 295
        },
        "id": "USxbQ5mbkaTV",
        "outputId": "16c0f63a-951a-42ff-fd41-533594759eb9"
      },
      "outputs": [
        {
          "output_type": "display_data",
          "data": {
            "text/plain": [
              "<Figure size 432x288 with 1 Axes>"
            ],
            "image/png": "[encoded data removed]"
          },
          "metadata": {
            "needs_background": "light"
          }
        }
      ],
      "source": [
        "plt.plot(history.history['loss'])\n",
        "plt.plot(history.history['val_loss'])\n",
        "plt.title('Densenet model loss')\n",
        "plt.ylabel('loss')\n",
        "plt.xlabel('epoch')\n",
        "plt.legend(['train', 'val'], loc='upper left')\n",
        "plt.show()"
      ]
    },
    {
      "cell_type": "code",
      "execution_count": 86,
      "metadata": {
        "colab": {
          "base_uri": "https://localhost:8080/",
          "height": 295
        },
        "id": "WmT5hOvt4np7",
        "outputId": "15c7ddb7-5ec2-4597-e99d-b9c2c796feb4"
      },
      "outputs": [
        {
          "output_type": "display_data",
          "data": {
            "text/plain": [
              "<Figure size 432x288 with 1 Axes>"
            ],
            "image/png": "[encoded data removed]"
          },
          "metadata": {
            "needs_background": "light"
          }
        }
      ],
      "source": [
        "plt.plot(history.history['precision'])\n",
        "plt.plot(history.history['val_precision'])\n",
        "plt.title('Densenet model precision')\n",
        "plt.ylabel('precision')\n",
        "plt.xlabel('epoch')\n",
        "plt.legend(['train', 'val'], loc='upper left')\n",
        "plt.show()"
      ]
    },
    {
      "cell_type": "code",
      "execution_count": 87,
      "metadata": {
        "colab": {
          "base_uri": "https://localhost:8080/",
          "height": 295
        },
        "id": "6g0DXe0T4oxP",
        "outputId": "4f911385-10fe-4861-def7-8a279d33d90a"
      },
      "outputs": [
        {
          "output_type": "display_data",
          "data": {
            "text/plain": [
              "<Figure size 432x288 with 1 Axes>"
            ],
            "image/png": "[encoded data removed]"
          },
          "metadata": {
            "needs_background": "light"
          }
        }
      ],
      "source": [
        "plt.plot(history.history['recall'])\n",
        "plt.plot(history.history['val_recall'])\n",
        "plt.title('Densenet model recall')\n",
        "plt.ylabel('recall')\n",
        "plt.xlabel('epoch')\n",
        "plt.legend(['train', 'val'], loc='upper left')\n",
        "plt.show()"
      ]
    },
    {
      "cell_type": "code",
      "execution_count": 88,
      "metadata": {
        "colab": {
          "base_uri": "https://localhost:8080/",
          "height": 295
        },
        "id": "24HMvcIn4_49",
        "outputId": "d85a6218-caf7-4b23-c115-bb3dcb3d1449"
      },
      "outputs": [
        {
          "output_type": "display_data",
          "data": {
            "text/plain": [
              "<Figure size 432x288 with 1 Axes>"
            ],
            "image/png": "[encoded data removed]"
          },
          "metadata": {
            "needs_background": "light"
          }
        }
      ],
      "source": [
        "plt.plot(history.history['auc'])\n",
        "plt.plot(history.history['val_auc'])\n",
        "plt.title('Densenet model auc')\n",
        "plt.ylabel('auc')\n",
        "plt.xlabel('epoch')\n",
        "plt.legend(['train', 'val'], loc='upper left')\n",
        "plt.show()"
      ]
    },
    {
      "cell_type": "code",
      "execution_count": 89,
      "metadata": {
        "colab": {
          "base_uri": "https://localhost:8080/"
        },
        "id": "NvIN3AmhkfjW",
        "outputId": "a95a2604-afac-4918-8d2b-fa736c38e48f"
      },
      "outputs": [
        {
          "output_type": "stream",
          "name": "stdout",
          "text": [
            "INFO:tensorflow:Assets written to: LungsDetectorDenseNet/assets\n"
          ]
        },
        {
          "output_type": "stream",
          "name": "stderr",
          "text": [
            "INFO:tensorflow:Assets written to: LungsDetectorDenseNet/assets\n"
          ]
        }
      ],
      "source": [
        "#Saving Model\n",
        "model.save(\"LungsDetectorDenseNet\")"
      ]
    },
    {
      "cell_type": "code",
      "execution_count": 90,
      "metadata": {
        "colab": {
          "base_uri": "https://localhost:8080/",
          "height": 286
        },
        "id": "mO0HHcWakpRs",
        "outputId": "1fc0b254-1be3-4c96-e1c8-ee165983c274"
      },
      "outputs": [
        {
          "output_type": "execute_result",
          "data": {
            "text/plain": [
              "<matplotlib.image.AxesImage at 0x7fe947630210>"
            ]
          },
          "metadata": {},
          "execution_count": 90
        },
        {
          "output_type": "display_data",
          "data": {
            "text/plain": [
              "<Figure size 432x288 with 1 Axes>"
            ],
            "image/png": "[encoded data removed]"
          },
          "metadata": {
            "needs_background": "light"
          }
        }
      ],
      "source": [
        "#Step1 - Load an Image\n",
        "import matplotlib.pyplot as plt\n",
        "import numpy as np\n",
        "%matplotlib inline\n",
        "\n",
        "imageToPredict = tf.keras.preprocessing.image.load_img('COVID-00012.jpg', target_size=(224, 224))\n",
        "plt.imshow(imageToPredict)"
      ]
    },
    {
      "cell_type": "code",
      "execution_count": 91,
      "metadata": {
        "colab": {
          "base_uri": "https://localhost:8080/"
        },
        "id": "W0sZ6mcgkvYf",
        "outputId": "ea61e3c6-f999-43e5-b270-849e038d1183"
      },
      "outputs": [
        {
          "output_type": "execute_result",
          "data": {
            "text/plain": [
              "(224, 224, 3)"
            ]
          },
          "metadata": {},
          "execution_count": 91
        }
      ],
      "source": [
        "#Step2: Convert image to np array \n",
        "myImageNPArray = tf.keras.preprocessing.image.img_to_array(imageToPredict)\n",
        "myImageNPArray.shape"
      ]
    },
    {
      "cell_type": "code",
      "execution_count": 92,
      "metadata": {
        "colab": {
          "base_uri": "https://localhost:8080/"
        },
        "id": "rK92f1ENk0BW",
        "outputId": "86e0f92b-a4de-4556-b608-f44aca28c33c"
      },
      "outputs": [
        {
          "output_type": "execute_result",
          "data": {
            "text/plain": [
              "(1, 224, 224, 3)"
            ]
          },
          "metadata": {},
          "execution_count": 92
        }
      ],
      "source": [
        "# Step3: Make the image compatible for the model by adding n\n",
        "myCompatibleImage = np.expand_dims(myImageNPArray, axis = 0)\n",
        "myCompatibleImage.shape"
      ]
    },
    {
      "cell_type": "code",
      "execution_count": 93,
      "metadata": {
        "colab": {
          "base_uri": "https://localhost:8080/"
        },
        "id": "06YJkzvVk9gQ",
        "outputId": "3591e94e-1c7c-4b63-e7c4-f8545c9380ac"
      },
      "outputs": [
        {
          "output_type": "execute_result",
          "data": {
            "text/plain": [
              "array([[1., 0., 0.]], dtype=float32)"
            ]
          },
          "metadata": {},
          "execution_count": 93
        }
      ],
      "source": [
        "#Step4: Prediction\n",
        "prediction = model.predict(myCompatibleImage)\n",
        "prediction"
      ]
    },
    {
      "cell_type": "code",
      "execution_count": 94,
      "metadata": {
        "colab": {
          "base_uri": "https://localhost:8080/",
          "height": 37
        },
        "id": "pXpy59BnlK9p",
        "outputId": "30ddf124-fab1-45e5-cdec-61953ff3d30a"
      },
      "outputs": [
        {
          "output_type": "execute_result",
          "data": {
            "text/plain": [
              "'Type 1 disease'"
            ],
            "application/vnd.google.colaboratory.intrinsic+json": {
              "type": "string"
            }
          },
          "metadata": {},
          "execution_count": 94
        }
      ],
      "source": [
        "list(train_generator.class_indices)[np.argmax(prediction)]"
      ]
    },
    {
      "cell_type": "markdown",
      "metadata": {
        "id": "B3rpHY3y94_u"
      },
      "source": [
        "**Inference:** \n",
        "\n",
        "Densenet is also able to predict the test image as right classification of disease Type1"
      ]
    },
    {
      "cell_type": "markdown",
      "metadata": {
        "id": "xtnlfEh--LAs"
      },
      "source": [
        "#Summary / Comparison of prediction effectiveness between different ANN networks. \n",
        "* **4x models** were compared based on 10x Epochs max: \n",
        "  * CNN without Augmentation\n",
        "  * CNN with Augmentation\n",
        "  * MobileNet (Convolution layer - Pretrained)\n",
        "  * DenseNet  (Convolution layer - Pretrained)\n",
        "* **5x metrics** were used to compare models:\n",
        "  * *Accuracy*: (How accurately model can classify - Higher the better)\n",
        "  * *Precision*: (Reliability in classifying the model as positive - Higher the better)\n",
        "  * *Recall*: (Higher the better - shows more positive samples can be detected)\n",
        "  * *Loss*: (Imperfection in prediction - Lower the Better)\n",
        "  * *ACU*: (Distinguish between positive & negative classes - Higher the Better)\n",
        "\n",
        "**Note**: Since the X-Ray images though in RGB format were actually in grayscale, and hence whole analysis not repeated with both RGB and Grayscale modes. \n",
        "\n",
        "* **Conclusion**: \n",
        "  * All 4x models were able to predict right disease type based on test image provided.\n",
        "  * **Rank#1: My CNN with Augmentation** gave best prediction based on all metrics; It gave almost perfect accuracy; Though it gave overfit, it wasn't overall not bad, and augmentation clearly helped training fit. \n",
        "  * **Rank#2: My CNN without Augmentation** gave next best prediction based on all metrics. Can see the gap due to missing augmentation. \n",
        "  * **Rank#3: DenseNet** came next; It utilises dense connections between layers, through Dense Blocks, where we connect all layers (with matching feature-map sizes) directly with each other. They alleviate the vanishing-gradient problem, strengthen feature propagation, encourage feature reuse, and substantially reduce the number of parameters. Accuracy, ACU, precision & recall were pretty high, but loss was higher. Training of convolution layers should improve results.\n",
        "  * **Rank#4: MobileNet** came last; \n",
        "Image result for compare Mobilenet and densenet\n",
        "MobileNet uses depthwise separable convolutions. It significantly reduces the number of parameters when compared to the network with regular convolutions with the same depth in the nets. This results in lightweight deep neural networks, but took maximum time for model fitting. Though precision was ~1, acccuracy was < 0.5 & recall < 0.02. Higher no: of epochs + training of convolution layers should improve results.  \n",
        "\n",
        "\n",
        "\n"
      ]
    }
  ],
  "metadata": {
    "colab": {
      "collapsed_sections": [],
      "name": "CNN_Lung_infection_prediction_raj.ipynb",
      "provenance": [],
      "include_colab_link": true
    },
    "gpuClass": "standard",
    "kernelspec": {
      "display_name": "Python 3 (ipykernel)",
      "language": "python",
      "name": "python3"
    },
    "language_info": {
      "codemirror_mode": {
        "name": "ipython",
        "version": 3
      },
      "file_extension": ".py",
      "mimetype": "text/x-python",
      "name": "python",
      "nbconvert_exporter": "python",
      "pygments_lexer": "ipython3",
      "version": "3.9.12"
    }
  },
  "nbformat": 4,
  "nbformat_minor": 0
}