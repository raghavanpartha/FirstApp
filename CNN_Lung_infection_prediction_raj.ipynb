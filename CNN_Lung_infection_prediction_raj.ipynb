{
  "cells": [
    {
      "cell_type": "markdown",
      "metadata": {
        "id": "view-in-github",
        "colab_type": "text"
      },
      "source": [
        "<a href=\"https://colab.research.google.com/github/raghavanpartha/FirstApp/blob/main/CNN_Lung_infection_prediction_raj.ipynb\" target=\"_parent\"><img src=\"https://colab.research.google.com/assets/colab-badge.svg\" alt=\"Open In Colab\"/></a>"
      ]
    },
    {
      "cell_type": "code",
      "execution_count": 2,
      "metadata": {
        "id": "M8IedwFdWy0W"
      },
      "outputs": [],
      "source": [
        "# CNN Lung infection prediction by Srinivasa Raghavan, Coding done on Colab"
      ]
    },
    {
      "cell_type": "code",
      "execution_count": 3,
      "metadata": {
        "id": "Nl79FFVcXa9f"
      },
      "outputs": [],
      "source": [
        "# Create a Classification model that can predict whether the given image belongs to Healthy lung or type1 or type2 disease"
      ]
    },
    {
      "cell_type": "code",
      "execution_count": 4,
      "metadata": {
        "colab": {
          "base_uri": "https://localhost:8080/"
        },
        "id": "bf5EUKKNXevp",
        "outputId": "1acf9b32-bf5f-4129-adee-264d730f1027"
      },
      "outputs": [
        {
          "output_type": "stream",
          "name": "stdout",
          "text": [
            "Archive:  data_Lungs.zip\n",
            "replace __MACOSX/._data_Lungs? [y]es, [n]o, [A]ll, [N]one, [r]ename: A\n",
            "  inflating: __MACOSX/._data_Lungs   \n",
            "  inflating: data_Lungs/.DS_Store    \n",
            "  inflating: __MACOSX/data_Lungs/._test  \n",
            "  inflating: __MACOSX/data_Lungs/._train  \n",
            "  inflating: __MACOSX/data_Lungs/test/._Type 1 disease  \n",
            "  inflating: data_Lungs/test/.DS_Store  \n",
            "  inflating: __MACOSX/data_Lungs/test/._healthy  \n",
            "  inflating: __MACOSX/data_Lungs/test/._Type 2 disease  \n",
            "  inflating: __MACOSX/data_Lungs/train/._Type 1 disease  \n",
            "  inflating: data_Lungs/train/.DS_Store  \n",
            "  inflating: __MACOSX/data_Lungs/train/._healthy  \n",
            "  inflating: __MACOSX/data_Lungs/train/._Type 2 disease  \n",
            "  inflating: data_Lungs/test/Type 1 disease/radiopaedia-2019-novel-coronavirus-infected-pneumonia.jpg  \n",
            "  inflating: data_Lungs/test/Type 1 disease/COVID-00012.jpg  \n",
            "  inflating: data_Lungs/test/Type 1 disease/0105.png  \n",
            "  inflating: data_Lungs/test/Type 1 disease/0111.jpg  \n",
            "  inflating: data_Lungs/test/Type 1 disease/0112.jpg  \n",
            "  inflating: data_Lungs/test/Type 1 disease/0113.jpg  \n",
            "  inflating: data_Lungs/test/Type 1 disease/auntminnie-a-2020_01_28_23_51_6665_2020_01_28_Vietnam_coronavirus.jpeg  \n",
            "  inflating: data_Lungs/test/Type 1 disease/098.jpeg  \n",
            "  inflating: data_Lungs/test/Type 1 disease/0106.jpeg  \n",
            "  inflating: data_Lungs/test/Type 1 disease/auntminnie-c-2020_01_28_23_51_6665_2020_01_28_Vietnam_coronavirus.jpeg  \n",
            "  inflating: data_Lungs/test/Type 1 disease/auntminnie-b-2020_01_28_23_51_6665_2020_01_28_Vietnam_coronavirus.jpeg  \n",
            "  inflating: data_Lungs/test/Type 1 disease/0100.jpeg  \n",
            "  inflating: data_Lungs/test/Type 1 disease/auntminnie-2020_01_31_20_24_2322_2020_01_31_x-ray_coronavirus_US.jpg  \n",
            "  inflating: data_Lungs/test/Type 1 disease/0119.jpeg  \n",
            "  inflating: data_Lungs/test/Type 1 disease/096.png  \n",
            "  inflating: data_Lungs/test/Type 1 disease/094.png  \n",
            "  inflating: data_Lungs/test/Type 1 disease/0115.jpeg  \n",
            "  inflating: data_Lungs/test/Type 1 disease/0102.jpeg  \n",
            "  inflating: data_Lungs/test/Type 1 disease/0118.jpeg  \n",
            "  inflating: data_Lungs/test/Type 1 disease/COVID-00033.jpg  \n",
            "  inflating: data_Lungs/test/Type 1 disease/auntminnie-d-2020_01_28_23_51_6665_2020_01_28_Vietnam_coronavirus.jpeg  \n",
            "  inflating: data_Lungs/test/Type 1 disease/0108.jpeg  \n",
            "  inflating: data_Lungs/test/Type 1 disease/COVID-00022.jpg  \n",
            "  inflating: data_Lungs/test/Type 1 disease/COVID-00003b.jpg  \n",
            "  inflating: data_Lungs/test/Type 1 disease/0120.jpg  \n",
            "  inflating: data_Lungs/test/Type 1 disease/COVID-00037.jpg  \n",
            "  inflating: data_Lungs/test/healthy/0107.jpeg  \n",
            "  inflating: data_Lungs/test/healthy/0111.jpeg  \n",
            "  inflating: data_Lungs/test/healthy/.DS_Store  \n",
            "  inflating: __MACOSX/data_Lungs/test/healthy/._.DS_Store  \n",
            "  inflating: data_Lungs/test/healthy/0110.jpeg  \n",
            "  inflating: data_Lungs/test/healthy/0106.jpeg  \n",
            "  inflating: data_Lungs/test/healthy/0121.jpeg  \n",
            "  inflating: data_Lungs/test/healthy/0101.jpeg  \n",
            "  inflating: data_Lungs/test/healthy/0117.jpeg  \n",
            "  inflating: data_Lungs/test/healthy/0116.jpeg  \n",
            "  inflating: data_Lungs/test/healthy/0120.jpeg  \n",
            "  inflating: data_Lungs/test/healthy/0119.jpeg  \n",
            "  inflating: data_Lungs/test/healthy/0115.jpeg  \n",
            "  inflating: data_Lungs/test/healthy/0103.jpeg  \n",
            "  inflating: data_Lungs/test/healthy/0102.jpeg  \n",
            "  inflating: data_Lungs/test/healthy/0114.jpeg  \n",
            "  inflating: data_Lungs/test/healthy/0118.jpeg  \n",
            "  inflating: data_Lungs/test/healthy/0122.jpeg  \n",
            "  inflating: data_Lungs/test/healthy/0105.jpeg  \n",
            "  inflating: data_Lungs/test/healthy/0109.jpeg  \n",
            "  inflating: data_Lungs/test/healthy/0108.jpeg  \n",
            "  inflating: data_Lungs/test/healthy/0112.jpeg  \n",
            "  inflating: data_Lungs/test/Type 2 disease/0107.jpeg  \n",
            "  inflating: data_Lungs/test/Type 2 disease/0111.jpeg  \n",
            "  inflating: data_Lungs/test/Type 2 disease/0110.jpeg  \n",
            "  inflating: data_Lungs/test/Type 2 disease/0106.jpeg  \n",
            "  inflating: data_Lungs/test/Type 2 disease/0101.jpeg  \n",
            "  inflating: data_Lungs/test/Type 2 disease/0117.jpeg  \n",
            "  inflating: data_Lungs/test/Type 2 disease/0116.jpeg  \n",
            "  inflating: data_Lungs/test/Type 2 disease/0120.jpeg  \n",
            "  inflating: data_Lungs/test/Type 2 disease/0119.jpeg  \n",
            "  inflating: data_Lungs/test/Type 2 disease/0115.jpeg  \n",
            "  inflating: data_Lungs/test/Type 2 disease/0103.jpeg  \n",
            "  inflating: data_Lungs/test/Type 2 disease/0102.jpeg  \n",
            "  inflating: data_Lungs/test/Type 2 disease/0114.jpeg  \n",
            "  inflating: data_Lungs/test/Type 2 disease/0118.jpeg  \n",
            "  inflating: data_Lungs/test/Type 2 disease/0113.jpeg  \n",
            "  inflating: data_Lungs/test/Type 2 disease/0105.jpeg  \n",
            "  inflating: data_Lungs/test/Type 2 disease/0109.jpeg  \n",
            "  inflating: data_Lungs/test/Type 2 disease/0108.jpeg  \n",
            "  inflating: data_Lungs/test/Type 2 disease/0104.jpeg  \n",
            "  inflating: data_Lungs/test/Type 2 disease/0112.jpeg  \n",
            "  inflating: data_Lungs/train/Type 1 disease/COVID-00006.jpg  \n",
            "  inflating: data_Lungs/train/Type 1 disease/COVID-00012.jpg  \n",
            "  inflating: data_Lungs/train/Type 1 disease/06.jpeg  \n",
            "  inflating: data_Lungs/train/Type 1 disease/060.jpeg  \n",
            "  inflating: data_Lungs/train/Type 1 disease/COVID-00007.jpg  \n",
            "  inflating: data_Lungs/train/Type 1 disease/021.jpeg  \n",
            "  inflating: data_Lungs/train/Type 1 disease/COVID-00011.jpg  \n",
            "  inflating: data_Lungs/train/Type 1 disease/COVID-00005.jpg  \n",
            "  inflating: data_Lungs/train/Type 1 disease/040.jpeg  \n",
            "  inflating: data_Lungs/train/Type 1 disease/015.jpg  \n",
            "  inflating: data_Lungs/train/Type 1 disease/083.jpeg  \n",
            "  inflating: data_Lungs/train/Type 1 disease/COVID-00038.jpg  \n",
            "  inflating: data_Lungs/train/Type 1 disease/COVID-00004.jpg  \n",
            "  inflating: data_Lungs/train/Type 1 disease/COVID-00010.jpg  \n",
            "  inflating: data_Lungs/train/Type 1 disease/COVID-00028.jpg  \n",
            "  inflating: data_Lungs/train/Type 1 disease/COVID-00014.jpg  \n",
            "  inflating: data_Lungs/train/Type 1 disease/010.png  \n",
            "  inflating: data_Lungs/train/Type 1 disease/041.jpeg  \n",
            "  inflating: data_Lungs/train/Type 1 disease/COVID-00001.jpg  \n",
            "  inflating: data_Lungs/train/Type 1 disease/COVID-00029.jpg  \n",
            "  inflating: data_Lungs/train/Type 1 disease/057.jpeg  \n",
            "  inflating: data_Lungs/train/Type 1 disease/COVID-00017.jpg  \n",
            "  inflating: data_Lungs/train/Type 1 disease/COVID-00016.jpg  \n",
            "  inflating: data_Lungs/train/Type 1 disease/COVID-00002.jpg  \n",
            "  inflating: data_Lungs/train/Type 1 disease/050.jpeg  \n",
            "  inflating: data_Lungs/train/Type 1 disease/046.jpeg  \n",
            "  inflating: data_Lungs/train/Type 1 disease/061.jpg  \n",
            "  inflating: data_Lungs/train/Type 1 disease/074.jpg  \n",
            "  inflating: data_Lungs/train/Type 1 disease/085.jpeg  \n",
            "  inflating: data_Lungs/train/Type 1 disease/089.jpg  \n",
            "  inflating: data_Lungs/train/Type 1 disease/076.jpg  \n",
            "  inflating: data_Lungs/train/Type 1 disease/031.jpeg  \n",
            "  inflating: data_Lungs/train/Type 1 disease/027.jpeg  \n",
            "  inflating: data_Lungs/train/Type 1 disease/026.jpeg  \n",
            "  inflating: data_Lungs/train/Type 1 disease/088.jpeg  \n",
            "  inflating: data_Lungs/train/Type 1 disease/067.jpg  \n",
            "  inflating: data_Lungs/train/Type 1 disease/073.jpg  \n",
            "  inflating: data_Lungs/train/Type 1 disease/01.jpeg  \n",
            "  inflating: data_Lungs/train/Type 1 disease/07.jpg  \n",
            "  inflating: data_Lungs/train/Type 1 disease/084.jpeg  \n",
            "  inflating: data_Lungs/train/Type 1 disease/064.jpg  \n",
            "  inflating: data_Lungs/train/Type 1 disease/071.jpg  \n",
            "  inflating: data_Lungs/train/Type 1 disease/047.jpeg  \n",
            "  inflating: data_Lungs/train/Type 1 disease/04.png  \n",
            "  inflating: data_Lungs/train/Type 1 disease/051.jpeg  \n",
            "  inflating: data_Lungs/train/Type 1 disease/09.png  \n",
            "  inflating: data_Lungs/train/Type 1 disease/068.jpg  \n",
            "  inflating: data_Lungs/train/Type 1 disease/069.jpg  \n",
            "  inflating: data_Lungs/train/Type 1 disease/044.jpeg  \n",
            "  inflating: data_Lungs/train/Type 1 disease/082.jpg  \n",
            "  inflating: data_Lungs/train/Type 1 disease/052.jpeg  \n",
            "  inflating: data_Lungs/train/Type 1 disease/025.jpeg  \n",
            "  inflating: data_Lungs/train/Type 1 disease/072.jpeg  \n",
            "  inflating: data_Lungs/train/Type 1 disease/080.jpg  \n",
            "  inflating: data_Lungs/train/Type 1 disease/056.jpg  \n",
            "  inflating: data_Lungs/train/Type 1 disease/048.jpeg  \n",
            "  inflating: data_Lungs/train/Type 1 disease/02.jpeg  \n",
            "  inflating: data_Lungs/train/Type 1 disease/03.jpeg  \n",
            "  inflating: data_Lungs/train/Type 1 disease/091.jpg  \n",
            "  inflating: data_Lungs/train/Type 1 disease/049.jpeg  \n",
            "  inflating: data_Lungs/train/Type 1 disease/032.jpeg  \n",
            "  inflating: data_Lungs/train/Type 1 disease/065.jpeg  \n",
            "  inflating: data_Lungs/train/Type 1 disease/COVID-00013b.jpg  \n",
            "  inflating: data_Lungs/train/Type 1 disease/024.jpeg  \n",
            "  inflating: data_Lungs/train/Type 1 disease/053.jpeg  \n",
            "  inflating: data_Lungs/train/Type 1 disease/012.jpeg  \n",
            "  inflating: data_Lungs/train/Type 1 disease/092.png  \n",
            "  inflating: data_Lungs/train/Type 1 disease/045.jpeg  \n",
            "  inflating: data_Lungs/train/Type 1 disease/086.jpg  \n",
            "  inflating: data_Lungs/train/Type 1 disease/090.jpeg  \n",
            "  inflating: data_Lungs/train/Type 1 disease/COVID-00013a.jpg  \n",
            "  inflating: data_Lungs/train/Type 1 disease/COVID-00027.jpg  \n",
            "  inflating: data_Lungs/train/Type 1 disease/COVID-00033.jpg  \n",
            "  inflating: data_Lungs/train/Type 1 disease/062.jpeg  \n",
            "  inflating: data_Lungs/train/Type 1 disease/COVID-00032.jpg  \n",
            "  inflating: data_Lungs/train/Type 1 disease/COVID-00026.jpg  \n",
            "  inflating: data_Lungs/train/Type 1 disease/058.jpeg  \n",
            "  inflating: data_Lungs/train/Type 1 disease/COVID-00030.jpg  \n",
            "  inflating: data_Lungs/train/Type 1 disease/COVID-00024.jpg  \n",
            "  inflating: data_Lungs/train/Type 1 disease/078.jpeg  \n",
            "  inflating: data_Lungs/train/Type 1 disease/COVID-00018.jpg  \n",
            "  inflating: data_Lungs/train/Type 1 disease/081.jpeg  \n",
            "  inflating: data_Lungs/train/Type 1 disease/020.jpg  \n",
            "  inflating: data_Lungs/train/Type 1 disease/039.jpeg  \n",
            "  inflating: data_Lungs/train/Type 1 disease/042.jpeg  \n",
            "  inflating: data_Lungs/train/Type 1 disease/08.jpeg  \n",
            "  inflating: data_Lungs/train/Type 1 disease/COVID-00019.jpg  \n",
            "  inflating: data_Lungs/train/Type 1 disease/COVID-00025.jpg  \n",
            "  inflating: data_Lungs/train/Type 1 disease/COVID-00031.jpg  \n",
            "  inflating: data_Lungs/train/Type 1 disease/054.jpeg  \n",
            "  inflating: data_Lungs/train/Type 1 disease/055.jpeg  \n",
            "  inflating: data_Lungs/train/Type 1 disease/COVID-00009.jpg  \n",
            "  inflating: data_Lungs/train/Type 1 disease/COVID-00035.jpg  \n",
            "  inflating: data_Lungs/train/Type 1 disease/COVID-00021.jpg  \n",
            "  inflating: data_Lungs/train/Type 1 disease/019.png  \n",
            "  inflating: data_Lungs/train/Type 1 disease/043.jpeg  \n",
            "  inflating: data_Lungs/train/Type 1 disease/COVID-00003a.jpg  \n",
            "  inflating: data_Lungs/train/Type 1 disease/COVID-00020.jpg  \n",
            "  inflating: data_Lungs/train/Type 1 disease/COVID-00034.jpg  \n",
            "  inflating: data_Lungs/train/Type 1 disease/079.jpeg  \n",
            "  inflating: data_Lungs/train/Type 1 disease/COVID-00008.jpg  \n",
            "  inflating: data_Lungs/train/Type 1 disease/COVID-00015a.png  \n",
            "  inflating: data_Lungs/train/Type 1 disease/059.jpeg  \n",
            "  inflating: data_Lungs/train/Type 1 disease/COVID-00022.jpg  \n",
            "  inflating: data_Lungs/train/Type 1 disease/COVID-00036.jpg  \n",
            "  inflating: data_Lungs/train/Type 1 disease/COVID-00003b.jpg  \n",
            "  inflating: data_Lungs/train/Type 1 disease/033.png  \n",
            "  inflating: data_Lungs/train/Type 1 disease/COVID-00037.jpg  \n",
            "  inflating: data_Lungs/train/Type 1 disease/COVID-00023.jpg  \n",
            "  inflating: data_Lungs/train/Type 1 disease/COVID-00015b.png  \n",
            "  inflating: data_Lungs/train/Type 1 disease/022.jpeg  \n",
            "  inflating: data_Lungs/train/healthy/06.jpeg  \n",
            "  inflating: data_Lungs/train/healthy/060.jpeg  \n",
            "  inflating: data_Lungs/train/healthy/076.jpeg  \n",
            "  inflating: data_Lungs/train/healthy/021.jpeg  \n",
            "  inflating: data_Lungs/train/healthy/056.jpeg  \n",
            "  inflating: data_Lungs/train/healthy/017.jpeg  \n",
            "  inflating: data_Lungs/train/healthy/083.jpeg  \n",
            "  inflating: data_Lungs/train/healthy/095.jpeg  \n",
            "  inflating: data_Lungs/train/healthy/094.jpeg  \n",
            "  inflating: data_Lungs/train/healthy/082.jpeg  \n",
            "  inflating: data_Lungs/train/healthy/016.jpeg  \n",
            "  inflating: data_Lungs/train/healthy/057.jpeg  \n",
            "  inflating: data_Lungs/train/healthy/020.jpeg  \n",
            "  inflating: data_Lungs/train/healthy/077.jpeg  \n",
            "  inflating: data_Lungs/train/healthy/061.jpeg  \n",
            "  inflating: data_Lungs/train/healthy/07.jpeg  \n",
            "  inflating: data_Lungs/train/healthy/050.jpeg  \n",
            "  inflating: data_Lungs/train/healthy/011.jpeg  \n",
            "  inflating: data_Lungs/train/healthy/085.jpeg  \n",
            "  inflating: data_Lungs/train/healthy/093.jpeg  \n",
            "  inflating: data_Lungs/train/healthy/066.jpeg  \n",
            "  inflating: data_Lungs/train/healthy/070.jpeg  \n",
            "  inflating: data_Lungs/train/healthy/071.jpeg  \n",
            "  inflating: data_Lungs/train/healthy/067.jpeg  \n",
            "  inflating: data_Lungs/train/healthy/088.jpeg  \n",
            "  inflating: data_Lungs/train/healthy/01.jpeg  \n",
            "  inflating: data_Lungs/train/healthy/092.jpeg  \n",
            "  inflating: data_Lungs/train/healthy/084.jpeg  \n",
            "  inflating: data_Lungs/train/healthy/010.jpeg  \n",
            "  inflating: data_Lungs/train/healthy/051.jpeg  \n",
            "  inflating: data_Lungs/train/healthy/091.jpeg  \n",
            "  inflating: data_Lungs/train/healthy/087.jpeg  \n",
            "  inflating: data_Lungs/train/healthy/068.jpeg  \n",
            "  inflating: data_Lungs/train/healthy/013.jpeg  \n",
            "  inflating: data_Lungs/train/healthy/052.jpeg  \n",
            "  inflating: data_Lungs/train/healthy/025.jpeg  \n",
            "  inflating: data_Lungs/train/healthy/072.jpeg  \n",
            "  inflating: data_Lungs/train/healthy/064.jpeg  \n",
            "  inflating: data_Lungs/train/healthy/02.jpeg  \n",
            "  inflating: data_Lungs/train/healthy/03.jpeg  \n",
            "  inflating: data_Lungs/train/healthy/065.jpeg  \n",
            "  inflating: data_Lungs/train/healthy/073.jpeg  \n",
            "  inflating: data_Lungs/train/healthy/024.jpeg  \n",
            "  inflating: data_Lungs/train/healthy/053.jpeg  \n",
            "  inflating: data_Lungs/train/healthy/012.jpeg  \n",
            "  inflating: data_Lungs/train/healthy/086.jpeg  \n",
            "  inflating: data_Lungs/train/healthy/069.jpeg  \n",
            "  inflating: data_Lungs/train/healthy/023.jpeg  \n",
            "  inflating: data_Lungs/train/healthy/074.jpeg  \n",
            "  inflating: data_Lungs/train/healthy/062.jpeg  \n",
            "  inflating: data_Lungs/train/healthy/019.jpeg  \n",
            "  inflating: data_Lungs/train/healthy/04.jpeg  \n",
            "  inflating: data_Lungs/train/healthy/058.jpeg  \n",
            "  inflating: data_Lungs/train/healthy/097.jpeg  \n",
            "  inflating: data_Lungs/train/healthy/081.jpeg  \n",
            "  inflating: data_Lungs/train/healthy/015.jpeg  \n",
            "  inflating: data_Lungs/train/healthy/08.jpeg  \n",
            "  inflating: data_Lungs/train/healthy/054.jpeg  \n",
            "  inflating: data_Lungs/train/healthy/055.jpeg  \n",
            "  inflating: data_Lungs/train/healthy/014.jpeg  \n",
            "  inflating: data_Lungs/train/healthy/09.jpeg  \n",
            "  inflating: data_Lungs/train/healthy/080.jpeg  \n",
            "  inflating: data_Lungs/train/healthy/096.jpeg  \n",
            "  inflating: data_Lungs/train/healthy/079.jpeg  \n",
            "  inflating: data_Lungs/train/healthy/059.jpeg  \n",
            "  inflating: data_Lungs/train/healthy/018.jpeg  \n",
            "  inflating: data_Lungs/train/healthy/05.jpeg  \n",
            "  inflating: data_Lungs/train/healthy/063.jpeg  \n",
            "  inflating: data_Lungs/train/healthy/075.jpeg  \n",
            "  inflating: data_Lungs/train/healthy/022.jpeg  \n",
            "  inflating: data_Lungs/train/Type 2 disease/06.jpeg  \n",
            "  inflating: data_Lungs/train/Type 2 disease/037.jpeg  \n",
            "  inflating: data_Lungs/train/Type 2 disease/076.jpeg  \n",
            "  inflating: data_Lungs/train/Type 2 disease/021.jpeg  \n",
            "  inflating: data_Lungs/train/Type 2 disease/056.jpeg  \n",
            "  inflating: data_Lungs/train/Type 2 disease/083.jpeg  \n",
            "  inflating: data_Lungs/train/Type 2 disease/095.jpeg  \n",
            "  inflating: data_Lungs/train/Type 2 disease/094.jpeg  \n",
            "  inflating: data_Lungs/train/Type 2 disease/082.jpeg  \n",
            "  inflating: data_Lungs/train/Type 2 disease/041.jpeg  \n",
            "  inflating: data_Lungs/train/Type 2 disease/016.jpeg  \n",
            "  inflating: data_Lungs/train/Type 2 disease/057.jpeg  \n",
            "  inflating: data_Lungs/train/Type 2 disease/020.jpeg  \n",
            "  inflating: data_Lungs/train/Type 2 disease/077.jpeg  \n",
            "  inflating: data_Lungs/train/Type 2 disease/061.jpeg  \n",
            "  inflating: data_Lungs/train/Type 2 disease/036.jpeg  \n",
            "  inflating: data_Lungs/train/Type 2 disease/07.jpeg  \n",
            "  inflating: data_Lungs/train/Type 2 disease/011.jpeg  \n",
            "  inflating: data_Lungs/train/Type 2 disease/046.jpeg  \n",
            "  inflating: data_Lungs/train/Type 2 disease/031.jpeg  \n",
            "  inflating: data_Lungs/train/Type 2 disease/066.jpeg  \n",
            "  inflating: data_Lungs/train/Type 2 disease/027.jpeg  \n",
            "  inflating: data_Lungs/train/Type 2 disease/071.jpeg  \n",
            "  inflating: data_Lungs/train/Type 2 disease/067.jpeg  \n",
            "  inflating: data_Lungs/train/Type 2 disease/01.jpeg  \n",
            "  inflating: data_Lungs/train/Type 2 disease/084.jpeg  \n",
            "  inflating: data_Lungs/train/Type 2 disease/047.jpeg  \n",
            "  inflating: data_Lungs/train/Type 2 disease/010.jpeg  \n",
            "  inflating: data_Lungs/train/Type 2 disease/051.jpeg  \n",
            "  inflating: data_Lungs/train/Type 2 disease/068.jpeg  \n",
            "  inflating: data_Lungs/train/Type 2 disease/044.jpeg  \n",
            "  inflating: data_Lungs/train/Type 2 disease/013.jpeg  \n",
            "  inflating: data_Lungs/train/Type 2 disease/052.jpeg  \n",
            "  inflating: data_Lungs/train/Type 2 disease/025.jpeg  \n",
            "  inflating: data_Lungs/train/Type 2 disease/072.jpeg  \n",
            "  inflating: data_Lungs/train/Type 2 disease/064.jpeg  \n",
            "  inflating: data_Lungs/train/Type 2 disease/033.jpeg  \n",
            "  inflating: data_Lungs/train/Type 2 disease/048.jpeg  \n",
            "  inflating: data_Lungs/train/Type 2 disease/02.jpeg  \n",
            "  inflating: data_Lungs/train/Type 2 disease/03.jpeg  \n",
            "  inflating: data_Lungs/train/Type 2 disease/032.jpeg  \n",
            "  inflating: data_Lungs/train/Type 2 disease/065.jpeg  \n",
            "  inflating: data_Lungs/train/Type 2 disease/073.jpeg  \n",
            "  inflating: data_Lungs/train/Type 2 disease/024.jpeg  \n",
            "  inflating: data_Lungs/train/Type 2 disease/053.jpeg  \n",
            "  inflating: data_Lungs/train/Type 2 disease/012.jpeg  \n",
            "  inflating: data_Lungs/train/Type 2 disease/045.jpeg  \n",
            "  inflating: data_Lungs/train/Type 2 disease/023.jpeg  \n",
            "  inflating: data_Lungs/train/Type 2 disease/074.jpeg  \n",
            "  inflating: data_Lungs/train/Type 2 disease/062.jpeg  \n",
            "  inflating: data_Lungs/train/Type 2 disease/035.jpeg  \n",
            "  inflating: data_Lungs/train/Type 2 disease/019.jpeg  \n",
            "  inflating: data_Lungs/train/Type 2 disease/04.jpeg  \n",
            "  inflating: data_Lungs/train/Type 2 disease/058.jpeg  \n",
            "  inflating: data_Lungs/train/Type 2 disease/078.jpeg  \n",
            "  inflating: data_Lungs/train/Type 2 disease/081.jpeg  \n",
            "  inflating: data_Lungs/train/Type 2 disease/042.jpeg  \n",
            "  inflating: data_Lungs/train/Type 2 disease/08.jpeg  \n",
            "  inflating: data_Lungs/train/Type 2 disease/054.jpeg  \n",
            "  inflating: data_Lungs/train/Type 2 disease/055.jpeg  \n",
            "  inflating: data_Lungs/train/Type 2 disease/09.jpeg  \n",
            "  inflating: data_Lungs/train/Type 2 disease/043.jpeg  \n",
            "  inflating: data_Lungs/train/Type 2 disease/038.jpeg  \n",
            "  inflating: data_Lungs/train/Type 2 disease/096.jpeg  \n",
            "  inflating: data_Lungs/train/Type 2 disease/018.jpeg  \n",
            "  inflating: data_Lungs/train/Type 2 disease/05.jpeg  \n",
            "  inflating: data_Lungs/train/Type 2 disease/034.jpeg  \n",
            "  inflating: data_Lungs/train/Type 2 disease/063.jpeg  \n",
            "  inflating: data_Lungs/train/Type 2 disease/075.jpeg  \n",
            "  inflating: data_Lungs/train/Type 2 disease/022.jpeg  \n"
          ]
        }
      ],
      "source": [
        "# Extracting the data\n",
        "! unzip data_Lungs.zip"
      ]
    },
    {
      "cell_type": "code",
      "execution_count": 5,
      "metadata": {
        "id": "q0Dlmdm-Xtu5"
      },
      "outputs": [],
      "source": [
        "import tensorflow as tf"
      ]
    },
    {
      "cell_type": "code",
      "execution_count": 6,
      "metadata": {
        "id": "W_bohmI5XwmY"
      },
      "outputs": [],
      "source": [
        "#Preprocessing --- Goal to make the data compatible for CNN input\n",
        "# In tensorflow, you can achieve the same using ImageGenerators\n",
        "\n",
        "\n",
        "train_generator = tf.keras.preprocessing.image.ImageDataGenerator(rescale= 1.0/255.)\n",
        "test_generator = tf.keras.preprocessing.image.ImageDataGenerator(rescale= 1.0/255.)"
      ]
    },
    {
      "cell_type": "code",
      "execution_count": 7,
      "metadata": {
        "colab": {
          "base_uri": "https://localhost:8080/"
        },
        "id": "VzBnyzGRYJ5y",
        "outputId": "e6c289a1-251f-408d-c6c6-a6427720997a"
      },
      "outputs": [
        {
          "output_type": "stream",
          "name": "stdout",
          "text": [
            "Found 251 images belonging to 3 classes.\n",
            "Found 66 images belonging to 3 classes.\n"
          ]
        }
      ],
      "source": [
        "#Pass the images through the generator\n",
        "\n",
        "trainImageData = train_generator.flow_from_directory(\"data_Lungs/train/\",\n",
        "                                                     batch_size=16, #how much images to give per iteration in an epoch\n",
        "                                                     class_mode=\"categorical\", #Incase of multi-class classification, \"categorical\"\n",
        "                                                     target_size=(48,48) #Ensures all images are of same size (resizing)\n",
        "                                                     ) \n",
        "\n",
        "\n",
        "testImageData = train_generator.flow_from_directory(\"data_Lungs/test/\",\n",
        "                                                     batch_size=16, #how much images to give per iteration in an epoch\n",
        "                                                     class_mode=\"categorical\", #Incase of multi-class classification, \"categorical\"\n",
        "                                                     target_size=(48,48) #Ensures all images are of same size (resizing)\n",
        "                                                     ) "
      ]
    },
    {
      "cell_type": "code",
      "execution_count": 8,
      "metadata": {
        "colab": {
          "base_uri": "https://localhost:8080/"
        },
        "id": "tlR6lcjbaCX-",
        "outputId": "2441829f-a217-4352-91e8-02add720f57c"
      },
      "outputs": [
        {
          "output_type": "execute_result",
          "data": {
            "text/plain": [
              "{'Type 1 disease': 0, 'Type 2 disease': 1, 'healthy': 2}"
            ]
          },
          "metadata": {},
          "execution_count": 8
        }
      ],
      "source": [
        "#Given dataset is a balanced dataset !!!\n",
        "\n",
        "trainImageData.class_indices"
      ]
    },
    {
      "cell_type": "code",
      "source": [
        "#Given dataset is a balanced dataset !!!\n",
        "\n",
        "testImageData.class_indices"
      ],
      "metadata": {
        "colab": {
          "base_uri": "https://localhost:8080/"
        },
        "id": "l9OnCekXjVaJ",
        "outputId": "eb12d69c-ac31-421d-df92-611510b2c874"
      },
      "execution_count": 9,
      "outputs": [
        {
          "output_type": "execute_result",
          "data": {
            "text/plain": [
              "{'Type 1 disease': 0, 'Type 2 disease': 1, 'healthy': 2}"
            ]
          },
          "metadata": {},
          "execution_count": 9
        }
      ]
    },
    {
      "cell_type": "code",
      "execution_count": 10,
      "metadata": {
        "colab": {
          "base_uri": "https://localhost:8080/"
        },
        "id": "a1swbKaudtHp",
        "outputId": "e1b4d81b-6ac2-4c4f-9a43-5c1566d639b3"
      },
      "outputs": [
        {
          "output_type": "execute_result",
          "data": {
            "text/plain": [
              "['Type 1 disease/01.jpeg',\n",
              " 'Type 1 disease/010.png',\n",
              " 'Type 1 disease/012.jpeg',\n",
              " 'Type 1 disease/015.jpg',\n",
              " 'Type 1 disease/019.png',\n",
              " 'Type 1 disease/02.jpeg',\n",
              " 'Type 1 disease/020.jpg',\n",
              " 'Type 1 disease/021.jpeg',\n",
              " 'Type 1 disease/022.jpeg',\n",
              " 'Type 1 disease/024.jpeg',\n",
              " 'Type 1 disease/025.jpeg',\n",
              " 'Type 1 disease/026.jpeg',\n",
              " 'Type 1 disease/027.jpeg',\n",
              " 'Type 1 disease/03.jpeg',\n",
              " 'Type 1 disease/031.jpeg',\n",
              " 'Type 1 disease/032.jpeg',\n",
              " 'Type 1 disease/033.png',\n",
              " 'Type 1 disease/039.jpeg',\n",
              " 'Type 1 disease/04.png',\n",
              " 'Type 1 disease/040.jpeg',\n",
              " 'Type 1 disease/041.jpeg',\n",
              " 'Type 1 disease/042.jpeg',\n",
              " 'Type 1 disease/043.jpeg',\n",
              " 'Type 1 disease/044.jpeg',\n",
              " 'Type 1 disease/045.jpeg',\n",
              " 'Type 1 disease/046.jpeg',\n",
              " 'Type 1 disease/047.jpeg',\n",
              " 'Type 1 disease/048.jpeg',\n",
              " 'Type 1 disease/049.jpeg',\n",
              " 'Type 1 disease/050.jpeg',\n",
              " 'Type 1 disease/051.jpeg',\n",
              " 'Type 1 disease/052.jpeg',\n",
              " 'Type 1 disease/053.jpeg',\n",
              " 'Type 1 disease/054.jpeg',\n",
              " 'Type 1 disease/055.jpeg',\n",
              " 'Type 1 disease/056.jpg',\n",
              " 'Type 1 disease/057.jpeg',\n",
              " 'Type 1 disease/058.jpeg',\n",
              " 'Type 1 disease/059.jpeg',\n",
              " 'Type 1 disease/06.jpeg',\n",
              " 'Type 1 disease/060.jpeg',\n",
              " 'Type 1 disease/061.jpg',\n",
              " 'Type 1 disease/062.jpeg',\n",
              " 'Type 1 disease/064.jpg',\n",
              " 'Type 1 disease/065.jpeg',\n",
              " 'Type 1 disease/067.jpg',\n",
              " 'Type 1 disease/068.jpg',\n",
              " 'Type 1 disease/069.jpg',\n",
              " 'Type 1 disease/07.jpg',\n",
              " 'Type 1 disease/071.jpg',\n",
              " 'Type 1 disease/072.jpeg',\n",
              " 'Type 1 disease/073.jpg',\n",
              " 'Type 1 disease/074.jpg',\n",
              " 'Type 1 disease/076.jpg',\n",
              " 'Type 1 disease/078.jpeg',\n",
              " 'Type 1 disease/079.jpeg',\n",
              " 'Type 1 disease/08.jpeg',\n",
              " 'Type 1 disease/080.jpg',\n",
              " 'Type 1 disease/081.jpeg',\n",
              " 'Type 1 disease/082.jpg',\n",
              " 'Type 1 disease/083.jpeg',\n",
              " 'Type 1 disease/084.jpeg',\n",
              " 'Type 1 disease/085.jpeg',\n",
              " 'Type 1 disease/086.jpg',\n",
              " 'Type 1 disease/088.jpeg',\n",
              " 'Type 1 disease/089.jpg',\n",
              " 'Type 1 disease/09.png',\n",
              " 'Type 1 disease/090.jpeg',\n",
              " 'Type 1 disease/091.jpg',\n",
              " 'Type 1 disease/092.png',\n",
              " 'Type 1 disease/COVID-00001.jpg',\n",
              " 'Type 1 disease/COVID-00002.jpg',\n",
              " 'Type 1 disease/COVID-00003a.jpg',\n",
              " 'Type 1 disease/COVID-00003b.jpg',\n",
              " 'Type 1 disease/COVID-00004.jpg',\n",
              " 'Type 1 disease/COVID-00005.jpg',\n",
              " 'Type 1 disease/COVID-00006.jpg',\n",
              " 'Type 1 disease/COVID-00007.jpg',\n",
              " 'Type 1 disease/COVID-00008.jpg',\n",
              " 'Type 1 disease/COVID-00009.jpg',\n",
              " 'Type 1 disease/COVID-00010.jpg',\n",
              " 'Type 1 disease/COVID-00011.jpg',\n",
              " 'Type 1 disease/COVID-00012.jpg',\n",
              " 'Type 1 disease/COVID-00013a.jpg',\n",
              " 'Type 1 disease/COVID-00013b.jpg',\n",
              " 'Type 1 disease/COVID-00014.jpg',\n",
              " 'Type 1 disease/COVID-00015a.png',\n",
              " 'Type 1 disease/COVID-00015b.png',\n",
              " 'Type 1 disease/COVID-00016.jpg',\n",
              " 'Type 1 disease/COVID-00017.jpg',\n",
              " 'Type 1 disease/COVID-00018.jpg',\n",
              " 'Type 1 disease/COVID-00019.jpg',\n",
              " 'Type 1 disease/COVID-00020.jpg',\n",
              " 'Type 1 disease/COVID-00021.jpg',\n",
              " 'Type 1 disease/COVID-00022.jpg',\n",
              " 'Type 1 disease/COVID-00023.jpg',\n",
              " 'Type 1 disease/COVID-00024.jpg',\n",
              " 'Type 1 disease/COVID-00025.jpg',\n",
              " 'Type 1 disease/COVID-00026.jpg',\n",
              " 'Type 1 disease/COVID-00027.jpg',\n",
              " 'Type 1 disease/COVID-00028.jpg',\n",
              " 'Type 1 disease/COVID-00029.jpg',\n",
              " 'Type 1 disease/COVID-00030.jpg',\n",
              " 'Type 1 disease/COVID-00031.jpg',\n",
              " 'Type 1 disease/COVID-00032.jpg',\n",
              " 'Type 1 disease/COVID-00033.jpg',\n",
              " 'Type 1 disease/COVID-00034.jpg',\n",
              " 'Type 1 disease/COVID-00035.jpg',\n",
              " 'Type 1 disease/COVID-00036.jpg',\n",
              " 'Type 1 disease/COVID-00037.jpg',\n",
              " 'Type 1 disease/COVID-00038.jpg',\n",
              " 'Type 2 disease/01.jpeg',\n",
              " 'Type 2 disease/010.jpeg',\n",
              " 'Type 2 disease/011.jpeg',\n",
              " 'Type 2 disease/012.jpeg',\n",
              " 'Type 2 disease/013.jpeg',\n",
              " 'Type 2 disease/016.jpeg',\n",
              " 'Type 2 disease/018.jpeg',\n",
              " 'Type 2 disease/019.jpeg',\n",
              " 'Type 2 disease/02.jpeg',\n",
              " 'Type 2 disease/020.jpeg',\n",
              " 'Type 2 disease/021.jpeg',\n",
              " 'Type 2 disease/022.jpeg',\n",
              " 'Type 2 disease/023.jpeg',\n",
              " 'Type 2 disease/024.jpeg',\n",
              " 'Type 2 disease/025.jpeg',\n",
              " 'Type 2 disease/027.jpeg',\n",
              " 'Type 2 disease/03.jpeg',\n",
              " 'Type 2 disease/031.jpeg',\n",
              " 'Type 2 disease/032.jpeg',\n",
              " 'Type 2 disease/033.jpeg',\n",
              " 'Type 2 disease/034.jpeg',\n",
              " 'Type 2 disease/035.jpeg',\n",
              " 'Type 2 disease/036.jpeg',\n",
              " 'Type 2 disease/037.jpeg',\n",
              " 'Type 2 disease/038.jpeg',\n",
              " 'Type 2 disease/04.jpeg',\n",
              " 'Type 2 disease/041.jpeg',\n",
              " 'Type 2 disease/042.jpeg',\n",
              " 'Type 2 disease/043.jpeg',\n",
              " 'Type 2 disease/044.jpeg',\n",
              " 'Type 2 disease/045.jpeg',\n",
              " 'Type 2 disease/046.jpeg',\n",
              " 'Type 2 disease/047.jpeg',\n",
              " 'Type 2 disease/048.jpeg',\n",
              " 'Type 2 disease/05.jpeg',\n",
              " 'Type 2 disease/051.jpeg',\n",
              " 'Type 2 disease/052.jpeg',\n",
              " 'Type 2 disease/053.jpeg',\n",
              " 'Type 2 disease/054.jpeg',\n",
              " 'Type 2 disease/055.jpeg',\n",
              " 'Type 2 disease/056.jpeg',\n",
              " 'Type 2 disease/057.jpeg',\n",
              " 'Type 2 disease/058.jpeg',\n",
              " 'Type 2 disease/06.jpeg',\n",
              " 'Type 2 disease/061.jpeg',\n",
              " 'Type 2 disease/062.jpeg',\n",
              " 'Type 2 disease/063.jpeg',\n",
              " 'Type 2 disease/064.jpeg',\n",
              " 'Type 2 disease/065.jpeg',\n",
              " 'Type 2 disease/066.jpeg',\n",
              " 'Type 2 disease/067.jpeg',\n",
              " 'Type 2 disease/068.jpeg',\n",
              " 'Type 2 disease/07.jpeg',\n",
              " 'Type 2 disease/071.jpeg',\n",
              " 'Type 2 disease/072.jpeg',\n",
              " 'Type 2 disease/073.jpeg',\n",
              " 'Type 2 disease/074.jpeg',\n",
              " 'Type 2 disease/075.jpeg',\n",
              " 'Type 2 disease/076.jpeg',\n",
              " 'Type 2 disease/077.jpeg',\n",
              " 'Type 2 disease/078.jpeg',\n",
              " 'Type 2 disease/08.jpeg',\n",
              " 'Type 2 disease/081.jpeg',\n",
              " 'Type 2 disease/082.jpeg',\n",
              " 'Type 2 disease/083.jpeg',\n",
              " 'Type 2 disease/084.jpeg',\n",
              " 'Type 2 disease/09.jpeg',\n",
              " 'Type 2 disease/094.jpeg',\n",
              " 'Type 2 disease/095.jpeg',\n",
              " 'Type 2 disease/096.jpeg',\n",
              " 'healthy/01.jpeg',\n",
              " 'healthy/010.jpeg',\n",
              " 'healthy/011.jpeg',\n",
              " 'healthy/012.jpeg',\n",
              " 'healthy/013.jpeg',\n",
              " 'healthy/014.jpeg',\n",
              " 'healthy/015.jpeg',\n",
              " 'healthy/016.jpeg',\n",
              " 'healthy/017.jpeg',\n",
              " 'healthy/018.jpeg',\n",
              " 'healthy/019.jpeg',\n",
              " 'healthy/02.jpeg',\n",
              " 'healthy/020.jpeg',\n",
              " 'healthy/021.jpeg',\n",
              " 'healthy/022.jpeg',\n",
              " 'healthy/023.jpeg',\n",
              " 'healthy/024.jpeg',\n",
              " 'healthy/025.jpeg',\n",
              " 'healthy/03.jpeg',\n",
              " 'healthy/04.jpeg',\n",
              " 'healthy/05.jpeg',\n",
              " 'healthy/050.jpeg',\n",
              " 'healthy/051.jpeg',\n",
              " 'healthy/052.jpeg',\n",
              " 'healthy/053.jpeg',\n",
              " 'healthy/054.jpeg',\n",
              " 'healthy/055.jpeg',\n",
              " 'healthy/056.jpeg',\n",
              " 'healthy/057.jpeg',\n",
              " 'healthy/058.jpeg',\n",
              " 'healthy/059.jpeg',\n",
              " 'healthy/06.jpeg',\n",
              " 'healthy/060.jpeg',\n",
              " 'healthy/061.jpeg',\n",
              " 'healthy/062.jpeg',\n",
              " 'healthy/063.jpeg',\n",
              " 'healthy/064.jpeg',\n",
              " 'healthy/065.jpeg',\n",
              " 'healthy/066.jpeg',\n",
              " 'healthy/067.jpeg',\n",
              " 'healthy/068.jpeg',\n",
              " 'healthy/069.jpeg',\n",
              " 'healthy/07.jpeg',\n",
              " 'healthy/070.jpeg',\n",
              " 'healthy/071.jpeg',\n",
              " 'healthy/072.jpeg',\n",
              " 'healthy/073.jpeg',\n",
              " 'healthy/074.jpeg',\n",
              " 'healthy/075.jpeg',\n",
              " 'healthy/076.jpeg',\n",
              " 'healthy/077.jpeg',\n",
              " 'healthy/079.jpeg',\n",
              " 'healthy/08.jpeg',\n",
              " 'healthy/080.jpeg',\n",
              " 'healthy/081.jpeg',\n",
              " 'healthy/082.jpeg',\n",
              " 'healthy/083.jpeg',\n",
              " 'healthy/084.jpeg',\n",
              " 'healthy/085.jpeg',\n",
              " 'healthy/086.jpeg',\n",
              " 'healthy/087.jpeg',\n",
              " 'healthy/088.jpeg',\n",
              " 'healthy/09.jpeg',\n",
              " 'healthy/091.jpeg',\n",
              " 'healthy/092.jpeg',\n",
              " 'healthy/093.jpeg',\n",
              " 'healthy/094.jpeg',\n",
              " 'healthy/095.jpeg',\n",
              " 'healthy/096.jpeg',\n",
              " 'healthy/097.jpeg']"
            ]
          },
          "metadata": {},
          "execution_count": 10
        }
      ],
      "source": [
        "trainImageData.filenames"
      ]
    },
    {
      "cell_type": "code",
      "source": [
        "testImageData.filenames"
      ],
      "metadata": {
        "id": "6AsiPS8yjYL6",
        "colab": {
          "base_uri": "https://localhost:8080/"
        },
        "outputId": "cc3ce2ff-8a23-4f27-eb55-59d0f37733f1"
      },
      "execution_count": 11,
      "outputs": [
        {
          "output_type": "execute_result",
          "data": {
            "text/plain": [
              "['Type 1 disease/0100.jpeg',\n",
              " 'Type 1 disease/0102.jpeg',\n",
              " 'Type 1 disease/0105.png',\n",
              " 'Type 1 disease/0106.jpeg',\n",
              " 'Type 1 disease/0108.jpeg',\n",
              " 'Type 1 disease/0111.jpg',\n",
              " 'Type 1 disease/0112.jpg',\n",
              " 'Type 1 disease/0113.jpg',\n",
              " 'Type 1 disease/0115.jpeg',\n",
              " 'Type 1 disease/0118.jpeg',\n",
              " 'Type 1 disease/0119.jpeg',\n",
              " 'Type 1 disease/0120.jpg',\n",
              " 'Type 1 disease/094.png',\n",
              " 'Type 1 disease/096.png',\n",
              " 'Type 1 disease/098.jpeg',\n",
              " 'Type 1 disease/COVID-00003b.jpg',\n",
              " 'Type 1 disease/COVID-00012.jpg',\n",
              " 'Type 1 disease/COVID-00022.jpg',\n",
              " 'Type 1 disease/COVID-00033.jpg',\n",
              " 'Type 1 disease/COVID-00037.jpg',\n",
              " 'Type 1 disease/auntminnie-2020_01_31_20_24_2322_2020_01_31_x-ray_coronavirus_US.jpg',\n",
              " 'Type 1 disease/auntminnie-a-2020_01_28_23_51_6665_2020_01_28_Vietnam_coronavirus.jpeg',\n",
              " 'Type 1 disease/auntminnie-b-2020_01_28_23_51_6665_2020_01_28_Vietnam_coronavirus.jpeg',\n",
              " 'Type 1 disease/auntminnie-c-2020_01_28_23_51_6665_2020_01_28_Vietnam_coronavirus.jpeg',\n",
              " 'Type 1 disease/auntminnie-d-2020_01_28_23_51_6665_2020_01_28_Vietnam_coronavirus.jpeg',\n",
              " 'Type 1 disease/radiopaedia-2019-novel-coronavirus-infected-pneumonia.jpg',\n",
              " 'Type 2 disease/0101.jpeg',\n",
              " 'Type 2 disease/0102.jpeg',\n",
              " 'Type 2 disease/0103.jpeg',\n",
              " 'Type 2 disease/0104.jpeg',\n",
              " 'Type 2 disease/0105.jpeg',\n",
              " 'Type 2 disease/0106.jpeg',\n",
              " 'Type 2 disease/0107.jpeg',\n",
              " 'Type 2 disease/0108.jpeg',\n",
              " 'Type 2 disease/0109.jpeg',\n",
              " 'Type 2 disease/0110.jpeg',\n",
              " 'Type 2 disease/0111.jpeg',\n",
              " 'Type 2 disease/0112.jpeg',\n",
              " 'Type 2 disease/0113.jpeg',\n",
              " 'Type 2 disease/0114.jpeg',\n",
              " 'Type 2 disease/0115.jpeg',\n",
              " 'Type 2 disease/0116.jpeg',\n",
              " 'Type 2 disease/0117.jpeg',\n",
              " 'Type 2 disease/0118.jpeg',\n",
              " 'Type 2 disease/0119.jpeg',\n",
              " 'Type 2 disease/0120.jpeg',\n",
              " 'healthy/0101.jpeg',\n",
              " 'healthy/0102.jpeg',\n",
              " 'healthy/0103.jpeg',\n",
              " 'healthy/0105.jpeg',\n",
              " 'healthy/0106.jpeg',\n",
              " 'healthy/0107.jpeg',\n",
              " 'healthy/0108.jpeg',\n",
              " 'healthy/0109.jpeg',\n",
              " 'healthy/0110.jpeg',\n",
              " 'healthy/0111.jpeg',\n",
              " 'healthy/0112.jpeg',\n",
              " 'healthy/0114.jpeg',\n",
              " 'healthy/0115.jpeg',\n",
              " 'healthy/0116.jpeg',\n",
              " 'healthy/0117.jpeg',\n",
              " 'healthy/0118.jpeg',\n",
              " 'healthy/0119.jpeg',\n",
              " 'healthy/0120.jpeg',\n",
              " 'healthy/0121.jpeg',\n",
              " 'healthy/0122.jpeg']"
            ]
          },
          "metadata": {},
          "execution_count": 11
        }
      ]
    },
    {
      "cell_type": "code",
      "execution_count": 12,
      "metadata": {
        "colab": {
          "base_uri": "https://localhost:8080/"
        },
        "id": "pd7UnmRNaR9_",
        "outputId": "9697a644-8856-483b-9373-e5fbb498f418"
      },
      "outputs": [
        {
          "output_type": "execute_result",
          "data": {
            "text/plain": [
              "(48, 48, 3)"
            ]
          },
          "metadata": {},
          "execution_count": 12
        }
      ],
      "source": [
        "trainImageData.image_shape"
      ]
    },
    {
      "cell_type": "code",
      "source": [
        "testImageData.image_shape"
      ],
      "metadata": {
        "id": "1ekzMBC_ja2j",
        "colab": {
          "base_uri": "https://localhost:8080/"
        },
        "outputId": "989e99b6-47b9-455d-8ddb-a1c952a05919"
      },
      "execution_count": 13,
      "outputs": [
        {
          "output_type": "execute_result",
          "data": {
            "text/plain": [
              "(48, 48, 3)"
            ]
          },
          "metadata": {},
          "execution_count": 13
        }
      ]
    },
    {
      "cell_type": "code",
      "execution_count": 14,
      "metadata": {
        "colab": {
          "base_uri": "https://localhost:8080/"
        },
        "id": "ecJ9l4WH0SuP",
        "outputId": "d4a0b5be-f1c6-4e32-f2e8-c0b8bfac8fa9"
      },
      "outputs": [
        {
          "output_type": "stream",
          "name": "stdout",
          "text": [
            "Looking in indexes: https://pypi.org/simple, https://us-python.pkg.dev/colab-wheels/public/simple/\n",
            "Requirement already satisfied: opencv-python in /usr/local/lib/python3.7/dist-packages (4.1.2.30)\n",
            "Requirement already satisfied: numpy>=1.14.5 in /usr/local/lib/python3.7/dist-packages (from opencv-python) (1.21.6)\n"
          ]
        }
      ],
      "source": [
        "!pip install opencv-python"
      ]
    },
    {
      "cell_type": "code",
      "execution_count": 15,
      "metadata": {
        "colab": {
          "base_uri": "https://localhost:8080/",
          "height": 574
        },
        "id": "c-79Loj80SuP",
        "outputId": "aa8f1f15-ff21-4677-a8de-1f5c1e4575f4"
      },
      "outputs": [
        {
          "output_type": "display_data",
          "data": {
            "text/plain": [
              "<PIL.Image.Image image mode=RGB size=556x557 at 0x7F9229544C50>"
            ],
            "image/png": "[encoded data removed]"
          },
          "metadata": {}
        }
      ],
      "source": [
        "import cv2\n",
        "import numpy as np\n",
        "\n",
        "from google.colab.patches import cv2_imshow\n",
        "img = cv2.imread('COVID-00012.jpg')\n",
        "cv2_imshow(img)\n",
        "\n",
        "#import matplotlib.image as mpimg \n",
        "#from matplotlib.pyplot import imshow\n",
        "#%matplotlib inline\n",
        "#testim = mpimg.imread('COVID-00012.jpg')\n",
        "#imshow(testim)\n",
        "\n",
        "#while True:\n",
        "#    k = cv2_imshow.waitKey(0) & 0xFF     \n",
        "#    if k == 27: break             # ESC key to exit\n",
        "#cv2_imshow.destroyAllWindows()"
      ]
    },
    {
      "cell_type": "code",
      "execution_count": 16,
      "metadata": {
        "id": "2t0yIXPcaf0X"
      },
      "outputs": [],
      "source": [
        "# ARchitect the model\n",
        "\n",
        "model = tf.keras.models.Sequential()\n",
        "\n",
        "#Convolution Layer\n",
        "#================================================================================================================================================\n",
        "#First Convolution Layer\n",
        "\n",
        "#Conv2D(noFeatureMap, kernelShape, inputShape, activation, padding) Here same means add one pad layer\n",
        "\n",
        "model.add(tf.keras.layers.Conv2D(32 , (3,3) , input_shape= trainImageData.image_shape , activation= 'relu' , padding='same' )) #Convolve\n",
        "model.add(tf.keras.layers.MaxPooling2D(pool_size=(2,2))) #Pooling \n",
        "\n",
        "#Second Convolution Layer\n",
        "\n",
        "#Conv2D(noFeatureMap, kernelShape, inputShape, activation, padding) Here same means add one pad layer\n",
        "\n",
        "model.add(tf.keras.layers.Conv2D(16 , (3,3), activation= 'relu' , padding='same' )) #Convolve\n",
        "model.add(tf.keras.layers.MaxPooling2D(pool_size=(2,2))) #Pooling \n",
        "\n",
        "#=================================================================================================================================================\n",
        "# Flatten\n",
        "\n",
        "model.add(tf.keras.layers.Flatten())\n",
        "\n",
        "#=================================================================================================================================================\n",
        "# ANN\n",
        "model.add(tf.keras.layers.Dense(units= 4096 , activation=\"relu\"))\n",
        "model.add(tf.keras.layers.Dropout(0.2))\n",
        "model.add(tf.keras.layers.Dense(units= 1024, activation=\"relu\"))\n",
        "model.add(tf.keras.layers.Dropout(0.2))\n",
        "model.add(tf.keras.layers.Dense(units= 256, activation=\"relu\"))\n",
        "model.add(tf.keras.layers.Dense(units= 3 , activation=\"softmax\"))\n",
        "#model.add(tf.keras.layers.Dense(units= 2 , activation=\"softmax\"))"
      ]
    },
    {
      "cell_type": "code",
      "execution_count": 17,
      "metadata": {
        "colab": {
          "base_uri": "https://localhost:8080/"
        },
        "id": "VIOBc3SMcqGF",
        "outputId": "d65bdef0-a79d-493a-d451-73c54448df0a"
      },
      "outputs": [
        {
          "output_type": "stream",
          "name": "stdout",
          "text": [
            "Model: \"sequential\"\n",
            "_________________________________________________________________\n",
            " Layer (type)                Output Shape              Param #   \n",
            "=================================================================\n",
            " conv2d (Conv2D)             (None, 48, 48, 32)        896       \n",
            "                                                                 \n",
            " max_pooling2d (MaxPooling2D  (None, 24, 24, 32)       0         \n",
            " )                                                               \n",
            "                                                                 \n",
            " conv2d_1 (Conv2D)           (None, 24, 24, 16)        4624      \n",
            "                                                                 \n",
            " max_pooling2d_1 (MaxPooling  (None, 12, 12, 16)       0         \n",
            " 2D)                                                             \n",
            "                                                                 \n",
            " flatten (Flatten)           (None, 2304)              0         \n",
            "                                                                 \n",
            " dense (Dense)               (None, 4096)              9441280   \n",
            "                                                                 \n",
            " dropout (Dropout)           (None, 4096)              0         \n",
            "                                                                 \n",
            " dense_1 (Dense)             (None, 1024)              4195328   \n",
            "                                                                 \n",
            " dropout_1 (Dropout)         (None, 1024)              0         \n",
            "                                                                 \n",
            " dense_2 (Dense)             (None, 256)               262400    \n",
            "                                                                 \n",
            " dense_3 (Dense)             (None, 3)                 771       \n",
            "                                                                 \n",
            "=================================================================\n",
            "Total params: 13,905,299\n",
            "Trainable params: 13,905,299\n",
            "Non-trainable params: 0\n",
            "_________________________________________________________________\n"
          ]
        }
      ],
      "source": [
        "model.summary()"
      ]
    },
    {
      "cell_type": "code",
      "execution_count": 18,
      "metadata": {
        "id": "V4Ke7NhBc1A4"
      },
      "outputs": [],
      "source": [
        "#Compile\n",
        "\n",
        "model.compile(optimizer=\"rmsprop\",\n",
        "              loss=\"categorical_crossentropy\", #For multi-class classification: categorical_crossentropy | sparse_categorical_crossentropy\n",
        "              metrics=['accuracy'])"
      ]
    },
    {
      "cell_type": "code",
      "execution_count": 19,
      "metadata": {
        "colab": {
          "base_uri": "https://localhost:8080/"
        },
        "id": "oH_CpfZSeDS2",
        "outputId": "7b4fe85e-d1a0-4d83-bd1e-29d106303b1c"
      },
      "outputs": [
        {
          "output_type": "execute_result",
          "data": {
            "text/plain": [
              "15"
            ]
          },
          "metadata": {},
          "execution_count": 19
        }
      ],
      "source": [
        "len(trainImageData.filenames) // trainImageData.batch_size"
      ]
    },
    {
      "cell_type": "code",
      "source": [
        "#Callbacks\n",
        "\n",
        "# How to stop the training process if my model has converged successfully?\n",
        "# Convergence Criteria:\n",
        "# 1. Model must be a generalized model ( testScore > trainScore )\n",
        "# 2. Model's Test Score >= CL\n",
        "# Custom Callback which satisfies the above two criteria :)\n",
        "\n",
        "class MyQualityThreshold(tf.keras.callbacks.Callback):\n",
        "  def __init__(self,cl):\n",
        "    super(MyQualityThreshold, self).__init__()\n",
        "    self.cl = cl\n",
        "  \n",
        "  def on_epoch_end(self,epoch,logs=None):\n",
        "    testScore = logs['val_accuracy']\n",
        "    trainScore = logs['accuracy']\n",
        "    #epoch=logs['']\n",
        "\n",
        "    if testScore > trainScore and testScore >= self.cl and epoch > 10:\n",
        "      self.model.stop_training=True"
      ],
      "metadata": {
        "id": "BfynHJzV9UVa"
      },
      "execution_count": 20,
      "outputs": []
    },
    {
      "cell_type": "code",
      "execution_count": 21,
      "metadata": {
        "id": "r7MoBaY8dkef"
      },
      "outputs": [],
      "source": [
        "# Fit the model\n",
        "# batch_size=32\n",
        "# model.fit(trainImageData,\n",
        "#          validation_data=testImageData,\n",
        "#          epochs=10,\n",
        "#          steps_per_epoch = len(trainImageData.filenames) // trainImageData.batch_size, #For training\n",
        "#          validation_steps= len(testImageData.filenames) // testImageData.batch_size) #For testing"
      ]
    },
    {
      "cell_type": "code",
      "source": [
        "# Fit the model\n",
        "# batch_size=32\n",
        "history = model.fit(trainImageData,\n",
        "                    validation_data=testImageData,\n",
        "                    epochs=50,\n",
        "                    steps_per_epoch=len(trainImageData.filenames) // trainImageData.batch_size, #For training\n",
        "                    validation_steps=len(testImageData.filenames) // testImageData.batch_size, #For testing\n",
        "                    callbacks=[MyQualityThreshold(0.8)])"
      ],
      "metadata": {
        "colab": {
          "base_uri": "https://localhost:8080/"
        },
        "id": "cT70mpP9-WJe",
        "outputId": "9961f55e-2f85-4497-fd4b-c04cd8925ad8"
      },
      "execution_count": 22,
      "outputs": [
        {
          "output_type": "stream",
          "name": "stdout",
          "text": [
            "Epoch 1/50\n",
            "15/15 [==============================] - 23s 1s/step - loss: 2.0056 - accuracy: 0.4681 - val_loss: 0.6542 - val_accuracy: 0.6719\n",
            "Epoch 2/50\n",
            "15/15 [==============================] - 15s 989ms/step - loss: 0.7349 - accuracy: 0.6851 - val_loss: 0.6752 - val_accuracy: 0.6406\n",
            "Epoch 3/50\n",
            "15/15 [==============================] - 16s 1s/step - loss: 0.4878 - accuracy: 0.8128 - val_loss: 0.5301 - val_accuracy: 0.7500\n",
            "Epoch 4/50\n",
            "15/15 [==============================] - 15s 1s/step - loss: 0.3641 - accuracy: 0.8511 - val_loss: 0.5197 - val_accuracy: 0.8594\n",
            "Epoch 5/50\n",
            "15/15 [==============================] - 16s 1s/step - loss: 0.3536 - accuracy: 0.8792 - val_loss: 0.9729 - val_accuracy: 0.6250\n",
            "Epoch 6/50\n",
            "15/15 [==============================] - 14s 977ms/step - loss: 0.2126 - accuracy: 0.9106 - val_loss: 0.8750 - val_accuracy: 0.7500\n",
            "Epoch 7/50\n",
            "15/15 [==============================] - 15s 989ms/step - loss: 0.4238 - accuracy: 0.9106 - val_loss: 1.1555 - val_accuracy: 0.7500\n",
            "Epoch 8/50\n",
            "15/15 [==============================] - 17s 1s/step - loss: 0.1895 - accuracy: 0.9375 - val_loss: 0.2933 - val_accuracy: 0.9219\n",
            "Epoch 9/50\n",
            "15/15 [==============================] - 15s 991ms/step - loss: 0.1924 - accuracy: 0.9447 - val_loss: 0.2404 - val_accuracy: 0.9375\n",
            "Epoch 10/50\n",
            "15/15 [==============================] - 15s 972ms/step - loss: 0.3708 - accuracy: 0.9191 - val_loss: 0.3571 - val_accuracy: 0.8750\n",
            "Epoch 11/50\n",
            "15/15 [==============================] - 15s 960ms/step - loss: 0.1003 - accuracy: 0.9702 - val_loss: 0.3225 - val_accuracy: 0.8906\n",
            "Epoch 12/50\n",
            "15/15 [==============================] - 15s 961ms/step - loss: 0.0848 - accuracy: 0.9702 - val_loss: 0.2710 - val_accuracy: 0.9219\n",
            "Epoch 13/50\n",
            "15/15 [==============================] - 16s 1s/step - loss: 0.0510 - accuracy: 0.9872 - val_loss: 0.5299 - val_accuracy: 0.9375\n",
            "Epoch 14/50\n",
            "15/15 [==============================] - 15s 979ms/step - loss: 0.3381 - accuracy: 0.9489 - val_loss: 0.3673 - val_accuracy: 0.9219\n",
            "Epoch 15/50\n",
            "15/15 [==============================] - 15s 974ms/step - loss: 0.0531 - accuracy: 0.9787 - val_loss: 4.4317 - val_accuracy: 0.5625\n",
            "Epoch 16/50\n",
            "15/15 [==============================] - 15s 958ms/step - loss: 0.4001 - accuracy: 0.9660 - val_loss: 0.1367 - val_accuracy: 0.9531\n",
            "Epoch 17/50\n",
            "15/15 [==============================] - 15s 999ms/step - loss: 4.2422e-04 - accuracy: 1.0000 - val_loss: 0.1774 - val_accuracy: 0.9531\n",
            "Epoch 18/50\n",
            "15/15 [==============================] - 14s 949ms/step - loss: 0.1614 - accuracy: 0.9745 - val_loss: 0.9309 - val_accuracy: 0.8438\n",
            "Epoch 19/50\n",
            "15/15 [==============================] - 15s 972ms/step - loss: 0.0124 - accuracy: 0.9958 - val_loss: 0.4770 - val_accuracy: 0.9219\n",
            "Epoch 20/50\n",
            "15/15 [==============================] - 16s 1s/step - loss: 4.0690e-04 - accuracy: 1.0000 - val_loss: 0.5283 - val_accuracy: 0.9375\n",
            "Epoch 21/50\n",
            "15/15 [==============================] - 15s 1s/step - loss: 6.1421e-05 - accuracy: 1.0000 - val_loss: 0.5913 - val_accuracy: 0.9062\n",
            "Epoch 22/50\n",
            "15/15 [==============================] - 16s 1s/step - loss: 1.3417e-05 - accuracy: 1.0000 - val_loss: 0.5094 - val_accuracy: 0.9219\n",
            "Epoch 23/50\n",
            "15/15 [==============================] - 15s 1s/step - loss: 5.4172e-06 - accuracy: 1.0000 - val_loss: 0.6803 - val_accuracy: 0.9062\n",
            "Epoch 24/50\n",
            "15/15 [==============================] - 15s 1s/step - loss: 3.1160e-06 - accuracy: 1.0000 - val_loss: 0.6602 - val_accuracy: 0.9062\n",
            "Epoch 25/50\n",
            "15/15 [==============================] - 16s 1s/step - loss: 1.6283e-06 - accuracy: 1.0000 - val_loss: 0.6971 - val_accuracy: 0.9062\n",
            "Epoch 26/50\n",
            "15/15 [==============================] - 15s 995ms/step - loss: 6.1684e-07 - accuracy: 1.0000 - val_loss: 0.6767 - val_accuracy: 0.9219\n",
            "Epoch 27/50\n",
            "15/15 [==============================] - 16s 1s/step - loss: 2.0443e-07 - accuracy: 1.0000 - val_loss: 0.7083 - val_accuracy: 0.9062\n",
            "Epoch 28/50\n",
            "15/15 [==============================] - 15s 1s/step - loss: 1.1515e-07 - accuracy: 1.0000 - val_loss: 0.7532 - val_accuracy: 0.8906\n",
            "Epoch 29/50\n",
            "15/15 [==============================] - 15s 1s/step - loss: 1.7095e-07 - accuracy: 1.0000 - val_loss: 0.7284 - val_accuracy: 0.9062\n",
            "Epoch 30/50\n",
            "15/15 [==============================] - 15s 1s/step - loss: 3.0944e-08 - accuracy: 1.0000 - val_loss: 0.7305 - val_accuracy: 0.8906\n",
            "Epoch 31/50\n",
            "15/15 [==============================] - 15s 1s/step - loss: 1.4711e-08 - accuracy: 1.0000 - val_loss: 0.7819 - val_accuracy: 0.8906\n",
            "Epoch 32/50\n",
            "15/15 [==============================] - 16s 1s/step - loss: 1.3696e-08 - accuracy: 1.0000 - val_loss: 0.8208 - val_accuracy: 0.9062\n",
            "Epoch 33/50\n",
            "15/15 [==============================] - 15s 1s/step - loss: 5.5800e-09 - accuracy: 1.0000 - val_loss: 0.7394 - val_accuracy: 0.8906\n",
            "Epoch 34/50\n",
            "15/15 [==============================] - 15s 1s/step - loss: 3.0436e-09 - accuracy: 1.0000 - val_loss: 0.7136 - val_accuracy: 0.8906\n",
            "Epoch 35/50\n",
            "15/15 [==============================] - 15s 1s/step - loss: 1.5218e-09 - accuracy: 1.0000 - val_loss: 0.7790 - val_accuracy: 0.9062\n",
            "Epoch 36/50\n",
            "15/15 [==============================] - 15s 997ms/step - loss: 1.0145e-09 - accuracy: 1.0000 - val_loss: 0.7838 - val_accuracy: 0.9062\n",
            "Epoch 37/50\n",
            "15/15 [==============================] - 16s 1s/step - loss: 0.9534 - accuracy: 0.9404 - val_loss: 1.8979 - val_accuracy: 0.6562\n",
            "Epoch 38/50\n",
            "15/15 [==============================] - 15s 972ms/step - loss: 0.0959 - accuracy: 0.9574 - val_loss: 0.5762 - val_accuracy: 0.9375\n",
            "Epoch 39/50\n",
            "15/15 [==============================] - 15s 1s/step - loss: 4.2318e-04 - accuracy: 1.0000 - val_loss: 0.7009 - val_accuracy: 0.9375\n",
            "Epoch 40/50\n",
            "15/15 [==============================] - 15s 986ms/step - loss: 4.0030e-05 - accuracy: 1.0000 - val_loss: 0.7613 - val_accuracy: 0.9375\n",
            "Epoch 41/50\n",
            "15/15 [==============================] - 15s 1s/step - loss: 1.3015e-05 - accuracy: 1.0000 - val_loss: 0.7803 - val_accuracy: 0.9375\n",
            "Epoch 42/50\n",
            "15/15 [==============================] - 15s 1s/step - loss: 6.0684e-06 - accuracy: 1.0000 - val_loss: 0.8283 - val_accuracy: 0.9375\n",
            "Epoch 43/50\n",
            "15/15 [==============================] - 16s 1s/step - loss: 4.4602e-06 - accuracy: 1.0000 - val_loss: 0.8775 - val_accuracy: 0.9375\n",
            "Epoch 44/50\n",
            "15/15 [==============================] - 15s 1s/step - loss: 2.8499e-06 - accuracy: 1.0000 - val_loss: 0.8181 - val_accuracy: 0.9375\n",
            "Epoch 45/50\n",
            "15/15 [==============================] - 15s 1s/step - loss: 3.8969e-06 - accuracy: 1.0000 - val_loss: 0.9881 - val_accuracy: 0.9219\n",
            "Epoch 46/50\n",
            "15/15 [==============================] - 15s 1s/step - loss: 8.9784e-07 - accuracy: 1.0000 - val_loss: 0.8407 - val_accuracy: 0.9531\n",
            "Epoch 47/50\n",
            "15/15 [==============================] - 15s 1s/step - loss: 7.2234e-07 - accuracy: 1.0000 - val_loss: 0.9670 - val_accuracy: 0.9375\n",
            "Epoch 48/50\n",
            "15/15 [==============================] - 16s 1s/step - loss: 1.5167e-07 - accuracy: 1.0000 - val_loss: 0.9114 - val_accuracy: 0.9531\n",
            "Epoch 49/50\n",
            "15/15 [==============================] - 15s 1s/step - loss: 1.1566e-07 - accuracy: 1.0000 - val_loss: 0.9797 - val_accuracy: 0.9375\n",
            "Epoch 50/50\n",
            "15/15 [==============================] - 15s 992ms/step - loss: 6.7467e-08 - accuracy: 1.0000 - val_loss: 1.0004 - val_accuracy: 0.9375\n"
          ]
        }
      ]
    },
    {
      "cell_type": "code",
      "source": [
        "import keras\n",
        "from matplotlib import pyplot as plt\n",
        "plt.plot(history.history['accuracy'])\n",
        "plt.plot(history.history['val_accuracy'])\n",
        "plt.title('model accuracy')\n",
        "plt.ylabel('accuracy')\n",
        "plt.xlabel('epoch')\n",
        "plt.legend(['train', 'val'], loc='upper left')\n",
        "plt.show()"
      ],
      "metadata": {
        "colab": {
          "base_uri": "https://localhost:8080/",
          "height": 295
        },
        "id": "M17SOht6ghAd",
        "outputId": "efa8e2f2-0cd9-4eed-c2ed-3ca81f8fbc99"
      },
      "execution_count": 23,
      "outputs": [
        {
          "output_type": "display_data",
          "data": {
            "text/plain": [
              "<Figure size 432x288 with 1 Axes>"
            ],
            "image/png": "[encoded data removed]"
          },
          "metadata": {
            "needs_background": "light"
          }
        }
      ]
    },
    {
      "cell_type": "code",
      "source": [
        "plt.plot(history.history['loss'])\n",
        "plt.plot(history.history['val_loss'])\n",
        "plt.title('model loss')\n",
        "plt.ylabel('loss')\n",
        "plt.xlabel('epoch')\n",
        "plt.legend(['train', 'val'], loc='upper left')\n",
        "plt.show()"
      ],
      "metadata": {
        "colab": {
          "base_uri": "https://localhost:8080/",
          "height": 295
        },
        "id": "PZyif42Ih9dP",
        "outputId": "098935c4-03e0-4637-dadc-5ab4181c5d90"
      },
      "execution_count": 24,
      "outputs": [
        {
          "output_type": "display_data",
          "data": {
            "text/plain": [
              "<Figure size 432x288 with 1 Axes>"
            ],
            "image/png": "[encoded data removed]"
          },
          "metadata": {
            "needs_background": "light"
          }
        }
      ]
    },
    {
      "cell_type": "code",
      "execution_count": 25,
      "metadata": {
        "id": "bgeF1bc-AYP2"
      },
      "outputs": [],
      "source": [
        "import numpy as np\n",
        "import matplotlib.pyplot as plt\n",
        "%matplotlib inline"
      ]
    },
    {
      "cell_type": "code",
      "execution_count": 26,
      "metadata": {
        "colab": {
          "base_uri": "https://localhost:8080/"
        },
        "id": "KRD9Widn-arc",
        "outputId": "1f7d3abc-155a-4a5b-8816-28a5e839e0da"
      },
      "outputs": [
        {
          "output_type": "stream",
          "name": "stdout",
          "text": [
            "[[1. 0. 0.]]\n"
          ]
        }
      ],
      "source": [
        "#Prediction\n",
        "# model\n",
        "#Load an Image\n",
        "imageToPredict = tf.keras.preprocessing.image.load_img('COVID-00012.jpg', target_size=(48, 48))\n",
        "#Step2: Convert image to np array \n",
        "myImageNPArray = tf.keras.preprocessing.image.img_to_array(imageToPredict)\n",
        "# Step3: Make the image compatible for the model by adding n\n",
        "myCompatibleImage = np.expand_dims(myImageNPArray, axis = 0)\n",
        "#Step4: Prediction\n",
        "prediction = model.predict(myCompatibleImage)\n",
        "print(prediction)"
      ]
    },
    {
      "cell_type": "code",
      "execution_count": 27,
      "metadata": {
        "id": "Rrl3E-43ecM0"
      },
      "outputs": [],
      "source": [
        "train_generator = tf.keras.preprocessing.image.ImageDataGenerator(rescale=1.0/255.,\n",
        "                                                                  rotation_range=90,\n",
        "                                                                  zoom_range=0.2,\n",
        "                                                                  horizontal_flip=True,\n",
        "                                                                  vertical_flip=True)\n"
      ]
    },
    {
      "cell_type": "code",
      "source": [
        "#Callbacks\n",
        "\n",
        "# How to stop the training process if my model has converged successfully?\n",
        "# Convergence Criteria:\n",
        "# 1. Model must be a generalized model ( testScore > trainScore )\n",
        "# 2. Model's Test Score >= CL\n",
        "# Custom Callback which satisfies the above two criteria :)\n",
        "\n",
        "class MyQualityThreshold(tf.keras.callbacks.Callback):\n",
        "  def __init__(self,cl):\n",
        "    super(MyQualityThreshold, self).__init__()\n",
        "    self.cl = cl\n",
        "  \n",
        "  def on_epoch_end(self,epoch,logs=None):\n",
        "    testScore = logs['val_accuracy']\n",
        "    trainScore = logs['accuracy']\n",
        "    #epoch=logs['']\n",
        "\n",
        "    if testScore > trainScore and testScore >= self.cl and epoch > 10:\n",
        "      self.model.stop_training=True"
      ],
      "metadata": {
        "id": "kk3qixRNAW_w"
      },
      "execution_count": 28,
      "outputs": []
    },
    {
      "cell_type": "code",
      "execution_count": 29,
      "metadata": {
        "colab": {
          "base_uri": "https://localhost:8080/"
        },
        "id": "gCrM_IauUdL1",
        "outputId": "8a7c9f74-8db2-4281-9f86-3d9131720595"
      },
      "outputs": [
        {
          "output_type": "stream",
          "name": "stdout",
          "text": [
            "Epoch 1/50\n",
            "15/15 [==============================] - 16s 1s/step - loss: 4.8698e-08 - accuracy: 1.0000 - val_loss: 1.0286 - val_accuracy: 0.9375\n",
            "Epoch 2/50\n",
            "15/15 [==============================] - 15s 1s/step - loss: 2.5468 - accuracy: 0.9191 - val_loss: 0.5075 - val_accuracy: 0.8906\n",
            "Epoch 3/50\n",
            "15/15 [==============================] - 16s 1s/step - loss: 0.0151 - accuracy: 0.9917 - val_loss: 0.5638 - val_accuracy: 0.8906\n",
            "Epoch 4/50\n",
            "15/15 [==============================] - 15s 999ms/step - loss: 2.8578e-04 - accuracy: 1.0000 - val_loss: 0.5884 - val_accuracy: 0.9062\n",
            "Epoch 5/50\n",
            "15/15 [==============================] - 15s 953ms/step - loss: 4.2400e-05 - accuracy: 1.0000 - val_loss: 0.6116 - val_accuracy: 0.9062\n",
            "Epoch 6/50\n",
            "15/15 [==============================] - 15s 1s/step - loss: 3.1669e-05 - accuracy: 1.0000 - val_loss: 0.6151 - val_accuracy: 0.9219\n",
            "Epoch 7/50\n",
            "15/15 [==============================] - 15s 1s/step - loss: 5.3311e-06 - accuracy: 1.0000 - val_loss: 0.6220 - val_accuracy: 0.9062\n",
            "Epoch 8/50\n",
            "15/15 [==============================] - 16s 1s/step - loss: 3.2615e-06 - accuracy: 1.0000 - val_loss: 0.6326 - val_accuracy: 0.9219\n",
            "Epoch 9/50\n",
            "15/15 [==============================] - 15s 1s/step - loss: 2.5601e-06 - accuracy: 1.0000 - val_loss: 0.6153 - val_accuracy: 0.9219\n",
            "Epoch 10/50\n",
            "15/15 [==============================] - 15s 972ms/step - loss: 7.5177e-07 - accuracy: 1.0000 - val_loss: 0.6193 - val_accuracy: 0.9219\n",
            "Epoch 11/50\n",
            "15/15 [==============================] - 15s 1s/step - loss: 0.9518 - accuracy: 0.8894 - val_loss: 0.5042 - val_accuracy: 0.8594\n",
            "Epoch 12/50\n",
            "15/15 [==============================] - 15s 950ms/step - loss: 0.0106 - accuracy: 1.0000 - val_loss: 0.4914 - val_accuracy: 0.9375\n",
            "Epoch 13/50\n",
            "15/15 [==============================] - 16s 1s/step - loss: 0.0028 - accuracy: 1.0000 - val_loss: 0.8733 - val_accuracy: 0.9062\n",
            "Epoch 14/50\n",
            "15/15 [==============================] - 15s 993ms/step - loss: 1.3804e-05 - accuracy: 1.0000 - val_loss: 0.8564 - val_accuracy: 0.9062\n",
            "Epoch 15/50\n",
            "15/15 [==============================] - 14s 951ms/step - loss: 1.9200e-06 - accuracy: 1.0000 - val_loss: 0.8525 - val_accuracy: 0.9062\n",
            "Epoch 16/50\n",
            "15/15 [==============================] - 14s 976ms/step - loss: 3.4701e-06 - accuracy: 1.0000 - val_loss: 0.8294 - val_accuracy: 0.9219\n",
            "Epoch 17/50\n",
            "15/15 [==============================] - 15s 988ms/step - loss: 1.6916e-06 - accuracy: 1.0000 - val_loss: 0.8341 - val_accuracy: 0.9219\n",
            "Epoch 18/50\n",
            "15/15 [==============================] - 15s 1s/step - loss: 2.7951e-07 - accuracy: 1.0000 - val_loss: 0.8354 - val_accuracy: 0.9219\n",
            "Epoch 19/50\n",
            "15/15 [==============================] - 15s 976ms/step - loss: 1.1819e-07 - accuracy: 1.0000 - val_loss: 0.8390 - val_accuracy: 0.9219\n",
            "Epoch 20/50\n",
            "15/15 [==============================] - 14s 967ms/step - loss: 1.8870e-07 - accuracy: 1.0000 - val_loss: 0.8617 - val_accuracy: 0.9219\n",
            "Epoch 21/50\n",
            "15/15 [==============================] - 14s 969ms/step - loss: 2.1204e-07 - accuracy: 1.0000 - val_loss: 0.8481 - val_accuracy: 0.9219\n",
            "Epoch 22/50\n",
            "15/15 [==============================] - 14s 959ms/step - loss: 4.5655e-08 - accuracy: 1.0000 - val_loss: 0.8488 - val_accuracy: 0.9219\n",
            "Epoch 23/50\n",
            "15/15 [==============================] - 15s 974ms/step - loss: 4.2104e-08 - accuracy: 1.0000 - val_loss: 0.8733 - val_accuracy: 0.9219\n",
            "Epoch 24/50\n",
            "15/15 [==============================] - 15s 981ms/step - loss: 2.2827e-08 - accuracy: 1.0000 - val_loss: 0.8855 - val_accuracy: 0.9219\n",
            "Epoch 25/50\n",
            "15/15 [==============================] - 14s 940ms/step - loss: 1.4204e-08 - accuracy: 1.0000 - val_loss: 0.8560 - val_accuracy: 0.9219\n",
            "Epoch 26/50\n",
            "15/15 [==============================] - 14s 936ms/step - loss: 3.5509e-09 - accuracy: 1.0000 - val_loss: 0.3471 - val_accuracy: 0.9375\n",
            "Epoch 27/50\n",
            "15/15 [==============================] - 14s 959ms/step - loss: 2.0291e-09 - accuracy: 1.0000 - val_loss: 0.8385 - val_accuracy: 0.9219\n",
            "Epoch 28/50\n",
            "15/15 [==============================] - 20s 1s/step - loss: 0.0000e+00 - accuracy: 1.0000 - val_loss: 0.8309 - val_accuracy: 0.9219\n",
            "Epoch 29/50\n",
            "15/15 [==============================] - 14s 952ms/step - loss: 0.0000e+00 - accuracy: 1.0000 - val_loss: 0.8251 - val_accuracy: 0.9219\n",
            "Epoch 30/50\n",
            "15/15 [==============================] - 15s 975ms/step - loss: 2.0291e-09 - accuracy: 1.0000 - val_loss: 0.8397 - val_accuracy: 0.9375\n",
            "Epoch 31/50\n",
            "15/15 [==============================] - 15s 955ms/step - loss: 0.6325 - accuracy: 0.9106 - val_loss: 0.6010 - val_accuracy: 0.8750\n",
            "Epoch 32/50\n",
            "15/15 [==============================] - 14s 976ms/step - loss: 0.1397 - accuracy: 0.9702 - val_loss: 0.1844 - val_accuracy: 0.9375\n",
            "Epoch 33/50\n",
            "15/15 [==============================] - 16s 1s/step - loss: 0.0042 - accuracy: 1.0000 - val_loss: 0.5690 - val_accuracy: 0.9062\n",
            "Epoch 34/50\n",
            "15/15 [==============================] - 16s 1s/step - loss: 6.3604e-05 - accuracy: 1.0000 - val_loss: 0.6244 - val_accuracy: 0.9062\n",
            "Epoch 35/50\n",
            "15/15 [==============================] - 15s 992ms/step - loss: 1.0263e-05 - accuracy: 1.0000 - val_loss: 0.6532 - val_accuracy: 0.9062\n",
            "Epoch 36/50\n",
            "15/15 [==============================] - 14s 967ms/step - loss: 2.8668e-06 - accuracy: 1.0000 - val_loss: 0.6855 - val_accuracy: 0.9062\n",
            "Epoch 37/50\n",
            "15/15 [==============================] - 14s 959ms/step - loss: 8.6284e-07 - accuracy: 1.0000 - val_loss: 0.6960 - val_accuracy: 0.9062\n",
            "Epoch 38/50\n",
            "15/15 [==============================] - 16s 1s/step - loss: 4.2865e-07 - accuracy: 1.0000 - val_loss: 0.7126 - val_accuracy: 0.9062\n",
            "Epoch 39/50\n",
            "15/15 [==============================] - 14s 968ms/step - loss: 4.1393e-07 - accuracy: 1.0000 - val_loss: 0.7643 - val_accuracy: 0.9062\n",
            "Epoch 40/50\n",
            "15/15 [==============================] - 15s 1s/step - loss: 6.5438e-08 - accuracy: 1.0000 - val_loss: 0.7708 - val_accuracy: 0.9062\n",
            "Epoch 41/50\n",
            "15/15 [==============================] - 15s 998ms/step - loss: 2.2320e-08 - accuracy: 1.0000 - val_loss: 0.7748 - val_accuracy: 0.9062\n",
            "Epoch 42/50\n",
            "15/15 [==============================] - 15s 1s/step - loss: 9.8918e-08 - accuracy: 1.0000 - val_loss: 0.7892 - val_accuracy: 0.9062\n",
            "Epoch 43/50\n",
            "15/15 [==============================] - 15s 972ms/step - loss: 1.1160e-08 - accuracy: 1.0000 - val_loss: 0.7931 - val_accuracy: 0.9062\n",
            "Epoch 44/50\n",
            "15/15 [==============================] - 14s 954ms/step - loss: 2.9929e-08 - accuracy: 1.0000 - val_loss: 0.8388 - val_accuracy: 0.9062\n",
            "Epoch 45/50\n",
            "15/15 [==============================] - 14s 946ms/step - loss: 3.0436e-09 - accuracy: 1.0000 - val_loss: 0.8251 - val_accuracy: 0.9062\n",
            "Epoch 46/50\n",
            "15/15 [==============================] - 14s 949ms/step - loss: 5.5800e-09 - accuracy: 1.0000 - val_loss: 0.8032 - val_accuracy: 0.9062\n",
            "Epoch 47/50\n",
            "15/15 [==============================] - 14s 946ms/step - loss: 2.0291e-09 - accuracy: 1.0000 - val_loss: 0.8053 - val_accuracy: 0.9062\n",
            "Epoch 48/50\n",
            "15/15 [==============================] - 15s 991ms/step - loss: 1.8378e-08 - accuracy: 1.0000 - val_loss: 0.7845 - val_accuracy: 0.9375\n",
            "Epoch 49/50\n",
            "15/15 [==============================] - 14s 949ms/step - loss: 5.0727e-10 - accuracy: 1.0000 - val_loss: 0.7706 - val_accuracy: 0.9375\n",
            "Epoch 50/50\n",
            "15/15 [==============================] - 15s 972ms/step - loss: 5.0727e-10 - accuracy: 1.0000 - val_loss: 0.6721 - val_accuracy: 0.9531\n"
          ]
        }
      ],
      "source": [
        "# Fit the model after augmentation\n",
        "\n",
        "history = model.fit(trainImageData,\n",
        "                    validation_data=testImageData,\n",
        "                    epochs=50,\n",
        "                    steps_per_epoch=len(trainImageData.filenames) // trainImageData.batch_size, #For training\n",
        "                    validation_steps=len(testImageData.filenames) // testImageData.batch_size, #For testing\n",
        "                    callbacks=[MyQualityThreshold(0.8)])"
      ]
    },
    {
      "cell_type": "code",
      "source": [
        "import keras\n",
        "from matplotlib import pyplot as plt\n",
        "plt.plot(history.history['accuracy'])\n",
        "plt.plot(history.history['val_accuracy'])\n",
        "plt.title('model accuracy')\n",
        "plt.ylabel('accuracy')\n",
        "plt.xlabel('epoch')\n",
        "plt.legend(['train', 'val'], loc='upper left')\n",
        "plt.show()"
      ],
      "metadata": {
        "colab": {
          "base_uri": "https://localhost:8080/",
          "height": 295
        },
        "id": "ZxVW708tiYU9",
        "outputId": "62063d9d-7520-4747-9fa2-86308bd7da68"
      },
      "execution_count": 30,
      "outputs": [
        {
          "output_type": "display_data",
          "data": {
            "text/plain": [
              "<Figure size 432x288 with 1 Axes>"
            ],
            "image/png": "[encoded data removed]"
          },
          "metadata": {
            "needs_background": "light"
          }
        }
      ]
    },
    {
      "cell_type": "code",
      "source": [
        "plt.plot(history.history['loss'])\n",
        "plt.plot(history.history['val_loss'])\n",
        "plt.title('model loss')\n",
        "plt.ylabel('loss')\n",
        "plt.xlabel('epoch')\n",
        "plt.legend(['train', 'val'], loc='upper left')\n",
        "plt.show()"
      ],
      "metadata": {
        "colab": {
          "base_uri": "https://localhost:8080/",
          "height": 295
        },
        "id": "KOz8s0IniZ1K",
        "outputId": "d5398ebe-1e95-4031-9f62-ed3bfdebf0dc"
      },
      "execution_count": 31,
      "outputs": [
        {
          "output_type": "display_data",
          "data": {
            "text/plain": [
              "<Figure size 432x288 with 1 Axes>"
            ],
            "image/png": "[encoded data removed]"
          },
          "metadata": {
            "needs_background": "light"
          }
        }
      ]
    },
    {
      "cell_type": "code",
      "source": [
        "#Prediction\n",
        "# model\n",
        "#Load an Image\n",
        "imageToPredict = tf.keras.preprocessing.image.load_img('COVID-00012.jpg', target_size=(48, 48))\n",
        "#Step2: Convert image to np array \n",
        "myImageNPArray = tf.keras.preprocessing.image.img_to_array(imageToPredict)\n",
        "# Step3: Make the image compatible for the model by adding n\n",
        "myCompatibleImage = np.expand_dims(myImageNPArray, axis = 0)\n",
        "#Step4: Prediction\n",
        "prediction = model.predict(myCompatibleImage)\n",
        "print(prediction)"
      ],
      "metadata": {
        "colab": {
          "base_uri": "https://localhost:8080/"
        },
        "id": "z4RS_WYUBdrd",
        "outputId": "9b6262f8-1c46-400a-9797-fb658fe4d6be"
      },
      "execution_count": 32,
      "outputs": [
        {
          "output_type": "stream",
          "name": "stdout",
          "text": [
            "[[1. 0. 0.]]\n"
          ]
        }
      ]
    },
    {
      "cell_type": "code",
      "source": [
        "#Saving Model\n",
        "model.save(\"LungsDiseaseDetector\")"
      ],
      "metadata": {
        "colab": {
          "base_uri": "https://localhost:8080/"
        },
        "id": "vl1XPH9FDbtr",
        "outputId": "92cb707b-124d-4e57-f35d-753bceea17db"
      },
      "execution_count": 33,
      "outputs": [
        {
          "output_type": "stream",
          "name": "stdout",
          "text": [
            "INFO:tensorflow:Assets written to: LungsDiseaseDetector/assets\n"
          ]
        }
      ]
    },
    {
      "cell_type": "code",
      "source": [
        "#Deployment Example\n",
        "#Step1: Load an Image\n",
        "import matplotlib.pyplot as plt\n",
        "import numpy as np\n",
        "%matplotlib inline\n",
        "\n",
        "imageToPredict = tf.keras.preprocessing.image.load_img('COVID-00012.jpg', target_size=(48, 48))\n",
        "plt.imshow(imageToPredict)"
      ],
      "metadata": {
        "colab": {
          "base_uri": "https://localhost:8080/",
          "height": 284
        },
        "id": "kYyhCuipDdAv",
        "outputId": "1ede9680-ae9f-46a6-d8ba-d5bdd7ba9a85"
      },
      "execution_count": 34,
      "outputs": [
        {
          "output_type": "execute_result",
          "data": {
            "text/plain": [
              "<matplotlib.image.AxesImage at 0x7f921a16af90>"
            ]
          },
          "metadata": {},
          "execution_count": 34
        },
        {
          "output_type": "display_data",
          "data": {
            "text/plain": [
              "<Figure size 432x288 with 1 Axes>"
            ],
            "image/png": "[encoded data removed]"
          },
          "metadata": {
            "needs_background": "light"
          }
        }
      ]
    },
    {
      "cell_type": "code",
      "source": [
        "#Step2: Convert image to np array \n",
        "myImageNPArray = tf.keras.preprocessing.image.img_to_array(imageToPredict)\n",
        "\n",
        "myImageNPArray.shape"
      ],
      "metadata": {
        "colab": {
          "base_uri": "https://localhost:8080/"
        },
        "id": "TFV9f9J4DrSB",
        "outputId": "14325ef8-f711-4e1a-e0bd-8116e577425f"
      },
      "execution_count": 35,
      "outputs": [
        {
          "output_type": "execute_result",
          "data": {
            "text/plain": [
              "(48, 48, 3)"
            ]
          },
          "metadata": {},
          "execution_count": 35
        }
      ]
    },
    {
      "cell_type": "code",
      "source": [
        "# Step3: Make the image compatible for the model by adding n\n",
        "myCompatibleImage = np.expand_dims(myImageNPArray, axis = 0)\n",
        "myCompatibleImage.shape"
      ],
      "metadata": {
        "colab": {
          "base_uri": "https://localhost:8080/"
        },
        "id": "VgLYPUgzDvpf",
        "outputId": "3773a09a-a7d5-4f81-e296-838344558f0a"
      },
      "execution_count": 36,
      "outputs": [
        {
          "output_type": "execute_result",
          "data": {
            "text/plain": [
              "(1, 48, 48, 3)"
            ]
          },
          "metadata": {},
          "execution_count": 36
        }
      ]
    },
    {
      "cell_type": "code",
      "source": [
        "#Step4: Prediction\n",
        "prediction = model.predict(myCompatibleImage)"
      ],
      "metadata": {
        "id": "srOFUcU0Dy3e"
      },
      "execution_count": 37,
      "outputs": []
    },
    {
      "cell_type": "code",
      "source": [
        "prediction"
      ],
      "metadata": {
        "colab": {
          "base_uri": "https://localhost:8080/"
        },
        "id": "hOlG9AjpD2gz",
        "outputId": "7a2128ce-7590-4540-a608-7cb50712d50e"
      },
      "execution_count": 38,
      "outputs": [
        {
          "output_type": "execute_result",
          "data": {
            "text/plain": [
              "array([[1., 0., 0.]], dtype=float32)"
            ]
          },
          "metadata": {},
          "execution_count": 38
        }
      ]
    },
    {
      "cell_type": "code",
      "source": [
        "list(trainImageData.class_indices)[np.argmax(prediction)]"
      ],
      "metadata": {
        "colab": {
          "base_uri": "https://localhost:8080/",
          "height": 37
        },
        "id": "qaWEMELID_FA",
        "outputId": "313bf274-9de0-4aa0-d16b-ba8ad70cbe0d"
      },
      "execution_count": 39,
      "outputs": [
        {
          "output_type": "execute_result",
          "data": {
            "text/plain": [
              "'Type 1 disease'"
            ],
            "application/vnd.google.colaboratory.intrinsic+json": {
              "type": "string"
            }
          },
          "metadata": {},
          "execution_count": 39
        }
      ]
    },
    {
      "cell_type": "code",
      "source": [
        "# Part#2 - Transfer learning using mobile net:"
      ],
      "metadata": {
        "id": "4s6HOGYToUMr"
      },
      "execution_count": 40,
      "outputs": []
    },
    {
      "cell_type": "code",
      "source": [
        "import tensorflow as tf\n",
        "from glob import glob"
      ],
      "metadata": {
        "id": "apa5K_1GoX9M"
      },
      "execution_count": 41,
      "outputs": []
    },
    {
      "cell_type": "code",
      "source": [
        "# Set the training path and validation path\n",
        "\n",
        "train_path = 'data_Lungs/train/'\n",
        "validation_path = 'data_Lungs/test/'"
      ],
      "metadata": {
        "id": "dwQaMUAf7zyR"
      },
      "execution_count": 42,
      "outputs": []
    },
    {
      "cell_type": "code",
      "source": [
        "#Initialize Glob to interact with storage\n",
        "\n",
        "image_files = glob(train_path +'/*/*.jp*g')\n",
        "valid_image_files = glob(validation_path +'/*/*.jp*g')"
      ],
      "metadata": {
        "id": "pPWIoo9g8L0X"
      },
      "execution_count": 43,
      "outputs": []
    },
    {
      "cell_type": "code",
      "source": [
        "#Step1: Create ImageGenerator object (Use Algo's preprocessing function)\n",
        "\n",
        "gen = tf.keras.preprocessing.image.ImageDataGenerator(preprocessing_function=tf.keras.applications.mobilenet.preprocess_input,\n",
        "                                                      rotation_range=20,\n",
        "                                                      shear_range=0.1,\n",
        "                                                      zoom_range=0.2,\n",
        "                                                      horizontal_flip=True,\n",
        "                                                      vertical_flip=True)\n",
        "\n",
        "gen2 = tf.keras.preprocessing.image.ImageDataGenerator(preprocessing_function=tf.keras.applications.mobilenet.preprocess_input)"
      ],
      "metadata": {
        "id": "8PXhYJlD8Qnq"
      },
      "execution_count": 44,
      "outputs": []
    },
    {
      "cell_type": "code",
      "source": [
        "#Step2: Create Train and Valid Obj\n",
        "\n",
        "train_generator = gen.flow_from_directory(train_path,\n",
        "                                          target_size=[48,48],\n",
        "                                          class_mode='categorical',\n",
        "                                          batch_size=16)\n",
        "\n",
        "valid_generator = gen2.flow_from_directory(validation_path,\n",
        "                                          target_size=[48,48],\n",
        "                                          class_mode='categorical',\n",
        "                                          batch_size=16)"
      ],
      "metadata": {
        "id": "Sq4-b1aS8ZEl",
        "colab": {
          "base_uri": "https://localhost:8080/"
        },
        "outputId": "bbb550ac-a268-4e47-b555-d3e7e026a5d3"
      },
      "execution_count": 45,
      "outputs": [
        {
          "output_type": "stream",
          "name": "stdout",
          "text": [
            "Found 251 images belonging to 3 classes.\n",
            "Found 66 images belonging to 3 classes.\n"
          ]
        }
      ]
    },
    {
      "cell_type": "code",
      "source": [
        "#Step3: Load the model with Training Enabled ! ---> \n",
        "# include_top = False will remove FC layer from existing arch\n",
        "\n",
        "\n",
        "mobnet = tf.keras.applications.mobilenet.MobileNet(input_shape=[48,48,3],\n",
        "                                        weights=\"imagenet\",\n",
        "                                        include_top=False)\n",
        "\n",
        "#Following Method 1, that will lock weights of CNN layer\n",
        "\n",
        "for layer in mobnet.layers:\n",
        "  layer.trainable=False #If Approach 1--- True else False"
      ],
      "metadata": {
        "id": "NNW4rAbQ8b4h",
        "colab": {
          "base_uri": "https://localhost:8080/"
        },
        "outputId": "1c6f66d3-073a-4b05-e3b1-a865f59ee392"
      },
      "execution_count": 46,
      "outputs": [
        {
          "output_type": "stream",
          "name": "stdout",
          "text": [
            "WARNING:tensorflow:`input_shape` is undefined or non-square, or `rows` is not in [128, 160, 192, 224]. Weights for input shape (224, 224) will be loaded as the default.\n",
            "Downloading data from https://storage.googleapis.com/tensorflow/keras-applications/mobilenet/mobilenet_1_0_224_tf_no_top.h5\n",
            "17227776/17225924 [==============================] - 0s 0us/step\n",
            "17235968/17225924 [==============================] - 0s 0us/step\n"
          ]
        }
      ]
    },
    {
      "cell_type": "code",
      "source": [
        "#Step4: Create FC layer\n",
        "\n",
        "#Flatten\n",
        "\n",
        "flatten = tf.keras.layers.Flatten()\n",
        "\n",
        "# You can create your hidden layers here\n",
        "#hLayer1 = tf.keras.layers.Dense(4000,activation=\"relu\")\n",
        "#hLayer2 = tf.keras.layers.Dense(4000,activation=\"relu\")\n",
        "#hLayer3 = tf.keras.layers.Dense(4000,activation=\"relu\")\n",
        "\n",
        "# Output Layer\n",
        "\n",
        "\n",
        "finalLayer = tf.keras.layers.Dense(3,activation=\"softmax\")"
      ],
      "metadata": {
        "id": "z6L5B3tP8eU1"
      },
      "execution_count": 47,
      "outputs": []
    },
    {
      "cell_type": "code",
      "source": [
        "#Create Final Model\n",
        "\n",
        "model = tf.keras.models.Sequential([\n",
        "                                    mobnet,\n",
        "                                    flatten,\n",
        "                                    finalLayer\n",
        "])\n",
        "model.summary()"
      ],
      "metadata": {
        "id": "Zcfii1UM8gW9",
        "colab": {
          "base_uri": "https://localhost:8080/"
        },
        "outputId": "943847ac-bf2a-4170-f765-31ead032d05d"
      },
      "execution_count": 48,
      "outputs": [
        {
          "output_type": "stream",
          "name": "stdout",
          "text": [
            "Model: \"sequential_1\"\n",
            "_________________________________________________________________\n",
            " Layer (type)                Output Shape              Param #   \n",
            "=================================================================\n",
            " mobilenet_1.00_224 (Functio  (None, 1, 1, 1024)       3228864   \n",
            " nal)                                                            \n",
            "                                                                 \n",
            " flatten_1 (Flatten)         (None, 1024)              0         \n",
            "                                                                 \n",
            " dense_4 (Dense)             (None, 3)                 3075      \n",
            "                                                                 \n",
            "=================================================================\n",
            "Total params: 3,231,939\n",
            "Trainable params: 3,075\n",
            "Non-trainable params: 3,228,864\n",
            "_________________________________________________________________\n"
          ]
        }
      ]
    },
    {
      "cell_type": "code",
      "source": [
        "mobnet.summary()"
      ],
      "metadata": {
        "id": "E2GSp95D8iyE",
        "colab": {
          "base_uri": "https://localhost:8080/"
        },
        "outputId": "a2cf937b-fd60-4aeb-e841-96e54bdd80ce"
      },
      "execution_count": 49,
      "outputs": [
        {
          "output_type": "stream",
          "name": "stdout",
          "text": [
            "Model: \"mobilenet_1.00_224\"\n",
            "_________________________________________________________________\n",
            " Layer (type)                Output Shape              Param #   \n",
            "=================================================================\n",
            " input_1 (InputLayer)        [(None, 48, 48, 3)]       0         \n",
            "                                                                 \n",
            " conv1 (Conv2D)              (None, 24, 24, 32)        864       \n",
            "                                                                 \n",
            " conv1_bn (BatchNormalizatio  (None, 24, 24, 32)       128       \n",
            " n)                                                              \n",
            "                                                                 \n",
            " conv1_relu (ReLU)           (None, 24, 24, 32)        0         \n",
            "                                                                 \n",
            " conv_dw_1 (DepthwiseConv2D)  (None, 24, 24, 32)       288       \n",
            "                                                                 \n",
            " conv_dw_1_bn (BatchNormaliz  (None, 24, 24, 32)       128       \n",
            " ation)                                                          \n",
            "                                                                 \n",
            " conv_dw_1_relu (ReLU)       (None, 24, 24, 32)        0         \n",
            "                                                                 \n",
            " conv_pw_1 (Conv2D)          (None, 24, 24, 64)        2048      \n",
            "                                                                 \n",
            " conv_pw_1_bn (BatchNormaliz  (None, 24, 24, 64)       256       \n",
            " ation)                                                          \n",
            "                                                                 \n",
            " conv_pw_1_relu (ReLU)       (None, 24, 24, 64)        0         \n",
            "                                                                 \n",
            " conv_pad_2 (ZeroPadding2D)  (None, 25, 25, 64)        0         \n",
            "                                                                 \n",
            " conv_dw_2 (DepthwiseConv2D)  (None, 12, 12, 64)       576       \n",
            "                                                                 \n",
            " conv_dw_2_bn (BatchNormaliz  (None, 12, 12, 64)       256       \n",
            " ation)                                                          \n",
            "                                                                 \n",
            " conv_dw_2_relu (ReLU)       (None, 12, 12, 64)        0         \n",
            "                                                                 \n",
            " conv_pw_2 (Conv2D)          (None, 12, 12, 128)       8192      \n",
            "                                                                 \n",
            " conv_pw_2_bn (BatchNormaliz  (None, 12, 12, 128)      512       \n",
            " ation)                                                          \n",
            "                                                                 \n",
            " conv_pw_2_relu (ReLU)       (None, 12, 12, 128)       0         \n",
            "                                                                 \n",
            " conv_dw_3 (DepthwiseConv2D)  (None, 12, 12, 128)      1152      \n",
            "                                                                 \n",
            " conv_dw_3_bn (BatchNormaliz  (None, 12, 12, 128)      512       \n",
            " ation)                                                          \n",
            "                                                                 \n",
            " conv_dw_3_relu (ReLU)       (None, 12, 12, 128)       0         \n",
            "                                                                 \n",
            " conv_pw_3 (Conv2D)          (None, 12, 12, 128)       16384     \n",
            "                                                                 \n",
            " conv_pw_3_bn (BatchNormaliz  (None, 12, 12, 128)      512       \n",
            " ation)                                                          \n",
            "                                                                 \n",
            " conv_pw_3_relu (ReLU)       (None, 12, 12, 128)       0         \n",
            "                                                                 \n",
            " conv_pad_4 (ZeroPadding2D)  (None, 13, 13, 128)       0         \n",
            "                                                                 \n",
            " conv_dw_4 (DepthwiseConv2D)  (None, 6, 6, 128)        1152      \n",
            "                                                                 \n",
            " conv_dw_4_bn (BatchNormaliz  (None, 6, 6, 128)        512       \n",
            " ation)                                                          \n",
            "                                                                 \n",
            " conv_dw_4_relu (ReLU)       (None, 6, 6, 128)         0         \n",
            "                                                                 \n",
            " conv_pw_4 (Conv2D)          (None, 6, 6, 256)         32768     \n",
            "                                                                 \n",
            " conv_pw_4_bn (BatchNormaliz  (None, 6, 6, 256)        1024      \n",
            " ation)                                                          \n",
            "                                                                 \n",
            " conv_pw_4_relu (ReLU)       (None, 6, 6, 256)         0         \n",
            "                                                                 \n",
            " conv_dw_5 (DepthwiseConv2D)  (None, 6, 6, 256)        2304      \n",
            "                                                                 \n",
            " conv_dw_5_bn (BatchNormaliz  (None, 6, 6, 256)        1024      \n",
            " ation)                                                          \n",
            "                                                                 \n",
            " conv_dw_5_relu (ReLU)       (None, 6, 6, 256)         0         \n",
            "                                                                 \n",
            " conv_pw_5 (Conv2D)          (None, 6, 6, 256)         65536     \n",
            "                                                                 \n",
            " conv_pw_5_bn (BatchNormaliz  (None, 6, 6, 256)        1024      \n",
            " ation)                                                          \n",
            "                                                                 \n",
            " conv_pw_5_relu (ReLU)       (None, 6, 6, 256)         0         \n",
            "                                                                 \n",
            " conv_pad_6 (ZeroPadding2D)  (None, 7, 7, 256)         0         \n",
            "                                                                 \n",
            " conv_dw_6 (DepthwiseConv2D)  (None, 3, 3, 256)        2304      \n",
            "                                                                 \n",
            " conv_dw_6_bn (BatchNormaliz  (None, 3, 3, 256)        1024      \n",
            " ation)                                                          \n",
            "                                                                 \n",
            " conv_dw_6_relu (ReLU)       (None, 3, 3, 256)         0         \n",
            "                                                                 \n",
            " conv_pw_6 (Conv2D)          (None, 3, 3, 512)         131072    \n",
            "                                                                 \n",
            " conv_pw_6_bn (BatchNormaliz  (None, 3, 3, 512)        2048      \n",
            " ation)                                                          \n",
            "                                                                 \n",
            " conv_pw_6_relu (ReLU)       (None, 3, 3, 512)         0         \n",
            "                                                                 \n",
            " conv_dw_7 (DepthwiseConv2D)  (None, 3, 3, 512)        4608      \n",
            "                                                                 \n",
            " conv_dw_7_bn (BatchNormaliz  (None, 3, 3, 512)        2048      \n",
            " ation)                                                          \n",
            "                                                                 \n",
            " conv_dw_7_relu (ReLU)       (None, 3, 3, 512)         0         \n",
            "                                                                 \n",
            " conv_pw_7 (Conv2D)          (None, 3, 3, 512)         262144    \n",
            "                                                                 \n",
            " conv_pw_7_bn (BatchNormaliz  (None, 3, 3, 512)        2048      \n",
            " ation)                                                          \n",
            "                                                                 \n",
            " conv_pw_7_relu (ReLU)       (None, 3, 3, 512)         0         \n",
            "                                                                 \n",
            " conv_dw_8 (DepthwiseConv2D)  (None, 3, 3, 512)        4608      \n",
            "                                                                 \n",
            " conv_dw_8_bn (BatchNormaliz  (None, 3, 3, 512)        2048      \n",
            " ation)                                                          \n",
            "                                                                 \n",
            " conv_dw_8_relu (ReLU)       (None, 3, 3, 512)         0         \n",
            "                                                                 \n",
            " conv_pw_8 (Conv2D)          (None, 3, 3, 512)         262144    \n",
            "                                                                 \n",
            " conv_pw_8_bn (BatchNormaliz  (None, 3, 3, 512)        2048      \n",
            " ation)                                                          \n",
            "                                                                 \n",
            " conv_pw_8_relu (ReLU)       (None, 3, 3, 512)         0         \n",
            "                                                                 \n",
            " conv_dw_9 (DepthwiseConv2D)  (None, 3, 3, 512)        4608      \n",
            "                                                                 \n",
            " conv_dw_9_bn (BatchNormaliz  (None, 3, 3, 512)        2048      \n",
            " ation)                                                          \n",
            "                                                                 \n",
            " conv_dw_9_relu (ReLU)       (None, 3, 3, 512)         0         \n",
            "                                                                 \n",
            " conv_pw_9 (Conv2D)          (None, 3, 3, 512)         262144    \n",
            "                                                                 \n",
            " conv_pw_9_bn (BatchNormaliz  (None, 3, 3, 512)        2048      \n",
            " ation)                                                          \n",
            "                                                                 \n",
            " conv_pw_9_relu (ReLU)       (None, 3, 3, 512)         0         \n",
            "                                                                 \n",
            " conv_dw_10 (DepthwiseConv2D  (None, 3, 3, 512)        4608      \n",
            " )                                                               \n",
            "                                                                 \n",
            " conv_dw_10_bn (BatchNormali  (None, 3, 3, 512)        2048      \n",
            " zation)                                                         \n",
            "                                                                 \n",
            " conv_dw_10_relu (ReLU)      (None, 3, 3, 512)         0         \n",
            "                                                                 \n",
            " conv_pw_10 (Conv2D)         (None, 3, 3, 512)         262144    \n",
            "                                                                 \n",
            " conv_pw_10_bn (BatchNormali  (None, 3, 3, 512)        2048      \n",
            " zation)                                                         \n",
            "                                                                 \n",
            " conv_pw_10_relu (ReLU)      (None, 3, 3, 512)         0         \n",
            "                                                                 \n",
            " conv_dw_11 (DepthwiseConv2D  (None, 3, 3, 512)        4608      \n",
            " )                                                               \n",
            "                                                                 \n",
            " conv_dw_11_bn (BatchNormali  (None, 3, 3, 512)        2048      \n",
            " zation)                                                         \n",
            "                                                                 \n",
            " conv_dw_11_relu (ReLU)      (None, 3, 3, 512)         0         \n",
            "                                                                 \n",
            " conv_pw_11 (Conv2D)         (None, 3, 3, 512)         262144    \n",
            "                                                                 \n",
            " conv_pw_11_bn (BatchNormali  (None, 3, 3, 512)        2048      \n",
            " zation)                                                         \n",
            "                                                                 \n",
            " conv_pw_11_relu (ReLU)      (None, 3, 3, 512)         0         \n",
            "                                                                 \n",
            " conv_pad_12 (ZeroPadding2D)  (None, 4, 4, 512)        0         \n",
            "                                                                 \n",
            " conv_dw_12 (DepthwiseConv2D  (None, 1, 1, 512)        4608      \n",
            " )                                                               \n",
            "                                                                 \n",
            " conv_dw_12_bn (BatchNormali  (None, 1, 1, 512)        2048      \n",
            " zation)                                                         \n",
            "                                                                 \n",
            " conv_dw_12_relu (ReLU)      (None, 1, 1, 512)         0         \n",
            "                                                                 \n",
            " conv_pw_12 (Conv2D)         (None, 1, 1, 1024)        524288    \n",
            "                                                                 \n",
            " conv_pw_12_bn (BatchNormali  (None, 1, 1, 1024)       4096      \n",
            " zation)                                                         \n",
            "                                                                 \n",
            " conv_pw_12_relu (ReLU)      (None, 1, 1, 1024)        0         \n",
            "                                                                 \n",
            " conv_dw_13 (DepthwiseConv2D  (None, 1, 1, 1024)       9216      \n",
            " )                                                               \n",
            "                                                                 \n",
            " conv_dw_13_bn (BatchNormali  (None, 1, 1, 1024)       4096      \n",
            " zation)                                                         \n",
            "                                                                 \n",
            " conv_dw_13_relu (ReLU)      (None, 1, 1, 1024)        0         \n",
            "                                                                 \n",
            " conv_pw_13 (Conv2D)         (None, 1, 1, 1024)        1048576   \n",
            "                                                                 \n",
            " conv_pw_13_bn (BatchNormali  (None, 1, 1, 1024)       4096      \n",
            " zation)                                                         \n",
            "                                                                 \n",
            " conv_pw_13_relu (ReLU)      (None, 1, 1, 1024)        0         \n",
            "                                                                 \n",
            "=================================================================\n",
            "Total params: 3,228,864\n",
            "Trainable params: 0\n",
            "Non-trainable params: 3,228,864\n",
            "_________________________________________________________________\n"
          ]
        }
      ]
    },
    {
      "cell_type": "code",
      "source": [
        "#Compile\n",
        "\n",
        "model.compile(loss='categorical_crossentropy',\n",
        "              optimizer='adam',\n",
        "              metrics=['accuracy'])"
      ],
      "metadata": {
        "id": "RCsJGGCf8rj0"
      },
      "execution_count": 50,
      "outputs": []
    },
    {
      "cell_type": "code",
      "source": [
        "# Callbacks Convergence Criteria:\n",
        "# 1. Model must be a generalized model ( testScore > trainScore )\n",
        "# 2. Model's Test Score >= CL\n",
        "# Custom Callback which satisfies the above two criteria :)\n",
        "\n",
        "class MyQualityThreshold(tf.keras.callbacks.Callback):\n",
        "  def __init__(self,cl):\n",
        "    super(MyQualityThreshold, self).__init__()\n",
        "    self.cl = cl\n",
        "  \n",
        "  def on_epoch_end(self,epoch,logs=None):\n",
        "    testScore = logs['val_accuracy']\n",
        "    trainScore = logs['accuracy']\n",
        "    #epoch=logs['']\n",
        "\n",
        "    if testScore > trainScore and testScore >= self.cl and epoch > 2:\n",
        "      self.model.stop_training=True"
      ],
      "metadata": {
        "id": "HrP3V3v-8snX"
      },
      "execution_count": 51,
      "outputs": []
    },
    {
      "cell_type": "code",
      "source": [
        "#Fit Model \n",
        "batch_size=16\n",
        "history = model.fit(train_generator,\n",
        "                    validation_data=valid_generator,\n",
        "                    epochs=10,\n",
        "                    steps_per_epoch=len(train_generator.filenames) // batch_size,\n",
        "                    validation_steps=len(valid_generator.filenames) // batch_size,\n",
        "                    callbacks=[MyQualityThreshold(0.8)])"
      ],
      "metadata": {
        "id": "buAZA3Vm855D",
        "colab": {
          "base_uri": "https://localhost:8080/"
        },
        "outputId": "f786f9c6-ab76-4401-c7ed-5b9ec4cdfaf8"
      },
      "execution_count": 52,
      "outputs": [
        {
          "output_type": "stream",
          "name": "stdout",
          "text": [
            "Epoch 1/10\n",
            "15/15 [==============================] - 15s 915ms/step - loss: 1.0778 - accuracy: 0.4170 - val_loss: 1.1023 - val_accuracy: 0.3594\n",
            "Epoch 2/10\n",
            "15/15 [==============================] - 14s 932ms/step - loss: 1.0753 - accuracy: 0.4213 - val_loss: 1.0929 - val_accuracy: 0.3750\n",
            "Epoch 3/10\n",
            "15/15 [==============================] - 13s 810ms/step - loss: 1.0699 - accuracy: 0.4426 - val_loss: 1.0879 - val_accuracy: 0.3906\n",
            "Epoch 4/10\n",
            "15/15 [==============================] - 13s 820ms/step - loss: 1.0650 - accuracy: 0.4723 - val_loss: 1.0871 - val_accuracy: 0.3750\n",
            "Epoch 5/10\n",
            "15/15 [==============================] - 13s 861ms/step - loss: 1.0598 - accuracy: 0.4553 - val_loss: 1.0849 - val_accuracy: 0.3906\n",
            "Epoch 6/10\n",
            "15/15 [==============================] - 13s 874ms/step - loss: 1.0626 - accuracy: 0.4511 - val_loss: 1.0837 - val_accuracy: 0.3906\n",
            "Epoch 7/10\n",
            "15/15 [==============================] - 13s 860ms/step - loss: 1.0409 - accuracy: 0.4766 - val_loss: 1.0780 - val_accuracy: 0.4062\n",
            "Epoch 8/10\n",
            "15/15 [==============================] - 13s 891ms/step - loss: 1.0487 - accuracy: 0.5064 - val_loss: 1.0812 - val_accuracy: 0.3906\n",
            "Epoch 9/10\n",
            "15/15 [==============================] - 13s 850ms/step - loss: 1.0462 - accuracy: 0.4766 - val_loss: 1.0774 - val_accuracy: 0.3906\n",
            "Epoch 10/10\n",
            "15/15 [==============================] - 13s 855ms/step - loss: 1.0277 - accuracy: 0.5021 - val_loss: 1.0752 - val_accuracy: 0.4062\n"
          ]
        }
      ]
    },
    {
      "cell_type": "code",
      "source": [
        "import keras\n",
        "from matplotlib import pyplot as plt\n",
        "plt.plot(history.history['accuracy'])\n",
        "plt.plot(history.history['val_accuracy'])\n",
        "plt.title('model accuracy')\n",
        "plt.ylabel('accuracy')\n",
        "plt.xlabel('epoch')\n",
        "plt.legend(['train', 'val'], loc='upper left')\n",
        "plt.show()"
      ],
      "metadata": {
        "colab": {
          "base_uri": "https://localhost:8080/",
          "height": 295
        },
        "id": "tPKhimRptl5c",
        "outputId": "17e402f9-8e11-49bd-c9ea-a2b019579561"
      },
      "execution_count": 53,
      "outputs": [
        {
          "output_type": "display_data",
          "data": {
            "text/plain": [
              "<Figure size 432x288 with 1 Axes>"
            ],
            "image/png": "[encoded data removed]"
          },
          "metadata": {
            "needs_background": "light"
          }
        }
      ]
    },
    {
      "cell_type": "code",
      "source": [
        "plt.plot(history.history['loss'])\n",
        "plt.plot(history.history['val_loss'])\n",
        "plt.title('model loss')\n",
        "plt.ylabel('loss')\n",
        "plt.xlabel('epoch')\n",
        "plt.legend(['train', 'val'], loc='upper left')\n",
        "plt.show()"
      ],
      "metadata": {
        "colab": {
          "base_uri": "https://localhost:8080/",
          "height": 295
        },
        "id": "M1jdP0XuttbR",
        "outputId": "de396abf-032b-4e2d-feb4-56b559ed4984"
      },
      "execution_count": 54,
      "outputs": [
        {
          "output_type": "display_data",
          "data": {
            "text/plain": [
              "<Figure size 432x288 with 1 Axes>"
            ],
            "image/png": "[encoded data removed]"
          },
          "metadata": {
            "needs_background": "light"
          }
        }
      ]
    },
    {
      "cell_type": "code",
      "source": [
        "#Saving Model\n",
        "model.save(\"LungsDetectorMobileNet\")"
      ],
      "metadata": {
        "id": "fAxXBqyC89ck",
        "colab": {
          "base_uri": "https://localhost:8080/"
        },
        "outputId": "96e419a0-9024-4531-f321-48604536c290"
      },
      "execution_count": 55,
      "outputs": [
        {
          "output_type": "stream",
          "name": "stderr",
          "text": [
            "WARNING:absl:Function `_wrapped_model` contains input name(s) mobilenet_1.00_224_input with unsupported characters which will be renamed to mobilenet_1_00_224_input in the SavedModel.\n"
          ]
        },
        {
          "output_type": "stream",
          "name": "stdout",
          "text": [
            "INFO:tensorflow:Assets written to: LungsDetectorMobileNet/assets\n"
          ]
        },
        {
          "output_type": "stream",
          "name": "stderr",
          "text": [
            "INFO:tensorflow:Assets written to: LungsDetectorMobileNet/assets\n"
          ]
        }
      ]
    },
    {
      "cell_type": "code",
      "source": [
        "#Step1 - Load an Image\n",
        "import matplotlib.pyplot as plt\n",
        "import numpy as np\n",
        "%matplotlib inline\n",
        "\n",
        "imageToPredict = tf.keras.preprocessing.image.load_img('COVID-00012.jpg', target_size=(48, 48))\n",
        "plt.imshow(imageToPredict)"
      ],
      "metadata": {
        "id": "Z2ALpfTI9C3u",
        "colab": {
          "base_uri": "https://localhost:8080/",
          "height": 284
        },
        "outputId": "5261066e-169b-439d-c65a-893cc9c4a5bd"
      },
      "execution_count": 56,
      "outputs": [
        {
          "output_type": "execute_result",
          "data": {
            "text/plain": [
              "<matplotlib.image.AxesImage at 0x7f9217a54cd0>"
            ]
          },
          "metadata": {},
          "execution_count": 56
        },
        {
          "output_type": "display_data",
          "data": {
            "text/plain": [
              "<Figure size 432x288 with 1 Axes>"
            ],
            "image/png": "[encoded data removed]"
          },
          "metadata": {
            "needs_background": "light"
          }
        }
      ]
    },
    {
      "cell_type": "code",
      "source": [
        "#Step2: Convert image to np array \n",
        "myImageNPArray = tf.keras.preprocessing.image.img_to_array(imageToPredict)\n",
        "myImageNPArray.shape"
      ],
      "metadata": {
        "id": "zxlcJ-eR9N_W",
        "colab": {
          "base_uri": "https://localhost:8080/"
        },
        "outputId": "737d1e07-d46e-4f4d-bd82-baff0152de63"
      },
      "execution_count": 57,
      "outputs": [
        {
          "output_type": "execute_result",
          "data": {
            "text/plain": [
              "(48, 48, 3)"
            ]
          },
          "metadata": {},
          "execution_count": 57
        }
      ]
    },
    {
      "cell_type": "code",
      "source": [
        "# Step3: Make the image compatible for the model by adding n\n",
        "myCompatibleImage = np.expand_dims(myImageNPArray, axis = 0)\n",
        "myCompatibleImage.shape"
      ],
      "metadata": {
        "id": "TnyjQ4iP9QL4",
        "colab": {
          "base_uri": "https://localhost:8080/"
        },
        "outputId": "2ef616e3-3f2d-4e53-c9a1-11f59b7a6847"
      },
      "execution_count": 58,
      "outputs": [
        {
          "output_type": "execute_result",
          "data": {
            "text/plain": [
              "(1, 48, 48, 3)"
            ]
          },
          "metadata": {},
          "execution_count": 58
        }
      ]
    },
    {
      "cell_type": "code",
      "source": [
        "#Step4: Prediction\n",
        "prediction = model.predict(myCompatibleImage)\n",
        "prediction"
      ],
      "metadata": {
        "id": "ubn-BJQp9TIY",
        "colab": {
          "base_uri": "https://localhost:8080/"
        },
        "outputId": "5c04b20e-a268-4e0b-f140-e28c41a0c7ab"
      },
      "execution_count": 59,
      "outputs": [
        {
          "output_type": "execute_result",
          "data": {
            "text/plain": [
              "array([[0.44470984, 0.27295536, 0.28233477]], dtype=float32)"
            ]
          },
          "metadata": {},
          "execution_count": 59
        }
      ]
    },
    {
      "cell_type": "code",
      "source": [
        "list(train_generator.class_indices)[np.argmax(prediction)]"
      ],
      "metadata": {
        "id": "n8_sPdIN9VJX",
        "colab": {
          "base_uri": "https://localhost:8080/",
          "height": 37
        },
        "outputId": "fb2d176b-9009-456b-e388-c82e3dc9de95"
      },
      "execution_count": 60,
      "outputs": [
        {
          "output_type": "execute_result",
          "data": {
            "text/plain": [
              "'Type 1 disease'"
            ],
            "application/vnd.google.colaboratory.intrinsic+json": {
              "type": "string"
            }
          },
          "metadata": {},
          "execution_count": 60
        }
      ]
    },
    {
      "cell_type": "code",
      "source": [
        ""
      ],
      "metadata": {
        "id": "tQ3mbSFJeFMj"
      },
      "execution_count": 60,
      "outputs": []
    },
    {
      "cell_type": "code",
      "source": [
        "# Part#3 - Transfer learning using Densenet:"
      ],
      "metadata": {
        "id": "WLvZrnomeFWE"
      },
      "execution_count": 61,
      "outputs": []
    },
    {
      "cell_type": "code",
      "source": [
        "#Step1: Create ImageGenerator object (Use Algo's preprocessing function)\n",
        "\n",
        "gen = tf.keras.preprocessing.image.ImageDataGenerator(preprocessing_function=tf.keras.applications.densenet.preprocess_input,\n",
        "                                                      rotation_range=20,\n",
        "                                                      shear_range=0.1,\n",
        "                                                      zoom_range=0.2,\n",
        "                                                      horizontal_flip=True,\n",
        "                                                      vertical_flip=True)\n",
        "\n",
        "gen2 = tf.keras.preprocessing.image.ImageDataGenerator(preprocessing_function=tf.keras.applications.densenet.preprocess_input)"
      ],
      "metadata": {
        "id": "JpfABsBte04D"
      },
      "execution_count": 62,
      "outputs": []
    },
    {
      "cell_type": "code",
      "source": [
        "#Step2: Create Train and Valid Obj\n",
        "\n",
        "train_generator = gen.flow_from_directory(train_path,\n",
        "                                          target_size=[224,224],\n",
        "                                          class_mode='categorical',\n",
        "                                          batch_size=7)\n",
        "\n",
        "valid_generator = gen2.flow_from_directory(validation_path,\n",
        "                                          target_size=[224,224],\n",
        "                                          class_mode='categorical',\n",
        "                                          batch_size=7)"
      ],
      "metadata": {
        "colab": {
          "base_uri": "https://localhost:8080/"
        },
        "id": "YNT4MY6JfIxK",
        "outputId": "bd4bdd76-188c-466f-e9d6-fd4da52a63c5"
      },
      "execution_count": 63,
      "outputs": [
        {
          "output_type": "stream",
          "name": "stdout",
          "text": [
            "Found 251 images belonging to 3 classes.\n",
            "Found 66 images belonging to 3 classes.\n"
          ]
        }
      ]
    },
    {
      "cell_type": "code",
      "source": [
        "#Step3: Load the model with Training Enabled ! ---> \n",
        "# include_top = False will remove FC layer from existing arch\n",
        "\n",
        "\n",
        "densnet = tf.keras.applications.densenet.DenseNet121(input_shape=[224,224,3],\n",
        "                                        weights=\"imagenet\",\n",
        "                                        include_top=False)\n",
        "\n",
        "#Following Method 1, that will lock weights of CNN layer\n",
        "\n",
        "for layer in densnet.layers:\n",
        "  layer.trainable=False #If Approach 1--- True else False"
      ],
      "metadata": {
        "id": "hDnojgF4jqLs",
        "colab": {
          "base_uri": "https://localhost:8080/"
        },
        "outputId": "4f2f24e5-42ce-4f0e-d768-0c34e475babc"
      },
      "execution_count": 64,
      "outputs": [
        {
          "output_type": "stream",
          "name": "stdout",
          "text": [
            "Downloading data from https://storage.googleapis.com/tensorflow/keras-applications/densenet/densenet121_weights_tf_dim_ordering_tf_kernels_notop.h5\n",
            "29089792/29084464 [==============================] - 0s 0us/step\n",
            "29097984/29084464 [==============================] - 0s 0us/step\n"
          ]
        }
      ]
    },
    {
      "cell_type": "code",
      "source": [
        "#Step4: Create FC layer\n",
        "\n",
        "#Flatten\n",
        "\n",
        "flatten = tf.keras.layers.Flatten()\n",
        "\n",
        "# You can create your hidden layers here\n",
        "#hLayer1 = tf.keras.layers.Dense(4000,activation=\"relu\")\n",
        "#hLayer2 = tf.keras.layers.Dense(4000,activation=\"relu\")\n",
        "#hLayer3 = tf.keras.layers.Dense(4000,activation=\"relu\")\n",
        "\n",
        "# Output Layer\n",
        "\n",
        "\n",
        "finalLayer = tf.keras.layers.Dense(3,activation=\"softmax\")"
      ],
      "metadata": {
        "id": "wmO02jhNjwrF"
      },
      "execution_count": 65,
      "outputs": []
    },
    {
      "cell_type": "code",
      "source": [
        "#Create Final Model\n",
        "\n",
        "model = tf.keras.models.Sequential([\n",
        "                                    densnet,\n",
        "                                    flatten,\n",
        "                                    finalLayer\n",
        "])\n",
        "model.summary()"
      ],
      "metadata": {
        "colab": {
          "base_uri": "https://localhost:8080/"
        },
        "id": "iVC8AbOkj2PK",
        "outputId": "47ba320d-3163-485b-91da-bf62f72288bf"
      },
      "execution_count": 66,
      "outputs": [
        {
          "output_type": "stream",
          "name": "stdout",
          "text": [
            "Model: \"sequential_2\"\n",
            "_________________________________________________________________\n",
            " Layer (type)                Output Shape              Param #   \n",
            "=================================================================\n",
            " densenet121 (Functional)    (None, 7, 7, 1024)        7037504   \n",
            "                                                                 \n",
            " flatten_2 (Flatten)         (None, 50176)             0         \n",
            "                                                                 \n",
            " dense_5 (Dense)             (None, 3)                 150531    \n",
            "                                                                 \n",
            "=================================================================\n",
            "Total params: 7,188,035\n",
            "Trainable params: 150,531\n",
            "Non-trainable params: 7,037,504\n",
            "_________________________________________________________________\n"
          ]
        }
      ]
    },
    {
      "cell_type": "code",
      "source": [
        "densnet.summary()"
      ],
      "metadata": {
        "colab": {
          "base_uri": "https://localhost:8080/"
        },
        "id": "-WlsLF41j_q2",
        "outputId": "16d512e2-2a35-4660-ed24-fff78a05105a"
      },
      "execution_count": 67,
      "outputs": [
        {
          "output_type": "stream",
          "name": "stdout",
          "text": [
            "Model: \"densenet121\"\n",
            "__________________________________________________________________________________________________\n",
            " Layer (type)                   Output Shape         Param #     Connected to                     \n",
            "==================================================================================================\n",
            " input_2 (InputLayer)           [(None, 224, 224, 3  0           []                               \n",
            "                                )]                                                                \n",
            "                                                                                                  \n",
            " zero_padding2d (ZeroPadding2D)  (None, 230, 230, 3)  0          ['input_2[0][0]']                \n",
            "                                                                                                  \n",
            " conv1/conv (Conv2D)            (None, 112, 112, 64  9408        ['zero_padding2d[0][0]']         \n",
            "                                )                                                                 \n",
            "                                                                                                  \n",
            " conv1/bn (BatchNormalization)  (None, 112, 112, 64  256         ['conv1/conv[0][0]']             \n",
            "                                )                                                                 \n",
            "                                                                                                  \n",
            " conv1/relu (Activation)        (None, 112, 112, 64  0           ['conv1/bn[0][0]']               \n",
            "                                )                                                                 \n",
            "                                                                                                  \n",
            " zero_padding2d_1 (ZeroPadding2  (None, 114, 114, 64  0          ['conv1/relu[0][0]']             \n",
            " D)                             )                                                                 \n",
            "                                                                                                  \n",
            " pool1 (MaxPooling2D)           (None, 56, 56, 64)   0           ['zero_padding2d_1[0][0]']       \n",
            "                                                                                                  \n",
            " conv2_block1_0_bn (BatchNormal  (None, 56, 56, 64)  256         ['pool1[0][0]']                  \n",
            " ization)                                                                                         \n",
            "                                                                                                  \n",
            " conv2_block1_0_relu (Activatio  (None, 56, 56, 64)  0           ['conv2_block1_0_bn[0][0]']      \n",
            " n)                                                                                               \n",
            "                                                                                                  \n",
            " conv2_block1_1_conv (Conv2D)   (None, 56, 56, 128)  8192        ['conv2_block1_0_relu[0][0]']    \n",
            "                                                                                                  \n",
            " conv2_block1_1_bn (BatchNormal  (None, 56, 56, 128)  512        ['conv2_block1_1_conv[0][0]']    \n",
            " ization)                                                                                         \n",
            "                                                                                                  \n",
            " conv2_block1_1_relu (Activatio  (None, 56, 56, 128)  0          ['conv2_block1_1_bn[0][0]']      \n",
            " n)                                                                                               \n",
            "                                                                                                  \n",
            " conv2_block1_2_conv (Conv2D)   (None, 56, 56, 32)   36864       ['conv2_block1_1_relu[0][0]']    \n",
            "                                                                                                  \n",
            " conv2_block1_concat (Concatena  (None, 56, 56, 96)  0           ['pool1[0][0]',                  \n",
            " te)                                                              'conv2_block1_2_conv[0][0]']    \n",
            "                                                                                                  \n",
            " conv2_block2_0_bn (BatchNormal  (None, 56, 56, 96)  384         ['conv2_block1_concat[0][0]']    \n",
            " ization)                                                                                         \n",
            "                                                                                                  \n",
            " conv2_block2_0_relu (Activatio  (None, 56, 56, 96)  0           ['conv2_block2_0_bn[0][0]']      \n",
            " n)                                                                                               \n",
            "                                                                                                  \n",
            " conv2_block2_1_conv (Conv2D)   (None, 56, 56, 128)  12288       ['conv2_block2_0_relu[0][0]']    \n",
            "                                                                                                  \n",
            " conv2_block2_1_bn (BatchNormal  (None, 56, 56, 128)  512        ['conv2_block2_1_conv[0][0]']    \n",
            " ization)                                                                                         \n",
            "                                                                                                  \n",
            " conv2_block2_1_relu (Activatio  (None, 56, 56, 128)  0          ['conv2_block2_1_bn[0][0]']      \n",
            " n)                                                                                               \n",
            "                                                                                                  \n",
            " conv2_block2_2_conv (Conv2D)   (None, 56, 56, 32)   36864       ['conv2_block2_1_relu[0][0]']    \n",
            "                                                                                                  \n",
            " conv2_block2_concat (Concatena  (None, 56, 56, 128)  0          ['conv2_block1_concat[0][0]',    \n",
            " te)                                                              'conv2_block2_2_conv[0][0]']    \n",
            "                                                                                                  \n",
            " conv2_block3_0_bn (BatchNormal  (None, 56, 56, 128)  512        ['conv2_block2_concat[0][0]']    \n",
            " ization)                                                                                         \n",
            "                                                                                                  \n",
            " conv2_block3_0_relu (Activatio  (None, 56, 56, 128)  0          ['conv2_block3_0_bn[0][0]']      \n",
            " n)                                                                                               \n",
            "                                                                                                  \n",
            " conv2_block3_1_conv (Conv2D)   (None, 56, 56, 128)  16384       ['conv2_block3_0_relu[0][0]']    \n",
            "                                                                                                  \n",
            " conv2_block3_1_bn (BatchNormal  (None, 56, 56, 128)  512        ['conv2_block3_1_conv[0][0]']    \n",
            " ization)                                                                                         \n",
            "                                                                                                  \n",
            " conv2_block3_1_relu (Activatio  (None, 56, 56, 128)  0          ['conv2_block3_1_bn[0][0]']      \n",
            " n)                                                                                               \n",
            "                                                                                                  \n",
            " conv2_block3_2_conv (Conv2D)   (None, 56, 56, 32)   36864       ['conv2_block3_1_relu[0][0]']    \n",
            "                                                                                                  \n",
            " conv2_block3_concat (Concatena  (None, 56, 56, 160)  0          ['conv2_block2_concat[0][0]',    \n",
            " te)                                                              'conv2_block3_2_conv[0][0]']    \n",
            "                                                                                                  \n",
            " conv2_block4_0_bn (BatchNormal  (None, 56, 56, 160)  640        ['conv2_block3_concat[0][0]']    \n",
            " ization)                                                                                         \n",
            "                                                                                                  \n",
            " conv2_block4_0_relu (Activatio  (None, 56, 56, 160)  0          ['conv2_block4_0_bn[0][0]']      \n",
            " n)                                                                                               \n",
            "                                                                                                  \n",
            " conv2_block4_1_conv (Conv2D)   (None, 56, 56, 128)  20480       ['conv2_block4_0_relu[0][0]']    \n",
            "                                                                                                  \n",
            " conv2_block4_1_bn (BatchNormal  (None, 56, 56, 128)  512        ['conv2_block4_1_conv[0][0]']    \n",
            " ization)                                                                                         \n",
            "                                                                                                  \n",
            " conv2_block4_1_relu (Activatio  (None, 56, 56, 128)  0          ['conv2_block4_1_bn[0][0]']      \n",
            " n)                                                                                               \n",
            "                                                                                                  \n",
            " conv2_block4_2_conv (Conv2D)   (None, 56, 56, 32)   36864       ['conv2_block4_1_relu[0][0]']    \n",
            "                                                                                                  \n",
            " conv2_block4_concat (Concatena  (None, 56, 56, 192)  0          ['conv2_block3_concat[0][0]',    \n",
            " te)                                                              'conv2_block4_2_conv[0][0]']    \n",
            "                                                                                                  \n",
            " conv2_block5_0_bn (BatchNormal  (None, 56, 56, 192)  768        ['conv2_block4_concat[0][0]']    \n",
            " ization)                                                                                         \n",
            "                                                                                                  \n",
            " conv2_block5_0_relu (Activatio  (None, 56, 56, 192)  0          ['conv2_block5_0_bn[0][0]']      \n",
            " n)                                                                                               \n",
            "                                                                                                  \n",
            " conv2_block5_1_conv (Conv2D)   (None, 56, 56, 128)  24576       ['conv2_block5_0_relu[0][0]']    \n",
            "                                                                                                  \n",
            " conv2_block5_1_bn (BatchNormal  (None, 56, 56, 128)  512        ['conv2_block5_1_conv[0][0]']    \n",
            " ization)                                                                                         \n",
            "                                                                                                  \n",
            " conv2_block5_1_relu (Activatio  (None, 56, 56, 128)  0          ['conv2_block5_1_bn[0][0]']      \n",
            " n)                                                                                               \n",
            "                                                                                                  \n",
            " conv2_block5_2_conv (Conv2D)   (None, 56, 56, 32)   36864       ['conv2_block5_1_relu[0][0]']    \n",
            "                                                                                                  \n",
            " conv2_block5_concat (Concatena  (None, 56, 56, 224)  0          ['conv2_block4_concat[0][0]',    \n",
            " te)                                                              'conv2_block5_2_conv[0][0]']    \n",
            "                                                                                                  \n",
            " conv2_block6_0_bn (BatchNormal  (None, 56, 56, 224)  896        ['conv2_block5_concat[0][0]']    \n",
            " ization)                                                                                         \n",
            "                                                                                                  \n",
            " conv2_block6_0_relu (Activatio  (None, 56, 56, 224)  0          ['conv2_block6_0_bn[0][0]']      \n",
            " n)                                                                                               \n",
            "                                                                                                  \n",
            " conv2_block6_1_conv (Conv2D)   (None, 56, 56, 128)  28672       ['conv2_block6_0_relu[0][0]']    \n",
            "                                                                                                  \n",
            " conv2_block6_1_bn (BatchNormal  (None, 56, 56, 128)  512        ['conv2_block6_1_conv[0][0]']    \n",
            " ization)                                                                                         \n",
            "                                                                                                  \n",
            " conv2_block6_1_relu (Activatio  (None, 56, 56, 128)  0          ['conv2_block6_1_bn[0][0]']      \n",
            " n)                                                                                               \n",
            "                                                                                                  \n",
            " conv2_block6_2_conv (Conv2D)   (None, 56, 56, 32)   36864       ['conv2_block6_1_relu[0][0]']    \n",
            "                                                                                                  \n",
            " conv2_block6_concat (Concatena  (None, 56, 56, 256)  0          ['conv2_block5_concat[0][0]',    \n",
            " te)                                                              'conv2_block6_2_conv[0][0]']    \n",
            "                                                                                                  \n",
            " pool2_bn (BatchNormalization)  (None, 56, 56, 256)  1024        ['conv2_block6_concat[0][0]']    \n",
            "                                                                                                  \n",
            " pool2_relu (Activation)        (None, 56, 56, 256)  0           ['pool2_bn[0][0]']               \n",
            "                                                                                                  \n",
            " pool2_conv (Conv2D)            (None, 56, 56, 128)  32768       ['pool2_relu[0][0]']             \n",
            "                                                                                                  \n",
            " pool2_pool (AveragePooling2D)  (None, 28, 28, 128)  0           ['pool2_conv[0][0]']             \n",
            "                                                                                                  \n",
            " conv3_block1_0_bn (BatchNormal  (None, 28, 28, 128)  512        ['pool2_pool[0][0]']             \n",
            " ization)                                                                                         \n",
            "                                                                                                  \n",
            " conv3_block1_0_relu (Activatio  (None, 28, 28, 128)  0          ['conv3_block1_0_bn[0][0]']      \n",
            " n)                                                                                               \n",
            "                                                                                                  \n",
            " conv3_block1_1_conv (Conv2D)   (None, 28, 28, 128)  16384       ['conv3_block1_0_relu[0][0]']    \n",
            "                                                                                                  \n",
            " conv3_block1_1_bn (BatchNormal  (None, 28, 28, 128)  512        ['conv3_block1_1_conv[0][0]']    \n",
            " ization)                                                                                         \n",
            "                                                                                                  \n",
            " conv3_block1_1_relu (Activatio  (None, 28, 28, 128)  0          ['conv3_block1_1_bn[0][0]']      \n",
            " n)                                                                                               \n",
            "                                                                                                  \n",
            " conv3_block1_2_conv (Conv2D)   (None, 28, 28, 32)   36864       ['conv3_block1_1_relu[0][0]']    \n",
            "                                                                                                  \n",
            " conv3_block1_concat (Concatena  (None, 28, 28, 160)  0          ['pool2_pool[0][0]',             \n",
            " te)                                                              'conv3_block1_2_conv[0][0]']    \n",
            "                                                                                                  \n",
            " conv3_block2_0_bn (BatchNormal  (None, 28, 28, 160)  640        ['conv3_block1_concat[0][0]']    \n",
            " ization)                                                                                         \n",
            "                                                                                                  \n",
            " conv3_block2_0_relu (Activatio  (None, 28, 28, 160)  0          ['conv3_block2_0_bn[0][0]']      \n",
            " n)                                                                                               \n",
            "                                                                                                  \n",
            " conv3_block2_1_conv (Conv2D)   (None, 28, 28, 128)  20480       ['conv3_block2_0_relu[0][0]']    \n",
            "                                                                                                  \n",
            " conv3_block2_1_bn (BatchNormal  (None, 28, 28, 128)  512        ['conv3_block2_1_conv[0][0]']    \n",
            " ization)                                                                                         \n",
            "                                                                                                  \n",
            " conv3_block2_1_relu (Activatio  (None, 28, 28, 128)  0          ['conv3_block2_1_bn[0][0]']      \n",
            " n)                                                                                               \n",
            "                                                                                                  \n",
            " conv3_block2_2_conv (Conv2D)   (None, 28, 28, 32)   36864       ['conv3_block2_1_relu[0][0]']    \n",
            "                                                                                                  \n",
            " conv3_block2_concat (Concatena  (None, 28, 28, 192)  0          ['conv3_block1_concat[0][0]',    \n",
            " te)                                                              'conv3_block2_2_conv[0][0]']    \n",
            "                                                                                                  \n",
            " conv3_block3_0_bn (BatchNormal  (None, 28, 28, 192)  768        ['conv3_block2_concat[0][0]']    \n",
            " ization)                                                                                         \n",
            "                                                                                                  \n",
            " conv3_block3_0_relu (Activatio  (None, 28, 28, 192)  0          ['conv3_block3_0_bn[0][0]']      \n",
            " n)                                                                                               \n",
            "                                                                                                  \n",
            " conv3_block3_1_conv (Conv2D)   (None, 28, 28, 128)  24576       ['conv3_block3_0_relu[0][0]']    \n",
            "                                                                                                  \n",
            " conv3_block3_1_bn (BatchNormal  (None, 28, 28, 128)  512        ['conv3_block3_1_conv[0][0]']    \n",
            " ization)                                                                                         \n",
            "                                                                                                  \n",
            " conv3_block3_1_relu (Activatio  (None, 28, 28, 128)  0          ['conv3_block3_1_bn[0][0]']      \n",
            " n)                                                                                               \n",
            "                                                                                                  \n",
            " conv3_block3_2_conv (Conv2D)   (None, 28, 28, 32)   36864       ['conv3_block3_1_relu[0][0]']    \n",
            "                                                                                                  \n",
            " conv3_block3_concat (Concatena  (None, 28, 28, 224)  0          ['conv3_block2_concat[0][0]',    \n",
            " te)                                                              'conv3_block3_2_conv[0][0]']    \n",
            "                                                                                                  \n",
            " conv3_block4_0_bn (BatchNormal  (None, 28, 28, 224)  896        ['conv3_block3_concat[0][0]']    \n",
            " ization)                                                                                         \n",
            "                                                                                                  \n",
            " conv3_block4_0_relu (Activatio  (None, 28, 28, 224)  0          ['conv3_block4_0_bn[0][0]']      \n",
            " n)                                                                                               \n",
            "                                                                                                  \n",
            " conv3_block4_1_conv (Conv2D)   (None, 28, 28, 128)  28672       ['conv3_block4_0_relu[0][0]']    \n",
            "                                                                                                  \n",
            " conv3_block4_1_bn (BatchNormal  (None, 28, 28, 128)  512        ['conv3_block4_1_conv[0][0]']    \n",
            " ization)                                                                                         \n",
            "                                                                                                  \n",
            " conv3_block4_1_relu (Activatio  (None, 28, 28, 128)  0          ['conv3_block4_1_bn[0][0]']      \n",
            " n)                                                                                               \n",
            "                                                                                                  \n",
            " conv3_block4_2_conv (Conv2D)   (None, 28, 28, 32)   36864       ['conv3_block4_1_relu[0][0]']    \n",
            "                                                                                                  \n",
            " conv3_block4_concat (Concatena  (None, 28, 28, 256)  0          ['conv3_block3_concat[0][0]',    \n",
            " te)                                                              'conv3_block4_2_conv[0][0]']    \n",
            "                                                                                                  \n",
            " conv3_block5_0_bn (BatchNormal  (None, 28, 28, 256)  1024       ['conv3_block4_concat[0][0]']    \n",
            " ization)                                                                                         \n",
            "                                                                                                  \n",
            " conv3_block5_0_relu (Activatio  (None, 28, 28, 256)  0          ['conv3_block5_0_bn[0][0]']      \n",
            " n)                                                                                               \n",
            "                                                                                                  \n",
            " conv3_block5_1_conv (Conv2D)   (None, 28, 28, 128)  32768       ['conv3_block5_0_relu[0][0]']    \n",
            "                                                                                                  \n",
            " conv3_block5_1_bn (BatchNormal  (None, 28, 28, 128)  512        ['conv3_block5_1_conv[0][0]']    \n",
            " ization)                                                                                         \n",
            "                                                                                                  \n",
            " conv3_block5_1_relu (Activatio  (None, 28, 28, 128)  0          ['conv3_block5_1_bn[0][0]']      \n",
            " n)                                                                                               \n",
            "                                                                                                  \n",
            " conv3_block5_2_conv (Conv2D)   (None, 28, 28, 32)   36864       ['conv3_block5_1_relu[0][0]']    \n",
            "                                                                                                  \n",
            " conv3_block5_concat (Concatena  (None, 28, 28, 288)  0          ['conv3_block4_concat[0][0]',    \n",
            " te)                                                              'conv3_block5_2_conv[0][0]']    \n",
            "                                                                                                  \n",
            " conv3_block6_0_bn (BatchNormal  (None, 28, 28, 288)  1152       ['conv3_block5_concat[0][0]']    \n",
            " ization)                                                                                         \n",
            "                                                                                                  \n",
            " conv3_block6_0_relu (Activatio  (None, 28, 28, 288)  0          ['conv3_block6_0_bn[0][0]']      \n",
            " n)                                                                                               \n",
            "                                                                                                  \n",
            " conv3_block6_1_conv (Conv2D)   (None, 28, 28, 128)  36864       ['conv3_block6_0_relu[0][0]']    \n",
            "                                                                                                  \n",
            " conv3_block6_1_bn (BatchNormal  (None, 28, 28, 128)  512        ['conv3_block6_1_conv[0][0]']    \n",
            " ization)                                                                                         \n",
            "                                                                                                  \n",
            " conv3_block6_1_relu (Activatio  (None, 28, 28, 128)  0          ['conv3_block6_1_bn[0][0]']      \n",
            " n)                                                                                               \n",
            "                                                                                                  \n",
            " conv3_block6_2_conv (Conv2D)   (None, 28, 28, 32)   36864       ['conv3_block6_1_relu[0][0]']    \n",
            "                                                                                                  \n",
            " conv3_block6_concat (Concatena  (None, 28, 28, 320)  0          ['conv3_block5_concat[0][0]',    \n",
            " te)                                                              'conv3_block6_2_conv[0][0]']    \n",
            "                                                                                                  \n",
            " conv3_block7_0_bn (BatchNormal  (None, 28, 28, 320)  1280       ['conv3_block6_concat[0][0]']    \n",
            " ization)                                                                                         \n",
            "                                                                                                  \n",
            " conv3_block7_0_relu (Activatio  (None, 28, 28, 320)  0          ['conv3_block7_0_bn[0][0]']      \n",
            " n)                                                                                               \n",
            "                                                                                                  \n",
            " conv3_block7_1_conv (Conv2D)   (None, 28, 28, 128)  40960       ['conv3_block7_0_relu[0][0]']    \n",
            "                                                                                                  \n",
            " conv3_block7_1_bn (BatchNormal  (None, 28, 28, 128)  512        ['conv3_block7_1_conv[0][0]']    \n",
            " ization)                                                                                         \n",
            "                                                                                                  \n",
            " conv3_block7_1_relu (Activatio  (None, 28, 28, 128)  0          ['conv3_block7_1_bn[0][0]']      \n",
            " n)                                                                                               \n",
            "                                                                                                  \n",
            " conv3_block7_2_conv (Conv2D)   (None, 28, 28, 32)   36864       ['conv3_block7_1_relu[0][0]']    \n",
            "                                                                                                  \n",
            " conv3_block7_concat (Concatena  (None, 28, 28, 352)  0          ['conv3_block6_concat[0][0]',    \n",
            " te)                                                              'conv3_block7_2_conv[0][0]']    \n",
            "                                                                                                  \n",
            " conv3_block8_0_bn (BatchNormal  (None, 28, 28, 352)  1408       ['conv3_block7_concat[0][0]']    \n",
            " ization)                                                                                         \n",
            "                                                                                                  \n",
            " conv3_block8_0_relu (Activatio  (None, 28, 28, 352)  0          ['conv3_block8_0_bn[0][0]']      \n",
            " n)                                                                                               \n",
            "                                                                                                  \n",
            " conv3_block8_1_conv (Conv2D)   (None, 28, 28, 128)  45056       ['conv3_block8_0_relu[0][0]']    \n",
            "                                                                                                  \n",
            " conv3_block8_1_bn (BatchNormal  (None, 28, 28, 128)  512        ['conv3_block8_1_conv[0][0]']    \n",
            " ization)                                                                                         \n",
            "                                                                                                  \n",
            " conv3_block8_1_relu (Activatio  (None, 28, 28, 128)  0          ['conv3_block8_1_bn[0][0]']      \n",
            " n)                                                                                               \n",
            "                                                                                                  \n",
            " conv3_block8_2_conv (Conv2D)   (None, 28, 28, 32)   36864       ['conv3_block8_1_relu[0][0]']    \n",
            "                                                                                                  \n",
            " conv3_block8_concat (Concatena  (None, 28, 28, 384)  0          ['conv3_block7_concat[0][0]',    \n",
            " te)                                                              'conv3_block8_2_conv[0][0]']    \n",
            "                                                                                                  \n",
            " conv3_block9_0_bn (BatchNormal  (None, 28, 28, 384)  1536       ['conv3_block8_concat[0][0]']    \n",
            " ization)                                                                                         \n",
            "                                                                                                  \n",
            " conv3_block9_0_relu (Activatio  (None, 28, 28, 384)  0          ['conv3_block9_0_bn[0][0]']      \n",
            " n)                                                                                               \n",
            "                                                                                                  \n",
            " conv3_block9_1_conv (Conv2D)   (None, 28, 28, 128)  49152       ['conv3_block9_0_relu[0][0]']    \n",
            "                                                                                                  \n",
            " conv3_block9_1_bn (BatchNormal  (None, 28, 28, 128)  512        ['conv3_block9_1_conv[0][0]']    \n",
            " ization)                                                                                         \n",
            "                                                                                                  \n",
            " conv3_block9_1_relu (Activatio  (None, 28, 28, 128)  0          ['conv3_block9_1_bn[0][0]']      \n",
            " n)                                                                                               \n",
            "                                                                                                  \n",
            " conv3_block9_2_conv (Conv2D)   (None, 28, 28, 32)   36864       ['conv3_block9_1_relu[0][0]']    \n",
            "                                                                                                  \n",
            " conv3_block9_concat (Concatena  (None, 28, 28, 416)  0          ['conv3_block8_concat[0][0]',    \n",
            " te)                                                              'conv3_block9_2_conv[0][0]']    \n",
            "                                                                                                  \n",
            " conv3_block10_0_bn (BatchNorma  (None, 28, 28, 416)  1664       ['conv3_block9_concat[0][0]']    \n",
            " lization)                                                                                        \n",
            "                                                                                                  \n",
            " conv3_block10_0_relu (Activati  (None, 28, 28, 416)  0          ['conv3_block10_0_bn[0][0]']     \n",
            " on)                                                                                              \n",
            "                                                                                                  \n",
            " conv3_block10_1_conv (Conv2D)  (None, 28, 28, 128)  53248       ['conv3_block10_0_relu[0][0]']   \n",
            "                                                                                                  \n",
            " conv3_block10_1_bn (BatchNorma  (None, 28, 28, 128)  512        ['conv3_block10_1_conv[0][0]']   \n",
            " lization)                                                                                        \n",
            "                                                                                                  \n",
            " conv3_block10_1_relu (Activati  (None, 28, 28, 128)  0          ['conv3_block10_1_bn[0][0]']     \n",
            " on)                                                                                              \n",
            "                                                                                                  \n",
            " conv3_block10_2_conv (Conv2D)  (None, 28, 28, 32)   36864       ['conv3_block10_1_relu[0][0]']   \n",
            "                                                                                                  \n",
            " conv3_block10_concat (Concaten  (None, 28, 28, 448)  0          ['conv3_block9_concat[0][0]',    \n",
            " ate)                                                             'conv3_block10_2_conv[0][0]']   \n",
            "                                                                                                  \n",
            " conv3_block11_0_bn (BatchNorma  (None, 28, 28, 448)  1792       ['conv3_block10_concat[0][0]']   \n",
            " lization)                                                                                        \n",
            "                                                                                                  \n",
            " conv3_block11_0_relu (Activati  (None, 28, 28, 448)  0          ['conv3_block11_0_bn[0][0]']     \n",
            " on)                                                                                              \n",
            "                                                                                                  \n",
            " conv3_block11_1_conv (Conv2D)  (None, 28, 28, 128)  57344       ['conv3_block11_0_relu[0][0]']   \n",
            "                                                                                                  \n",
            " conv3_block11_1_bn (BatchNorma  (None, 28, 28, 128)  512        ['conv3_block11_1_conv[0][0]']   \n",
            " lization)                                                                                        \n",
            "                                                                                                  \n",
            " conv3_block11_1_relu (Activati  (None, 28, 28, 128)  0          ['conv3_block11_1_bn[0][0]']     \n",
            " on)                                                                                              \n",
            "                                                                                                  \n",
            " conv3_block11_2_conv (Conv2D)  (None, 28, 28, 32)   36864       ['conv3_block11_1_relu[0][0]']   \n",
            "                                                                                                  \n",
            " conv3_block11_concat (Concaten  (None, 28, 28, 480)  0          ['conv3_block10_concat[0][0]',   \n",
            " ate)                                                             'conv3_block11_2_conv[0][0]']   \n",
            "                                                                                                  \n",
            " conv3_block12_0_bn (BatchNorma  (None, 28, 28, 480)  1920       ['conv3_block11_concat[0][0]']   \n",
            " lization)                                                                                        \n",
            "                                                                                                  \n",
            " conv3_block12_0_relu (Activati  (None, 28, 28, 480)  0          ['conv3_block12_0_bn[0][0]']     \n",
            " on)                                                                                              \n",
            "                                                                                                  \n",
            " conv3_block12_1_conv (Conv2D)  (None, 28, 28, 128)  61440       ['conv3_block12_0_relu[0][0]']   \n",
            "                                                                                                  \n",
            " conv3_block12_1_bn (BatchNorma  (None, 28, 28, 128)  512        ['conv3_block12_1_conv[0][0]']   \n",
            " lization)                                                                                        \n",
            "                                                                                                  \n",
            " conv3_block12_1_relu (Activati  (None, 28, 28, 128)  0          ['conv3_block12_1_bn[0][0]']     \n",
            " on)                                                                                              \n",
            "                                                                                                  \n",
            " conv3_block12_2_conv (Conv2D)  (None, 28, 28, 32)   36864       ['conv3_block12_1_relu[0][0]']   \n",
            "                                                                                                  \n",
            " conv3_block12_concat (Concaten  (None, 28, 28, 512)  0          ['conv3_block11_concat[0][0]',   \n",
            " ate)                                                             'conv3_block12_2_conv[0][0]']   \n",
            "                                                                                                  \n",
            " pool3_bn (BatchNormalization)  (None, 28, 28, 512)  2048        ['conv3_block12_concat[0][0]']   \n",
            "                                                                                                  \n",
            " pool3_relu (Activation)        (None, 28, 28, 512)  0           ['pool3_bn[0][0]']               \n",
            "                                                                                                  \n",
            " pool3_conv (Conv2D)            (None, 28, 28, 256)  131072      ['pool3_relu[0][0]']             \n",
            "                                                                                                  \n",
            " pool3_pool (AveragePooling2D)  (None, 14, 14, 256)  0           ['pool3_conv[0][0]']             \n",
            "                                                                                                  \n",
            " conv4_block1_0_bn (BatchNormal  (None, 14, 14, 256)  1024       ['pool3_pool[0][0]']             \n",
            " ization)                                                                                         \n",
            "                                                                                                  \n",
            " conv4_block1_0_relu (Activatio  (None, 14, 14, 256)  0          ['conv4_block1_0_bn[0][0]']      \n",
            " n)                                                                                               \n",
            "                                                                                                  \n",
            " conv4_block1_1_conv (Conv2D)   (None, 14, 14, 128)  32768       ['conv4_block1_0_relu[0][0]']    \n",
            "                                                                                                  \n",
            " conv4_block1_1_bn (BatchNormal  (None, 14, 14, 128)  512        ['conv4_block1_1_conv[0][0]']    \n",
            " ization)                                                                                         \n",
            "                                                                                                  \n",
            " conv4_block1_1_relu (Activatio  (None, 14, 14, 128)  0          ['conv4_block1_1_bn[0][0]']      \n",
            " n)                                                                                               \n",
            "                                                                                                  \n",
            " conv4_block1_2_conv (Conv2D)   (None, 14, 14, 32)   36864       ['conv4_block1_1_relu[0][0]']    \n",
            "                                                                                                  \n",
            " conv4_block1_concat (Concatena  (None, 14, 14, 288)  0          ['pool3_pool[0][0]',             \n",
            " te)                                                              'conv4_block1_2_conv[0][0]']    \n",
            "                                                                                                  \n",
            " conv4_block2_0_bn (BatchNormal  (None, 14, 14, 288)  1152       ['conv4_block1_concat[0][0]']    \n",
            " ization)                                                                                         \n",
            "                                                                                                  \n",
            " conv4_block2_0_relu (Activatio  (None, 14, 14, 288)  0          ['conv4_block2_0_bn[0][0]']      \n",
            " n)                                                                                               \n",
            "                                                                                                  \n",
            " conv4_block2_1_conv (Conv2D)   (None, 14, 14, 128)  36864       ['conv4_block2_0_relu[0][0]']    \n",
            "                                                                                                  \n",
            " conv4_block2_1_bn (BatchNormal  (None, 14, 14, 128)  512        ['conv4_block2_1_conv[0][0]']    \n",
            " ization)                                                                                         \n",
            "                                                                                                  \n",
            " conv4_block2_1_relu (Activatio  (None, 14, 14, 128)  0          ['conv4_block2_1_bn[0][0]']      \n",
            " n)                                                                                               \n",
            "                                                                                                  \n",
            " conv4_block2_2_conv (Conv2D)   (None, 14, 14, 32)   36864       ['conv4_block2_1_relu[0][0]']    \n",
            "                                                                                                  \n",
            " conv4_block2_concat (Concatena  (None, 14, 14, 320)  0          ['conv4_block1_concat[0][0]',    \n",
            " te)                                                              'conv4_block2_2_conv[0][0]']    \n",
            "                                                                                                  \n",
            " conv4_block3_0_bn (BatchNormal  (None, 14, 14, 320)  1280       ['conv4_block2_concat[0][0]']    \n",
            " ization)                                                                                         \n",
            "                                                                                                  \n",
            " conv4_block3_0_relu (Activatio  (None, 14, 14, 320)  0          ['conv4_block3_0_bn[0][0]']      \n",
            " n)                                                                                               \n",
            "                                                                                                  \n",
            " conv4_block3_1_conv (Conv2D)   (None, 14, 14, 128)  40960       ['conv4_block3_0_relu[0][0]']    \n",
            "                                                                                                  \n",
            " conv4_block3_1_bn (BatchNormal  (None, 14, 14, 128)  512        ['conv4_block3_1_conv[0][0]']    \n",
            " ization)                                                                                         \n",
            "                                                                                                  \n",
            " conv4_block3_1_relu (Activatio  (None, 14, 14, 128)  0          ['conv4_block3_1_bn[0][0]']      \n",
            " n)                                                                                               \n",
            "                                                                                                  \n",
            " conv4_block3_2_conv (Conv2D)   (None, 14, 14, 32)   36864       ['conv4_block3_1_relu[0][0]']    \n",
            "                                                                                                  \n",
            " conv4_block3_concat (Concatena  (None, 14, 14, 352)  0          ['conv4_block2_concat[0][0]',    \n",
            " te)                                                              'conv4_block3_2_conv[0][0]']    \n",
            "                                                                                                  \n",
            " conv4_block4_0_bn (BatchNormal  (None, 14, 14, 352)  1408       ['conv4_block3_concat[0][0]']    \n",
            " ization)                                                                                         \n",
            "                                                                                                  \n",
            " conv4_block4_0_relu (Activatio  (None, 14, 14, 352)  0          ['conv4_block4_0_bn[0][0]']      \n",
            " n)                                                                                               \n",
            "                                                                                                  \n",
            " conv4_block4_1_conv (Conv2D)   (None, 14, 14, 128)  45056       ['conv4_block4_0_relu[0][0]']    \n",
            "                                                                                                  \n",
            " conv4_block4_1_bn (BatchNormal  (None, 14, 14, 128)  512        ['conv4_block4_1_conv[0][0]']    \n",
            " ization)                                                                                         \n",
            "                                                                                                  \n",
            " conv4_block4_1_relu (Activatio  (None, 14, 14, 128)  0          ['conv4_block4_1_bn[0][0]']      \n",
            " n)                                                                                               \n",
            "                                                                                                  \n",
            " conv4_block4_2_conv (Conv2D)   (None, 14, 14, 32)   36864       ['conv4_block4_1_relu[0][0]']    \n",
            "                                                                                                  \n",
            " conv4_block4_concat (Concatena  (None, 14, 14, 384)  0          ['conv4_block3_concat[0][0]',    \n",
            " te)                                                              'conv4_block4_2_conv[0][0]']    \n",
            "                                                                                                  \n",
            " conv4_block5_0_bn (BatchNormal  (None, 14, 14, 384)  1536       ['conv4_block4_concat[0][0]']    \n",
            " ization)                                                                                         \n",
            "                                                                                                  \n",
            " conv4_block5_0_relu (Activatio  (None, 14, 14, 384)  0          ['conv4_block5_0_bn[0][0]']      \n",
            " n)                                                                                               \n",
            "                                                                                                  \n",
            " conv4_block5_1_conv (Conv2D)   (None, 14, 14, 128)  49152       ['conv4_block5_0_relu[0][0]']    \n",
            "                                                                                                  \n",
            " conv4_block5_1_bn (BatchNormal  (None, 14, 14, 128)  512        ['conv4_block5_1_conv[0][0]']    \n",
            " ization)                                                                                         \n",
            "                                                                                                  \n",
            " conv4_block5_1_relu (Activatio  (None, 14, 14, 128)  0          ['conv4_block5_1_bn[0][0]']      \n",
            " n)                                                                                               \n",
            "                                                                                                  \n",
            " conv4_block5_2_conv (Conv2D)   (None, 14, 14, 32)   36864       ['conv4_block5_1_relu[0][0]']    \n",
            "                                                                                                  \n",
            " conv4_block5_concat (Concatena  (None, 14, 14, 416)  0          ['conv4_block4_concat[0][0]',    \n",
            " te)                                                              'conv4_block5_2_conv[0][0]']    \n",
            "                                                                                                  \n",
            " conv4_block6_0_bn (BatchNormal  (None, 14, 14, 416)  1664       ['conv4_block5_concat[0][0]']    \n",
            " ization)                                                                                         \n",
            "                                                                                                  \n",
            " conv4_block6_0_relu (Activatio  (None, 14, 14, 416)  0          ['conv4_block6_0_bn[0][0]']      \n",
            " n)                                                                                               \n",
            "                                                                                                  \n",
            " conv4_block6_1_conv (Conv2D)   (None, 14, 14, 128)  53248       ['conv4_block6_0_relu[0][0]']    \n",
            "                                                                                                  \n",
            " conv4_block6_1_bn (BatchNormal  (None, 14, 14, 128)  512        ['conv4_block6_1_conv[0][0]']    \n",
            " ization)                                                                                         \n",
            "                                                                                                  \n",
            " conv4_block6_1_relu (Activatio  (None, 14, 14, 128)  0          ['conv4_block6_1_bn[0][0]']      \n",
            " n)                                                                                               \n",
            "                                                                                                  \n",
            " conv4_block6_2_conv (Conv2D)   (None, 14, 14, 32)   36864       ['conv4_block6_1_relu[0][0]']    \n",
            "                                                                                                  \n",
            " conv4_block6_concat (Concatena  (None, 14, 14, 448)  0          ['conv4_block5_concat[0][0]',    \n",
            " te)                                                              'conv4_block6_2_conv[0][0]']    \n",
            "                                                                                                  \n",
            " conv4_block7_0_bn (BatchNormal  (None, 14, 14, 448)  1792       ['conv4_block6_concat[0][0]']    \n",
            " ization)                                                                                         \n",
            "                                                                                                  \n",
            " conv4_block7_0_relu (Activatio  (None, 14, 14, 448)  0          ['conv4_block7_0_bn[0][0]']      \n",
            " n)                                                                                               \n",
            "                                                                                                  \n",
            " conv4_block7_1_conv (Conv2D)   (None, 14, 14, 128)  57344       ['conv4_block7_0_relu[0][0]']    \n",
            "                                                                                                  \n",
            " conv4_block7_1_bn (BatchNormal  (None, 14, 14, 128)  512        ['conv4_block7_1_conv[0][0]']    \n",
            " ization)                                                                                         \n",
            "                                                                                                  \n",
            " conv4_block7_1_relu (Activatio  (None, 14, 14, 128)  0          ['conv4_block7_1_bn[0][0]']      \n",
            " n)                                                                                               \n",
            "                                                                                                  \n",
            " conv4_block7_2_conv (Conv2D)   (None, 14, 14, 32)   36864       ['conv4_block7_1_relu[0][0]']    \n",
            "                                                                                                  \n",
            " conv4_block7_concat (Concatena  (None, 14, 14, 480)  0          ['conv4_block6_concat[0][0]',    \n",
            " te)                                                              'conv4_block7_2_conv[0][0]']    \n",
            "                                                                                                  \n",
            " conv4_block8_0_bn (BatchNormal  (None, 14, 14, 480)  1920       ['conv4_block7_concat[0][0]']    \n",
            " ization)                                                                                         \n",
            "                                                                                                  \n",
            " conv4_block8_0_relu (Activatio  (None, 14, 14, 480)  0          ['conv4_block8_0_bn[0][0]']      \n",
            " n)                                                                                               \n",
            "                                                                                                  \n",
            " conv4_block8_1_conv (Conv2D)   (None, 14, 14, 128)  61440       ['conv4_block8_0_relu[0][0]']    \n",
            "                                                                                                  \n",
            " conv4_block8_1_bn (BatchNormal  (None, 14, 14, 128)  512        ['conv4_block8_1_conv[0][0]']    \n",
            " ization)                                                                                         \n",
            "                                                                                                  \n",
            " conv4_block8_1_relu (Activatio  (None, 14, 14, 128)  0          ['conv4_block8_1_bn[0][0]']      \n",
            " n)                                                                                               \n",
            "                                                                                                  \n",
            " conv4_block8_2_conv (Conv2D)   (None, 14, 14, 32)   36864       ['conv4_block8_1_relu[0][0]']    \n",
            "                                                                                                  \n",
            " conv4_block8_concat (Concatena  (None, 14, 14, 512)  0          ['conv4_block7_concat[0][0]',    \n",
            " te)                                                              'conv4_block8_2_conv[0][0]']    \n",
            "                                                                                                  \n",
            " conv4_block9_0_bn (BatchNormal  (None, 14, 14, 512)  2048       ['conv4_block8_concat[0][0]']    \n",
            " ization)                                                                                         \n",
            "                                                                                                  \n",
            " conv4_block9_0_relu (Activatio  (None, 14, 14, 512)  0          ['conv4_block9_0_bn[0][0]']      \n",
            " n)                                                                                               \n",
            "                                                                                                  \n",
            " conv4_block9_1_conv (Conv2D)   (None, 14, 14, 128)  65536       ['conv4_block9_0_relu[0][0]']    \n",
            "                                                                                                  \n",
            " conv4_block9_1_bn (BatchNormal  (None, 14, 14, 128)  512        ['conv4_block9_1_conv[0][0]']    \n",
            " ization)                                                                                         \n",
            "                                                                                                  \n",
            " conv4_block9_1_relu (Activatio  (None, 14, 14, 128)  0          ['conv4_block9_1_bn[0][0]']      \n",
            " n)                                                                                               \n",
            "                                                                                                  \n",
            " conv4_block9_2_conv (Conv2D)   (None, 14, 14, 32)   36864       ['conv4_block9_1_relu[0][0]']    \n",
            "                                                                                                  \n",
            " conv4_block9_concat (Concatena  (None, 14, 14, 544)  0          ['conv4_block8_concat[0][0]',    \n",
            " te)                                                              'conv4_block9_2_conv[0][0]']    \n",
            "                                                                                                  \n",
            " conv4_block10_0_bn (BatchNorma  (None, 14, 14, 544)  2176       ['conv4_block9_concat[0][0]']    \n",
            " lization)                                                                                        \n",
            "                                                                                                  \n",
            " conv4_block10_0_relu (Activati  (None, 14, 14, 544)  0          ['conv4_block10_0_bn[0][0]']     \n",
            " on)                                                                                              \n",
            "                                                                                                  \n",
            " conv4_block10_1_conv (Conv2D)  (None, 14, 14, 128)  69632       ['conv4_block10_0_relu[0][0]']   \n",
            "                                                                                                  \n",
            " conv4_block10_1_bn (BatchNorma  (None, 14, 14, 128)  512        ['conv4_block10_1_conv[0][0]']   \n",
            " lization)                                                                                        \n",
            "                                                                                                  \n",
            " conv4_block10_1_relu (Activati  (None, 14, 14, 128)  0          ['conv4_block10_1_bn[0][0]']     \n",
            " on)                                                                                              \n",
            "                                                                                                  \n",
            " conv4_block10_2_conv (Conv2D)  (None, 14, 14, 32)   36864       ['conv4_block10_1_relu[0][0]']   \n",
            "                                                                                                  \n",
            " conv4_block10_concat (Concaten  (None, 14, 14, 576)  0          ['conv4_block9_concat[0][0]',    \n",
            " ate)                                                             'conv4_block10_2_conv[0][0]']   \n",
            "                                                                                                  \n",
            " conv4_block11_0_bn (BatchNorma  (None, 14, 14, 576)  2304       ['conv4_block10_concat[0][0]']   \n",
            " lization)                                                                                        \n",
            "                                                                                                  \n",
            " conv4_block11_0_relu (Activati  (None, 14, 14, 576)  0          ['conv4_block11_0_bn[0][0]']     \n",
            " on)                                                                                              \n",
            "                                                                                                  \n",
            " conv4_block11_1_conv (Conv2D)  (None, 14, 14, 128)  73728       ['conv4_block11_0_relu[0][0]']   \n",
            "                                                                                                  \n",
            " conv4_block11_1_bn (BatchNorma  (None, 14, 14, 128)  512        ['conv4_block11_1_conv[0][0]']   \n",
            " lization)                                                                                        \n",
            "                                                                                                  \n",
            " conv4_block11_1_relu (Activati  (None, 14, 14, 128)  0          ['conv4_block11_1_bn[0][0]']     \n",
            " on)                                                                                              \n",
            "                                                                                                  \n",
            " conv4_block11_2_conv (Conv2D)  (None, 14, 14, 32)   36864       ['conv4_block11_1_relu[0][0]']   \n",
            "                                                                                                  \n",
            " conv4_block11_concat (Concaten  (None, 14, 14, 608)  0          ['conv4_block10_concat[0][0]',   \n",
            " ate)                                                             'conv4_block11_2_conv[0][0]']   \n",
            "                                                                                                  \n",
            " conv4_block12_0_bn (BatchNorma  (None, 14, 14, 608)  2432       ['conv4_block11_concat[0][0]']   \n",
            " lization)                                                                                        \n",
            "                                                                                                  \n",
            " conv4_block12_0_relu (Activati  (None, 14, 14, 608)  0          ['conv4_block12_0_bn[0][0]']     \n",
            " on)                                                                                              \n",
            "                                                                                                  \n",
            " conv4_block12_1_conv (Conv2D)  (None, 14, 14, 128)  77824       ['conv4_block12_0_relu[0][0]']   \n",
            "                                                                                                  \n",
            " conv4_block12_1_bn (BatchNorma  (None, 14, 14, 128)  512        ['conv4_block12_1_conv[0][0]']   \n",
            " lization)                                                                                        \n",
            "                                                                                                  \n",
            " conv4_block12_1_relu (Activati  (None, 14, 14, 128)  0          ['conv4_block12_1_bn[0][0]']     \n",
            " on)                                                                                              \n",
            "                                                                                                  \n",
            " conv4_block12_2_conv (Conv2D)  (None, 14, 14, 32)   36864       ['conv4_block12_1_relu[0][0]']   \n",
            "                                                                                                  \n",
            " conv4_block12_concat (Concaten  (None, 14, 14, 640)  0          ['conv4_block11_concat[0][0]',   \n",
            " ate)                                                             'conv4_block12_2_conv[0][0]']   \n",
            "                                                                                                  \n",
            " conv4_block13_0_bn (BatchNorma  (None, 14, 14, 640)  2560       ['conv4_block12_concat[0][0]']   \n",
            " lization)                                                                                        \n",
            "                                                                                                  \n",
            " conv4_block13_0_relu (Activati  (None, 14, 14, 640)  0          ['conv4_block13_0_bn[0][0]']     \n",
            " on)                                                                                              \n",
            "                                                                                                  \n",
            " conv4_block13_1_conv (Conv2D)  (None, 14, 14, 128)  81920       ['conv4_block13_0_relu[0][0]']   \n",
            "                                                                                                  \n",
            " conv4_block13_1_bn (BatchNorma  (None, 14, 14, 128)  512        ['conv4_block13_1_conv[0][0]']   \n",
            " lization)                                                                                        \n",
            "                                                                                                  \n",
            " conv4_block13_1_relu (Activati  (None, 14, 14, 128)  0          ['conv4_block13_1_bn[0][0]']     \n",
            " on)                                                                                              \n",
            "                                                                                                  \n",
            " conv4_block13_2_conv (Conv2D)  (None, 14, 14, 32)   36864       ['conv4_block13_1_relu[0][0]']   \n",
            "                                                                                                  \n",
            " conv4_block13_concat (Concaten  (None, 14, 14, 672)  0          ['conv4_block12_concat[0][0]',   \n",
            " ate)                                                             'conv4_block13_2_conv[0][0]']   \n",
            "                                                                                                  \n",
            " conv4_block14_0_bn (BatchNorma  (None, 14, 14, 672)  2688       ['conv4_block13_concat[0][0]']   \n",
            " lization)                                                                                        \n",
            "                                                                                                  \n",
            " conv4_block14_0_relu (Activati  (None, 14, 14, 672)  0          ['conv4_block14_0_bn[0][0]']     \n",
            " on)                                                                                              \n",
            "                                                                                                  \n",
            " conv4_block14_1_conv (Conv2D)  (None, 14, 14, 128)  86016       ['conv4_block14_0_relu[0][0]']   \n",
            "                                                                                                  \n",
            " conv4_block14_1_bn (BatchNorma  (None, 14, 14, 128)  512        ['conv4_block14_1_conv[0][0]']   \n",
            " lization)                                                                                        \n",
            "                                                                                                  \n",
            " conv4_block14_1_relu (Activati  (None, 14, 14, 128)  0          ['conv4_block14_1_bn[0][0]']     \n",
            " on)                                                                                              \n",
            "                                                                                                  \n",
            " conv4_block14_2_conv (Conv2D)  (None, 14, 14, 32)   36864       ['conv4_block14_1_relu[0][0]']   \n",
            "                                                                                                  \n",
            " conv4_block14_concat (Concaten  (None, 14, 14, 704)  0          ['conv4_block13_concat[0][0]',   \n",
            " ate)                                                             'conv4_block14_2_conv[0][0]']   \n",
            "                                                                                                  \n",
            " conv4_block15_0_bn (BatchNorma  (None, 14, 14, 704)  2816       ['conv4_block14_concat[0][0]']   \n",
            " lization)                                                                                        \n",
            "                                                                                                  \n",
            " conv4_block15_0_relu (Activati  (None, 14, 14, 704)  0          ['conv4_block15_0_bn[0][0]']     \n",
            " on)                                                                                              \n",
            "                                                                                                  \n",
            " conv4_block15_1_conv (Conv2D)  (None, 14, 14, 128)  90112       ['conv4_block15_0_relu[0][0]']   \n",
            "                                                                                                  \n",
            " conv4_block15_1_bn (BatchNorma  (None, 14, 14, 128)  512        ['conv4_block15_1_conv[0][0]']   \n",
            " lization)                                                                                        \n",
            "                                                                                                  \n",
            " conv4_block15_1_relu (Activati  (None, 14, 14, 128)  0          ['conv4_block15_1_bn[0][0]']     \n",
            " on)                                                                                              \n",
            "                                                                                                  \n",
            " conv4_block15_2_conv (Conv2D)  (None, 14, 14, 32)   36864       ['conv4_block15_1_relu[0][0]']   \n",
            "                                                                                                  \n",
            " conv4_block15_concat (Concaten  (None, 14, 14, 736)  0          ['conv4_block14_concat[0][0]',   \n",
            " ate)                                                             'conv4_block15_2_conv[0][0]']   \n",
            "                                                                                                  \n",
            " conv4_block16_0_bn (BatchNorma  (None, 14, 14, 736)  2944       ['conv4_block15_concat[0][0]']   \n",
            " lization)                                                                                        \n",
            "                                                                                                  \n",
            " conv4_block16_0_relu (Activati  (None, 14, 14, 736)  0          ['conv4_block16_0_bn[0][0]']     \n",
            " on)                                                                                              \n",
            "                                                                                                  \n",
            " conv4_block16_1_conv (Conv2D)  (None, 14, 14, 128)  94208       ['conv4_block16_0_relu[0][0]']   \n",
            "                                                                                                  \n",
            " conv4_block16_1_bn (BatchNorma  (None, 14, 14, 128)  512        ['conv4_block16_1_conv[0][0]']   \n",
            " lization)                                                                                        \n",
            "                                                                                                  \n",
            " conv4_block16_1_relu (Activati  (None, 14, 14, 128)  0          ['conv4_block16_1_bn[0][0]']     \n",
            " on)                                                                                              \n",
            "                                                                                                  \n",
            " conv4_block16_2_conv (Conv2D)  (None, 14, 14, 32)   36864       ['conv4_block16_1_relu[0][0]']   \n",
            "                                                                                                  \n",
            " conv4_block16_concat (Concaten  (None, 14, 14, 768)  0          ['conv4_block15_concat[0][0]',   \n",
            " ate)                                                             'conv4_block16_2_conv[0][0]']   \n",
            "                                                                                                  \n",
            " conv4_block17_0_bn (BatchNorma  (None, 14, 14, 768)  3072       ['conv4_block16_concat[0][0]']   \n",
            " lization)                                                                                        \n",
            "                                                                                                  \n",
            " conv4_block17_0_relu (Activati  (None, 14, 14, 768)  0          ['conv4_block17_0_bn[0][0]']     \n",
            " on)                                                                                              \n",
            "                                                                                                  \n",
            " conv4_block17_1_conv (Conv2D)  (None, 14, 14, 128)  98304       ['conv4_block17_0_relu[0][0]']   \n",
            "                                                                                                  \n",
            " conv4_block17_1_bn (BatchNorma  (None, 14, 14, 128)  512        ['conv4_block17_1_conv[0][0]']   \n",
            " lization)                                                                                        \n",
            "                                                                                                  \n",
            " conv4_block17_1_relu (Activati  (None, 14, 14, 128)  0          ['conv4_block17_1_bn[0][0]']     \n",
            " on)                                                                                              \n",
            "                                                                                                  \n",
            " conv4_block17_2_conv (Conv2D)  (None, 14, 14, 32)   36864       ['conv4_block17_1_relu[0][0]']   \n",
            "                                                                                                  \n",
            " conv4_block17_concat (Concaten  (None, 14, 14, 800)  0          ['conv4_block16_concat[0][0]',   \n",
            " ate)                                                             'conv4_block17_2_conv[0][0]']   \n",
            "                                                                                                  \n",
            " conv4_block18_0_bn (BatchNorma  (None, 14, 14, 800)  3200       ['conv4_block17_concat[0][0]']   \n",
            " lization)                                                                                        \n",
            "                                                                                                  \n",
            " conv4_block18_0_relu (Activati  (None, 14, 14, 800)  0          ['conv4_block18_0_bn[0][0]']     \n",
            " on)                                                                                              \n",
            "                                                                                                  \n",
            " conv4_block18_1_conv (Conv2D)  (None, 14, 14, 128)  102400      ['conv4_block18_0_relu[0][0]']   \n",
            "                                                                                                  \n",
            " conv4_block18_1_bn (BatchNorma  (None, 14, 14, 128)  512        ['conv4_block18_1_conv[0][0]']   \n",
            " lization)                                                                                        \n",
            "                                                                                                  \n",
            " conv4_block18_1_relu (Activati  (None, 14, 14, 128)  0          ['conv4_block18_1_bn[0][0]']     \n",
            " on)                                                                                              \n",
            "                                                                                                  \n",
            " conv4_block18_2_conv (Conv2D)  (None, 14, 14, 32)   36864       ['conv4_block18_1_relu[0][0]']   \n",
            "                                                                                                  \n",
            " conv4_block18_concat (Concaten  (None, 14, 14, 832)  0          ['conv4_block17_concat[0][0]',   \n",
            " ate)                                                             'conv4_block18_2_conv[0][0]']   \n",
            "                                                                                                  \n",
            " conv4_block19_0_bn (BatchNorma  (None, 14, 14, 832)  3328       ['conv4_block18_concat[0][0]']   \n",
            " lization)                                                                                        \n",
            "                                                                                                  \n",
            " conv4_block19_0_relu (Activati  (None, 14, 14, 832)  0          ['conv4_block19_0_bn[0][0]']     \n",
            " on)                                                                                              \n",
            "                                                                                                  \n",
            " conv4_block19_1_conv (Conv2D)  (None, 14, 14, 128)  106496      ['conv4_block19_0_relu[0][0]']   \n",
            "                                                                                                  \n",
            " conv4_block19_1_bn (BatchNorma  (None, 14, 14, 128)  512        ['conv4_block19_1_conv[0][0]']   \n",
            " lization)                                                                                        \n",
            "                                                                                                  \n",
            " conv4_block19_1_relu (Activati  (None, 14, 14, 128)  0          ['conv4_block19_1_bn[0][0]']     \n",
            " on)                                                                                              \n",
            "                                                                                                  \n",
            " conv4_block19_2_conv (Conv2D)  (None, 14, 14, 32)   36864       ['conv4_block19_1_relu[0][0]']   \n",
            "                                                                                                  \n",
            " conv4_block19_concat (Concaten  (None, 14, 14, 864)  0          ['conv4_block18_concat[0][0]',   \n",
            " ate)                                                             'conv4_block19_2_conv[0][0]']   \n",
            "                                                                                                  \n",
            " conv4_block20_0_bn (BatchNorma  (None, 14, 14, 864)  3456       ['conv4_block19_concat[0][0]']   \n",
            " lization)                                                                                        \n",
            "                                                                                                  \n",
            " conv4_block20_0_relu (Activati  (None, 14, 14, 864)  0          ['conv4_block20_0_bn[0][0]']     \n",
            " on)                                                                                              \n",
            "                                                                                                  \n",
            " conv4_block20_1_conv (Conv2D)  (None, 14, 14, 128)  110592      ['conv4_block20_0_relu[0][0]']   \n",
            "                                                                                                  \n",
            " conv4_block20_1_bn (BatchNorma  (None, 14, 14, 128)  512        ['conv4_block20_1_conv[0][0]']   \n",
            " lization)                                                                                        \n",
            "                                                                                                  \n",
            " conv4_block20_1_relu (Activati  (None, 14, 14, 128)  0          ['conv4_block20_1_bn[0][0]']     \n",
            " on)                                                                                              \n",
            "                                                                                                  \n",
            " conv4_block20_2_conv (Conv2D)  (None, 14, 14, 32)   36864       ['conv4_block20_1_relu[0][0]']   \n",
            "                                                                                                  \n",
            " conv4_block20_concat (Concaten  (None, 14, 14, 896)  0          ['conv4_block19_concat[0][0]',   \n",
            " ate)                                                             'conv4_block20_2_conv[0][0]']   \n",
            "                                                                                                  \n",
            " conv4_block21_0_bn (BatchNorma  (None, 14, 14, 896)  3584       ['conv4_block20_concat[0][0]']   \n",
            " lization)                                                                                        \n",
            "                                                                                                  \n",
            " conv4_block21_0_relu (Activati  (None, 14, 14, 896)  0          ['conv4_block21_0_bn[0][0]']     \n",
            " on)                                                                                              \n",
            "                                                                                                  \n",
            " conv4_block21_1_conv (Conv2D)  (None, 14, 14, 128)  114688      ['conv4_block21_0_relu[0][0]']   \n",
            "                                                                                                  \n",
            " conv4_block21_1_bn (BatchNorma  (None, 14, 14, 128)  512        ['conv4_block21_1_conv[0][0]']   \n",
            " lization)                                                                                        \n",
            "                                                                                                  \n",
            " conv4_block21_1_relu (Activati  (None, 14, 14, 128)  0          ['conv4_block21_1_bn[0][0]']     \n",
            " on)                                                                                              \n",
            "                                                                                                  \n",
            " conv4_block21_2_conv (Conv2D)  (None, 14, 14, 32)   36864       ['conv4_block21_1_relu[0][0]']   \n",
            "                                                                                                  \n",
            " conv4_block21_concat (Concaten  (None, 14, 14, 928)  0          ['conv4_block20_concat[0][0]',   \n",
            " ate)                                                             'conv4_block21_2_conv[0][0]']   \n",
            "                                                                                                  \n",
            " conv4_block22_0_bn (BatchNorma  (None, 14, 14, 928)  3712       ['conv4_block21_concat[0][0]']   \n",
            " lization)                                                                                        \n",
            "                                                                                                  \n",
            " conv4_block22_0_relu (Activati  (None, 14, 14, 928)  0          ['conv4_block22_0_bn[0][0]']     \n",
            " on)                                                                                              \n",
            "                                                                                                  \n",
            " conv4_block22_1_conv (Conv2D)  (None, 14, 14, 128)  118784      ['conv4_block22_0_relu[0][0]']   \n",
            "                                                                                                  \n",
            " conv4_block22_1_bn (BatchNorma  (None, 14, 14, 128)  512        ['conv4_block22_1_conv[0][0]']   \n",
            " lization)                                                                                        \n",
            "                                                                                                  \n",
            " conv4_block22_1_relu (Activati  (None, 14, 14, 128)  0          ['conv4_block22_1_bn[0][0]']     \n",
            " on)                                                                                              \n",
            "                                                                                                  \n",
            " conv4_block22_2_conv (Conv2D)  (None, 14, 14, 32)   36864       ['conv4_block22_1_relu[0][0]']   \n",
            "                                                                                                  \n",
            " conv4_block22_concat (Concaten  (None, 14, 14, 960)  0          ['conv4_block21_concat[0][0]',   \n",
            " ate)                                                             'conv4_block22_2_conv[0][0]']   \n",
            "                                                                                                  \n",
            " conv4_block23_0_bn (BatchNorma  (None, 14, 14, 960)  3840       ['conv4_block22_concat[0][0]']   \n",
            " lization)                                                                                        \n",
            "                                                                                                  \n",
            " conv4_block23_0_relu (Activati  (None, 14, 14, 960)  0          ['conv4_block23_0_bn[0][0]']     \n",
            " on)                                                                                              \n",
            "                                                                                                  \n",
            " conv4_block23_1_conv (Conv2D)  (None, 14, 14, 128)  122880      ['conv4_block23_0_relu[0][0]']   \n",
            "                                                                                                  \n",
            " conv4_block23_1_bn (BatchNorma  (None, 14, 14, 128)  512        ['conv4_block23_1_conv[0][0]']   \n",
            " lization)                                                                                        \n",
            "                                                                                                  \n",
            " conv4_block23_1_relu (Activati  (None, 14, 14, 128)  0          ['conv4_block23_1_bn[0][0]']     \n",
            " on)                                                                                              \n",
            "                                                                                                  \n",
            " conv4_block23_2_conv (Conv2D)  (None, 14, 14, 32)   36864       ['conv4_block23_1_relu[0][0]']   \n",
            "                                                                                                  \n",
            " conv4_block23_concat (Concaten  (None, 14, 14, 992)  0          ['conv4_block22_concat[0][0]',   \n",
            " ate)                                                             'conv4_block23_2_conv[0][0]']   \n",
            "                                                                                                  \n",
            " conv4_block24_0_bn (BatchNorma  (None, 14, 14, 992)  3968       ['conv4_block23_concat[0][0]']   \n",
            " lization)                                                                                        \n",
            "                                                                                                  \n",
            " conv4_block24_0_relu (Activati  (None, 14, 14, 992)  0          ['conv4_block24_0_bn[0][0]']     \n",
            " on)                                                                                              \n",
            "                                                                                                  \n",
            " conv4_block24_1_conv (Conv2D)  (None, 14, 14, 128)  126976      ['conv4_block24_0_relu[0][0]']   \n",
            "                                                                                                  \n",
            " conv4_block24_1_bn (BatchNorma  (None, 14, 14, 128)  512        ['conv4_block24_1_conv[0][0]']   \n",
            " lization)                                                                                        \n",
            "                                                                                                  \n",
            " conv4_block24_1_relu (Activati  (None, 14, 14, 128)  0          ['conv4_block24_1_bn[0][0]']     \n",
            " on)                                                                                              \n",
            "                                                                                                  \n",
            " conv4_block24_2_conv (Conv2D)  (None, 14, 14, 32)   36864       ['conv4_block24_1_relu[0][0]']   \n",
            "                                                                                                  \n",
            " conv4_block24_concat (Concaten  (None, 14, 14, 1024  0          ['conv4_block23_concat[0][0]',   \n",
            " ate)                           )                                 'conv4_block24_2_conv[0][0]']   \n",
            "                                                                                                  \n",
            " pool4_bn (BatchNormalization)  (None, 14, 14, 1024  4096        ['conv4_block24_concat[0][0]']   \n",
            "                                )                                                                 \n",
            "                                                                                                  \n",
            " pool4_relu (Activation)        (None, 14, 14, 1024  0           ['pool4_bn[0][0]']               \n",
            "                                )                                                                 \n",
            "                                                                                                  \n",
            " pool4_conv (Conv2D)            (None, 14, 14, 512)  524288      ['pool4_relu[0][0]']             \n",
            "                                                                                                  \n",
            " pool4_pool (AveragePooling2D)  (None, 7, 7, 512)    0           ['pool4_conv[0][0]']             \n",
            "                                                                                                  \n",
            " conv5_block1_0_bn (BatchNormal  (None, 7, 7, 512)   2048        ['pool4_pool[0][0]']             \n",
            " ization)                                                                                         \n",
            "                                                                                                  \n",
            " conv5_block1_0_relu (Activatio  (None, 7, 7, 512)   0           ['conv5_block1_0_bn[0][0]']      \n",
            " n)                                                                                               \n",
            "                                                                                                  \n",
            " conv5_block1_1_conv (Conv2D)   (None, 7, 7, 128)    65536       ['conv5_block1_0_relu[0][0]']    \n",
            "                                                                                                  \n",
            " conv5_block1_1_bn (BatchNormal  (None, 7, 7, 128)   512         ['conv5_block1_1_conv[0][0]']    \n",
            " ization)                                                                                         \n",
            "                                                                                                  \n",
            " conv5_block1_1_relu (Activatio  (None, 7, 7, 128)   0           ['conv5_block1_1_bn[0][0]']      \n",
            " n)                                                                                               \n",
            "                                                                                                  \n",
            " conv5_block1_2_conv (Conv2D)   (None, 7, 7, 32)     36864       ['conv5_block1_1_relu[0][0]']    \n",
            "                                                                                                  \n",
            " conv5_block1_concat (Concatena  (None, 7, 7, 544)   0           ['pool4_pool[0][0]',             \n",
            " te)                                                              'conv5_block1_2_conv[0][0]']    \n",
            "                                                                                                  \n",
            " conv5_block2_0_bn (BatchNormal  (None, 7, 7, 544)   2176        ['conv5_block1_concat[0][0]']    \n",
            " ization)                                                                                         \n",
            "                                                                                                  \n",
            " conv5_block2_0_relu (Activatio  (None, 7, 7, 544)   0           ['conv5_block2_0_bn[0][0]']      \n",
            " n)                                                                                               \n",
            "                                                                                                  \n",
            " conv5_block2_1_conv (Conv2D)   (None, 7, 7, 128)    69632       ['conv5_block2_0_relu[0][0]']    \n",
            "                                                                                                  \n",
            " conv5_block2_1_bn (BatchNormal  (None, 7, 7, 128)   512         ['conv5_block2_1_conv[0][0]']    \n",
            " ization)                                                                                         \n",
            "                                                                                                  \n",
            " conv5_block2_1_relu (Activatio  (None, 7, 7, 128)   0           ['conv5_block2_1_bn[0][0]']      \n",
            " n)                                                                                               \n",
            "                                                                                                  \n",
            " conv5_block2_2_conv (Conv2D)   (None, 7, 7, 32)     36864       ['conv5_block2_1_relu[0][0]']    \n",
            "                                                                                                  \n",
            " conv5_block2_concat (Concatena  (None, 7, 7, 576)   0           ['conv5_block1_concat[0][0]',    \n",
            " te)                                                              'conv5_block2_2_conv[0][0]']    \n",
            "                                                                                                  \n",
            " conv5_block3_0_bn (BatchNormal  (None, 7, 7, 576)   2304        ['conv5_block2_concat[0][0]']    \n",
            " ization)                                                                                         \n",
            "                                                                                                  \n",
            " conv5_block3_0_relu (Activatio  (None, 7, 7, 576)   0           ['conv5_block3_0_bn[0][0]']      \n",
            " n)                                                                                               \n",
            "                                                                                                  \n",
            " conv5_block3_1_conv (Conv2D)   (None, 7, 7, 128)    73728       ['conv5_block3_0_relu[0][0]']    \n",
            "                                                                                                  \n",
            " conv5_block3_1_bn (BatchNormal  (None, 7, 7, 128)   512         ['conv5_block3_1_conv[0][0]']    \n",
            " ization)                                                                                         \n",
            "                                                                                                  \n",
            " conv5_block3_1_relu (Activatio  (None, 7, 7, 128)   0           ['conv5_block3_1_bn[0][0]']      \n",
            " n)                                                                                               \n",
            "                                                                                                  \n",
            " conv5_block3_2_conv (Conv2D)   (None, 7, 7, 32)     36864       ['conv5_block3_1_relu[0][0]']    \n",
            "                                                                                                  \n",
            " conv5_block3_concat (Concatena  (None, 7, 7, 608)   0           ['conv5_block2_concat[0][0]',    \n",
            " te)                                                              'conv5_block3_2_conv[0][0]']    \n",
            "                                                                                                  \n",
            " conv5_block4_0_bn (BatchNormal  (None, 7, 7, 608)   2432        ['conv5_block3_concat[0][0]']    \n",
            " ization)                                                                                         \n",
            "                                                                                                  \n",
            " conv5_block4_0_relu (Activatio  (None, 7, 7, 608)   0           ['conv5_block4_0_bn[0][0]']      \n",
            " n)                                                                                               \n",
            "                                                                                                  \n",
            " conv5_block4_1_conv (Conv2D)   (None, 7, 7, 128)    77824       ['conv5_block4_0_relu[0][0]']    \n",
            "                                                                                                  \n",
            " conv5_block4_1_bn (BatchNormal  (None, 7, 7, 128)   512         ['conv5_block4_1_conv[0][0]']    \n",
            " ization)                                                                                         \n",
            "                                                                                                  \n",
            " conv5_block4_1_relu (Activatio  (None, 7, 7, 128)   0           ['conv5_block4_1_bn[0][0]']      \n",
            " n)                                                                                               \n",
            "                                                                                                  \n",
            " conv5_block4_2_conv (Conv2D)   (None, 7, 7, 32)     36864       ['conv5_block4_1_relu[0][0]']    \n",
            "                                                                                                  \n",
            " conv5_block4_concat (Concatena  (None, 7, 7, 640)   0           ['conv5_block3_concat[0][0]',    \n",
            " te)                                                              'conv5_block4_2_conv[0][0]']    \n",
            "                                                                                                  \n",
            " conv5_block5_0_bn (BatchNormal  (None, 7, 7, 640)   2560        ['conv5_block4_concat[0][0]']    \n",
            " ization)                                                                                         \n",
            "                                                                                                  \n",
            " conv5_block5_0_relu (Activatio  (None, 7, 7, 640)   0           ['conv5_block5_0_bn[0][0]']      \n",
            " n)                                                                                               \n",
            "                                                                                                  \n",
            " conv5_block5_1_conv (Conv2D)   (None, 7, 7, 128)    81920       ['conv5_block5_0_relu[0][0]']    \n",
            "                                                                                                  \n",
            " conv5_block5_1_bn (BatchNormal  (None, 7, 7, 128)   512         ['conv5_block5_1_conv[0][0]']    \n",
            " ization)                                                                                         \n",
            "                                                                                                  \n",
            " conv5_block5_1_relu (Activatio  (None, 7, 7, 128)   0           ['conv5_block5_1_bn[0][0]']      \n",
            " n)                                                                                               \n",
            "                                                                                                  \n",
            " conv5_block5_2_conv (Conv2D)   (None, 7, 7, 32)     36864       ['conv5_block5_1_relu[0][0]']    \n",
            "                                                                                                  \n",
            " conv5_block5_concat (Concatena  (None, 7, 7, 672)   0           ['conv5_block4_concat[0][0]',    \n",
            " te)                                                              'conv5_block5_2_conv[0][0]']    \n",
            "                                                                                                  \n",
            " conv5_block6_0_bn (BatchNormal  (None, 7, 7, 672)   2688        ['conv5_block5_concat[0][0]']    \n",
            " ization)                                                                                         \n",
            "                                                                                                  \n",
            " conv5_block6_0_relu (Activatio  (None, 7, 7, 672)   0           ['conv5_block6_0_bn[0][0]']      \n",
            " n)                                                                                               \n",
            "                                                                                                  \n",
            " conv5_block6_1_conv (Conv2D)   (None, 7, 7, 128)    86016       ['conv5_block6_0_relu[0][0]']    \n",
            "                                                                                                  \n",
            " conv5_block6_1_bn (BatchNormal  (None, 7, 7, 128)   512         ['conv5_block6_1_conv[0][0]']    \n",
            " ization)                                                                                         \n",
            "                                                                                                  \n",
            " conv5_block6_1_relu (Activatio  (None, 7, 7, 128)   0           ['conv5_block6_1_bn[0][0]']      \n",
            " n)                                                                                               \n",
            "                                                                                                  \n",
            " conv5_block6_2_conv (Conv2D)   (None, 7, 7, 32)     36864       ['conv5_block6_1_relu[0][0]']    \n",
            "                                                                                                  \n",
            " conv5_block6_concat (Concatena  (None, 7, 7, 704)   0           ['conv5_block5_concat[0][0]',    \n",
            " te)                                                              'conv5_block6_2_conv[0][0]']    \n",
            "                                                                                                  \n",
            " conv5_block7_0_bn (BatchNormal  (None, 7, 7, 704)   2816        ['conv5_block6_concat[0][0]']    \n",
            " ization)                                                                                         \n",
            "                                                                                                  \n",
            " conv5_block7_0_relu (Activatio  (None, 7, 7, 704)   0           ['conv5_block7_0_bn[0][0]']      \n",
            " n)                                                                                               \n",
            "                                                                                                  \n",
            " conv5_block7_1_conv (Conv2D)   (None, 7, 7, 128)    90112       ['conv5_block7_0_relu[0][0]']    \n",
            "                                                                                                  \n",
            " conv5_block7_1_bn (BatchNormal  (None, 7, 7, 128)   512         ['conv5_block7_1_conv[0][0]']    \n",
            " ization)                                                                                         \n",
            "                                                                                                  \n",
            " conv5_block7_1_relu (Activatio  (None, 7, 7, 128)   0           ['conv5_block7_1_bn[0][0]']      \n",
            " n)                                                                                               \n",
            "                                                                                                  \n",
            " conv5_block7_2_conv (Conv2D)   (None, 7, 7, 32)     36864       ['conv5_block7_1_relu[0][0]']    \n",
            "                                                                                                  \n",
            " conv5_block7_concat (Concatena  (None, 7, 7, 736)   0           ['conv5_block6_concat[0][0]',    \n",
            " te)                                                              'conv5_block7_2_conv[0][0]']    \n",
            "                                                                                                  \n",
            " conv5_block8_0_bn (BatchNormal  (None, 7, 7, 736)   2944        ['conv5_block7_concat[0][0]']    \n",
            " ization)                                                                                         \n",
            "                                                                                                  \n",
            " conv5_block8_0_relu (Activatio  (None, 7, 7, 736)   0           ['conv5_block8_0_bn[0][0]']      \n",
            " n)                                                                                               \n",
            "                                                                                                  \n",
            " conv5_block8_1_conv (Conv2D)   (None, 7, 7, 128)    94208       ['conv5_block8_0_relu[0][0]']    \n",
            "                                                                                                  \n",
            " conv5_block8_1_bn (BatchNormal  (None, 7, 7, 128)   512         ['conv5_block8_1_conv[0][0]']    \n",
            " ization)                                                                                         \n",
            "                                                                                                  \n",
            " conv5_block8_1_relu (Activatio  (None, 7, 7, 128)   0           ['conv5_block8_1_bn[0][0]']      \n",
            " n)                                                                                               \n",
            "                                                                                                  \n",
            " conv5_block8_2_conv (Conv2D)   (None, 7, 7, 32)     36864       ['conv5_block8_1_relu[0][0]']    \n",
            "                                                                                                  \n",
            " conv5_block8_concat (Concatena  (None, 7, 7, 768)   0           ['conv5_block7_concat[0][0]',    \n",
            " te)                                                              'conv5_block8_2_conv[0][0]']    \n",
            "                                                                                                  \n",
            " conv5_block9_0_bn (BatchNormal  (None, 7, 7, 768)   3072        ['conv5_block8_concat[0][0]']    \n",
            " ization)                                                                                         \n",
            "                                                                                                  \n",
            " conv5_block9_0_relu (Activatio  (None, 7, 7, 768)   0           ['conv5_block9_0_bn[0][0]']      \n",
            " n)                                                                                               \n",
            "                                                                                                  \n",
            " conv5_block9_1_conv (Conv2D)   (None, 7, 7, 128)    98304       ['conv5_block9_0_relu[0][0]']    \n",
            "                                                                                                  \n",
            " conv5_block9_1_bn (BatchNormal  (None, 7, 7, 128)   512         ['conv5_block9_1_conv[0][0]']    \n",
            " ization)                                                                                         \n",
            "                                                                                                  \n",
            " conv5_block9_1_relu (Activatio  (None, 7, 7, 128)   0           ['conv5_block9_1_bn[0][0]']      \n",
            " n)                                                                                               \n",
            "                                                                                                  \n",
            " conv5_block9_2_conv (Conv2D)   (None, 7, 7, 32)     36864       ['conv5_block9_1_relu[0][0]']    \n",
            "                                                                                                  \n",
            " conv5_block9_concat (Concatena  (None, 7, 7, 800)   0           ['conv5_block8_concat[0][0]',    \n",
            " te)                                                              'conv5_block9_2_conv[0][0]']    \n",
            "                                                                                                  \n",
            " conv5_block10_0_bn (BatchNorma  (None, 7, 7, 800)   3200        ['conv5_block9_concat[0][0]']    \n",
            " lization)                                                                                        \n",
            "                                                                                                  \n",
            " conv5_block10_0_relu (Activati  (None, 7, 7, 800)   0           ['conv5_block10_0_bn[0][0]']     \n",
            " on)                                                                                              \n",
            "                                                                                                  \n",
            " conv5_block10_1_conv (Conv2D)  (None, 7, 7, 128)    102400      ['conv5_block10_0_relu[0][0]']   \n",
            "                                                                                                  \n",
            " conv5_block10_1_bn (BatchNorma  (None, 7, 7, 128)   512         ['conv5_block10_1_conv[0][0]']   \n",
            " lization)                                                                                        \n",
            "                                                                                                  \n",
            " conv5_block10_1_relu (Activati  (None, 7, 7, 128)   0           ['conv5_block10_1_bn[0][0]']     \n",
            " on)                                                                                              \n",
            "                                                                                                  \n",
            " conv5_block10_2_conv (Conv2D)  (None, 7, 7, 32)     36864       ['conv5_block10_1_relu[0][0]']   \n",
            "                                                                                                  \n",
            " conv5_block10_concat (Concaten  (None, 7, 7, 832)   0           ['conv5_block9_concat[0][0]',    \n",
            " ate)                                                             'conv5_block10_2_conv[0][0]']   \n",
            "                                                                                                  \n",
            " conv5_block11_0_bn (BatchNorma  (None, 7, 7, 832)   3328        ['conv5_block10_concat[0][0]']   \n",
            " lization)                                                                                        \n",
            "                                                                                                  \n",
            " conv5_block11_0_relu (Activati  (None, 7, 7, 832)   0           ['conv5_block11_0_bn[0][0]']     \n",
            " on)                                                                                              \n",
            "                                                                                                  \n",
            " conv5_block11_1_conv (Conv2D)  (None, 7, 7, 128)    106496      ['conv5_block11_0_relu[0][0]']   \n",
            "                                                                                                  \n",
            " conv5_block11_1_bn (BatchNorma  (None, 7, 7, 128)   512         ['conv5_block11_1_conv[0][0]']   \n",
            " lization)                                                                                        \n",
            "                                                                                                  \n",
            " conv5_block11_1_relu (Activati  (None, 7, 7, 128)   0           ['conv5_block11_1_bn[0][0]']     \n",
            " on)                                                                                              \n",
            "                                                                                                  \n",
            " conv5_block11_2_conv (Conv2D)  (None, 7, 7, 32)     36864       ['conv5_block11_1_relu[0][0]']   \n",
            "                                                                                                  \n",
            " conv5_block11_concat (Concaten  (None, 7, 7, 864)   0           ['conv5_block10_concat[0][0]',   \n",
            " ate)                                                             'conv5_block11_2_conv[0][0]']   \n",
            "                                                                                                  \n",
            " conv5_block12_0_bn (BatchNorma  (None, 7, 7, 864)   3456        ['conv5_block11_concat[0][0]']   \n",
            " lization)                                                                                        \n",
            "                                                                                                  \n",
            " conv5_block12_0_relu (Activati  (None, 7, 7, 864)   0           ['conv5_block12_0_bn[0][0]']     \n",
            " on)                                                                                              \n",
            "                                                                                                  \n",
            " conv5_block12_1_conv (Conv2D)  (None, 7, 7, 128)    110592      ['conv5_block12_0_relu[0][0]']   \n",
            "                                                                                                  \n",
            " conv5_block12_1_bn (BatchNorma  (None, 7, 7, 128)   512         ['conv5_block12_1_conv[0][0]']   \n",
            " lization)                                                                                        \n",
            "                                                                                                  \n",
            " conv5_block12_1_relu (Activati  (None, 7, 7, 128)   0           ['conv5_block12_1_bn[0][0]']     \n",
            " on)                                                                                              \n",
            "                                                                                                  \n",
            " conv5_block12_2_conv (Conv2D)  (None, 7, 7, 32)     36864       ['conv5_block12_1_relu[0][0]']   \n",
            "                                                                                                  \n",
            " conv5_block12_concat (Concaten  (None, 7, 7, 896)   0           ['conv5_block11_concat[0][0]',   \n",
            " ate)                                                             'conv5_block12_2_conv[0][0]']   \n",
            "                                                                                                  \n",
            " conv5_block13_0_bn (BatchNorma  (None, 7, 7, 896)   3584        ['conv5_block12_concat[0][0]']   \n",
            " lization)                                                                                        \n",
            "                                                                                                  \n",
            " conv5_block13_0_relu (Activati  (None, 7, 7, 896)   0           ['conv5_block13_0_bn[0][0]']     \n",
            " on)                                                                                              \n",
            "                                                                                                  \n",
            " conv5_block13_1_conv (Conv2D)  (None, 7, 7, 128)    114688      ['conv5_block13_0_relu[0][0]']   \n",
            "                                                                                                  \n",
            " conv5_block13_1_bn (BatchNorma  (None, 7, 7, 128)   512         ['conv5_block13_1_conv[0][0]']   \n",
            " lization)                                                                                        \n",
            "                                                                                                  \n",
            " conv5_block13_1_relu (Activati  (None, 7, 7, 128)   0           ['conv5_block13_1_bn[0][0]']     \n",
            " on)                                                                                              \n",
            "                                                                                                  \n",
            " conv5_block13_2_conv (Conv2D)  (None, 7, 7, 32)     36864       ['conv5_block13_1_relu[0][0]']   \n",
            "                                                                                                  \n",
            " conv5_block13_concat (Concaten  (None, 7, 7, 928)   0           ['conv5_block12_concat[0][0]',   \n",
            " ate)                                                             'conv5_block13_2_conv[0][0]']   \n",
            "                                                                                                  \n",
            " conv5_block14_0_bn (BatchNorma  (None, 7, 7, 928)   3712        ['conv5_block13_concat[0][0]']   \n",
            " lization)                                                                                        \n",
            "                                                                                                  \n",
            " conv5_block14_0_relu (Activati  (None, 7, 7, 928)   0           ['conv5_block14_0_bn[0][0]']     \n",
            " on)                                                                                              \n",
            "                                                                                                  \n",
            " conv5_block14_1_conv (Conv2D)  (None, 7, 7, 128)    118784      ['conv5_block14_0_relu[0][0]']   \n",
            "                                                                                                  \n",
            " conv5_block14_1_bn (BatchNorma  (None, 7, 7, 128)   512         ['conv5_block14_1_conv[0][0]']   \n",
            " lization)                                                                                        \n",
            "                                                                                                  \n",
            " conv5_block14_1_relu (Activati  (None, 7, 7, 128)   0           ['conv5_block14_1_bn[0][0]']     \n",
            " on)                                                                                              \n",
            "                                                                                                  \n",
            " conv5_block14_2_conv (Conv2D)  (None, 7, 7, 32)     36864       ['conv5_block14_1_relu[0][0]']   \n",
            "                                                                                                  \n",
            " conv5_block14_concat (Concaten  (None, 7, 7, 960)   0           ['conv5_block13_concat[0][0]',   \n",
            " ate)                                                             'conv5_block14_2_conv[0][0]']   \n",
            "                                                                                                  \n",
            " conv5_block15_0_bn (BatchNorma  (None, 7, 7, 960)   3840        ['conv5_block14_concat[0][0]']   \n",
            " lization)                                                                                        \n",
            "                                                                                                  \n",
            " conv5_block15_0_relu (Activati  (None, 7, 7, 960)   0           ['conv5_block15_0_bn[0][0]']     \n",
            " on)                                                                                              \n",
            "                                                                                                  \n",
            " conv5_block15_1_conv (Conv2D)  (None, 7, 7, 128)    122880      ['conv5_block15_0_relu[0][0]']   \n",
            "                                                                                                  \n",
            " conv5_block15_1_bn (BatchNorma  (None, 7, 7, 128)   512         ['conv5_block15_1_conv[0][0]']   \n",
            " lization)                                                                                        \n",
            "                                                                                                  \n",
            " conv5_block15_1_relu (Activati  (None, 7, 7, 128)   0           ['conv5_block15_1_bn[0][0]']     \n",
            " on)                                                                                              \n",
            "                                                                                                  \n",
            " conv5_block15_2_conv (Conv2D)  (None, 7, 7, 32)     36864       ['conv5_block15_1_relu[0][0]']   \n",
            "                                                                                                  \n",
            " conv5_block15_concat (Concaten  (None, 7, 7, 992)   0           ['conv5_block14_concat[0][0]',   \n",
            " ate)                                                             'conv5_block15_2_conv[0][0]']   \n",
            "                                                                                                  \n",
            " conv5_block16_0_bn (BatchNorma  (None, 7, 7, 992)   3968        ['conv5_block15_concat[0][0]']   \n",
            " lization)                                                                                        \n",
            "                                                                                                  \n",
            " conv5_block16_0_relu (Activati  (None, 7, 7, 992)   0           ['conv5_block16_0_bn[0][0]']     \n",
            " on)                                                                                              \n",
            "                                                                                                  \n",
            " conv5_block16_1_conv (Conv2D)  (None, 7, 7, 128)    126976      ['conv5_block16_0_relu[0][0]']   \n",
            "                                                                                                  \n",
            " conv5_block16_1_bn (BatchNorma  (None, 7, 7, 128)   512         ['conv5_block16_1_conv[0][0]']   \n",
            " lization)                                                                                        \n",
            "                                                                                                  \n",
            " conv5_block16_1_relu (Activati  (None, 7, 7, 128)   0           ['conv5_block16_1_bn[0][0]']     \n",
            " on)                                                                                              \n",
            "                                                                                                  \n",
            " conv5_block16_2_conv (Conv2D)  (None, 7, 7, 32)     36864       ['conv5_block16_1_relu[0][0]']   \n",
            "                                                                                                  \n",
            " conv5_block16_concat (Concaten  (None, 7, 7, 1024)  0           ['conv5_block15_concat[0][0]',   \n",
            " ate)                                                             'conv5_block16_2_conv[0][0]']   \n",
            "                                                                                                  \n",
            " bn (BatchNormalization)        (None, 7, 7, 1024)   4096        ['conv5_block16_concat[0][0]']   \n",
            "                                                                                                  \n",
            " relu (Activation)              (None, 7, 7, 1024)   0           ['bn[0][0]']                     \n",
            "                                                                                                  \n",
            "==================================================================================================\n",
            "Total params: 7,037,504\n",
            "Trainable params: 0\n",
            "Non-trainable params: 7,037,504\n",
            "__________________________________________________________________________________________________\n"
          ]
        }
      ]
    },
    {
      "cell_type": "code",
      "source": [
        "#Compile\n",
        "\n",
        "model.compile(loss='categorical_crossentropy',\n",
        "              optimizer='adam',\n",
        "              metrics=['accuracy'])"
      ],
      "metadata": {
        "id": "Otw36Rj2kFxm"
      },
      "execution_count": 68,
      "outputs": []
    },
    {
      "cell_type": "code",
      "source": [
        "# Callbacks Convergence Criteria:\n",
        "# 1. Model must be a generalized model ( testScore > trainScore )\n",
        "# 2. Model's Test Score >= CL\n",
        "# Custom Callback which satisfies the above two criteria :)\n",
        "\n",
        "class MyQualityThreshold(tf.keras.callbacks.Callback):\n",
        "  def __init__(self,cl):\n",
        "    super(MyQualityThreshold, self).__init__()\n",
        "    self.cl = cl\n",
        "  \n",
        "  def on_epoch_end(self,epoch,logs=None):\n",
        "    testScore = logs['val_accuracy']\n",
        "    trainScore = logs['accuracy']\n",
        "    #epoch=logs['']\n",
        "\n",
        "    if testScore > trainScore and testScore >= self.cl and epoch > 15:\n",
        "      self.model.stop_training=True"
      ],
      "metadata": {
        "id": "1_l_XYeQkLHR"
      },
      "execution_count": 69,
      "outputs": []
    },
    {
      "cell_type": "code",
      "source": [
        "#Fit Model \n",
        "batch_size=7\n",
        "history = model.fit(train_generator,\n",
        "                    validation_data=valid_generator,\n",
        "                    epochs=15,\n",
        "                    steps_per_epoch=len(train_generator.filenames) // batch_size,\n",
        "                    validation_steps=len(valid_generator.filenames) // batch_size,\n",
        "                    callbacks=[MyQualityThreshold(0.8)])"
      ],
      "metadata": {
        "colab": {
          "base_uri": "https://localhost:8080/"
        },
        "id": "Mm4aX28MkQ4O",
        "outputId": "1d153b48-0bd3-41d7-8281-6f12037be979"
      },
      "execution_count": 70,
      "outputs": [
        {
          "output_type": "stream",
          "name": "stdout",
          "text": [
            "Epoch 1/15\n",
            "35/35 [==============================] - 68s 2s/step - loss: 4.6560 - accuracy: 0.6475 - val_loss: 1.5438 - val_accuracy: 0.7460\n",
            "Epoch 2/15\n",
            "35/35 [==============================] - 59s 2s/step - loss: 0.9529 - accuracy: 0.9016 - val_loss: 0.7257 - val_accuracy: 0.9048\n",
            "Epoch 3/15\n",
            "35/35 [==============================] - 59s 2s/step - loss: 1.8409 - accuracy: 0.8443 - val_loss: 0.6578 - val_accuracy: 0.9048\n",
            "Epoch 4/15\n",
            "35/35 [==============================] - 59s 2s/step - loss: 1.2979 - accuracy: 0.8934 - val_loss: 0.9706 - val_accuracy: 0.8889\n",
            "Epoch 5/15\n",
            "35/35 [==============================] - 58s 2s/step - loss: 2.5760 - accuracy: 0.8402 - val_loss: 0.8448 - val_accuracy: 0.9365\n",
            "Epoch 6/15\n",
            "35/35 [==============================] - 58s 2s/step - loss: 0.7196 - accuracy: 0.9303 - val_loss: 0.6420 - val_accuracy: 0.9206\n",
            "Epoch 7/15\n",
            "35/35 [==============================] - 59s 2s/step - loss: 0.6764 - accuracy: 0.9344 - val_loss: 0.0194 - val_accuracy: 0.9841\n",
            "Epoch 8/15\n",
            "35/35 [==============================] - 60s 2s/step - loss: 0.4214 - accuracy: 0.9221 - val_loss: 1.6654 - val_accuracy: 0.8254\n",
            "Epoch 9/15\n",
            "35/35 [==============================] - 60s 2s/step - loss: 0.5835 - accuracy: 0.9303 - val_loss: 0.1936 - val_accuracy: 0.9524\n",
            "Epoch 10/15\n",
            "35/35 [==============================] - 59s 2s/step - loss: 0.7342 - accuracy: 0.9467 - val_loss: 0.6485 - val_accuracy: 0.9048\n",
            "Epoch 11/15\n",
            "35/35 [==============================] - 57s 2s/step - loss: 0.6628 - accuracy: 0.9508 - val_loss: 1.3692 - val_accuracy: 0.8889\n",
            "Epoch 12/15\n",
            "35/35 [==============================] - 59s 2s/step - loss: 0.4598 - accuracy: 0.9508 - val_loss: 0.2257 - val_accuracy: 0.9524\n",
            "Epoch 13/15\n",
            "35/35 [==============================] - 59s 2s/step - loss: 0.4490 - accuracy: 0.9549 - val_loss: 3.9253 - val_accuracy: 0.8095\n",
            "Epoch 14/15\n",
            "35/35 [==============================] - 58s 2s/step - loss: 0.5900 - accuracy: 0.9508 - val_loss: 0.7070 - val_accuracy: 0.9206\n",
            "Epoch 15/15\n",
            "35/35 [==============================] - 59s 2s/step - loss: 1.1746 - accuracy: 0.9344 - val_loss: 1.6204 - val_accuracy: 0.8571\n"
          ]
        }
      ]
    },
    {
      "cell_type": "code",
      "source": [
        "import keras\n",
        "from matplotlib import pyplot as plt\n",
        "plt.plot(history.history['accuracy'])\n",
        "plt.plot(history.history['val_accuracy'])\n",
        "plt.title('model accuracy')\n",
        "plt.ylabel('accuracy')\n",
        "plt.xlabel('epoch')\n",
        "plt.legend(['train', 'val'], loc='upper left')\n",
        "plt.show()"
      ],
      "metadata": {
        "colab": {
          "base_uri": "https://localhost:8080/",
          "height": 295
        },
        "id": "j3wkzXoykWLW",
        "outputId": "6b8a57db-2e8d-41b6-a655-8e3e5b65e40d"
      },
      "execution_count": 71,
      "outputs": [
        {
          "output_type": "display_data",
          "data": {
            "text/plain": [
              "<Figure size 432x288 with 1 Axes>"
            ],
            "image/png": "[encoded data removed]"
          },
          "metadata": {
            "needs_background": "light"
          }
        }
      ]
    },
    {
      "cell_type": "code",
      "source": [
        "plt.plot(history.history['loss'])\n",
        "plt.plot(history.history['val_loss'])\n",
        "plt.title('model loss')\n",
        "plt.ylabel('loss')\n",
        "plt.xlabel('epoch')\n",
        "plt.legend(['train', 'val'], loc='upper left')\n",
        "plt.show()"
      ],
      "metadata": {
        "colab": {
          "base_uri": "https://localhost:8080/",
          "height": 295
        },
        "id": "USxbQ5mbkaTV",
        "outputId": "ce8cd020-5ff3-460a-d45c-8f3aebfa0e06"
      },
      "execution_count": 72,
      "outputs": [
        {
          "output_type": "display_data",
          "data": {
            "text/plain": [
              "<Figure size 432x288 with 1 Axes>"
            ],
            "image/png": "[encoded data removed]"
          },
          "metadata": {
            "needs_background": "light"
          }
        }
      ]
    },
    {
      "cell_type": "code",
      "source": [
        "#Saving Model\n",
        "model.save(\"LungsDetectorDenseNet\")"
      ],
      "metadata": {
        "colab": {
          "base_uri": "https://localhost:8080/"
        },
        "id": "NvIN3AmhkfjW",
        "outputId": "1ba28d2a-55fd-4cd8-e95b-b39d606b54c0"
      },
      "execution_count": 73,
      "outputs": [
        {
          "output_type": "stream",
          "name": "stdout",
          "text": [
            "INFO:tensorflow:Assets written to: LungsDetectorDenseNet/assets\n"
          ]
        },
        {
          "output_type": "stream",
          "name": "stderr",
          "text": [
            "INFO:tensorflow:Assets written to: LungsDetectorDenseNet/assets\n"
          ]
        }
      ]
    },
    {
      "cell_type": "code",
      "source": [
        "#Step1 - Load an Image\n",
        "import matplotlib.pyplot as plt\n",
        "import numpy as np\n",
        "%matplotlib inline\n",
        "\n",
        "imageToPredict = tf.keras.preprocessing.image.load_img('COVID-00012.jpg', target_size=(224, 224))\n",
        "plt.imshow(imageToPredict)"
      ],
      "metadata": {
        "colab": {
          "base_uri": "https://localhost:8080/",
          "height": 286
        },
        "id": "mO0HHcWakpRs",
        "outputId": "4012764b-97c2-46ce-da5a-6495cb5dccce"
      },
      "execution_count": 74,
      "outputs": [
        {
          "output_type": "execute_result",
          "data": {
            "text/plain": [
              "<matplotlib.image.AxesImage at 0x7f921030bc50>"
            ]
          },
          "metadata": {},
          "execution_count": 74
        },
        {
          "output_type": "display_data",
          "data": {
            "text/plain": [
              "<Figure size 432x288 with 1 Axes>"
            ],
            "image/png": "[encoded data removed]"
          },
          "metadata": {
            "needs_background": "light"
          }
        }
      ]
    },
    {
      "cell_type": "code",
      "source": [
        "#Step2: Convert image to np array \n",
        "myImageNPArray = tf.keras.preprocessing.image.img_to_array(imageToPredict)\n",
        "myImageNPArray.shape"
      ],
      "metadata": {
        "colab": {
          "base_uri": "https://localhost:8080/"
        },
        "id": "W0sZ6mcgkvYf",
        "outputId": "0b3af267-0ec0-461c-ccd6-8050ffd3d717"
      },
      "execution_count": 75,
      "outputs": [
        {
          "output_type": "execute_result",
          "data": {
            "text/plain": [
              "(224, 224, 3)"
            ]
          },
          "metadata": {},
          "execution_count": 75
        }
      ]
    },
    {
      "cell_type": "code",
      "source": [
        "# Step3: Make the image compatible for the model by adding n\n",
        "myCompatibleImage = np.expand_dims(myImageNPArray, axis = 0)\n",
        "myCompatibleImage.shape"
      ],
      "metadata": {
        "colab": {
          "base_uri": "https://localhost:8080/"
        },
        "id": "rK92f1ENk0BW",
        "outputId": "efe5ffee-d442-4077-a09d-4042282302fb"
      },
      "execution_count": 76,
      "outputs": [
        {
          "output_type": "execute_result",
          "data": {
            "text/plain": [
              "(1, 224, 224, 3)"
            ]
          },
          "metadata": {},
          "execution_count": 76
        }
      ]
    },
    {
      "cell_type": "code",
      "source": [
        "#Step4: Prediction\n",
        "prediction = model.predict(myCompatibleImage)\n",
        "prediction"
      ],
      "metadata": {
        "colab": {
          "base_uri": "https://localhost:8080/"
        },
        "id": "06YJkzvVk9gQ",
        "outputId": "90e6d7be-e137-4f51-9a8d-245924feb6fe"
      },
      "execution_count": 77,
      "outputs": [
        {
          "output_type": "execute_result",
          "data": {
            "text/plain": [
              "array([[1., 0., 0.]], dtype=float32)"
            ]
          },
          "metadata": {},
          "execution_count": 77
        }
      ]
    },
    {
      "cell_type": "code",
      "source": [
        "list(train_generator.class_indices)[np.argmax(prediction)]"
      ],
      "metadata": {
        "colab": {
          "base_uri": "https://localhost:8080/",
          "height": 37
        },
        "id": "pXpy59BnlK9p",
        "outputId": "74bc8a14-674c-44b3-f7ce-790e25d46b9f"
      },
      "execution_count": 78,
      "outputs": [
        {
          "output_type": "execute_result",
          "data": {
            "text/plain": [
              "'Type 1 disease'"
            ],
            "application/vnd.google.colaboratory.intrinsic+json": {
              "type": "string"
            }
          },
          "metadata": {},
          "execution_count": 78
        }
      ]
    }
  ],
  "metadata": {
    "colab": {
      "collapsed_sections": [],
      "name": "CNN_Lung_infection_prediction_raj.ipynb",
      "provenance": [],
      "include_colab_link": true
    },
    "gpuClass": "standard",
    "kernelspec": {
      "display_name": "Python 3 (ipykernel)",
      "language": "python",
      "name": "python3"
    },
    "language_info": {
      "codemirror_mode": {
        "name": "ipython",
        "version": 3
      },
      "file_extension": ".py",
      "mimetype": "text/x-python",
      "name": "python",
      "nbconvert_exporter": "python",
      "pygments_lexer": "ipython3",
      "version": "3.9.12"
    }
  },
  "nbformat": 4,
  "nbformat_minor": 0
}