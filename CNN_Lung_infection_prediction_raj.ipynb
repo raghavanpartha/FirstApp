{
  "cells": [
    {
      "cell_type": "markdown",
      "metadata": {
        "id": "view-in-github",
        "colab_type": "text"
      },
      "source": [
        "<a href=\"https://colab.research.google.com/github/raghavanpartha/FirstApp/blob/main/CNN_Lung_infection_prediction_raj.ipynb\" target=\"_parent\"><img src=\"https://colab.research.google.com/assets/colab-badge.svg\" alt=\"Open In Colab\"/></a>"
      ]
    },
    {
      "cell_type": "code",
      "execution_count": 1,
      "metadata": {
        "id": "M8IedwFdWy0W"
      },
      "outputs": [],
      "source": [
        "# Ensure GPU is selected\n",
        "# Runtime > Change Runtime > From Dropdown select GPU "
      ]
    },
    {
      "cell_type": "code",
      "execution_count": 2,
      "metadata": {
        "id": "Nl79FFVcXa9f"
      },
      "outputs": [],
      "source": [
        "# Create a Classification model that can predict whether the given image is a dog or cat"
      ]
    },
    {
      "cell_type": "code",
      "execution_count": 4,
      "metadata": {
        "colab": {
          "base_uri": "https://localhost:8080/"
        },
        "id": "bf5EUKKNXevp",
        "outputId": "bc0f5812-e2d0-4aea-e770-161848f7b446"
      },
      "outputs": [
        {
          "output_type": "stream",
          "name": "stdout",
          "text": [
            "Archive:  data_Lungs.zip\n",
            "   creating: data_Lungs/\n",
            "  inflating: __MACOSX/._data_Lungs   \n",
            "  inflating: data_Lungs/.DS_Store    \n",
            "  inflating: __MACOSX/data_Lungs/._.DS_Store  \n",
            "   creating: data_Lungs/test/\n",
            "  inflating: __MACOSX/data_Lungs/._test  \n",
            "   creating: data_Lungs/train/\n",
            "  inflating: __MACOSX/data_Lungs/._train  \n",
            "   creating: data_Lungs/test/Type 1 disease/\n",
            "  inflating: __MACOSX/data_Lungs/test/._Type 1 disease  \n",
            "  inflating: data_Lungs/test/.DS_Store  \n",
            "  inflating: __MACOSX/data_Lungs/test/._.DS_Store  \n",
            "   creating: data_Lungs/test/healthy/\n",
            "  inflating: __MACOSX/data_Lungs/test/._healthy  \n",
            "   creating: data_Lungs/test/Type 2 disease/\n",
            "  inflating: __MACOSX/data_Lungs/test/._Type 2 disease  \n",
            "   creating: data_Lungs/train/Type 1 disease/\n",
            "  inflating: __MACOSX/data_Lungs/train/._Type 1 disease  \n",
            "  inflating: data_Lungs/train/.DS_Store  \n",
            "  inflating: __MACOSX/data_Lungs/train/._.DS_Store  \n",
            "   creating: data_Lungs/train/Healthy/\n",
            "  inflating: __MACOSX/data_Lungs/train/._Healthy  \n",
            "   creating: data_Lungs/train/Type 2 disease/\n",
            "  inflating: __MACOSX/data_Lungs/train/._Type 2 disease  \n",
            "  inflating: data_Lungs/test/Type 1 disease/radiopaedia-2019-novel-coronavirus-infected-pneumonia.jpg  \n",
            "  inflating: __MACOSX/data_Lungs/test/Type 1 disease/._radiopaedia-2019-novel-coronavirus-infected-pneumonia.jpg  \n",
            "  inflating: data_Lungs/test/Type 1 disease/COVID-00012.jpg  \n",
            "  inflating: __MACOSX/data_Lungs/test/Type 1 disease/._COVID-00012.jpg  \n",
            "  inflating: data_Lungs/test/Type 1 disease/0105.png  \n",
            "  inflating: __MACOSX/data_Lungs/test/Type 1 disease/._0105.png  \n",
            "  inflating: data_Lungs/test/Type 1 disease/0111.jpg  \n",
            "  inflating: __MACOSX/data_Lungs/test/Type 1 disease/._0111.jpg  \n",
            "  inflating: data_Lungs/test/Type 1 disease/0112.jpg  \n",
            "  inflating: __MACOSX/data_Lungs/test/Type 1 disease/._0112.jpg  \n",
            "  inflating: data_Lungs/test/Type 1 disease/0113.jpg  \n",
            "  inflating: __MACOSX/data_Lungs/test/Type 1 disease/._0113.jpg  \n",
            "  inflating: data_Lungs/test/Type 1 disease/auntminnie-a-2020_01_28_23_51_6665_2020_01_28_Vietnam_coronavirus.jpeg  \n",
            "  inflating: __MACOSX/data_Lungs/test/Type 1 disease/._auntminnie-a-2020_01_28_23_51_6665_2020_01_28_Vietnam_coronavirus.jpeg  \n",
            "  inflating: data_Lungs/test/Type 1 disease/098.jpeg  \n",
            "  inflating: __MACOSX/data_Lungs/test/Type 1 disease/._098.jpeg  \n",
            "  inflating: data_Lungs/test/Type 1 disease/0106.jpeg  \n",
            "  inflating: __MACOSX/data_Lungs/test/Type 1 disease/._0106.jpeg  \n",
            "  inflating: data_Lungs/test/Type 1 disease/auntminnie-c-2020_01_28_23_51_6665_2020_01_28_Vietnam_coronavirus.jpeg  \n",
            "  inflating: __MACOSX/data_Lungs/test/Type 1 disease/._auntminnie-c-2020_01_28_23_51_6665_2020_01_28_Vietnam_coronavirus.jpeg  \n",
            "  inflating: data_Lungs/test/Type 1 disease/auntminnie-b-2020_01_28_23_51_6665_2020_01_28_Vietnam_coronavirus.jpeg  \n",
            "  inflating: __MACOSX/data_Lungs/test/Type 1 disease/._auntminnie-b-2020_01_28_23_51_6665_2020_01_28_Vietnam_coronavirus.jpeg  \n",
            "  inflating: data_Lungs/test/Type 1 disease/0100.jpeg  \n",
            "  inflating: __MACOSX/data_Lungs/test/Type 1 disease/._0100.jpeg  \n",
            "  inflating: data_Lungs/test/Type 1 disease/auntminnie-2020_01_31_20_24_2322_2020_01_31_x-ray_coronavirus_US.jpg  \n",
            "  inflating: __MACOSX/data_Lungs/test/Type 1 disease/._auntminnie-2020_01_31_20_24_2322_2020_01_31_x-ray_coronavirus_US.jpg  \n",
            "  inflating: data_Lungs/test/Type 1 disease/0119.jpeg  \n",
            "  inflating: __MACOSX/data_Lungs/test/Type 1 disease/._0119.jpeg  \n",
            "  inflating: data_Lungs/test/Type 1 disease/096.png  \n",
            "  inflating: __MACOSX/data_Lungs/test/Type 1 disease/._096.png  \n",
            "  inflating: data_Lungs/test/Type 1 disease/094.png  \n",
            "  inflating: __MACOSX/data_Lungs/test/Type 1 disease/._094.png  \n",
            "  inflating: data_Lungs/test/Type 1 disease/0115.jpeg  \n",
            "  inflating: __MACOSX/data_Lungs/test/Type 1 disease/._0115.jpeg  \n",
            "  inflating: data_Lungs/test/Type 1 disease/0102.jpeg  \n",
            "  inflating: __MACOSX/data_Lungs/test/Type 1 disease/._0102.jpeg  \n",
            "  inflating: data_Lungs/test/Type 1 disease/0118.jpeg  \n",
            "  inflating: __MACOSX/data_Lungs/test/Type 1 disease/._0118.jpeg  \n",
            "  inflating: data_Lungs/test/Type 1 disease/COVID-00033.jpg  \n",
            "  inflating: __MACOSX/data_Lungs/test/Type 1 disease/._COVID-00033.jpg  \n",
            "  inflating: data_Lungs/test/Type 1 disease/auntminnie-d-2020_01_28_23_51_6665_2020_01_28_Vietnam_coronavirus.jpeg  \n",
            "  inflating: __MACOSX/data_Lungs/test/Type 1 disease/._auntminnie-d-2020_01_28_23_51_6665_2020_01_28_Vietnam_coronavirus.jpeg  \n",
            "  inflating: data_Lungs/test/Type 1 disease/0108.jpeg  \n",
            "  inflating: __MACOSX/data_Lungs/test/Type 1 disease/._0108.jpeg  \n",
            "  inflating: data_Lungs/test/Type 1 disease/COVID-00022.jpg  \n",
            "  inflating: __MACOSX/data_Lungs/test/Type 1 disease/._COVID-00022.jpg  \n",
            "  inflating: data_Lungs/test/Type 1 disease/COVID-00003b.jpg  \n",
            "  inflating: __MACOSX/data_Lungs/test/Type 1 disease/._COVID-00003b.jpg  \n",
            "  inflating: data_Lungs/test/Type 1 disease/0120.jpg  \n",
            "  inflating: __MACOSX/data_Lungs/test/Type 1 disease/._0120.jpg  \n",
            "  inflating: data_Lungs/test/Type 1 disease/COVID-00037.jpg  \n",
            "  inflating: __MACOSX/data_Lungs/test/Type 1 disease/._COVID-00037.jpg  \n",
            "  inflating: data_Lungs/test/healthy/0107.jpeg  \n",
            "  inflating: __MACOSX/data_Lungs/test/healthy/._0107.jpeg  \n",
            "  inflating: data_Lungs/test/healthy/0111.jpeg  \n",
            "  inflating: __MACOSX/data_Lungs/test/healthy/._0111.jpeg  \n",
            "  inflating: data_Lungs/test/healthy/0110.jpeg  \n",
            "  inflating: __MACOSX/data_Lungs/test/healthy/._0110.jpeg  \n",
            "  inflating: data_Lungs/test/healthy/0106.jpeg  \n",
            "  inflating: __MACOSX/data_Lungs/test/healthy/._0106.jpeg  \n",
            "  inflating: data_Lungs/test/healthy/0121.jpeg  \n",
            "  inflating: __MACOSX/data_Lungs/test/healthy/._0121.jpeg  \n",
            "  inflating: data_Lungs/test/healthy/0101.jpeg  \n",
            "  inflating: __MACOSX/data_Lungs/test/healthy/._0101.jpeg  \n",
            "  inflating: data_Lungs/test/healthy/0117.jpeg  \n",
            "  inflating: __MACOSX/data_Lungs/test/healthy/._0117.jpeg  \n",
            "  inflating: data_Lungs/test/healthy/0116.jpeg  \n",
            "  inflating: __MACOSX/data_Lungs/test/healthy/._0116.jpeg  \n",
            "  inflating: data_Lungs/test/healthy/0120.jpeg  \n",
            "  inflating: __MACOSX/data_Lungs/test/healthy/._0120.jpeg  \n",
            "  inflating: data_Lungs/test/healthy/0119.jpeg  \n",
            "  inflating: __MACOSX/data_Lungs/test/healthy/._0119.jpeg  \n",
            "  inflating: data_Lungs/test/healthy/0115.jpeg  \n",
            "  inflating: __MACOSX/data_Lungs/test/healthy/._0115.jpeg  \n",
            "  inflating: data_Lungs/test/healthy/0103.jpeg  \n",
            "  inflating: __MACOSX/data_Lungs/test/healthy/._0103.jpeg  \n",
            "  inflating: data_Lungs/test/healthy/0102.jpeg  \n",
            "  inflating: __MACOSX/data_Lungs/test/healthy/._0102.jpeg  \n",
            "  inflating: data_Lungs/test/healthy/0114.jpeg  \n",
            "  inflating: __MACOSX/data_Lungs/test/healthy/._0114.jpeg  \n",
            "  inflating: data_Lungs/test/healthy/0118.jpeg  \n",
            "  inflating: __MACOSX/data_Lungs/test/healthy/._0118.jpeg  \n",
            "  inflating: data_Lungs/test/healthy/0122.jpeg  \n",
            "  inflating: __MACOSX/data_Lungs/test/healthy/._0122.jpeg  \n",
            "  inflating: data_Lungs/test/healthy/0105.jpeg  \n",
            "  inflating: __MACOSX/data_Lungs/test/healthy/._0105.jpeg  \n",
            "  inflating: data_Lungs/test/healthy/0109.jpeg  \n",
            "  inflating: __MACOSX/data_Lungs/test/healthy/._0109.jpeg  \n",
            "  inflating: data_Lungs/test/healthy/0108.jpeg  \n",
            "  inflating: __MACOSX/data_Lungs/test/healthy/._0108.jpeg  \n",
            "  inflating: data_Lungs/test/healthy/0112.jpeg  \n",
            "  inflating: __MACOSX/data_Lungs/test/healthy/._0112.jpeg  \n",
            "  inflating: data_Lungs/test/Type 2 disease/0107.jpeg  \n",
            "  inflating: __MACOSX/data_Lungs/test/Type 2 disease/._0107.jpeg  \n",
            "  inflating: data_Lungs/test/Type 2 disease/0111.jpeg  \n",
            "  inflating: __MACOSX/data_Lungs/test/Type 2 disease/._0111.jpeg  \n",
            "  inflating: data_Lungs/test/Type 2 disease/0110.jpeg  \n",
            "  inflating: __MACOSX/data_Lungs/test/Type 2 disease/._0110.jpeg  \n",
            "  inflating: data_Lungs/test/Type 2 disease/0106.jpeg  \n",
            "  inflating: __MACOSX/data_Lungs/test/Type 2 disease/._0106.jpeg  \n",
            "  inflating: data_Lungs/test/Type 2 disease/0101.jpeg  \n",
            "  inflating: __MACOSX/data_Lungs/test/Type 2 disease/._0101.jpeg  \n",
            "  inflating: data_Lungs/test/Type 2 disease/0117.jpeg  \n",
            "  inflating: __MACOSX/data_Lungs/test/Type 2 disease/._0117.jpeg  \n",
            "  inflating: data_Lungs/test/Type 2 disease/0116.jpeg  \n",
            "  inflating: __MACOSX/data_Lungs/test/Type 2 disease/._0116.jpeg  \n",
            "  inflating: data_Lungs/test/Type 2 disease/0120.jpeg  \n",
            "  inflating: __MACOSX/data_Lungs/test/Type 2 disease/._0120.jpeg  \n",
            "  inflating: data_Lungs/test/Type 2 disease/0119.jpeg  \n",
            "  inflating: __MACOSX/data_Lungs/test/Type 2 disease/._0119.jpeg  \n",
            "  inflating: data_Lungs/test/Type 2 disease/0115.jpeg  \n",
            "  inflating: __MACOSX/data_Lungs/test/Type 2 disease/._0115.jpeg  \n",
            "  inflating: data_Lungs/test/Type 2 disease/0103.jpeg  \n",
            "  inflating: __MACOSX/data_Lungs/test/Type 2 disease/._0103.jpeg  \n",
            "  inflating: data_Lungs/test/Type 2 disease/0102.jpeg  \n",
            "  inflating: __MACOSX/data_Lungs/test/Type 2 disease/._0102.jpeg  \n",
            "  inflating: data_Lungs/test/Type 2 disease/0114.jpeg  \n",
            "  inflating: __MACOSX/data_Lungs/test/Type 2 disease/._0114.jpeg  \n",
            "  inflating: data_Lungs/test/Type 2 disease/0118.jpeg  \n",
            "  inflating: __MACOSX/data_Lungs/test/Type 2 disease/._0118.jpeg  \n",
            "  inflating: data_Lungs/test/Type 2 disease/0113.jpeg  \n",
            "  inflating: __MACOSX/data_Lungs/test/Type 2 disease/._0113.jpeg  \n",
            "  inflating: data_Lungs/test/Type 2 disease/0105.jpeg  \n",
            "  inflating: __MACOSX/data_Lungs/test/Type 2 disease/._0105.jpeg  \n",
            "  inflating: data_Lungs/test/Type 2 disease/0109.jpeg  \n",
            "  inflating: __MACOSX/data_Lungs/test/Type 2 disease/._0109.jpeg  \n",
            "  inflating: data_Lungs/test/Type 2 disease/0108.jpeg  \n",
            "  inflating: __MACOSX/data_Lungs/test/Type 2 disease/._0108.jpeg  \n",
            "  inflating: data_Lungs/test/Type 2 disease/0104.jpeg  \n",
            "  inflating: __MACOSX/data_Lungs/test/Type 2 disease/._0104.jpeg  \n",
            "  inflating: data_Lungs/test/Type 2 disease/0112.jpeg  \n",
            "  inflating: __MACOSX/data_Lungs/test/Type 2 disease/._0112.jpeg  \n",
            "  inflating: data_Lungs/train/Type 1 disease/COVID-00006.jpg  \n",
            "  inflating: __MACOSX/data_Lungs/train/Type 1 disease/._COVID-00006.jpg  \n",
            "  inflating: data_Lungs/train/Type 1 disease/COVID-00012.jpg  \n",
            "  inflating: __MACOSX/data_Lungs/train/Type 1 disease/._COVID-00012.jpg  \n",
            "  inflating: data_Lungs/train/Type 1 disease/06.jpeg  \n",
            "  inflating: __MACOSX/data_Lungs/train/Type 1 disease/._06.jpeg  \n",
            "  inflating: data_Lungs/train/Type 1 disease/060.jpeg  \n",
            "  inflating: __MACOSX/data_Lungs/train/Type 1 disease/._060.jpeg  \n",
            "  inflating: data_Lungs/train/Type 1 disease/COVID-00007.jpg  \n",
            "  inflating: __MACOSX/data_Lungs/train/Type 1 disease/._COVID-00007.jpg  \n",
            "  inflating: data_Lungs/train/Type 1 disease/021.jpeg  \n",
            "  inflating: __MACOSX/data_Lungs/train/Type 1 disease/._021.jpeg  \n",
            "  inflating: data_Lungs/train/Type 1 disease/COVID-00011.jpg  \n",
            "  inflating: __MACOSX/data_Lungs/train/Type 1 disease/._COVID-00011.jpg  \n",
            "  inflating: data_Lungs/train/Type 1 disease/COVID-00005.jpg  \n",
            "  inflating: __MACOSX/data_Lungs/train/Type 1 disease/._COVID-00005.jpg  \n",
            "  inflating: data_Lungs/train/Type 1 disease/040.jpeg  \n",
            "  inflating: __MACOSX/data_Lungs/train/Type 1 disease/._040.jpeg  \n",
            "  inflating: data_Lungs/train/Type 1 disease/015.jpg  \n",
            "  inflating: __MACOSX/data_Lungs/train/Type 1 disease/._015.jpg  \n",
            "  inflating: data_Lungs/train/Type 1 disease/083.jpeg  \n",
            "  inflating: __MACOSX/data_Lungs/train/Type 1 disease/._083.jpeg  \n",
            "  inflating: data_Lungs/train/Type 1 disease/COVID-00038.jpg  \n",
            "  inflating: __MACOSX/data_Lungs/train/Type 1 disease/._COVID-00038.jpg  \n",
            "  inflating: data_Lungs/train/Type 1 disease/COVID-00004.jpg  \n",
            "  inflating: __MACOSX/data_Lungs/train/Type 1 disease/._COVID-00004.jpg  \n",
            "  inflating: data_Lungs/train/Type 1 disease/COVID-00010.jpg  \n",
            "  inflating: __MACOSX/data_Lungs/train/Type 1 disease/._COVID-00010.jpg  \n",
            "  inflating: data_Lungs/train/Type 1 disease/COVID-00028.jpg  \n",
            "  inflating: __MACOSX/data_Lungs/train/Type 1 disease/._COVID-00028.jpg  \n",
            "  inflating: data_Lungs/train/Type 1 disease/COVID-00014.jpg  \n",
            "  inflating: __MACOSX/data_Lungs/train/Type 1 disease/._COVID-00014.jpg  \n",
            "  inflating: data_Lungs/train/Type 1 disease/010.png  \n",
            "  inflating: __MACOSX/data_Lungs/train/Type 1 disease/._010.png  \n",
            "  inflating: data_Lungs/train/Type 1 disease/041.jpeg  \n",
            "  inflating: __MACOSX/data_Lungs/train/Type 1 disease/._041.jpeg  \n",
            "  inflating: data_Lungs/train/Type 1 disease/COVID-00001.jpg  \n",
            "  inflating: __MACOSX/data_Lungs/train/Type 1 disease/._COVID-00001.jpg  \n",
            "  inflating: data_Lungs/train/Type 1 disease/COVID-00029.jpg  \n",
            "  inflating: __MACOSX/data_Lungs/train/Type 1 disease/._COVID-00029.jpg  \n",
            "  inflating: data_Lungs/train/Type 1 disease/057.jpeg  \n",
            "  inflating: __MACOSX/data_Lungs/train/Type 1 disease/._057.jpeg  \n",
            "  inflating: data_Lungs/train/Type 1 disease/COVID-00017.jpg  \n",
            "  inflating: __MACOSX/data_Lungs/train/Type 1 disease/._COVID-00017.jpg  \n",
            "  inflating: data_Lungs/train/Type 1 disease/COVID-00016.jpg  \n",
            "  inflating: __MACOSX/data_Lungs/train/Type 1 disease/._COVID-00016.jpg  \n",
            "  inflating: data_Lungs/train/Type 1 disease/COVID-00002.jpg  \n",
            "  inflating: __MACOSX/data_Lungs/train/Type 1 disease/._COVID-00002.jpg  \n",
            "  inflating: data_Lungs/train/Type 1 disease/050.jpeg  \n",
            "  inflating: __MACOSX/data_Lungs/train/Type 1 disease/._050.jpeg  \n",
            "  inflating: data_Lungs/train/Type 1 disease/046.jpeg  \n",
            "  inflating: __MACOSX/data_Lungs/train/Type 1 disease/._046.jpeg  \n",
            "  inflating: data_Lungs/train/Type 1 disease/061.jpg  \n",
            "  inflating: __MACOSX/data_Lungs/train/Type 1 disease/._061.jpg  \n",
            "  inflating: data_Lungs/train/Type 1 disease/074.jpg  \n",
            "  inflating: __MACOSX/data_Lungs/train/Type 1 disease/._074.jpg  \n",
            "  inflating: data_Lungs/train/Type 1 disease/085.jpeg  \n",
            "  inflating: __MACOSX/data_Lungs/train/Type 1 disease/._085.jpeg  \n",
            "  inflating: data_Lungs/train/Type 1 disease/089.jpg  \n",
            "  inflating: __MACOSX/data_Lungs/train/Type 1 disease/._089.jpg  \n",
            "  inflating: data_Lungs/train/Type 1 disease/076.jpg  \n",
            "  inflating: __MACOSX/data_Lungs/train/Type 1 disease/._076.jpg  \n",
            "  inflating: data_Lungs/train/Type 1 disease/031.jpeg  \n",
            "  inflating: __MACOSX/data_Lungs/train/Type 1 disease/._031.jpeg  \n",
            "  inflating: data_Lungs/train/Type 1 disease/027.jpeg  \n",
            "  inflating: __MACOSX/data_Lungs/train/Type 1 disease/._027.jpeg  \n",
            "  inflating: data_Lungs/train/Type 1 disease/026.jpeg  \n",
            "  inflating: __MACOSX/data_Lungs/train/Type 1 disease/._026.jpeg  \n",
            "  inflating: data_Lungs/train/Type 1 disease/088.jpeg  \n",
            "  inflating: __MACOSX/data_Lungs/train/Type 1 disease/._088.jpeg  \n",
            "  inflating: data_Lungs/train/Type 1 disease/067.jpg  \n",
            "  inflating: __MACOSX/data_Lungs/train/Type 1 disease/._067.jpg  \n",
            "  inflating: data_Lungs/train/Type 1 disease/073.jpg  \n",
            "  inflating: __MACOSX/data_Lungs/train/Type 1 disease/._073.jpg  \n",
            "  inflating: data_Lungs/train/Type 1 disease/01.jpeg  \n",
            "  inflating: __MACOSX/data_Lungs/train/Type 1 disease/._01.jpeg  \n",
            "  inflating: data_Lungs/train/Type 1 disease/07.jpg  \n",
            "  inflating: __MACOSX/data_Lungs/train/Type 1 disease/._07.jpg  \n",
            "  inflating: data_Lungs/train/Type 1 disease/084.jpeg  \n",
            "  inflating: __MACOSX/data_Lungs/train/Type 1 disease/._084.jpeg  \n",
            "  inflating: data_Lungs/train/Type 1 disease/064.jpg  \n",
            "  inflating: __MACOSX/data_Lungs/train/Type 1 disease/._064.jpg  \n",
            "  inflating: data_Lungs/train/Type 1 disease/071.jpg  \n",
            "  inflating: __MACOSX/data_Lungs/train/Type 1 disease/._071.jpg  \n",
            "  inflating: data_Lungs/train/Type 1 disease/047.jpeg  \n",
            "  inflating: __MACOSX/data_Lungs/train/Type 1 disease/._047.jpeg  \n",
            "  inflating: data_Lungs/train/Type 1 disease/04.png  \n",
            "  inflating: __MACOSX/data_Lungs/train/Type 1 disease/._04.png  \n",
            "  inflating: data_Lungs/train/Type 1 disease/051.jpeg  \n",
            "  inflating: __MACOSX/data_Lungs/train/Type 1 disease/._051.jpeg  \n",
            "  inflating: data_Lungs/train/Type 1 disease/09.png  \n",
            "  inflating: __MACOSX/data_Lungs/train/Type 1 disease/._09.png  \n",
            "  inflating: data_Lungs/train/Type 1 disease/068.jpg  \n",
            "  inflating: __MACOSX/data_Lungs/train/Type 1 disease/._068.jpg  \n",
            "  inflating: data_Lungs/train/Type 1 disease/069.jpg  \n",
            "  inflating: __MACOSX/data_Lungs/train/Type 1 disease/._069.jpg  \n",
            "  inflating: data_Lungs/train/Type 1 disease/044.jpeg  \n",
            "  inflating: __MACOSX/data_Lungs/train/Type 1 disease/._044.jpeg  \n",
            "  inflating: data_Lungs/train/Type 1 disease/082.jpg  \n",
            "  inflating: __MACOSX/data_Lungs/train/Type 1 disease/._082.jpg  \n",
            "  inflating: data_Lungs/train/Type 1 disease/052.jpeg  \n",
            "  inflating: __MACOSX/data_Lungs/train/Type 1 disease/._052.jpeg  \n",
            "  inflating: data_Lungs/train/Type 1 disease/025.jpeg  \n",
            "  inflating: __MACOSX/data_Lungs/train/Type 1 disease/._025.jpeg  \n",
            "  inflating: data_Lungs/train/Type 1 disease/072.jpeg  \n",
            "  inflating: __MACOSX/data_Lungs/train/Type 1 disease/._072.jpeg  \n",
            "  inflating: data_Lungs/train/Type 1 disease/080.jpg  \n",
            "  inflating: __MACOSX/data_Lungs/train/Type 1 disease/._080.jpg  \n",
            "  inflating: data_Lungs/train/Type 1 disease/056.jpg  \n",
            "  inflating: __MACOSX/data_Lungs/train/Type 1 disease/._056.jpg  \n",
            "  inflating: data_Lungs/train/Type 1 disease/048.jpeg  \n",
            "  inflating: __MACOSX/data_Lungs/train/Type 1 disease/._048.jpeg  \n",
            "  inflating: data_Lungs/train/Type 1 disease/02.jpeg  \n",
            "  inflating: __MACOSX/data_Lungs/train/Type 1 disease/._02.jpeg  \n",
            "  inflating: data_Lungs/train/Type 1 disease/03.jpeg  \n",
            "  inflating: __MACOSX/data_Lungs/train/Type 1 disease/._03.jpeg  \n",
            "  inflating: data_Lungs/train/Type 1 disease/091.jpg  \n",
            "  inflating: __MACOSX/data_Lungs/train/Type 1 disease/._091.jpg  \n",
            "  inflating: data_Lungs/train/Type 1 disease/049.jpeg  \n",
            "  inflating: __MACOSX/data_Lungs/train/Type 1 disease/._049.jpeg  \n",
            "  inflating: data_Lungs/train/Type 1 disease/032.jpeg  \n",
            "  inflating: __MACOSX/data_Lungs/train/Type 1 disease/._032.jpeg  \n",
            "  inflating: data_Lungs/train/Type 1 disease/065.jpeg  \n",
            "  inflating: __MACOSX/data_Lungs/train/Type 1 disease/._065.jpeg  \n",
            "  inflating: data_Lungs/train/Type 1 disease/COVID-00013b.jpg  \n",
            "  inflating: __MACOSX/data_Lungs/train/Type 1 disease/._COVID-00013b.jpg  \n",
            "  inflating: data_Lungs/train/Type 1 disease/024.jpeg  \n",
            "  inflating: __MACOSX/data_Lungs/train/Type 1 disease/._024.jpeg  \n",
            "  inflating: data_Lungs/train/Type 1 disease/053.jpeg  \n",
            "  inflating: __MACOSX/data_Lungs/train/Type 1 disease/._053.jpeg  \n",
            "  inflating: data_Lungs/train/Type 1 disease/012.jpeg  \n",
            "  inflating: __MACOSX/data_Lungs/train/Type 1 disease/._012.jpeg  \n",
            "  inflating: data_Lungs/train/Type 1 disease/092.png  \n",
            "  inflating: __MACOSX/data_Lungs/train/Type 1 disease/._092.png  \n",
            "  inflating: data_Lungs/train/Type 1 disease/045.jpeg  \n",
            "  inflating: __MACOSX/data_Lungs/train/Type 1 disease/._045.jpeg  \n",
            "  inflating: data_Lungs/train/Type 1 disease/086.jpg  \n",
            "  inflating: __MACOSX/data_Lungs/train/Type 1 disease/._086.jpg  \n",
            "  inflating: data_Lungs/train/Type 1 disease/090.jpeg  \n",
            "  inflating: __MACOSX/data_Lungs/train/Type 1 disease/._090.jpeg  \n",
            "  inflating: data_Lungs/train/Type 1 disease/COVID-00013a.jpg  \n",
            "  inflating: __MACOSX/data_Lungs/train/Type 1 disease/._COVID-00013a.jpg  \n",
            "  inflating: data_Lungs/train/Type 1 disease/COVID-00027.jpg  \n",
            "  inflating: __MACOSX/data_Lungs/train/Type 1 disease/._COVID-00027.jpg  \n",
            "  inflating: data_Lungs/train/Type 1 disease/COVID-00033.jpg  \n",
            "  inflating: __MACOSX/data_Lungs/train/Type 1 disease/._COVID-00033.jpg  \n",
            "  inflating: data_Lungs/train/Type 1 disease/062.jpeg  \n",
            "  inflating: __MACOSX/data_Lungs/train/Type 1 disease/._062.jpeg  \n",
            "  inflating: data_Lungs/train/Type 1 disease/COVID-00032.jpg  \n",
            "  inflating: __MACOSX/data_Lungs/train/Type 1 disease/._COVID-00032.jpg  \n",
            "  inflating: data_Lungs/train/Type 1 disease/COVID-00026.jpg  \n",
            "  inflating: __MACOSX/data_Lungs/train/Type 1 disease/._COVID-00026.jpg  \n",
            "  inflating: data_Lungs/train/Type 1 disease/058.jpeg  \n",
            "  inflating: __MACOSX/data_Lungs/train/Type 1 disease/._058.jpeg  \n",
            "  inflating: data_Lungs/train/Type 1 disease/COVID-00030.jpg  \n",
            "  inflating: __MACOSX/data_Lungs/train/Type 1 disease/._COVID-00030.jpg  \n",
            "  inflating: data_Lungs/train/Type 1 disease/COVID-00024.jpg  \n",
            "  inflating: __MACOSX/data_Lungs/train/Type 1 disease/._COVID-00024.jpg  \n",
            "  inflating: data_Lungs/train/Type 1 disease/078.jpeg  \n",
            "  inflating: __MACOSX/data_Lungs/train/Type 1 disease/._078.jpeg  \n",
            "  inflating: data_Lungs/train/Type 1 disease/COVID-00018.jpg  \n",
            "  inflating: __MACOSX/data_Lungs/train/Type 1 disease/._COVID-00018.jpg  \n",
            "  inflating: data_Lungs/train/Type 1 disease/081.jpeg  \n",
            "  inflating: __MACOSX/data_Lungs/train/Type 1 disease/._081.jpeg  \n",
            "  inflating: data_Lungs/train/Type 1 disease/020.jpg  \n",
            "  inflating: __MACOSX/data_Lungs/train/Type 1 disease/._020.jpg  \n",
            "  inflating: data_Lungs/train/Type 1 disease/039.jpeg  \n",
            "  inflating: __MACOSX/data_Lungs/train/Type 1 disease/._039.jpeg  \n",
            "  inflating: data_Lungs/train/Type 1 disease/042.jpeg  \n",
            "  inflating: __MACOSX/data_Lungs/train/Type 1 disease/._042.jpeg  \n",
            "  inflating: data_Lungs/train/Type 1 disease/08.jpeg  \n",
            "  inflating: __MACOSX/data_Lungs/train/Type 1 disease/._08.jpeg  \n",
            "  inflating: data_Lungs/train/Type 1 disease/COVID-00019.jpg  \n",
            "  inflating: __MACOSX/data_Lungs/train/Type 1 disease/._COVID-00019.jpg  \n",
            "  inflating: data_Lungs/train/Type 1 disease/COVID-00025.jpg  \n",
            "  inflating: __MACOSX/data_Lungs/train/Type 1 disease/._COVID-00025.jpg  \n",
            "  inflating: data_Lungs/train/Type 1 disease/COVID-00031.jpg  \n",
            "  inflating: __MACOSX/data_Lungs/train/Type 1 disease/._COVID-00031.jpg  \n",
            "  inflating: data_Lungs/train/Type 1 disease/054.jpeg  \n",
            "  inflating: __MACOSX/data_Lungs/train/Type 1 disease/._054.jpeg  \n",
            "  inflating: data_Lungs/train/Type 1 disease/055.jpeg  \n",
            "  inflating: __MACOSX/data_Lungs/train/Type 1 disease/._055.jpeg  \n",
            "  inflating: data_Lungs/train/Type 1 disease/COVID-00009.jpg  \n",
            "  inflating: __MACOSX/data_Lungs/train/Type 1 disease/._COVID-00009.jpg  \n",
            "  inflating: data_Lungs/train/Type 1 disease/COVID-00035.jpg  \n",
            "  inflating: __MACOSX/data_Lungs/train/Type 1 disease/._COVID-00035.jpg  \n",
            "  inflating: data_Lungs/train/Type 1 disease/COVID-00021.jpg  \n",
            "  inflating: __MACOSX/data_Lungs/train/Type 1 disease/._COVID-00021.jpg  \n",
            "  inflating: data_Lungs/train/Type 1 disease/019.png  \n",
            "  inflating: __MACOSX/data_Lungs/train/Type 1 disease/._019.png  \n",
            "  inflating: data_Lungs/train/Type 1 disease/043.jpeg  \n",
            "  inflating: __MACOSX/data_Lungs/train/Type 1 disease/._043.jpeg  \n",
            "  inflating: data_Lungs/train/Type 1 disease/COVID-00003a.jpg  \n",
            "  inflating: __MACOSX/data_Lungs/train/Type 1 disease/._COVID-00003a.jpg  \n",
            "  inflating: data_Lungs/train/Type 1 disease/COVID-00020.jpg  \n",
            "  inflating: __MACOSX/data_Lungs/train/Type 1 disease/._COVID-00020.jpg  \n",
            "  inflating: data_Lungs/train/Type 1 disease/COVID-00034.jpg  \n",
            "  inflating: __MACOSX/data_Lungs/train/Type 1 disease/._COVID-00034.jpg  \n",
            "  inflating: data_Lungs/train/Type 1 disease/079.jpeg  \n",
            "  inflating: __MACOSX/data_Lungs/train/Type 1 disease/._079.jpeg  \n",
            "  inflating: data_Lungs/train/Type 1 disease/COVID-00008.jpg  \n",
            "  inflating: __MACOSX/data_Lungs/train/Type 1 disease/._COVID-00008.jpg  \n",
            "  inflating: data_Lungs/train/Type 1 disease/COVID-00015a.png  \n",
            "  inflating: __MACOSX/data_Lungs/train/Type 1 disease/._COVID-00015a.png  \n",
            "  inflating: data_Lungs/train/Type 1 disease/059.jpeg  \n",
            "  inflating: __MACOSX/data_Lungs/train/Type 1 disease/._059.jpeg  \n",
            "  inflating: data_Lungs/train/Type 1 disease/COVID-00022.jpg  \n",
            "  inflating: __MACOSX/data_Lungs/train/Type 1 disease/._COVID-00022.jpg  \n",
            "  inflating: data_Lungs/train/Type 1 disease/COVID-00036.jpg  \n",
            "  inflating: __MACOSX/data_Lungs/train/Type 1 disease/._COVID-00036.jpg  \n",
            "  inflating: data_Lungs/train/Type 1 disease/COVID-00003b.jpg  \n",
            "  inflating: __MACOSX/data_Lungs/train/Type 1 disease/._COVID-00003b.jpg  \n",
            "  inflating: data_Lungs/train/Type 1 disease/033.png  \n",
            "  inflating: __MACOSX/data_Lungs/train/Type 1 disease/._033.png  \n",
            "  inflating: data_Lungs/train/Type 1 disease/COVID-00037.jpg  \n",
            "  inflating: __MACOSX/data_Lungs/train/Type 1 disease/._COVID-00037.jpg  \n",
            "  inflating: data_Lungs/train/Type 1 disease/COVID-00023.jpg  \n",
            "  inflating: __MACOSX/data_Lungs/train/Type 1 disease/._COVID-00023.jpg  \n",
            "  inflating: data_Lungs/train/Type 1 disease/COVID-00015b.png  \n",
            "  inflating: __MACOSX/data_Lungs/train/Type 1 disease/._COVID-00015b.png  \n",
            "  inflating: data_Lungs/train/Type 1 disease/022.jpeg  \n",
            "  inflating: __MACOSX/data_Lungs/train/Type 1 disease/._022.jpeg  \n",
            "  inflating: data_Lungs/train/Healthy/06.jpeg  \n",
            "  inflating: __MACOSX/data_Lungs/train/Healthy/._06.jpeg  \n",
            "  inflating: data_Lungs/train/Healthy/060.jpeg  \n",
            "  inflating: __MACOSX/data_Lungs/train/Healthy/._060.jpeg  \n",
            "  inflating: data_Lungs/train/Healthy/076.jpeg  \n",
            "  inflating: __MACOSX/data_Lungs/train/Healthy/._076.jpeg  \n",
            "  inflating: data_Lungs/train/Healthy/021.jpeg  \n",
            "  inflating: __MACOSX/data_Lungs/train/Healthy/._021.jpeg  \n",
            "  inflating: data_Lungs/train/Healthy/056.jpeg  \n",
            "  inflating: __MACOSX/data_Lungs/train/Healthy/._056.jpeg  \n",
            "  inflating: data_Lungs/train/Healthy/017.jpeg  \n",
            "  inflating: __MACOSX/data_Lungs/train/Healthy/._017.jpeg  \n",
            "  inflating: data_Lungs/train/Healthy/083.jpeg  \n",
            "  inflating: __MACOSX/data_Lungs/train/Healthy/._083.jpeg  \n",
            "  inflating: data_Lungs/train/Healthy/095.jpeg  \n",
            "  inflating: __MACOSX/data_Lungs/train/Healthy/._095.jpeg  \n",
            "  inflating: data_Lungs/train/Healthy/094.jpeg  \n",
            "  inflating: __MACOSX/data_Lungs/train/Healthy/._094.jpeg  \n",
            "  inflating: data_Lungs/train/Healthy/082.jpeg  \n",
            "  inflating: __MACOSX/data_Lungs/train/Healthy/._082.jpeg  \n",
            "  inflating: data_Lungs/train/Healthy/016.jpeg  \n",
            "  inflating: __MACOSX/data_Lungs/train/Healthy/._016.jpeg  \n",
            "  inflating: data_Lungs/train/Healthy/057.jpeg  \n",
            "  inflating: __MACOSX/data_Lungs/train/Healthy/._057.jpeg  \n",
            "  inflating: data_Lungs/train/Healthy/020.jpeg  \n",
            "  inflating: __MACOSX/data_Lungs/train/Healthy/._020.jpeg  \n",
            "  inflating: data_Lungs/train/Healthy/077.jpeg  \n",
            "  inflating: __MACOSX/data_Lungs/train/Healthy/._077.jpeg  \n",
            "  inflating: data_Lungs/train/Healthy/061.jpeg  \n",
            "  inflating: __MACOSX/data_Lungs/train/Healthy/._061.jpeg  \n",
            "  inflating: data_Lungs/train/Healthy/07.jpeg  \n",
            "  inflating: __MACOSX/data_Lungs/train/Healthy/._07.jpeg  \n",
            "  inflating: data_Lungs/train/Healthy/050.jpeg  \n",
            "  inflating: __MACOSX/data_Lungs/train/Healthy/._050.jpeg  \n",
            "  inflating: data_Lungs/train/Healthy/011.jpeg  \n",
            "  inflating: __MACOSX/data_Lungs/train/Healthy/._011.jpeg  \n",
            "  inflating: data_Lungs/train/Healthy/085.jpeg  \n",
            "  inflating: __MACOSX/data_Lungs/train/Healthy/._085.jpeg  \n",
            "  inflating: data_Lungs/train/Healthy/093.jpeg  \n",
            "  inflating: __MACOSX/data_Lungs/train/Healthy/._093.jpeg  \n",
            "  inflating: data_Lungs/train/Healthy/066.jpeg  \n",
            "  inflating: __MACOSX/data_Lungs/train/Healthy/._066.jpeg  \n",
            "  inflating: data_Lungs/train/Healthy/070.jpeg  \n",
            "  inflating: __MACOSX/data_Lungs/train/Healthy/._070.jpeg  \n",
            "  inflating: data_Lungs/train/Healthy/071.jpeg  \n",
            "  inflating: __MACOSX/data_Lungs/train/Healthy/._071.jpeg  \n",
            "  inflating: data_Lungs/train/Healthy/067.jpeg  \n",
            "  inflating: __MACOSX/data_Lungs/train/Healthy/._067.jpeg  \n",
            "  inflating: data_Lungs/train/Healthy/088.jpeg  \n",
            "  inflating: __MACOSX/data_Lungs/train/Healthy/._088.jpeg  \n",
            "  inflating: data_Lungs/train/Healthy/01.jpeg  \n",
            "  inflating: __MACOSX/data_Lungs/train/Healthy/._01.jpeg  \n",
            "  inflating: data_Lungs/train/Healthy/092.jpeg  \n",
            "  inflating: __MACOSX/data_Lungs/train/Healthy/._092.jpeg  \n",
            "  inflating: data_Lungs/train/Healthy/084.jpeg  \n",
            "  inflating: __MACOSX/data_Lungs/train/Healthy/._084.jpeg  \n",
            "  inflating: data_Lungs/train/Healthy/010.jpeg  \n",
            "  inflating: __MACOSX/data_Lungs/train/Healthy/._010.jpeg  \n",
            "  inflating: data_Lungs/train/Healthy/051.jpeg  \n",
            "  inflating: __MACOSX/data_Lungs/train/Healthy/._051.jpeg  \n",
            "  inflating: data_Lungs/train/Healthy/091.jpeg  \n",
            "  inflating: __MACOSX/data_Lungs/train/Healthy/._091.jpeg  \n",
            "  inflating: data_Lungs/train/Healthy/087.jpeg  \n",
            "  inflating: __MACOSX/data_Lungs/train/Healthy/._087.jpeg  \n",
            "  inflating: data_Lungs/train/Healthy/068.jpeg  \n",
            "  inflating: __MACOSX/data_Lungs/train/Healthy/._068.jpeg  \n",
            "  inflating: data_Lungs/train/Healthy/013.jpeg  \n",
            "  inflating: __MACOSX/data_Lungs/train/Healthy/._013.jpeg  \n",
            "  inflating: data_Lungs/train/Healthy/052.jpeg  \n",
            "  inflating: __MACOSX/data_Lungs/train/Healthy/._052.jpeg  \n",
            "  inflating: data_Lungs/train/Healthy/025.jpeg  \n",
            "  inflating: __MACOSX/data_Lungs/train/Healthy/._025.jpeg  \n",
            "  inflating: data_Lungs/train/Healthy/072.jpeg  \n",
            "  inflating: __MACOSX/data_Lungs/train/Healthy/._072.jpeg  \n",
            "  inflating: data_Lungs/train/Healthy/064.jpeg  \n",
            "  inflating: __MACOSX/data_Lungs/train/Healthy/._064.jpeg  \n",
            "  inflating: data_Lungs/train/Healthy/02.jpeg  \n",
            "  inflating: __MACOSX/data_Lungs/train/Healthy/._02.jpeg  \n",
            "  inflating: data_Lungs/train/Healthy/03.jpeg  \n",
            "  inflating: __MACOSX/data_Lungs/train/Healthy/._03.jpeg  \n",
            "  inflating: data_Lungs/train/Healthy/065.jpeg  \n",
            "  inflating: __MACOSX/data_Lungs/train/Healthy/._065.jpeg  \n",
            "  inflating: data_Lungs/train/Healthy/073.jpeg  \n",
            "  inflating: __MACOSX/data_Lungs/train/Healthy/._073.jpeg  \n",
            "  inflating: data_Lungs/train/Healthy/024.jpeg  \n",
            "  inflating: __MACOSX/data_Lungs/train/Healthy/._024.jpeg  \n",
            "  inflating: data_Lungs/train/Healthy/053.jpeg  \n",
            "  inflating: __MACOSX/data_Lungs/train/Healthy/._053.jpeg  \n",
            "  inflating: data_Lungs/train/Healthy/012.jpeg  \n",
            "  inflating: __MACOSX/data_Lungs/train/Healthy/._012.jpeg  \n",
            "  inflating: data_Lungs/train/Healthy/086.jpeg  \n",
            "  inflating: __MACOSX/data_Lungs/train/Healthy/._086.jpeg  \n",
            "  inflating: data_Lungs/train/Healthy/069.jpeg  \n",
            "  inflating: __MACOSX/data_Lungs/train/Healthy/._069.jpeg  \n",
            "  inflating: data_Lungs/train/Healthy/023.jpeg  \n",
            "  inflating: __MACOSX/data_Lungs/train/Healthy/._023.jpeg  \n",
            "  inflating: data_Lungs/train/Healthy/074.jpeg  \n",
            "  inflating: __MACOSX/data_Lungs/train/Healthy/._074.jpeg  \n",
            "  inflating: data_Lungs/train/Healthy/062.jpeg  \n",
            "  inflating: __MACOSX/data_Lungs/train/Healthy/._062.jpeg  \n",
            "  inflating: data_Lungs/train/Healthy/019.jpeg  \n",
            "  inflating: __MACOSX/data_Lungs/train/Healthy/._019.jpeg  \n",
            "  inflating: data_Lungs/train/Healthy/04.jpeg  \n",
            "  inflating: __MACOSX/data_Lungs/train/Healthy/._04.jpeg  \n",
            "  inflating: data_Lungs/train/Healthy/058.jpeg  \n",
            "  inflating: __MACOSX/data_Lungs/train/Healthy/._058.jpeg  \n",
            "  inflating: data_Lungs/train/Healthy/097.jpeg  \n",
            "  inflating: __MACOSX/data_Lungs/train/Healthy/._097.jpeg  \n",
            "  inflating: data_Lungs/train/Healthy/081.jpeg  \n",
            "  inflating: __MACOSX/data_Lungs/train/Healthy/._081.jpeg  \n",
            "  inflating: data_Lungs/train/Healthy/015.jpeg  \n",
            "  inflating: __MACOSX/data_Lungs/train/Healthy/._015.jpeg  \n",
            "  inflating: data_Lungs/train/Healthy/08.jpeg  \n",
            "  inflating: __MACOSX/data_Lungs/train/Healthy/._08.jpeg  \n",
            "  inflating: data_Lungs/train/Healthy/054.jpeg  \n",
            "  inflating: __MACOSX/data_Lungs/train/Healthy/._054.jpeg  \n",
            "  inflating: data_Lungs/train/Healthy/055.jpeg  \n",
            "  inflating: __MACOSX/data_Lungs/train/Healthy/._055.jpeg  \n",
            "  inflating: data_Lungs/train/Healthy/014.jpeg  \n",
            "  inflating: __MACOSX/data_Lungs/train/Healthy/._014.jpeg  \n",
            "  inflating: data_Lungs/train/Healthy/09.jpeg  \n",
            "  inflating: __MACOSX/data_Lungs/train/Healthy/._09.jpeg  \n",
            "  inflating: data_Lungs/train/Healthy/080.jpeg  \n",
            "  inflating: __MACOSX/data_Lungs/train/Healthy/._080.jpeg  \n",
            "  inflating: data_Lungs/train/Healthy/096.jpeg  \n",
            "  inflating: __MACOSX/data_Lungs/train/Healthy/._096.jpeg  \n",
            "  inflating: data_Lungs/train/Healthy/079.jpeg  \n",
            "  inflating: __MACOSX/data_Lungs/train/Healthy/._079.jpeg  \n",
            "  inflating: data_Lungs/train/Healthy/059.jpeg  \n",
            "  inflating: __MACOSX/data_Lungs/train/Healthy/._059.jpeg  \n",
            "  inflating: data_Lungs/train/Healthy/018.jpeg  \n",
            "  inflating: __MACOSX/data_Lungs/train/Healthy/._018.jpeg  \n",
            "  inflating: data_Lungs/train/Healthy/05.jpeg  \n",
            "  inflating: __MACOSX/data_Lungs/train/Healthy/._05.jpeg  \n",
            "  inflating: data_Lungs/train/Healthy/063.jpeg  \n",
            "  inflating: __MACOSX/data_Lungs/train/Healthy/._063.jpeg  \n",
            "  inflating: data_Lungs/train/Healthy/075.jpeg  \n",
            "  inflating: __MACOSX/data_Lungs/train/Healthy/._075.jpeg  \n",
            "  inflating: data_Lungs/train/Healthy/022.jpeg  \n",
            "  inflating: __MACOSX/data_Lungs/train/Healthy/._022.jpeg  \n",
            "  inflating: data_Lungs/train/Type 2 disease/06.jpeg  \n",
            "  inflating: __MACOSX/data_Lungs/train/Type 2 disease/._06.jpeg  \n",
            "  inflating: data_Lungs/train/Type 2 disease/037.jpeg  \n",
            "  inflating: __MACOSX/data_Lungs/train/Type 2 disease/._037.jpeg  \n",
            "  inflating: data_Lungs/train/Type 2 disease/076.jpeg  \n",
            "  inflating: __MACOSX/data_Lungs/train/Type 2 disease/._076.jpeg  \n",
            "  inflating: data_Lungs/train/Type 2 disease/021.jpeg  \n",
            "  inflating: __MACOSX/data_Lungs/train/Type 2 disease/._021.jpeg  \n",
            "  inflating: data_Lungs/train/Type 2 disease/056.jpeg  \n",
            "  inflating: __MACOSX/data_Lungs/train/Type 2 disease/._056.jpeg  \n",
            "  inflating: data_Lungs/train/Type 2 disease/083.jpeg  \n",
            "  inflating: __MACOSX/data_Lungs/train/Type 2 disease/._083.jpeg  \n",
            "  inflating: data_Lungs/train/Type 2 disease/095.jpeg  \n",
            "  inflating: __MACOSX/data_Lungs/train/Type 2 disease/._095.jpeg  \n",
            "  inflating: data_Lungs/train/Type 2 disease/094.jpeg  \n",
            "  inflating: __MACOSX/data_Lungs/train/Type 2 disease/._094.jpeg  \n",
            "  inflating: data_Lungs/train/Type 2 disease/082.jpeg  \n",
            "  inflating: __MACOSX/data_Lungs/train/Type 2 disease/._082.jpeg  \n",
            "  inflating: data_Lungs/train/Type 2 disease/041.jpeg  \n",
            "  inflating: __MACOSX/data_Lungs/train/Type 2 disease/._041.jpeg  \n",
            "  inflating: data_Lungs/train/Type 2 disease/016.jpeg  \n",
            "  inflating: __MACOSX/data_Lungs/train/Type 2 disease/._016.jpeg  \n",
            "  inflating: data_Lungs/train/Type 2 disease/057.jpeg  \n",
            "  inflating: __MACOSX/data_Lungs/train/Type 2 disease/._057.jpeg  \n",
            "  inflating: data_Lungs/train/Type 2 disease/020.jpeg  \n",
            "  inflating: __MACOSX/data_Lungs/train/Type 2 disease/._020.jpeg  \n",
            "  inflating: data_Lungs/train/Type 2 disease/077.jpeg  \n",
            "  inflating: __MACOSX/data_Lungs/train/Type 2 disease/._077.jpeg  \n",
            "  inflating: data_Lungs/train/Type 2 disease/061.jpeg  \n",
            "  inflating: __MACOSX/data_Lungs/train/Type 2 disease/._061.jpeg  \n",
            "  inflating: data_Lungs/train/Type 2 disease/036.jpeg  \n",
            "  inflating: __MACOSX/data_Lungs/train/Type 2 disease/._036.jpeg  \n",
            "  inflating: data_Lungs/train/Type 2 disease/07.jpeg  \n",
            "  inflating: __MACOSX/data_Lungs/train/Type 2 disease/._07.jpeg  \n",
            "  inflating: data_Lungs/train/Type 2 disease/011.jpeg  \n",
            "  inflating: __MACOSX/data_Lungs/train/Type 2 disease/._011.jpeg  \n",
            "  inflating: data_Lungs/train/Type 2 disease/046.jpeg  \n",
            "  inflating: __MACOSX/data_Lungs/train/Type 2 disease/._046.jpeg  \n",
            "  inflating: data_Lungs/train/Type 2 disease/031.jpeg  \n",
            "  inflating: __MACOSX/data_Lungs/train/Type 2 disease/._031.jpeg  \n",
            "  inflating: data_Lungs/train/Type 2 disease/066.jpeg  \n",
            "  inflating: __MACOSX/data_Lungs/train/Type 2 disease/._066.jpeg  \n",
            "  inflating: data_Lungs/train/Type 2 disease/027.jpeg  \n",
            "  inflating: __MACOSX/data_Lungs/train/Type 2 disease/._027.jpeg  \n",
            "  inflating: data_Lungs/train/Type 2 disease/071.jpeg  \n",
            "  inflating: __MACOSX/data_Lungs/train/Type 2 disease/._071.jpeg  \n",
            "  inflating: data_Lungs/train/Type 2 disease/067.jpeg  \n",
            "  inflating: __MACOSX/data_Lungs/train/Type 2 disease/._067.jpeg  \n",
            "  inflating: data_Lungs/train/Type 2 disease/01.jpeg  \n",
            "  inflating: __MACOSX/data_Lungs/train/Type 2 disease/._01.jpeg  \n",
            "  inflating: data_Lungs/train/Type 2 disease/084.jpeg  \n",
            "  inflating: __MACOSX/data_Lungs/train/Type 2 disease/._084.jpeg  \n",
            "  inflating: data_Lungs/train/Type 2 disease/047.jpeg  \n",
            "  inflating: __MACOSX/data_Lungs/train/Type 2 disease/._047.jpeg  \n",
            "  inflating: data_Lungs/train/Type 2 disease/010.jpeg  \n",
            "  inflating: __MACOSX/data_Lungs/train/Type 2 disease/._010.jpeg  \n",
            "  inflating: data_Lungs/train/Type 2 disease/051.jpeg  \n",
            "  inflating: __MACOSX/data_Lungs/train/Type 2 disease/._051.jpeg  \n",
            "  inflating: data_Lungs/train/Type 2 disease/068.jpeg  \n",
            "  inflating: __MACOSX/data_Lungs/train/Type 2 disease/._068.jpeg  \n",
            "  inflating: data_Lungs/train/Type 2 disease/044.jpeg  \n",
            "  inflating: __MACOSX/data_Lungs/train/Type 2 disease/._044.jpeg  \n",
            "  inflating: data_Lungs/train/Type 2 disease/013.jpeg  \n",
            "  inflating: __MACOSX/data_Lungs/train/Type 2 disease/._013.jpeg  \n",
            "  inflating: data_Lungs/train/Type 2 disease/052.jpeg  \n",
            "  inflating: __MACOSX/data_Lungs/train/Type 2 disease/._052.jpeg  \n",
            "  inflating: data_Lungs/train/Type 2 disease/025.jpeg  \n",
            "  inflating: __MACOSX/data_Lungs/train/Type 2 disease/._025.jpeg  \n",
            "  inflating: data_Lungs/train/Type 2 disease/072.jpeg  \n",
            "  inflating: __MACOSX/data_Lungs/train/Type 2 disease/._072.jpeg  \n",
            "  inflating: data_Lungs/train/Type 2 disease/064.jpeg  \n",
            "  inflating: __MACOSX/data_Lungs/train/Type 2 disease/._064.jpeg  \n",
            "  inflating: data_Lungs/train/Type 2 disease/033.jpeg  \n",
            "  inflating: __MACOSX/data_Lungs/train/Type 2 disease/._033.jpeg  \n",
            "  inflating: data_Lungs/train/Type 2 disease/048.jpeg  \n",
            "  inflating: __MACOSX/data_Lungs/train/Type 2 disease/._048.jpeg  \n",
            "  inflating: data_Lungs/train/Type 2 disease/02.jpeg  \n",
            "  inflating: __MACOSX/data_Lungs/train/Type 2 disease/._02.jpeg  \n",
            "  inflating: data_Lungs/train/Type 2 disease/03.jpeg  \n",
            "  inflating: __MACOSX/data_Lungs/train/Type 2 disease/._03.jpeg  \n",
            "  inflating: data_Lungs/train/Type 2 disease/032.jpeg  \n",
            "  inflating: __MACOSX/data_Lungs/train/Type 2 disease/._032.jpeg  \n",
            "  inflating: data_Lungs/train/Type 2 disease/065.jpeg  \n",
            "  inflating: __MACOSX/data_Lungs/train/Type 2 disease/._065.jpeg  \n",
            "  inflating: data_Lungs/train/Type 2 disease/073.jpeg  \n",
            "  inflating: __MACOSX/data_Lungs/train/Type 2 disease/._073.jpeg  \n",
            "  inflating: data_Lungs/train/Type 2 disease/024.jpeg  \n",
            "  inflating: __MACOSX/data_Lungs/train/Type 2 disease/._024.jpeg  \n",
            "  inflating: data_Lungs/train/Type 2 disease/053.jpeg  \n",
            "  inflating: __MACOSX/data_Lungs/train/Type 2 disease/._053.jpeg  \n",
            "  inflating: data_Lungs/train/Type 2 disease/012.jpeg  \n",
            "  inflating: __MACOSX/data_Lungs/train/Type 2 disease/._012.jpeg  \n",
            "  inflating: data_Lungs/train/Type 2 disease/045.jpeg  \n",
            "  inflating: __MACOSX/data_Lungs/train/Type 2 disease/._045.jpeg  \n",
            "  inflating: data_Lungs/train/Type 2 disease/023.jpeg  \n",
            "  inflating: __MACOSX/data_Lungs/train/Type 2 disease/._023.jpeg  \n",
            "  inflating: data_Lungs/train/Type 2 disease/074.jpeg  \n",
            "  inflating: __MACOSX/data_Lungs/train/Type 2 disease/._074.jpeg  \n",
            "  inflating: data_Lungs/train/Type 2 disease/062.jpeg  \n",
            "  inflating: __MACOSX/data_Lungs/train/Type 2 disease/._062.jpeg  \n",
            "  inflating: data_Lungs/train/Type 2 disease/035.jpeg  \n",
            "  inflating: __MACOSX/data_Lungs/train/Type 2 disease/._035.jpeg  \n",
            "  inflating: data_Lungs/train/Type 2 disease/019.jpeg  \n",
            "  inflating: __MACOSX/data_Lungs/train/Type 2 disease/._019.jpeg  \n",
            "  inflating: data_Lungs/train/Type 2 disease/04.jpeg  \n",
            "  inflating: __MACOSX/data_Lungs/train/Type 2 disease/._04.jpeg  \n",
            "  inflating: data_Lungs/train/Type 2 disease/058.jpeg  \n",
            "  inflating: __MACOSX/data_Lungs/train/Type 2 disease/._058.jpeg  \n",
            "  inflating: data_Lungs/train/Type 2 disease/078.jpeg  \n",
            "  inflating: __MACOSX/data_Lungs/train/Type 2 disease/._078.jpeg  \n",
            "  inflating: data_Lungs/train/Type 2 disease/081.jpeg  \n",
            "  inflating: __MACOSX/data_Lungs/train/Type 2 disease/._081.jpeg  \n",
            "  inflating: data_Lungs/train/Type 2 disease/042.jpeg  \n",
            "  inflating: __MACOSX/data_Lungs/train/Type 2 disease/._042.jpeg  \n",
            "  inflating: data_Lungs/train/Type 2 disease/08.jpeg  \n",
            "  inflating: __MACOSX/data_Lungs/train/Type 2 disease/._08.jpeg  \n",
            "  inflating: data_Lungs/train/Type 2 disease/054.jpeg  \n",
            "  inflating: __MACOSX/data_Lungs/train/Type 2 disease/._054.jpeg  \n",
            "  inflating: data_Lungs/train/Type 2 disease/055.jpeg  \n",
            "  inflating: __MACOSX/data_Lungs/train/Type 2 disease/._055.jpeg  \n",
            "  inflating: data_Lungs/train/Type 2 disease/09.jpeg  \n",
            "  inflating: __MACOSX/data_Lungs/train/Type 2 disease/._09.jpeg  \n",
            "  inflating: data_Lungs/train/Type 2 disease/043.jpeg  \n",
            "  inflating: __MACOSX/data_Lungs/train/Type 2 disease/._043.jpeg  \n",
            "  inflating: data_Lungs/train/Type 2 disease/038.jpeg  \n",
            "  inflating: __MACOSX/data_Lungs/train/Type 2 disease/._038.jpeg  \n",
            "  inflating: data_Lungs/train/Type 2 disease/096.jpeg  \n",
            "  inflating: __MACOSX/data_Lungs/train/Type 2 disease/._096.jpeg  \n",
            "  inflating: data_Lungs/train/Type 2 disease/018.jpeg  \n",
            "  inflating: __MACOSX/data_Lungs/train/Type 2 disease/._018.jpeg  \n",
            "  inflating: data_Lungs/train/Type 2 disease/05.jpeg  \n",
            "  inflating: __MACOSX/data_Lungs/train/Type 2 disease/._05.jpeg  \n",
            "  inflating: data_Lungs/train/Type 2 disease/034.jpeg  \n",
            "  inflating: __MACOSX/data_Lungs/train/Type 2 disease/._034.jpeg  \n",
            "  inflating: data_Lungs/train/Type 2 disease/063.jpeg  \n",
            "  inflating: __MACOSX/data_Lungs/train/Type 2 disease/._063.jpeg  \n",
            "  inflating: data_Lungs/train/Type 2 disease/075.jpeg  \n",
            "  inflating: __MACOSX/data_Lungs/train/Type 2 disease/._075.jpeg  \n",
            "  inflating: data_Lungs/train/Type 2 disease/022.jpeg  \n",
            "  inflating: __MACOSX/data_Lungs/train/Type 2 disease/._022.jpeg  \n"
          ]
        }
      ],
      "source": [
        "#For Colab users, once the zip file is uploaded, extract the same\n",
        "! unzip data_Lungs.zip"
      ]
    },
    {
      "cell_type": "code",
      "execution_count": 23,
      "metadata": {
        "id": "q0Dlmdm-Xtu5"
      },
      "outputs": [],
      "source": [
        "import tensorflow as tf"
      ]
    },
    {
      "cell_type": "code",
      "execution_count": 24,
      "metadata": {
        "id": "W_bohmI5XwmY"
      },
      "outputs": [],
      "source": [
        "#Preprocessing --- Goal to make the data compatible for CNN input\n",
        "# In tensorflow, you can achieve the same using ImageGenerators\n",
        "\n",
        "\n",
        "train_generator = tf.keras.preprocessing.image.ImageDataGenerator(rescale= 1.0/255.)\n",
        "test_generator = tf.keras.preprocessing.image.ImageDataGenerator(rescale= 1.0/255.)"
      ]
    },
    {
      "cell_type": "code",
      "execution_count": 25,
      "metadata": {
        "colab": {
          "base_uri": "https://localhost:8080/"
        },
        "id": "VzBnyzGRYJ5y",
        "outputId": "413a1d8c-cfa2-4211-efa8-f79a8db889d1"
      },
      "outputs": [
        {
          "output_type": "stream",
          "name": "stdout",
          "text": [
            "Found 251 images belonging to 3 classes.\n",
            "Found 66 images belonging to 3 classes.\n"
          ]
        }
      ],
      "source": [
        "#Pass the images through the generator\n",
        "\n",
        "trainImageData = train_generator.flow_from_directory(\"data_Lungs/train/\",\n",
        "                                                     batch_size=32, #how much images to give per iteration in an epoch\n",
        "                                                     class_mode=\"categorical\", #Incase of multi-class classification, \"categorical\"\n",
        "                                                     target_size=(48,48) #Ensures all images are of same size (resizing)\n",
        "                                                     ) \n",
        "\n",
        "\n",
        "testImageData = train_generator.flow_from_directory(\"data_Lungs/test/\",\n",
        "                                                     batch_size=32, #how much images to give per iteration in an epoch\n",
        "                                                     class_mode=\"categorical\", #Incase of multi-class classification, \"categorical\"\n",
        "                                                     target_size=(48,48) #Ensures all images are of same size (resizing)\n",
        "                                                     ) "
      ]
    },
    {
      "cell_type": "code",
      "execution_count": 26,
      "metadata": {
        "colab": {
          "base_uri": "https://localhost:8080/"
        },
        "id": "tlR6lcjbaCX-",
        "outputId": "1472f1cd-a737-4ab0-d0e8-de8730d76555"
      },
      "outputs": [
        {
          "output_type": "execute_result",
          "data": {
            "text/plain": [
              "{'Healthy': 0, 'Type 1 disease': 1, 'Type 2 disease': 2}"
            ]
          },
          "metadata": {},
          "execution_count": 26
        }
      ],
      "source": [
        "#Given dataset is a balanced dataset !!!\n",
        "\n",
        "trainImageData.class_indices"
      ]
    },
    {
      "cell_type": "code",
      "execution_count": 27,
      "metadata": {
        "colab": {
          "base_uri": "https://localhost:8080/"
        },
        "id": "a1swbKaudtHp",
        "outputId": "1f961d4d-55b2-431a-8ec3-047e5c786720"
      },
      "outputs": [
        {
          "output_type": "execute_result",
          "data": {
            "text/plain": [
              "['Healthy/01.jpeg',\n",
              " 'Healthy/010.jpeg',\n",
              " 'Healthy/011.jpeg',\n",
              " 'Healthy/012.jpeg',\n",
              " 'Healthy/013.jpeg',\n",
              " 'Healthy/014.jpeg',\n",
              " 'Healthy/015.jpeg',\n",
              " 'Healthy/016.jpeg',\n",
              " 'Healthy/017.jpeg',\n",
              " 'Healthy/018.jpeg',\n",
              " 'Healthy/019.jpeg',\n",
              " 'Healthy/02.jpeg',\n",
              " 'Healthy/020.jpeg',\n",
              " 'Healthy/021.jpeg',\n",
              " 'Healthy/022.jpeg',\n",
              " 'Healthy/023.jpeg',\n",
              " 'Healthy/024.jpeg',\n",
              " 'Healthy/025.jpeg',\n",
              " 'Healthy/03.jpeg',\n",
              " 'Healthy/04.jpeg',\n",
              " 'Healthy/05.jpeg',\n",
              " 'Healthy/050.jpeg',\n",
              " 'Healthy/051.jpeg',\n",
              " 'Healthy/052.jpeg',\n",
              " 'Healthy/053.jpeg',\n",
              " 'Healthy/054.jpeg',\n",
              " 'Healthy/055.jpeg',\n",
              " 'Healthy/056.jpeg',\n",
              " 'Healthy/057.jpeg',\n",
              " 'Healthy/058.jpeg',\n",
              " 'Healthy/059.jpeg',\n",
              " 'Healthy/06.jpeg',\n",
              " 'Healthy/060.jpeg',\n",
              " 'Healthy/061.jpeg',\n",
              " 'Healthy/062.jpeg',\n",
              " 'Healthy/063.jpeg',\n",
              " 'Healthy/064.jpeg',\n",
              " 'Healthy/065.jpeg',\n",
              " 'Healthy/066.jpeg',\n",
              " 'Healthy/067.jpeg',\n",
              " 'Healthy/068.jpeg',\n",
              " 'Healthy/069.jpeg',\n",
              " 'Healthy/07.jpeg',\n",
              " 'Healthy/070.jpeg',\n",
              " 'Healthy/071.jpeg',\n",
              " 'Healthy/072.jpeg',\n",
              " 'Healthy/073.jpeg',\n",
              " 'Healthy/074.jpeg',\n",
              " 'Healthy/075.jpeg',\n",
              " 'Healthy/076.jpeg',\n",
              " 'Healthy/077.jpeg',\n",
              " 'Healthy/079.jpeg',\n",
              " 'Healthy/08.jpeg',\n",
              " 'Healthy/080.jpeg',\n",
              " 'Healthy/081.jpeg',\n",
              " 'Healthy/082.jpeg',\n",
              " 'Healthy/083.jpeg',\n",
              " 'Healthy/084.jpeg',\n",
              " 'Healthy/085.jpeg',\n",
              " 'Healthy/086.jpeg',\n",
              " 'Healthy/087.jpeg',\n",
              " 'Healthy/088.jpeg',\n",
              " 'Healthy/09.jpeg',\n",
              " 'Healthy/091.jpeg',\n",
              " 'Healthy/092.jpeg',\n",
              " 'Healthy/093.jpeg',\n",
              " 'Healthy/094.jpeg',\n",
              " 'Healthy/095.jpeg',\n",
              " 'Healthy/096.jpeg',\n",
              " 'Healthy/097.jpeg',\n",
              " 'Type 1 disease/01.jpeg',\n",
              " 'Type 1 disease/010.png',\n",
              " 'Type 1 disease/012.jpeg',\n",
              " 'Type 1 disease/015.jpg',\n",
              " 'Type 1 disease/019.png',\n",
              " 'Type 1 disease/02.jpeg',\n",
              " 'Type 1 disease/020.jpg',\n",
              " 'Type 1 disease/021.jpeg',\n",
              " 'Type 1 disease/022.jpeg',\n",
              " 'Type 1 disease/024.jpeg',\n",
              " 'Type 1 disease/025.jpeg',\n",
              " 'Type 1 disease/026.jpeg',\n",
              " 'Type 1 disease/027.jpeg',\n",
              " 'Type 1 disease/03.jpeg',\n",
              " 'Type 1 disease/031.jpeg',\n",
              " 'Type 1 disease/032.jpeg',\n",
              " 'Type 1 disease/033.png',\n",
              " 'Type 1 disease/039.jpeg',\n",
              " 'Type 1 disease/04.png',\n",
              " 'Type 1 disease/040.jpeg',\n",
              " 'Type 1 disease/041.jpeg',\n",
              " 'Type 1 disease/042.jpeg',\n",
              " 'Type 1 disease/043.jpeg',\n",
              " 'Type 1 disease/044.jpeg',\n",
              " 'Type 1 disease/045.jpeg',\n",
              " 'Type 1 disease/046.jpeg',\n",
              " 'Type 1 disease/047.jpeg',\n",
              " 'Type 1 disease/048.jpeg',\n",
              " 'Type 1 disease/049.jpeg',\n",
              " 'Type 1 disease/050.jpeg',\n",
              " 'Type 1 disease/051.jpeg',\n",
              " 'Type 1 disease/052.jpeg',\n",
              " 'Type 1 disease/053.jpeg',\n",
              " 'Type 1 disease/054.jpeg',\n",
              " 'Type 1 disease/055.jpeg',\n",
              " 'Type 1 disease/056.jpg',\n",
              " 'Type 1 disease/057.jpeg',\n",
              " 'Type 1 disease/058.jpeg',\n",
              " 'Type 1 disease/059.jpeg',\n",
              " 'Type 1 disease/06.jpeg',\n",
              " 'Type 1 disease/060.jpeg',\n",
              " 'Type 1 disease/061.jpg',\n",
              " 'Type 1 disease/062.jpeg',\n",
              " 'Type 1 disease/064.jpg',\n",
              " 'Type 1 disease/065.jpeg',\n",
              " 'Type 1 disease/067.jpg',\n",
              " 'Type 1 disease/068.jpg',\n",
              " 'Type 1 disease/069.jpg',\n",
              " 'Type 1 disease/07.jpg',\n",
              " 'Type 1 disease/071.jpg',\n",
              " 'Type 1 disease/072.jpeg',\n",
              " 'Type 1 disease/073.jpg',\n",
              " 'Type 1 disease/074.jpg',\n",
              " 'Type 1 disease/076.jpg',\n",
              " 'Type 1 disease/078.jpeg',\n",
              " 'Type 1 disease/079.jpeg',\n",
              " 'Type 1 disease/08.jpeg',\n",
              " 'Type 1 disease/080.jpg',\n",
              " 'Type 1 disease/081.jpeg',\n",
              " 'Type 1 disease/082.jpg',\n",
              " 'Type 1 disease/083.jpeg',\n",
              " 'Type 1 disease/084.jpeg',\n",
              " 'Type 1 disease/085.jpeg',\n",
              " 'Type 1 disease/086.jpg',\n",
              " 'Type 1 disease/088.jpeg',\n",
              " 'Type 1 disease/089.jpg',\n",
              " 'Type 1 disease/09.png',\n",
              " 'Type 1 disease/090.jpeg',\n",
              " 'Type 1 disease/091.jpg',\n",
              " 'Type 1 disease/092.png',\n",
              " 'Type 1 disease/COVID-00001.jpg',\n",
              " 'Type 1 disease/COVID-00002.jpg',\n",
              " 'Type 1 disease/COVID-00003a.jpg',\n",
              " 'Type 1 disease/COVID-00003b.jpg',\n",
              " 'Type 1 disease/COVID-00004.jpg',\n",
              " 'Type 1 disease/COVID-00005.jpg',\n",
              " 'Type 1 disease/COVID-00006.jpg',\n",
              " 'Type 1 disease/COVID-00007.jpg',\n",
              " 'Type 1 disease/COVID-00008.jpg',\n",
              " 'Type 1 disease/COVID-00009.jpg',\n",
              " 'Type 1 disease/COVID-00010.jpg',\n",
              " 'Type 1 disease/COVID-00011.jpg',\n",
              " 'Type 1 disease/COVID-00012.jpg',\n",
              " 'Type 1 disease/COVID-00013a.jpg',\n",
              " 'Type 1 disease/COVID-00013b.jpg',\n",
              " 'Type 1 disease/COVID-00014.jpg',\n",
              " 'Type 1 disease/COVID-00015a.png',\n",
              " 'Type 1 disease/COVID-00015b.png',\n",
              " 'Type 1 disease/COVID-00016.jpg',\n",
              " 'Type 1 disease/COVID-00017.jpg',\n",
              " 'Type 1 disease/COVID-00018.jpg',\n",
              " 'Type 1 disease/COVID-00019.jpg',\n",
              " 'Type 1 disease/COVID-00020.jpg',\n",
              " 'Type 1 disease/COVID-00021.jpg',\n",
              " 'Type 1 disease/COVID-00022.jpg',\n",
              " 'Type 1 disease/COVID-00023.jpg',\n",
              " 'Type 1 disease/COVID-00024.jpg',\n",
              " 'Type 1 disease/COVID-00025.jpg',\n",
              " 'Type 1 disease/COVID-00026.jpg',\n",
              " 'Type 1 disease/COVID-00027.jpg',\n",
              " 'Type 1 disease/COVID-00028.jpg',\n",
              " 'Type 1 disease/COVID-00029.jpg',\n",
              " 'Type 1 disease/COVID-00030.jpg',\n",
              " 'Type 1 disease/COVID-00031.jpg',\n",
              " 'Type 1 disease/COVID-00032.jpg',\n",
              " 'Type 1 disease/COVID-00033.jpg',\n",
              " 'Type 1 disease/COVID-00034.jpg',\n",
              " 'Type 1 disease/COVID-00035.jpg',\n",
              " 'Type 1 disease/COVID-00036.jpg',\n",
              " 'Type 1 disease/COVID-00037.jpg',\n",
              " 'Type 1 disease/COVID-00038.jpg',\n",
              " 'Type 2 disease/01.jpeg',\n",
              " 'Type 2 disease/010.jpeg',\n",
              " 'Type 2 disease/011.jpeg',\n",
              " 'Type 2 disease/012.jpeg',\n",
              " 'Type 2 disease/013.jpeg',\n",
              " 'Type 2 disease/016.jpeg',\n",
              " 'Type 2 disease/018.jpeg',\n",
              " 'Type 2 disease/019.jpeg',\n",
              " 'Type 2 disease/02.jpeg',\n",
              " 'Type 2 disease/020.jpeg',\n",
              " 'Type 2 disease/021.jpeg',\n",
              " 'Type 2 disease/022.jpeg',\n",
              " 'Type 2 disease/023.jpeg',\n",
              " 'Type 2 disease/024.jpeg',\n",
              " 'Type 2 disease/025.jpeg',\n",
              " 'Type 2 disease/027.jpeg',\n",
              " 'Type 2 disease/03.jpeg',\n",
              " 'Type 2 disease/031.jpeg',\n",
              " 'Type 2 disease/032.jpeg',\n",
              " 'Type 2 disease/033.jpeg',\n",
              " 'Type 2 disease/034.jpeg',\n",
              " 'Type 2 disease/035.jpeg',\n",
              " 'Type 2 disease/036.jpeg',\n",
              " 'Type 2 disease/037.jpeg',\n",
              " 'Type 2 disease/038.jpeg',\n",
              " 'Type 2 disease/04.jpeg',\n",
              " 'Type 2 disease/041.jpeg',\n",
              " 'Type 2 disease/042.jpeg',\n",
              " 'Type 2 disease/043.jpeg',\n",
              " 'Type 2 disease/044.jpeg',\n",
              " 'Type 2 disease/045.jpeg',\n",
              " 'Type 2 disease/046.jpeg',\n",
              " 'Type 2 disease/047.jpeg',\n",
              " 'Type 2 disease/048.jpeg',\n",
              " 'Type 2 disease/05.jpeg',\n",
              " 'Type 2 disease/051.jpeg',\n",
              " 'Type 2 disease/052.jpeg',\n",
              " 'Type 2 disease/053.jpeg',\n",
              " 'Type 2 disease/054.jpeg',\n",
              " 'Type 2 disease/055.jpeg',\n",
              " 'Type 2 disease/056.jpeg',\n",
              " 'Type 2 disease/057.jpeg',\n",
              " 'Type 2 disease/058.jpeg',\n",
              " 'Type 2 disease/06.jpeg',\n",
              " 'Type 2 disease/061.jpeg',\n",
              " 'Type 2 disease/062.jpeg',\n",
              " 'Type 2 disease/063.jpeg',\n",
              " 'Type 2 disease/064.jpeg',\n",
              " 'Type 2 disease/065.jpeg',\n",
              " 'Type 2 disease/066.jpeg',\n",
              " 'Type 2 disease/067.jpeg',\n",
              " 'Type 2 disease/068.jpeg',\n",
              " 'Type 2 disease/07.jpeg',\n",
              " 'Type 2 disease/071.jpeg',\n",
              " 'Type 2 disease/072.jpeg',\n",
              " 'Type 2 disease/073.jpeg',\n",
              " 'Type 2 disease/074.jpeg',\n",
              " 'Type 2 disease/075.jpeg',\n",
              " 'Type 2 disease/076.jpeg',\n",
              " 'Type 2 disease/077.jpeg',\n",
              " 'Type 2 disease/078.jpeg',\n",
              " 'Type 2 disease/08.jpeg',\n",
              " 'Type 2 disease/081.jpeg',\n",
              " 'Type 2 disease/082.jpeg',\n",
              " 'Type 2 disease/083.jpeg',\n",
              " 'Type 2 disease/084.jpeg',\n",
              " 'Type 2 disease/09.jpeg',\n",
              " 'Type 2 disease/094.jpeg',\n",
              " 'Type 2 disease/095.jpeg',\n",
              " 'Type 2 disease/096.jpeg']"
            ]
          },
          "metadata": {},
          "execution_count": 27
        }
      ],
      "source": [
        "trainImageData.filenames"
      ]
    },
    {
      "cell_type": "code",
      "execution_count": 28,
      "metadata": {
        "colab": {
          "base_uri": "https://localhost:8080/"
        },
        "id": "pd7UnmRNaR9_",
        "outputId": "c07fe0fa-cdc8-4721-9b2d-d411853052f3"
      },
      "outputs": [
        {
          "output_type": "execute_result",
          "data": {
            "text/plain": [
              "(48, 48, 3)"
            ]
          },
          "metadata": {},
          "execution_count": 28
        }
      ],
      "source": [
        "trainImageData.image_shape"
      ]
    },
    {
      "cell_type": "code",
      "execution_count": 29,
      "metadata": {
        "colab": {
          "base_uri": "https://localhost:8080/"
        },
        "id": "ecJ9l4WH0SuP",
        "outputId": "3832882b-e2f0-4890-bae0-5e6fba517196"
      },
      "outputs": [
        {
          "output_type": "stream",
          "name": "stdout",
          "text": [
            "Looking in indexes: https://pypi.org/simple, https://us-python.pkg.dev/colab-wheels/public/simple/\n",
            "Requirement already satisfied: opencv-python in /usr/local/lib/python3.7/dist-packages (4.1.2.30)\n",
            "Requirement already satisfied: numpy>=1.14.5 in /usr/local/lib/python3.7/dist-packages (from opencv-python) (1.21.6)\n"
          ]
        }
      ],
      "source": [
        "!pip install opencv-python"
      ]
    },
    {
      "cell_type": "code",
      "execution_count": 36,
      "metadata": {
        "colab": {
          "base_uri": "https://localhost:8080/",
          "height": 351
        },
        "id": "c-79Loj80SuP",
        "outputId": "f1971aeb-1c1a-41e1-f8d6-8db40feab25e"
      },
      "outputs": [
        {
          "output_type": "error",
          "ename": "AttributeError",
          "evalue": "ignored",
          "traceback": [
            "\u001b[0;31m---------------------------------------------------------------------------\u001b[0m",
            "\u001b[0;31mAttributeError\u001b[0m                            Traceback (most recent call last)",
            "\u001b[0;32m<ipython-input-36-5d843711648b>\u001b[0m in \u001b[0;36m<module>\u001b[0;34m()\u001b[0m\n\u001b[1;32m      3\u001b[0m \u001b[0;32mimport\u001b[0m \u001b[0mnumpy\u001b[0m \u001b[0;32mas\u001b[0m \u001b[0mnp\u001b[0m\u001b[0;34m\u001b[0m\u001b[0;34m\u001b[0m\u001b[0m\n\u001b[1;32m      4\u001b[0m \u001b[0;34m\u001b[0m\u001b[0m\n\u001b[0;32m----> 5\u001b[0;31m \u001b[0mcv2_imshow\u001b[0m\u001b[0;34m(\u001b[0m\u001b[0;34m'./data_Lungs/train/Healthy/01.jpeg'\u001b[0m\u001b[0;34m)\u001b[0m\u001b[0;34m\u001b[0m\u001b[0;34m\u001b[0m\u001b[0m\n\u001b[0m\u001b[1;32m      6\u001b[0m \u001b[0;34m\u001b[0m\u001b[0m\n\u001b[1;32m      7\u001b[0m \u001b[0;32mwhile\u001b[0m \u001b[0;32mTrue\u001b[0m\u001b[0;34m:\u001b[0m\u001b[0;34m\u001b[0m\u001b[0;34m\u001b[0m\u001b[0m\n",
            "\u001b[0;32m/usr/local/lib/python3.7/dist-packages/google/colab/patches/__init__.py\u001b[0m in \u001b[0;36mcv2_imshow\u001b[0;34m(a)\u001b[0m\n\u001b[1;32m     20\u001b[0m       \u001b[0mimage\u001b[0m\u001b[0;34m.\u001b[0m\u001b[0;34m\u001b[0m\u001b[0;34m\u001b[0m\u001b[0m\n\u001b[1;32m     21\u001b[0m   \"\"\"\n\u001b[0;32m---> 22\u001b[0;31m   \u001b[0ma\u001b[0m \u001b[0;34m=\u001b[0m \u001b[0ma\u001b[0m\u001b[0;34m.\u001b[0m\u001b[0mclip\u001b[0m\u001b[0;34m(\u001b[0m\u001b[0;36m0\u001b[0m\u001b[0;34m,\u001b[0m \u001b[0;36m255\u001b[0m\u001b[0;34m)\u001b[0m\u001b[0;34m.\u001b[0m\u001b[0mastype\u001b[0m\u001b[0;34m(\u001b[0m\u001b[0;34m'uint8'\u001b[0m\u001b[0;34m)\u001b[0m\u001b[0;34m\u001b[0m\u001b[0;34m\u001b[0m\u001b[0m\n\u001b[0m\u001b[1;32m     23\u001b[0m   \u001b[0;31m# cv2 stores colors as BGR; convert to RGB\u001b[0m\u001b[0;34m\u001b[0m\u001b[0;34m\u001b[0m\u001b[0;34m\u001b[0m\u001b[0m\n\u001b[1;32m     24\u001b[0m   \u001b[0;32mif\u001b[0m \u001b[0ma\u001b[0m\u001b[0;34m.\u001b[0m\u001b[0mndim\u001b[0m \u001b[0;34m==\u001b[0m \u001b[0;36m3\u001b[0m\u001b[0;34m:\u001b[0m\u001b[0;34m\u001b[0m\u001b[0;34m\u001b[0m\u001b[0m\n",
            "\u001b[0;31mAttributeError\u001b[0m: 'str' object has no attribute 'clip'"
          ]
        }
      ],
      "source": [
        "#import cv2\n",
        "from google.colab.patches import cv2_imshow\n",
        "import numpy as np\n",
        "\n",
        "cv2_imshow('./data_Lungs/train/Healthy/01.jpeg')\n",
        "\n",
        "while True:\n",
        "    k = cv2_imshow.waitKey(0) & 0xFF     \n",
        "    if k == 27: break             # ESC key to exit\n",
        "cv2_imshow.destroyAllWindows()"
      ]
    },
    {
      "cell_type": "code",
      "execution_count": 31,
      "metadata": {
        "id": "2t0yIXPcaf0X"
      },
      "outputs": [],
      "source": [
        "# ARchitect the model\n",
        "\n",
        "model = tf.keras.models.Sequential()\n",
        "\n",
        "#Convolution Layer\n",
        "#================================================================================================================================================\n",
        "#First Convolution Layer\n",
        "\n",
        "#Conv2D(noFeatureMap, kernelShape, inputShape, activation, padding) Here same means add one pad layer\n",
        "\n",
        "model.add(tf.keras.layers.Conv2D(32 , (3,3) , input_shape= trainImageData.image_shape , activation= 'relu' , padding='same' )) #Convolve\n",
        "model.add(tf.keras.layers.MaxPooling2D(pool_size=(2,2))) #Pooling \n",
        "\n",
        "#Second Convolution Layer\n",
        "\n",
        "#Conv2D(noFeatureMap, kernelShape, inputShape, activation, padding) Here same means add one pad layer\n",
        "\n",
        "model.add(tf.keras.layers.Conv2D(16 , (3,3), activation= 'relu' , padding='same' )) #Convolve\n",
        "model.add(tf.keras.layers.MaxPooling2D(pool_size=(2,2))) #Pooling \n",
        "\n",
        "#=================================================================================================================================================\n",
        "# Flatten\n",
        "\n",
        "model.add(tf.keras.layers.Flatten())\n",
        "\n",
        "#=================================================================================================================================================\n",
        "# ANN\n",
        "model.add(tf.keras.layers.Dense(units= 4096 , activation=\"relu\"))\n",
        "model.add(tf.keras.layers.Dropout(0.2))\n",
        "model.add(tf.keras.layers.Dense(units= 1024, activation=\"relu\"))\n",
        "model.add(tf.keras.layers.Dropout(0.2))\n",
        "model.add(tf.keras.layers.Dense(units= 256, activation=\"relu\"))\n",
        "model.add(tf.keras.layers.Dense(units= 3 , activation=\"softmax\"))\n",
        "#model.add(tf.keras.layers.Dense(units= 2 , activation=\"softmax\"))"
      ]
    },
    {
      "cell_type": "code",
      "execution_count": 32,
      "metadata": {
        "colab": {
          "base_uri": "https://localhost:8080/"
        },
        "id": "VIOBc3SMcqGF",
        "outputId": "ba97298c-fdb0-4cc1-a4bb-c5e38d2b7d63"
      },
      "outputs": [
        {
          "output_type": "stream",
          "name": "stdout",
          "text": [
            "Model: \"sequential_1\"\n",
            "_________________________________________________________________\n",
            " Layer (type)                Output Shape              Param #   \n",
            "=================================================================\n",
            " conv2d_2 (Conv2D)           (None, 48, 48, 32)        896       \n",
            "                                                                 \n",
            " max_pooling2d_2 (MaxPooling  (None, 24, 24, 32)       0         \n",
            " 2D)                                                             \n",
            "                                                                 \n",
            " conv2d_3 (Conv2D)           (None, 24, 24, 16)        4624      \n",
            "                                                                 \n",
            " max_pooling2d_3 (MaxPooling  (None, 12, 12, 16)       0         \n",
            " 2D)                                                             \n",
            "                                                                 \n",
            " flatten_1 (Flatten)         (None, 2304)              0         \n",
            "                                                                 \n",
            " dense_4 (Dense)             (None, 4096)              9441280   \n",
            "                                                                 \n",
            " dropout_2 (Dropout)         (None, 4096)              0         \n",
            "                                                                 \n",
            " dense_5 (Dense)             (None, 1024)              4195328   \n",
            "                                                                 \n",
            " dropout_3 (Dropout)         (None, 1024)              0         \n",
            "                                                                 \n",
            " dense_6 (Dense)             (None, 256)               262400    \n",
            "                                                                 \n",
            " dense_7 (Dense)             (None, 3)                 771       \n",
            "                                                                 \n",
            "=================================================================\n",
            "Total params: 13,905,299\n",
            "Trainable params: 13,905,299\n",
            "Non-trainable params: 0\n",
            "_________________________________________________________________\n"
          ]
        }
      ],
      "source": [
        "model.summary()"
      ]
    },
    {
      "cell_type": "code",
      "execution_count": 33,
      "metadata": {
        "id": "V4Ke7NhBc1A4"
      },
      "outputs": [],
      "source": [
        "#Compile\n",
        "\n",
        "model.compile(optimizer=\"rmsprop\",\n",
        "              loss=\"categorical_crossentropy\", #For multi-class classification: categorical_crossentropy | sparse_categorical_crossentropy\n",
        "              metrics=['accuracy'])"
      ]
    },
    {
      "cell_type": "code",
      "execution_count": 34,
      "metadata": {
        "colab": {
          "base_uri": "https://localhost:8080/"
        },
        "id": "oH_CpfZSeDS2",
        "outputId": "359a10fd-cf42-4172-912d-0c0e76f77611"
      },
      "outputs": [
        {
          "output_type": "execute_result",
          "data": {
            "text/plain": [
              "7"
            ]
          },
          "metadata": {},
          "execution_count": 34
        }
      ],
      "source": [
        "len(trainImageData.filenames) // trainImageData.batch_size"
      ]
    },
    {
      "cell_type": "code",
      "source": [
        "#Callbacks\n",
        "\n",
        "# How to stop the training process if my model has converged successfully?\n",
        "# Convergence Criteria:\n",
        "# 1. Model must be a generalized model ( testScore > trainScore )\n",
        "# 2. Model's Test Score >= CL\n",
        "# Custom Callback which satisfies the above two criteria :)\n",
        "\n",
        "class MyQualityThreshold(tf.keras.callbacks.Callback):\n",
        "  def __init__(self,cl):\n",
        "    super(MyQualityThreshold, self).__init__()\n",
        "    self.cl = cl\n",
        "  \n",
        "  def on_epoch_end(self,epoch,logs=None):\n",
        "    testScore = logs['val_accuracy']\n",
        "    trainScore = logs['accuracy']\n",
        "    #epoch=logs['']\n",
        "\n",
        "    if testScore > trainScore and testScore >= self.cl and epoch > 10:\n",
        "      self.model.stop_training=True"
      ],
      "metadata": {
        "id": "BfynHJzV9UVa"
      },
      "execution_count": 47,
      "outputs": []
    },
    {
      "cell_type": "code",
      "execution_count": 48,
      "metadata": {
        "id": "r7MoBaY8dkef"
      },
      "outputs": [],
      "source": [
        "# Fit the model\n",
        "# batch_size=32\n",
        "# model.fit(trainImageData,\n",
        "#          validation_data=testImageData,\n",
        "#          epochs=10,\n",
        "#          steps_per_epoch = len(trainImageData.filenames) // trainImageData.batch_size, #For training\n",
        "#          validation_steps= len(testImageData.filenames) // testImageData.batch_size) #For testing"
      ]
    },
    {
      "cell_type": "code",
      "source": [
        "# Fit the model\n",
        "# batch_size=32\n",
        "history = model.fit(trainImageData,\n",
        "                    validation_data=testImageData,\n",
        "                    epochs=10,\n",
        "                    steps_per_epoch=len(trainImageData.filenames) // trainImageData.batch_size, #For training\n",
        "                    validation_steps=len(testImageData.filenames) // testImageData.batch_size, #For testing\n",
        "                    callbacks=[MyQualityThreshold(0.8)])"
      ],
      "metadata": {
        "colab": {
          "base_uri": "https://localhost:8080/"
        },
        "id": "cT70mpP9-WJe",
        "outputId": "8275e7b8-ad25-4b51-8ecd-e9b9c1fcfe3a"
      },
      "execution_count": 51,
      "outputs": [
        {
          "output_type": "stream",
          "name": "stdout",
          "text": [
            "Epoch 1/10\n",
            "7/7 [==============================] - 13s 2s/step - loss: 4.3207e-05 - accuracy: 1.0000 - val_loss: 14.6682 - val_accuracy: 0.0625\n",
            "Epoch 2/10\n",
            "7/7 [==============================] - 13s 2s/step - loss: 1.1631e-04 - accuracy: 1.0000 - val_loss: 15.0082 - val_accuracy: 0.0781\n",
            "Epoch 3/10\n",
            "7/7 [==============================] - 12s 2s/step - loss: 1.1769 - accuracy: 0.9286 - val_loss: 8.4199 - val_accuracy: 0.0625\n",
            "Epoch 4/10\n",
            "7/7 [==============================] - 13s 2s/step - loss: 0.0270 - accuracy: 0.9954 - val_loss: 8.4531 - val_accuracy: 0.0625\n",
            "Epoch 5/10\n",
            "7/7 [==============================] - 13s 2s/step - loss: 0.0062 - accuracy: 1.0000 - val_loss: 10.2801 - val_accuracy: 0.0781\n",
            "Epoch 6/10\n",
            "7/7 [==============================] - 13s 2s/step - loss: 3.9107e-04 - accuracy: 1.0000 - val_loss: 11.7402 - val_accuracy: 0.0625\n",
            "Epoch 7/10\n",
            "7/7 [==============================] - 12s 2s/step - loss: 7.0643e-05 - accuracy: 1.0000 - val_loss: 12.2061 - val_accuracy: 0.0625\n",
            "Epoch 8/10\n",
            "7/7 [==============================] - 13s 2s/step - loss: 7.0790e-05 - accuracy: 1.0000 - val_loss: 12.5711 - val_accuracy: 0.0938\n",
            "Epoch 9/10\n",
            "7/7 [==============================] - 12s 2s/step - loss: 1.9794e-05 - accuracy: 1.0000 - val_loss: 13.0807 - val_accuracy: 0.0781\n",
            "Epoch 10/10\n",
            "7/7 [==============================] - 13s 2s/step - loss: 2.6469e-05 - accuracy: 1.0000 - val_loss: 13.7815 - val_accuracy: 0.0625\n"
          ]
        }
      ]
    },
    {
      "cell_type": "code",
      "execution_count": 52,
      "metadata": {
        "id": "bgeF1bc-AYP2"
      },
      "outputs": [],
      "source": [
        "import numpy as np\n",
        "import matplotlib.pyplot as plt\n",
        "%matplotlib inline"
      ]
    },
    {
      "cell_type": "code",
      "execution_count": 53,
      "metadata": {
        "colab": {
          "base_uri": "https://localhost:8080/"
        },
        "id": "KRD9Widn-arc",
        "outputId": "574d0c2c-2a6a-4732-a2ff-2614399f694b"
      },
      "outputs": [
        {
          "output_type": "stream",
          "name": "stdout",
          "text": [
            "[[1. 0. 0.]]\n"
          ]
        }
      ],
      "source": [
        "#Prediction\n",
        "# model\n",
        "#Load an Image\n",
        "imageToPredict = tf.keras.preprocessing.image.load_img('healthy0101.jpeg', target_size=(48, 48))\n",
        "#Step2: Convert image to np array \n",
        "myImageNPArray = tf.keras.preprocessing.image.img_to_array(imageToPredict)\n",
        "# Step3: Make the image compatible for the model by adding n\n",
        "myCompatibleImage = np.expand_dims(myImageNPArray, axis = 0)\n",
        "#Step4: Prediction\n",
        "prediction = model.predict(myCompatibleImage)\n",
        "print(prediction)"
      ]
    },
    {
      "cell_type": "code",
      "execution_count": 54,
      "metadata": {
        "id": "Rrl3E-43ecM0"
      },
      "outputs": [],
      "source": [
        "train_generator = tf.keras.preprocessing.image.ImageDataGenerator(rescale=1.0/255.,\n",
        "                                                                  rotation_range=90,\n",
        "                                                                  zoom_range=0.2,\n",
        "                                                                  horizontal_flip=True,\n",
        "                                                                  vertical_flip=True)\n"
      ]
    },
    {
      "cell_type": "code",
      "source": [
        "#Callbacks\n",
        "\n",
        "# How to stop the training process if my model has converged successfully?\n",
        "# Convergence Criteria:\n",
        "# 1. Model must be a generalized model ( testScore > trainScore )\n",
        "# 2. Model's Test Score >= CL\n",
        "# Custom Callback which satisfies the above two criteria :)\n",
        "\n",
        "class MyQualityThreshold(tf.keras.callbacks.Callback):\n",
        "  def __init__(self,cl):\n",
        "    super(MyQualityThreshold, self).__init__()\n",
        "    self.cl = cl\n",
        "  \n",
        "  def on_epoch_end(self,epoch,logs=None):\n",
        "    testScore = logs['val_accuracy']\n",
        "    trainScore = logs['accuracy']\n",
        "    #epoch=logs['']\n",
        "\n",
        "    if testScore > trainScore and testScore >= self.cl and epoch > 10:\n",
        "      self.model.stop_training=True"
      ],
      "metadata": {
        "id": "kk3qixRNAW_w"
      },
      "execution_count": 55,
      "outputs": []
    },
    {
      "cell_type": "code",
      "execution_count": 57,
      "metadata": {
        "colab": {
          "base_uri": "https://localhost:8080/"
        },
        "id": "gCrM_IauUdL1",
        "outputId": "921408d4-ac22-4eea-ca23-d9a2eede7662"
      },
      "outputs": [
        {
          "output_type": "stream",
          "name": "stdout",
          "text": [
            "Epoch 1/10\n",
            "7/7 [==============================] - 13s 2s/step - loss: 8.7004e-06 - accuracy: 1.0000 - val_loss: 14.3073 - val_accuracy: 0.0781\n",
            "Epoch 2/10\n",
            "7/7 [==============================] - 12s 2s/step - loss: 5.1594e-06 - accuracy: 1.0000 - val_loss: 14.4654 - val_accuracy: 0.0781\n",
            "Epoch 3/10\n",
            "7/7 [==============================] - 12s 2s/step - loss: 6.7659e-06 - accuracy: 1.0000 - val_loss: 14.4470 - val_accuracy: 0.0781\n",
            "Epoch 4/10\n",
            "7/7 [==============================] - 12s 2s/step - loss: 2.4228e-06 - accuracy: 1.0000 - val_loss: 15.1869 - val_accuracy: 0.0781\n",
            "Epoch 5/10\n",
            "7/7 [==============================] - 12s 2s/step - loss: 3.0900e-06 - accuracy: 1.0000 - val_loss: 15.5777 - val_accuracy: 0.1250\n",
            "Epoch 6/10\n",
            "7/7 [==============================] - 13s 2s/step - loss: 1.7233e-06 - accuracy: 1.0000 - val_loss: 15.6976 - val_accuracy: 0.0938\n",
            "Epoch 7/10\n",
            "7/7 [==============================] - 13s 2s/step - loss: 1.1066e-06 - accuracy: 1.0000 - val_loss: 16.6064 - val_accuracy: 0.0938\n",
            "Epoch 8/10\n",
            "7/7 [==============================] - 13s 2s/step - loss: 1.3564e-06 - accuracy: 1.0000 - val_loss: 16.6838 - val_accuracy: 0.0781\n",
            "Epoch 9/10\n",
            "7/7 [==============================] - 12s 2s/step - loss: 6.8757e-07 - accuracy: 1.0000 - val_loss: 16.8809 - val_accuracy: 0.0938\n",
            "Epoch 10/10\n",
            "7/7 [==============================] - 13s 2s/step - loss: 6.7746e-07 - accuracy: 1.0000 - val_loss: 17.5209 - val_accuracy: 0.0781\n"
          ]
        }
      ],
      "source": [
        "# Fit the model after augmentation\n",
        "\n",
        "history = model.fit(trainImageData,\n",
        "                    validation_data=testImageData,\n",
        "                    epochs=10,\n",
        "                    steps_per_epoch=len(trainImageData.filenames) // trainImageData.batch_size, #For training\n",
        "                    validation_steps=len(testImageData.filenames) // testImageData.batch_size, #For testing\n",
        "                    callbacks=[MyQualityThreshold(0.8)])"
      ]
    },
    {
      "cell_type": "code",
      "source": [
        "#Prediction\n",
        "# model\n",
        "#Load an Image\n",
        "imageToPredict = tf.keras.preprocessing.image.load_img('healthy0101.jpeg', target_size=(48, 48))\n",
        "#Step2: Convert image to np array \n",
        "myImageNPArray = tf.keras.preprocessing.image.img_to_array(imageToPredict)\n",
        "# Step3: Make the image compatible for the model by adding n\n",
        "myCompatibleImage = np.expand_dims(myImageNPArray, axis = 0)\n",
        "#Step4: Prediction\n",
        "prediction = model.predict(myCompatibleImage)\n",
        "print(prediction)"
      ],
      "metadata": {
        "colab": {
          "base_uri": "https://localhost:8080/"
        },
        "id": "z4RS_WYUBdrd",
        "outputId": "14a29b47-157f-4a79-aef8-73e68e7153f2"
      },
      "execution_count": 58,
      "outputs": [
        {
          "output_type": "stream",
          "name": "stdout",
          "text": [
            "[[1. 0. 0.]]\n"
          ]
        }
      ]
    },
    {
      "cell_type": "code",
      "execution_count": 43,
      "metadata": {
        "id": "0wzKlQi_Yar5"
      },
      "outputs": [],
      "source": [
        ""
      ]
    },
    {
      "cell_type": "code",
      "execution_count": 44,
      "metadata": {
        "colab": {
          "base_uri": "https://localhost:8080/"
        },
        "id": "jJ-qdPcmZB-Z",
        "outputId": "8c49f5bf-a4c2-4261-bb44-6925a7ce12ac"
      },
      "outputs": [
        {
          "output_type": "stream",
          "name": "stdout",
          "text": [
            "Epoch 1/10\n",
            "7/7 [==============================] - 13s 2s/step - loss: 0.0018 - accuracy: 1.0000 - val_loss: 15.3430 - val_accuracy: 0.2812\n",
            "Epoch 2/10\n",
            "7/7 [==============================] - 12s 2s/step - loss: 2.1405 - accuracy: 0.8265 - val_loss: 7.2746 - val_accuracy: 0.0625\n",
            "Epoch 3/10\n",
            "7/7 [==============================] - 14s 2s/step - loss: 0.0120 - accuracy: 0.9955 - val_loss: 8.9576 - val_accuracy: 0.0312\n",
            "Epoch 4/10\n",
            "7/7 [==============================] - 13s 2s/step - loss: 0.0216 - accuracy: 0.9909 - val_loss: 8.4451 - val_accuracy: 0.0469\n",
            "Epoch 5/10\n",
            "7/7 [==============================] - 13s 2s/step - loss: 0.0014 - accuracy: 1.0000 - val_loss: 9.8068 - val_accuracy: 0.0469\n",
            "Epoch 6/10\n",
            "7/7 [==============================] - 13s 2s/step - loss: 6.8947e-04 - accuracy: 1.0000 - val_loss: 11.2787 - val_accuracy: 0.0469\n",
            "Epoch 7/10\n",
            "7/7 [==============================] - 13s 2s/step - loss: 2.5898e-04 - accuracy: 1.0000 - val_loss: 11.7950 - val_accuracy: 0.0469\n",
            "Epoch 8/10\n",
            "7/7 [==============================] - 13s 2s/step - loss: 1.0529e-04 - accuracy: 1.0000 - val_loss: 12.5179 - val_accuracy: 0.0469\n",
            "Epoch 9/10\n",
            "7/7 [==============================] - 13s 2s/step - loss: 6.7264e-05 - accuracy: 1.0000 - val_loss: 13.1965 - val_accuracy: 0.0469\n",
            "Epoch 10/10\n",
            "7/7 [==============================] - 13s 2s/step - loss: 3.8464e-05 - accuracy: 1.0000 - val_loss: 13.4990 - val_accuracy: 0.0469\n"
          ]
        },
        {
          "output_type": "execute_result",
          "data": {
            "text/plain": [
              "<keras.callbacks.History at 0x7f90d84c4890>"
            ]
          },
          "metadata": {},
          "execution_count": 44
        }
      ],
      "source": [
        ""
      ]
    },
    {
      "cell_type": "code",
      "source": [
        "#Saving Model\n",
        "model.save(\"LungsDiseaseDetector\")"
      ],
      "metadata": {
        "colab": {
          "base_uri": "https://localhost:8080/"
        },
        "id": "vl1XPH9FDbtr",
        "outputId": "4ef7ace8-f096-4bc5-ef2c-bc920b208fde"
      },
      "execution_count": 59,
      "outputs": [
        {
          "output_type": "stream",
          "name": "stdout",
          "text": [
            "INFO:tensorflow:Assets written to: LungsDiseaseDetector/assets\n"
          ]
        }
      ]
    },
    {
      "cell_type": "code",
      "source": [
        "#Deployment Example\n",
        "#Step1: Load an Image\n",
        "import matplotlib.pyplot as plt\n",
        "import numpy as np\n",
        "%matplotlib inline\n",
        "\n",
        "imageToPredict = tf.keras.preprocessing.image.load_img('healthy0101.jpeg', target_size=(48, 48))\n",
        "plt.imshow(imageToPredict)"
      ],
      "metadata": {
        "colab": {
          "base_uri": "https://localhost:8080/",
          "height": 284
        },
        "id": "kYyhCuipDdAv",
        "outputId": "be773e52-24f6-4989-839f-00cd5e4aeb3b"
      },
      "execution_count": 60,
      "outputs": [
        {
          "output_type": "execute_result",
          "data": {
            "text/plain": [
              "<matplotlib.image.AxesImage at 0x7f90d8000090>"
            ]
          },
          "metadata": {},
          "execution_count": 60
        },
        {
          "output_type": "display_data",
          "data": {
            "text/plain": [
              "<Figure size 432x288 with 1 Axes>"
            ],
            "image/png": "[encoded data removed]"
          },
          "metadata": {
            "needs_background": "light"
          }
        }
      ]
    },
    {
      "cell_type": "code",
      "source": [
        "#Step2: Convert image to np array \n",
        "myImageNPArray = tf.keras.preprocessing.image.img_to_array(imageToPredict)\n",
        "\n",
        "myImageNPArray.shape"
      ],
      "metadata": {
        "colab": {
          "base_uri": "https://localhost:8080/"
        },
        "id": "TFV9f9J4DrSB",
        "outputId": "4c1144fc-f7f1-4db5-bb7f-266dc50c1958"
      },
      "execution_count": 61,
      "outputs": [
        {
          "output_type": "execute_result",
          "data": {
            "text/plain": [
              "(48, 48, 3)"
            ]
          },
          "metadata": {},
          "execution_count": 61
        }
      ]
    },
    {
      "cell_type": "code",
      "source": [
        "# Step3: Make the image compatible for the model by adding n\n",
        "myCompatibleImage = np.expand_dims(myImageNPArray, axis = 0)\n",
        "myCompatibleImage.shape"
      ],
      "metadata": {
        "colab": {
          "base_uri": "https://localhost:8080/"
        },
        "id": "VgLYPUgzDvpf",
        "outputId": "fec8a713-ef6c-4d70-b7aa-189ff90a4d60"
      },
      "execution_count": 62,
      "outputs": [
        {
          "output_type": "execute_result",
          "data": {
            "text/plain": [
              "(1, 48, 48, 3)"
            ]
          },
          "metadata": {},
          "execution_count": 62
        }
      ]
    },
    {
      "cell_type": "code",
      "source": [
        "#Step4: Prediction\n",
        "prediction = model.predict(myCompatibleImage)"
      ],
      "metadata": {
        "id": "srOFUcU0Dy3e"
      },
      "execution_count": 63,
      "outputs": []
    },
    {
      "cell_type": "code",
      "source": [
        "prediction"
      ],
      "metadata": {
        "colab": {
          "base_uri": "https://localhost:8080/"
        },
        "id": "hOlG9AjpD2gz",
        "outputId": "244ee768-b1bc-490e-aadc-dd23e8c65856"
      },
      "execution_count": 64,
      "outputs": [
        {
          "output_type": "execute_result",
          "data": {
            "text/plain": [
              "array([[1., 0., 0.]], dtype=float32)"
            ]
          },
          "metadata": {},
          "execution_count": 64
        }
      ]
    },
    {
      "cell_type": "code",
      "source": [
        "list(trainImageData.class_indices)[np.argmax(prediction)]"
      ],
      "metadata": {
        "colab": {
          "base_uri": "https://localhost:8080/",
          "height": 37
        },
        "id": "qaWEMELID_FA",
        "outputId": "d1d5cfaf-893e-4804-93f4-abe1304695d8"
      },
      "execution_count": 66,
      "outputs": [
        {
          "output_type": "execute_result",
          "data": {
            "text/plain": [
              "'Healthy'"
            ],
            "application/vnd.google.colaboratory.intrinsic+json": {
              "type": "string"
            }
          },
          "metadata": {},
          "execution_count": 66
        }
      ]
    }
  ],
  "metadata": {
    "colab": {
      "collapsed_sections": [],
      "name": "CNN_Lung_infection_prediction_raj.ipynb",
      "provenance": [],
      "include_colab_link": true
    },
    "gpuClass": "standard",
    "kernelspec": {
      "display_name": "Python 3 (ipykernel)",
      "language": "python",
      "name": "python3"
    },
    "language_info": {
      "codemirror_mode": {
        "name": "ipython",
        "version": 3
      },
      "file_extension": ".py",
      "mimetype": "text/x-python",
      "name": "python",
      "nbconvert_exporter": "python",
      "pygments_lexer": "ipython3",
      "version": "3.9.12"
    }
  },
  "nbformat": 4,
  "nbformat_minor": 0
}